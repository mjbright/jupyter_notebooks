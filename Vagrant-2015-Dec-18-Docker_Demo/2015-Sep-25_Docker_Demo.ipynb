{
 "cells": [
  {
   "cell_type": "markdown",
   "metadata": {},
   "source": [
    "# 2015-Sep-25 Docker Demos\n",
    "\n",
    "Docker demos run within a [Jupyter](http://jupyter.org) notebook\n"
   ]
  },
  {
   "cell_type": "code",
   "execution_count": 5,
   "metadata": {
    "collapsed": false
   },
   "outputs": [],
   "source": [
    "%alias docker docker"
   ]
  },
  {
   "cell_type": "code",
   "execution_count": 6,
   "metadata": {
    "collapsed": false
   },
   "outputs": [
    {
     "name": "stdout",
     "output_type": "stream",
     "text": [
      "CONTAINER ID        IMAGE               COMMAND             CREATED             STATUS              PORTS               NAMES\r\n"
     ]
    }
   ],
   "source": [
    "docker ps"
   ]
  },
  {
   "cell_type": "code",
   "execution_count": 9,
   "metadata": {
    "collapsed": false
   },
   "outputs": [
    {
     "name": "stdout",
     "output_type": "stream",
     "text": [
      "REPOSITORY          TAG                 IMAGE ID            CREATED             VIRTUAL SIZE\r\n",
      "jupyter/demo        latest              31bc43ff930f        20 hours ago        7.793 GB\r\n",
      "alpine              latest              f4fddc471ec2        12 days ago         5.249 MB\r\n",
      "<none>              <none>              d6449de4bebe        7 weeks ago         6.234 GB\r\n"
     ]
    }
   ],
   "source": [
    "docker images"
   ]
  },
  {
   "cell_type": "code",
   "execution_count": 10,
   "metadata": {
    "collapsed": false
   },
   "outputs": [
    {
     "name": "stdout",
     "output_type": "stream",
     "text": [
      "NAME                                    DESCRIPTION                                     STARS     OFFICIAL   AUTOMATED\r\n",
      "hello-world                             Hello World! (an example of minimal Docker...   23        [OK]       \r\n",
      "tutum/hello-world                       Image to test docker deployments. Has Apac...   12                   [OK]\r\n",
      "diegomarangoni/devops-hello-world-app   Example application for deploying using Co...   1                    [OK]\r\n",
      "marcells/aspnet-hello-world             ASP.NET vNext - Hello World                     1                    [OK]\r\n",
      "sbasyal/java-hello-world                                                                1                    [OK]\r\n",
      "vegasbrianc/docker-hello-world                                                          1                    [OK]\r\n",
      "poojathote/hello-world                  this is 3rd POC                                 0                    [OK]\r\n",
      "davelesser/hello-world                                                                  0                    [OK]\r\n",
      "alexwelch/hello-world                                                                   0                    [OK]\r\n",
      "milkyway/java-hello-world               Java Hello World Test Docker Image              0                    [OK]\r\n",
      "sixeyed/coreclr-hello-world             A simple Hello World sample, running as a ...   0                    [OK]\r\n",
      "rcarun/hello-world                                                                      0                    [OK]\r\n",
      "keithchambers/docker-hello-world                                                        0                    [OK]\r\n",
      "fermayo/hello-world                                                                     0                    [OK]\r\n",
      "svlapin/docker-hello-world              Hello world automated build                     0                    [OK]\r\n",
      "jaimalchohan/hello-world-node-docker    A simple hello world app                        0                    [OK]\r\n",
      "craigbarrau/docker-java-hello-world     This is an automated build of docker java-...   0                    [OK]\r\n",
      "cstrutton/py-hello-world                test image                                      0                    [OK]\r\n",
      "oveits/docker-hello-world               My first automatic build a la https://www....   0                    [OK]\r\n",
      "suryasumukh/hello-world                 A docker auto build test application            0                    [OK]\r\n",
      "cpro/http-hello-world                   Hello world                                     0                    [OK]\r\n",
      "kevto/play2-docker-hello-world          Hello World application in Play2 to test D...   0                    [OK]\r\n",
      "nirmata/hello-world                                                                     0                    [OK]\r\n",
      "crccheck/hello-world                    Hello World web server in under 2.5 MB          0                    [OK]\r\n",
      "adamkdean/hello-world                                                                   0                    [OK]\r\n"
     ]
    }
   ],
   "source": [
    "docker search hello-world"
   ]
  },
  {
   "cell_type": "code",
   "execution_count": 11,
   "metadata": {
    "collapsed": false
   },
   "outputs": [
    {
     "name": "stdout",
     "output_type": "stream",
     "text": [
      "latest: Pulling from hello-world\n",
      "\u001b[0B\n",
      "\u001b[0B\n",
      "\u001b[1Bhello-world:latest: The image you are pulling has been verified. Important: image verification is a tech preview feature and should not be relied on to provide security.\n",
      "\u001b[1BDigest: sha256:02fee8c3220ba806531f606525eceb83f4feb654f62b207191b1c9209188dedd\n",
      "Status: Downloaded newer image for hello-world:latest\n"
     ]
    }
   ],
   "source": [
    "docker pull hello-world"
   ]
  },
  {
   "cell_type": "markdown",
   "metadata": {},
   "source": [
    "## START HERE"
   ]
  },
  {
   "cell_type": "markdown",
   "metadata": {},
   "source": [
    "### The docker binary (client / daemon)\n",
    "\n",
    "Typing 'docker' will list the available options\n"
   ]
  },
  {
   "cell_type": "code",
   "execution_count": 12,
   "metadata": {
    "collapsed": false
   },
   "outputs": [
    {
     "name": "stdout",
     "output_type": "stream",
     "text": [
      "Usage: docker [OPTIONS] COMMAND [arg...]\r\n",
      "\r\n",
      "A self-sufficient runtime for linux containers.\r\n",
      "\r\n",
      "Options:\r\n",
      "\r\n",
      "  --api-cors-header=                   Set CORS headers in the remote API\r\n",
      "  -b, --bridge=                        Attach containers to a network bridge\r\n",
      "  --bip=                               Specify network bridge IP\r\n",
      "  -D, --debug=false                    Enable debug mode\r\n",
      "  -d, --daemon=false                   Enable daemon mode\r\n",
      "  --default-gateway=                   Container default gateway IPv4 address\r\n",
      "  --default-gateway-v6=                Container default gateway IPv6 address\r\n",
      "  --default-ulimit=[]                  Set default ulimits for containers\r\n",
      "  --dns=[]                             DNS server to use\r\n",
      "  --dns-search=[]                      DNS search domains to use\r\n",
      "  -e, --exec-driver=native             Exec driver to use\r\n",
      "  --exec-opt=[]                        Set exec driver options\r\n",
      "  --exec-root=/var/run/docker          Root of the Docker execdriver\r\n",
      "  --fixed-cidr=                        IPv4 subnet for fixed IPs\r\n",
      "  --fixed-cidr-v6=                     IPv6 subnet for fixed IPs\r\n",
      "  -G, --group=docker                   Group for the unix socket\r\n",
      "  -g, --graph=/var/lib/docker          Root of the Docker runtime\r\n",
      "  -H, --host=[]                        Daemon socket(s) to connect to\r\n",
      "  -h, --help=false                     Print usage\r\n",
      "  --icc=true                           Enable inter-container communication\r\n",
      "  --insecure-registry=[]               Enable insecure registry communication\r\n",
      "  --ip=0.0.0.0                         Default IP when binding container ports\r\n",
      "  --ip-forward=true                    Enable net.ipv4.ip_forward\r\n",
      "  --ip-masq=true                       Enable IP masquerading\r\n",
      "  --iptables=true                      Enable addition of iptables rules\r\n",
      "  --ipv6=false                         Enable IPv6 networking\r\n",
      "  -l, --log-level=info                 Set the logging level\r\n",
      "  --label=[]                           Set key=value labels to the daemon\r\n",
      "  --log-driver=json-file               Default driver for container logs\r\n",
      "  --log-opt=map[]                      Set log driver options\r\n",
      "  --mtu=0                              Set the containers network MTU\r\n",
      "  -p, --pidfile=/var/run/docker.pid    Path to use for daemon PID file\r\n",
      "  --registry-mirror=[]                 Preferred Docker registry mirror\r\n",
      "  -s, --storage-driver=                Storage driver to use\r\n",
      "  --selinux-enabled=false              Enable selinux support\r\n",
      "  --storage-opt=[]                     Set storage driver options\r\n",
      "  --tls=false                          Use TLS; implied by --tlsverify\r\n",
      "  --tlscacert=~/.docker/ca.pem         Trust certs signed only by this CA\r\n",
      "  --tlscert=~/.docker/cert.pem         Path to TLS certificate file\r\n",
      "  --tlskey=~/.docker/key.pem           Path to TLS key file\r\n",
      "  --tlsverify=false                    Use TLS and verify the remote\r\n",
      "  --userland-proxy=true                Use userland proxy for loopback traffic\r\n",
      "  -v, --version=false                  Print version information and quit\r\n",
      "\r\n",
      "Commands:\r\n",
      "    attach    Attach to a running container\r\n",
      "    build     Build an image from a Dockerfile\r\n",
      "    commit    Create a new image from a container's changes\r\n",
      "    cp        Copy files/folders from a container's filesystem to the host path\r\n",
      "    create    Create a new container\r\n",
      "    diff      Inspect changes on a container's filesystem\r\n",
      "    events    Get real time events from the server\r\n",
      "    exec      Run a command in a running container\r\n",
      "    export    Stream the contents of a container as a tar archive\r\n",
      "    history   Show the history of an image\r\n",
      "    images    List images\r\n",
      "    import    Create a new filesystem image from the contents of a tarball\r\n",
      "    info      Display system-wide information\r\n",
      "    inspect   Return low-level information on a container or image\r\n",
      "    kill      Kill a running container\r\n",
      "    load      Load an image from a tar archive\r\n",
      "    login     Register or log in to a Docker registry server\r\n",
      "    logout    Log out from a Docker registry server\r\n",
      "    logs      Fetch the logs of a container\r\n",
      "    pause     Pause all processes within a container\r\n",
      "    port      Lookup the public-facing port that is NAT-ed to PRIVATE_PORT\r\n",
      "    ps        List containers\r\n",
      "    pull      Pull an image or a repository from a Docker registry server\r\n",
      "    push      Push an image or a repository to a Docker registry server\r\n",
      "    rename    Rename an existing container\r\n",
      "    restart   Restart a running container\r\n",
      "    rm        Remove one or more containers\r\n",
      "    rmi       Remove one or more images\r\n",
      "    run       Run a command in a new container\r\n",
      "    save      Save an image to a tar archive\r\n",
      "    search    Search for an image on the Docker Hub\r\n",
      "    start     Start a stopped container\r\n",
      "    stats     Display a stream of a containers' resource usage statistics\r\n",
      "    stop      Stop a running container\r\n",
      "    tag       Tag an image into a repository\r\n",
      "    top       Lookup the running processes of a container\r\n",
      "    unpause   Unpause a paused container\r\n",
      "    version   Show the Docker version information\r\n",
      "    wait      Block until a container stops, then print its exit code\r\n",
      "\r\n",
      "Run 'docker COMMAND --help' for more information on a command.\r\n"
     ]
    }
   ],
   "source": [
    "docker"
   ]
  },
  {
   "cell_type": "markdown",
   "metadata": {},
   "source": [
    "### Docker environment (client -> server)\n",
    "\n",
    "Let's find some information about our docker environment\n",
    "\n",
    "In fact my Docker client is a windows build and I need it to connect to a Docker daemon (the Docker engine)\n",
    "running under VirtualBox on the same machine\n",
    "\n",
    "I've set the DOCKER_HOST environment so that the docker client will know how to connect to the\n",
    "Docker daemon.\n",
    "\n",
    "**Note**: we can also specify the docker host on the command line with the '-H' option, e.g.\n",
    "    docker -H 127.0.0.1:2400 version\n"
   ]
  },
  {
   "cell_type": "markdown",
   "metadata": {},
   "source": [
    "Running the 'docker version' command will tell us what client version we are running,\n",
    "and it will also connect to the docker engine and tell us what version it is running.\n",
    "\n",
    "The API version often changes with client/server major version.\n",
    "\n",
    "Below we see that the client is a Win64 executable, version 1.7.0 with API version 1.19\n",
    "\n",
    "We also see that the server is a Linux64 executable, version 1.7.1 also with API version 1.19\n",
    "\n",
    "So our client/server are compatible"
   ]
  },
  {
   "cell_type": "code",
   "execution_count": 13,
   "metadata": {
    "collapsed": false
   },
   "outputs": [
    {
     "name": "stdout",
     "output_type": "stream",
     "text": [
      "Client version: 1.7.1\r\n",
      "Client API version: 1.19\r\n",
      "Go version (client): go1.4.2\r\n",
      "Git commit (client): 786b29d\r\n",
      "OS/Arch (client): linux/amd64\r\n",
      "Server version: 1.7.1\r\n",
      "Server API version: 1.19\r\n",
      "Go version (server): go1.4.2\r\n",
      "Git commit (server): 786b29d\r\n",
      "OS/Arch (server): linux/amd64\r\n"
     ]
    }
   ],
   "source": [
    "docker version"
   ]
  },
  {
   "cell_type": "markdown",
   "metadata": {},
   "source": [
    "We can also get more information about our Docker engine (the daemon or server)\n",
    "with the 'docker info' command\n",
    "\n",
    "We see the currently number of running containers and the number of image (layers) stored locally\n",
    "on the engine"
   ]
  },
  {
   "cell_type": "code",
   "execution_count": 14,
   "metadata": {
    "collapsed": false
   },
   "outputs": [
    {
     "name": "stdout",
     "output_type": "stream",
     "text": [
      "Containers: 0\r\n",
      "Images: 143\r\n",
      "Storage Driver: aufs\r\n",
      " Root Dir: /var/lib/docker/aufs\r\n",
      " Backing Filesystem: extfs\r\n",
      " Dirs: 143\r\n",
      " Dirperm1 Supported: false\r\n",
      "Execution Driver: native-0.2\r\n",
      "Logging Driver: json-file\r\n",
      "Kernel Version: 3.13.0-61-generic\r\n",
      "Operating System: Ubuntu 14.04.2 LTS\r\n",
      "CPUs: 1\r\n",
      "Total Memory: 1.955 GiB\r\n",
      "Name: localhost\r\n",
      "ID: KA6Y:ZDFF:3WZG:M6S2:M2ES:DTKU:WI3M:7YUY:4PIL:FECS:JWRU:AFTS\r\n",
      "WARNING: No swap limit support\r\n"
     ]
    }
   ],
   "source": [
    "docker info"
   ]
  },
  {
   "cell_type": "markdown",
   "metadata": {},
   "source": [
    "### List the currently running processes\n",
    "\n",
    "**Note**: This is a list of running container instances, each of which is started from a particular image.\n",
    "          But we could have multiple containers running from the same image\n",
    "          (in fact they will have a separate list of additional layers specific to that container instance)"
   ]
  },
  {
   "cell_type": "code",
   "execution_count": 15,
   "metadata": {
    "collapsed": false
   },
   "outputs": [
    {
     "name": "stdout",
     "output_type": "stream",
     "text": [
      "CONTAINER ID        IMAGE               COMMAND             CREATED             STATUS              PORTS               NAMES\r\n"
     ]
    }
   ],
   "source": [
    "docker ps"
   ]
  },
  {
   "cell_type": "markdown",
   "metadata": {},
   "source": [
    "### Listing the available images on the local system\n",
    "\n",
    "Local images can be\n",
    "- locally built images\n",
    "- images pulled from a Docker registry (such as the public [Docker Hub](https://hub.docker.com/))\n",
    "\n",
    "Let's list the local images, see below."
   ]
  },
  {
   "cell_type": "code",
   "execution_count": 21,
   "metadata": {
    "collapsed": false
   },
   "outputs": [
    {
     "name": "stdout",
     "output_type": "stream",
     "text": [
      "REPOSITORY          TAG                 IMAGE ID            CREATED             VIRTUAL SIZE\r\n",
      "jupyter/demo        latest              31bc43ff930f        20 hours ago        7.793 GB\r\n",
      "alpine              latest              f4fddc471ec2        12 days ago         5.249 MB\r\n"
     ]
    }
   ],
   "source": [
    "docker images"
   ]
  },
  {
   "cell_type": "markdown",
   "metadata": {},
   "source": [
    "But why don't we see the same number of images as with the 'info' sub-command?\n",
    "\n",
    "Let's look at the help for 'images'"
   ]
  },
  {
   "cell_type": "code",
   "execution_count": 22,
   "metadata": {
    "collapsed": false
   },
   "outputs": [
    {
     "name": "stdout",
     "output_type": "stream",
     "text": [
      "\r\n",
      "Usage: docker images [OPTIONS] [REPOSITORY]\r\n",
      "\r\n",
      "List images\r\n",
      "\r\n",
      "  -a, --all=false      Show all images (default hides intermediate images)\r\n",
      "  --digests=false      Show digests\r\n",
      "  -f, --filter=[]      Filter output based on conditions provided\r\n",
      "  --help=false         Print usage\r\n",
      "  --no-trunc=false     Don't truncate output\r\n",
      "  -q, --quiet=false    Only show numeric IDs\r\n"
     ]
    }
   ],
   "source": [
    "docker help images"
   ]
  },
  {
   "cell_type": "markdown",
   "metadata": {},
   "source": [
    "So we see that we can also list all intermediate images by using the '-a' option.\n"
   ]
  },
  {
   "cell_type": "code",
   "execution_count": 23,
   "metadata": {
    "collapsed": false
   },
   "outputs": [
    {
     "name": "stdout",
     "output_type": "stream",
     "text": [
      "REPOSITORY          TAG                 IMAGE ID            CREATED             VIRTUAL SIZE\r\n",
      "jupyter/demo        latest              31bc43ff930f        20 hours ago        7.793 GB\r\n",
      "<none>              <none>              8a2ef6b62bbc        20 hours ago        7.793 GB\r\n",
      "<none>              <none>              e14f856ebf7c        20 hours ago        7.793 GB\r\n",
      "<none>              <none>              cea4794bef8c        20 hours ago        7.793 GB\r\n",
      "<none>              <none>              d4cd4a8e7b86        20 hours ago        7.793 GB\r\n",
      "<none>              <none>              b2f17ededc31        20 hours ago        7.793 GB\r\n",
      "<none>              <none>              09eba4afc6ae        20 hours ago        6.919 GB\r\n",
      "<none>              <none>              93d965764d97        20 hours ago        6.919 GB\r\n",
      "<none>              <none>              53a86245fd88        20 hours ago        6.919 GB\r\n",
      "<none>              <none>              03c8b807213d        20 hours ago        6.919 GB\r\n",
      "<none>              <none>              105e1928b557        30 hours ago        6.746 GB\r\n",
      "<none>              <none>              f60dcacae493        30 hours ago        6.748 GB\r\n",
      "<none>              <none>              820900a890ec        30 hours ago        6.746 GB\r\n",
      "<none>              <none>              ea3299295690        30 hours ago        6.676 GB\r\n",
      "<none>              <none>              728080fb2d6b        30 hours ago        6.676 GB\r\n",
      "<none>              <none>              0f11a2e734f6        30 hours ago        6.676 GB\r\n",
      "<none>              <none>              7c6a837a11ec        2 days ago          6.172 GB\r\n",
      "<none>              <none>              3e61674c1794        2 days ago          6.056 GB\r\n",
      "<none>              <none>              a0b1ef7c0ff9        2 days ago          6.043 GB\r\n",
      "<none>              <none>              927f44a3ef70        2 days ago          5.638 GB\r\n",
      "<none>              <none>              f160b0e73270        2 days ago          5.638 GB\r\n",
      "<none>              <none>              531657b1a93f        2 days ago          5.638 GB\r\n",
      "<none>              <none>              42f81ad3268d        2 days ago          5.638 GB\r\n",
      "<none>              <none>              69f5c7fe02ad        2 days ago          4.773 GB\r\n",
      "<none>              <none>              82edee5d6996        2 days ago          4.057 GB\r\n",
      "<none>              <none>              6c42281c5bf3        2 days ago          4.057 GB\r\n",
      "<none>              <none>              43f5c8770619        2 days ago          4.057 GB\r\n",
      "<none>              <none>              19c07ef8002a        2 days ago          4.057 GB\r\n",
      "<none>              <none>              09901bcb87a2        2 days ago          4.057 GB\r\n",
      "<none>              <none>              2622b211b307        2 days ago          3.911 GB\r\n",
      "<none>              <none>              ba10bf875fa3        2 days ago          3.629 GB\r\n",
      "<none>              <none>              c9a59cd36b9f        2 days ago          3.526 GB\r\n",
      "<none>              <none>              de0c28f06ae1        2 days ago          3.526 GB\r\n",
      "<none>              <none>              21886eb6df9d        2 days ago          3.011 GB\r\n",
      "<none>              <none>              194900f641de        2 days ago          2.852 GB\r\n",
      "<none>              <none>              bd7ce071bd50        2 days ago          2.796 GB\r\n",
      "<none>              <none>              0cd029015e28        2 days ago          2.31 GB\r\n",
      "<none>              <none>              f81dd0524f71        2 days ago          2.279 GB\r\n",
      "<none>              <none>              2caa65264347        2 days ago          2.161 GB\r\n",
      "<none>              <none>              636ba3f48f69        2 days ago          2.161 GB\r\n",
      "<none>              <none>              e2908ff99f3b        2 days ago          2.161 GB\r\n",
      "<none>              <none>              71c84a703df0        2 days ago          2.161 GB\r\n",
      "<none>              <none>              873cc11b3618        2 days ago          2.161 GB\r\n",
      "<none>              <none>              244ed6787055        2 days ago          2.161 GB\r\n",
      "<none>              <none>              3ed3fb3a716a        2 days ago          2.161 GB\r\n",
      "<none>              <none>              5352c6812394        2 days ago          2.161 GB\r\n",
      "<none>              <none>              605d74f9e818        2 days ago          2.161 GB\r\n",
      "<none>              <none>              f82140988fd5        2 days ago          2.161 GB\r\n",
      "<none>              <none>              a3b836ee0ff0        2 days ago          1.812 GB\r\n",
      "<none>              <none>              5899f957f12c        2 days ago          1.753 GB\r\n",
      "<none>              <none>              42de6c4d6365        2 days ago          1.428 GB\r\n",
      "<none>              <none>              3ce8646dbe6f        2 days ago          1.428 GB\r\n",
      "<none>              <none>              5ab78992c2c4        2 days ago          1.428 GB\r\n",
      "<none>              <none>              113591f4e439        2 days ago          1.428 GB\r\n",
      "<none>              <none>              807cd1c59f97        2 days ago          1.428 GB\r\n",
      "<none>              <none>              a0b10649b3b4        2 days ago          1.428 GB\r\n",
      "<none>              <none>              63309bc078de        2 days ago          1.428 GB\r\n",
      "<none>              <none>              48080a7a218f        2 days ago          125.2 MB\r\n",
      "<none>              <none>              a6744562bede        2 days ago          125.2 MB\r\n",
      "<none>              <none>              cb8b6379fbb7        2 days ago          125.2 MB\r\n",
      "alpine              latest              f4fddc471ec2        12 days ago         5.249 MB\r\n",
      "<none>              <none>              8c00acfb0175        2 weeks ago         125.2 MB\r\n",
      "<none>              <none>              843e2bded498        2 weeks ago         125.2 MB\r\n"
     ]
    }
   ],
   "source": [
    "docker images -a"
   ]
  },
  {
   "cell_type": "markdown",
   "metadata": {},
   "source": [
    "Note: The info command tells us how many image (image-layers) are present but 'docker images' command will list only the\n",
    "    named layers.  To list all the intermediate layers we will use the '-a' option"
   ]
  },
  {
   "cell_type": "markdown",
   "metadata": {},
   "source": [
    "We'll look at those images again later"
   ]
  },
  {
   "cell_type": "code",
   "execution_count": 24,
   "metadata": {
    "collapsed": false
   },
   "outputs": [
    {
     "name": "stdout",
     "output_type": "stream",
     "text": [
      "REPOSITORY          TAG                 IMAGE ID            CREATED             VIRTUAL SIZE\r\n",
      "jupyter/demo        latest              31bc43ff930f        20 hours ago        7.793 GB\r\n",
      "alpine              latest              f4fddc471ec2        12 days ago         5.249 MB\r\n"
     ]
    }
   ],
   "source": [
    "docker images"
   ]
  },
  {
   "cell_type": "markdown",
   "metadata": {},
   "source": [
    "### Searching for images on [Docker Hub](https://hub.docker.com/).\n",
    "\n",
    "Let's search for available 'hello-world' images.\n",
    "\n",
    "First let's look to see what options are available to the docker 'search' sub-command"
   ]
  },
  {
   "cell_type": "code",
   "execution_count": 25,
   "metadata": {
    "collapsed": false
   },
   "outputs": [
    {
     "name": "stdout",
     "output_type": "stream",
     "text": [
      "\r\n",
      "Usage: docker search [OPTIONS] TERM\r\n",
      "\r\n",
      "Search the Docker Hub for images\r\n",
      "\r\n",
      "  --automated=false    Only show automated builds\r\n",
      "  --help=false         Print usage\r\n",
      "  --no-trunc=false     Don't truncate output\r\n",
      "  -s, --stars=0        Only displays with at least x stars\r\n"
     ]
    }
   ],
   "source": [
    "docker help search"
   ]
  },
  {
   "cell_type": "markdown",
   "metadata": {},
   "source": [
    "Now let's search for hello-world"
   ]
  },
  {
   "cell_type": "code",
   "execution_count": 26,
   "metadata": {
    "collapsed": false
   },
   "outputs": [
    {
     "name": "stdout",
     "output_type": "stream",
     "text": [
      "IMAGE               CREATED             CREATED BY                                      SIZE                COMMENT\r\n",
      "f4fddc471ec2        12 days ago         /bin/sh -c #(nop) ADD file:43a95cc218d164ff58   5.249 MB            \r\n"
     ]
    }
   ],
   "source": [
    "docker history alpine"
   ]
  },
  {
   "cell_type": "code",
   "execution_count": 27,
   "metadata": {
    "collapsed": false
   },
   "outputs": [
    {
     "name": "stdout",
     "output_type": "stream",
     "text": [
      "NAME                                    DESCRIPTION                                     STARS     OFFICIAL   AUTOMATED\r\n",
      "hello-world                             Hello World! (an example of minimal Docker...   23        [OK]       \r\n",
      "tutum/hello-world                       Image to test docker deployments. Has Apac...   12                   [OK]\r\n",
      "diegomarangoni/devops-hello-world-app   Example application for deploying using Co...   1                    [OK]\r\n",
      "marcells/aspnet-hello-world             ASP.NET vNext - Hello World                     1                    [OK]\r\n",
      "sbasyal/java-hello-world                                                                1                    [OK]\r\n",
      "vegasbrianc/docker-hello-world                                                          1                    [OK]\r\n",
      "poojathote/hello-world                  this is 3rd POC                                 0                    [OK]\r\n",
      "davelesser/hello-world                                                                  0                    [OK]\r\n",
      "alexwelch/hello-world                                                                   0                    [OK]\r\n",
      "milkyway/java-hello-world               Java Hello World Test Docker Image              0                    [OK]\r\n",
      "sixeyed/coreclr-hello-world             A simple Hello World sample, running as a ...   0                    [OK]\r\n",
      "rcarun/hello-world                                                                      0                    [OK]\r\n",
      "keithchambers/docker-hello-world                                                        0                    [OK]\r\n",
      "svlapin/docker-hello-world              Hello world automated build                     0                    [OK]\r\n",
      "fermayo/hello-world                                                                     0                    [OK]\r\n",
      "jaimalchohan/hello-world-node-docker    A simple hello world app                        0                    [OK]\r\n",
      "craigbarrau/docker-java-hello-world     This is an automated build of docker java-...   0                    [OK]\r\n",
      "cstrutton/py-hello-world                test image                                      0                    [OK]\r\n",
      "oveits/docker-hello-world               My first automatic build a la https://www....   0                    [OK]\r\n",
      "suryasumukh/hello-world                 A docker auto build test application            0                    [OK]\r\n",
      "cpro/http-hello-world                   Hello world                                     0                    [OK]\r\n",
      "kevto/play2-docker-hello-world          Hello World application in Play2 to test D...   0                    [OK]\r\n",
      "nirmata/hello-world                                                                     0                    [OK]\r\n",
      "crccheck/hello-world                    Hello World web server in under 2.5 MB          0                    [OK]\r\n",
      "adamkdean/hello-world                                                                   0                    [OK]\r\n"
     ]
    }
   ],
   "source": [
    "docker search hello-world"
   ]
  },
  {
   "cell_type": "markdown",
   "metadata": {},
   "source": [
    "There are many 'hello-world' images available, let's see how we can refine our search.\n",
    "\n",
    "Let's search for **automated build** images (automatically built from a public **git** source), with at least 10 stars"
   ]
  },
  {
   "cell_type": "code",
   "execution_count": 28,
   "metadata": {
    "collapsed": false
   },
   "outputs": [
    {
     "name": "stdout",
     "output_type": "stream",
     "text": [
      "NAME                                    DESCRIPTION                                     STARS     OFFICIAL   AUTOMATED\r\n",
      "tutum/hello-world                       Image to test docker deployments. Has Apac...   12                   [OK]\r\n",
      "diegomarangoni/devops-hello-world-app   Example application for deploying using Co...   1                    [OK]\r\n",
      "marcells/aspnet-hello-world             ASP.NET vNext - Hello World                     1                    [OK]\r\n",
      "sbasyal/java-hello-world                                                                1                    [OK]\r\n",
      "vegasbrianc/docker-hello-world                                                          1                    [OK]\r\n",
      "poojathote/hello-world                  this is 3rd POC                                 0                    [OK]\r\n",
      "davelesser/hello-world                                                                  0                    [OK]\r\n",
      "alexwelch/hello-world                                                                   0                    [OK]\r\n",
      "milkyway/java-hello-world               Java Hello World Test Docker Image              0                    [OK]\r\n",
      "sixeyed/coreclr-hello-world             A simple Hello World sample, running as a ...   0                    [OK]\r\n",
      "rcarun/hello-world                                                                      0                    [OK]\r\n",
      "keithchambers/docker-hello-world                                                        0                    [OK]\r\n",
      "fermayo/hello-world                                                                     0                    [OK]\r\n",
      "svlapin/docker-hello-world              Hello world automated build                     0                    [OK]\r\n",
      "jaimalchohan/hello-world-node-docker    A simple hello world app                        0                    [OK]\r\n",
      "craigbarrau/docker-java-hello-world     This is an automated build of docker java-...   0                    [OK]\r\n",
      "cstrutton/py-hello-world                test image                                      0                    [OK]\r\n",
      "oveits/docker-hello-world               My first automatic build a la https://www....   0                    [OK]\r\n",
      "suryasumukh/hello-world                 A docker auto build test application            0                    [OK]\r\n",
      "cpro/http-hello-world                   Hello world                                     0                    [OK]\r\n",
      "kevto/play2-docker-hello-world          Hello World application in Play2 to test D...   0                    [OK]\r\n",
      "nirmata/hello-world                                                                     0                    [OK]\r\n",
      "crccheck/hello-world                    Hello World web server in under 2.5 MB          0                    [OK]\r\n",
      "adamkdean/hello-world                                                                   0                    [OK]\r\n"
     ]
    }
   ],
   "source": [
    "docker search --automated=true hello-world"
   ]
  },
  {
   "cell_type": "markdown",
   "metadata": {},
   "source": [
    "This has reduced the search.\n",
    "\n",
    "But unfortunately there is no flag to select **official** builds, so we have not selected the image we want.\n",
    "\n",
    "Let's search for **starred** images (up-voted by [Docker Hub](https://hub.docker.com/) users), with at least 10 stars"
   ]
  },
  {
   "cell_type": "code",
   "execution_count": 29,
   "metadata": {
    "collapsed": false
   },
   "outputs": [
    {
     "name": "stdout",
     "output_type": "stream",
     "text": [
      "NAME                DESCRIPTION                                     STARS     OFFICIAL   AUTOMATED\r\n",
      "hello-world         Hello World! (an example of minimal Docker...   23        [OK]       \r\n",
      "tutum/hello-world   Image to test docker deployments. Has Apac...   12                   [OK]\r\n"
     ]
    }
   ],
   "source": [
    "docker search -s 10 hello-world"
   ]
  },
  {
   "cell_type": "markdown",
   "metadata": {},
   "source": [
    "This was just an exercise in searching.\n",
    "\n",
    "We know that it is the first entry 'hello-world' which is the Docker official 'hello-world' that we're searching for, so we will use that.\n",
    "\n",
    "Before downloading that image, let's first look for some more interesting image.\n",
    "\n",
    "Any suggestion?\n",
    "\n",
    "How about a Ruby-on-Rails image, that's a pretty tough environment to manage, having a Docker image already built would be a fantastic help for a Rails user.\n",
    "\n",
    "So let's search for '**rails**'"
   ]
  },
  {
   "cell_type": "code",
   "execution_count": 30,
   "metadata": {
    "collapsed": false
   },
   "outputs": [
    {
     "name": "stdout",
     "output_type": "stream",
     "text": [
      "NAME                       DESCRIPTION                                     STARS     OFFICIAL   AUTOMATED\r\n",
      "rails                      Rails is an open-source web application fr...   302       [OK]       \r\n",
      "redmine                    Redmine is a flexible project management w...   22        [OK]       \r\n",
      "finnlabs/rails             Base image for Rails applications followin...   5                    [OK]\r\n",
      "erikap/passenger-rails     Hosting a Rails production app in Phusion ...   3                    [OK]\r\n",
      "lucio/rails                Latest Ruby on Rails on Ubuntu Trusty           2                    [OK]\r\n",
      "spartan/rails                                                              2                    [OK]\r\n",
      "flatcar/alpine-rails       Alpine-based Rails image                        1                    [OK]\r\n",
      "tenstartups/rails                                                          1                    [OK]\r\n",
      "voxxit/rails                                                               1                    [OK]\r\n",
      "instedd/nginx-rails        nginx rails                                     1                    [OK]\r\n",
      "centurylink/alpine-rails   Lightweight Rails image based on Alpine Linux   1                    [OK]\r\n",
      "zazo/rails                                                                 1                    [OK]\r\n",
      "yverry/cryptcheck-rails    Cryptcheck rails perform a deep TLS scan a...   1                    [OK]\r\n",
      "dharmamike/pmx-rails       This is a base Rails app meant only for ex...   1                    [OK]\r\n",
      "newsdev/rails              rails                                           0                    [OK]\r\n",
      "bantl23/rails              rails development                               0                    [OK]\r\n",
      "quirky/rails                                                               0                    [OK]\r\n",
      "minimum2scp/rails4         Rails 4.x and RDBMS client, headers instal...   0                    [OK]\r\n",
      "haggen/rails                                                               0                    [OK]\r\n",
      "k0ner/alpine-rails         rails over alpine                               0                    [OK]\r\n",
      "shakr/rails                Rails base image for docker                     0                    [OK]\r\n",
      "codeship/alpine-rails      Alpine-based Rails image                        0                    [OK]\r\n",
      "carsocial/rails                                                            0                    [OK]\r\n",
      "zumbrunnen/rails           Ruby on Rails image, using Passenger Stand...   0                    [OK]\r\n",
      "cloudgear/rails            Smallest Rails optimized image with build ...   0                    [OK]\r\n"
     ]
    }
   ],
   "source": [
    "docker search rails"
   ]
  },
  {
   "cell_type": "markdown",
   "metadata": {},
   "source": [
    "Excellent !\n",
    "\n",
    "There's a vast choice of images of different origins\n",
    "- 2 official builds\n",
    "- many automated builds (from github sources)"
   ]
  },
  {
   "cell_type": "markdown",
   "metadata": {},
   "source": [
    "### Looking at available images on the public [Docker Hub](https://hub.docker.com/) website\n",
    "\n",
    "Let's have a look on the [Docker Hub](https://hub.docker.com/) to learn about those official builds.\n",
    "\n",
    "Goto [Search for 'rails' on Docker Hub](https://hub.docker.com/search/?q=rails&page=1&isAutomated=0&isOfficial=0&starCount=0&pullCount=0)\n",
    "\n",
    "Let's look at my images on [Docker Hub](https://hub.docker.com/)\n",
    "\n",
    "<!-- There we will see .. -->\n"
   ]
  },
  {
   "cell_type": "markdown",
   "metadata": {},
   "source": [
    "### Pulling and running an image\n",
    "\n",
    "We could just run\n",
    ">    docker run hello-world\n",
    "\n",
    "and the image will be downloaded if not present locally.\n",
    "\n",
    "But to show the downloading we will first pull the image\n",
    "then run it\n",
    "\n",
    "So we will **pull** the image and **then** run it\n"
   ]
  },
  {
   "cell_type": "code",
   "execution_count": 31,
   "metadata": {
    "collapsed": false
   },
   "outputs": [
    {
     "name": "stdout",
     "output_type": "stream",
     "text": [
      "latest: Pulling from hello-world\n",
      "\u001b[0B\n",
      "\u001b[0B\n",
      "\u001b[1Bhello-world:latest: The image you are pulling has been verified. Important: image verification is a tech preview feature and should not be relied on to provide security.\n",
      "\u001b[1BDigest: sha256:02fee8c3220ba806531f606525eceb83f4feb654f62b207191b1c9209188dedd\n",
      "Status: Downloaded newer image for hello-world:latest\n"
     ]
    }
   ],
   "source": [
    "docker pull hello-world"
   ]
  },
  {
   "cell_type": "code",
   "execution_count": 32,
   "metadata": {
    "collapsed": false
   },
   "outputs": [
    {
     "name": "stdout",
     "output_type": "stream",
     "text": [
      "\r\n",
      "Hello from Docker.\r\n",
      "This message shows that your installation appears to be working correctly.\r\n",
      "\r\n",
      "To generate this message, Docker took the following steps:\r\n",
      " 1. The Docker client contacted the Docker daemon.\r\n",
      " 2. The Docker daemon pulled the \"hello-world\" image from the Docker Hub.\r\n",
      " 3. The Docker daemon created a new container from that image which runs the\r\n",
      "    executable that produces the output you are currently reading.\r\n",
      " 4. The Docker daemon streamed that output to the Docker client, which sent it\r\n",
      "    to your terminal.\r\n",
      "\r\n",
      "To try something more ambitious, you can run an Ubuntu container with:\r\n",
      " $ docker run -it ubuntu bash\r\n",
      "\r\n",
      "Share images, automate workflows, and more with a free Docker Hub account:\r\n",
      " https://hub.docker.com\r\n",
      "\r\n",
      "For more examples and ideas, visit:\r\n",
      " https://docs.docker.com/userguide/\r\n",
      "\r\n"
     ]
    }
   ],
   "source": [
    "docker run hello-world"
   ]
  },
  {
   "cell_type": "markdown",
   "metadata": {},
   "source": [
    "So the Docker provided 'hello-world' program simply prints a message.\n",
    "\n",
    "We can list the images now on the system, and we see that this image is **really small**, in fact it's\n",
    "960 bytes.\n",
    "\n",
    "Note the other images on the system\n",
    "- 'alpine' if present is a very small linux system image of about 5MBytes\n",
    "  It is purposefully small to provide a minimal linux command-line image\n",
    "- 'several' other images of several GBytes\n",
    "\n",
    "This demonstrates that images can contain a whole operating system, whether they are used\n",
    "to run 1, several or many processes\n"
   ]
  },
  {
   "cell_type": "code",
   "execution_count": 33,
   "metadata": {
    "collapsed": false
   },
   "outputs": [
    {
     "name": "stdout",
     "output_type": "stream",
     "text": [
      "REPOSITORY          TAG                 IMAGE ID            CREATED             VIRTUAL SIZE\r\n",
      "jupyter/demo        latest              31bc43ff930f        20 hours ago        7.793 GB\r\n",
      "alpine              latest              f4fddc471ec2        12 days ago         5.249 MB\r\n",
      "hello-world         latest              af340544ed62        7 weeks ago         960 B\r\n"
     ]
    }
   ],
   "source": [
    "docker images"
   ]
  },
  {
   "cell_type": "code",
   "execution_count": 34,
   "metadata": {
    "collapsed": false
   },
   "outputs": [
    {
     "name": "stdout",
     "output_type": "stream",
     "text": [
      "\r\n",
      "Usage: docker images [OPTIONS] [REPOSITORY]\r\n",
      "\r\n",
      "List images\r\n",
      "\r\n",
      "  -a, --all=false      Show all images (default hides intermediate images)\r\n",
      "  --digests=false      Show digests\r\n",
      "  -f, --filter=[]      Filter output based on conditions provided\r\n",
      "  --help=false         Print usage\r\n",
      "  --no-trunc=false     Don't truncate output\r\n",
      "  -q, --quiet=false    Only show numeric IDs\r\n"
     ]
    }
   ],
   "source": [
    "docker help images"
   ]
  },
  {
   "cell_type": "code",
   "execution_count": 35,
   "metadata": {
    "collapsed": false
   },
   "outputs": [
    {
     "name": "stdout",
     "output_type": "stream",
     "text": [
      "REPOSITORY          TAG                 IMAGE ID            CREATED             VIRTUAL SIZE\r\n",
      "hello-world         latest              af340544ed62        7 weeks ago         960 B\r\n"
     ]
    }
   ],
   "source": [
    "docker images hello-world"
   ]
  },
  {
   "cell_type": "markdown",
   "metadata": {},
   "source": [
    "We can use the 'history' sub-command to look at how this image was 'built'\n",
    "\n",
    "We will re-visit this later"
   ]
  },
  {
   "cell_type": "code",
   "execution_count": 36,
   "metadata": {
    "collapsed": false
   },
   "outputs": [
    {
     "name": "stdout",
     "output_type": "stream",
     "text": [
      "IMAGE               CREATED             CREATED BY                                      SIZE                COMMENT\r\n",
      "af340544ed62        7 weeks ago         /bin/sh -c #(nop) CMD [\"/hello\"]                0 B                 \r\n",
      "535020c3e8ad        7 weeks ago         /bin/sh -c #(nop) COPY file:4abd3bff60458ca3b   960 B               \r\n"
     ]
    }
   ],
   "source": [
    "docker history hello-world"
   ]
  },
  {
   "cell_type": "markdown",
   "metadata": {},
   "source": [
    "Now let's run an 'alpine' linux image - we'll just use some shell commands\n",
    "\n",
    "Note how if the image is already present, the run is almost instantaneous.\n",
    "This is because we're basically just launching a process\n",
    "(albeit over a REST connection, and in a limited namespace/cgroup environment)\n",
    "\n",
    "If the image is not present then there's a delay for the image to be downloaded.\n",
    "For further runs the image is cached."
   ]
  },
  {
   "cell_type": "code",
   "execution_count": 37,
   "metadata": {
    "collapsed": false
   },
   "outputs": [
    {
     "name": "stdout",
     "output_type": "stream",
     "text": [
      "Hello\r\n"
     ]
    }
   ],
   "source": [
    "docker run alpine echo 'Hello'"
   ]
  },
  {
   "cell_type": "code",
   "execution_count": 38,
   "metadata": {
    "collapsed": false
   },
   "outputs": [
    {
     "name": "stdout",
     "output_type": "stream",
     "text": [
      "CONTAINER ID        IMAGE               COMMAND             CREATED             STATUS              PORTS               NAMES\r\n"
     ]
    }
   ],
   "source": [
    "docker ps"
   ]
  },
  {
   "cell_type": "markdown",
   "metadata": {},
   "source": [
    "Now let's run a short looping command.\n",
    "\n",
    "Note as this demo shell is not completely interactive we need to wait for completion before seeing the output.\n",
    "This is a characteristic of this notebook, not of Docker.\n",
    "\n",
    "**Note**: We would normally run an interactive session with '-it' options\n",
    "     e.g. docker run -it image command\n",
    "     "
   ]
  },
  {
   "cell_type": "code",
   "execution_count": 8,
   "metadata": {
    "collapsed": false
   },
   "outputs": [
    {
     "name": "stdout",
     "output_type": "stream",
     "text": [
      "Sat Sep 26 20:31:57 UTC 2015\n",
      "Sat Sep 26 20:31:58 UTC 2015\n",
      "Sat Sep 26 20:31:59 UTC 2015\n"
     ]
    }
   ],
   "source": [
    "docker run -it alpine sh -c 'LOOP=1; while [ $LOOP -le 3 ];do date; sleep 1; let LOOP=LOOP+1; done'"
   ]
  },
  {
   "cell_type": "markdown",
   "metadata": {},
   "source": [
    "From a separate shell you can launch a shell in the alpine image with\n",
    "    docker run -it alpine\n",
    "which will invoke the default **CMD** which in this case is the **sh** shell"
   ]
  },
  {
   "cell_type": "markdown",
   "metadata": {},
   "source": [
    "Now let's run a long lived loop\n",
    "\n",
    "Because of this environment we wouldn't see the output until the command is stopped anyway.\n",
    "So we'll launch the command in daemon mode"
   ]
  },
  {
   "cell_type": "code",
   "execution_count": 9,
   "metadata": {
    "collapsed": false
   },
   "outputs": [
    {
     "name": "stdout",
     "output_type": "stream",
     "text": [
      "f960f542105c81931b6932700992384c5a6db67b9227dc20dff2ec978af45a9c\r\n"
     ]
    }
   ],
   "source": [
    "docker run -d alpine sh -c \"while true;do date; sleep 1; done\""
   ]
  },
  {
   "cell_type": "markdown",
   "metadata": {
    "collapsed": true
   },
   "source": [
    "Note the 'container id' above.\n",
    "\n",
    "If we perform docker ps we will see a list of running containers, including this one.\n",
    "The docker ps will show a shortened, but still unique sha1, for the container"
   ]
  },
  {
   "cell_type": "code",
   "execution_count": 11,
   "metadata": {
    "collapsed": false
   },
   "outputs": [
    {
     "name": "stdout",
     "output_type": "stream",
     "text": [
      "CONTAINER ID        IMAGE               COMMAND                CREATED             STATUS              PORTS               NAMES\r\n",
      "f960f542105c        alpine              \"sh -c 'while true;d   19 seconds ago      Up 19 seconds                           clever_yalow         \r\n",
      "e5896b6a70de        alpine              \"sh\"                   2 minutes ago       Up 2 minutes                            jovial_swartz        \r\n",
      "27f09a716876        alpine              \"sh\"                   3 minutes ago       Up 3 minutes                            berserk_archimedes   \r\n"
     ]
    }
   ],
   "source": [
    "docker ps"
   ]
  },
  {
   "cell_type": "code",
   "execution_count": 12,
   "metadata": {
    "collapsed": false
   },
   "outputs": [
    {
     "name": "stdout",
     "output_type": "stream",
     "text": [
      "\r\n",
      "Usage: docker ps [OPTIONS]\r\n",
      "\r\n",
      "List containers\r\n",
      "\r\n",
      "  -a, --all=false       Show all containers (default shows just running)\r\n",
      "  --before=             Show only container created before Id or Name\r\n",
      "  -f, --filter=[]       Filter output based on conditions provided\r\n",
      "  --help=false          Print usage\r\n",
      "  -l, --latest=false    Show the latest created container, include non-running\r\n",
      "  -n=-1                 Show n last created containers, include non-running\r\n",
      "  --no-trunc=false      Don't truncate output\r\n",
      "  -q, --quiet=false     Only display numeric IDs\r\n",
      "  -s, --size=false      Display total file sizes\r\n",
      "  --since=              Show created since Id or Name, include non-running\r\n"
     ]
    }
   ],
   "source": [
    "docker help ps"
   ]
  },
  {
   "cell_type": "code",
   "execution_count": 13,
   "metadata": {
    "collapsed": false
   },
   "outputs": [
    {
     "name": "stdout",
     "output_type": "stream",
     "text": [
      "CONTAINER ID                                                       IMAGE               COMMAND                                       CREATED             STATUS              PORTS               NAMES\r\n",
      "f960f542105c81931b6932700992384c5a6db67b9227dc20dff2ec978af45a9c   alpine              \"sh -c 'while true;do date; sleep 1; done'\"   28 seconds ago      Up 28 seconds                           clever_yalow         \r\n",
      "e5896b6a70de38c50c00085d3fe95329ff34248e7e4e253d4f59698c1e78bbc3   alpine              \"sh\"                                          2 minutes ago       Up 2 minutes                            jovial_swartz        \r\n",
      "27f09a716876f81942eec8df87bb50d9bafc7248279566de220afcdc09f46b7e   alpine              \"sh\"                                          3 minutes ago       Up 3 minutes                            berserk_archimedes   \r\n"
     ]
    }
   ],
   "source": [
    "docker ps --no-trunc"
   ]
  },
  {
   "cell_type": "markdown",
   "metadata": {},
   "source": [
    "Note that unless we specify the '--rm' option to the 'run' sub-command then when a container process(tree) exits\n",
    "the container will still exist on the system.\n",
    "\n",
    "We can list all containers - still running or not - with the\n",
    "> docker ps -a\n",
    "command\n",
    "\n",
    "try it"
   ]
  },
  {
   "cell_type": "code",
   "execution_count": 14,
   "metadata": {
    "collapsed": false
   },
   "outputs": [
    {
     "name": "stdout",
     "output_type": "stream",
     "text": [
      "CONTAINER ID        IMAGE               COMMAND                CREATED              STATUS                          PORTS               NAMES\r\n",
      "f960f542105c        alpine              \"sh -c 'while true;d   33 seconds ago       Up 32 seconds                                       clever_yalow         \r\n",
      "404ff09cbfe3        alpine              \"sh -c 'LOOP=1; whil   46 seconds ago       Exited (0) 42 seconds ago                           sick_shockley        \r\n",
      "d95dc3aeab0d        alpine              \"sh -c 'LOOP=1; whil   About a minute ago   Exited (0) About a minute ago                       evil_noyce           \r\n",
      "6c1daf5c9742        alpine              \"sh -c 'echo XX'\"      About a minute ago   Exited (0) About a minute ago                       stoic_fermat         \r\n",
      "2d833e6a8795        alpine              \"sh -c 'LOOP=1; whil   About a minute ago   Exited (0) About a minute ago                       sharp_tesla          \r\n",
      "f52d9cda10e1        alpine              \"sh -c 'LOOP=1; whil   2 minutes ago        Exited (0) 2 minutes ago                            sad_euclid           \r\n",
      "268f010a06b1        alpine              \"/bin/ls -al\"          2 minutes ago        Exited (0) 2 minutes ago                            high_payne           \r\n",
      "e5896b6a70de        alpine              \"sh\"                   3 minutes ago        Up 2 minutes                                        jovial_swartz        \r\n",
      "27f09a716876        alpine              \"sh\"                   3 minutes ago        Up 3 minutes                                        berserk_archimedes   \r\n",
      "bd662389c788        alpine              \"sh -c 'echo XX'\"      3 minutes ago        Exited (0) 3 minutes ago                            sad_colden           \r\n",
      "dfb587f9a2d3        alpine              \"sh\"                   3 minutes ago        Exited (0) 3 minutes ago                            gloomy_kowalevski    \r\n",
      "2b9193956514        alpine              \"sh -c 'LOOP=1; whil   4 minutes ago        Exited (0) 4 minutes ago                            sharp_hypatia        \r\n",
      "c355b14974dc        alpine              \"sh -c 'LOOP=1; whil   4 minutes ago        Exited (0) 4 minutes ago                            gloomy_ritchie       \r\n",
      "8e5dadac75a6        alpine              \"echo Hello\"           4 minutes ago        Exited (0) 4 minutes ago                            evil_brattain        \r\n",
      "6952875cf9ed        hello-world         \"/hello\"               5 minutes ago        Exited (0) 5 minutes ago                            elated_mcclintock    \r\n"
     ]
    }
   ],
   "source": [
    "docker ps -a"
   ]
  },
  {
   "cell_type": "markdown",
   "metadata": {},
   "source": [
    "Note that we can also display the last launched container with the '-l' option\n",
    "Note that we can also display just the id of containers with the '-q' option"
   ]
  },
  {
   "cell_type": "code",
   "execution_count": 124,
   "metadata": {
    "collapsed": false
   },
   "outputs": [
    {
     "name": "stdout",
     "output_type": "stream",
     "text": [
      "2a15e33bd4a0\n",
      "d994c32a81d3\n",
      "14ed2202b15b\n"
     ]
    }
   ],
   "source": [
    "docker ps -q"
   ]
  },
  {
   "cell_type": "code",
   "execution_count": 17,
   "metadata": {
    "collapsed": false
   },
   "outputs": [
    {
     "name": "stdout",
     "output_type": "stream",
     "text": [
      "f960f542105c\r\n"
     ]
    }
   ],
   "source": [
    "docker ps -lq"
   ]
  },
  {
   "cell_type": "markdown",
   "metadata": {},
   "source": [
    "This can be very useful in the shell (not this shell) to perform some operations,\n",
    "e.g.\n",
    "- Stop all running containers:\n",
    "    > docker stop $(docker ps -q)\n",
    "\n",
    "- Stop the last launched running container:\n",
    "    > docker stop $(docker ps -q)\n",
    "\n",
    "- Remove all stopped containers still present:\n",
    "    > docker rm $(docker ps -qa)\n",
    "\n",
    "\n",
    "### Now let's see how we can interrogate a running container\n",
    "\n",
    "Some commands can be performed here, some will have to be run from the shell ...\n",
    "\n",
    "Let's run the 'docker inspect' command which will provide us a JSON description of the container\n",
    "\n",
    "**NOTE**: You will have to replace the container id below"
   ]
  },
  {
   "cell_type": "code",
   "execution_count": 18,
   "metadata": {
    "collapsed": false
   },
   "outputs": [
    {
     "name": "stdout",
     "output_type": "stream",
     "text": [
      "CONTAINER ID        IMAGE               COMMAND                CREATED              STATUS              PORTS               NAMES\r\n",
      "f960f542105c        alpine              \"sh -c 'while true;d   About a minute ago   Up About a minute                       clever_yalow         \r\n",
      "e5896b6a70de        alpine              \"sh\"                   3 minutes ago        Up 3 minutes                            jovial_swartz        \r\n",
      "27f09a716876        alpine              \"sh\"                   3 minutes ago        Up 3 minutes                            berserk_archimedes   \r\n"
     ]
    }
   ],
   "source": [
    "docker ps\n"
   ]
  },
  {
   "cell_type": "code",
   "execution_count": 19,
   "metadata": {
    "collapsed": false
   },
   "outputs": [
    {
     "name": "stdout",
     "output_type": "stream",
     "text": [
      "[\r\n",
      "{\r\n",
      "    \"Id\": \"f960f542105c81931b6932700992384c5a6db67b9227dc20dff2ec978af45a9c\",\r\n",
      "    \"Created\": \"2015-09-26T20:32:10.372048522Z\",\r\n",
      "    \"Path\": \"sh\",\r\n",
      "    \"Args\": [\r\n",
      "        \"-c\",\r\n",
      "        \"while true;do date; sleep 1; done\"\r\n",
      "    ],\r\n",
      "    \"State\": {\r\n",
      "        \"Running\": true,\r\n",
      "        \"Paused\": false,\r\n",
      "        \"Restarting\": false,\r\n",
      "        \"OOMKilled\": false,\r\n",
      "        \"Dead\": false,\r\n",
      "        \"Pid\": 1856,\r\n",
      "        \"ExitCode\": 0,\r\n",
      "        \"Error\": \"\",\r\n",
      "        \"StartedAt\": \"2015-09-26T20:32:10.498365039Z\",\r\n",
      "        \"FinishedAt\": \"0001-01-01T00:00:00Z\"\r\n",
      "    },\r\n",
      "    \"Image\": \"f4fddc471ec22fc1f7d37768132f1753bc171121e30ac2af7fcb0302588197c0\",\r\n",
      "    \"NetworkSettings\": {\r\n",
      "        \"Bridge\": \"\",\r\n",
      "        \"EndpointID\": \"f59fc63e788882147a7772ad82751ce5d63565a01aeebf2d626d6d9d5ac16d98\",\r\n",
      "        \"Gateway\": \"172.17.42.1\",\r\n",
      "        \"GlobalIPv6Address\": \"\",\r\n",
      "        \"GlobalIPv6PrefixLen\": 0,\r\n",
      "        \"HairpinMode\": false,\r\n",
      "        \"IPAddress\": \"172.17.0.15\",\r\n",
      "        \"IPPrefixLen\": 16,\r\n",
      "        \"IPv6Gateway\": \"\",\r\n",
      "        \"LinkLocalIPv6Address\": \"\",\r\n",
      "        \"LinkLocalIPv6PrefixLen\": 0,\r\n",
      "        \"MacAddress\": \"02:42:ac:11:00:0f\",\r\n",
      "        \"NetworkID\": \"9b62610a22c55ed2149b90a84e435cb22112754109ff0fa017cff7dbfda061ca\",\r\n",
      "        \"PortMapping\": null,\r\n",
      "        \"Ports\": {},\r\n",
      "        \"SandboxKey\": \"/var/run/docker/netns/f960f542105c\",\r\n",
      "        \"SecondaryIPAddresses\": null,\r\n",
      "        \"SecondaryIPv6Addresses\": null\r\n",
      "    },\r\n",
      "    \"ResolvConfPath\": \"/var/lib/docker/containers/f960f542105c81931b6932700992384c5a6db67b9227dc20dff2ec978af45a9c/resolv.conf\",\r\n",
      "    \"HostnamePath\": \"/var/lib/docker/containers/f960f542105c81931b6932700992384c5a6db67b9227dc20dff2ec978af45a9c/hostname\",\r\n",
      "    \"HostsPath\": \"/var/lib/docker/containers/f960f542105c81931b6932700992384c5a6db67b9227dc20dff2ec978af45a9c/hosts\",\r\n",
      "    \"LogPath\": \"/var/lib/docker/containers/f960f542105c81931b6932700992384c5a6db67b9227dc20dff2ec978af45a9c/f960f542105c81931b6932700992384c5a6db67b9227dc20dff2ec978af45a9c-json.log\",\r\n",
      "    \"Name\": \"/clever_yalow\",\r\n",
      "    \"RestartCount\": 0,\r\n",
      "    \"Driver\": \"aufs\",\r\n",
      "    \"ExecDriver\": \"native-0.2\",\r\n",
      "    \"MountLabel\": \"\",\r\n",
      "    \"ProcessLabel\": \"\",\r\n",
      "    \"Volumes\": {},\r\n",
      "    \"VolumesRW\": {},\r\n",
      "    \"AppArmorProfile\": \"\",\r\n",
      "    \"ExecIDs\": null,\r\n",
      "    \"HostConfig\": {\r\n",
      "        \"Binds\": null,\r\n",
      "        \"ContainerIDFile\": \"\",\r\n",
      "        \"LxcConf\": [],\r\n",
      "        \"Memory\": 0,\r\n",
      "        \"MemorySwap\": 0,\r\n",
      "        \"CpuShares\": 0,\r\n",
      "        \"CpuPeriod\": 0,\r\n",
      "        \"CpusetCpus\": \"\",\r\n",
      "        \"CpusetMems\": \"\",\r\n",
      "        \"CpuQuota\": 0,\r\n",
      "        \"BlkioWeight\": 0,\r\n",
      "        \"OomKillDisable\": false,\r\n",
      "        \"Privileged\": false,\r\n",
      "        \"PortBindings\": {},\r\n",
      "        \"Links\": null,\r\n",
      "        \"PublishAllPorts\": false,\r\n",
      "        \"Dns\": null,\r\n",
      "        \"DnsSearch\": null,\r\n",
      "        \"ExtraHosts\": null,\r\n",
      "        \"VolumesFrom\": null,\r\n",
      "        \"Devices\": [],\r\n",
      "        \"NetworkMode\": \"bridge\",\r\n",
      "        \"IpcMode\": \"\",\r\n",
      "        \"PidMode\": \"\",\r\n",
      "        \"UTSMode\": \"\",\r\n",
      "        \"CapAdd\": null,\r\n",
      "        \"CapDrop\": null,\r\n",
      "        \"RestartPolicy\": {\r\n",
      "            \"Name\": \"no\",\r\n",
      "            \"MaximumRetryCount\": 0\r\n",
      "        },\r\n",
      "        \"SecurityOpt\": null,\r\n",
      "        \"ReadonlyRootfs\": false,\r\n",
      "        \"Ulimits\": null,\r\n",
      "        \"LogConfig\": {\r\n",
      "            \"Type\": \"json-file\",\r\n",
      "            \"Config\": {}\r\n",
      "        },\r\n",
      "        \"CgroupParent\": \"\"\r\n",
      "    },\r\n",
      "    \"Config\": {\r\n",
      "        \"Hostname\": \"f960f542105c\",\r\n",
      "        \"Domainname\": \"\",\r\n",
      "        \"User\": \"\",\r\n",
      "        \"AttachStdin\": false,\r\n",
      "        \"AttachStdout\": false,\r\n",
      "        \"AttachStderr\": false,\r\n",
      "        \"PortSpecs\": null,\r\n",
      "        \"ExposedPorts\": null,\r\n",
      "        \"Tty\": false,\r\n",
      "        \"OpenStdin\": false,\r\n",
      "        \"StdinOnce\": false,\r\n",
      "        \"Env\": null,\r\n",
      "        \"Cmd\": [\r\n",
      "            \"sh\",\r\n",
      "            \"-c\",\r\n",
      "            \"while true;do date; sleep 1; done\"\r\n",
      "        ],\r\n",
      "        \"Image\": \"alpine\",\r\n",
      "        \"Volumes\": null,\r\n",
      "        \"VolumeDriver\": \"\",\r\n",
      "        \"WorkingDir\": \"\",\r\n",
      "        \"Entrypoint\": null,\r\n",
      "        \"NetworkDisabled\": false,\r\n",
      "        \"MacAddress\": \"\",\r\n",
      "        \"OnBuild\": null,\r\n",
      "        \"Labels\": {}\r\n",
      "    }\r\n",
      "}\r\n",
      "]\r\n"
     ]
    }
   ],
   "source": [
    "docker inspect f960f542105c         "
   ]
  },
  {
   "cell_type": "markdown",
   "metadata": {},
   "source": [
    "The 'docker logs' command will show us the container output which is stored"
   ]
  },
  {
   "cell_type": "code",
   "execution_count": 20,
   "metadata": {
    "collapsed": false
   },
   "outputs": [
    {
     "name": "stdout",
     "output_type": "stream",
     "text": [
      "Sat Sep 26 20:32:10 UTC 2015\r\n",
      "Sat Sep 26 20:32:11 UTC 2015\r\n",
      "Sat Sep 26 20:32:12 UTC 2015\r\n",
      "Sat Sep 26 20:32:13 UTC 2015\r\n",
      "Sat Sep 26 20:32:14 UTC 2015\r\n",
      "Sat Sep 26 20:32:15 UTC 2015\r\n",
      "Sat Sep 26 20:32:16 UTC 2015\r\n",
      "Sat Sep 26 20:32:17 UTC 2015\r\n",
      "Sat Sep 26 20:32:18 UTC 2015\r\n",
      "Sat Sep 26 20:32:19 UTC 2015\r\n",
      "Sat Sep 26 20:32:20 UTC 2015\r\n",
      "Sat Sep 26 20:32:21 UTC 2015\r\n",
      "Sat Sep 26 20:32:22 UTC 2015\r\n",
      "Sat Sep 26 20:32:23 UTC 2015\r\n",
      "Sat Sep 26 20:32:24 UTC 2015\r\n",
      "Sat Sep 26 20:32:25 UTC 2015\r\n",
      "Sat Sep 26 20:32:26 UTC 2015\r\n",
      "Sat Sep 26 20:32:27 UTC 2015\r\n",
      "Sat Sep 26 20:32:28 UTC 2015\r\n",
      "Sat Sep 26 20:32:29 UTC 2015\r\n",
      "Sat Sep 26 20:32:30 UTC 2015\r\n",
      "Sat Sep 26 20:32:31 UTC 2015\r\n",
      "Sat Sep 26 20:32:32 UTC 2015\r\n",
      "Sat Sep 26 20:32:33 UTC 2015\r\n",
      "Sat Sep 26 20:32:34 UTC 2015\r\n",
      "Sat Sep 26 20:32:35 UTC 2015\r\n",
      "Sat Sep 26 20:32:36 UTC 2015\r\n",
      "Sat Sep 26 20:32:37 UTC 2015\r\n",
      "Sat Sep 26 20:32:38 UTC 2015\r\n",
      "Sat Sep 26 20:32:39 UTC 2015\r\n",
      "Sat Sep 26 20:32:40 UTC 2015\r\n",
      "Sat Sep 26 20:32:41 UTC 2015\r\n",
      "Sat Sep 26 20:32:42 UTC 2015\r\n",
      "Sat Sep 26 20:32:43 UTC 2015\r\n",
      "Sat Sep 26 20:32:44 UTC 2015\r\n",
      "Sat Sep 26 20:32:45 UTC 2015\r\n",
      "Sat Sep 26 20:32:46 UTC 2015\r\n",
      "Sat Sep 26 20:32:47 UTC 2015\r\n",
      "Sat Sep 26 20:32:48 UTC 2015\r\n",
      "Sat Sep 26 20:32:49 UTC 2015\r\n",
      "Sat Sep 26 20:32:50 UTC 2015\r\n",
      "Sat Sep 26 20:32:51 UTC 2015\r\n",
      "Sat Sep 26 20:32:52 UTC 2015\r\n",
      "Sat Sep 26 20:32:53 UTC 2015\r\n",
      "Sat Sep 26 20:32:54 UTC 2015\r\n",
      "Sat Sep 26 20:32:55 UTC 2015\r\n",
      "Sat Sep 26 20:32:56 UTC 2015\r\n",
      "Sat Sep 26 20:32:57 UTC 2015\r\n",
      "Sat Sep 26 20:32:58 UTC 2015\r\n",
      "Sat Sep 26 20:32:59 UTC 2015\r\n",
      "Sat Sep 26 20:33:00 UTC 2015\r\n",
      "Sat Sep 26 20:33:01 UTC 2015\r\n",
      "Sat Sep 26 20:33:02 UTC 2015\r\n",
      "Sat Sep 26 20:33:03 UTC 2015\r\n",
      "Sat Sep 26 20:33:04 UTC 2015\r\n",
      "Sat Sep 26 20:33:05 UTC 2015\r\n",
      "Sat Sep 26 20:33:06 UTC 2015\r\n",
      "Sat Sep 26 20:33:07 UTC 2015\r\n",
      "Sat Sep 26 20:33:08 UTC 2015\r\n",
      "Sat Sep 26 20:33:09 UTC 2015\r\n",
      "Sat Sep 26 20:33:10 UTC 2015\r\n",
      "Sat Sep 26 20:33:11 UTC 2015\r\n",
      "Sat Sep 26 20:33:12 UTC 2015\r\n",
      "Sat Sep 26 20:33:13 UTC 2015\r\n",
      "Sat Sep 26 20:33:14 UTC 2015\r\n",
      "Sat Sep 26 20:33:15 UTC 2015\r\n",
      "Sat Sep 26 20:33:16 UTC 2015\r\n",
      "Sat Sep 26 20:33:17 UTC 2015\r\n",
      "Sat Sep 26 20:33:18 UTC 2015\r\n",
      "Sat Sep 26 20:33:19 UTC 2015\r\n",
      "Sat Sep 26 20:33:20 UTC 2015\r\n",
      "Sat Sep 26 20:33:21 UTC 2015\r\n",
      "Sat Sep 26 20:33:22 UTC 2015\r\n",
      "Sat Sep 26 20:33:23 UTC 2015\r\n",
      "Sat Sep 26 20:33:24 UTC 2015\r\n",
      "Sat Sep 26 20:33:25 UTC 2015\r\n",
      "Sat Sep 26 20:33:26 UTC 2015\r\n",
      "Sat Sep 26 20:33:27 UTC 2015\r\n",
      "Sat Sep 26 20:33:28 UTC 2015\r\n",
      "Sat Sep 26 20:33:29 UTC 2015\r\n",
      "Sat Sep 26 20:33:30 UTC 2015\r\n",
      "Sat Sep 26 20:33:31 UTC 2015\r\n",
      "Sat Sep 26 20:33:32 UTC 2015\r\n",
      "Sat Sep 26 20:33:33 UTC 2015\r\n",
      "Sat Sep 26 20:33:34 UTC 2015\r\n",
      "Sat Sep 26 20:33:35 UTC 2015\r\n",
      "Sat Sep 26 20:33:36 UTC 2015\r\n",
      "Sat Sep 26 20:33:37 UTC 2015\r\n",
      "Sat Sep 26 20:33:38 UTC 2015\r\n",
      "Sat Sep 26 20:33:39 UTC 2015\r\n"
     ]
    }
   ],
   "source": [
    "docker logs f960f542105c"
   ]
  },
  {
   "cell_type": "markdown",
   "metadata": {},
   "source": [
    "The 'docker exec' command will show us the container output which is stored\n",
    "\n",
    "You can launch a shell within the container (but not from this notebook).\n",
    "\n",
    "Try it in a separate shell on the host.\n",
    "> docker exec &lt;CONTAINER_ID&gt; sh\n",
    "\n",
    "Now below let's run uptime within the container (from this notebook)\n",
    "\n",
    "Does this uptime correspond to the uptime of the container, or rather the system??"
   ]
  },
  {
   "cell_type": "code",
   "execution_count": 22,
   "metadata": {
    "collapsed": false
   },
   "outputs": [
    {
     "name": "stdout",
     "output_type": "stream",
     "text": [
      " 20:33:52 up 2 days,  3:51,  0 users,  load average: 0.01, 0.06, 0.07\r\n"
     ]
    }
   ],
   "source": [
    "docker exec f960f542105c uptime"
   ]
  },
  {
   "cell_type": "markdown",
   "metadata": {},
   "source": [
    "### Investigate the host system\n",
    "\n",
    "In a separate shell on the actual host investigate the host system\n",
    "- Use pstree to see the docker processes\n",
    "  - Use 'ps -ef | grep docker' to find the docker daemon pid\n",
    "  - Look at the sub-processes/threads with\n",
    "    'pstree -ap <pid>'\n",
    "  - Watch the sub-processes with\n",
    "    'watch \"pstree -ap <pid> | grep -v {docker}\"\n",
    "    "
   ]
  },
  {
   "cell_type": "code",
   "execution_count": 23,
   "metadata": {
    "collapsed": false
   },
   "outputs": [
    {
     "name": "stdout",
     "output_type": "stream",
     "text": [
      "REPOSITORY          TAG                 IMAGE ID            CREATED             VIRTUAL SIZE\r\n",
      "jupyter/demo        latest              31bc43ff930f        20 hours ago        7.793 GB\r\n",
      "alpine              latest              f4fddc471ec2        12 days ago         5.249 MB\r\n",
      "hello-world         latest              af340544ed62        7 weeks ago         960 B\r\n"
     ]
    }
   ],
   "source": [
    "docker images"
   ]
  },
  {
   "cell_type": "code",
   "execution_count": 24,
   "metadata": {
    "collapsed": false
   },
   "outputs": [
    {
     "name": "stdout",
     "output_type": "stream",
     "text": [
      "IMAGE               CREATED             CREATED BY                                      SIZE                COMMENT\r\n",
      "f4fddc471ec2        12 days ago         /bin/sh -c #(nop) ADD file:43a95cc218d164ff58   5.249 MB            \r\n"
     ]
    }
   ],
   "source": [
    "docker history alpine"
   ]
  },
  {
   "cell_type": "code",
   "execution_count": 25,
   "metadata": {
    "collapsed": false,
    "scrolled": true
   },
   "outputs": [
    {
     "name": "stdout",
     "output_type": "stream",
     "text": [
      "IMAGE               CREATED             CREATED BY                                      SIZE                COMMENT\r\n",
      "31bc43ff930f        20 hours ago        /bin/sh -c cat /tmp/jupyter_notebook_config.p   2.05 kB             \r\n",
      "8a2ef6b62bbc        20 hours ago        /bin/sh -c #(nop) COPY file:5dfc3e36e32582975   637 B               \r\n",
      "d4cd4a8e7b86        20 hours ago        /bin/sh -c chmod a+rX /srv/templates            0 B                 \r\n",
      "cea4794bef8c        20 hours ago        /bin/sh -c #(nop) COPY dir:26ac4f54b1fd83189d   1.052 kB            \r\n",
      "e14f856ebf7c        20 hours ago        /bin/sh -c #(nop) COPY file:6b59af91e20751e07   447 B               \r\n",
      "b2f17ededc31        20 hours ago        /bin/sh -c find /home/jovyan/work -name '*.ip   874.5 MB            \r\n",
      "93d965764d97        20 hours ago        /bin/sh -c #(nop) USER [root]                   0 B                 \r\n",
      "53a86245fd88        20 hours ago        /bin/sh -c #(nop) COPY file:b6f14c311d0e26efb   224 B               \r\n",
      "09eba4afc6ae        20 hours ago        /bin/sh -c mkdir -p /opt/conda/share/jupyter/   0 B                 \r\n",
      "03c8b807213d        20 hours ago        /bin/sh -c #(nop) COPY dir:aeb22d0aa6941d6a06   171.1 MB            \r\n",
      "f60dcacae493        30 hours ago        /bin/sh -c #(nop) COPY dir:2df00d1d6325ee1a59   1.703 MB            \r\n",
      "105e1928b557        30 hours ago        /bin/sh -c git clone --depth 1 https://github   108.2 kB            \r\n",
      "820900a890ec        30 hours ago        /bin/sh -c git clone --depth 1 https://github   69.65 MB            \r\n",
      "ea3299295690        30 hours ago        /bin/sh -c mkdir -p /home/jovyan/work/communi   0 B                 \r\n",
      "728080fb2d6b        30 hours ago        /bin/sh -c pip install --user --no-cache-dir    16.89 kB            \r\n",
      "0f11a2e734f6        30 hours ago        /bin/sh -c cabal update &&     CURL_CA_BUNDLE   504.7 MB            \r\n",
      "7c6a837a11ec        2 days ago          /bin/sh -c julia -e 'Pkg.add(\"Gadfly\")' && ju   115.7 MB            \r\n",
      "3e61674c1794        2 days ago          /bin/sh -c julia -e 'Pkg.add(\"IJulia\")'         12.51 MB            \r\n",
      "a0b1ef7c0ff9        2 days ago          /bin/sh -c conda install --yes r-irkernel r-p   404.9 MB            \r\n",
      "927f44a3ef70        2 days ago          /bin/sh -c conda config --add channels r        29 B                \r\n",
      "531657b1a93f        2 days ago          /bin/sh -c iruby register                       31.19 kB            \r\n",
      "f160b0e73270        2 days ago          /bin/sh -c $CONDA_DIR/envs/python2/bin/python   114.2 kB            \r\n",
      "42f81ad3268d        2 days ago          /bin/sh -c conda create -p $CONDA_DIR/envs/py   865.2 MB            \r\n",
      "69f5c7fe02ad        2 days ago          /bin/sh -c conda install --yes numpy pandas s   715.5 MB            \r\n",
      "82edee5d6996        2 days ago          /bin/sh -c #(nop) ENV PYTHONPATH=/usr/local/s   0 B                 \r\n",
      "43f5c8770619        2 days ago          /bin/sh -c #(nop) ENV SPARK_HOME=/usr/local/s   0 B                 \r\n",
      "19c07ef8002a        2 days ago          /bin/sh -c #(nop) ENV PATH=/home/jovyan/.caba   0 B                 \r\n",
      "6c42281c5bf3        2 days ago          /bin/sh -c #(nop) USER [jovyan]                 0 B                 \r\n",
      "09901bcb87a2        2 days ago          /bin/sh -c cd /tmp &&     echo deb http://dl.   146.8 MB            \r\n",
      "2622b211b307        2 days ago          /bin/sh -c wget -qO - http://d3kbcqa49mib13.c   281.5 MB            \r\n",
      "ba10bf875fa3        2 days ago          /bin/sh -c apt-get update &&     apt-get inst   102.8 MB            \r\n",
      "c9a59cd36b9f        2 days ago          /bin/sh -c #(nop) ENV APACHE_SPARK_VERSION=1.   0 B                 \r\n",
      "de0c28f06ae1        2 days ago          /bin/sh -c gem install --no-rdoc --no-ri scir   515.3 MB            \r\n",
      "21886eb6df9d        2 days ago          /bin/sh -c apt-get install -y --no-install-re   158.7 MB            \r\n",
      "194900f641de        2 days ago          /bin/sh -c apt-get install -y --no-install-re   55.96 MB            \r\n",
      "bd7ce071bd50        2 days ago          /bin/sh -c apt-get update &&     apt-get inst   486.4 MB            \r\n",
      "0cd029015e28        2 days ago          /bin/sh -c apt-get update &&     apt-get inst   31.14 MB            \r\n",
      "f81dd0524f71        2 days ago          /bin/sh -c apt-get update &&      apt-get ins   118.1 MB            \r\n",
      "636ba3f48f69        2 days ago          /bin/sh -c #(nop) USER [root]                   0 B                 \r\n",
      "2caa65264347        2 days ago          /bin/sh -c #(nop) MAINTAINER Jupyter Project    0 B                 \r\n",
      "e2908ff99f3b        2 days ago          /bin/sh -c chown -R $NB_USER:users /home/$NB_   1.413 kB            \r\n",
      "71c84a703df0        2 days ago          /bin/sh -c #(nop) COPY file:d2a72f83ccc8e4507   1.413 kB            \r\n",
      "873cc11b3618        2 days ago          /bin/sh -c #(nop) COPY file:625a62d7f363f1856   399 B               \r\n",
      "244ed6787055        2 days ago          /bin/sh -c #(nop) CMD [\"start-notebook.sh\"]     0 B                 \r\n",
      "3ed3fb3a716a        2 days ago          /bin/sh -c #(nop) ENTRYPOINT &{[\"tini\" \"--\"]}   0 B                 \r\n",
      "5352c6812394        2 days ago          /bin/sh -c #(nop) WORKDIR /home/jovyan/work     0 B                 \r\n",
      "605d74f9e818        2 days ago          /bin/sh -c #(nop) EXPOSE 8888/tcp               0 B                 \r\n",
      "f82140988fd5        2 days ago          /bin/sh -c useradd -m -s /bin/bash -N -u $NB_   348.8 MB            \r\n",
      "a3b836ee0ff0        2 days ago          /bin/sh -c conda install --yes     'notebook=   58.84 MB            \r\n",
      "5899f957f12c        2 days ago          /bin/sh -c mkdir -p $CONDA_DIR &&     echo ex   324.8 MB            \r\n",
      "42de6c4d6365        2 days ago          /bin/sh -c #(nop) ENV NB_UID=1000               0 B                 \r\n",
      "3ce8646dbe6f        2 days ago          /bin/sh -c #(nop) ENV NB_USER=jovyan            0 B                 \r\n",
      "5ab78992c2c4        2 days ago          /bin/sh -c #(nop) ENV SHELL=/bin/bash           0 B                 \r\n",
      "113591f4e439        2 days ago          /bin/sh -c #(nop) ENV PATH=/opt/conda/bin:/us   0 B                 \r\n",
      "807cd1c59f97        2 days ago          /bin/sh -c #(nop) ENV CONDA_DIR=/opt/conda      0 B                 \r\n",
      "a0b10649b3b4        2 days ago          /bin/sh -c wget --quiet https://github.com/kr   14.58 kB            \r\n",
      "63309bc078de        2 days ago          /bin/sh -c apt-get update && apt-get install    1.303 GB            \r\n",
      "48080a7a218f        2 days ago          /bin/sh -c #(nop) ENV DEBIAN_FRONTEND=noninte   0 B                 \r\n",
      "a6744562bede        2 days ago          /bin/sh -c #(nop) USER [root]                   0 B                 \r\n",
      "cb8b6379fbb7        2 days ago          /bin/sh -c #(nop) MAINTAINER Jupyter Project    0 B                 \r\n",
      "8c00acfb0175        2 weeks ago         /bin/sh -c #(nop) CMD [\"/bin/bash\"]             0 B                 \r\n",
      "843e2bded498        2 weeks ago         /bin/sh -c #(nop) ADD file:c7d957020a6ee3df60   125.2 MB            \r\n"
     ]
    }
   ],
   "source": [
    "docker history jupyter/demo"
   ]
  },
  {
   "cell_type": "code",
   "execution_count": 26,
   "metadata": {
    "collapsed": false
   },
   "outputs": [
    {
     "name": "stdout",
     "output_type": "stream",
     "text": [
      "\u001b[0m\u001b[01;32mDockerfile.jupyter-minimal_notebook\u001b[0m*\r\n"
     ]
    }
   ],
   "source": [
    "ls Dockerfile*"
   ]
  },
  {
   "cell_type": "code",
   "execution_count": 27,
   "metadata": {
    "collapsed": false
   },
   "outputs": [
    {
     "name": "stdout",
     "output_type": "stream",
     "text": [
      "# Docker demo image, as used on try.jupyter.org and tmpnb.org\r\n",
      "\r\n",
      "FROM jupyter/minimal-notebook\r\n",
      "\r\n",
      "MAINTAINER Michael Bright  <github.com@mjbright.net>\r\n",
      "\r\n",
      "#USER root\r\n",
      "\r\n",
      "RUN apt-get update\r\n",
      "ENV PATH $CONDA_DIR/bin:$PATH\r\n",
      "\r\n",
      "# Ruby dependencies\r\n",
      "RUN apt-get install -y --no-install-recommends ruby ruby-dev libtool autoconf automake gnuplot-nox libsqlite3-dev libatlas-base-dev libgsl0-dev && apt-get clean && ln -s /usr/bin/libtoolize /usr/bin/libtool\r\n",
      "RUN apt-get install -y --no-install-recommends libmagick++-dev imagemagick\r\n",
      "RUN gem install --no-rdoc --no-ri sciruby-full\r\n",
      "\r\n",
      "USER jovyan\r\n",
      "\r\n",
      "#[datascience-notebook]# Install IJulia and Julia packages:\r\n",
      "#[datascience-notebook]RUN julia -e 'Pkg.add(\"IJulia\")'\r\n",
      "#[datascience-notebook]RUN julia -e 'Pkg.add(\"Gadfly\")' && julia -e 'Pkg.add(\"RDatasets\")'\r\n",
      "\r\n",
      "# IRuby\r\n",
      "RUN iruby register\r\n",
      "\r\n",
      "# Install bash_kernel:\r\n",
      "# Make sure not to create a cache dir else NB_UID switching\r\n",
      "# will hit issues.\r\n",
      "RUN pip install --no-cache-dir bash_kernel && \\\r\n",
      "    python -m bash_kernel.install\r\n",
      "\r\n",
      "# Install RISE (LIVE Reveal) extension:\r\n",
      "RUN cd /home/jovyan && \\\r\n",
      "    mkdir -p /home/jovyan/src/git && \\\r\n",
      "    cd /home/jovyan/src/git && \\\r\n",
      "    git clone https://github.com/damianavila/RISE /home/jovyan/src/git/damianvila.RISE && \\\r\n",
      "    cd /home/jovyan/src/git/damianvila.RISE && \\\r\n",
      "    python setup.py install\r\n",
      "\r\n",
      "USER root\r\n",
      "\r\n",
      "RUN groupadd -g 1000 docker && \\\r\n",
      "    usermod -a -G docker jovyan\r\n",
      "\r\n",
      "# Setup sudoers without password:\r\n",
      "ADD sudoers /etc/sudoers\r\n",
      "\r\n",
      "# Needed so notebooks can write to mounted work volume:\r\n",
      "RUN [ ! -d /home/jovyan/work ] && mkdir /home/jovyan/work; RET=0\r\n",
      "RUN chown jovyan /home/jovyan/work && chmod a+w /home/jovyan/work\r\n",
      "\r\n",
      "ADD docker /home/jovyan/work/docker\r\n",
      "\r\n",
      "# Install setup ssh:\r\n",
      "RUN apt-get install -y openssh-client\r\n",
      "RUN mkdir -p /home/jovyan/.ssh\r\n",
      "\r\n",
      "#### # Install setup xdot: (for graphical display of GraphViz)\r\n",
      "#### RUN apt-get install -y xdot\r\n",
      "\r\n",
      "USER jovyan\r\n",
      "\r\n",
      "# Install hide_code extension:\r\n",
      "# - original not Python3 - git clone https://github.com/kirbs-/hide_code && \\\r\n",
      "RUN cd /home/jovyan/src/git && \\\r\n",
      "    git clone https://github.com/mjbright/hide_code && \\\r\n",
      "    cd /home/jovyan/src/git/hide_code && \\\r\n",
      "    python setup.py install\r\n",
      "\r\n",
      "# Install nbgrader extension:\r\n",
      "USER root\r\n",
      "RUN apt-get install -y pandoc\r\n",
      "USER jovyan\r\n",
      "RUN cd /home/jovyan/src/git && \\\r\n",
      "    git clone https://github.com/jupyter/nbgrader && \\\r\n",
      "    cd /home/jovyan/src/git/nbgrader && \\\r\n",
      "    python setup.py install\r\n",
      "\r\n",
      "ENV PATH /home/jovyan/.local/bin/:$PATH\r\n",
      "\r\n",
      "RUN nbgrader extension install --user --symlink && \\\r\n",
      "    nbgrader extension activate\r\n",
      "\r\n",
      "# Featured notebooks\r\n",
      "RUN git clone --depth 1 https://github.com/jvns/pandas-cookbook.git /home/jovyan/featured/pandas-cookbook/\r\n",
      "\r\n",
      "# Convert notebooks to the current format\r\n",
      "RUN find . -name '*.ipynb' -exec ipython nbconvert --to notebook {} --output {} \\; ; echo\r\n",
      "RUN find . -name '*.ipynb' -exec ipython trust {} \\; ; echo\r\n",
      "\r\n",
      "USER root\r\n",
      "\r\n"
     ]
    }
   ],
   "source": [
    "cat Dockerfile.jupyter-minimal_notebook"
   ]
  },
  {
   "cell_type": "code",
   "execution_count": 28,
   "metadata": {
    "collapsed": false
   },
   "outputs": [
    {
     "name": "stdout",
     "output_type": "stream",
     "text": [
      "Containers: 15\r\n",
      "Images: 65\r\n",
      "Storage Driver: aufs\r\n",
      " Root Dir: /var/lib/docker/aufs\r\n",
      " Backing Filesystem: extfs\r\n",
      " Dirs: 95\r\n",
      " Dirperm1 Supported: false\r\n",
      "Execution Driver: native-0.2\r\n",
      "Logging Driver: json-file\r\n",
      "Kernel Version: 3.13.0-61-generic\r\n",
      "Operating System: Ubuntu 14.04.2 LTS\r\n",
      "CPUs: 1\r\n",
      "Total Memory: 1.955 GiB\r\n",
      "Name: localhost\r\n",
      "ID: KA6Y:ZDFF:3WZG:M6S2:M2ES:DTKU:WI3M:7YUY:4PIL:FECS:JWRU:AFTS\r\n",
      "WARNING: No swap limit support\r\n"
     ]
    }
   ],
   "source": [
    "docker info"
   ]
  },
  {
   "cell_type": "code",
   "execution_count": 29,
   "metadata": {
    "collapsed": false
   },
   "outputs": [
    {
     "name": "stdout",
     "output_type": "stream",
     "text": [
      "CONTAINER ID        IMAGE               COMMAND                CREATED             STATUS              PORTS               NAMES\r\n",
      "f960f542105c        alpine              \"sh -c 'while true;d   2 minutes ago       Up 2 minutes                            clever_yalow         \r\n",
      "e5896b6a70de        alpine              \"sh\"                   4 minutes ago       Up 4 minutes                            jovial_swartz        \r\n",
      "27f09a716876        alpine              \"sh\"                   5 minutes ago       Up 5 minutes                            berserk_archimedes   \r\n"
     ]
    }
   ],
   "source": [
    "docker ps"
   ]
  },
  {
   "cell_type": "code",
   "execution_count": 30,
   "metadata": {
    "collapsed": false
   },
   "outputs": [
    {
     "name": "stdout",
     "output_type": "stream",
     "text": [
      "CONTAINER ID        IMAGE               COMMAND                CREATED             STATUS                     PORTS               NAMES\r\n",
      "f960f542105c        alpine              \"sh -c 'while true;d   2 minutes ago       Up 2 minutes                                   clever_yalow         \r\n",
      "404ff09cbfe3        alpine              \"sh -c 'LOOP=1; whil   2 minutes ago       Exited (0) 2 minutes ago                       sick_shockley        \r\n",
      "d95dc3aeab0d        alpine              \"sh -c 'LOOP=1; whil   3 minutes ago       Exited (0) 3 minutes ago                       evil_noyce           \r\n",
      "6c1daf5c9742        alpine              \"sh -c 'echo XX'\"      3 minutes ago       Exited (0) 3 minutes ago                       stoic_fermat         \r\n",
      "2d833e6a8795        alpine              \"sh -c 'LOOP=1; whil   3 minutes ago       Exited (0) 3 minutes ago                       sharp_tesla          \r\n",
      "f52d9cda10e1        alpine              \"sh -c 'LOOP=1; whil   3 minutes ago       Exited (0) 3 minutes ago                       sad_euclid           \r\n",
      "268f010a06b1        alpine              \"/bin/ls -al\"          4 minutes ago       Exited (0) 4 minutes ago                       high_payne           \r\n",
      "e5896b6a70de        alpine              \"sh\"                   4 minutes ago       Up 4 minutes                                   jovial_swartz        \r\n",
      "27f09a716876        alpine              \"sh\"                   5 minutes ago       Up 5 minutes                                   berserk_archimedes   \r\n",
      "bd662389c788        alpine              \"sh -c 'echo XX'\"      5 minutes ago       Exited (0) 5 minutes ago                       sad_colden           \r\n",
      "dfb587f9a2d3        alpine              \"sh\"                   5 minutes ago       Exited (0) 5 minutes ago                       gloomy_kowalevski    \r\n",
      "2b9193956514        alpine              \"sh -c 'LOOP=1; whil   6 minutes ago       Exited (0) 6 minutes ago                       sharp_hypatia        \r\n",
      "c355b14974dc        alpine              \"sh -c 'LOOP=1; whil   6 minutes ago       Exited (0) 6 minutes ago                       gloomy_ritchie       \r\n",
      "8e5dadac75a6        alpine              \"echo Hello\"           6 minutes ago       Exited (0) 6 minutes ago                       evil_brattain        \r\n",
      "6952875cf9ed        hello-world         \"/hello\"               7 minutes ago       Exited (0) 7 minutes ago                       elated_mcclintock    \r\n"
     ]
    }
   ],
   "source": [
    "docker ps -a"
   ]
  },
  {
   "cell_type": "markdown",
   "metadata": {},
   "source": [
    "### Looking at automated builds on the public [Docker Hub](https://hub.docker.com/) website\n",
    "\n",
    "\n",
    "Let's look at one of my own automated ['jupyter_minimal-notebook' image on Docker Hub](https://hub.docker.com/r/mjbright/jupyter_minimal-notebook/)\n",
    "\n",
    "There we will see\n",
    "- Repo Info:     We see the 'docker pull' command to use to pull the image\n",
    "- Tags\n",
    "- Description:   If any ;-)\n",
    "- Dockerfile:    Look at the Dockerfile which was provided from git (github or bitbucket)\n",
    "  - We see that this image is derived **FROM** an existing jupyter/minimal-notebook image\n",
    "  - Note the '**Source Project**' button on the right-hand side which links to the git source\n",
    "- Build Details: We see a list of builds, we can look at the detail of each one\n",
    "- Build Settings\n",
    "- Collaborators\n",
    "- WebHooks:      This image will be rebuilt when the git source changes,\n",
    "                 but we can also specify existing images upon which we depend, which\n",
    "                 should trigger a build\n",
    "\n",
    "All this adds up to **FREE builds** for open sourced git projects !!"
   ]
  }
 ],
 "metadata": {
  "kernelspec": {
   "display_name": "Python 3",
   "language": "python",
   "name": "python3"
  },
  "language_info": {
   "codemirror_mode": {
    "name": "ipython",
    "version": 3
   },
   "file_extension": ".py",
   "mimetype": "text/x-python",
   "name": "python",
   "nbconvert_exporter": "python",
   "pygments_lexer": "ipython3",
   "version": "3.4.3"
  }
 },
 "nbformat": 4,
 "nbformat_minor": 0
}
