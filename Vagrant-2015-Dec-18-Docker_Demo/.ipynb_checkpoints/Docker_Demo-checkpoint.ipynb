{
 "cells": [
  {
   "cell_type": "markdown",
   "metadata": {},
   "source": [
    "# Docker Demos\n",
    "\n",
    "Docker demos run within a [Jupyter](http://jupyter.org) notebook\n",
    "\n",
    "[Cleanup Demo](#CLEANUP)\n",
    "[Start   Demo](#START_HERE)\n",
    "\n",
    "## Demo setup\n",
    "\n",
    "Make sure we can communicate with docker daemon via /var/run/docker.sock mounted as a volume\n"
   ]
  },
  {
   "cell_type": "code",
   "execution_count": null,
   "metadata": {
    "collapsed": true
   },
   "outputs": [],
   "source": [
    "#%alias docker /usr/bin/docker -H unix:///var/run/docker.sock\n",
    "#%alias docker /usr/bin/docker\n",
    "#!/usr/bin/docker -H unix:///var/run/docker.sock ps\n",
    "# Needed chmod 766 /var/run/docker.sock\n",
    "# Within VM\n",
    "# !ls -al /var/run/"
   ]
  },
  {
   "cell_type": "code",
   "execution_count": null,
   "metadata": {
    "collapsed": true
   },
   "outputs": [],
   "source": [
    "%alias docker docker"
   ]
  },
  {
   "cell_type": "code",
   "execution_count": null,
   "metadata": {
    "collapsed": false
   },
   "outputs": [],
   "source": [
    "# See if there are any non-jupyter containers running:\n",
    "%alias docker_ps docker ps -a | grep -v jupyter"
   ]
  },
  {
   "cell_type": "code",
   "execution_count": null,
   "metadata": {
    "collapsed": false
   },
   "outputs": [],
   "source": [
    "docker_ps"
   ]
  },
  {
   "cell_type": "code",
   "execution_count": null,
   "metadata": {
    "collapsed": false
   },
   "outputs": [],
   "source": [
    "# Show what containers are running:\n",
    "%docker ps -a"
   ]
  },
  {
   "cell_type": "code",
   "execution_count": null,
   "metadata": {
    "collapsed": false
   },
   "outputs": [],
   "source": [
    "# Stop and Remove any non-jupyter containers if any:\n",
    "%docker stop $(docker ps -a | grep -vE \"CONTAINER|jupyter\" | awk '{ print $1; }')\n",
    "%docker rm $(docker ps -a | grep -vE \"CONTAINER|jupyter\" | awk '{ print $1; }')"
   ]
  },
  {
   "cell_type": "code",
   "execution_count": null,
   "metadata": {
    "collapsed": false
   },
   "outputs": [],
   "source": [
    "docker ps -a"
   ]
  },
  {
   "cell_type": "code",
   "execution_count": null,
   "metadata": {
    "collapsed": false
   },
   "outputs": [],
   "source": [
    "!df"
   ]
  },
  {
   "cell_type": "code",
   "execution_count": null,
   "metadata": {
    "collapsed": false
   },
   "outputs": [],
   "source": [
    "# Remove unused images:\n",
    "%docker rmi jupyter/demo mjbright/jupyter_all-notebook \n",
    "\n",
    "# Remove used images to reset environment (to be able to show downloading):\n",
    "%docker rmi alpine; docker rmi hello-world; docker images "
   ]
  },
  {
   "cell_type": "code",
   "execution_count": null,
   "metadata": {
    "collapsed": false
   },
   "outputs": [],
   "source": [
    "!df"
   ]
  },
  {
   "cell_type": "code",
   "execution_count": null,
   "metadata": {
    "collapsed": false
   },
   "outputs": [],
   "source": [
    "#docker stop  $(docker ps -ql)"
   ]
  },
  {
   "cell_type": "markdown",
   "metadata": {
    "collapsed": false
   },
   "source": [
    "# CLEANUP\n",
    "\n",
    "# Post/Pre-Demo cleanup\n",
    "\n",
    "Remove some images (hello-world, alpine)"
   ]
  },
  {
   "cell_type": "code",
   "execution_count": null,
   "metadata": {
    "collapsed": false
   },
   "outputs": [],
   "source": [
    "docker images"
   ]
  },
  {
   "cell_type": "code",
   "execution_count": null,
   "metadata": {
    "collapsed": false
   },
   "outputs": [],
   "source": [
    "# Stop and Remove any non-jupyter containers if any:\n",
    "%docker stop $(docker ps -a | grep -vE \"CONTAINER|jupyter\" | awk '{ print $1; }')\n",
    "%docker rm $(docker ps -a | grep -vE \"CONTAINER|jupyter\" | awk '{ print $1; }')"
   ]
  },
  {
   "cell_type": "code",
   "execution_count": null,
   "metadata": {
    "collapsed": false
   },
   "outputs": [],
   "source": [
    "# Remove used images to reset environment (to be able to show downloading):\n",
    "%docker rmi alpine; docker rmi hello-world; echo; docker images "
   ]
  },
  {
   "cell_type": "code",
   "execution_count": null,
   "metadata": {
    "collapsed": false
   },
   "outputs": [],
   "source": [
    "#docker search hello-world"
   ]
  },
  {
   "cell_type": "code",
   "execution_count": null,
   "metadata": {
    "collapsed": false
   },
   "outputs": [],
   "source": [
    "#docker pull hello-world"
   ]
  },
  {
   "cell_type": "markdown",
   "metadata": {},
   "source": [
    "# START_HERE"
   ]
  },
  {
   "cell_type": "markdown",
   "metadata": {},
   "source": [
    "### The docker binary (client / daemon)\n",
    "\n",
    "Typing 'docker' will list the available options\n"
   ]
  },
  {
   "cell_type": "code",
   "execution_count": 270,
   "metadata": {
    "collapsed": false
   },
   "outputs": [
    {
     "name": "stdout",
     "output_type": "stream",
     "text": [
      "Usage: docker [OPTIONS] COMMAND [arg...]\r\n",
      "       docker daemon [ --help | ... ]\r\n",
      "       docker [ --help | -v | --version ]\r\n",
      "\r\n",
      "A self-sufficient runtime for containers.\r\n",
      "\r\n",
      "Options:\r\n",
      "\r\n",
      "  --config=~/.docker                 Location of client config files\r\n",
      "  -D, --debug=false                  Enable debug mode\r\n",
      "  --disable-legacy-registry=false    Do not contact legacy registries\r\n",
      "  -H, --host=[]                      Daemon socket(s) to connect to\r\n",
      "  -h, --help=false                   Print usage\r\n",
      "  -l, --log-level=info               Set the logging level\r\n",
      "  --tls=false                        Use TLS; implied by --tlsverify\r\n",
      "  --tlscacert=~/.docker/ca.pem       Trust certs signed only by this CA\r\n",
      "  --tlscert=~/.docker/cert.pem       Path to TLS certificate file\r\n",
      "  --tlskey=~/.docker/key.pem         Path to TLS key file\r\n",
      "  --tlsverify=false                  Use TLS and verify the remote\r\n",
      "  -v, --version=false                Print version information and quit\r\n",
      "\r\n",
      "Commands:\r\n",
      "    attach    Attach to a running container\r\n",
      "    build     Build an image from a Dockerfile\r\n",
      "    commit    Create a new image from a container's changes\r\n",
      "    cp        Copy files/folders between a container and the local filesystem\r\n",
      "    create    Create a new container\r\n",
      "    diff      Inspect changes on a container's filesystem\r\n",
      "    events    Get real time events from the server\r\n",
      "    exec      Run a command in a running container\r\n",
      "    export    Export a container's filesystem as a tar archive\r\n",
      "    history   Show the history of an image\r\n",
      "    images    List images\r\n",
      "    import    Import the contents from a tarball to create a filesystem image\r\n",
      "    info      Display system-wide information\r\n",
      "    inspect   Return low-level information on a container or image\r\n",
      "    kill      Kill a running container\r\n",
      "    load      Load an image from a tar archive or STDIN\r\n",
      "    login     Register or log in to a Docker registry\r\n",
      "    logout    Log out from a Docker registry\r\n",
      "    logs      Fetch the logs of a container\r\n",
      "    network   Manage Docker networks\r\n",
      "    pause     Pause all processes within a container\r\n",
      "    port      List port mappings or a specific mapping for the CONTAINER\r\n",
      "    ps        List containers\r\n",
      "    pull      Pull an image or a repository from a registry\r\n",
      "    push      Push an image or a repository to a registry\r\n",
      "    rename    Rename a container\r\n",
      "    restart   Restart a container\r\n",
      "    rm        Remove one or more containers\r\n",
      "    rmi       Remove one or more images\r\n",
      "    run       Run a command in a new container\r\n",
      "    save      Save an image(s) to a tar archive\r\n",
      "    search    Search the Docker Hub for images\r\n",
      "    start     Start one or more stopped containers\r\n",
      "    stats     Display a live stream of container(s) resource usage statistics\r\n",
      "    stop      Stop a running container\r\n",
      "    tag       Tag an image into a repository\r\n",
      "    top       Display the running processes of a container\r\n",
      "    unpause   Unpause all processes within a container\r\n",
      "    version   Show the Docker version information\r\n",
      "    volume    Manage Docker volumes\r\n",
      "    wait      Block until a container stops, then print its exit code\r\n",
      "\r\n",
      "Run 'docker COMMAND --help' for more information on a command.\r\n"
     ]
    }
   ],
   "source": [
    "docker"
   ]
  },
  {
   "cell_type": "markdown",
   "metadata": {},
   "source": [
    "### Docker environment (client -> server)\n",
    "\n",
    "Let's find some information about our docker environment\n",
    "\n",
    "The Docker client needs to connect to a Docker daemon (the Docker engine) which in this case is running\n",
    "on the same machine.\n",
    "\n",
    "By default the client connects using the unix domain socket unix://var/run/docker.sock but we can configure to use a TCP socket, with default 127.0.0.1:2375.\n",
    "\n",
    "We can specify the connection to use by setting the DOCKER_HOST environment variable.\n",
    "\n",
    "**Note**: we can also specify the docker host on the command line with the '-H' option, e.g. specifying a non-standard port:\n",
    "\n",
    "    docker -H 127.0.0.1:2200 version\n"
   ]
  },
  {
   "cell_type": "markdown",
   "metadata": {},
   "source": [
    "Running the 'docker version' command will tell us what client version we are running,\n",
    "and it will also connect to the docker engine and tell us what version it is running.\n",
    "\n",
    "The API version often changes with client/server major version.\n",
    "\n",
    "Below we see the software release, API version and OS/architecture for the client and the server.\n",
    "\n",
    "So our client/server are compatible"
   ]
  },
  {
   "cell_type": "code",
   "execution_count": 272,
   "metadata": {
    "collapsed": false
   },
   "outputs": [
    {
     "name": "stdout",
     "output_type": "stream",
     "text": [
      "Client:\r\n",
      " Version:      1.9.1\r\n",
      " API version:  1.21\r\n",
      " Go version:   go1.4.3\r\n",
      " Git commit:   a34a1d5\r\n",
      " Built:        Fri Nov 20 17:56:04 UTC 2015\r\n",
      " OS/Arch:      linux/amd64\r\n",
      "\r\n",
      "Server:\r\n",
      " Version:      1.9.1\r\n",
      " API version:  1.21\r\n",
      " Go version:   go1.4.3\r\n",
      " Git commit:   a34a1d5\r\n",
      " Built:        Fri Nov 20 17:56:04 UTC 2015\r\n",
      " OS/Arch:      linux/amd64\r\n"
     ]
    }
   ],
   "source": [
    "docker version"
   ]
  },
  {
   "cell_type": "markdown",
   "metadata": {},
   "source": [
    "We can also get more information about our Docker engine (the daemon or server)\n",
    "with the 'docker info' command\n",
    "\n",
    "We see the currently number of running containers and the number of image (layers) stored locally\n",
    "on the engine"
   ]
  },
  {
   "cell_type": "markdown",
   "metadata": {},
   "source": [
    "On my Windows machine I can run a similar command from the command-line to show that we can connect using the Windows docker-machine binary:\n",
    "\n",
    "**21:22:50 0 mjbright@MJBRIGHT7 ~> /d/z/bin/DOCKER/win64/docker-1.9.1.exe -H tcp://127.0.0.1:2200 version**\n",
    "<pre>\n",
    "Client:\n",
    " Version:      1.9.1\n",
    " API version:  1.21\n",
    " Go version:   go1.4.3\n",
    " Git commit:   a34a1d5\n",
    " Built:        Fri Nov 20 17:56:04 UTC 2015\n",
    " OS/Arch:      windows/amd64\n",
    "\n",
    "Server:\n",
    " Version:      1.9.1\n",
    " API version:  1.21\n",
    " Go version:   go1.4.3\n",
    " Git commit:   a34a1d5\n",
    " Built:        Fri Nov 20 17:56:04 UTC 2015\n",
    " OS/Arch:      linux/amd64\n",
    " </pre>"
   ]
  },
  {
   "cell_type": "code",
   "execution_count": 274,
   "metadata": {
    "collapsed": false
   },
   "outputs": [
    {
     "name": "stdout",
     "output_type": "stream",
     "text": [
      "Containers: 1\r\n",
      "Images: 94\r\n",
      "Server Version: 1.9.1\r\n",
      "Storage Driver: aufs\r\n",
      " Root Dir: /var/lib/docker/aufs\r\n",
      " Backing Filesystem: extfs\r\n",
      " Dirs: 96\r\n",
      " Dirperm1 Supported: false\r\n",
      "Execution Driver: native-0.2\r\n",
      "Logging Driver: json-file\r\n",
      "Kernel Version: 3.13.0-61-generic\r\n",
      "Operating System: Ubuntu 14.04.2 LTS\r\n",
      "CPUs: 1\r\n",
      "Total Memory: 1.955 GiB\r\n",
      "Name: localhost\r\n",
      "ID: KA6Y:ZDFF:3WZG:M6S2:M2ES:DTKU:WI3M:7YUY:4PIL:FECS:JWRU:AFTS\r\n",
      "WARNING: No swap limit support\r\n"
     ]
    }
   ],
   "source": [
    "docker info"
   ]
  },
  {
   "cell_type": "markdown",
   "metadata": {},
   "source": [
    "### List the currently running processes\n",
    "\n",
    "**Note**: This is a list of running container instances, each of which is started from a particular image.\n",
    "          But we could have multiple containers running from the same image\n",
    "          (in fact they will have a separate list of additional layers specific to that container instance)"
   ]
  },
  {
   "cell_type": "code",
   "execution_count": 277,
   "metadata": {
    "collapsed": false
   },
   "outputs": [
    {
     "name": "stdout",
     "output_type": "stream",
     "text": [
      "CONTAINER ID        IMAGE                   COMMAND                  CREATED             STATUS              PORTS                    NAMES\r\n",
      "cdbde0b863f6        mjbright/jupyter_demo   \"tini -- start-notebo\"   17 hours ago        Up 17 hours         0.0.0.0:8878->8888/tcp   silly_saha\r\n"
     ]
    }
   ],
   "source": [
    "docker ps"
   ]
  },
  {
   "cell_type": "markdown",
   "metadata": {},
   "source": [
    "### Listing the available images on the local system\n",
    "\n",
    "Local images can be\n",
    "- locally built images\n",
    "- images pulled from a Docker registry (such as the public [Docker Hub](https://hub.docker.com/))\n",
    "\n",
    "Let's list the local images, see below."
   ]
  },
  {
   "cell_type": "code",
   "execution_count": 278,
   "metadata": {
    "collapsed": false
   },
   "outputs": [
    {
     "name": "stdout",
     "output_type": "stream",
     "text": [
      "REPOSITORY              TAG                 IMAGE ID            CREATED             VIRTUAL SIZE\r\n",
      "mjbright/jupyter_demo   latest              28c3ada05c44        4 weeks ago         8.141 GB\r\n"
     ]
    }
   ],
   "source": [
    "docker images"
   ]
  },
  {
   "cell_type": "markdown",
   "metadata": {},
   "source": [
    "But why don't we see the same number of images as with the 'info' sub-command?\n",
    "\n",
    "Let's look at the help for 'images'"
   ]
  },
  {
   "cell_type": "code",
   "execution_count": null,
   "metadata": {
    "collapsed": false
   },
   "outputs": [],
   "source": [
    "docker help images"
   ]
  },
  {
   "cell_type": "markdown",
   "metadata": {},
   "source": [
    "So we see that we can also list all intermediate images by using the '-a' option.\n"
   ]
  },
  {
   "cell_type": "code",
   "execution_count": 279,
   "metadata": {
    "collapsed": false
   },
   "outputs": [
    {
     "name": "stdout",
     "output_type": "stream",
     "text": [
      "REPOSITORY              TAG                 IMAGE ID            CREATED             VIRTUAL SIZE\r\n",
      "mjbright/jupyter_demo   latest              28c3ada05c44        4 weeks ago         8.141 GB\r\n",
      "<none>                  <none>              9d1d58384737        4 weeks ago         8.076 GB\r\n",
      "<none>                  <none>              94772e216d33        4 weeks ago         8.076 GB\r\n",
      "<none>                  <none>              6db9cae1b033        4 weeks ago         8.075 GB\r\n",
      "<none>                  <none>              8fb572569f06        4 weeks ago         8.074 GB\r\n",
      "<none>                  <none>              16c431f2e29c        4 weeks ago         8.074 GB\r\n",
      "<none>                  <none>              d18c4b39821a        4 weeks ago         8.072 GB\r\n",
      "<none>                  <none>              94e0c139ce31        4 weeks ago         8.002 GB\r\n",
      "<none>                  <none>              eb0acbb3217c        4 weeks ago         8.002 GB\r\n",
      "<none>                  <none>              616fefac0ddf        4 weeks ago         8.002 GB\r\n",
      "<none>                  <none>              9fc861df1db1        4 weeks ago         7.936 GB\r\n",
      "<none>                  <none>              125319862c59        4 weeks ago         7.936 GB\r\n",
      "<none>                  <none>              deff688199ec        4 weeks ago         7.936 GB\r\n",
      "<none>                  <none>              368c4d6f40f4        4 weeks ago         7.936 GB\r\n",
      "<none>                  <none>              084172a172ef        4 weeks ago         7.935 GB\r\n",
      "<none>                  <none>              24309a00b76f        4 weeks ago         7.935 GB\r\n",
      "<none>                  <none>              3a438cc587b2        4 weeks ago         7.935 GB\r\n",
      "<none>                  <none>              7c41b984a19b        4 weeks ago         7.93 GB\r\n",
      "<none>                  <none>              0ab2a9a46bfe        4 weeks ago         7.908 GB\r\n",
      "<none>                  <none>              02b4399883f8        4 weeks ago         7.908 GB\r\n",
      "<none>                  <none>              81624608346f        4 weeks ago         7.908 GB\r\n",
      "<none>                  <none>              f19d7a7b953f        4 weeks ago         7.908 GB\r\n",
      "<none>                  <none>              2b33be24250c        4 weeks ago         7.908 GB\r\n",
      "<none>                  <none>              beb51c3a228a        4 weeks ago         7.908 GB\r\n",
      "<none>                  <none>              b1ce0a0e6c67        4 weeks ago         7.906 GB\r\n",
      "<none>                  <none>              be88a01fdfd5        4 weeks ago         7.906 GB\r\n",
      "<none>                  <none>              adb69a4414ea        4 weeks ago         7.906 GB\r\n",
      "<none>                  <none>              151cdb4471b9        4 weeks ago         7.903 GB\r\n",
      "<none>                  <none>              09f4ea257ca0        4 weeks ago         7.903 GB\r\n",
      "<none>                  <none>              8ee1cdf6580e        4 weeks ago         7.903 GB\r\n",
      "<none>                  <none>              fdf8a4d0b6f7        4 weeks ago         7.903 GB\r\n",
      "<none>                  <none>              2a9cee4955ef        4 weeks ago         7.893 GB\r\n",
      "<none>                  <none>              b8afa9efd94e        6 weeks ago         7.893 GB\r\n",
      "<none>                  <none>              577dc36e65a8        6 weeks ago         7.893 GB\r\n",
      "<none>                  <none>              3b8898acc4b4        6 weeks ago         7.893 GB\r\n",
      "<none>                  <none>              aaee801a465c        6 weeks ago         7.893 GB\r\n",
      "<none>                  <none>              cd182f3cfb20        6 weeks ago         7.893 GB\r\n",
      "<none>                  <none>              4ed3a6e8e395        6 weeks ago         7.893 GB\r\n",
      "<none>                  <none>              dd8283417aba        6 weeks ago         7.016 GB\r\n",
      "<none>                  <none>              03475d33a0e0        6 weeks ago         7.016 GB\r\n",
      "<none>                  <none>              c969a950ccb5        6 weeks ago         7.016 GB\r\n",
      "<none>                  <none>              a1ab30342a86        6 weeks ago         6.845 GB\r\n",
      "<none>                  <none>              f3900b656b0e        6 weeks ago         7.016 GB\r\n",
      "<none>                  <none>              a1e239cedf62        6 weeks ago         6.843 GB\r\n",
      "<none>                  <none>              971272baf9d2        6 weeks ago         6.843 GB\r\n",
      "<none>                  <none>              58b7e35fc50e        6 weeks ago         6.773 GB\r\n",
      "<none>                  <none>              c9b7abed1f78        6 weeks ago         6.773 GB\r\n",
      "<none>                  <none>              1c97442e32bf        6 weeks ago         6.773 GB\r\n",
      "<none>                  <none>              0973e6a5428f        6 weeks ago         6.268 GB\r\n",
      "<none>                  <none>              d85cdb71f28b        6 weeks ago         6.151 GB\r\n",
      "<none>                  <none>              b6a2e82d2b6e        6 weeks ago         6.137 GB\r\n",
      "<none>                  <none>              5d6f815dbf33        6 weeks ago         5.727 GB\r\n",
      "<none>                  <none>              6278d9dc48e4        6 weeks ago         5.727 GB\r\n",
      "<none>                  <none>              0bf860cda9d1        6 weeks ago         5.727 GB\r\n",
      "<none>                  <none>              544351b44be3        6 weeks ago         5.726 GB\r\n",
      "<none>                  <none>              6a3fd418854f        6 weeks ago         4.877 GB\r\n",
      "<none>                  <none>              67ba225751cc        6 weeks ago         4.072 GB\r\n",
      "<none>                  <none>              02b905b87ccb        6 weeks ago         4.072 GB\r\n",
      "<none>                  <none>              286ed4d39416        6 weeks ago         4.072 GB\r\n",
      "<none>                  <none>              2d8fec25295c        6 weeks ago         4.072 GB\r\n",
      "<none>                  <none>              78d4e8d58fd1        6 weeks ago         4.072 GB\r\n",
      "<none>                  <none>              becbe84dfc09        6 weeks ago         3.925 GB\r\n",
      "<none>                  <none>              5bfd60c7c288        6 weeks ago         3.643 GB\r\n",
      "<none>                  <none>              9b9bbabaa07f        6 weeks ago         3.528 GB\r\n",
      "<none>                  <none>              413203a7daae        6 weeks ago         3.528 GB\r\n",
      "<none>                  <none>              1ed72529cb2f        6 weeks ago         3.012 GB\r\n",
      "<none>                  <none>              5a78ae94f987        6 weeks ago         2.854 GB\r\n",
      "<none>                  <none>              3dd6beb6cc32        6 weeks ago         2.798 GB\r\n",
      "<none>                  <none>              5c49418ab8aa        6 weeks ago         2.311 GB\r\n",
      "<none>                  <none>              0dd2058cc43d        6 weeks ago         2.28 GB\r\n",
      "<none>                  <none>              27236699a0ad        6 weeks ago         2.162 GB\r\n",
      "<none>                  <none>              4ddd2b3b853a        6 weeks ago         2.162 GB\r\n",
      "<none>                  <none>              bb9372ddc21e        7 weeks ago         2.162 GB\r\n",
      "<none>                  <none>              59be73705b0e        7 weeks ago         2.162 GB\r\n",
      "<none>                  <none>              ebb4a093127c        7 weeks ago         2.162 GB\r\n",
      "<none>                  <none>              c7d2036ab4ac        8 weeks ago         2.162 GB\r\n",
      "<none>                  <none>              7074a66d320d        8 weeks ago         2.162 GB\r\n",
      "<none>                  <none>              c3c43ba6d813        8 weeks ago         2.162 GB\r\n",
      "<none>                  <none>              d72436f026b9        8 weeks ago         2.162 GB\r\n",
      "<none>                  <none>              d9345d9f94bd        8 weeks ago         2.162 GB\r\n",
      "<none>                  <none>              2c1885f235fe        8 weeks ago         1.813 GB\r\n",
      "<none>                  <none>              d50ac9f94f43        8 weeks ago         1.753 GB\r\n",
      "<none>                  <none>              e0abdc437766        8 weeks ago         1.428 GB\r\n",
      "<none>                  <none>              b73b6312da8d        8 weeks ago         1.428 GB\r\n",
      "<none>                  <none>              82adda8ddef8        8 weeks ago         1.428 GB\r\n",
      "<none>                  <none>              af1211470049        8 weeks ago         1.428 GB\r\n",
      "<none>                  <none>              bd138b8b5cd7        8 weeks ago         1.428 GB\r\n",
      "<none>                  <none>              7c829fac917f        8 weeks ago         1.428 GB\r\n",
      "<none>                  <none>              68cfe93759e2        8 weeks ago         1.428 GB\r\n",
      "<none>                  <none>              de8a3f4bbb91        9 weeks ago         125.2 MB\r\n",
      "<none>                  <none>              53224307697d        9 weeks ago         125.2 MB\r\n",
      "<none>                  <none>              ec31c18c930e        9 weeks ago         125.2 MB\r\n",
      "<none>                  <none>              58016a5acc80        10 weeks ago        125.2 MB\r\n",
      "<none>                  <none>              e2a4fb18da48        10 weeks ago        125.2 MB\r\n"
     ]
    }
   ],
   "source": [
    "docker images -a"
   ]
  },
  {
   "cell_type": "markdown",
   "metadata": {},
   "source": [
    "Note: The info command tells us how many image (image-layers) are present but 'docker images' command will list only the\n",
    "    named layers.  To list all the intermediate layers we will use the '-a' option"
   ]
  },
  {
   "cell_type": "markdown",
   "metadata": {},
   "source": [
    "We'll look at those images again later"
   ]
  },
  {
   "cell_type": "code",
   "execution_count": 280,
   "metadata": {
    "collapsed": false
   },
   "outputs": [
    {
     "name": "stdout",
     "output_type": "stream",
     "text": [
      "IMAGE               CREATED             CREATED BY                                      SIZE                COMMENT\r\n",
      "28c3ada05c44        4 weeks ago         /bin/sh -c apt-get install -y python-novaclie   64.86 MB            \r\n",
      "9d1d58384737        4 weeks ago         /bin/sh -c #(nop) USER [root]                   0 B                 \r\n",
      "94772e216d33        4 weeks ago         /bin/sh -c pip install mpld3                    1.678 MB            \r\n",
      "6db9cae1b033        4 weeks ago         /bin/sh -c pip install plotchecker              155.1 kB            \r\n",
      "8fb572569f06        4 weeks ago         /bin/sh -c find . -name '*.ipynb' -exec ipyth   10.24 kB            \r\n",
      "16c431f2e29c        4 weeks ago         /bin/sh -c find . -name '*.ipynb' -exec ipyth   2.824 MB            \r\n",
      "d18c4b39821a        4 weeks ago         /bin/sh -c git clone --depth 1 https://github   69.65 MB            \r\n",
      "94e0c139ce31        4 weeks ago         /bin/sh -c nbgrader extension install --user    392.8 kB            \r\n",
      "eb0acbb3217c        4 weeks ago         /bin/sh -c #(nop) ENV PATH=/home/jovyan/.loca   0 B                 \r\n",
      "616fefac0ddf        4 weeks ago         /bin/sh -c cd /home/jovyan/src/git &&     git   65.28 MB            \r\n",
      "125319862c59        4 weeks ago         /bin/sh -c #(nop) USER [jovyan]                 0 B                 \r\n",
      "9fc861df1db1        4 weeks ago         /bin/sh -c apt-get install -y pandoc            0 B                 \r\n",
      "deff688199ec        4 weeks ago         /bin/sh -c #(nop) USER [root]                   0 B                 \r\n",
      "368c4d6f40f4        4 weeks ago         /bin/sh -c cd /home/jovyan/src/git &&     git   787.6 kB            \r\n",
      "3a438cc587b2        4 weeks ago         /bin/sh -c #(nop) USER [jovyan]                 0 B                 \r\n",
      "24309a00b76f        4 weeks ago         /bin/sh -c mkdir -p /home/jovyan/.ssh           0 B                 \r\n",
      "084172a172ef        4 weeks ago         /bin/sh -c apt-get install -y openssh-client    5.504 MB            \r\n",
      "7c41b984a19b        4 weeks ago         /bin/sh -c #(nop) ADD file:4dd5527e6ec1c9a12c   21.6 MB             \r\n",
      "0ab2a9a46bfe        4 weeks ago         /bin/sh -c chown jovyan /home/jovyan/work &&    0 B                 \r\n",
      "f19d7a7b953f        4 weeks ago         /bin/sh -c [ ! -d /home/jovyan/work ] && mkdi   0 B                 \r\n",
      "02b4399883f8        4 weeks ago         /bin/sh -c #(nop) ADD file:14d03dd1c6d848d0e2   106 B               \r\n",
      "81624608346f        4 weeks ago         /bin/sh -c groupadd -g 1000 docker &&     use   2.192 kB            \r\n",
      "beb51c3a228a        4 weeks ago         /bin/sh -c #(nop) USER [root]                   0 B                 \r\n",
      "2b33be24250c        4 weeks ago         /bin/sh -c cd /home/jovyan &&     mkdir -p /h   2.578 MB            \r\n",
      "b1ce0a0e6c67        4 weeks ago         /bin/sh -c pip install --no-cache-dir bash_ke   251 B               \r\n",
      "be88a01fdfd5        4 weeks ago         /bin/sh -c #(nop) USER [jovyan]                 0 B                 \r\n",
      "adb69a4414ea        4 weeks ago         /bin/sh -c gem install --no-rdoc --no-ri scir   2.999 MB            \r\n",
      "151cdb4471b9        4 weeks ago         /bin/sh -c apt-get install -y --no-install-re   0 B                 \r\n",
      "09f4ea257ca0        4 weeks ago         /bin/sh -c apt-get install -y --no-install-re   0 B                 \r\n",
      "8ee1cdf6580e        4 weeks ago         /bin/sh -c #(nop) ENV PATH=/opt/conda/bin:/ho   0 B                 \r\n",
      "fdf8a4d0b6f7        4 weeks ago         /bin/sh -c apt-get update                       9.604 MB            \r\n",
      "2a9cee4955ef        4 weeks ago         /bin/sh -c #(nop) MAINTAINER Michael Bright     0 B                 \r\n",
      "b8afa9efd94e        6 weeks ago         /bin/sh -c cat /tmp/jupyter_notebook_config.p   1.99 kB             \r\n",
      "577dc36e65a8        6 weeks ago         /bin/sh -c #(nop) COPY file:5dfc3e36e32582975   637 B               \r\n",
      "aaee801a465c        6 weeks ago         /bin/sh -c chmod a+rX /srv/templates            0 B                 \r\n",
      "3b8898acc4b4        6 weeks ago         /bin/sh -c #(nop) COPY dir:26ac4f54b1fd83189d   1.052 kB            \r\n",
      "cd182f3cfb20        6 weeks ago         /bin/sh -c #(nop) COPY file:6b59af91e20751e07   447 B               \r\n",
      "4ed3a6e8e395        6 weeks ago         /bin/sh -c find /home/jovyan/work -name '*.ip   877.2 MB            \r\n",
      "c969a950ccb5        6 weeks ago         /bin/sh -c #(nop) USER [root]                   0 B                 \r\n",
      "03475d33a0e0        6 weeks ago         /bin/sh -c #(nop) COPY file:b6f14c311d0e26efb   224 B               \r\n",
      "dd8283417aba        6 weeks ago         /bin/sh -c mkdir -p /opt/conda/share/jupyter/   0 B                 \r\n",
      "f3900b656b0e        6 weeks ago         /bin/sh -c #(nop) COPY dir:aeb22d0aa6941d6a06   171.1 MB            \r\n",
      "a1ab30342a86        6 weeks ago         /bin/sh -c #(nop) COPY dir:948d9ec195b76157e2   1.734 MB            \r\n",
      "a1e239cedf62        6 weeks ago         /bin/sh -c git clone --depth 1 https://github   60.76 kB            \r\n",
      "971272baf9d2        6 weeks ago         /bin/sh -c git clone --depth 1 https://github   69.65 MB            \r\n",
      "58b7e35fc50e        6 weeks ago         /bin/sh -c mkdir -p /home/jovyan/work/communi   0 B                 \r\n",
      "c9b7abed1f78        6 weeks ago         /bin/sh -c pip install --user --no-cache-dir    86.14 kB            \r\n",
      "1c97442e32bf        6 weeks ago         /bin/sh -c cabal update &&     CURL_CA_BUNDLE   505.7 MB            \r\n",
      "0973e6a5428f        6 weeks ago         /bin/sh -c julia -e 'Pkg.add(\"Gadfly\")' && ju   116.4 MB            \r\n",
      "d85cdb71f28b        6 weeks ago         /bin/sh -c julia -e 'Pkg.add(\"IJulia\")'         13.77 MB            \r\n",
      "b6a2e82d2b6e        6 weeks ago         /bin/sh -c conda install --yes r-irkernel r-p   410.9 MB            \r\n",
      "6278d9dc48e4        6 weeks ago         /bin/sh -c conda config --add channels r        29 B                \r\n",
      "5d6f815dbf33        6 weeks ago         /bin/sh -c iruby register                       31.19 kB            \r\n",
      "0bf860cda9d1        6 weeks ago         /bin/sh -c $CONDA_DIR/envs/python2/bin/python   309.1 kB            \r\n",
      "544351b44be3        6 weeks ago         /bin/sh -c conda create -p $CONDA_DIR/envs/py   849.8 MB            \r\n",
      "6a3fd418854f        6 weeks ago         /bin/sh -c conda install --yes numpy pandas s   804.3 MB            \r\n",
      "02b905b87ccb        6 weeks ago         /bin/sh -c #(nop) ENV PYTHONPATH=/usr/local/s   0 B                 \r\n",
      "2d8fec25295c        6 weeks ago         /bin/sh -c #(nop) ENV SPARK_HOME=/usr/local/s   0 B                 \r\n",
      "67ba225751cc        6 weeks ago         /bin/sh -c #(nop) ENV PATH=/home/jovyan/.caba   0 B                 \r\n",
      "286ed4d39416        6 weeks ago         /bin/sh -c #(nop) USER [jovyan]                 0 B                 \r\n",
      "78d4e8d58fd1        6 weeks ago         /bin/sh -c cd /tmp &&     echo deb http://dl.   147.7 MB            \r\n",
      "becbe84dfc09        6 weeks ago         /bin/sh -c wget -qO - http://d3kbcqa49mib13.c   281.5 MB            \r\n",
      "5bfd60c7c288        6 weeks ago         /bin/sh -c apt-get update &&     apt-get inst   115.1 MB            \r\n",
      "9b9bbabaa07f        6 weeks ago         /bin/sh -c #(nop) ENV APACHE_SPARK_VERSION=1.   0 B                 \r\n",
      "413203a7daae        6 weeks ago         /bin/sh -c gem install --no-rdoc --no-ri scir   515.6 MB            \r\n",
      "1ed72529cb2f        6 weeks ago         /bin/sh -c apt-get install -y --no-install-re   158.7 MB            \r\n",
      "5a78ae94f987        6 weeks ago         /bin/sh -c apt-get install -y --no-install-re   55.96 MB            \r\n",
      "3dd6beb6cc32        6 weeks ago         /bin/sh -c apt-get update &&     apt-get inst   486.4 MB            \r\n",
      "5c49418ab8aa        6 weeks ago         /bin/sh -c apt-get update &&     apt-get inst   31.14 MB            \r\n",
      "0dd2058cc43d        6 weeks ago         /bin/sh -c apt-get update &&      apt-get ins   118.1 MB            \r\n",
      "27236699a0ad        6 weeks ago         /bin/sh -c #(nop) USER [root]                   0 B                 \r\n",
      "4ddd2b3b853a        6 weeks ago         /bin/sh -c #(nop) MAINTAINER Jupyter Project    0 B                 \r\n",
      "bb9372ddc21e        7 weeks ago         /bin/sh -c chown -R $NB_USER:users /home/$NB_   1.353 kB            \r\n",
      "59be73705b0e        7 weeks ago         /bin/sh -c #(nop) COPY file:92ab115ce14297458   1.353 kB            \r\n",
      "ebb4a093127c        7 weeks ago         /bin/sh -c #(nop) COPY file:2b820ac933e1e163a   398 B               \r\n",
      "7074a66d320d        8 weeks ago         /bin/sh -c #(nop) CMD [\"start-notebook.sh\"]     0 B                 \r\n",
      "c3c43ba6d813        8 weeks ago         /bin/sh -c #(nop) ENTRYPOINT &{[\"tini\" \"--\"]}   0 B                 \r\n",
      "c7d2036ab4ac        8 weeks ago         /bin/sh -c #(nop) WORKDIR /home/jovyan/work     0 B                 \r\n",
      "d72436f026b9        8 weeks ago         /bin/sh -c #(nop) EXPOSE 8888/tcp               0 B                 \r\n",
      "d9345d9f94bd        8 weeks ago         /bin/sh -c useradd -m -s /bin/bash -N -u $NB_   349.5 MB            \r\n",
      "2c1885f235fe        8 weeks ago         /bin/sh -c conda install --yes     'notebook=   59.28 MB            \r\n",
      "d50ac9f94f43        8 weeks ago         /bin/sh -c mkdir -p $CONDA_DIR &&     echo ex   325 MB              \r\n",
      "e0abdc437766        8 weeks ago         /bin/sh -c #(nop) ENV NB_UID=1000               0 B                 \r\n",
      "82adda8ddef8        8 weeks ago         /bin/sh -c #(nop) ENV NB_USER=jovyan            0 B                 \r\n",
      "7c829fac917f        8 weeks ago         /bin/sh -c #(nop) ENV SHELL=/bin/bash           0 B                 \r\n",
      "af1211470049        8 weeks ago         /bin/sh -c #(nop) ENV PATH=/opt/conda/bin:/us   0 B                 \r\n",
      "b73b6312da8d        8 weeks ago         /bin/sh -c #(nop) ENV CONDA_DIR=/opt/conda      0 B                 \r\n",
      "bd138b8b5cd7        8 weeks ago         /bin/sh -c wget --quiet https://github.com/kr   14.58 kB            \r\n",
      "68cfe93759e2        8 weeks ago         /bin/sh -c apt-get update && apt-get install    1.303 GB            \r\n",
      "de8a3f4bbb91        9 weeks ago         /bin/sh -c #(nop) ENV DEBIAN_FRONTEND=noninte   0 B                 \r\n",
      "53224307697d        9 weeks ago         /bin/sh -c #(nop) USER [root]                   0 B                 \r\n",
      "ec31c18c930e        9 weeks ago         /bin/sh -c #(nop) MAINTAINER Jupyter Project    0 B                 \r\n",
      "58016a5acc80        10 weeks ago        /bin/sh -c #(nop) CMD [\"/bin/bash\"]             0 B                 \r\n",
      "e2a4fb18da48        10 weeks ago        /bin/sh -c #(nop) ADD file:fd73312d29edb04f9c   125.2 MB            \r\n"
     ]
    }
   ],
   "source": [
    "docker history mjbright/jupyter_demo"
   ]
  },
  {
   "cell_type": "code",
   "execution_count": 281,
   "metadata": {
    "collapsed": false
   },
   "outputs": [
    {
     "name": "stdout",
     "output_type": "stream",
     "text": [
      "REPOSITORY              TAG                 IMAGE ID            CREATED             VIRTUAL SIZE\r\n",
      "mjbright/jupyter_demo   latest              28c3ada05c44        4 weeks ago         8.141 GB\r\n"
     ]
    }
   ],
   "source": [
    "docker images"
   ]
  },
  {
   "cell_type": "markdown",
   "metadata": {},
   "source": [
    "### Searching for images on [Docker Hub](https://hub.docker.com/).\n",
    "\n",
    "Let's search for available 'hello-world' images.\n",
    "\n",
    "First let's look to see what options are available to the docker 'search' sub-command"
   ]
  },
  {
   "cell_type": "code",
   "execution_count": null,
   "metadata": {
    "collapsed": false
   },
   "outputs": [],
   "source": [
    "docker help search"
   ]
  },
  {
   "cell_type": "markdown",
   "metadata": {},
   "source": [
    "Now let's search for hello-world"
   ]
  },
  {
   "cell_type": "code",
   "execution_count": 282,
   "metadata": {
    "collapsed": false
   },
   "outputs": [
    {
     "name": "stdout",
     "output_type": "stream",
     "text": [
      "NAME                                     DESCRIPTION                                     STARS     OFFICIAL   AUTOMATED\r\n",
      "hello-world                              Hello World! (an example of minimal Docker...   37        [OK]       \r\n",
      "tutum/hello-world                        Image to test docker deployments. Has Apac...   19                   [OK]\r\n",
      "marcells/aspnet-hello-world              ASP.NET vNext - Hello World                     2                    [OK]\r\n",
      "rackerlabs/hello-world-app               This is a sample Python web application, r...   1                    [OK]\r\n",
      "vegasbrianc/docker-hello-world                                                           1                    [OK]\r\n",
      "carinamarina/hello-world-web             A Python web app, running on port 5000, wh...   1                    [OK]\r\n",
      "sbasyal/java-hello-world                                                                 1                    [OK]\r\n",
      "carinamarina/hello-world-app             This is a sample Python web application, r...   1                    [OK]\r\n",
      "boobalan/hello-world                     trying automated build in docker                0                    [OK]\r\n",
      "bencampbell/hello-world                  First automated build.                          0                    [OK]\r\n",
      "cpro/http-hello-world                    Hello world                                     0                    [OK]\r\n",
      "fermayo/hello-world                                                                      0                    [OK]\r\n",
      "kevto/play2-docker-hello-world           Hello World application in Play2 to test D...   0                    [OK]\r\n",
      "willejs/go-hello-world                   simple hello world webserver written in go...   0                    [OK]\r\n",
      "keithchambers/docker-hello-world                                                         0                    [OK]\r\n",
      "jlrigau/hello-world                      Hello World                                     0                    [OK]\r\n",
      "jblacketter/docker-hello-world           Hello world tutum                               0                    [OK]\r\n",
      "rcarun/hello-world                                                                       0                    [OK]\r\n",
      "wodge/docker-hello-world                 Hello World test for auto update to Docker...   0                    [OK]\r\n",
      "n8io/hello-world                         A simple hello world node.js app to test d...   0                    [OK]\r\n",
      "crccheck/hello-world                     Hello World web server in under 2.5 MB          0                    [OK]\r\n",
      "nirmata/hello-world                                                                      0                    [OK]\r\n",
      "asakaguchi/docker-nodejs-hello-world     Hello World for Docker                          0                    [OK]\r\n",
      "alexwelch/hello-world                                                                    0                    [OK]\r\n",
      "asakaguchi/magellan-nodejs-hello-world   Hello World for MAGELLAN                        0                    [OK]\r\n"
     ]
    }
   ],
   "source": [
    "docker search hello-world"
   ]
  },
  {
   "cell_type": "markdown",
   "metadata": {},
   "source": [
    "There are many 'hello-world' images available, let's see how we can refine our search.\n",
    "\n",
    "Let's search for **automated build** images (automatically built from a public **git** source), with at least 10 stars"
   ]
  },
  {
   "cell_type": "code",
   "execution_count": null,
   "metadata": {
    "collapsed": false
   },
   "outputs": [],
   "source": [
    "docker search --automated=true hello-world"
   ]
  },
  {
   "cell_type": "markdown",
   "metadata": {},
   "source": [
    "This has reduced the search.\n",
    "\n",
    "But unfortunately there is no flag to select **official** builds, so we have not selected the image we want.\n",
    "\n",
    "Let's search for **starred** images (up-voted by [Docker Hub](https://hub.docker.com/) users), with at least 10 stars"
   ]
  },
  {
   "cell_type": "code",
   "execution_count": null,
   "metadata": {
    "collapsed": false
   },
   "outputs": [],
   "source": [
    "docker search -s 10 hello-world"
   ]
  },
  {
   "cell_type": "markdown",
   "metadata": {},
   "source": [
    "This was just an exercise in searching.\n",
    "\n",
    "We know that it is the first entry 'hello-world' which is the Docker official 'hello-world' that we're searching for, so we will use that.\n",
    "\n",
    "Before downloading that image, let's first look for some more interesting image.\n",
    "\n",
    "Any suggestion?\n",
    "\n",
    "How about a Ruby-on-Rails image, that's a pretty tough environment to manage, having a Docker image already built would be a fantastic help for a Rails user.\n",
    "\n",
    "So let's search for '**rails**'"
   ]
  },
  {
   "cell_type": "code",
   "execution_count": null,
   "metadata": {
    "collapsed": false
   },
   "outputs": [],
   "source": [
    "docker search rails"
   ]
  },
  {
   "cell_type": "markdown",
   "metadata": {},
   "source": [
    "Excellent !\n",
    "\n",
    "There's a vast choice of images of different origins\n",
    "- only 1 official build\n",
    "- many automated builds (from github sources)"
   ]
  },
  {
   "cell_type": "markdown",
   "metadata": {},
   "source": [
    "### Looking at available images on the public [Docker Hub](https://hub.docker.com/) website\n",
    "\n",
    "Let's have a look on the [Docker Hub](https://hub.docker.com/) to learn about those official builds.\n",
    "\n",
    "Goto [Search for 'rails' on Docker Hub](https://hub.docker.com/search/?q=rails&page=1&isAutomated=0&isOfficial=0&starCount=0&pullCount=0)\n",
    "\n",
    "Let's look at my images on [Docker Hub](https://hub.docker.com/)\n",
    "\n",
    "<!-- There we will see .. -->\n"
   ]
  },
  {
   "cell_type": "markdown",
   "metadata": {},
   "source": [
    "### Pulling and running an image\n",
    "\n",
    "We could just run\n",
    ">    docker run hello-world\n",
    "\n",
    "and the image will be downloaded if not present locally.\n",
    "\n",
    "But to show the downloading we will first pull the image\n",
    "then run it\n",
    "\n",
    "So we will **pull** the image and **then** run it\n"
   ]
  },
  {
   "cell_type": "code",
   "execution_count": null,
   "metadata": {
    "collapsed": true
   },
   "outputs": [],
   "source": [
    "docker pull hello-world"
   ]
  },
  {
   "cell_type": "code",
   "execution_count": null,
   "metadata": {
    "collapsed": true
   },
   "outputs": [],
   "source": [
    "docker images"
   ]
  },
  {
   "cell_type": "code",
   "execution_count": 285,
   "metadata": {
    "collapsed": false
   },
   "outputs": [
    {
     "name": "stdout",
     "output_type": "stream",
     "text": [
      "IMAGE               CREATED             CREATED BY                                      SIZE                COMMENT\r\n",
      "0a6ba66e537a        9 weeks ago         /bin/sh -c #(nop) CMD [\"/hello\"]                0 B                 \r\n",
      "b901d36b6f2f        9 weeks ago         /bin/sh -c #(nop) COPY file:1ad52e3eaf4327c8f   960 B               \r\n"
     ]
    }
   ],
   "source": [
    "docker history hello-world"
   ]
  },
  {
   "cell_type": "code",
   "execution_count": 286,
   "metadata": {
    "collapsed": false
   },
   "outputs": [
    {
     "name": "stdout",
     "output_type": "stream",
     "text": [
      "\r\n",
      "Hello from Docker.\r\n",
      "This message shows that your installation appears to be working correctly.\r\n",
      "\r\n",
      "To generate this message, Docker took the following steps:\r\n",
      " 1. The Docker client contacted the Docker daemon.\r\n",
      " 2. The Docker daemon pulled the \"hello-world\" image from the Docker Hub.\r\n",
      " 3. The Docker daemon created a new container from that image which runs the\r\n",
      "    executable that produces the output you are currently reading.\r\n",
      " 4. The Docker daemon streamed that output to the Docker client, which sent it\r\n",
      "    to your terminal.\r\n",
      "\r\n",
      "To try something more ambitious, you can run an Ubuntu container with:\r\n",
      " $ docker run -it ubuntu bash\r\n",
      "\r\n",
      "Share images, automate workflows, and more with a free Docker Hub account:\r\n",
      " https://hub.docker.com\r\n",
      "\r\n",
      "For more examples and ideas, visit:\r\n",
      " https://docs.docker.com/userguide/\r\n",
      "\r\n"
     ]
    }
   ],
   "source": [
    "docker run hello-world"
   ]
  },
  {
   "cell_type": "markdown",
   "metadata": {},
   "source": [
    "So the Docker provided 'hello-world' program simply prints a message.\n",
    "\n",
    "We can list the images now on the system, and we see that this image is **really small**, in fact it's\n",
    "960 bytes.\n",
    "\n",
    "Note the other images on the system\n",
    "- 'alpine' if present is a very small linux system image of about 5MBytes\n",
    "  It is purposefully small to provide a minimal linux command-line image\n",
    "- 'several' other images of several GBytes\n",
    "\n",
    "This demonstrates that images can contain a whole operating system, whether they are used\n",
    "to run 1, several or many processes\n"
   ]
  },
  {
   "cell_type": "code",
   "execution_count": null,
   "metadata": {
    "collapsed": false
   },
   "outputs": [],
   "source": [
    "docker images"
   ]
  },
  {
   "cell_type": "code",
   "execution_count": null,
   "metadata": {
    "collapsed": false
   },
   "outputs": [],
   "source": [
    "docker help images"
   ]
  },
  {
   "cell_type": "code",
   "execution_count": null,
   "metadata": {
    "collapsed": false
   },
   "outputs": [],
   "source": [
    "docker images hello-world"
   ]
  },
  {
   "cell_type": "markdown",
   "metadata": {},
   "source": [
    "We can use the 'history' sub-command to look at how this image was 'built'\n",
    "\n",
    "We will re-visit this later"
   ]
  },
  {
   "cell_type": "code",
   "execution_count": null,
   "metadata": {
    "collapsed": false
   },
   "outputs": [],
   "source": [
    "docker history hello-world"
   ]
  },
  {
   "cell_type": "markdown",
   "metadata": {},
   "source": [
    "Now let's run an 'alpine' linux image - we'll just use some shell commands\n",
    "\n",
    "Note how if the image is already present, the run is almost instantaneous.\n",
    "This is because we're basically just launching a process\n",
    "(albeit over a REST connection, and in a limited namespace/cgroup environment)\n",
    "\n",
    "If the image is not present then there's a delay for the image to be downloaded.\n",
    "For further runs the image is cached."
   ]
  },
  {
   "cell_type": "code",
   "execution_count": null,
   "metadata": {
    "collapsed": false
   },
   "outputs": [],
   "source": [
    "docker run alpine echo 'Hello'"
   ]
  },
  {
   "cell_type": "markdown",
   "metadata": {},
   "source": [
    "Note that our alpine container is no longer running:"
   ]
  },
  {
   "cell_type": "code",
   "execution_count": null,
   "metadata": {
    "collapsed": false
   },
   "outputs": [],
   "source": [
    "docker ps"
   ]
  },
  {
   "cell_type": "markdown",
   "metadata": {},
   "source": [
    "But the container is still present after it has stopped (unless started with --rm option):"
   ]
  },
  {
   "cell_type": "code",
   "execution_count": null,
   "metadata": {
    "collapsed": false
   },
   "outputs": [],
   "source": [
    "docker ps -a"
   ]
  },
  {
   "cell_type": "markdown",
   "metadata": {},
   "source": [
    "Now let's run a short looping command.\n",
    "\n",
    "Note as this demo shell is not completely interactive we need to wait for completion before seeing the output.\n",
    "This is a characteristic of this notebook, not of Docker.\n",
    "\n",
    "**Note**: We would normally run an interactive session with '-it' options\n",
    "     e.g. docker run -it image command\n",
    "     "
   ]
  },
  {
   "cell_type": "code",
   "execution_count": null,
   "metadata": {
    "collapsed": false
   },
   "outputs": [],
   "source": [
    "docker run -it alpine sh -c 'LOOP=1; while [ $LOOP -le 3 ];do date; sleep 1; let LOOP=LOOP+1; done'"
   ]
  },
  {
   "cell_type": "markdown",
   "metadata": {},
   "source": [
    "From a separate shell you can launch a shell in the alpine image with\n",
    "    docker run -it alpine\n",
    "which will invoke the default **CMD** which in this case is the **sh** shell"
   ]
  },
  {
   "cell_type": "markdown",
   "metadata": {},
   "source": [
    "Now let's run a long lived loop\n",
    "\n",
    "Because of this environment we wouldn't see the output until the command is stopped anyway.\n",
    "So we'll launch the command in daemon mode"
   ]
  },
  {
   "cell_type": "code",
   "execution_count": null,
   "metadata": {
    "collapsed": false
   },
   "outputs": [],
   "source": [
    "docker run -d alpine sh -c \"while true;do date; sleep 1; done\""
   ]
  },
  {
   "cell_type": "markdown",
   "metadata": {
    "collapsed": true
   },
   "source": [
    "Note the 'container id' above.\n",
    "\n",
    "If we perform docker ps we will see a list of running containers, including this one.\n",
    "The docker ps will show a shortened, but still unique sha1, for the container"
   ]
  },
  {
   "cell_type": "code",
   "execution_count": null,
   "metadata": {
    "collapsed": false
   },
   "outputs": [],
   "source": [
    "docker ps"
   ]
  },
  {
   "cell_type": "code",
   "execution_count": null,
   "metadata": {
    "collapsed": false
   },
   "outputs": [],
   "source": [
    "docker help ps"
   ]
  },
  {
   "cell_type": "code",
   "execution_count": null,
   "metadata": {
    "collapsed": false
   },
   "outputs": [],
   "source": [
    "docker ps --no-trunc"
   ]
  },
  {
   "cell_type": "markdown",
   "metadata": {},
   "source": [
    "Note that unless we specify the '--rm' option to the 'run' sub-command then when a container process(tree) exits\n",
    "the container will still exist on the system.\n",
    "\n",
    "We can list all containers - still running or not - with the\n",
    "> docker ps -a\n",
    "command\n",
    "\n",
    "try it"
   ]
  },
  {
   "cell_type": "code",
   "execution_count": null,
   "metadata": {
    "collapsed": false
   },
   "outputs": [],
   "source": [
    "docker ps -a"
   ]
  },
  {
   "cell_type": "markdown",
   "metadata": {},
   "source": [
    "Note that we can also display the last launched container with the '-l' option\n",
    "Note that we can also display just the id of containers with the '-q' option"
   ]
  },
  {
   "cell_type": "code",
   "execution_count": null,
   "metadata": {
    "collapsed": false
   },
   "outputs": [],
   "source": [
    "docker ps -q"
   ]
  },
  {
   "cell_type": "code",
   "execution_count": null,
   "metadata": {
    "collapsed": false
   },
   "outputs": [],
   "source": [
    "docker ps -lq"
   ]
  },
  {
   "cell_type": "markdown",
   "metadata": {},
   "source": [
    "This can be very useful in the shell (not this shell) to perform some operations,\n",
    "e.g.\n",
    "- Stop all running containers:\n",
    "    > docker stop $(docker ps -q)\n",
    "\n",
    "- Stop the last launched running container:\n",
    "    > docker stop $(docker ps -q)\n",
    "\n",
    "- Remove all stopped containers still present:\n",
    "    > docker rm $(docker ps -qa)\n",
    "\n",
    "\n",
    "### Now let's see how we can interrogate a container (running or stopped)\n",
    "\n",
    "Some commands can be performed here, some will have to be run from the shell ...\n",
    "\n",
    "Let's run the 'docker inspect' command which will provide us a JSON description of the container\n",
    "\n",
    "**NOTE**: You will have to replace the container id below"
   ]
  },
  {
   "cell_type": "code",
   "execution_count": null,
   "metadata": {
    "collapsed": false
   },
   "outputs": [],
   "source": [
    "docker ps -a"
   ]
  },
  {
   "cell_type": "code",
   "execution_count": null,
   "metadata": {
    "collapsed": false
   },
   "outputs": [],
   "source": [
    "docker inspect    0fa8b579c3cc                      "
   ]
  },
  {
   "cell_type": "markdown",
   "metadata": {},
   "source": [
    "The 'docker logs' command will show us the container output which is stored"
   ]
  },
  {
   "cell_type": "code",
   "execution_count": null,
   "metadata": {
    "collapsed": false
   },
   "outputs": [],
   "source": [
    "docker logs 525330e0d241                \n"
   ]
  },
  {
   "cell_type": "markdown",
   "metadata": {},
   "source": [
    "The 'docker exec' command will show us the container output which is stored\n",
    "\n",
    "You can launch a shell within the container (but not from this notebook).\n",
    "\n",
    "Try it in a separate shell on the host.\n",
    "> docker exec &lt;CONTAINER_ID&gt; sh\n",
    "\n",
    "Now below let's run uptime within the container (from this notebook)\n",
    "\n",
    "Does this uptime correspond to the uptime of the container, or rather the system??"
   ]
  },
  {
   "cell_type": "code",
   "execution_count": null,
   "metadata": {
    "collapsed": false
   },
   "outputs": [],
   "source": [
    "docker exec 525330e0d241 uptime"
   ]
  },
  {
   "cell_type": "markdown",
   "metadata": {},
   "source": [
    "### Investigate the host system\n",
    "\n",
    "In a separate shell on the actual host investigate the host system\n",
    "- Use pstree to see the docker processes\n",
    "  - Use 'ps -ef | grep docker' to find the docker daemon pid\n",
    "  - Look at the sub-processes/threads with\n",
    "    'pstree -ap <pid>'\n",
    "  - Watch the sub-processes with\n",
    "    'watch \"pstree -ap <pid> | grep -v {docker}\"\n",
    "    "
   ]
  },
  {
   "cell_type": "code",
   "execution_count": null,
   "metadata": {
    "collapsed": false
   },
   "outputs": [],
   "source": [
    "docker exec 525330e0d241 sleep 20"
   ]
  },
  {
   "cell_type": "code",
   "execution_count": null,
   "metadata": {
    "collapsed": false
   },
   "outputs": [],
   "source": [
    "docker images"
   ]
  },
  {
   "cell_type": "code",
   "execution_count": null,
   "metadata": {
    "collapsed": false
   },
   "outputs": [],
   "source": [
    "docker history alpine"
   ]
  },
  {
   "cell_type": "code",
   "execution_count": null,
   "metadata": {
    "collapsed": false,
    "scrolled": true
   },
   "outputs": [],
   "source": [
    "docker history mjbright/jupyter_demo"
   ]
  },
  {
   "cell_type": "code",
   "execution_count": null,
   "metadata": {
    "collapsed": false
   },
   "outputs": [],
   "source": [
    "ls -altr Dockerfile*"
   ]
  },
  {
   "cell_type": "code",
   "execution_count": null,
   "metadata": {
    "collapsed": false
   },
   "outputs": [],
   "source": [
    "cat Dockerfile.mjbright-jupyter_demo"
   ]
  },
  {
   "cell_type": "code",
   "execution_count": null,
   "metadata": {
    "collapsed": false
   },
   "outputs": [],
   "source": [
    "docker info"
   ]
  },
  {
   "cell_type": "code",
   "execution_count": null,
   "metadata": {
    "collapsed": false
   },
   "outputs": [],
   "source": [
    "docker ps"
   ]
  },
  {
   "cell_type": "code",
   "execution_count": null,
   "metadata": {
    "collapsed": false
   },
   "outputs": [],
   "source": [
    "docker ps -a"
   ]
  },
  {
   "cell_type": "markdown",
   "metadata": {},
   "source": [
    "### Looking at automated builds on the public [Docker Hub](https://hub.docker.com/) website\n",
    "\n",
    "\n",
    "Let's look at one of my own automated ['jupyter/demo' image on Docker Hub](https://hub.docker.com/r/mjbright/jupyter_demo/)\n",
    "\n",
    "There we will see\n",
    "- Repo Info:     We see the 'docker pull' command to use to pull the image\n",
    "- Tags\n",
    "- Description:   If any ;-)\n",
    "- Dockerfile:    Look at the Dockerfile which was provided from git (github or bitbucket)\n",
    "  - We see that this image is derived **FROM** an existing jupyter/minimal-notebook image\n",
    "  - Note the '**Source Project**' button on the right-hand side which links to the git source\n",
    "- Build Details: We see a list of builds, we can look at the detail of each one\n",
    "- Build Settings\n",
    "- Collaborators\n",
    "- WebHooks:      This image will be rebuilt when the git source changes,\n",
    "                 but we can also specify existing images upon which we depend, which\n",
    "                 should trigger a build\n",
    "\n",
    "All this adds up to **FREE builds** for open sourced git projects !!"
   ]
  },
  {
   "cell_type": "markdown",
   "metadata": {},
   "source": [
    "# Docker networking"
   ]
  },
  {
   "cell_type": "code",
   "execution_count": null,
   "metadata": {
    "collapsed": false
   },
   "outputs": [],
   "source": [
    "docker help network"
   ]
  },
  {
   "cell_type": "code",
   "execution_count": null,
   "metadata": {
    "collapsed": false
   },
   "outputs": [],
   "source": [
    "docker network ls"
   ]
  },
  {
   "cell_type": "code",
   "execution_count": null,
   "metadata": {
    "collapsed": false
   },
   "outputs": [],
   "source": [
    "docker ps -a --no-trunc"
   ]
  },
  {
   "cell_type": "code",
   "execution_count": null,
   "metadata": {
    "collapsed": false
   },
   "outputs": [],
   "source": [
    "docker network inspect bridge"
   ]
  },
  {
   "cell_type": "code",
   "execution_count": null,
   "metadata": {
    "collapsed": true
   },
   "outputs": [],
   "source": []
  },
  {
   "cell_type": "code",
   "execution_count": null,
   "metadata": {
    "collapsed": false
   },
   "outputs": [],
   "source": [
    "docker help"
   ]
  },
  {
   "cell_type": "code",
   "execution_count": null,
   "metadata": {
    "collapsed": true
   },
   "outputs": [],
   "source": [
    "docker help attach"
   ]
  },
  {
   "cell_type": "code",
   "execution_count": null,
   "metadata": {
    "collapsed": true
   },
   "outputs": [],
   "source": [
    "docker help diff"
   ]
  },
  {
   "cell_type": "code",
   "execution_count": null,
   "metadata": {
    "collapsed": false
   },
   "outputs": [],
   "source": [
    "docker ps"
   ]
  },
  {
   "cell_type": "code",
   "execution_count": null,
   "metadata": {
    "collapsed": false
   },
   "outputs": [],
   "source": [
    "docker diff cdbde0b863f6        "
   ]
  },
  {
   "cell_type": "code",
   "execution_count": null,
   "metadata": {
    "collapsed": false
   },
   "outputs": [],
   "source": [
    "docker help commit"
   ]
  },
  {
   "cell_type": "code",
   "execution_count": null,
   "metadata": {
    "collapsed": false
   },
   "outputs": [],
   "source": [
    "docker help create"
   ]
  },
  {
   "cell_type": "markdown",
   "metadata": {},
   "source": [
    "# Volumes"
   ]
  },
  {
   "cell_type": "code",
   "execution_count": null,
   "metadata": {
    "collapsed": false
   },
   "outputs": [],
   "source": [
    "docker help volume"
   ]
  },
  {
   "cell_type": "code",
   "execution_count": null,
   "metadata": {
    "collapsed": false
   },
   "outputs": [],
   "source": [
    "docker volume ls"
   ]
  },
  {
   "cell_type": "code",
   "execution_count": null,
   "metadata": {
    "collapsed": true
   },
   "outputs": [],
   "source": []
  }
 ],
 "metadata": {
  "kernelspec": {
   "display_name": "Python 3",
   "language": "python",
   "name": "python3"
  },
  "language_info": {
   "codemirror_mode": {
    "name": "ipython",
    "version": 3
   },
   "file_extension": ".py",
   "mimetype": "text/x-python",
   "name": "python",
   "nbconvert_exporter": "python",
   "pygments_lexer": "ipython3",
   "version": "3.4.3"
  }
 },
 "nbformat": 4,
 "nbformat_minor": 0
}
