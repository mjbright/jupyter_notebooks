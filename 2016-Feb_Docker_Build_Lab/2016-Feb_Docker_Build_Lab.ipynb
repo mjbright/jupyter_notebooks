{
 "cells": [
  {
   "cell_type": "markdown",
   "metadata": {},
   "source": [
    "###### TOP\n",
    "# Lab Outline\n",
    "\n",
    "Contents\n",
    "- [Lab-Description](#Lab-Description)\n",
    "- [Presentation](#Presentation)\n",
    "- [Tutorial](#Tutorial)\n",
    "- [Demo](#Demo)\n"
   ]
  },
  {
   "cell_type": "markdown",
   "metadata": {},
   "source": [
    "## Presentation\n",
    "[TOP](#TOP)\n",
    "\n",
    "Presentation duration (mins):\n",
    "\n",
    "#### Introduction\n",
    "- Main messages\n",
    "\n",
    "#### Conclusions\n",
    "- Main messages\n",
    "\n",
    "#### References"
   ]
  },
  {
   "cell_type": "markdown",
   "metadata": {},
   "source": []
  },
  {
   "cell_type": "markdown",
   "metadata": {},
   "source": [
    "\n",
    "\n",
    "## Lab-Description\n",
    "[TOP](#TOP)\n",
    "- [Lab-p1](#Lab-p1)\n",
    "- [Lab-p2](#Lab-p2)\n",
    "\n",
    "Lab to be generated as a Jupyter Notebook (based on bash kernel - or bash metakernel)\n",
    "\n",
    "- Lab details\n",
    "  - Nature\n",
    "  - Duration\n",
    "  - Planning ( Dates )\n",
    "  - Audience\n",
    "  \n",
    "### Lab setup\n",
    "\n",
    "** TODO: add use of simple web server, handlebar.js-template, angular-template, go-web server, ...**\n",
    "** TODO: go web server as miniscule image ???? **\n",
    "\n",
    "- **configuration to use Yann's environment**\n",
    "- Removal of images\n",
    "  - base: just large images present (to minimize network bandwidth)\n",
    "    - alpine, ubuntu, language e.g. Python/Nodejs?), Golang, Raspi ??\n",
    "- Creation of lab accounts (**hpe_tss_lab**) on DockerHub, Github and GMail\n",
    "  - Attendees must take care to name their images/repos according to their pod number, e.g. **userN**\n",
    "\n",
    "\n",
    "### Overall description of the lab steps\n",
    "\n",
    "**NOTE: All lab steps can be considered optional, attendees may perform them in order, or jump to the section of interest to them (to get to the more complicated steps)**"
   ]
  },
  {
   "cell_type": "markdown",
   "metadata": {},
   "source": [
    "# Lab-p1\n",
    "## A refresh on Docker concepts\n",
    "\n",
    "Look at what docker version you are running.\n",
    "Note that the 'docker version' command reports the local client version as well as the server (docker engine) version."
   ]
  },
  {
   "cell_type": "code",
   "execution_count": 16,
   "metadata": {
    "collapsed": false
   },
   "outputs": [
    {
     "name": "stdout",
     "output_type": "stream",
     "text": [
      "Client:\r\n",
      " Version:      1.9.1\r\n",
      " API version:  1.21\r\n",
      " Go version:   go1.4.2\r\n",
      " Git commit:   a34a1d5\r\n",
      " Built:        Fri Nov 20 13:12:04 UTC 2015\r\n",
      " OS/Arch:      linux/amd64\r\n",
      "\r\n",
      "Server:\r\n",
      " Version:      1.9.1\r\n",
      " API version:  1.21\r\n",
      " Go version:   go1.4.2\r\n",
      " Git commit:   a34a1d5\r\n",
      " Built:        Fri Nov 20 13:12:04 UTC 2015\r\n",
      " OS/Arch:      linux/amd64\r\n"
     ]
    }
   ],
   "source": [
    "docker version"
   ]
  },
  {
   "cell_type": "markdown",
   "metadata": {},
   "source": [
    "### Images are image layers\n",
    "\n",
    "Remember that when we talk of a container image it is really a collection of image layers.\n",
    "\n",
    "The docker info command provides information about the docker engine, see below."
   ]
  },
  {
   "cell_type": "code",
   "execution_count": 20,
   "metadata": {
    "collapsed": false
   },
   "outputs": [
    {
     "name": "stdout",
     "output_type": "stream",
     "text": [
      "Containers: 33\r\n",
      "Images: 1140\r\n",
      "Server Version: 1.9.1\r\n",
      "Storage Driver: aufs\r\n",
      " Root Dir: /var/lib/docker/aufs\r\n",
      " Backing Filesystem: extfs\r\n",
      " Dirs: 1211\r\n",
      " Dirperm1 Supported: false\r\n",
      "Execution Driver: native-0.2\r\n",
      "Logging Driver: json-file\r\n",
      "Kernel Version: 3.13.0-24-generic\r\n",
      "Operating System: Ubuntu 14.04.3 LTS\r\n",
      "CPUs: 2\r\n",
      "Total Memory: 2.939 GiB\r\n",
      "Name: pbell\r\n",
      "ID: KEYI:7BB2:JYV4:A6CN:JUJ6:IAN5:I22R:KVDE:NH3U:ZSFF:DYHL:5ZV6\r\n",
      "Debug mode (server): true\r\n",
      " File Descriptors: 27\r\n",
      " Goroutines: 58\r\n",
      " System Time: 2016-01-13T23:24:03.859755273+01:00\r\n",
      " EventsListeners: 0\r\n",
      " Init SHA1: 4fc7c03a06c675f115b39958c13486d53df10a14\r\n",
      " Init Path: /usr/lib/docker/dockerinit\r\n",
      " Docker Root Dir: /var/lib/docker\r\n",
      "Username: mjbright\r\n",
      "Registry: https://index.docker.io/v1/\r\n",
      "WARNING: No swap limit support\r\n"
     ]
    }
   ],
   "source": [
    "docker info"
   ]
  },
  {
   "cell_type": "markdown",
   "metadata": {},
   "source": [
    "But if we look at the number of containers and images, the number of images it is not the same as provided above.\n",
    "Why do you think that is?\n",
    "\n",
    "First let's list the number of running and number of stopped containers\n",
    "\n",
    "**NOTE: the value on your system will be different**"
   ]
  },
  {
   "cell_type": "code",
   "execution_count": 24,
   "metadata": {
    "collapsed": false
   },
   "outputs": [
    {
     "name": "stdout",
     "output_type": "stream",
     "text": [
      "2\r\n"
     ]
    }
   ],
   "source": [
    "docker ps    | wc -l # Number of running containers+1 (header line)"
   ]
  },
  {
   "cell_type": "code",
   "execution_count": 23,
   "metadata": {
    "collapsed": false
   },
   "outputs": [
    {
     "name": "stdout",
     "output_type": "stream",
     "text": [
      "34\r\n"
     ]
    }
   ],
   "source": [
    "docker ps -a | wc -l # Number of stopped/running containers+1 (header line)"
   ]
  },
  {
   "cell_type": "markdown",
   "metadata": {},
   "source": [
    "We can see that the number of containers reported by docker info correctly reports the number of total containers, running or not\n",
    "\n",
    "But listing images gives a different value from the 'docker info' value"
   ]
  },
  {
   "cell_type": "code",
   "execution_count": 25,
   "metadata": {
    "collapsed": false
   },
   "outputs": [
    {
     "name": "stdout",
     "output_type": "stream",
     "text": [
      "89\r\n"
     ]
    }
   ],
   "source": [
    "docker images | wc -l"
   ]
  },
  {
   "cell_type": "markdown",
   "metadata": {},
   "source": [
    "That is because there are many intermediate image layers which are not normally listed.\n",
    "But we can list those layers using the '-a' option and now we see a number close to the value from 'docker info'.\n",
    "\n",
    "(We will see later how the 'docker history' command allows us to see how the layers were created)."
   ]
  },
  {
   "cell_type": "code",
   "execution_count": 26,
   "metadata": {
    "collapsed": false
   },
   "outputs": [
    {
     "name": "stdout",
     "output_type": "stream",
     "text": [
      "1142\r\n"
     ]
    }
   ],
   "source": [
    "docker images -a | wc -l  # The number of image layers+1 (inc. header line)"
   ]
  },
  {
   "cell_type": "markdown",
   "metadata": {},
   "source": [
    "Images can include 1 static binary file or more and can even include a whole distribution.\n",
    "Launching a container launches a single process within that container - which may in turn span other child processes.\n",
    "\n",
    "Let us look at an extremely small image to have an idea just how small an execitable image can be.\n",
    "Docker provide an official 'hello-world' image which simply echoes some output to the console.\n",
    "\n",
    "Let's run that image to see and then investigate the image.\n",
    "First let's search for the image; we see that the first image is 'hello-world' which is an official build"
   ]
  },
  {
   "cell_type": "code",
   "execution_count": 27,
   "metadata": {
    "collapsed": false
   },
   "outputs": [
    {
     "name": "stdout",
     "output_type": "stream",
     "text": [
      "NAME                                     DESCRIPTION                                     STARS     OFFICIAL   AUTOMATED\r\n",
      "hello-world                              Hello World! (an example of minimal Docker...   40        [OK]       \r\n",
      "tutum/hello-world                        Image to test docker deployments. Has Apac...   19                   [OK]\r\n",
      "marcells/aspnet-hello-world              ASP.NET vNext - Hello World                     2                    [OK]\r\n",
      "sbasyal/java-hello-world                                                                 1                    [OK]\r\n",
      "carinamarina/hello-world-web             A Python web app, running on port 5000, wh...   1                    [OK]\r\n",
      "carinamarina/hello-world-app             This is a sample Python web application, r...   1                    [OK]\r\n",
      "vegasbrianc/docker-hello-world                                                           1                    [OK]\r\n",
      "asakaguchi/docker-nodejs-hello-world     Hello World for Docker                          0                    [OK]\r\n",
      "asakaguchi/magellan-nodejs-hello-world   Hello World for MAGELLAN                        0                    [OK]\r\n",
      "wowgroup/hello-world                     Minimal web app for testing purposes            0                    [OK]\r\n",
      "rcarun/hello-world                                                                       0                    [OK]\r\n",
      "cpro/http-hello-world                    Hello world                                     0                    [OK]\r\n",
      "boobalan/hello-world                     trying automated build in docker                0                    [OK]\r\n",
      "kevto/play2-docker-hello-world           Hello World application in Play2 to test D...   0                    [OK]\r\n",
      "fermayo/hello-world                                                                      0                    [OK]\r\n",
      "willejs/go-hello-world                   simple hello world webserver written in go...   0                    [OK]\r\n",
      "jlrigau/hello-world                      Hello World                                     0                    [OK]\r\n",
      "keithchambers/docker-hello-world                                                         0                    [OK]\r\n",
      "alexwelch/hello-world                                                                    0                    [OK]\r\n",
      "n8io/hello-world                         A simple hello world node.js app to test d...   0                    [OK]\r\n",
      "wodge/docker-hello-world                 Hello World test for auto update to Docker...   0                    [OK]\r\n",
      "crccheck/hello-world                     Hello World web server in under 2.5 MB          0                    [OK]\r\n",
      "bencampbell/hello-world                  First automated build.                          0                    [OK]\r\n",
      "nirmata/hello-world                                                                      0                    [OK]\r\n",
      "ileontyev81/docker-hello-world           hello world test build                          0                    [OK]\r\n"
     ]
    }
   ],
   "source": [
    "docker search hello-world"
   ]
  },
  {
   "cell_type": "markdown",
   "metadata": {},
   "source": [
    "Let's now run that image"
   ]
  },
  {
   "cell_type": "code",
   "execution_count": 28,
   "metadata": {
    "collapsed": false
   },
   "outputs": [
    {
     "name": "stdout",
     "output_type": "stream",
     "text": [
      "Unable to find image 'hello-world:latest' locally\r\n",
      "latest: Pulling from library/hello-world\r\n",
      "\u001b[0B\r\n",
      "\u001b[0A\u001b[2K\r",
      "b901d36b6f2f: Pulling fs layer \r",
      "\u001b[0B\r\n",
      "\u001b[0A\u001b[2K\r",
      "0a6ba66e537a: Pulling fs layer \r",
      "\u001b[0B\u001b[2A\u001b[2K\r",
      "b901d36b6f2f: Downloading    601 B/601 B\r",
      "\u001b[2B\u001b[2A\u001b[2K\r",
      "b901d36b6f2f: Verifying Checksum \r",
      "\u001b[2B\u001b[2A\u001b[2K\r",
      "b901d36b6f2f: Download complete \r",
      "\u001b[2B\u001b[2A\u001b[2K\r",
      "b901d36b6f2f: Extracting    601 B/601 B\r",
      "\u001b[2B\u001b[2A\u001b[2K\r",
      "b901d36b6f2f: Extracting    601 B/601 B\r",
      "\u001b[2B\u001b[2A\u001b[2K\r",
      "b901d36b6f2f: Extracting    601 B/601 B\r",
      "\u001b[2B\u001b[1A\u001b[2K\r",
      "0a6ba66e537a: Downloading     32 B/32 B\r",
      "\u001b[1B\u001b[1A\u001b[2K\r",
      "0a6ba66e537a: Verifying Checksum \r",
      "\u001b[1B\u001b[1A\u001b[2K\r",
      "0a6ba66e537a: Download complete \r",
      "\u001b[1B\u001b[2A\u001b[2K\r",
      "b901d36b6f2f: Pull complete \r",
      "\u001b[2B\u001b[1A\u001b[2K\r",
      "0a6ba66e537a: Extracting     32 B/32 B\r",
      "\u001b[1B\u001b[1A\u001b[2K\r",
      "0a6ba66e537a: Extracting     32 B/32 B\r",
      "\u001b[1B\u001b[1A\u001b[2K\r",
      "0a6ba66e537a: Extracting     32 B/32 B\r",
      "\u001b[1B\u001b[1A\u001b[2K\r",
      "0a6ba66e537a: Pull complete \r",
      "\u001b[1BDigest: sha256:8be990ef2aeb16dbcb9271ddfe2610fa6658d13f6dfb8bc72074cc1ca36966a7\r\n",
      "Status: Downloaded newer image for hello-world:latest\r\n",
      "\r\n",
      "Hello from Docker.\r\n",
      "This message shows that your installation appears to be working correctly.\r\n",
      "\r\n",
      "To generate this message, Docker took the following steps:\r\n",
      " 1. The Docker client contacted the Docker daemon.\r\n",
      " 2. The Docker daemon pulled the \"hello-world\" image from the Docker Hub.\r\n",
      " 3. The Docker daemon created a new container from that image which runs the\r\n",
      "    executable that produces the output you are currently reading.\r\n",
      " 4. The Docker daemon streamed that output to the Docker client, which sent it\r\n",
      "    to your terminal.\r\n",
      "\r\n",
      "To try something more ambitious, you can run an Ubuntu container with:\r\n",
      " $ docker run -it ubuntu bash\r\n",
      "\r\n",
      "Share images, automate workflows, and more with a free Docker Hub account:\r\n",
      " https://hub.docker.com\r\n",
      "\r\n",
      "For more examples and ideas, visit:\r\n",
      " https://docs.docker.com/userguide/\r\n",
      "\r\n"
     ]
    }
   ],
   "source": [
    "docker run hello-world"
   ]
  },
  {
   "cell_type": "markdown",
   "metadata": {},
   "source": [
    "If it took a while to run, this was due to the time needed to download the image before running it - see above.\n",
    "\n",
    "Try the command a second time to see how it runs instantaneously as there is no need to download the image which already exists locally on the 'docker engine'."
   ]
  },
  {
   "cell_type": "code",
   "execution_count": 29,
   "metadata": {
    "collapsed": false
   },
   "outputs": [
    {
     "name": "stdout",
     "output_type": "stream",
     "text": [
      "\r\n",
      "Hello from Docker.\r\n",
      "This message shows that your installation appears to be working correctly.\r\n",
      "\r\n",
      "To generate this message, Docker took the following steps:\r\n",
      " 1. The Docker client contacted the Docker daemon.\r\n",
      " 2. The Docker daemon pulled the \"hello-world\" image from the Docker Hub.\r\n",
      " 3. The Docker daemon created a new container from that image which runs the\r\n",
      "    executable that produces the output you are currently reading.\r\n",
      " 4. The Docker daemon streamed that output to the Docker client, which sent it\r\n",
      "    to your terminal.\r\n",
      "\r\n",
      "To try something more ambitious, you can run an Ubuntu container with:\r\n",
      " $ docker run -it ubuntu bash\r\n",
      "\r\n",
      "Share images, automate workflows, and more with a free Docker Hub account:\r\n",
      " https://hub.docker.com\r\n",
      "\r\n",
      "For more examples and ideas, visit:\r\n",
      " https://docs.docker.com/userguide/\r\n",
      "\r\n"
     ]
    }
   ],
   "source": [
    "docker run hello-world"
   ]
  },
  {
   "cell_type": "markdown",
   "metadata": {},
   "source": [
    "Let us inspect the image.  We see that the file is only 960 bytes large, it must be machine code to print out the text.  So we see that an image can be really very small"
   ]
  },
  {
   "cell_type": "code",
   "execution_count": 31,
   "metadata": {
    "collapsed": false
   },
   "outputs": [
    {
     "name": "stdout",
     "output_type": "stream",
     "text": [
      "\u001b[01;31m\u001b[Khello-world\u001b[m\u001b[K                             latest              0a6ba66e537a        3 months ago        960 B\r\n"
     ]
    }
   ],
   "source": [
    "docker images | grep hello-world"
   ]
  },
  {
   "cell_type": "code",
   "execution_count": 33,
   "metadata": {
    "collapsed": false
   },
   "outputs": [
    {
     "name": "stdout",
     "output_type": "stream",
     "text": [
      "NAME                                     DESCRIPTION                                     STARS     OFFICIAL   AUTOMATED\r\n",
      "hello-world                              Hello World! (an example of minimal Docker...   40        [OK]       \r\n",
      "tutum/hello-world                        Image to test docker deployments. Has Apac...   19                   [OK]\r\n",
      "marcells/aspnet-hello-world              ASP.NET vNext - Hello World                     2                    [OK]\r\n",
      "sbasyal/java-hello-world                                                                 1                    [OK]\r\n",
      "carinamarina/hello-world-web             A Python web app, running on port 5000, wh...   1                    [OK]\r\n",
      "carinamarina/hello-world-app             This is a sample Python web application, r...   1                    [OK]\r\n",
      "vegasbrianc/docker-hello-world                                                           1                    [OK]\r\n",
      "asakaguchi/docker-nodejs-hello-world     Hello World for Docker                          0                    [OK]\r\n",
      "asakaguchi/magellan-nodejs-hello-world   Hello World for MAGELLAN                        0                    [OK]\r\n",
      "wowgroup/hello-world                     Minimal web app for testing purposes            0                    [OK]\r\n",
      "rcarun/hello-world                                                                       0                    [OK]\r\n",
      "cpro/http-hello-world                    Hello world                                     0                    [OK]\r\n",
      "boobalan/hello-world                     trying automated build in docker                0                    [OK]\r\n",
      "kevto/play2-docker-hello-world           Hello World application in Play2 to test D...   0                    [OK]\r\n",
      "fermayo/hello-world                                                                      0                    [OK]\r\n",
      "willejs/go-hello-world                   simple hello world webserver written in go...   0                    [OK]\r\n",
      "jlrigau/hello-world                      Hello World                                     0                    [OK]\r\n",
      "keithchambers/docker-hello-world                                                         0                    [OK]\r\n",
      "alexwelch/hello-world                                                                    0                    [OK]\r\n",
      "n8io/hello-world                         A simple hello world node.js app to test d...   0                    [OK]\r\n",
      "wodge/docker-hello-world                 Hello World test for auto update to Docker...   0                    [OK]\r\n",
      "crccheck/hello-world                     Hello World web server in under 2.5 MB          0                    [OK]\r\n",
      "bencampbell/hello-world                  First automated build.                          0                    [OK]\r\n",
      "nirmata/hello-world                                                                      0                    [OK]\r\n",
      "ileontyev81/docker-hello-world           hello world test build                          0                    [OK]\r\n"
     ]
    }
   ],
   "source": [
    "docker search hello-world"
   ]
  },
  {
   "cell_type": "markdown",
   "metadata": {},
   "source": [
    "We can also inspect the image with the history command to see how it was constructed.\n",
    "\n",
    "Note that history shows the image layers in reverse order, latest first.\n",
    "\n",
    "From the below command we can see that the image was created from only 2 image layers.\n",
    "\n",
    "The image was built simply by copying in a binary executable and then specifying the default command to invoke when the image is run."
   ]
  },
  {
   "cell_type": "code",
   "execution_count": 34,
   "metadata": {
    "collapsed": false
   },
   "outputs": [
    {
     "name": "stdout",
     "output_type": "stream",
     "text": [
      "IMAGE               CREATED             CREATED BY                                      SIZE                COMMENT\r\n",
      "0a6ba66e537a        3 months ago        /bin/sh -c #(nop) CMD [\"/hello\"]                0 B                 \r\n",
      "b901d36b6f2f        3 months ago        /bin/sh -c #(nop) COPY file:1ad52e3eaf4327c8f   960 B               \r\n"
     ]
    }
   ],
   "source": [
    "docker history hello-world"
   ]
  },
  {
   "cell_type": "markdown",
   "metadata": {},
   "source": [
    "**TODO: Look at** \n",
    " /home/mjb/z/bin/DOCKER/VerySmall/createTinyDockerImage.sh:docker build -t \"mjbright/c_prog\" ./"
   ]
  },
  {
   "cell_type": "code",
   "execution_count": 39,
   "metadata": {
    "collapsed": false
   },
   "outputs": [
    {
     "name": "stdout",
     "output_type": "stream",
     "text": [
      "mjbright/\u001b[01;31m\u001b[Kc_prog\u001b[m\u001b[K                         latest              6d8e3d3d7b94        11 months ago       877.2 kB\r\n"
     ]
    }
   ],
   "source": [
    "docker images | grep c_prog"
   ]
  },
  {
   "cell_type": "code",
   "execution_count": 41,
   "metadata": {
    "collapsed": false
   },
   "outputs": [
    {
     "name": "stdout",
     "output_type": "stream",
     "text": [
      "IMAGE               CREATED             CREATED BY                                      SIZE                COMMENT\r\n",
      "6d8e3d3d7b94        11 months ago       /bin/sh -c #(nop) CMD [/helloFromDocker.exe]    0 B                 \r\n",
      "4b3b88e4eb3a        11 months ago       /bin/sh -c #(nop) ADD file:9d399a7bdda706a9b3   877.2 kB            \r\n",
      "61c48587e43b        11 months ago                                                       0 B                 Imported from -\r\n"
     ]
    }
   ],
   "source": [
    "docker history mjbright/c_prog"
   ]
  },
  {
   "cell_type": "markdown",
   "metadata": {},
   "source": [
    "Let's pull and examine the official 'Docker Language Stack' image of Node.js"
   ]
  },
  {
   "cell_type": "code",
   "execution_count": 1,
   "metadata": {
    "collapsed": false
   },
   "outputs": [
    {
     "name": "stdout",
     "output_type": "stream",
     "text": [
      "Using default tag: latest\r\n",
      "latest: Pulling from library/node\r\n",
      "\u001b[0BDigest: sha256:ba36a48c0fb620866eaebd91cac7e3ba88ef0b64b4798e97b4cc11263d9371b0\r\n",
      "Status: Image is up to date for node:latest\r\n",
      "\r\n",
      "real\t0m3.636s\r\n",
      "user\t0m0.150s\r\n",
      "sys\t0m0.063s\r\n"
     ]
    }
   ],
   "source": [
    "time docker pull node"
   ]
  },
  {
   "cell_type": "code",
   "execution_count": 7,
   "metadata": {
    "collapsed": false
   },
   "outputs": [
    {
     "name": "stdout",
     "output_type": "stream",
     "text": [
      "\u001b[01;31m\u001b[Knode\u001b[m\u001b[K                                    latest              3443c7b57bb1        2 hours ago         643 MB\r\n"
     ]
    }
   ],
   "source": [
    "docker images | grep node"
   ]
  },
  {
   "cell_type": "code",
   "execution_count": 8,
   "metadata": {
    "collapsed": false
   },
   "outputs": [
    {
     "name": "stdout",
     "output_type": "stream",
     "text": [
      "IMAGE               CREATED             CREATED BY                                      SIZE                COMMENT\r\n",
      "3443c7b57bb1        2 hours ago         /bin/sh -c #(nop) CMD [\"node\"]                  0 B                 \r\n",
      "5e47eb9872c4        2 hours ago         /bin/sh -c curl -SLO \"https://nodejs.org/dist   36.36 MB            \r\n",
      "522471085583        2 hours ago         /bin/sh -c #(nop) ENV NODE_VERSION=5.4.1        0 B                 \r\n",
      "149ca03483dd        6 days ago          /bin/sh -c #(nop) ENV NPM_CONFIG_LOGLEVEL=inf   0 B                 \r\n",
      "82e56dadcdfd        6 days ago          /bin/sh -c set -ex   && for key in     9554F0   39.42 kB            \r\n",
      "5c2bdca41b86        6 days ago          /bin/sh -c apt-get update && apt-get install    314.6 MB            \r\n",
      "ce2b29af7753        6 days ago          /bin/sh -c apt-get update && apt-get install    122.6 MB            \r\n",
      "5c63804eac90        6 days ago          /bin/sh -c apt-get update && apt-get install    44.29 MB            \r\n",
      "140f9bdfeb97        6 days ago          /bin/sh -c #(nop) CMD [\"/bin/bash\"]             0 B                 \r\n",
      "523ef1d23f22        6 days ago          /bin/sh -c #(nop) ADD file:0098703cdfd5b5eda3   125.1 MB            \r\n"
     ]
    }
   ],
   "source": [
    "docker history node"
   ]
  },
  {
   "cell_type": "markdown",
   "metadata": {
    "collapsed": true
   },
   "source": [
    "Let's pull and examine the official 'Docker Language Stack' image of Python\n",
    "\n",
    "Note how the earliest image layers (at the bottom of the list) have the same image ids\n",
    "as the earliest image layers of the Node;js image.\n",
    "\n",
    "So we can see that they were both created from the same base."
   ]
  },
  {
   "cell_type": "code",
   "execution_count": 9,
   "metadata": {
    "collapsed": false
   },
   "outputs": [
    {
     "name": "stdout",
     "output_type": "stream",
     "text": [
      "Using default tag: latest\r\n",
      "latest: Pulling from library/python\r\n",
      "\u001b[0BDigest: sha256:023786847d4658aaf43f52ed792beb55f94c35438a239189cdbc01584be23c91\r\n",
      "Status: Image is up to date for python:latest\r\n",
      "\r\n",
      "real\t0m2.478s\r\n",
      "user\t0m0.181s\r\n",
      "sys\t0m0.057s\r\n"
     ]
    }
   ],
   "source": [
    "time docker pull python"
   ]
  },
  {
   "cell_type": "code",
   "execution_count": 10,
   "metadata": {
    "collapsed": false
   },
   "outputs": [
    {
     "name": "stdout",
     "output_type": "stream",
     "text": [
      "\u001b[01;31m\u001b[Kpython\u001b[m\u001b[K                                  latest              d44a99ced7b9        4 hours ago         689.1 MB\r\n",
      "i\u001b[01;31m\u001b[Kpython\u001b[m\u001b[K/scipystack                      latest              65976ee7e84b        10 months ago       2.644 GB\r\n"
     ]
    }
   ],
   "source": [
    "docker images | grep python"
   ]
  },
  {
   "cell_type": "code",
   "execution_count": 12,
   "metadata": {
    "collapsed": false
   },
   "outputs": [
    {
     "name": "stdout",
     "output_type": "stream",
     "text": [
      "IMAGE               CREATED             CREATED BY                                      SIZE                COMMENT\r\n",
      "d44a99ced7b9        4 hours ago         /bin/sh -c #(nop) CMD [\"python3\"]               0 B                 \r\n",
      "42f5951ae027        4 hours ago         /bin/sh -c cd /usr/local/bin  && ln -s easy_i   48 B                \r\n",
      "0bed434ab227        4 hours ago         /bin/sh -c set -ex  && gpg --keyserver ha.poo   81.53 MB            \r\n",
      "9d2c5470ad1b        4 hours ago         /bin/sh -c #(nop) ENV PYTHON_PIP_VERSION=7.1.   0 B                 \r\n",
      "58562628c473        4 hours ago         /bin/sh -c #(nop) ENV PYTHON_VERSION=3.5.1      0 B                 \r\n",
      "bbdcc687a0f0        4 hours ago         /bin/sh -c #(nop) ENV GPG_KEY=97FC712E4C024BB   0 B                 \r\n",
      "d6788afe8670        5 days ago          /bin/sh -c #(nop) ENV LANG=C.UTF-8              0 B                 \r\n",
      "b48f4076b06d        5 days ago          /bin/sh -c apt-get purge -y python.*            979.4 kB            \r\n",
      "5c2bdca41b86        6 days ago          /bin/sh -c apt-get update && apt-get install    314.6 MB            \r\n",
      "ce2b29af7753        6 days ago          /bin/sh -c apt-get update && apt-get install    122.6 MB            \r\n",
      "5c63804eac90        6 days ago          /bin/sh -c apt-get update && apt-get install    44.29 MB            \r\n",
      "140f9bdfeb97        6 days ago          /bin/sh -c #(nop) CMD [\"/bin/bash\"]             0 B                 \r\n",
      "523ef1d23f22        6 days ago          /bin/sh -c #(nop) ADD file:0098703cdfd5b5eda3   125.1 MB            \r\n"
     ]
    }
   ],
   "source": [
    "docker history python"
   ]
  },
  {
   "cell_type": "markdown",
   "metadata": {},
   "source": [
    "#### Dockerfile\n",
    "\n",
    "Images are built from Dockerfiles which contain a series of commands used to build up a docker image.\n",
    "Note that each command in the Dockerfile results in a new image layer being created, no matter how trivial the command - even ENV \"commands\" create a nw image layer.\n",
    "\n",
    "In the following lab we will see how images can be built systematically from a Dockerfile using the 'docker build' command.\n",
    "\n",
    "#### DockerHub\n",
    "\n",
    "When we pull an image we pull it from a Docker Registry.  The [DockerHub](https://hub.docker.com/) is a free to use Docker registry allowing to store your own image files (which are publicly available unless you pay for your account) and to pull other image files of other users or officially provided images.\n",
    "\n",
    "You can create images either by\n",
    "- building them from a Dockerfile (thus in a **repeatable** manner)\n",
    "- building them manually by modifying a running container and *'commit'*ing it's state\n",
    "\n",
    "The DockerHub contains images which may be\n",
    "- **Automated builds** (built from a git repository)\n",
    "  - Such builds are usually built from an open-source git repo and so are called **Trusted huilds** because the source code is available.\n",
    "    *Note:* The github repo may contain binary files though\n",
    "- **Official builds** are builds which are builds provided by partners or by Docker themselves\n",
    "\n",
    "Other images may exist in the hub but their origin is unknown and so represent a security risk.\n",
    "\n",
    "It is possible to search the DockerHub, or another Docker Registry, using the 'docker search' command with appropriate options.  Other companies offer their own Docker Registry which may be freely accessible e.g. RedHat, internal to a company e.g. HPE IT, or available as part of a paid for service e.g. IBM or Amawon Web Services ECR.\n"
   ]
  },
  {
   "cell_type": "markdown",
   "metadata": {},
   "source": [
    "# Lab-p2\n",
    "## Docker Builds\n",
    "\n",
    "## Simple Docker Build\n",
    "\n",
    "Let's start by creating a minimal Dockerfile which builds on the Python image we downloaded earlier"
   ]
  },
  {
   "cell_type": "code",
   "execution_count": 14,
   "metadata": {
    "collapsed": false
   },
   "outputs": [
    {
     "name": "stdout",
     "output_type": "stream",
     "text": []
    }
   ],
   "source": [
    "cat > Dockerfile.basic <<EOF\n",
    "#\n",
    "# Dockerfile to demonstrate the simplest build\n",
    "#\n",
    "FROM python\n",
    "\n",
    "MAINTAINER \"xxx\"\n",
    "\n",
    "RUN python --version\n",
    "\n",
    "CMD bash\n",
    "\n",
    "EOF"
   ]
  },
  {
   "cell_type": "markdown",
   "metadata": {},
   "source": [
    "    - First see what images are present\n",
    "    - Build a simple image based on ... medium size\n",
    "    - Observe build process\n",
    "    - Modify Dockerfile\n",
    "    - Rebuild - observe caching\n",
    "    - Move order in Dockerfile\n",
    "    - Rebuild\n",
    "    - Rebuild with no caching\n",
    "    - Perform Docker image\n",
    "    - Perform docker image -a\n",
    "    - Perform docker history"
   ]
  },
  {
   "cell_type": "code",
   "execution_count": 15,
   "metadata": {
    "collapsed": false
   },
   "outputs": [
    {
     "name": "stdout",
     "output_type": "stream",
     "text": [
      "-rw-rw-r-- 1 mjb mjb 114 janv. 14 10:58 Dockerfile.basic\r\n"
     ]
    }
   ],
   "source": [
    "ls -altr Dockerfile.basic"
   ]
  },
  {
   "cell_type": "markdown",
   "metadata": {},
   "source": [
    "We can now build a new image using this dockerfile using the below command where\n",
    "- we explicitly select the Dockerfile.basic which we just created\n",
    "- we specify the current directory as the context for the build (any ADD/COPY or Dockerfile files will be sourced from here)\n",
    "- we specify the specific tag to se for the generated image as \"*lab/basic*\""
   ]
  },
  {
   "cell_type": "code",
   "execution_count": 16,
   "metadata": {
    "collapsed": false
   },
   "outputs": [
    {
     "name": "stdout",
     "output_type": "stream",
     "text": [
      "Sending build context to Docker daemon   299 kB\r",
      "Sending build context to Docker daemon   299 kB\r",
      "\r",
      "\r\n",
      "Step 1 : FROM python\r\n",
      " ---> d44a99ced7b9\r\n",
      "Step 2 : MAINTAINER \"xxx\"\r\n",
      " ---> Using cache\r\n",
      " ---> 58edacdb0365\r\n",
      "Step 3 : RUN python --version\r\n",
      " ---> Running in afb1e0602d7a\r\n",
      "Python 3.5.1\r\n",
      " ---> 2e7ac632f302\r\n",
      "Removing intermediate container afb1e0602d7a\r\n",
      "Step 4 : CMD bash\r\n",
      " ---> Running in 2d2bbf326cde\r\n",
      " ---> 4b1d4ac8b724\r\n",
      "Removing intermediate container 2d2bbf326cde\r\n",
      "Successfully built 4b1d4ac8b724\r\n"
     ]
    }
   ],
   "source": [
    "docker build -f Dockerfile.basic -t lab/basic . "
   ]
  },
  {
   "cell_type": "markdown",
   "metadata": {},
   "source": [
    "Note that during the build, the RUN commands are actually run.\n",
    "\n",
    "They are used to build up this new image.\n",
    "\n",
    "In this case we echo the 'Python' version string during the build process.\n",
    "\n",
    "You can see the available options to the build command by issuing\n",
    " 'docker build --help'"
   ]
  },
  {
   "cell_type": "code",
   "execution_count": 12,
   "metadata": {
    "collapsed": false
   },
   "outputs": [
    {
     "name": "stdout",
     "output_type": "stream",
     "text": [
      "\r\n",
      "Usage:\tdocker build [OPTIONS] PATH | URL | -\r\n",
      "\r\n",
      "Build an image from a Dockerfile\r\n",
      "\r\n",
      "  --build-arg=[]                  Set build-time variables\r\n",
      "  --cpu-shares=0                  CPU shares (relative weight)\r\n",
      "  --cgroup-parent=                Optional parent cgroup for the container\r\n",
      "  --cpu-period=0                  Limit the CPU CFS (Completely Fair Scheduler) period\r\n",
      "  --cpu-quota=0                   Limit the CPU CFS (Completely Fair Scheduler) quota\r\n",
      "  --cpuset-cpus=                  CPUs in which to allow execution (0-3, 0,1)\r\n",
      "  --cpuset-mems=                  MEMs in which to allow execution (0-3, 0,1)\r\n",
      "  --disable-content-trust=true    Skip image verification\r\n",
      "  -f, --file=                     Name of the Dockerfile (Default is 'PATH/Dockerfile')\r\n",
      "  --force-rm=false                Always remove intermediate containers\r\n",
      "  --help=false                    Print usage\r\n",
      "  -m, --memory=                   Memory limit\r\n",
      "  --memory-swap=                  Total memory (memory + swap), '-1' to disable swap\r\n",
      "  --no-cache=false                Do not use cache when building the image\r\n",
      "  --pull=false                    Always attempt to pull a newer version of the image\r\n",
      "  -q, --quiet=false               Suppress the verbose output generated by the containers\r\n",
      "  --rm=true                       Remove intermediate containers after a successful build\r\n",
      "  -t, --tag=                      Repository name (and optionally a tag) for the image\r\n",
      "  --ulimit=[]                     Ulimit options\r\n"
     ]
    }
   ],
   "source": [
    "docker build --help"
   ]
  },
  {
   "cell_type": "markdown",
   "metadata": {},
   "source": [
    "We can see all the images available using the\n",
    " 'docker images' command\n",
    " \n",
    "but if there are many, how do we see just our newly-created image?\n",
    "\n",
    "You can see the available options to the images command by issuing\n",
    " 'docker images --help'"
   ]
  },
  {
   "cell_type": "code",
   "execution_count": 11,
   "metadata": {
    "collapsed": false
   },
   "outputs": [
    {
     "name": "stdout",
     "output_type": "stream",
     "text": [
      "\r\n",
      "Usage:\tdocker images [OPTIONS] [REPOSITORY[:TAG]]\r\n",
      "\r\n",
      "List images\r\n",
      "\r\n",
      "  -a, --all=false      Show all images (default hides intermediate images)\r\n",
      "  --digests=false      Show digests\r\n",
      "  -f, --filter=[]      Filter output based on conditions provided\r\n",
      "  --help=false         Print usage\r\n",
      "  --no-trunc=false     Don't truncate output\r\n",
      "  -q, --quiet=false    Only show numeric IDs\r\n"
     ]
    }
   ],
   "source": [
    "docker images --help"
   ]
  },
  {
   "cell_type": "markdown",
   "metadata": {},
   "source": [
    "So you can see your newly built 'lab/basic' with the following command:"
   ]
  },
  {
   "cell_type": "code",
   "execution_count": 10,
   "metadata": {
    "collapsed": false
   },
   "outputs": [
    {
     "name": "stdout",
     "output_type": "stream",
     "text": [
      "REPOSITORY          TAG                 IMAGE ID            CREATED             VIRTUAL SIZE\r\n",
      "lab/basic           latest              7d6ccb83f2f2        2 minutes ago       689.1 MB\r\n"
     ]
    }
   ],
   "source": [
    "docker images lab/basic"
   ]
  },
  {
   "cell_type": "markdown",
   "metadata": {},
   "source": [
    "Note that if you rerun the build command, the build should run faster, you will notice how build steps recognize that this step has already been performed and so will use the image layer already available in the local cache."
   ]
  },
  {
   "cell_type": "code",
   "execution_count": 8,
   "metadata": {
    "collapsed": false
   },
   "outputs": [
    {
     "name": "stdout",
     "output_type": "stream",
     "text": [
      "Sending build context to Docker daemon 294.4 kB\r",
      "Sending build context to Docker daemon 294.4 kB\r",
      "\r",
      "\r\n",
      "Step 1 : FROM python\r\n",
      " ---> d44a99ced7b9\r\n",
      "Step 2 : MAINTAINER \"xxx\"\r\n",
      " ---> Using cache\r\n",
      " ---> 558169f2849c\r\n",
      "Step 3 : CMD bash\r\n",
      " ---> Using cache\r\n",
      " ---> 7d6ccb83f2f2\r\n",
      "Successfully built 7d6ccb83f2f2\r\n"
     ]
    }
   ],
   "source": [
    "docker build -f Dockerfile.basic -t lab/basic . "
   ]
  },
  {
   "cell_type": "markdown",
   "metadata": {},
   "source": [
    "Now let us see what happens if we modify our Dockerfile, by inserting a line, such as defining an environment variable.\n",
    "\n",
    "We will use the same Dockerfile, but this time we will insert an \"ENV\" line\n"
   ]
  },
  {
   "cell_type": "code",
   "execution_count": 17,
   "metadata": {
    "collapsed": false
   },
   "outputs": [
    {
     "name": "stdout",
     "output_type": "stream",
     "text": []
    }
   ],
   "source": [
    "cat > Dockerfile.basic <<EOF\n",
    "#\n",
    "# Dockerfile to demonstrate the simplest build (with ENV line added)\n",
    "#\n",
    "FROM python\n",
    "\n",
    "MAINTAINER \"xxx\"\n",
    "\n",
    "RUN python --version\n",
    "\n",
    "ENV myvar \"this will force rebuilding from here on\"\n",
    "\n",
    "CMD bash\n",
    "\n",
    "EOF"
   ]
  },
  {
   "cell_type": "markdown",
   "metadata": {},
   "source": [
    "This time when we build the image we will see that the addition of a line between the \"RUN\" line and the \"CMD\" line forces rebuild of subsequent image layers.\n",
    "\n",
    "**We see 'Using cache' for Step 2 and 3 only**"
   ]
  },
  {
   "cell_type": "code",
   "execution_count": 18,
   "metadata": {
    "collapsed": false
   },
   "outputs": [
    {
     "name": "stdout",
     "output_type": "stream",
     "text": [
      "Sending build context to Docker daemon 299.5 kB\r",
      "Sending build context to Docker daemon 299.5 kB\r",
      "\r",
      "\r\n",
      "Step 1 : FROM python\r\n",
      " ---> d44a99ced7b9\r\n",
      "Step 2 : MAINTAINER \"xxx\"\r\n",
      " ---> Using cache\r\n",
      " ---> 58edacdb0365\r\n",
      "Step 3 : RUN python --version\r\n",
      " ---> Using cache\r\n",
      " ---> 2e7ac632f302\r\n",
      "Step 4 : ENV myvar \"this will force rebuilding from here on\"\r\n",
      " ---> Running in 49bdfd414466\r\n",
      " ---> 0ad803e09d52\r\n",
      "Removing intermediate container 49bdfd414466\r\n",
      "Step 5 : CMD bash\r\n",
      " ---> Running in 8e1aeb9cfe5a\r\n",
      " ---> 0f25d4c68470\r\n",
      "Removing intermediate container 8e1aeb9cfe5a\r\n",
      "Successfully built 0f25d4c68470\r\n"
     ]
    }
   ],
   "source": [
    "docker build -f Dockerfile.basic -t lab/basic . "
   ]
  },
  {
   "cell_type": "markdown",
   "metadata": {},
   "source": [
    "Similarly we can force to not use the cache with the --no-cache option.\n",
    "\n",
    "This could be useful if we suspect the caching is not working properly due to some external change."
   ]
  },
  {
   "cell_type": "code",
   "execution_count": 19,
   "metadata": {
    "collapsed": false
   },
   "outputs": [
    {
     "name": "stdout",
     "output_type": "stream",
     "text": [
      "Sending build context to Docker daemon 301.1 kB\r",
      "Sending build context to Docker daemon 301.1 kB\r",
      "\r",
      "\r\n",
      "Step 1 : FROM python\r\n",
      " ---> d44a99ced7b9\r\n",
      "Step 2 : MAINTAINER \"xxx\"\r\n",
      " ---> Running in 0a724bfa671a\r\n",
      " ---> c28853450dc5\r\n",
      "Removing intermediate container 0a724bfa671a\r\n",
      "Step 3 : RUN python --version\r\n",
      " ---> Running in dbdc4ad3f89b\r\n",
      "Python 3.5.1\r\n",
      " ---> 2b2446cb789c\r\n",
      "Removing intermediate container dbdc4ad3f89b\r\n",
      "Step 4 : ENV myvar \"this will force rebuilding from here on\"\r\n",
      " ---> Running in 7c1ddab5e449\r\n",
      " ---> 78537a9b89bb\r\n",
      "Removing intermediate container 7c1ddab5e449\r\n",
      "Step 5 : CMD bash\r\n",
      " ---> Running in 939cfa847f60\r\n",
      " ---> fe27edc96b2e\r\n",
      "Removing intermediate container 939cfa847f60\r\n",
      "Successfully built fe27edc96b2e\r\n"
     ]
    }
   ],
   "source": [
    "docker build --no-cache=true -f Dockerfile.basic -t lab/basic . "
   ]
  },
  {
   "cell_type": "code",
   "execution_count": 20,
   "metadata": {
    "collapsed": false
   },
   "outputs": [
    {
     "name": "stdout",
     "output_type": "stream",
     "text": [
      "REPOSITORY          TAG                 IMAGE ID            CREATED             VIRTUAL SIZE\r\n",
      "lab/basic           latest              fe27edc96b2e        5 seconds ago       689.1 MB\r\n"
     ]
    }
   ],
   "source": [
    "docker images lab/basic"
   ]
  },
  {
   "cell_type": "markdown",
   "metadata": {},
   "source": [
    "  \n",
    "## More complex Docker Builds\n",
    "    - extending a Dockerfile (\"inheritance\")\n",
    "\n",
    "  - Building from different base images\n",
    "    - e.g. from Alpine\n",
    "\n",
    "  - Build from Language Stack\n",
    "    - e.g. build a node application from Node language stack\n",
    "    - e.g. build a Go   application from Go   language stack\n",
    "\n",
    "  - Availability of diverse (official/trusted) images\n",
    "    - Do some MongoDB or something ...\n",
    "    - simple web server, multi-tier??\n",
    "\n",
    "- #### Docker Small Builds\n",
    "  - Build a small image\n",
    "    Miniature web server?\n",
    "\n",
    "  - Build a small Go image (using a Go container to build)\n",
    "    - Show how image is small\n",
    "    - underline how we didn't need to install a compiler natively\n",
    "    - Build an incremental image based on this\n",
    "\n",
    "  - Perform a cross-compilation for Raspberry Pi (need a large image pre-loaded)\n",
    "    - Perform file on a.out to show architecture\n",
    "    - not yet a way of seeing architecture of image (either locally or on DockerHub)\n",
    "    - pull/run an ARM docker image (smallest Hypriot)"
   ]
  },
  {
   "cell_type": "code",
   "execution_count": null,
   "metadata": {
    "collapsed": true
   },
   "outputs": [],
   "source": []
  },
  {
   "cell_type": "markdown",
   "metadata": {},
   "source": [
    "# Docker Automated Builds\n",
    "  - Create an account on DockerHub if necessary\n",
    "    - **OR** reuse\n",
    "      - Your own account\n",
    "      - or reuse lab account **hpe_tss_lab**\n",
    "    - Push a **small** image to DockerHub\n",
    "      - if using lab account - name your image as **userN** where N is your pod number\n",
    "    - Pull the image\n",
    "    - Look at GMail account ?? (optional - confusing, conflicting ... in separate browser)\n",
    "\n",
    "  - Create an automated build on DockerHub\n",
    "    - Create a github account if necessary\n",
    "      - **OR** reuse\n",
    "        - Your own account\n",
    "        - or reuse lab account **hpe_tss_lab**\n",
    "    - Create a repo\n",
    "      - if using lab account - name your repo as **userN** where N is your pod number\n",
    "    - Checkout repo\n",
    "    - Create a Dockerfile, complete it\n",
    "    - commit/push repo\n",
    "    - On DockerHub create automated build\n",
    "    - Perform initial build\n",
    "    - See \"build log\"\n",
    "    - Modify Dockerfile\n",
    "    - commit/push repo\n",
    "    - See \"build log\""
   ]
  },
  {
   "cell_type": "code",
   "execution_count": null,
   "metadata": {
    "collapsed": true
   },
   "outputs": [],
   "source": []
  },
  {
   "cell_type": "markdown",
   "metadata": {},
   "source": [
    "# Docker Builds Composition and Orchestration\n",
    "  - Compose\n",
    "    - First guide through an n-Tier linked container example\n",
    "      - build\n",
    "      - run with linking\n",
    "    - Now just compose\n",
    "\n",
    "  - Swarm? / Mesos? / Kubernetes?\n",
    "  - Weave?"
   ]
  },
  {
   "cell_type": "markdown",
   "metadata": {},
   "source": [
    "# Future Lab Ideas\n",
    "- #### Docker Container Services (**FUTURE e.g. for TES?**)\n",
    "  - Amazon ECS\n",
    "  - Digital Ocean\n",
    "  - MS Azure (**best**)\n",
    "  - OpenStack Magnum\n",
    "    - Helion OpenStack (**best**)\n",
    "\n",
    "- #### Docker Continuous Integration (**FUTURE e.g. for TES?**)\n",
    "  - Continuous Integration"
   ]
  },
  {
   "cell_type": "markdown",
   "metadata": {},
   "source": [
    "## Demo\n",
    "[TOP](#TOP)\n",
    "\n",
    "Demo duration (mins):\n",
    "\n",
    "\n"
   ]
  },
  {
   "cell_type": "code",
   "execution_count": null,
   "metadata": {
    "collapsed": true
   },
   "outputs": [],
   "source": []
  }
 ],
 "metadata": {
  "kernelspec": {
   "display_name": "Bash",
   "language": "bash",
   "name": "bash"
  },
  "language_info": {
   "codemirror_mode": "shell",
   "file_extension": ".sh",
   "mimetype": "text/x-sh",
   "name": "bash"
  }
 },
 "nbformat": 4,
 "nbformat_minor": 0
}
