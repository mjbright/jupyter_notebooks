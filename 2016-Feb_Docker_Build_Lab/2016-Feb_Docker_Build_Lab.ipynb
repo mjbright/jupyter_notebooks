{
 "cells": [
  {
   "cell_type": "markdown",
   "metadata": {},
   "source": [
    "# Lab Outline\n",
    "\n",
    "## Online\n",
    "\n",
    "#### This document\n",
    "<font color=\"#f22\" >\n",
    "You can find the most up-to-date version of this document online as \n",
    "<br/>\n",
    "- an [HTML file](https://cdn.rawgit.com/mjbright/jupyter_notebooks/master/2016-Feb_Docker_Build_Lab/2016-Feb_Docker_Build_Lab.html) (http://bit.ly/1T0118e) or as\n",
    "<br/>\n",
    "- a [PDF file](https://raw.githubusercontent.com/mjbright/jupyter_notebooks/master/2016-Feb_Docker_Build_Lab/2016-Feb_Docker_Build_Lab.pdf) (http://bit.ly/1QF0XaH)  or as\n",
    "<br/>\n",
    "- a [Jupyter](http://www.jupyter.org) notebook at [2016-Feb_Docker_Build_Lab](https://github.com/mjbright/jupyter_notebooks/blob/master/2016-Feb_Docker_Build_Lab/).\n",
    "</font>\n",
    "\n",
    "This notebook is runnable in a Jupyter installation with the bash_kernel installed.\n",
    "\n",
    "Although that is not the subject of this lab, if you want to create your own environment in which to run this lab with Docker components already installed (and even Jupyter/bash_kernel), refer to the README.md [here](https://github.com/mjbright/jupyter_notebooks/blob/master/2016-Feb_Docker_Build_Lab/)\n",
    "\n",
    "<br/><br/><br/>\n",
    "<center><font size=-1 color=\"#77f\">\n",
    "    <i class=\"fa-linkedin fa-2x fa\"> [mjbright](https://www.linkedin.com/in/mjbright)</i>,&nbsp;&nbsp;&nbsp;&nbsp;&nbsp;&nbsp;&nbsp;&nbsp;\n",
    "    <i class=\"fa-github fa-2x fa\"> [mjbright](https://github.com/mjbright)</i>,&nbsp;&nbsp;&nbsp;&nbsp;&nbsp;&nbsp;&nbsp;&nbsp;\n",
    "    <i class=\"fa-twitter fa-2x fa\">[@mjbright](http://twitter.com/mjbright)</i>,\n",
    "</font></center>\n"
   ]
  },
  {
   "cell_type": "markdown",
   "metadata": {},
   "source": [
    "<a name=\"TOP\"></a>\n",
    "## Lab-Description\n",
    "[TOP](#TOP)\n",
    "\n",
    "\n",
    "We first need to recuperate the source code examples:\n",
    "\n",
    "<font color=\"#f22\">\n",
    "### Lab Start\n",
    "</font>\n",
    "Start this lab by first performing the below step:"
   ]
  },
  {
   "cell_type": "code",
   "execution_count": null,
   "metadata": {
    "collapsed": true
   },
   "outputs": [],
   "source": [
    "## Lab Start:\n",
    "\n",
    "rm -rf ~/src\n",
    "\n",
    "git clone https://github.com/mjbright/docker-examples src\n",
    "\n",
    "./src/START_LAB.sh"
   ]
  },
  {
   "cell_type": "markdown",
   "metadata": {},
   "source": [
    "Then procede with the following sections:\n",
    "\n",
    "- [1. Introduction](#intro)\n",
    "- [2. Basic Docker Builds](#builds)\n",
    "- [3. Creating Small Images](#small-images)\n",
    "  - [Creating a small binary with C](#small-c)\n",
    "  - [Creating a small binary with Go](#small-go)\n",
    "  - [Creating a toolset Docker image containing several executables](#small-push)\n",
    "  \n",
    "- [4. Pushing our image to Docker Hub](#small-multi)\n",
    "  \n",
    "- [5. Dockerfile best practices](#build-best-practices)\n",
    "\n",
    "- [6. Using the official 'Language Stack' images](#lang-stacks)\n",
    "  - [Using a Language Stack (Node.js)](#medium-node)\n",
    "  - [Using a Language Stack (Python)](#medium-python)\n",
    "  \n",
    "- [7. Using Compose](#compose)\n",
    "  - [Building complex systems with Compose](#Compose)\n",
    "  - [Rails example with Compose](#Rails-Example-with-Compose)\n",
    "  \n",
    "- [8. Building Docker](#building-docker)\n",
    "  - [Building Docker with Docker](#Building-Docker-with-Docker)\n",
    "\n",
    "[References](#References)\n",
    "\n",
    "<hr/>\n",
    "  \n",
    "### Overall description of the lab steps\n",
    "\n",
    "**NOTE: All lab steps can be considered optional, attendees may perform them in order, or jump to the section of interest to them (to get to the more complicated steps)**\n"
   ]
  },
  {
   "cell_type": "markdown",
   "metadata": {},
   "source": [
    "<a name=\"1.intro\" />\n",
    "# Introduction\n",
    "## A refresh on Docker concepts\n",
    "\n",
    "You may want to skip this section if you have already run the introductory lab.\n",
    "\n",
    "Look at what docker version you are running.\n",
    "Note that the 'docker version' command reports the local client version as well as the server (docker engine) version."
   ]
  },
  {
   "cell_type": "code",
   "execution_count": 1,
   "metadata": {
    "collapsed": false
   },
   "outputs": [
    {
     "name": "stdout",
     "output_type": "stream",
     "text": [
      "Client:\r\n",
      " Version:      1.10.0-rc2\r\n",
      " API version:  1.22\r\n",
      " Go version:   go1.5.3\r\n",
      " Git commit:   c1cdc6e\r\n",
      " Built:        Wed Jan 27 21:06:37 2016\r\n",
      " OS/Arch:      linux/amd64\r\n",
      "\r\n",
      "Server:\r\n",
      " Version:      1.10.0-rc2\r\n",
      " API version:  1.22\r\n",
      " Go version:   go1.5.3\r\n",
      " Git commit:   c1cdc6e\r\n",
      " Built:        Wed Jan 27 21:06:37 2016\r\n",
      " OS/Arch:      linux/amd64\r\n"
     ]
    }
   ],
   "source": [
    "docker version"
   ]
  },
  {
   "cell_type": "markdown",
   "metadata": {},
   "source": [
    "### Images are image layers\n",
    "\n",
    "Remember that when we talk of a container image it is really a collection of image layers.\n",
    "\n",
    "The docker info command provides information about the docker engine, see below."
   ]
  },
  {
   "cell_type": "code",
   "execution_count": 2,
   "metadata": {
    "collapsed": false
   },
   "outputs": [
    {
     "name": "stdout",
     "output_type": "stream",
     "text": [
      "Containers: 7\r\n",
      " Running: 0\r\n",
      " Paused: 0\r\n",
      " Stopped: 7\r\n",
      "Images: 100\r\n",
      "Server Version: 1.10.0-rc2\r\n",
      "Storage Driver: devicemapper\r\n",
      " Pool Name: docker-253:1-74951993-pool\r\n",
      " Pool Blocksize: 65.54 kB\r\n",
      " Base Device Size: 10.74 GB\r\n",
      " Backing Filesystem: ext4\r\n",
      " Data file: /dev/loop0\r\n",
      " Metadata file: /dev/loop1\r\n",
      " Data Space Used: 5.237 GB\r\n",
      " Data Space Total: 107.4 GB\r\n",
      " Data Space Available: 31.46 GB\r\n",
      " Metadata Space Used: 7.438 MB\r\n",
      " Metadata Space Total: 2.147 GB\r\n",
      " Metadata Space Available: 2.14 GB\r\n",
      " Udev Sync Supported: false\r\n",
      " Deferred Removal Enabled: false\r\n",
      " Deferred Deletion Enabled: false\r\n",
      " Deferred Deleted Device Count: 0\r\n",
      " Data loop file: /var/lib/docker/devicemapper/devicemapper/data\r\n",
      " WARNING: Usage of loopback devices is strongly discouraged for production use. Either use `--storage-opt dm.thinpooldev` or use `--storage-opt dm.no_warn_on_loop_devices=true` to suppress this warning.\r\n",
      " Metadata loop file: /var/lib/docker/devicemapper/devicemapper/metadata\r\n",
      " Library Version: 1.02.82 (2013-10-04)\r\n",
      "Execution Driver: native-0.2\r\n",
      "Logging Driver: json-file\r\n",
      "Plugins: \r\n",
      " Volume: local\r\n",
      " Network: bridge null host\r\n",
      "Kernel Version: 3.10.0-229.4.2.el7.x86_64\r\n",
      "Operating System: Red Hat Enterprise Linux\r\n",
      "OSType: linux\r\n",
      "Architecture: x86_64\r\n",
      "CPUs: 4\r\n",
      "Total Memory: 7.796 GiB\r\n",
      "Name: containerlab39.oracle.epc.ext.hpe.com\r\n",
      "ID: TCV5:XWTB:YYLQ:46DI:5P5H:TVKP:FAAF:YPDE:JAZR:IG3O:4Y5H:OHWA\r\n"
     ]
    }
   ],
   "source": [
    "docker info"
   ]
  },
  {
   "cell_type": "markdown",
   "metadata": {},
   "source": [
    "But if we look at the number of containers and images, the number of images it is not the same as provided above.\n",
    "Why do you think that is?\n",
    "\n",
    "First let's list the number of running and number of stopped containers\n",
    "\n",
    "**NOTE: the value on your system will be different**"
   ]
  },
  {
   "cell_type": "code",
   "execution_count": 13,
   "metadata": {
    "collapsed": false
   },
   "outputs": [
    {
     "name": "stdout",
     "output_type": "stream",
     "text": [
      "CONTAINER ID        IMAGE               COMMAND             CREATED             STATUS              PORTS               NAMES\r\n",
      "\r\n",
      "Total number of running containers:\r\n",
      "0\r\n"
     ]
    }
   ],
   "source": [
    "# Show the running containers:\n",
    "docker ps\n",
    "\n",
    "# Count the number of running containers:\n",
    "echo\n",
    "echo \"Total number of running containers:\"\n",
    "docker ps | tail -n +2 | wc -l"
   ]
  },
  {
   "cell_type": "code",
   "execution_count": 14,
   "metadata": {
    "collapsed": false
   },
   "outputs": [
    {
     "name": "stdout",
     "output_type": "stream",
     "text": [
      "CONTAINER ID        IMAGE               COMMAND             CREATED             STATUS              PORTS               NAMES\r\n",
      "\r\n",
      "Total number of containers (running or stopped):\r\n",
      "0\r\n"
     ]
    }
   ],
   "source": [
    "# Show all the containers (running or stopped):\n",
    "docker ps -a\n",
    "\n",
    "# Count all the containers (running or stopped):\n",
    "echo\n",
    "echo \"Total number of containers (running or stopped):\"\n",
    "docker ps -a | tail -n +2 | wc -l # Number of stopped and running containers ('tail -n +2' excludes the header line)"
   ]
  },
  {
   "cell_type": "markdown",
   "metadata": {},
   "source": [
    "We can see that the number of containers reported by docker info correctly reports the number of total containers, running or not\n",
    "\n",
    "But listing images gives a different value from the 'docker info' value"
   ]
  },
  {
   "cell_type": "code",
   "execution_count": 16,
   "metadata": {
    "collapsed": false
   },
   "outputs": [
    {
     "name": "stdout",
     "output_type": "stream",
     "text": [
      "REPOSITORY              TAG                 IMAGE ID            CREATED             SIZE\r\n",
      "lab/basic               latest              f208d8b26538        2 hours ago         689.1 MB\r\n",
      "dockercomposedemo_web   latest              e0660b1f2253        7 hours ago         683 MB\r\n",
      "test/flask_app          latest              055715f44c31        7 hours ago         683 MB\r\n",
      "compose_weba            latest              270de0754a23        18 hours ago        645.8 MB\r\n",
      "compose_webb            latest              270de0754a23        18 hours ago        645.8 MB\r\n",
      "compose_webc            latest              270de0754a23        18 hours ago        645.8 MB\r\n",
      "node-hello              latest              446ed2410baf        19 hours ago        645.8 MB\r\n",
      "lab/go-hello            latest              2efe3ea09cbf        19 hours ago        2.367 MB\r\n",
      "lab/toolset             latest              f63a40539224        20 hours ago        878.1 kB\r\n",
      "dockerlabs/toolset      userN               8f1514534590        20 hours ago        878.1 kB\r\n",
      "<none>                  <none>              f880808cf281        21 hours ago        689.1 MB\r\n",
      "<none>                  <none>              9963f26be3d0        21 hours ago        689.1 MB\r\n",
      "<none>                  <none>              cff63d53a214        21 hours ago        689.1 MB\r\n",
      "lab/c_prog              latest              0932ac1b6d79        27 hours ago        877.2 kB\r\n",
      "tag/c_prog              latest              2bd211a5047a        27 hours ago        877.2 kB\r\n",
      "empty                   latest              35373568cb1d        27 hours ago        0 B\r\n",
      "<none>                  <none>              eacc55f56092        27 hours ago        0 B\r\n",
      "redis                   latest              26380e1ca356        4 days ago          151.3 MB\r\n",
      "tutum/haproxy           latest              187c5226f5d6        5 days ago          231.5 MB\r\n",
      "python                  latest              93049cc049a6        7 days ago          689.1 MB\r\n",
      "python                  2.7                 31093b2dabe2        7 days ago          676.1 MB\r\n",
      "node                    latest              baa18fdeb577        8 days ago          643.1 MB\r\n",
      "golang                  latest              f827671e2a60        8 days ago          725.1 MB\r\n",
      "haproxy                 latest              fc04104a627e        8 days ago          139 MB\r\n",
      "swarm                   1.1.0-rc2           81883ac55ffe        12 days ago         18.06 MB\r\n",
      "alpine                  latest              14f89d0e6257        2 weeks ago         4.794 MB\r\n",
      "hello-world             latest              690ed74de00f        3 months ago        960 B\r\n",
      "\r\n",
      "Total number of images:\r\n",
      "27\r\n"
     ]
    }
   ],
   "source": [
    "# Show the images:\n",
    "docker images\n",
    "\n",
    "# Count the images:\n",
    "echo\n",
    "echo \"Total number of images:\"\n",
    "docker images | tail -n +2 | wc -l"
   ]
  },
  {
   "cell_type": "markdown",
   "metadata": {},
   "source": [
    "That is because there are many intermediate image layers which are not normally listed.\n",
    "But we can list those layers using the '-a' option and now we see a number close to the value from 'docker info'.\n",
    "\n",
    "(We will see later how the 'docker history' command allows us to see how the layers were created)."
   ]
  },
  {
   "cell_type": "code",
   "execution_count": 17,
   "metadata": {
    "collapsed": false
   },
   "outputs": [
    {
     "name": "stdout",
     "output_type": "stream",
     "text": [
      "REPOSITORY              TAG                 IMAGE ID            CREATED             SIZE\r\n",
      "lab/basic               latest              f208d8b26538        2 hours ago         689.1 MB\r\n",
      "<none>                  <none>              336f43130041        2 hours ago         689.1 MB\r\n",
      "<none>                  <none>              562809286a88        2 hours ago         689.1 MB\r\n",
      "dockercomposedemo_web   latest              e0660b1f2253        7 hours ago         683 MB\r\n",
      "<none>                  <none>              6e1b1956bb02        7 hours ago         682.9 MB\r\n",
      "<none>                  <none>              d775fdb51560        7 hours ago         683 MB\r\n",
      "<none>                  <none>              0551a74b587c        7 hours ago         676.1 MB\r\n",
      "test/flask_app          latest              055715f44c31        7 hours ago         683 MB\r\n",
      "<none>                  <none>              16d1bc9bb7eb        7 hours ago         683 MB\r\n",
      "<none>                  <none>              dfab1ec00524        7 hours ago         682.9 MB\r\n",
      "<none>                  <none>              f1c6e6f01b8c        7 hours ago         676.1 MB\r\n",
      "<none>                  <none>              3042389189cf        7 hours ago         676.1 MB\r\n",
      "compose_weba            latest              270de0754a23        18 hours ago        645.8 MB\r\n",
      "compose_webb            latest              270de0754a23        18 hours ago        645.8 MB\r\n",
      "compose_webc            latest              270de0754a23        18 hours ago        645.8 MB\r\n",
      "<none>                  <none>              fc20d66fdcff        18 hours ago        645.8 MB\r\n",
      "<none>                  <none>              5e043136a874        18 hours ago        645.8 MB\r\n",
      "<none>                  <none>              9b690a418639        18 hours ago        643.1 MB\r\n",
      "<none>                  <none>              f359643e78c6        18 hours ago        643.1 MB\r\n",
      "node-hello              latest              446ed2410baf        19 hours ago        645.8 MB\r\n",
      "<none>                  <none>              31da573ddb7b        19 hours ago        645.8 MB\r\n",
      "<none>                  <none>              1bd414bd8d09        19 hours ago        645.8 MB\r\n",
      "<none>                  <none>              41ca6d60d89b        19 hours ago        643.1 MB\r\n",
      "<none>                  <none>              993c7199a42b        19 hours ago        643.1 MB\r\n",
      "lab/go-hello            latest              2efe3ea09cbf        19 hours ago        2.367 MB\r\n",
      "<none>                  <none>              56c9e7511b2f        19 hours ago        2.367 MB\r\n",
      "<none>                  <none>              6c5a5256b276        20 hours ago        878.1 kB\r\n",
      "dockerlabs/toolset      userN               8f1514534590        20 hours ago        878.1 kB\r\n",
      "lab/toolset             latest              f63a40539224        20 hours ago        878.1 kB\r\n",
      "<none>                  <none>              d21fae990e43        20 hours ago        960 B\r\n",
      "<none>                  <none>              b3e694f22a12        21 hours ago        689.1 MB\r\n",
      "<none>                  <none>              f880808cf281        21 hours ago        689.1 MB\r\n",
      "<none>                  <none>              5f43942fd14e        21 hours ago        689.1 MB\r\n",
      "<none>                  <none>              3b59c02497eb        21 hours ago        689.1 MB\r\n",
      "<none>                  <none>              f5c03fbd8055        21 hours ago        689.1 MB\r\n",
      "<none>                  <none>              9963f26be3d0        21 hours ago        689.1 MB\r\n",
      "<none>                  <none>              84afb463af76        21 hours ago        689.1 MB\r\n",
      "<none>                  <none>              cff63d53a214        21 hours ago        689.1 MB\r\n",
      "<none>                  <none>              0c94e8192e1c        21 hours ago        689.1 MB\r\n",
      "<none>                  <none>              0a40a3444cb7        27 hours ago        877.2 kB\r\n",
      "lab/c_prog              latest              0932ac1b6d79        27 hours ago        877.2 kB\r\n",
      "tag/c_prog              latest              2bd211a5047a        27 hours ago        877.2 kB\r\n",
      "<none>                  <none>              53aa702a9523        27 hours ago        877.2 kB\r\n",
      "<none>                  <none>              736216a2a3eb        27 hours ago        0 B\r\n",
      "empty                   latest              35373568cb1d        27 hours ago        0 B\r\n",
      "<none>                  <none>              eacc55f56092        27 hours ago        0 B\r\n",
      "redis                   latest              26380e1ca356        4 days ago          151.3 MB\r\n",
      "tutum/haproxy           latest              187c5226f5d6        5 days ago          231.5 MB\r\n",
      "python                  latest              93049cc049a6        7 days ago          689.1 MB\r\n",
      "python                  2.7                 31093b2dabe2        7 days ago          676.1 MB\r\n",
      "node                    latest              baa18fdeb577        8 days ago          643.1 MB\r\n",
      "golang                  latest              f827671e2a60        8 days ago          725.1 MB\r\n",
      "haproxy                 latest              fc04104a627e        8 days ago          139 MB\r\n",
      "swarm                   1.1.0-rc2           81883ac55ffe        12 days ago         18.06 MB\r\n",
      "alpine                  latest              14f89d0e6257        2 weeks ago         4.794 MB\r\n",
      "hello-world             latest              690ed74de00f        3 months ago        960 B\r\n",
      "\r\n",
      "Total number of image layers:\r\n",
      "56\r\n"
     ]
    }
   ],
   "source": [
    "# Show all the image layers:\n",
    "docker images -a\n",
    "\n",
    "# Count all the image layers:\n",
    "echo\n",
    "echo \"Total number of image layers:\"\n",
    "\n",
    "docker images -a | tail -n +2 | wc -l  # The number of image layers+1 (inc. header line)"
   ]
  },
  {
   "cell_type": "markdown",
   "metadata": {},
   "source": [
    "Images can include 1 static binary file or more and can even include a whole distribution.\n",
    "Launching a container launches a single process within that container - which may in turn span other child processes.\n",
    "\n",
    "Let us look at an extremely small image to have an idea just how small an executable image can be.\n",
    "Docker provide an official 'hello-world' image which simply echoes some output to the console.\n",
    "\n",
    "Let's run that image to see and then investigate the image.\n",
    "First let's search for the image; we see that the first image is 'hello-world' which is an official build"
   ]
  },
  {
   "cell_type": "code",
   "execution_count": 18,
   "metadata": {
    "collapsed": false
   },
   "outputs": [
    {
     "name": "stdout",
     "output_type": "stream",
     "text": [
      "NAME                                     DESCRIPTION                                     STARS     OFFICIAL   AUTOMATED\r\n",
      "hello-world                              Hello World! (an example of minimal Docker...   47        [OK]       \r\n",
      "tutum/hello-world                        Image to test docker deployments. Has Apac...   19                   [OK]\r\n",
      "marcells/aspnet-hello-world              ASP.NET vNext - Hello World                     2                    [OK]\r\n",
      "bonomat/nodejs-hello-world               a simple nodejs hello world container           1                    [OK]\r\n",
      "carinamarina/hello-world-app             This is a sample Python web application, r...   1                    [OK]\r\n",
      "carinamarina/hello-world-web             A Python web app, running on port 5000, wh...   1                    [OK]\r\n",
      "vegasbrianc/docker-hello-world                                                           1                    [OK]\r\n",
      "mikelh/hello-world                       simplified hello world as dummy start for ...   0                    [OK]\r\n",
      "poojathote/hello-world                   this is 3rd POC                                 0                    [OK]\r\n",
      "asakaguchi/docker-nodejs-hello-world     Hello World for Docker                          0                    [OK]\r\n",
      "ileontyev81/docker-hello-world           hello world test build                          0                    [OK]\r\n",
      "alexwelch/hello-world                                                                    0                    [OK]\r\n",
      "vasia/docker-hello-world                 rhrthrth                                        0                    [OK]\r\n",
      "samxzxy/docker-hello-world               Automated build test docker-hello-world         0                    [OK]\r\n",
      "asakaguchi/magellan-nodejs-hello-world   Hello World for MAGELLAN                        0                    [OK]\r\n",
      "cpro/http-hello-world                    Hello world                                     0                    [OK]\r\n",
      "rcarun/hello-world                                                                       0                    [OK]\r\n",
      "kevto/play2-docker-hello-world           Hello World application in Play2 to test D...   0                    [OK]\r\n",
      "nirmata/hello-world                                                                      0                    [OK]\r\n",
      "n8io/hello-world                         A simple hello world node.js app to test d...   0                    [OK]\r\n",
      "wodge/docker-hello-world                 Hello World test for auto update to Docker...   0                    [OK]\r\n",
      "chalitac/hello-world                     Just Hello World                                0                    [OK]\r\n",
      "wowgroup/hello-world                     Minimal web app for testing purposes            0                    [OK]\r\n",
      "bencampbell/hello-world                  First automated build.                          0                    [OK]\r\n",
      "crccheck/hello-world                     Hello World web server in under 2.5 MB          0                    [OK]\r\n"
     ]
    }
   ],
   "source": [
    "docker search hello-world"
   ]
  },
  {
   "cell_type": "markdown",
   "metadata": {},
   "source": [
    "Let's now run that image"
   ]
  },
  {
   "cell_type": "code",
   "execution_count": 23,
   "metadata": {
    "collapsed": false
   },
   "outputs": [
    {
     "name": "stdout",
     "output_type": "stream",
     "text": [
      "\r\n",
      "Hello from Docker.\r\n",
      "This message shows that your installation appears to be working correctly.\r\n",
      "\r\n",
      "To generate this message, Docker took the following steps:\r\n",
      " 1. The Docker client contacted the Docker daemon.\r\n",
      " 2. The Docker daemon pulled the \"hello-world\" image from the Docker Hub.\r\n",
      " 3. The Docker daemon created a new container from that image which runs the\r\n",
      "    executable that produces the output you are currently reading.\r\n",
      " 4. The Docker daemon streamed that output to the Docker client, which sent it\r\n",
      "    to your terminal.\r\n",
      "\r\n",
      "To try something more ambitious, you can run an Ubuntu container with:\r\n",
      " $ docker run -it ubuntu bash\r\n",
      "\r\n",
      "Share images, automate workflows, and more with a free Docker Hub account:\r\n",
      " https://hub.docker.com\r\n",
      "\r\n",
      "For more examples and ideas, visit:\r\n",
      " https://docs.docker.com/userguide/\r\n",
      "\r\n"
     ]
    }
   ],
   "source": [
    "docker run hello-world\n",
    "\n",
    "# Note how we see the pulling of the image if not already available locally:"
   ]
  },
  {
   "cell_type": "markdown",
   "metadata": {},
   "source": [
    "If it took a while to run, this was due to the time needed to download the image before running it - see above.\n",
    "\n",
    "Try the command a second time to see how it runs instantaneously as there is no need to download the image which already exists locally on the 'docker engine'."
   ]
  },
  {
   "cell_type": "code",
   "execution_count": 24,
   "metadata": {
    "collapsed": false
   },
   "outputs": [
    {
     "name": "stdout",
     "output_type": "stream",
     "text": [
      "\r\n",
      "Hello from Docker.\r\n",
      "This message shows that your installation appears to be working correctly.\r\n",
      "\r\n",
      "To generate this message, Docker took the following steps:\r\n",
      " 1. The Docker client contacted the Docker daemon.\r\n",
      " 2. The Docker daemon pulled the \"hello-world\" image from the Docker Hub.\r\n",
      " 3. The Docker daemon created a new container from that image which runs the\r\n",
      "    executable that produces the output you are currently reading.\r\n",
      " 4. The Docker daemon streamed that output to the Docker client, which sent it\r\n",
      "    to your terminal.\r\n",
      "\r\n",
      "To try something more ambitious, you can run an Ubuntu container with:\r\n",
      " $ docker run -it ubuntu bash\r\n",
      "\r\n",
      "Share images, automate workflows, and more with a free Docker Hub account:\r\n",
      " https://hub.docker.com\r\n",
      "\r\n",
      "For more examples and ideas, visit:\r\n",
      " https://docs.docker.com/userguide/\r\n",
      "\r\n"
     ]
    }
   ],
   "source": [
    "docker run hello-world\n",
    "\n",
    "# The second time there is no need to repull the image:"
   ]
  },
  {
   "cell_type": "markdown",
   "metadata": {},
   "source": [
    "Let us inspect the image.  We see that the file is only 960 bytes large, it must be machine code to print out the text.  So we see that an image can be really very small"
   ]
  },
  {
   "cell_type": "code",
   "execution_count": 25,
   "metadata": {
    "collapsed": false
   },
   "outputs": [
    {
     "name": "stdout",
     "output_type": "stream",
     "text": [
      "REPOSITORY          TAG                 IMAGE ID            CREATED             SIZE\r\n",
      "hello-world         latest              690ed74de00f        3 months ago        960 B\r\n"
     ]
    }
   ],
   "source": [
    "docker images hello-world"
   ]
  },
  {
   "cell_type": "markdown",
   "metadata": {},
   "source": [
    "We can also inspect the image with the history command to see how it was constructed.\n",
    "\n",
    "Note that history shows the image layers in reverse order, latest first.\n",
    "\n",
    "From the below command we can see that the image was created from only 2 image layers.\n",
    "\n",
    "The image was built simply by copying in a binary executable and then specifying the default command to invoke when the image is run."
   ]
  },
  {
   "cell_type": "code",
   "execution_count": 27,
   "metadata": {
    "collapsed": false
   },
   "outputs": [
    {
     "name": "stdout",
     "output_type": "stream",
     "text": [
      "IMAGE               CREATED             CREATED BY                                      SIZE                COMMENT\r\n",
      "690ed74de00f        3 months ago        /bin/sh -c #(nop) CMD [\"/hello\"]                0 B                 \r\n",
      "<missing>           3 months ago        /bin/sh -c #(nop) COPY file:1ad52e3eaf4327c8f   960 B               \r\n"
     ]
    }
   ],
   "source": [
    "docker history hello-world"
   ]
  },
  {
   "cell_type": "code",
   "execution_count": 29,
   "metadata": {
    "collapsed": false
   },
   "outputs": [
    {
     "name": "stdout",
     "output_type": "stream",
     "text": [
      "\r\n",
      "Total size (in bytes) of text in 'hello-world' image:\r\n",
      "801\r\n"
     ]
    }
   ],
   "source": [
    "echo\n",
    "echo \"Total size (in bytes) of text in 'hello-world' image:\"\n",
    "docker run hello-world | wc -c"
   ]
  },
  {
   "cell_type": "markdown",
   "metadata": {
    "collapsed": false
   },
   "source": [
    "So we see that 801 bytes of that executable is the actual text printed !\n",
    "So the real program size is roughly 160 bytes (of assembler no doubt)"
   ]
  },
  {
   "cell_type": "markdown",
   "metadata": {},
   "source": [
    "<a name=\"builds\" />\n",
    "## Basic Docker Builds\n",
    "[TOP](#TOP)"
   ]
  },
  {
   "cell_type": "markdown",
   "metadata": {},
   "source": [
    "#### Dockerfile\n",
    "\n",
    "Images are built from Dockerfiles which contain a series of commands used to build up a docker image.\n",
    "Note that each command in the Dockerfile results in a new image layer being created, no matter how trivial the command - even ENV \"commands\" create a new image layer.\n",
    "\n",
    "In the following lab we will see how images can be built systematically from a Dockerfile using the 'docker build' command.\n",
    "\n",
    "#### DockerHub\n",
    "\n",
    "When we pull an image we pull it from a Docker Registry.  The [DockerHub](https://hub.docker.com/) is a free to use Docker registry allowing to store your own image files (which are publicly available unless you pay for your account) and to pull other image files of other users or officially provided images.\n",
    "\n",
    "You can create images either by\n",
    "- building them from a Dockerfile (thus in a **repeatable** manner)\n",
    "- building them manually by modifying a running container and *'commit'*ing it's state\n",
    "\n",
    "The DockerHub contains images which may be\n",
    "- **Automated builds** (built from a git repository)\n",
    "  - Such builds are usually built from an open-source git repo and so are called **Trusted builds** because the source code is available.\n",
    "    *Note:* The github repo may contain binary files though\n",
    "- **Official builds** are builds which are builds provided by partners or by Docker themselves\n",
    "\n",
    "Other images may exist in the hub but their origin is unknown and so represent a security risk.\n",
    "\n",
    "It is possible to search the DockerHub, or another Docker Registry, using the 'docker search' command with appropriate options.  Other companies offer their own Docker Registry which may be freely accessible e.g. RedHat, internal to a company e.g. HPE IT, or available as part of a paid for service e.g. IBM or Amawon Web Services ECR.\n"
   ]
  },
  {
   "cell_type": "code",
   "execution_count": 36,
   "metadata": {
    "collapsed": false
   },
   "outputs": [
    {
     "name": "stdout",
     "output_type": "stream",
     "text": []
    }
   ],
   "source": [
    "mkdir -p ~/test\n",
    "cd    ~/test\n",
    "\n",
    "cat > Dockerfile.basic <<EOF\n",
    "#\n",
    "# Dockerfile to demonstrate the simplest build\n",
    "#\n",
    "FROM python\n",
    "\n",
    "MAINTAINER \"Docker Build Lab\" <dockerlabs@mjbright.net>\n",
    "\n",
    "# NOTE: all RUN commands are executed at build time,\n",
    "#       look at the output of the \"docker build\" below and you will see the Python version.\n",
    "RUN python --version\n",
    "\n",
    "CMD bash\n",
    "\n",
    "EOF"
   ]
  },
  {
   "cell_type": "code",
   "execution_count": 2,
   "metadata": {
    "collapsed": false
   },
   "outputs": [
    {
     "name": "stdout",
     "output_type": "stream",
     "text": [
      "ls: cannot access Dockerfile.basic: No such file or directory\r\n"
     ]
    }
   ],
   "source": [
    "ls -altr Dockerfile.basic"
   ]
  },
  {
   "cell_type": "markdown",
   "metadata": {},
   "source": [
    "We can now build a new image using this dockerfile using the below command where\n",
    "- we explicitly select the *Dockerfile.basic* which we just created with\n",
    "\n",
    "    **-f Dockerfile.basic**\n",
    "    \n",
    "- we specify the current directory as the context for the build (any ADD/COPY or Dockerfile files will be sourced from here) with\n",
    "\n",
    "    **.**\n",
    "\n",
    "\n",
    "- we specify the specific tag to use for the generated image as \"*lab/basic*\" with\n",
    "\n",
    "    **-t lab/basic**\n"
   ]
  },
  {
   "cell_type": "code",
   "execution_count": 52,
   "metadata": {
    "collapsed": false
   },
   "outputs": [
    {
     "name": "stdout",
     "output_type": "stream",
     "text": [
      "unable to prepare context: unable to evaluate symlinks in Dockerfile path: lstat /vagrant/src/createTinyC/Dockerfile.basic: no such file or directory\r\n"
     ]
    }
   ],
   "source": [
    "docker build -f Dockerfile.basic -t lab/basic . "
   ]
  },
  {
   "cell_type": "markdown",
   "metadata": {},
   "source": [
    "Note that during the build, the RUN commands are actually run.\n",
    "\n",
    "They are used to build up this new image.\n",
    "\n",
    "In this case we echo the 'Python' version string during the build process.\n",
    "\n",
    "You can see the available options to the build command by issuing\n",
    " 'docker build --help'"
   ]
  },
  {
   "cell_type": "code",
   "execution_count": 53,
   "metadata": {
    "collapsed": false
   },
   "outputs": [
    {
     "name": "stdout",
     "output_type": "stream",
     "text": [
      "\r\n",
      "Usage:\tdocker build [OPTIONS] PATH | URL | -\r\n",
      "\r\n",
      "Build an image from a Dockerfile\r\n",
      "\r\n",
      "  --build-arg=[]                  Set build-time variables\r\n",
      "  --cpu-shares                    CPU shares (relative weight)\r\n",
      "  --cgroup-parent                 Optional parent cgroup for the container\r\n",
      "  --cpu-period                    Limit the CPU CFS (Completely Fair Scheduler) period\r\n",
      "  --cpu-quota                     Limit the CPU CFS (Completely Fair Scheduler) quota\r\n",
      "  --cpuset-cpus                   CPUs in which to allow execution (0-3, 0,1)\r\n",
      "  --cpuset-mems                   MEMs in which to allow execution (0-3, 0,1)\r\n",
      "  --disable-content-trust=true    Skip image verification\r\n",
      "  -f, --file                      Name of the Dockerfile (Default is 'PATH/Dockerfile')\r\n",
      "  --force-rm                      Always remove intermediate containers\r\n",
      "  --help                          Print usage\r\n",
      "  --isolation                     Container isolation level\r\n",
      "  -m, --memory                    Memory limit\r\n",
      "  --memory-swap                   Swap limit equal to memory plus swap: '-1' to enable unlimited swap\r\n",
      "  --no-cache                      Do not use cache when building the image\r\n",
      "  --pull                          Always attempt to pull a newer version of the image\r\n",
      "  -q, --quiet                     Suppress the build output and print image ID on success\r\n",
      "  --rm=true                       Remove intermediate containers after a successful build\r\n",
      "  --shm-size                      Size of /dev/shm, default value is 64MB\r\n",
      "  -t, --tag=[]                    Name and optionally a tag in the 'name:tag' format\r\n",
      "  --ulimit=[]                     Ulimit options\r\n"
     ]
    }
   ],
   "source": [
    "docker build --help"
   ]
  },
  {
   "cell_type": "markdown",
   "metadata": {},
   "source": [
    "We can see all the images available using the\n",
    " 'docker images' command\n",
    " \n",
    "but if there are many, how do we see just our newly-created image?\n",
    "\n",
    "You can see the available options to the images command by issuing\n",
    " 'docker images --help'"
   ]
  },
  {
   "cell_type": "code",
   "execution_count": 54,
   "metadata": {
    "collapsed": false
   },
   "outputs": [
    {
     "name": "stdout",
     "output_type": "stream",
     "text": [
      "\r\n",
      "Usage:\tdocker images [OPTIONS] [REPOSITORY[:TAG]]\r\n",
      "\r\n",
      "List images\r\n",
      "\r\n",
      "  -a, --all          Show all images (default hides intermediate images)\r\n",
      "  --digests          Show digests\r\n",
      "  -f, --filter=[]    Filter output based on conditions provided\r\n",
      "  --format           Pretty-print images using a Go template\r\n",
      "  --help             Print usage\r\n",
      "  --no-trunc         Don't truncate output\r\n",
      "  -q, --quiet        Only show numeric IDs\r\n"
     ]
    }
   ],
   "source": [
    "docker images --help"
   ]
  },
  {
   "cell_type": "markdown",
   "metadata": {},
   "source": [
    "So you can see your newly built 'lab/basic' with the following command:"
   ]
  },
  {
   "cell_type": "code",
   "execution_count": 55,
   "metadata": {
    "collapsed": false
   },
   "outputs": [
    {
     "name": "stdout",
     "output_type": "stream",
     "text": [
      "REPOSITORY          TAG                 IMAGE ID            CREATED             SIZE\r\n",
      "lab/basic           latest              35c61f2fa5c4        9 minutes ago       689.1 MB\r\n"
     ]
    }
   ],
   "source": [
    "docker images lab/basic"
   ]
  },
  {
   "cell_type": "markdown",
   "metadata": {},
   "source": [
    "Note that if you rerun the build command, the build should run faster, you will notice how build steps recognize that this step has already been performed and so will use the image layer already available in the local cache."
   ]
  },
  {
   "cell_type": "markdown",
   "metadata": {},
   "source": [
    "Now let us see what happens if we modify our Dockerfile, by inserting a line, such as defining an environment variable.\n",
    "\n",
    "We will use the same Dockerfile, but this time we will insert an \"ENV\" line\n"
   ]
  },
  {
   "cell_type": "code",
   "execution_count": 56,
   "metadata": {
    "collapsed": false
   },
   "outputs": [
    {
     "name": "stdout",
     "output_type": "stream",
     "text": []
    }
   ],
   "source": [
    "cd ~/test/\n",
    "\n",
    "cat > Dockerfile.basic <<EOF\n",
    "#\n",
    "# Dockerfile to demonstrate the simplest build (with ENV line added)\n",
    "#\n",
    "FROM python\n",
    "\n",
    "MAINTAINER \"DockerLabs\" <dockerlabs@mjbright.net>\n",
    "\n",
    "RUN python --version\n",
    "\n",
    "ENV myvar \"this will force rebuilding from here on\"\n",
    "\n",
    "CMD bash\n",
    "\n",
    "EOF"
   ]
  },
  {
   "cell_type": "markdown",
   "metadata": {},
   "source": [
    "This time when we build the image we will see that the addition of a line between the \"RUN\" line and the \"CMD\" line forces rebuild of subsequent image layers.\n",
    "\n",
    "**We see 'Using cache' for Step 2 and 3 only**"
   ]
  },
  {
   "cell_type": "code",
   "execution_count": 57,
   "metadata": {
    "collapsed": false
   },
   "outputs": [
    {
     "name": "stdout",
     "output_type": "stream",
     "text": [
      "Sending build context to Docker daemon 64.51 kB\r",
      "\r",
      "\r\n",
      "Step 1 : FROM python\r\n",
      " ---> 93049cc049a6\r\n",
      "Step 2 : MAINTAINER \"DockerLabs\" <dockerlabs@mjbright.net>\r\n",
      " ---> Using cache\r\n",
      " ---> 14bc084e19ac\r\n",
      "Step 3 : RUN python --version\r\n",
      " ---> Using cache\r\n",
      " ---> 297502864082\r\n",
      "Step 4 : ENV myvar \"this will force rebuilding from here on\"\r\n",
      " ---> Using cache\r\n",
      " ---> 0c5e29e937a3\r\n",
      "Step 5 : CMD bash\r\n",
      " ---> Using cache\r\n",
      " ---> 35c61f2fa5c4\r\n",
      "Successfully built 35c61f2fa5c4\r\n"
     ]
    }
   ],
   "source": [
    "docker build -f Dockerfile.basic -t lab/basic . "
   ]
  },
  {
   "cell_type": "markdown",
   "metadata": {},
   "source": [
    "Similarly we can force to not use the cache with the --no-cache option.\n",
    "\n",
    "This could be useful if we suspect the caching is not working properly due to some external change."
   ]
  },
  {
   "cell_type": "code",
   "execution_count": 58,
   "metadata": {
    "collapsed": false
   },
   "outputs": [
    {
     "name": "stdout",
     "output_type": "stream",
     "text": [
      "Sending build context to Docker daemon 64.51 kB\r",
      "\r",
      "\r\n",
      "Step 1 : FROM python\r\n",
      " ---> 93049cc049a6\r\n",
      "Step 2 : MAINTAINER \"DockerLabs\" <dockerlabs@mjbright.net>\r\n",
      " ---> Running in 3e975de99a45\r\n",
      " ---> 5e9b0170f176\r\n",
      "Removing intermediate container 3e975de99a45\r\n",
      "Step 3 : RUN python --version\r\n",
      " ---> Running in 3fea4e1ae6f2\r\n",
      "Python 3.5.1\r\n",
      " ---> 8b1a6f4ed109\r\n",
      "Removing intermediate container 3fea4e1ae6f2\r\n",
      "Step 4 : ENV myvar \"this will force rebuilding from here on\"\r\n",
      " ---> Running in 1e7b2a231ea7\r\n",
      " ---> 8dbf0de1a4d1\r\n",
      "Removing intermediate container 1e7b2a231ea7\r\n",
      "Step 5 : CMD bash\r\n",
      " ---> Running in 4e89818c6909\r\n",
      " ---> a3d5a59ab539\r\n",
      "Removing intermediate container 4e89818c6909\r\n",
      "Successfully built a3d5a59ab539\r\n"
     ]
    }
   ],
   "source": [
    "docker build --no-cache -f Dockerfile.basic -t lab/basic . "
   ]
  },
  {
   "cell_type": "code",
   "execution_count": 59,
   "metadata": {
    "collapsed": false
   },
   "outputs": [
    {
     "name": "stdout",
     "output_type": "stream",
     "text": [
      "REPOSITORY          TAG                 IMAGE ID            CREATED             SIZE\r\n",
      "lab/basic           latest              a3d5a59ab539        1 seconds ago       689.1 MB\r\n"
     ]
    }
   ],
   "source": [
    "docker images lab/basic"
   ]
  },
  {
   "cell_type": "markdown",
   "metadata": {},
   "source": [
    "<a name=\"small-images\" />\n",
    "## Creating small images\n",
    "[TOP](#TOP)\n",
    "\n",
    "<a name=\"small-c\" />\n",
    "## Creating a small C Docker image\n",
    "[TOP](#TOP)\n",
    "\n",
    "In this example we show how we can create a Docker image from a statically-linked binary.\n",
    "\n",
    "<font size=+1 color=\"#77f\">\n",
    "<b>The goal of this step is to show that we do not need an Operating System image for a Docker container.</b>\n",
    "</font>\n",
    "\n",
    "All we need is a self-contained binary - i.e. statically linked binary.\n",
    "\n",
    "Of course a dynamically linked binary could also be used, but in this case it's more complicated as you would have to manually add all it's dependent libraries.  Let's let gcc to do that work for us!\n",
    "\n",
    "This section comprises 2 things\n",
    "- A Dockerfile to build our image from a static binary\n",
    "  Note that it starts with \"FROM scratch\".\n",
    "  Scratch is a special 'empty' image\n",
    "- helloFromDocker.c\n",
    "  "
   ]
  },
  {
   "cell_type": "markdown",
   "metadata": {},
   "source": [
    "So first let's build our static binary"
   ]
  },
  {
   "cell_type": "code",
   "execution_count": 84,
   "metadata": {
    "collapsed": false
   },
   "outputs": [
    {
     "name": "stdout",
     "output_type": "stream",
     "text": [
      "-rwxrwxrwx 1 vagrant vagrant 857K Feb  3  2016 helloWorld.exe\r\n"
     ]
    }
   ],
   "source": [
    "cd ~/src/createTinyC/\n",
    "\n",
    "# For RHEL/Fedora/Centos only:\n",
    "# First we must install *glibc-static*\n",
    "#yum install -y glibc-static\n",
    "\n",
    "gcc -static helloWorld.c -o helloWorld.exe\n",
    "\n",
    "ls -alh helloWorld.exe"
   ]
  },
  {
   "cell_type": "markdown",
   "metadata": {},
   "source": [
    "So we see that this created a binary file of approximately 857kby.\n",
    "\n",
    "Now let's build our Docker image containing this binary.\n",
    "\n",
    "You will need to recreate the Dockerfile as follows:"
   ]
  },
  {
   "cell_type": "code",
   "execution_count": 62,
   "metadata": {
    "collapsed": false
   },
   "outputs": [
    {
     "name": "stdout",
     "output_type": "stream",
     "text": [
      "\r\n",
      "FROM scratch\r\n",
      "MAINTAINER \"Docker Build Lab\" <dockerlab@mjbright.net>\r\n",
      "\r\n",
      "ADD ./helloWorld.exe /helloWorld.exe\r\n",
      "CMD [\"/helloWorld.exe\"]\r\n",
      "\r\n"
     ]
    }
   ],
   "source": [
    "cat Dockerfile"
   ]
  },
  {
   "cell_type": "code",
   "execution_count": 63,
   "metadata": {
    "collapsed": false
   },
   "outputs": [
    {
     "name": "stdout",
     "output_type": "stream",
     "text": [
      "Sending build context to Docker daemon 557.1 kB\r",
      "Sending build context to Docker daemon 882.2 kB\r",
      "\r",
      "\r\n",
      "Step 1 : FROM scratch\r\n",
      " ---> \r\n",
      "Step 2 : MAINTAINER \"Docker Build Lab\" <dockerlab@mjbright.net>\r\n",
      " ---> Using cache\r\n",
      " ---> 736216a2a3eb\r\n",
      "Step 3 : ADD ./helloWorld.exe /helloWorld.exe\r\n",
      " ---> Using cache\r\n",
      " ---> 0a40a3444cb7\r\n",
      "Step 4 : CMD /helloWorld.exe\r\n",
      " ---> Using cache\r\n",
      " ---> 0932ac1b6d79\r\n",
      "Successfully built 0932ac1b6d79\r\n"
     ]
    }
   ],
   "source": [
    "docker build -t lab/c_prog ."
   ]
  },
  {
   "cell_type": "markdown",
   "metadata": {},
   "source": [
    "If we now look at the generated Docker image (below) we see an image of about 877kby.\n",
    "\n",
    "So whilst this is larger than the 1kby hello-world image (no doubt written in assembler) it is still a very small Docker image which is only 20kbytes larger than the original binary file."
   ]
  },
  {
   "cell_type": "code",
   "execution_count": 64,
   "metadata": {
    "collapsed": false
   },
   "outputs": [
    {
     "name": "stdout",
     "output_type": "stream",
     "text": [
      "REPOSITORY          TAG                 IMAGE ID            CREATED             SIZE\r\n",
      "lab/c_prog          latest              0932ac1b6d79        27 hours ago        877.2 kB\r\n"
     ]
    }
   ],
   "source": [
    "docker images lab/c_prog"
   ]
  },
  {
   "cell_type": "markdown",
   "metadata": {},
   "source": [
    "And now let's run that image"
   ]
  },
  {
   "cell_type": "code",
   "execution_count": 65,
   "metadata": {
    "collapsed": false
   },
   "outputs": [
    {
     "name": "stdout",
     "output_type": "stream",
     "text": [
      "Hello World!!\r\n"
     ]
    }
   ],
   "source": [
    "docker run lab/c_prog"
   ]
  },
  {
   "cell_type": "code",
   "execution_count": 66,
   "metadata": {
    "collapsed": false
   },
   "outputs": [
    {
     "name": "stdout",
     "output_type": "stream",
     "text": [
      "IMAGE               CREATED             CREATED BY                                      SIZE                COMMENT\r\n",
      "0932ac1b6d79        27 hours ago        /bin/sh -c #(nop) CMD [\"/helloWorld.exe\"]       0 B                 \r\n",
      "0a40a3444cb7        27 hours ago        /bin/sh -c #(nop) ADD file:b9e47715d0136bd3d8   877.2 kB            \r\n",
      "736216a2a3eb        27 hours ago        /bin/sh -c #(nop) MAINTAINER \"Docker Build La   0 B                 \r\n"
     ]
    }
   ],
   "source": [
    "docker history lab/c_prog"
   ]
  },
  {
   "cell_type": "markdown",
   "metadata": {},
   "source": [
    "<a name=\"small-go\" />\n",
    "## Creating a small Go Docker image\n",
    "[TOP](#TOP)\n",
    "\n",
    "That's fine, but isn't Go taking over the world as a systems language?\n",
    "Docker, Kubernetes, LXD, Rocket, ... many new tools are being written in Go.\n",
    "\n",
    "Let's see how we can do the same exercise but building a Go statically-linked binary.\n",
    "\n",
    "<font size=+1 color=\"#77f\">\n",
    "<b>The goal of this step is as the previous step (building an image from a single statically-linked binary) but using Go, but also to demonstrate how we can use a Docker image containing a Go compiler, rather than explicitly installing a compiler.</b>\n",
    "</font>\n",
    "\n",
    "**NOTE:** We will do this **without** 'installing a Go compiler'\n",
    "\n",
    "\n",
    "\n",
    "  "
   ]
  },
  {
   "cell_type": "code",
   "execution_count": 74,
   "metadata": {
    "collapsed": false
   },
   "outputs": [
    {
     "name": "stdout",
     "output_type": "stream",
     "text": [
      "\r\n",
      "FROM scratch\r\n",
      "MAINTAINER \"Docker Build Lab\" <dockerlabs@mjbright.net>\r\n",
      "\r\n",
      "ADD ./hello /hello\r\n",
      "CMD [\"/hello\"]\r\n",
      "\r\n"
     ]
    }
   ],
   "source": [
    "cd ~/src/createTinyGo\n",
    "cat Dockerfile"
   ]
  },
  {
   "cell_type": "markdown",
   "metadata": {},
   "source": [
    "**NOW we invoke the golang container** to build our go source code.\n",
    "\n",
    "The following docker run\n",
    "- mounts the current directory ($PWD) as /go within the container\n",
    "- launches a container of the **golang** image which contains the go compiler\n",
    "- invokes the command \"go build -v hello\" on the container to build the sources for the \"hello.go\" code.\n",
    "\n",
    "The hello.go code is located under src/hello/hello.go.\n",
    "\n",
    "This is a Go convention.\n",
    "\n",
    "**NOTE:** The important thing to note here is that the compiler is within the image.  We did not need to install a native Go compiler, we used an image which contains the compiler and by mounting the current directory the container can read the source code and write the executable outside the container.  This is a nice pattern of providing a tool within a container.\n"
   ]
  },
  {
   "cell_type": "code",
   "execution_count": 80,
   "metadata": {
    "collapsed": false
   },
   "outputs": [
    {
     "name": "stdout",
     "output_type": "stream",
     "text": [
      "-rwxrwxrwx 1 vagrant vagrant 2367272 Feb  3  2016 hello\r\n"
     ]
    }
   ],
   "source": [
    "docker run -it -v $PWD:/go golang go build hello\n",
    "\n",
    "ls -l hello"
   ]
  },
  {
   "cell_type": "markdown",
   "metadata": {},
   "source": [
    "Now we can build our image including this static binary."
   ]
  },
  {
   "cell_type": "code",
   "execution_count": 81,
   "metadata": {
    "collapsed": false
   },
   "outputs": [
    {
     "name": "stdout",
     "output_type": "stream",
     "text": [
      "Sending build context to Docker daemon 557.1 kB\r",
      "Sending build context to Docker daemon 1.114 MB\r",
      "Sending build context to Docker daemon 1.671 MB\r",
      "Sending build context to Docker daemon 2.228 MB\r",
      "Sending build context to Docker daemon 2.379 MB\r",
      "\r",
      "\r\n",
      "Step 1 : FROM scratch\r\n",
      " ---> \r\n",
      "Step 2 : MAINTAINER \"Docker Build Lab\" <dockerlabs@mjbright.net>\r\n",
      " ---> Running in 8a373acfdf4e\r\n",
      " ---> 0c75607bc9c6\r\n",
      "Removing intermediate container 8a373acfdf4e\r\n",
      "Step 3 : ADD ./hello /hello\r\n",
      " ---> 4d11a463c02f\r\n",
      "Removing intermediate container c4b09251f46b\r\n",
      "Step 4 : CMD /hello\r\n",
      " ---> Running in 5feb2c9e6fd9\r\n",
      " ---> d4d1ebc992b6\r\n",
      "Removing intermediate container 5feb2c9e6fd9\r\n",
      "Successfully built d4d1ebc992b6\r\n"
     ]
    }
   ],
   "source": [
    "docker build -t lab/go-hello ."
   ]
  },
  {
   "cell_type": "code",
   "execution_count": 82,
   "metadata": {
    "collapsed": false
   },
   "outputs": [
    {
     "name": "stdout",
     "output_type": "stream",
     "text": [
      "REPOSITORY          TAG                 IMAGE ID            CREATED             SIZE\r\n",
      "lab/go-hello        latest              d4d1ebc992b6        3 seconds ago       2.367 MB\r\n",
      "lab/basic           latest              a3d5a59ab539        17 minutes ago      689.1 MB\r\n",
      "lab/toolset         latest              f63a40539224        21 hours ago        878.1 kB\r\n",
      "lab/c_prog          latest              0932ac1b6d79        27 hours ago        877.2 kB\r\n"
     ]
    }
   ],
   "source": [
    "docker images lab/*"
   ]
  },
  {
   "cell_type": "markdown",
   "metadata": {
    "collapsed": true
   },
   "source": [
    "<a name=\"small-multi\"/>\n",
    "## Creating a toolset Docker image containing several executables\n",
    "[TOP](#TOP)\n",
    "\n",
    "Now let's see how we can combine these static binaries into one image.\n",
    "\n",
    "Let's build a new image derived from the Docker provided 'hello-world' image\n",
    "\n",
    "<font size=+1 color=\"#77f\">\n",
    "<b>The goal of this step is to show how we can combine several executables in an image, opening up the possibility of creating a container of tools.</b>\n",
    "</font>\n",
    "\n",
    "We will do this without directly 'installing a Go compiler' but by using the official *'golang'* image which includes the Go compiler."
   ]
  },
  {
   "cell_type": "code",
   "execution_count": 87,
   "metadata": {
    "collapsed": false
   },
   "outputs": [
    {
     "name": "stdout",
     "output_type": "stream",
     "text": [
      "-rwxrwxrwx 1 vagrant vagrant  877152 Feb  3  2016 helloWorld.exe\r\n",
      "-rwxrwxrwx 1 vagrant vagrant 2367272 Feb  3  2016 helloWorldGo.exe\r\n"
     ]
    }
   ],
   "source": [
    "cd ~/src/toolset\n",
    "\n",
    "cp ../createTinyC/helloWorld.exe helloWorld.exe\n",
    "cp ../createTinyGo/hello         helloWorldGo.exe\n",
    "\n",
    "ls -altr *.exe"
   ]
  },
  {
   "cell_type": "code",
   "execution_count": 93,
   "metadata": {
    "collapsed": false
   },
   "outputs": [
    {
     "name": "stdout",
     "output_type": "stream",
     "text": [
      "\r\n",
      "FROM hello-world\r\n",
      "MAINTAINER \"Docker Build Lab\" <dockerlabs@mjbright.net>\r\n",
      "\r\n",
      "ADD ./helloWorld.exe /helloWorld\r\n",
      "CMD [\"/helloWorld\"]\r\n",
      "\r\n",
      "ADD ./helloWorldGo.exe /helloWorldGo\r\n",
      "CMD [\"/helloWorldGo\"]\r\n",
      "\r\n"
     ]
    }
   ],
   "source": [
    "cat Dockerfile"
   ]
  },
  {
   "cell_type": "code",
   "execution_count": 94,
   "metadata": {
    "collapsed": false
   },
   "outputs": [
    {
     "name": "stdout",
     "output_type": "stream",
     "text": [
      "Sending build context to Docker daemon 557.1 kB\r",
      "Sending build context to Docker daemon 1.114 MB\r",
      "Sending build context to Docker daemon 1.671 MB\r",
      "Sending build context to Docker daemon 2.228 MB\r",
      "Sending build context to Docker daemon 2.785 MB\r",
      "Sending build context to Docker daemon  3.25 MB\r",
      "\r",
      "\r\n",
      "Step 1 : FROM hello-world\r\n",
      " ---> 690ed74de00f\r\n",
      "Step 2 : MAINTAINER \"Docker Build Lab\" <dockerlabs@mjbright.net>\r\n",
      " ---> Using cache\r\n",
      " ---> e333de97b017\r\n",
      "Step 3 : ADD ./helloWorld.exe /helloWorld\r\n",
      " ---> 112de2b37180\r\n",
      "Removing intermediate container c2de904b29d3\r\n",
      "Step 4 : CMD /helloWorld\r\n",
      " ---> Running in b165cb31731d\r\n",
      " ---> 830710bf3fea\r\n",
      "Removing intermediate container b165cb31731d\r\n",
      "Step 5 : ADD ./helloWorldGo.exe /helloWorldGo\r\n",
      " ---> 3b20a4752aa2\r\n",
      "Removing intermediate container d6e4f4c288bf\r\n",
      "Step 6 : CMD /helloWorldGo\r\n",
      " ---> Running in bb4f4923c4c8\r\n",
      " ---> b7f0ff9edbc7\r\n",
      "Removing intermediate container bb4f4923c4c8\r\n",
      "Successfully built b7f0ff9edbc7\r\n"
     ]
    }
   ],
   "source": [
    "docker build -t lab/toolset ./"
   ]
  },
  {
   "cell_type": "code",
   "execution_count": 95,
   "metadata": {
    "collapsed": false
   },
   "outputs": [
    {
     "name": "stdout",
     "output_type": "stream",
     "text": [
      "IMAGE               CREATED              CREATED BY                                      SIZE                COMMENT\r\n",
      "b7f0ff9edbc7        42 seconds ago       /bin/sh -c #(nop) CMD [\"/helloWorldGo\"]         0 B                 \r\n",
      "3b20a4752aa2        42 seconds ago       /bin/sh -c #(nop) ADD file:6ef59d35b320e3770b   2.367 MB            \r\n",
      "830710bf3fea        42 seconds ago       /bin/sh -c #(nop) CMD [\"/helloWorld\"]           0 B                 \r\n",
      "112de2b37180        42 seconds ago       /bin/sh -c #(nop) ADD file:b9e47715d0136bd3d8   877.2 kB            \r\n",
      "e333de97b017        About a minute ago   /bin/sh -c #(nop) MAINTAINER \"Docker Build La   0 B                 \r\n",
      "690ed74de00f        3 months ago         /bin/sh -c #(nop) CMD [\"/hello\"]                0 B                 \r\n",
      "<missing>           3 months ago         /bin/sh -c #(nop) COPY file:1ad52e3eaf4327c8f   960 B               \r\n"
     ]
    }
   ],
   "source": [
    "docker history lab/toolset"
   ]
  },
  {
   "cell_type": "markdown",
   "metadata": {},
   "source": [
    "Now we are free to specify which command is to be run"
   ]
  },
  {
   "cell_type": "code",
   "execution_count": 96,
   "metadata": {
    "collapsed": false
   },
   "outputs": [
    {
     "name": "stdout",
     "output_type": "stream",
     "text": [
      "Hello world from Go !!\r\n"
     ]
    }
   ],
   "source": [
    "docker run lab/toolset"
   ]
  },
  {
   "cell_type": "code",
   "execution_count": 97,
   "metadata": {
    "collapsed": false
   },
   "outputs": [
    {
     "name": "stdout",
     "output_type": "stream",
     "text": [
      "\r\n",
      "Hello from Docker.\r\n",
      "This message shows that your installation appears to be working correctly.\r\n",
      "\r\n",
      "To generate this message, Docker took the following steps:\r\n",
      " 1. The Docker client contacted the Docker daemon.\r\n",
      " 2. The Docker daemon pulled the \"hello-world\" image from the Docker Hub.\r\n",
      " 3. The Docker daemon created a new container from that image which runs the\r\n",
      "    executable that produces the output you are currently reading.\r\n",
      " 4. The Docker daemon streamed that output to the Docker client, which sent it\r\n",
      "    to your terminal.\r\n",
      "\r\n",
      "To try something more ambitious, you can run an Ubuntu container with:\r\n",
      " $ docker run -it ubuntu bash\r\n",
      "\r\n",
      "Share images, automate workflows, and more with a free Docker Hub account:\r\n",
      " https://hub.docker.com\r\n",
      "\r\n",
      "For more examples and ideas, visit:\r\n",
      " https://docs.docker.com/userguide/\r\n",
      "\r\n"
     ]
    }
   ],
   "source": [
    "docker run lab/toolset /hello"
   ]
  },
  {
   "cell_type": "code",
   "execution_count": 99,
   "metadata": {
    "collapsed": false
   },
   "outputs": [
    {
     "name": "stdout",
     "output_type": "stream",
     "text": [
      "Hello World!!\r\n"
     ]
    }
   ],
   "source": [
    "docker run lab/toolset /helloWorld"
   ]
  },
  {
   "cell_type": "code",
   "execution_count": 101,
   "metadata": {
    "collapsed": false
   },
   "outputs": [
    {
     "name": "stdout",
     "output_type": "stream",
     "text": [
      "Hello world from Go !!\r\n"
     ]
    }
   ],
   "source": [
    "docker run lab/toolset /helloWorldGo"
   ]
  },
  {
   "cell_type": "markdown",
   "metadata": {
    "collapsed": false
   },
   "source": [
    "We have seen how we can combine several executables in an image, and we can imagine creating a toolset container in this way (with some more useful executable tools!)"
   ]
  },
  {
   "cell_type": "markdown",
   "metadata": {
    "collapsed": true
   },
   "source": [
    "<a name=\"small-push\"/>\n",
    "## Pushing our image to Docker Hub\n",
    "[TOP](#TOP)\n",
    "\n",
    "**Note:** If you have your own account on Docker Hub you may wish to use that for this exercise.\n",
    "\n",
    "**Otherwise** we will all be using the same account **'dockerlabs'** so you will need to specify a tag which\n",
    "distinguishes your images from your neighbours.\n",
    "\n",
    "\n",
    "<font size=+1 color=\"#77f\">\n",
    "<b>The goal of this step is to demonstrate how we may push an image which we have built to the Docker Hub.</b>\n",
    "</font>\n",
    "\n",
    "First we will retag our local image to be unique.\n",
    "If you are on <font size=+1 color=\"#d88\">podN</font>, then tag with <font size=+1 color=\"#d88\">userN</font>,\n",
    "\n",
    "e.g. if you are <font size=+1 color=\"#d88\">pod3</font>,\n",
    "\n",
    "<font size=+1 color=\"#d88\"><br/>&nbsp;&nbsp;&nbsp;&nbsp;\n",
    "docker tag lab/toolset dockerlabs/toolset:user3\n",
    "</font>\n",
    "\n",
    "Notice that we then have 2 toolset images with different tags.\n",
    "\n",
    "They are otherwise identical (but they could be different) and have the same \"IMAGE ID\"."
   ]
  },
  {
   "cell_type": "code",
   "execution_count": 33,
   "metadata": {
    "collapsed": false
   },
   "outputs": [
    {
     "name": "stdout",
     "output_type": "stream",
     "text": [
      "REPOSITORY           TAG                 IMAGE ID            CREATED             SIZE\r\n",
      "dockerlabs/toolset   userN               eb7cbf013c9a        5 minutes ago       848.9 kB\r\n",
      "lab/toolset          latest              eb7cbf013c9a        5 minutes ago       848.9 kB\r\n"
     ]
    }
   ],
   "source": [
    "docker tag lab/toolset:latest dockerlabs/toolset:userN\n",
    "docker images */toolset"
   ]
  },
  {
   "cell_type": "markdown",
   "metadata": {},
   "source": [
    "First we must login to the Docker Hub"
   ]
  },
  {
   "cell_type": "code",
   "execution_count": 34,
   "metadata": {
    "collapsed": false
   },
   "outputs": [
    {
     "name": "stdout",
     "output_type": "stream",
     "text": [
      "WARNING: login credentials saved in /root/.docker/config.json\r\n",
      "Login Succeeded\r\n"
     ]
    }
   ],
   "source": [
    "docker login -u dockerlabs -p dockerlabs -e dockerlabs@mjbright.net"
   ]
  },
  {
   "cell_type": "markdown",
   "metadata": {},
   "source": [
    "Now we may push our image to the public Docker Hub"
   ]
  },
  {
   "cell_type": "code",
   "execution_count": 35,
   "metadata": {
    "collapsed": false
   },
   "outputs": [
    {
     "name": "stdout",
     "output_type": "stream",
     "text": [
      "The push refers to a repository [docker.io/dockerlabs/toolset]\r\n",
      "\r\n",
      "\u001b[0A\u001b[2K\r",
      "72482fe59c12: Preparing \r",
      "\u001b[0B\r\n",
      "\u001b[0A\u001b[2K\r",
      "5f70bf18a086: Preparing \r",
      "\u001b[0B\r\n",
      "\u001b[0A\u001b[2K\r",
      "b652ec3a27e7: Preparing \r",
      "\u001b[0B\u001b[3A\u001b[2K\r",
      "72482fe59c12: Pushing 66.05 kB/848 kB\r",
      "\u001b[3B\u001b[3A\u001b[2K\r",
      "72482fe59c12: Pushing 98.82 kB/848 kB\r",
      "\u001b[3B\u001b[3A\u001b[2K\r",
      "72482fe59c12: Pushing 131.6 kB/848 kB\r",
      "\u001b[3B\u001b[3A\u001b[2K\r",
      "72482fe59c12: Pushing 164.4 kB/848 kB\r",
      "\u001b[3B\u001b[3A\u001b[2K\r",
      "72482fe59c12: Pushing 197.1 kB/848 kB\r",
      "\u001b[3B\u001b[3A\u001b[2K\r",
      "72482fe59c12: Pushing 229.9 kB/848 kB\r",
      "\u001b[3B\u001b[3A\u001b[2K\r",
      "72482fe59c12: Pushing 262.7 kB/848 kB\r",
      "\u001b[3B\u001b[3A\u001b[2K\r",
      "72482fe59c12: Pushing 295.4 kB/848 kB\r",
      "\u001b[3B\u001b[3A\u001b[2K\r",
      "72482fe59c12: Pushing 328.2 kB/848 kB\r",
      "\u001b[3B\u001b[3A\u001b[2K\r",
      "72482fe59c12: Pushing   361 kB/848 kB\r",
      "\u001b[3B\u001b[3A\u001b[2K\r",
      "72482fe59c12: Pushing 393.7 kB/848 kB\r",
      "\u001b[3B\u001b[3A\u001b[2K\r",
      "72482fe59c12: Pushing 426.5 kB/848 kB\r",
      "\u001b[3B\u001b[3A\u001b[2K\r",
      "72482fe59c12: Pushing 459.3 kB/848 kB\r",
      "\u001b[3B\u001b[3A\u001b[2K\r",
      "72482fe59c12: Pushing   492 kB/848 kB\r",
      "\u001b[3B\u001b[3A\u001b[2K\r",
      "72482fe59c12: Pushing 524.8 kB/848 kB\r",
      "\u001b[3B\u001b[3A\u001b[2K\r",
      "72482fe59c12: Pushing 557.6 kB/848 kB\r",
      "\u001b[3B\u001b[3A\u001b[2K\r",
      "72482fe59c12: Pushing 590.3 kB/848 kB\r",
      "\u001b[3B\u001b[3A\u001b[2K\r",
      "72482fe59c12: Pushing 623.1 kB/848 kB\r",
      "\u001b[3B\u001b[3A\u001b[2K\r",
      "72482fe59c12: Pushing 655.9 kB/848 kB\r",
      "\u001b[3B\u001b[3A\u001b[2K\r",
      "72482fe59c12: Pushing 688.6 kB/848 kB\r",
      "\u001b[3B\u001b[3A\u001b[2K\r",
      "72482fe59c12: Pushing 721.4 kB/848 kB\r",
      "\u001b[3B\u001b[3A\u001b[2K\r",
      "72482fe59c12: Pushing 754.2 kB/848 kB\r",
      "\u001b[3B\u001b[3A\u001b[2K\r",
      "72482fe59c12: Pushing 786.9 kB/848 kB\r",
      "\u001b[3B\u001b[3A\u001b[2K\r",
      "72482fe59c12: Pushing 819.7 kB/848 kB\r",
      "\u001b[3B\u001b[3A\u001b[2K\r",
      "72482fe59c12: Pushing 848.5 kB\r",
      "\u001b[3B\u001b[3A\u001b[2K\r",
      "72482fe59c12: Pushing 849.9 kB\r",
      "\u001b[3B\u001b[1A\u001b[2K\r",
      "b652ec3a27e7: Layer already exists \r",
      "\u001b[1B\u001b[1A\u001b[2K\r",
      "b652ec3a27e7: Layer already exists \r",
      "\u001b[1B\u001b[2A\u001b[2K\r",
      "5f70bf18a086: Layer already exists \r",
      "\u001b[2B\u001b[2A\u001b[2K\r",
      "5f70bf18a086: Layer already exists \r",
      "\u001b[2B\u001b[3A\u001b[2K\r",
      "72482fe59c12: Pushed \r",
      "\u001b[3B\u001b[3A\u001b[2K\r",
      "72482fe59c12: Pushed \r",
      "\u001b[3BuserN: digest: sha256:8a2e3f3fae154e60e95adbbe95d4e67ada66c64adfbdbde4f5e56e8a56ac8a41 size: 3658\r\n"
     ]
    }
   ],
   "source": [
    "docker push dockerlabs/toolset:userN"
   ]
  },
  {
   "cell_type": "markdown",
   "metadata": {},
   "source": [
    "**NOTE:** The docker search command is not very useful.\n",
    "\n",
    "and the below command doesn't show us the tags ... and so we don't know if the below image is tagged user1, user2, ..."
   ]
  },
  {
   "cell_type": "code",
   "execution_count": 102,
   "metadata": {
    "collapsed": false
   },
   "outputs": [
    {
     "name": "stdout",
     "output_type": "stream",
     "text": [
      "NAME                 DESCRIPTION   STARS     OFFICIAL   AUTOMATED\r\n",
      "dockerlabs/toolset                 0                    \r\n"
     ]
    }
   ],
   "source": [
    "docker search dockerlabs/"
   ]
  },
  {
   "cell_type": "markdown",
   "metadata": {},
   "source": [
    "### Logging on to DockerHub to see your tagged image there\n",
    "\n",
    "So for this step, log onto DockerHub\n",
    "    https://hub.docker.com/"
   ]
  },
  {
   "cell_type": "code",
   "execution_count": 1,
   "metadata": {
    "collapsed": false
   },
   "outputs": [
    {
     "name": "stdout",
     "output_type": "stream",
     "text": []
    },
    {
     "data": {
      "image/jpeg": "[encoded data removed]"
     },
     "metadata": {},
     "output_type": "display_data"
    }
   ],
   "source": [
    "# Ignore this line: it is just to display the image below\n",
    "\n",
    "curl -s 'http://image.slidesharecdn.com/dockerdemystifiedforsbjug-150918181554-lva1-app6892/95/docker-demystified-for-sb-jug-34-638.jpg' | display"
   ]
  },
  {
   "cell_type": "markdown",
   "metadata": {},
   "source": [
    "As dockerlabs (dockerlabs AT mjbright.net) with the appropriate password (ask your instructor)\n",
    "\n",
    "Once logged you should see the dockerlabs/toolset listed, otherwise you can search for it.\n",
    "\n",
    "Click on the [dockerlabs/toolset](https://hub.docker.com/r/dockerlabs/toolset/) link, then on the [Tags](https://hub.docker.com/r/dockerlabs/toolset/tags/) link and you should now see your tagged image there."
   ]
  },
  {
   "cell_type": "markdown",
   "metadata": {},
   "source": [
    "#### Remove any running *'dockerlabs/toolset'* containers\n",
    "\n",
    "We do this step to make sure we can easily delete your local dockerlabs/toolset:userN image.\n",
    "\n",
    "These steps could be done by hand through use of 'docker ps' and 'docker ps -a' and picking containers ids corresponding to 'dockerlabs/toolset' containers to use with 'docker stop' and 'docker rm' commands.\n",
    "\n",
    "The below expressions do this automatically for us."
   ]
  },
  {
   "cell_type": "code",
   "execution_count": 122,
   "metadata": {
    "collapsed": false
   },
   "outputs": [
    {
     "name": "stdout",
     "output_type": "stream",
     "text": [
      "\r\n",
      "Currently running or stopped 'dockerlabs/toolset' containers\r\n",
      "CONTAINER ID        IMAGE               COMMAND             CREATED             STATUS              PORTS               NAMES\r\n",
      "\r\n",
      "Stopping any running 'dockerlabs/toolset' containers (so we can remove dockerlabs/ image)\r\n",
      "\r\n",
      "Removing any stopped 'dockerlabs/toolset' containers (so we can remove dockerlabs/ image)\r\n",
      "\r\n",
      "There should be no more 'dockerlabs/toolset' containers present:\r\n",
      "CONTAINER ID        IMAGE               COMMAND             CREATED             STATUS              PORTS               NAMES\r\n"
     ]
    }
   ],
   "source": [
    "IMAGE_NAME=dockerlabs/toolset\n",
    "\n",
    "echo; echo \"Currently running or stopped '$IMAGE_NAME' containers\"\n",
    "docker ps -a --filter=ancestor=$IMAGE_NAME\n",
    "\n",
    "echo; echo \"Stopping any running '$IMAGE_NAME' containers (so we can remove dockerlabs/ image)\"\n",
    "docker stop $(docker ps --filter=ancestor=$IMAGE_NAME) 2>/dev/null\n",
    "\n",
    "echo; echo \"Removing any stopped '$IMAGE_NAME' containers (so we can remove dockerlabs/ image)\"\n",
    "docker rm $(docker ps -a --filter=ancestor=$IMAGE_NAME) 2>/dev/null\n",
    "\n",
    "echo; echo \"There should be no more '$IMAGE_NAME' containers present:\"\n",
    "docker ps -a --filter=ancestor=$IMAGE_NAME"
   ]
  },
  {
   "cell_type": "code",
   "execution_count": 123,
   "metadata": {
    "collapsed": false
   },
   "outputs": [
    {
     "name": "stdout",
     "output_type": "stream",
     "text": [
      "REPOSITORY           TAG                 IMAGE ID            CREATED             SIZE\r\n",
      "dockerlabs/toolset   userN               8f1514534590        33 hours ago        878.1 kB\r\n"
     ]
    }
   ],
   "source": [
    "docker images dockerlabs/*"
   ]
  },
  {
   "cell_type": "code",
   "execution_count": 124,
   "metadata": {
    "collapsed": false
   },
   "outputs": [
    {
     "name": "stdout",
     "output_type": "stream",
     "text": [
      "Untagged: dockerlabs/toolset:userN\r\n",
      "Deleted: sha256:8f1514534590d210e849563568d477b2ec1571dfedcf1ccb0a7e36cc9c141ac2\r\n"
     ]
    }
   ],
   "source": [
    "docker rmi dockerlabs/toolset:userN"
   ]
  },
  {
   "cell_type": "code",
   "execution_count": 125,
   "metadata": {
    "collapsed": false
   },
   "outputs": [
    {
     "name": "stdout",
     "output_type": "stream",
     "text": [
      "REPOSITORY          TAG                 IMAGE ID            CREATED             SIZE\r\n"
     ]
    }
   ],
   "source": [
    "docker images dockerlabs/*"
   ]
  },
  {
   "cell_type": "code",
   "execution_count": 126,
   "metadata": {
    "collapsed": false
   },
   "outputs": [
    {
     "name": "stdout",
     "output_type": "stream",
     "text": [
      "Unable to find image 'dockerlabs/toolset:userN' locally\r\n",
      "userN: Pulling from dockerlabs/toolset\r\n",
      "\u001b[0B\r\n",
      "\u001b[0A\u001b[2K\r",
      "03f4658f8b78: Already exists \r",
      "\u001b[0B\r\n",
      "\u001b[0A\u001b[2K\r",
      "a3ed95caeb02: Already exists \r",
      "\u001b[0B\r\n",
      "\u001b[0A\u001b[2K\r",
      "81516d127a39: Pulling fs layer \r",
      "\u001b[0B\u001b[1A\u001b[2K\r",
      "81516d127a39: Downloading 16.38 kB/346.6 kB\r",
      "\u001b[1B\u001b[1A\u001b[2K\r",
      "81516d127a39: Downloading 32.77 kB/346.6 kB\r",
      "\u001b[1B\u001b[1A\u001b[2K\r",
      "81516d127a39: Downloading 50.77 kB/346.6 kB\r",
      "\u001b[1B\u001b[1A\u001b[2K\r",
      "81516d127a39: Downloading 59.01 kB/346.6 kB\r",
      "\u001b[1B\u001b[1A\u001b[2K\r",
      "81516d127a39: Downloading 69.21 kB/346.6 kB\r",
      "\u001b[1B\u001b[1A\u001b[2K\r",
      "81516d127a39: Downloading 85.59 kB/346.6 kB\r",
      "\u001b[1B\u001b[1A\u001b[2K\r",
      "81516d127a39: Downloading   103 kB/346.6 kB\r",
      "\u001b[1B\u001b[1A\u001b[2K\r",
      "81516d127a39: Downloading 108.3 kB/346.6 kB\r",
      "\u001b[1B\u001b[1A\u001b[2K\r",
      "81516d127a39: Downloading 121.4 kB/346.6 kB\r",
      "\u001b[1B\u001b[1A\u001b[2K\r",
      "81516d127a39: Downloading 138.8 kB/346.6 kB\r",
      "\u001b[1B\u001b[1A\u001b[2K\r",
      "81516d127a39: Downloading 156.2 kB/346.6 kB\r",
      "\u001b[1B\u001b[1A\u001b[2K\r",
      "81516d127a39: Downloading 172.6 kB/346.6 kB\r",
      "\u001b[1B\u001b[1A\u001b[2K\r",
      "81516d127a39: Downloading   190 kB/346.6 kB\r",
      "\u001b[1B\u001b[1A\u001b[2K\r",
      "81516d127a39: Downloading 208.5 kB/346.6 kB\r",
      "\u001b[1B\u001b[1A\u001b[2K\r",
      "81516d127a39: Downloading 225.9 kB/346.6 kB\r",
      "\u001b[1B\u001b[1A\u001b[2K\r",
      "81516d127a39: Downloading 243.3 kB/346.6 kB\r",
      "\u001b[1B\u001b[1A\u001b[2K\r",
      "81516d127a39: Downloading 259.7 kB/346.6 kB\r",
      "\u001b[1B\u001b[1A\u001b[2K\r",
      "81516d127a39: Downloading 263.6 kB/346.6 kB\r",
      "\u001b[1B\u001b[1A\u001b[2K\r",
      "81516d127a39: Downloading 275.2 kB/346.6 kB\r",
      "\u001b[1B\u001b[1A\u001b[2K\r",
      "81516d127a39: Downloading   281 kB/346.6 kB\r",
      "\u001b[1B\u001b[1A\u001b[2K\r",
      "81516d127a39: Downloading 297.4 kB/346.6 kB\r",
      "\u001b[1B\u001b[1A\u001b[2K\r",
      "81516d127a39: Downloading 312.9 kB/346.6 kB\r",
      "\u001b[1B\u001b[1A\u001b[2K\r",
      "81516d127a39: Downloading 329.3 kB/346.6 kB\r",
      "\u001b[1B\u001b[1A\u001b[2K\r",
      "81516d127a39: Downloading 345.7 kB/346.6 kB\r",
      "\u001b[1B\u001b[1A\u001b[2K\r",
      "81516d127a39: Verifying Checksum \r",
      "\u001b[1B\u001b[1A\u001b[2K\r",
      "81516d127a39: Download complete \r",
      "\u001b[1B\u001b[1A\u001b[2K\r",
      "81516d127a39: Extracting 32.77 kB/346.6 kB\r",
      "\u001b[1B\u001b[1A\u001b[2K\r",
      "81516d127a39: Extracting 65.54 kB/346.6 kB\r",
      "\u001b[1B\u001b[1A\u001b[2K\r",
      "81516d127a39: Extracting  98.3 kB/346.6 kB\r",
      "\u001b[1B\u001b[1A\u001b[2K\r",
      "81516d127a39: Extracting 131.1 kB/346.6 kB\r",
      "\u001b[1B\u001b[1A\u001b[2K\r",
      "81516d127a39: Extracting 196.6 kB/346.6 kB\r",
      "\u001b[1B\u001b[1A\u001b[2K\r",
      "81516d127a39: Extracting 229.4 kB/346.6 kB\r",
      "\u001b[1B\u001b[1A\u001b[2K\r",
      "81516d127a39: Extracting 294.9 kB/346.6 kB\r",
      "\u001b[1B\u001b[1A\u001b[2K\r",
      "81516d127a39: Extracting 346.6 kB/346.6 kB\r",
      "\u001b[1B\u001b[1A\u001b[2K\r",
      "81516d127a39: Extracting 346.6 kB/346.6 kB\r",
      "\u001b[1B\u001b[1A\u001b[2K\r",
      "81516d127a39: Pull complete \r",
      "\u001b[1B\u001b[1A\u001b[2K\r",
      "81516d127a39: Pull complete \r",
      "\u001b[1BDigest: sha256:8a2e3f3fae154e60e95adbbe95d4e67ada66c64adfbdbde4f5e56e8a56ac8a41\r\n",
      "Status: Downloaded newer image for dockerlabs/toolset:userN\r\n",
      "Hello World!!\r\n"
     ]
    }
   ],
   "source": [
    "docker run dockerlabs/toolset:userN"
   ]
  },
  {
   "cell_type": "code",
   "execution_count": 127,
   "metadata": {
    "collapsed": false
   },
   "outputs": [
    {
     "name": "stdout",
     "output_type": "stream",
     "text": [
      "REPOSITORY           TAG                 IMAGE ID            CREATED             SIZE\r\n",
      "dockerlabs/toolset   userN               a4d24d8a628e        20 hours ago        848.9 kB\r\n"
     ]
    }
   ],
   "source": [
    "docker images dockerlabs/*"
   ]
  },
  {
   "cell_type": "code",
   "execution_count": 128,
   "metadata": {
    "collapsed": false
   },
   "outputs": [
    {
     "name": "stdout",
     "output_type": "stream",
     "text": [
      "Hello World!!\r\n"
     ]
    }
   ],
   "source": [
    "docker run dockerlabs/toolset:userN /helloWorld.exe"
   ]
  },
  {
   "cell_type": "code",
   "execution_count": 71,
   "metadata": {
    "collapsed": false
   },
   "outputs": [
    {
     "name": "stdout",
     "output_type": "stream",
     "text": [
      "\r\n",
      "Hello from Docker.\r\n",
      "This message shows that your installation appears to be working correctly.\r\n",
      "\r\n",
      "To generate this message, Docker took the following steps:\r\n",
      " 1. The Docker client contacted the Docker daemon.\r\n",
      " 2. The Docker daemon pulled the \"hello-world\" image from the Docker Hub.\r\n",
      " 3. The Docker daemon created a new container from that image which runs the\r\n",
      "    executable that produces the output you are currently reading.\r\n",
      " 4. The Docker daemon streamed that output to the Docker client, which sent it\r\n",
      "    to your terminal.\r\n",
      "\r\n",
      "To try something more ambitious, you can run an Ubuntu container with:\r\n",
      " $ docker run -it ubuntu bash\r\n",
      "\r\n",
      "Share images, automate workflows, and more with a free Docker Hub account:\r\n",
      " https://hub.docker.com\r\n",
      "\r\n",
      "For more examples and ideas, visit:\r\n",
      " https://docs.docker.com/userguide/\r\n",
      "\r\n"
     ]
    }
   ],
   "source": [
    "docker run dockerlabs/toolset:userN /hello"
   ]
  },
  {
   "cell_type": "markdown",
   "metadata": {},
   "source": [
    "<a name=\"build-best-practices\"/>\n",
    "## Dockerfile best practices\n",
    "[TOP](#TOP)\n",
    "\n",
    "<font size=+1 color=\"#77f\">\n",
    "<b>The goal of this step is to demonstrate certain Dockerfile optimizations.</b>\n",
    "</font>\n",
    "\n",
    "- group related commands together using '&&' to reduce image layers\n",
    "- if temporary files are to be removed\n"
   ]
  },
  {
   "cell_type": "code",
   "execution_count": 72,
   "metadata": {
    "collapsed": false
   },
   "outputs": [
    {
     "name": "stdout",
     "output_type": "stream",
     "text": [
      "\r\n",
      "FROM ubuntu\r\n",
      "\r\n",
      "MAINTAINER \"Docker Labs\" <dockerlabs@mjbright.net>\r\n",
      "\r\n",
      "#\r\n",
      "# Instead of perofmring the followinf commands individually which\r\n",
      "# involves creating a separate image layer for each RUN command:\r\n",
      "#   RUN apt-get update\r\n",
      "#   RUN apt-get -y -q upgrade\r\n",
      "#   RUN rm -rf /var/lib/apt/lists/*\r\n",
      "\r\n",
      "# Here we combine the update, upgrade and cleanup steps into one command\r\n",
      "# - This produces less image layers (better for disk space and performance)\r\n",
      "# - This keeps image smaller by removing temporary files in the same layer\r\n",
      "#     If we performed update/upgrade and then rm as a separate step there would\r\n",
      "#     be an intermediate layer including those files, making the overall image larger.\r\n",
      "#\r\n",
      "\r\n",
      "RUN apt-get update && apt-get -y -q upgrade && rm -rf /var/lib/apt/lists/*\r\n",
      "\r\n"
     ]
    }
   ],
   "source": [
    "cd ~/src/build-best-practices\n",
    "cat Dockerfile"
   ]
  },
  {
   "cell_type": "code",
   "execution_count": null,
   "metadata": {
    "collapsed": true
   },
   "outputs": [],
   "source": []
  },
  {
   "cell_type": "code",
   "execution_count": null,
   "metadata": {
    "collapsed": true
   },
   "outputs": [],
   "source": []
  },
  {
   "cell_type": "markdown",
   "metadata": {},
   "source": [
    "<a name=\"lang-stacks\" />\n",
    "## Using the official 'Language Stack' images\n",
    "[TOP](#TOP)\n",
    "\n",
    "<a name=\"medium-node\" />\n",
    "## Creating a Node.js application from the Node.js 'LanguageStack' Docker image\n",
    "[TOP](#TOP)\n",
    "\n",
    "Docker provide a set of *'Language Stacks'* which are medium sized images representing the necessary dependencies for a particular language.\n",
    "\n",
    "<font size=+1 color=\"#77f\">\n",
    "<b>The goal of this step is to demonstrate the use of Docker-provided *Language Stacks*.</b>\n",
    "</font>\n",
    "\n",
    "On the [Docker Hub](https://hub.docker.com/) we can find language stacks available for a variety of languages/environments, each with different release versions (Python 2.x and Python 3.x for example):\n",
    "- [Node.js (Javascript)](https://hub.docker.com/_/node/)\n",
    "- [Python](https://hub.docker.com/_/python/)\n",
    "- [Ruby](https://hub.docker.com/_/ruby/)\n",
    "\n",
    "You can browse the complete list of *'Official Images*' on the Docker Hub [here](https://hub.docker.com/explore/)\n",
    "\n",
    "Now let's look at an example of Node.js.\n",
    "To run a Node.js application this time we will need\n",
    "\n"
   ]
  },
  {
   "cell_type": "code",
   "execution_count": 73,
   "metadata": {
    "collapsed": false
   },
   "outputs": [
    {
     "name": "stdout",
     "output_type": "stream",
     "text": [
      "Using default tag: latest\r\n",
      "latest: Pulling from library/node\r\n",
      "\u001b[0B\r\n",
      "\u001b[0A\u001b[2K\r",
      "03e1855d4f31: Already exists \r",
      "\u001b[0B\r\n",
      "\u001b[0A\u001b[2K\r",
      "a3ed95caeb02: Already exists \r",
      "\u001b[0B\r\n",
      "\u001b[0A\u001b[2K\r",
      "9269ba3950bb: Already exists \r",
      "\u001b[0B\r\n",
      "\u001b[0A\u001b[2K\r",
      "6ecee6444751: Already exists \r",
      "\u001b[0B\r\n",
      "\u001b[0A\u001b[2K\r",
      "7a0c192d4d25: Already exists \r",
      "\u001b[0B\r\n",
      "\u001b[0A\u001b[2K\r",
      "9e9f27c61394: Already exists \r",
      "\u001b[0B\u001b[5A\u001b[2K\r",
      "a3ed95caeb02: Already exists \r",
      "\u001b[5B\u001b[5A\u001b[2K\r",
      "a3ed95caeb02: Already exists \r",
      "\u001b[5B\r\n",
      "\u001b[0A\u001b[2K\r",
      "bb0313a49384: Already exists \r",
      "\u001b[0B\u001b[6A\u001b[2K\r",
      "a3ed95caeb02: Already exists \r",
      "\u001b[6BDigest: sha256:1bdda7cdd0a8f9c44ac6f51c77de9f42ed3f62efdf557dba6bcca675084de1bd\r\n",
      "Status: Image is up to date for node:latest\r\n",
      "\r\n",
      "real\t0m6.998s\r\n",
      "user\t0m0.034s\r\n",
      "sys\t0m0.009s\r\n"
     ]
    }
   ],
   "source": [
    "time docker pull node"
   ]
  },
  {
   "cell_type": "code",
   "execution_count": 74,
   "metadata": {
    "collapsed": false
   },
   "outputs": [
    {
     "name": "stdout",
     "output_type": "stream",
     "text": [
      "REPOSITORY          TAG                 IMAGE ID            CREATED             SIZE\r\n",
      "node                latest              baa18fdeb577        7 days ago          643 MB\r\n"
     ]
    }
   ],
   "source": [
    "docker images node"
   ]
  },
  {
   "cell_type": "code",
   "execution_count": 75,
   "metadata": {
    "collapsed": false
   },
   "outputs": [
    {
     "name": "stdout",
     "output_type": "stream",
     "text": [
      "IMAGE               CREATED             CREATED BY                                      SIZE                COMMENT\r\n",
      "baa18fdeb577        7 days ago          /bin/sh -c #(nop) CMD [\"node\"]                  0 B                 \r\n",
      "<missing>           7 days ago          /bin/sh -c curl -SLO \"https://nodejs.org/dist   36.39 MB            \r\n",
      "<missing>           7 days ago          /bin/sh -c #(nop) ENV NODE_VERSION=5.5.0        0 B                 \r\n",
      "<missing>           7 days ago          /bin/sh -c #(nop) ENV NPM_CONFIG_LOGLEVEL=inf   0 B                 \r\n",
      "<missing>           7 days ago          /bin/sh -c set -ex   && for key in     9554F0   51.75 kB            \r\n",
      "<missing>           8 days ago          /bin/sh -c apt-get update && apt-get install    314.6 MB            \r\n",
      "<missing>           8 days ago          /bin/sh -c apt-get update && apt-get install    122.6 MB            \r\n",
      "<missing>           8 days ago          /bin/sh -c apt-get update && apt-get install    44.28 MB            \r\n",
      "<missing>           8 days ago          /bin/sh -c #(nop) CMD [\"/bin/bash\"]             0 B                 \r\n",
      "<missing>           8 days ago          /bin/sh -c #(nop) ADD file:e5a3d20748c5d3dd5f   125.1 MB            \r\n"
     ]
    }
   ],
   "source": [
    "docker history node"
   ]
  },
  {
   "cell_type": "code",
   "execution_count": 76,
   "metadata": {
    "collapsed": false
   },
   "outputs": [
    {
     "name": "stdout",
     "output_type": "stream",
     "text": [
      "total 12\r\n",
      "drwxr-xr-x 2 root root  40 Feb  3 09:41 src\r\n",
      "-rw-r--r-- 1 root root 116 Feb  3 09:41 README.md\r\n",
      "-rw-r--r-- 1 root root 389 Feb  3 09:41 Dockerfile\r\n",
      "-rw-r--r-- 1 root root  78 Feb  3 09:41 build_run.sh\r\n",
      "drwxr-xr-x 9 root root 138 Feb  3 09:41 ..\r\n",
      "drwxr-xr-x 3 root root  68 Feb  3 09:41 .\r\n"
     ]
    }
   ],
   "source": [
    "cd ~/src/nodeJS/\n",
    "ls -altr"
   ]
  },
  {
   "cell_type": "code",
   "execution_count": 4,
   "metadata": {
    "collapsed": false
   },
   "outputs": [
    {
     "name": "stdout",
     "output_type": "stream",
     "text": [
      "cat Dockerfile TODO echo $?echo $? edit file echo $?!\r\n",
      "cat: Dockerfile: No such file or directory\r\n",
      "cat: TODO: No such file or directory\r\n",
      "cat: echo: No such file or directory\r\n",
      "cat: 0echo: No such file or directory\r\n",
      "cat: 0: No such file or directory\r\n",
      "cat: edit: No such file or directory\r\n",
      "cat: file: No such file or directory\r\n",
      "cat: echo: No such file or directory\r\n",
      "cat: 0!: No such file or directory\r\n"
     ]
    }
   ],
   "source": [
    "cat Dockerfile TODO !!!! edit file !!!"
   ]
  },
  {
   "cell_type": "code",
   "execution_count": 79,
   "metadata": {
    "collapsed": false
   },
   "outputs": [
    {
     "name": "stdout",
     "output_type": "stream",
     "text": [
      "Sending build context to Docker daemon 6.656 kB\r",
      "\r",
      "\r\n",
      "Step 1 : FROM node\r\n",
      " ---> baa18fdeb577\r\n",
      "Step 2 : ADD src/ /src\r\n",
      " ---> Using cache\r\n",
      " ---> ba5c0d52c61b\r\n",
      "Step 3 : WORKDIR /src\r\n",
      " ---> Using cache\r\n",
      " ---> 243412a35ad4\r\n",
      "Step 4 : RUN npm install\r\n",
      " ---> Using cache\r\n",
      " ---> 74bda417ede7\r\n",
      "Step 5 : EXPOSE 80\r\n",
      " ---> Using cache\r\n",
      " ---> 44a4c1951ddf\r\n",
      "Step 6 : CMD node index.js\r\n",
      " ---> Using cache\r\n",
      " ---> 98669ac8c83f\r\n",
      "Successfully built 98669ac8c83f\r\n"
     ]
    }
   ],
   "source": [
    "docker build -t node-hello ."
   ]
  },
  {
   "cell_type": "code",
   "execution_count": 80,
   "metadata": {
    "collapsed": false
   },
   "outputs": [
    {
     "name": "stdout",
     "output_type": "stream",
     "text": [
      "ee8819187fd94524e6477398bde6bb0dadf5cd75af8e3a51004fd8990c89b631\r\n"
     ]
    }
   ],
   "source": [
    "docker run -p 80:80 --name web -d node-hello"
   ]
  },
  {
   "cell_type": "code",
   "execution_count": 81,
   "metadata": {
    "collapsed": false
   },
   "outputs": [
    {
     "name": "stdout",
     "output_type": "stream",
     "text": [
      "<html><body>Hello from Node.js container ee8819187fd9</body></html>"
     ]
    }
   ],
   "source": [
    "curl http://localhost"
   ]
  },
  {
   "cell_type": "markdown",
   "metadata": {},
   "source": [
    "<a name=\"medium-python\"/>\n",
    "## Creating a Python application from the Python 'LanguageStack' Docker image\n",
    "[TOP](#TOP)\n",
    "\n",
    "<font size=+1 color=\"#77f\">\n",
    "<b>The goal of this step is to demonstrate the use of the Python *Language Stack*.</b>\n",
    "</font>\n",
    "\n",
    "Now let's look at a Python example.\n",
    "To run a Node.js application this time we will need\n"
   ]
  },
  {
   "cell_type": "markdown",
   "metadata": {
    "collapsed": true
   },
   "source": [
    "Let's pull and examine the official 'Docker Language Stack' image of Python\n",
    "\n",
    "Note how the earliest image layers (at the bottom of the list) have the same image ids\n",
    "as the earliest image layers of the Node;js image.\n",
    "\n",
    "So we can see that they were both created from the same base."
   ]
  },
  {
   "cell_type": "code",
   "execution_count": 82,
   "metadata": {
    "collapsed": false
   },
   "outputs": [
    {
     "name": "stdout",
     "output_type": "stream",
     "text": [
      "Using default tag: latest\r\n",
      "latest: Pulling from library/python\r\n",
      "\u001b[0B\r\n",
      "\u001b[0A\u001b[2K\r",
      "03e1855d4f31: Already exists \r",
      "\u001b[0B\r\n",
      "\u001b[0A\u001b[2K\r",
      "a3ed95caeb02: Already exists \r",
      "\u001b[0B\r\n",
      "\u001b[0A\u001b[2K\r",
      "9269ba3950bb: Already exists \r",
      "\u001b[0B\r\n",
      "\u001b[0A\u001b[2K\r",
      "6ecee6444751: Already exists \r",
      "\u001b[0B\r\n",
      "\u001b[0A\u001b[2K\r",
      "7a0c192d4d25: Already exists \r",
      "\u001b[0B\r\n",
      "\u001b[0A\u001b[2K\r",
      "5d45fb7887b4: Already exists \r",
      "\u001b[0B\u001b[5A\u001b[2K\r",
      "a3ed95caeb02: Already exists \r",
      "\u001b[5B\u001b[5A\u001b[2K\r",
      "a3ed95caeb02: Already exists \r",
      "\u001b[5B\u001b[5A\u001b[2K\r",
      "a3ed95caeb02: Already exists \r",
      "\u001b[5B\u001b[5A\u001b[2K\r",
      "a3ed95caeb02: Already exists \r",
      "\u001b[5B\r\n",
      "\u001b[0A\u001b[2K\r",
      "66777d6149f5: Already exists \r",
      "\u001b[0B\r\n",
      "\u001b[0A\u001b[2K\r",
      "999da6930e9c: Already exists \r",
      "\u001b[0B\u001b[7A\u001b[2K\r",
      "a3ed95caeb02: Already exists \r",
      "\u001b[7BDigest: sha256:4651b83dd903ce78b1c455794f63d4108d9469a6c7fe97cd07d08a77b7e72435\r\n",
      "Status: Image is up to date for python:latest\r\n",
      "\r\n",
      "real\t0m2.497s\r\n",
      "user\t0m0.030s\r\n",
      "sys\t0m0.011s\r\n"
     ]
    }
   ],
   "source": [
    "time docker pull python"
   ]
  },
  {
   "cell_type": "code",
   "execution_count": 83,
   "metadata": {
    "collapsed": false
   },
   "outputs": [
    {
     "name": "stdout",
     "output_type": "stream",
     "text": [
      "REPOSITORY          TAG                 IMAGE ID            CREATED             SIZE\r\n",
      "python              latest              93049cc049a6        7 days ago          689.1 MB\r\n"
     ]
    }
   ],
   "source": [
    "docker images python"
   ]
  },
  {
   "cell_type": "code",
   "execution_count": 85,
   "metadata": {
    "collapsed": false
   },
   "outputs": [
    {
     "name": "stdout",
     "output_type": "stream",
     "text": [
      "IMAGE               CREATED             CREATED BY                                      SIZE                COMMENT\r\n",
      "93049cc049a6        7 days ago          /bin/sh -c #(nop) CMD [\"python3\"]               0 B                 \r\n",
      "<missing>           7 days ago          /bin/sh -c cd /usr/local/bin  && ln -s easy_i   0 B                 \r\n",
      "<missing>           7 days ago          /bin/sh -c set -ex  && gpg --keyserver ha.poo   81.53 MB            \r\n",
      "<missing>           7 days ago          /bin/sh -c #(nop) ENV PYTHON_PIP_VERSION=7.1.   0 B                 \r\n",
      "<missing>           7 days ago          /bin/sh -c #(nop) ENV PYTHON_VERSION=3.5.1      0 B                 \r\n",
      "<missing>           7 days ago          /bin/sh -c #(nop) ENV GPG_KEY=97FC712E4C024BB   0 B                 \r\n",
      "<missing>           7 days ago          /bin/sh -c #(nop) ENV LANG=C.UTF-8              0 B                 \r\n",
      "<missing>           7 days ago          /bin/sh -c apt-get purge -y python.*            978.7 kB            \r\n",
      "<missing>           8 days ago          /bin/sh -c apt-get update && apt-get install    314.6 MB            \r\n",
      "<missing>           8 days ago          /bin/sh -c apt-get update && apt-get install    122.6 MB            \r\n",
      "<missing>           8 days ago          /bin/sh -c apt-get update && apt-get install    44.28 MB            \r\n",
      "<missing>           8 days ago          /bin/sh -c #(nop) CMD [\"/bin/bash\"]             0 B                 \r\n",
      "<missing>           8 days ago          /bin/sh -c #(nop) ADD file:e5a3d20748c5d3dd5f   125.1 MB            \r\n"
     ]
    }
   ],
   "source": [
    "docker history python"
   ]
  },
  {
   "cell_type": "code",
   "execution_count": 128,
   "metadata": {
    "collapsed": false
   },
   "outputs": [
    {
     "name": "stdout",
     "output_type": "stream",
     "text": [
      "Python 3.5.1\r\n"
     ]
    }
   ],
   "source": [
    "docker run python python --version"
   ]
  },
  {
   "cell_type": "code",
   "execution_count": 130,
   "metadata": {
    "collapsed": false
   },
   "outputs": [
    {
     "name": "stdout",
     "output_type": "stream",
     "text": [
      "FROM python:2.7\r\n",
      "\r\n",
      "MAINTAINER \"Docker Build Lab\" <dockerlab@mjbright.net>\r\n",
      "\r\n",
      "WORKDIR /src\r\n",
      "\r\n",
      "ADD requirements.txt /src/\r\n",
      "\r\n",
      "RUN pip install -r requirements.txt\r\n",
      "\r\n",
      "ADD . /src\r\n",
      "\r\n",
      "CMD python flask_redis_app.py\r\n",
      "\r\n"
     ]
    }
   ],
   "source": [
    "cd ~/src/python_flask\n",
    "cat Dockerfile"
   ]
  },
  {
   "cell_type": "code",
   "execution_count": 134,
   "metadata": {
    "collapsed": false
   },
   "outputs": [
    {
     "name": "stdout",
     "output_type": "stream",
     "text": [
      "Sending build context to Docker daemon 4.096 kB\r",
      "\r",
      "\r\n",
      "Step 1 : FROM python:2.7\r\n",
      "2.7: Pulling from library/python\r\n",
      "\u001b[0B\r\n",
      "\u001b[0A\u001b[2K\r",
      "03e1855d4f31: Already exists \r",
      "\u001b[0B\r\n",
      "\u001b[0A\u001b[2K\r",
      "a3ed95caeb02: Already exists \r",
      "\u001b[0B\r\n",
      "\u001b[0A\u001b[2K\r",
      "9269ba3950bb: Already exists \r",
      "\u001b[0B\r\n",
      "\u001b[0A\u001b[2K\r",
      "6ecee6444751: Already exists \r",
      "\u001b[0B\r\n",
      "\u001b[0A\u001b[2K\r",
      "7a0c192d4d25: Already exists \r",
      "\u001b[0B\r\n",
      "\u001b[0A\u001b[2K\r",
      "5d45fb7887b4: Already exists \r",
      "\u001b[0B\u001b[5A\u001b[2K\r",
      "a3ed95caeb02: Already exists \r",
      "\u001b[5B\u001b[5A\u001b[2K\r",
      "a3ed95caeb02: Already exists \r",
      "\u001b[5B\u001b[5A\u001b[2K\r",
      "a3ed95caeb02: Already exists \r",
      "\u001b[5B\u001b[5A\u001b[2K\r",
      "a3ed95caeb02: Already exists \r",
      "\u001b[5B\r\n",
      "\u001b[0A\u001b[2K\r",
      "7d4cc27b64c3: Pulling fs layer \r",
      "\u001b[0B\r\n",
      "\u001b[0A\u001b[2K\r",
      "5345aa49ef1b: Pulling fs layer \r",
      "\u001b[0B\u001b[7A\u001b[2K\r",
      "a3ed95caeb02: Pulling fs layer \r",
      "\u001b[7B\u001b[7A\u001b[2K\r",
      "a3ed95caeb02: Downloading     32 B/32 B\r",
      "\u001b[7B\u001b[7A\u001b[2K\r",
      "a3ed95caeb02: Verifying Checksum \r",
      "\u001b[7B\u001b[7A\u001b[2K\r",
      "a3ed95caeb02: Download complete \r",
      "\u001b[7B\u001b[1A\u001b[2K\r",
      "5345aa49ef1b: Downloading 33.38 kB/3.138 MB\r",
      "\u001b[1B\u001b[1A\u001b[2K\r",
      "5345aa49ef1b: Downloading 69.22 kB/3.138 MB\r",
      "\u001b[1B\u001b[1A\u001b[2K\r",
      "5345aa49ef1b: Downloading   104 kB/3.138 MB\r",
      "\u001b[1B\u001b[1A\u001b[2K\r",
      "5345aa49ef1b: Downloading 138.8 kB/3.138 MB\r",
      "\u001b[1B\u001b[1A\u001b[2K\r",
      "5345aa49ef1b: Downloading 173.1 kB/3.138 MB\r",
      "\u001b[1B\u001b[2A\u001b[2K\r",
      "7d4cc27b64c3: Downloading 208.5 kB/19.79 MB\r",
      "\u001b[2B\u001b[1A\u001b[2K\r",
      "5345aa49ef1b: Downloading 211.8 kB/3.138 MB\r",
      "\u001b[1B\u001b[1A\u001b[2K\r",
      "5345aa49ef1b: Downloading 244.6 kB/3.138 MB\r",
      "\u001b[1B\u001b[1A\u001b[2K\r",
      "5345aa49ef1b: Downloading 277.3 kB/3.138 MB\r",
      "\u001b[1B\u001b[1A\u001b[2K\r",
      "5345aa49ef1b: Downloading 311.9 kB/3.138 MB\r",
      "\u001b[1B\u001b[1A\u001b[2K\r",
      "5345aa49ef1b: Downloading 348.2 kB/3.138 MB\r",
      "\u001b[1B\u001b[1A\u001b[2K\r",
      "5345aa49ef1b: Downloading 380.9 kB/3.138 MB\r",
      "\u001b[1B\u001b[2A\u001b[2K\r",
      "7d4cc27b64c3: Downloading 416.4 kB/19.79 MB\r",
      "\u001b[2B\u001b[1A\u001b[2K\r",
      "5345aa49ef1b: Downloading 416.4 kB/3.138 MB\r",
      "\u001b[1B\u001b[1A\u001b[2K\r",
      "5345aa49ef1b: Downloading   453 kB/3.138 MB\r",
      "\u001b[1B\u001b[1A\u001b[2K\r",
      "5345aa49ef1b: Downloading 488.9 kB/3.138 MB\r",
      "\u001b[1B\u001b[1A\u001b[2K\r",
      "5345aa49ef1b: Downloading 521.6 kB/3.138 MB\r",
      "\u001b[1B\u001b[1A\u001b[2K\r",
      "5345aa49ef1b: Downloading 555.6 kB/3.138 MB\r",
      "\u001b[1B\u001b[1A\u001b[2K\r",
      "5345aa49ef1b: Downloading 591.5 kB/3.138 MB\r",
      "\u001b[1B\u001b[2A\u001b[2K\r",
      "7d4cc27b64c3: Downloading 625.2 kB/19.79 MB\r",
      "\u001b[2B\u001b[1A\u001b[2K\r",
      "5345aa49ef1b: Downloading 624.2 kB/3.138 MB\r",
      "\u001b[1B\u001b[1A\u001b[2K\r",
      "5345aa49ef1b: Downloading 660.1 kB/3.138 MB\r",
      "\u001b[1B\u001b[1A\u001b[2K\r",
      "5345aa49ef1b: Downloading 695.9 kB/3.138 MB\r",
      "\u001b[1B\u001b[1A\u001b[2K\r",
      "5345aa49ef1b: Downloading 729.7 kB/3.138 MB\r",
      "\u001b[1B\u001b[1A\u001b[2K\r",
      "5345aa49ef1b: Downloading 765.5 kB/3.138 MB\r",
      "\u001b[1B\u001b[1A\u001b[2K\r",
      "5345aa49ef1b: Downloading 800.4 kB/3.138 MB\r",
      "\u001b[1B\u001b[2A\u001b[2K\r",
      "7d4cc27b64c3: Downloading 834.1 kB/19.79 MB\r",
      "\u001b[2B\u001b[1A\u001b[2K\r",
      "5345aa49ef1b: Downloading 834.1 kB/3.138 MB\r",
      "\u001b[1B\u001b[1A\u001b[2K\r",
      "5345aa49ef1b: Downloading 877.6 kB/3.138 MB\r",
      "\u001b[1B\u001b[1A\u001b[2K\r",
      "5345aa49ef1b: Downloading 922.2 kB/3.138 MB\r",
      "\u001b[1B\u001b[1A\u001b[2K\r",
      "5345aa49ef1b: Downloading   957 kB/3.138 MB\r",
      "\u001b[1B\u001b[1A\u001b[2K\r",
      "5345aa49ef1b: Downloading 990.8 kB/3.138 MB\r",
      "\u001b[1B\u001b[1A\u001b[2K\r",
      "5345aa49ef1b: Downloading 1.024 MB/3.138 MB\r",
      "\u001b[1B\u001b[1A\u001b[2K\r",
      "5345aa49ef1b: Downloading 1.059 MB/3.138 MB\r",
      "\u001b[1B\u001b[1A\u001b[2K\r",
      "5345aa49ef1b: Downloading 1.092 MB/3.138 MB\r",
      "\u001b[1B\u001b[1A\u001b[2K\r",
      "5345aa49ef1b: Downloading 1.125 MB/3.138 MB\r",
      "\u001b[1B\u001b[1A\u001b[2K\r",
      "5345aa49ef1b: Downloading 1.158 MB/3.138 MB\r",
      "\u001b[1B\u001b[1A\u001b[2K\r",
      "5345aa49ef1b: Downloading  1.19 MB/3.138 MB\r",
      "\u001b[1B\u001b[2A\u001b[2K\r",
      "7d4cc27b64c3: Downloading 1.043 MB/19.79 MB\r",
      "\u001b[2B\u001b[2A\u001b[2K\r",
      "7d4cc27b64c3: Downloading 1.244 MB/19.79 MB\r",
      "\u001b[2B\u001b[2A\u001b[2K\r",
      "7d4cc27b64c3: Downloading 1.457 MB/19.79 MB\r",
      "\u001b[2B\u001b[1A\u001b[2K\r",
      "5345aa49ef1b: Downloading 1.223 MB/3.138 MB\r",
      "\u001b[1B\u001b[1A\u001b[2K\r",
      "5345aa49ef1b: Downloading 1.256 MB/3.138 MB\r",
      "\u001b[1B\u001b[1A\u001b[2K\r",
      "5345aa49ef1b: Downloading 1.289 MB/3.138 MB\r",
      "\u001b[1B\u001b[1A\u001b[2K\r",
      "5345aa49ef1b: Downloading 1.322 MB/3.138 MB\r",
      "\u001b[1B\u001b[1A\u001b[2K\r",
      "5345aa49ef1b: Downloading 1.354 MB/3.138 MB\r",
      "\u001b[1B\u001b[1A\u001b[2K\r",
      "5345aa49ef1b: Downloading 1.387 MB/3.138 MB\r",
      "\u001b[1B\u001b[1A\u001b[2K\r",
      "5345aa49ef1b: Downloading  1.42 MB/3.138 MB\r",
      "\u001b[1B\u001b[1A\u001b[2K\r",
      "5345aa49ef1b: Downloading 1.453 MB/3.138 MB\r",
      "\u001b[1B\u001b[1A\u001b[2K\r",
      "5345aa49ef1b: Downloading 1.485 MB/3.138 MB\r",
      "\u001b[1B\u001b[1A\u001b[2K\r",
      "5345aa49ef1b: Downloading 1.518 MB/3.138 MB\r",
      "\u001b[1B\u001b[1A\u001b[2K\r",
      "5345aa49ef1b: Downloading 1.551 MB/3.138 MB\r",
      "\u001b[1B\u001b[1A\u001b[2K\r",
      "5345aa49ef1b: Downloading 1.584 MB/3.138 MB\r",
      "\u001b[1B\u001b[1A\u001b[2K\r",
      "5345aa49ef1b: Downloading 1.616 MB/3.138 MB\r",
      "\u001b[1B\u001b[1A\u001b[2K\r",
      "5345aa49ef1b: Downloading 1.649 MB/3.138 MB\r",
      "\u001b[1B\u001b[2A\u001b[2K\r",
      "7d4cc27b64c3: Downloading  1.67 MB/19.79 MB\r",
      "\u001b[2B\u001b[2A\u001b[2K\r",
      "7d4cc27b64c3: Downloading 1.883 MB/19.79 MB\r",
      "\u001b[2B\u001b[1A\u001b[2K\r",
      "5345aa49ef1b: Downloading 1.682 MB/3.138 MB\r",
      "\u001b[1B\u001b[1A\u001b[2K\r",
      "5345aa49ef1b: Downloading 1.715 MB/3.138 MB\r",
      "\u001b[1B\u001b[1A\u001b[2K\r",
      "5345aa49ef1b: Downloading 1.748 MB/3.138 MB\r",
      "\u001b[1B\u001b[1A\u001b[2K\r",
      "5345aa49ef1b: Downloading  1.78 MB/3.138 MB\r",
      "\u001b[1B\u001b[1A\u001b[2K\r",
      "5345aa49ef1b: Downloading 1.813 MB/3.138 MB\r",
      "\u001b[1B\u001b[1A\u001b[2K\r",
      "5345aa49ef1b: Downloading 1.846 MB/3.138 MB\r",
      "\u001b[1B\u001b[1A\u001b[2K\r",
      "5345aa49ef1b: Downloading 1.879 MB/3.138 MB\r",
      "\u001b[1B\u001b[1A\u001b[2K\r",
      "5345aa49ef1b: Downloading 1.911 MB/3.138 MB\r",
      "\u001b[1B\u001b[1A\u001b[2K\r",
      "5345aa49ef1b: Downloading 1.944 MB/3.138 MB\r",
      "\u001b[1B\u001b[1A\u001b[2K\r",
      "5345aa49ef1b: Downloading 1.977 MB/3.138 MB\r",
      "\u001b[1B\u001b[1A\u001b[2K\r",
      "5345aa49ef1b: Downloading  2.01 MB/3.138 MB\r",
      "\u001b[1B\u001b[1A\u001b[2K\r",
      "5345aa49ef1b: Downloading 2.042 MB/3.138 MB\r",
      "\u001b[1B\u001b[1A\u001b[2K\r",
      "5345aa49ef1b: Downloading 2.075 MB/3.138 MB\r",
      "\u001b[1B\u001b[1A\u001b[2K\r",
      "5345aa49ef1b: Downloading 2.108 MB/3.138 MB\r",
      "\u001b[1B\u001b[1A\u001b[2K\r",
      "5345aa49ef1b: Downloading 2.141 MB/3.138 MB\r",
      "\u001b[1B\u001b[1A\u001b[2K\r",
      "5345aa49ef1b: Downloading 2.174 MB/3.138 MB\r",
      "\u001b[1B\u001b[1A\u001b[2K\r",
      "5345aa49ef1b: Downloading 2.206 MB/3.138 MB\r",
      "\u001b[1B\u001b[1A\u001b[2K\r",
      "5345aa49ef1b: Downloading 2.239 MB/3.138 MB\r",
      "\u001b[1B\u001b[1A\u001b[2K\r",
      "5345aa49ef1b: Downloading 2.272 MB/3.138 MB\r",
      "\u001b[1B\u001b[1A\u001b[2K\r",
      "5345aa49ef1b: Downloading 2.305 MB/3.138 MB\r",
      "\u001b[1B\u001b[1A\u001b[2K\r",
      "5345aa49ef1b: Downloading 2.337 MB/3.138 MB\r",
      "\u001b[1B\u001b[1A\u001b[2K\r",
      "5345aa49ef1b: Downloading  2.37 MB/3.138 MB\r",
      "\u001b[1B\u001b[2A\u001b[2K\r",
      "7d4cc27b64c3: Downloading 2.096 MB/19.79 MB\r",
      "\u001b[2B\u001b[2A\u001b[2K\r",
      "7d4cc27b64c3: Downloading 2.309 MB/19.79 MB\r",
      "\u001b[2B\u001b[2A\u001b[2K\r",
      "7d4cc27b64c3: Downloading 2.522 MB/19.79 MB\r",
      "\u001b[2B\u001b[2A\u001b[2K\r",
      "7d4cc27b64c3: Downloading 2.735 MB/19.79 MB\r",
      "\u001b[2B\u001b[1A\u001b[2K\r",
      "5345aa49ef1b: Downloading 2.403 MB/3.138 MB\r",
      "\u001b[1B\u001b[2A\u001b[2K\r",
      "7d4cc27b64c3: Downloading 2.948 MB/19.79 MB\r",
      "\u001b[2B\u001b[1A\u001b[2K\r",
      "5345aa49ef1b: Downloading 2.436 MB/3.138 MB\r",
      "\u001b[1B\u001b[1A\u001b[2K\r",
      "5345aa49ef1b: Downloading 2.468 MB/3.138 MB\r",
      "\u001b[1B\u001b[1A\u001b[2K\r",
      "5345aa49ef1b: Downloading 2.501 MB/3.138 MB\r",
      "\u001b[1B\u001b[1A\u001b[2K\r",
      "5345aa49ef1b: Downloading 2.534 MB/3.138 MB\r",
      "\u001b[1B\u001b[1A\u001b[2K\r",
      "5345aa49ef1b: Downloading 2.567 MB/3.138 MB\r",
      "\u001b[1B\u001b[1A\u001b[2K\r",
      "5345aa49ef1b: Downloading   2.6 MB/3.138 MB\r",
      "\u001b[1B\u001b[1A\u001b[2K\r",
      "5345aa49ef1b: Downloading 2.632 MB/3.138 MB\r",
      "\u001b[1B\u001b[1A\u001b[2K\r",
      "5345aa49ef1b: Downloading 2.665 MB/3.138 MB\r",
      "\u001b[1B\u001b[1A\u001b[2K\r",
      "5345aa49ef1b: Downloading 2.698 MB/3.138 MB\r",
      "\u001b[1B\u001b[1A\u001b[2K\r",
      "5345aa49ef1b: Downloading 2.731 MB/3.138 MB\r",
      "\u001b[1B\u001b[1A\u001b[2K\r",
      "5345aa49ef1b: Downloading 2.763 MB/3.138 MB\r",
      "\u001b[1B\u001b[1A\u001b[2K\r",
      "5345aa49ef1b: Downloading 2.796 MB/3.138 MB\r",
      "\u001b[1B\u001b[1A\u001b[2K\r",
      "5345aa49ef1b: Downloading 2.829 MB/3.138 MB\r",
      "\u001b[1B\u001b[1A\u001b[2K\r",
      "5345aa49ef1b: Downloading 2.862 MB/3.138 MB\r",
      "\u001b[1B\u001b[1A\u001b[2K\r",
      "5345aa49ef1b: Downloading 2.894 MB/3.138 MB\r",
      "\u001b[1B\u001b[1A\u001b[2K\r",
      "5345aa49ef1b: Downloading 2.927 MB/3.138 MB\r",
      "\u001b[1B\u001b[1A\u001b[2K\r",
      "5345aa49ef1b: Downloading  2.96 MB/3.138 MB\r",
      "\u001b[1B\u001b[1A\u001b[2K\r",
      "5345aa49ef1b: Downloading 2.993 MB/3.138 MB\r",
      "\u001b[1B\u001b[1A\u001b[2K\r",
      "5345aa49ef1b: Downloading 3.026 MB/3.138 MB\r",
      "\u001b[1B\u001b[1A\u001b[2K\r",
      "5345aa49ef1b: Downloading 3.058 MB/3.138 MB\r",
      "\u001b[1B\u001b[1A\u001b[2K\r",
      "5345aa49ef1b: Downloading 3.091 MB/3.138 MB\r",
      "\u001b[1B\u001b[1A\u001b[2K\r",
      "5345aa49ef1b: Downloading 3.124 MB/3.138 MB\r",
      "\u001b[1B\u001b[1A\u001b[2K\r",
      "5345aa49ef1b: Verifying Checksum \r",
      "\u001b[1B\u001b[1A\u001b[2K\r",
      "5345aa49ef1b: Download complete \r",
      "\u001b[1B\u001b[2A\u001b[2K\r",
      "7d4cc27b64c3: Downloading 3.161 MB/19.79 MB\r",
      "\u001b[2B\u001b[2A\u001b[2K\r",
      "7d4cc27b64c3: Downloading 3.374 MB/19.79 MB\r",
      "\u001b[2B\u001b[2A\u001b[2K\r",
      "7d4cc27b64c3: Downloading 3.587 MB/19.79 MB\r",
      "\u001b[2B\u001b[2A\u001b[2K\r",
      "7d4cc27b64c3: Downloading   3.8 MB/19.79 MB\r",
      "\u001b[2B\u001b[2A\u001b[2K\r",
      "7d4cc27b64c3: Downloading 4.013 MB/19.79 MB\r",
      "\u001b[2B\u001b[2A\u001b[2K\r",
      "7d4cc27b64c3: Downloading 4.226 MB/19.79 MB\r",
      "\u001b[2B\u001b[2A\u001b[2K\r",
      "7d4cc27b64c3: Downloading 4.439 MB/19.79 MB\r",
      "\u001b[2B\u001b[2A\u001b[2K\r",
      "7d4cc27b64c3: Downloading 4.652 MB/19.79 MB\r",
      "\u001b[2B\u001b[2A\u001b[2K\r",
      "7d4cc27b64c3: Downloading 4.865 MB/19.79 MB\r",
      "\u001b[2B\u001b[2A\u001b[2K\r",
      "7d4cc27b64c3: Downloading 5.078 MB/19.79 MB\r",
      "\u001b[2B\u001b[2A\u001b[2K\r",
      "7d4cc27b64c3: Downloading 5.291 MB/19.79 MB\r",
      "\u001b[2B\u001b[2A\u001b[2K\r",
      "7d4cc27b64c3: Downloading 5.504 MB/19.79 MB\r",
      "\u001b[2B\u001b[2A\u001b[2K\r",
      "7d4cc27b64c3: Downloading 5.717 MB/19.79 MB\r",
      "\u001b[2B\u001b[2A\u001b[2K\r",
      "7d4cc27b64c3: Downloading  5.93 MB/19.79 MB\r",
      "\u001b[2B\u001b[2A\u001b[2K\r",
      "7d4cc27b64c3: Downloading 6.143 MB/19.79 MB\r",
      "\u001b[2B\u001b[2A\u001b[2K\r",
      "7d4cc27b64c3: Downloading 6.356 MB/19.79 MB\r",
      "\u001b[2B\u001b[2A\u001b[2K\r",
      "7d4cc27b64c3: Downloading 6.569 MB/19.79 MB\r",
      "\u001b[2B\u001b[2A\u001b[2K\r",
      "7d4cc27b64c3: Downloading 6.782 MB/19.79 MB\r",
      "\u001b[2B\u001b[2A\u001b[2K\r",
      "7d4cc27b64c3: Downloading 6.995 MB/19.79 MB\r",
      "\u001b[2B\u001b[2A\u001b[2K\r",
      "7d4cc27b64c3: Downloading 7.208 MB/19.79 MB\r",
      "\u001b[2B\u001b[2A\u001b[2K\r",
      "7d4cc27b64c3: Downloading 7.421 MB/19.79 MB\r",
      "\u001b[2B\u001b[2A\u001b[2K\r",
      "7d4cc27b64c3: Downloading  7.62 MB/19.79 MB\r",
      "\u001b[2B\u001b[2A\u001b[2K\r",
      "7d4cc27b64c3: Downloading 7.833 MB/19.79 MB\r",
      "\u001b[2B\u001b[2A\u001b[2K\r",
      "7d4cc27b64c3: Downloading 8.046 MB/19.79 MB\r",
      "\u001b[2B\u001b[2A\u001b[2K\r",
      "7d4cc27b64c3: Downloading 8.259 MB/19.79 MB\r",
      "\u001b[2B\u001b[2A\u001b[2K\r",
      "7d4cc27b64c3: Downloading 8.472 MB/19.79 MB\r",
      "\u001b[2B\u001b[2A\u001b[2K\r",
      "7d4cc27b64c3: Downloading 8.685 MB/19.79 MB\r",
      "\u001b[2B\u001b[2A\u001b[2K\r",
      "7d4cc27b64c3: Downloading 8.898 MB/19.79 MB\r",
      "\u001b[2B\u001b[2A\u001b[2K\r",
      "7d4cc27b64c3: Downloading 9.111 MB/19.79 MB\r",
      "\u001b[2B\u001b[2A\u001b[2K\r",
      "7d4cc27b64c3: Downloading 9.324 MB/19.79 MB\r",
      "\u001b[2B\u001b[2A\u001b[2K\r",
      "7d4cc27b64c3: Downloading 9.537 MB/19.79 MB\r",
      "\u001b[2B\u001b[2A\u001b[2K\r",
      "7d4cc27b64c3: Downloading  9.75 MB/19.79 MB\r",
      "\u001b[2B\u001b[2A\u001b[2K\r",
      "7d4cc27b64c3: Downloading 9.963 MB/19.79 MB\r",
      "\u001b[2B\u001b[2A\u001b[2K\r",
      "7d4cc27b64c3: Downloading 10.18 MB/19.79 MB\r",
      "\u001b[2B\u001b[2A\u001b[2K\r",
      "7d4cc27b64c3: Downloading 10.39 MB/19.79 MB\r",
      "\u001b[2B\u001b[2A\u001b[2K\r",
      "7d4cc27b64c3: Downloading  10.6 MB/19.79 MB\r",
      "\u001b[2B\u001b[2A\u001b[2K\r",
      "7d4cc27b64c3: Downloading 10.82 MB/19.79 MB\r",
      "\u001b[2B\u001b[2A\u001b[2K\r",
      "7d4cc27b64c3: Downloading 11.03 MB/19.79 MB\r",
      "\u001b[2B\u001b[2A\u001b[2K\r",
      "7d4cc27b64c3: Downloading 11.24 MB/19.79 MB\r",
      "\u001b[2B\u001b[2A\u001b[2K\r",
      "7d4cc27b64c3: Downloading 11.45 MB/19.79 MB\r",
      "\u001b[2B\u001b[2A\u001b[2K\r",
      "7d4cc27b64c3: Downloading 11.67 MB/19.79 MB\r",
      "\u001b[2B\u001b[2A\u001b[2K\r",
      "7d4cc27b64c3: Downloading 11.88 MB/19.79 MB\r",
      "\u001b[2B\u001b[2A\u001b[2K\r",
      "7d4cc27b64c3: Downloading 12.09 MB/19.79 MB\r",
      "\u001b[2B\u001b[2A\u001b[2K\r",
      "7d4cc27b64c3: Downloading 12.31 MB/19.79 MB\r",
      "\u001b[2B\u001b[2A\u001b[2K\r",
      "7d4cc27b64c3: Downloading 12.52 MB/19.79 MB\r",
      "\u001b[2B\u001b[2A\u001b[2K\r",
      "7d4cc27b64c3: Downloading 12.73 MB/19.79 MB\r",
      "\u001b[2B\u001b[2A\u001b[2K\r",
      "7d4cc27b64c3: Downloading 12.94 MB/19.79 MB\r",
      "\u001b[2B\u001b[2A\u001b[2K\r",
      "7d4cc27b64c3: Downloading 13.16 MB/19.79 MB\r",
      "\u001b[2B\u001b[2A\u001b[2K\r",
      "7d4cc27b64c3: Downloading 13.37 MB/19.79 MB\r",
      "\u001b[2B\u001b[2A\u001b[2K\r",
      "7d4cc27b64c3: Downloading 13.58 MB/19.79 MB\r",
      "\u001b[2B\u001b[2A\u001b[2K\r",
      "7d4cc27b64c3: Downloading  13.8 MB/19.79 MB\r",
      "\u001b[2B\u001b[2A\u001b[2K\r",
      "7d4cc27b64c3: Downloading 14.01 MB/19.79 MB\r",
      "\u001b[2B\u001b[2A\u001b[2K\r",
      "7d4cc27b64c3: Downloading 14.22 MB/19.79 MB\r",
      "\u001b[2B\u001b[2A\u001b[2K\r",
      "7d4cc27b64c3: Downloading 14.44 MB/19.79 MB\r",
      "\u001b[2B\u001b[2A\u001b[2K\r",
      "7d4cc27b64c3: Downloading 14.65 MB/19.79 MB\r",
      "\u001b[2B\u001b[2A\u001b[2K\r",
      "7d4cc27b64c3: Downloading 14.86 MB/19.79 MB\r",
      "\u001b[2B\u001b[2A\u001b[2K\r",
      "7d4cc27b64c3: Downloading 15.07 MB/19.79 MB\r",
      "\u001b[2B\u001b[2A\u001b[2K\r",
      "7d4cc27b64c3: Downloading 15.29 MB/19.79 MB\r",
      "\u001b[2B\u001b[2A\u001b[2K\r",
      "7d4cc27b64c3: Downloading  15.5 MB/19.79 MB\r",
      "\u001b[2B\u001b[2A\u001b[2K\r",
      "7d4cc27b64c3: Downloading 15.71 MB/19.79 MB\r",
      "\u001b[2B\u001b[2A\u001b[2K\r",
      "7d4cc27b64c3: Downloading 15.93 MB/19.79 MB\r",
      "\u001b[2B\u001b[2A\u001b[2K\r",
      "7d4cc27b64c3: Downloading 16.14 MB/19.79 MB\r",
      "\u001b[2B\u001b[2A\u001b[2K\r",
      "7d4cc27b64c3: Downloading 16.35 MB/19.79 MB\r",
      "\u001b[2B\u001b[2A\u001b[2K\r",
      "7d4cc27b64c3: Downloading 16.57 MB/19.79 MB\r",
      "\u001b[2B\u001b[2A\u001b[2K\r",
      "7d4cc27b64c3: Downloading 16.78 MB/19.79 MB\r",
      "\u001b[2B\u001b[2A\u001b[2K\r",
      "7d4cc27b64c3: Downloading 16.99 MB/19.79 MB\r",
      "\u001b[2B\u001b[2A\u001b[2K\r",
      "7d4cc27b64c3: Downloading  17.2 MB/19.79 MB\r",
      "\u001b[2B\u001b[2A\u001b[2K\r",
      "7d4cc27b64c3: Downloading 17.42 MB/19.79 MB\r",
      "\u001b[2B\u001b[2A\u001b[2K\r",
      "7d4cc27b64c3: Downloading 17.63 MB/19.79 MB\r",
      "\u001b[2B\u001b[2A\u001b[2K\r",
      "7d4cc27b64c3: Downloading 17.84 MB/19.79 MB\r",
      "\u001b[2B\u001b[2A\u001b[2K\r",
      "7d4cc27b64c3: Downloading 18.06 MB/19.79 MB\r",
      "\u001b[2B\u001b[2A\u001b[2K\r",
      "7d4cc27b64c3: Downloading 18.27 MB/19.79 MB\r",
      "\u001b[2B\u001b[2A\u001b[2K\r",
      "7d4cc27b64c3: Downloading 18.48 MB/19.79 MB\r",
      "\u001b[2B\u001b[2A\u001b[2K\r",
      "7d4cc27b64c3: Downloading  18.7 MB/19.79 MB\r",
      "\u001b[2B\u001b[2A\u001b[2K\r",
      "7d4cc27b64c3: Downloading 18.91 MB/19.79 MB\r",
      "\u001b[2B\u001b[2A\u001b[2K\r",
      "7d4cc27b64c3: Downloading 19.12 MB/19.79 MB\r",
      "\u001b[2B\u001b[2A\u001b[2K\r",
      "7d4cc27b64c3: Downloading 19.33 MB/19.79 MB\r",
      "\u001b[2B\u001b[2A\u001b[2K\r",
      "7d4cc27b64c3: Downloading 19.55 MB/19.79 MB\r",
      "\u001b[2B\u001b[2A\u001b[2K\r",
      "7d4cc27b64c3: Downloading 19.76 MB/19.79 MB\r",
      "\u001b[2B\u001b[2A\u001b[2K\r",
      "7d4cc27b64c3: Verifying Checksum \r",
      "\u001b[2B\u001b[2A\u001b[2K\r",
      "7d4cc27b64c3: Download complete \r",
      "\u001b[2B\u001b[2A\u001b[2K\r",
      "7d4cc27b64c3: Extracting 229.4 kB/19.79 MB\r",
      "\u001b[2B\u001b[2A\u001b[2K\r",
      "7d4cc27b64c3: Extracting 458.8 kB/19.79 MB\r",
      "\u001b[2B\u001b[2A\u001b[2K\r",
      "7d4cc27b64c3: Extracting 688.1 kB/19.79 MB\r",
      "\u001b[2B\u001b[2A\u001b[2K\r",
      "7d4cc27b64c3: Extracting 917.5 kB/19.79 MB\r",
      "\u001b[2B\u001b[2A\u001b[2K\r",
      "7d4cc27b64c3: Extracting 1.147 MB/19.79 MB\r",
      "\u001b[2B\u001b[2A\u001b[2K\r",
      "7d4cc27b64c3: Extracting 1.376 MB/19.79 MB\r",
      "\u001b[2B\u001b[2A\u001b[2K\r",
      "7d4cc27b64c3: Extracting 1.606 MB/19.79 MB\r",
      "\u001b[2B\u001b[2A\u001b[2K\r",
      "7d4cc27b64c3: Extracting 1.835 MB/19.79 MB\r",
      "\u001b[2B\u001b[2A\u001b[2K\r",
      "7d4cc27b64c3: Extracting 2.064 MB/19.79 MB\r",
      "\u001b[2B\u001b[2A\u001b[2K\r",
      "7d4cc27b64c3: Extracting 2.294 MB/19.79 MB\r",
      "\u001b[2B\u001b[2A\u001b[2K\r",
      "7d4cc27b64c3: Extracting 2.523 MB/19.79 MB\r",
      "\u001b[2B\u001b[2A\u001b[2K\r",
      "7d4cc27b64c3: Extracting 2.753 MB/19.79 MB\r",
      "\u001b[2B\u001b[2A\u001b[2K\r",
      "7d4cc27b64c3: Extracting 2.982 MB/19.79 MB\r",
      "\u001b[2B\u001b[2A\u001b[2K\r",
      "7d4cc27b64c3: Extracting 3.211 MB/19.79 MB\r",
      "\u001b[2B\u001b[2A\u001b[2K\r",
      "7d4cc27b64c3: Extracting 3.441 MB/19.79 MB\r",
      "\u001b[2B\u001b[2A\u001b[2K\r",
      "7d4cc27b64c3: Extracting  3.67 MB/19.79 MB\r",
      "\u001b[2B\u001b[2A\u001b[2K\r",
      "7d4cc27b64c3: Extracting 3.899 MB/19.79 MB\r",
      "\u001b[2B\u001b[2A\u001b[2K\r",
      "7d4cc27b64c3: Extracting 4.129 MB/19.79 MB\r",
      "\u001b[2B\u001b[2A\u001b[2K\r",
      "7d4cc27b64c3: Extracting 4.358 MB/19.79 MB\r",
      "\u001b[2B\u001b[2A\u001b[2K\r",
      "7d4cc27b64c3: Extracting 4.588 MB/19.79 MB\r",
      "\u001b[2B\u001b[2A\u001b[2K\r",
      "7d4cc27b64c3: Extracting 4.817 MB/19.79 MB\r",
      "\u001b[2B\u001b[2A\u001b[2K\r",
      "7d4cc27b64c3: Extracting 5.046 MB/19.79 MB\r",
      "\u001b[2B\u001b[2A\u001b[2K\r",
      "7d4cc27b64c3: Extracting 5.276 MB/19.79 MB\r",
      "\u001b[2B\u001b[2A\u001b[2K\r",
      "7d4cc27b64c3: Extracting 5.505 MB/19.79 MB\r",
      "\u001b[2B\u001b[2A\u001b[2K\r",
      "7d4cc27b64c3: Extracting 5.734 MB/19.79 MB\r",
      "\u001b[2B\u001b[2A\u001b[2K\r",
      "7d4cc27b64c3: Extracting 5.964 MB/19.79 MB\r",
      "\u001b[2B\u001b[2A\u001b[2K\r",
      "7d4cc27b64c3: Extracting 6.193 MB/19.79 MB\r",
      "\u001b[2B\u001b[2A\u001b[2K\r",
      "7d4cc27b64c3: Extracting 6.423 MB/19.79 MB\r",
      "\u001b[2B\u001b[2A\u001b[2K\r",
      "7d4cc27b64c3: Extracting 6.652 MB/19.79 MB\r",
      "\u001b[2B\u001b[2A\u001b[2K\r",
      "7d4cc27b64c3: Extracting 6.881 MB/19.79 MB\r",
      "\u001b[2B\u001b[2A\u001b[2K\r",
      "7d4cc27b64c3: Extracting 7.111 MB/19.79 MB\r",
      "\u001b[2B\u001b[2A\u001b[2K\r",
      "7d4cc27b64c3: Extracting  7.34 MB/19.79 MB\r",
      "\u001b[2B\u001b[2A\u001b[2K\r",
      "7d4cc27b64c3: Extracting 7.569 MB/19.79 MB\r",
      "\u001b[2B\u001b[2A\u001b[2K\r",
      "7d4cc27b64c3: Extracting 7.799 MB/19.79 MB\r",
      "\u001b[2B\u001b[2A\u001b[2K\r",
      "7d4cc27b64c3: Extracting 8.028 MB/19.79 MB\r",
      "\u001b[2B\u001b[2A\u001b[2K\r",
      "7d4cc27b64c3: Extracting 8.258 MB/19.79 MB\r",
      "\u001b[2B\u001b[2A\u001b[2K\r",
      "7d4cc27b64c3: Extracting 8.487 MB/19.79 MB\r",
      "\u001b[2B\u001b[2A\u001b[2K\r",
      "7d4cc27b64c3: Extracting 8.716 MB/19.79 MB\r",
      "\u001b[2B\u001b[2A\u001b[2K\r",
      "7d4cc27b64c3: Extracting 8.946 MB/19.79 MB\r",
      "\u001b[2B\u001b[2A\u001b[2K\r",
      "7d4cc27b64c3: Extracting 9.175 MB/19.79 MB\r",
      "\u001b[2B\u001b[2A\u001b[2K\r",
      "7d4cc27b64c3: Extracting 9.404 MB/19.79 MB\r",
      "\u001b[2B\u001b[2A\u001b[2K\r",
      "7d4cc27b64c3: Extracting 9.634 MB/19.79 MB\r",
      "\u001b[2B\u001b[2A\u001b[2K\r",
      "7d4cc27b64c3: Extracting 9.863 MB/19.79 MB\r",
      "\u001b[2B\u001b[2A\u001b[2K\r",
      "7d4cc27b64c3: Extracting 10.09 MB/19.79 MB\r",
      "\u001b[2B\u001b[2A\u001b[2K\r",
      "7d4cc27b64c3: Extracting 10.32 MB/19.79 MB\r",
      "\u001b[2B\u001b[2A\u001b[2K\r",
      "7d4cc27b64c3: Extracting 10.55 MB/19.79 MB\r",
      "\u001b[2B\u001b[2A\u001b[2K\r",
      "7d4cc27b64c3: Extracting 10.78 MB/19.79 MB\r",
      "\u001b[2B\u001b[2A\u001b[2K\r",
      "7d4cc27b64c3: Extracting 11.01 MB/19.79 MB\r",
      "\u001b[2B\u001b[2A\u001b[2K\r",
      "7d4cc27b64c3: Extracting 11.24 MB/19.79 MB\r",
      "\u001b[2B\u001b[2A\u001b[2K\r",
      "7d4cc27b64c3: Extracting 11.47 MB/19.79 MB\r",
      "\u001b[2B\u001b[2A\u001b[2K\r",
      "7d4cc27b64c3: Extracting  11.7 MB/19.79 MB\r",
      "\u001b[2B\u001b[2A\u001b[2K\r",
      "7d4cc27b64c3: Extracting 11.93 MB/19.79 MB\r",
      "\u001b[2B\u001b[2A\u001b[2K\r",
      "7d4cc27b64c3: Extracting 12.16 MB/19.79 MB\r",
      "\u001b[2B\u001b[2A\u001b[2K\r",
      "7d4cc27b64c3: Extracting 12.39 MB/19.79 MB\r",
      "\u001b[2B\u001b[2A\u001b[2K\r",
      "7d4cc27b64c3: Extracting 12.62 MB/19.79 MB\r",
      "\u001b[2B\u001b[2A\u001b[2K\r",
      "7d4cc27b64c3: Extracting 12.85 MB/19.79 MB\r",
      "\u001b[2B\u001b[2A\u001b[2K\r",
      "7d4cc27b64c3: Extracting 13.07 MB/19.79 MB\r",
      "\u001b[2B\u001b[2A\u001b[2K\r",
      "7d4cc27b64c3: Extracting  13.3 MB/19.79 MB\r",
      "\u001b[2B\u001b[2A\u001b[2K\r",
      "7d4cc27b64c3: Extracting 13.53 MB/19.79 MB\r",
      "\u001b[2B\u001b[2A\u001b[2K\r",
      "7d4cc27b64c3: Extracting 13.76 MB/19.79 MB\r",
      "\u001b[2B\u001b[2A\u001b[2K\r",
      "7d4cc27b64c3: Extracting 13.99 MB/19.79 MB\r",
      "\u001b[2B\u001b[2A\u001b[2K\r",
      "7d4cc27b64c3: Extracting 14.22 MB/19.79 MB\r",
      "\u001b[2B\u001b[2A\u001b[2K\r",
      "7d4cc27b64c3: Extracting 14.45 MB/19.79 MB\r",
      "\u001b[2B\u001b[2A\u001b[2K\r",
      "7d4cc27b64c3: Extracting 14.68 MB/19.79 MB\r",
      "\u001b[2B\u001b[2A\u001b[2K\r",
      "7d4cc27b64c3: Extracting 14.91 MB/19.79 MB\r",
      "\u001b[2B\u001b[2A\u001b[2K\r",
      "7d4cc27b64c3: Extracting 15.14 MB/19.79 MB\r",
      "\u001b[2B\u001b[2A\u001b[2K\r",
      "7d4cc27b64c3: Extracting 15.37 MB/19.79 MB\r",
      "\u001b[2B\u001b[2A\u001b[2K\r",
      "7d4cc27b64c3: Extracting  15.6 MB/19.79 MB\r",
      "\u001b[2B\u001b[2A\u001b[2K\r",
      "7d4cc27b64c3: Extracting 15.83 MB/19.79 MB\r",
      "\u001b[2B\u001b[2A\u001b[2K\r",
      "7d4cc27b64c3: Extracting 16.06 MB/19.79 MB\r",
      "\u001b[2B\u001b[2A\u001b[2K\r",
      "7d4cc27b64c3: Extracting 16.29 MB/19.79 MB\r",
      "\u001b[2B\u001b[2A\u001b[2K\r",
      "7d4cc27b64c3: Extracting 16.52 MB/19.79 MB\r",
      "\u001b[2B\u001b[2A\u001b[2K\r",
      "7d4cc27b64c3: Extracting 16.74 MB/19.79 MB\r",
      "\u001b[2B\u001b[2A\u001b[2K\r",
      "7d4cc27b64c3: Extracting 16.97 MB/19.79 MB\r",
      "\u001b[2B\u001b[2A\u001b[2K\r",
      "7d4cc27b64c3: Extracting  17.2 MB/19.79 MB\r",
      "\u001b[2B\u001b[2A\u001b[2K\r",
      "7d4cc27b64c3: Extracting 17.43 MB/19.79 MB\r",
      "\u001b[2B\u001b[2A\u001b[2K\r",
      "7d4cc27b64c3: Extracting 17.66 MB/19.79 MB\r",
      "\u001b[2B\u001b[2A\u001b[2K\r",
      "7d4cc27b64c3: Extracting 17.89 MB/19.79 MB\r",
      "\u001b[2B\u001b[2A\u001b[2K\r",
      "7d4cc27b64c3: Extracting 18.12 MB/19.79 MB\r",
      "\u001b[2B\u001b[2A\u001b[2K\r",
      "7d4cc27b64c3: Extracting 18.35 MB/19.79 MB\r",
      "\u001b[2B\u001b[2A\u001b[2K\r",
      "7d4cc27b64c3: Extracting 18.58 MB/19.79 MB\r",
      "\u001b[2B\u001b[2A\u001b[2K\r",
      "7d4cc27b64c3: Extracting 18.81 MB/19.79 MB\r",
      "\u001b[2B\u001b[2A\u001b[2K\r",
      "7d4cc27b64c3: Extracting 19.04 MB/19.79 MB\r",
      "\u001b[2B\u001b[2A\u001b[2K\r",
      "7d4cc27b64c3: Extracting 19.27 MB/19.79 MB\r",
      "\u001b[2B\u001b[2A\u001b[2K\r",
      "7d4cc27b64c3: Extracting  19.5 MB/19.79 MB\r",
      "\u001b[2B\u001b[2A\u001b[2K\r",
      "7d4cc27b64c3: Extracting 19.73 MB/19.79 MB\r",
      "\u001b[2B\u001b[2A\u001b[2K\r",
      "7d4cc27b64c3: Extracting 19.79 MB/19.79 MB\r",
      "\u001b[2B\u001b[2A\u001b[2K\r",
      "7d4cc27b64c3: Pull complete \r",
      "\u001b[2B\u001b[2A\u001b[2K\r",
      "7d4cc27b64c3: Pull complete \r",
      "\u001b[2B\u001b[1A\u001b[2K\r",
      "5345aa49ef1b: Extracting 32.77 kB/3.138 MB\r",
      "\u001b[1B\u001b[1A\u001b[2K\r",
      "5345aa49ef1b: Extracting  98.3 kB/3.138 MB\r",
      "\u001b[1B\u001b[1A\u001b[2K\r",
      "5345aa49ef1b: Extracting 131.1 kB/3.138 MB\r",
      "\u001b[1B\u001b[1A\u001b[2K\r",
      "5345aa49ef1b: Extracting 163.8 kB/3.138 MB\r",
      "\u001b[1B\u001b[1A\u001b[2K\r",
      "5345aa49ef1b: Extracting 196.6 kB/3.138 MB\r",
      "\u001b[1B\u001b[1A\u001b[2K\r",
      "5345aa49ef1b: Extracting 229.4 kB/3.138 MB\r",
      "\u001b[1B\u001b[1A\u001b[2K\r",
      "5345aa49ef1b: Extracting 262.1 kB/3.138 MB\r",
      "\u001b[1B\u001b[1A\u001b[2K\r",
      "5345aa49ef1b: Extracting 294.9 kB/3.138 MB\r",
      "\u001b[1B\u001b[1A\u001b[2K\r",
      "5345aa49ef1b: Extracting 327.7 kB/3.138 MB\r",
      "\u001b[1B\u001b[1A\u001b[2K\r",
      "5345aa49ef1b: Extracting 360.4 kB/3.138 MB\r",
      "\u001b[1B\u001b[1A\u001b[2K\r",
      "5345aa49ef1b: Extracting 393.2 kB/3.138 MB\r",
      "\u001b[1B\u001b[1A\u001b[2K\r",
      "5345aa49ef1b: Extracting   426 kB/3.138 MB\r",
      "\u001b[1B\u001b[1A\u001b[2K\r",
      "5345aa49ef1b: Extracting 458.8 kB/3.138 MB\r",
      "\u001b[1B\u001b[1A\u001b[2K\r",
      "5345aa49ef1b: Extracting 491.5 kB/3.138 MB\r",
      "\u001b[1B\u001b[1A\u001b[2K\r",
      "5345aa49ef1b: Extracting 524.3 kB/3.138 MB\r",
      "\u001b[1B\u001b[1A\u001b[2K\r",
      "5345aa49ef1b: Extracting 557.1 kB/3.138 MB\r",
      "\u001b[1B\u001b[1A\u001b[2K\r",
      "5345aa49ef1b: Extracting 589.8 kB/3.138 MB\r",
      "\u001b[1B\u001b[1A\u001b[2K\r",
      "5345aa49ef1b: Extracting 622.6 kB/3.138 MB\r",
      "\u001b[1B\u001b[1A\u001b[2K\r",
      "5345aa49ef1b: Extracting 655.4 kB/3.138 MB\r",
      "\u001b[1B\u001b[1A\u001b[2K\r",
      "5345aa49ef1b: Extracting 688.1 kB/3.138 MB\r",
      "\u001b[1B\u001b[1A\u001b[2K\r",
      "5345aa49ef1b: Extracting 720.9 kB/3.138 MB\r",
      "\u001b[1B\u001b[1A\u001b[2K\r",
      "5345aa49ef1b: Extracting 753.7 kB/3.138 MB\r",
      "\u001b[1B\u001b[1A\u001b[2K\r",
      "5345aa49ef1b: Extracting 786.4 kB/3.138 MB\r",
      "\u001b[1B\u001b[1A\u001b[2K\r",
      "5345aa49ef1b: Extracting 819.2 kB/3.138 MB\r",
      "\u001b[1B\u001b[1A\u001b[2K\r",
      "5345aa49ef1b: Extracting   852 kB/3.138 MB\r",
      "\u001b[1B\u001b[1A\u001b[2K\r",
      "5345aa49ef1b: Extracting 917.5 kB/3.138 MB\r",
      "\u001b[1B\u001b[1A\u001b[2K\r",
      "5345aa49ef1b: Extracting 950.3 kB/3.138 MB\r",
      "\u001b[1B\u001b[1A\u001b[2K\r",
      "5345aa49ef1b: Extracting   983 kB/3.138 MB\r",
      "\u001b[1B\u001b[1A\u001b[2K\r",
      "5345aa49ef1b: Extracting 1.016 MB/3.138 MB\r",
      "\u001b[1B\u001b[1A\u001b[2K\r",
      "5345aa49ef1b: Extracting 1.049 MB/3.138 MB\r",
      "\u001b[1B\u001b[1A\u001b[2K\r",
      "5345aa49ef1b: Extracting 1.081 MB/3.138 MB\r",
      "\u001b[1B\u001b[1A\u001b[2K\r",
      "5345aa49ef1b: Extracting 1.114 MB/3.138 MB\r",
      "\u001b[1B\u001b[1A\u001b[2K\r",
      "5345aa49ef1b: Extracting 1.147 MB/3.138 MB\r",
      "\u001b[1B\u001b[1A\u001b[2K\r",
      "5345aa49ef1b: Extracting  1.18 MB/3.138 MB\r",
      "\u001b[1B\u001b[1A\u001b[2K\r",
      "5345aa49ef1b: Extracting 1.212 MB/3.138 MB\r",
      "\u001b[1B\u001b[1A\u001b[2K\r",
      "5345aa49ef1b: Extracting 1.245 MB/3.138 MB\r",
      "\u001b[1B\u001b[1A\u001b[2K\r",
      "5345aa49ef1b: Extracting 1.278 MB/3.138 MB\r",
      "\u001b[1B\u001b[1A\u001b[2K\r",
      "5345aa49ef1b: Extracting 1.311 MB/3.138 MB\r",
      "\u001b[1B\u001b[1A\u001b[2K\r",
      "5345aa49ef1b: Extracting 1.343 MB/3.138 MB\r",
      "\u001b[1B\u001b[1A\u001b[2K\r",
      "5345aa49ef1b: Extracting 1.376 MB/3.138 MB\r",
      "\u001b[1B\u001b[1A\u001b[2K\r",
      "5345aa49ef1b: Extracting 1.409 MB/3.138 MB\r",
      "\u001b[1B\u001b[1A\u001b[2K\r",
      "5345aa49ef1b: Extracting 1.442 MB/3.138 MB\r",
      "\u001b[1B\u001b[1A\u001b[2K\r",
      "5345aa49ef1b: Extracting 1.475 MB/3.138 MB\r",
      "\u001b[1B\u001b[1A\u001b[2K\r",
      "5345aa49ef1b: Extracting 1.507 MB/3.138 MB\r",
      "\u001b[1B\u001b[1A\u001b[2K\r",
      "5345aa49ef1b: Extracting  1.54 MB/3.138 MB\r",
      "\u001b[1B\u001b[1A\u001b[2K\r",
      "5345aa49ef1b: Extracting 1.573 MB/3.138 MB\r",
      "\u001b[1B\u001b[1A\u001b[2K\r",
      "5345aa49ef1b: Extracting 1.606 MB/3.138 MB\r",
      "\u001b[1B\u001b[1A\u001b[2K\r",
      "5345aa49ef1b: Extracting 1.638 MB/3.138 MB\r",
      "\u001b[1B\u001b[1A\u001b[2K\r",
      "5345aa49ef1b: Extracting 1.671 MB/3.138 MB\r",
      "\u001b[1B\u001b[1A\u001b[2K\r",
      "5345aa49ef1b: Extracting 1.704 MB/3.138 MB\r",
      "\u001b[1B\u001b[1A\u001b[2K\r",
      "5345aa49ef1b: Extracting 1.737 MB/3.138 MB\r",
      "\u001b[1B\u001b[1A\u001b[2K\r",
      "5345aa49ef1b: Extracting 1.769 MB/3.138 MB\r",
      "\u001b[1B\u001b[1A\u001b[2K\r",
      "5345aa49ef1b: Extracting 1.802 MB/3.138 MB\r",
      "\u001b[1B\u001b[1A\u001b[2K\r",
      "5345aa49ef1b: Extracting 1.835 MB/3.138 MB\r",
      "\u001b[1B\u001b[1A\u001b[2K\r",
      "5345aa49ef1b: Extracting 1.868 MB/3.138 MB\r",
      "\u001b[1B\u001b[1A\u001b[2K\r",
      "5345aa49ef1b: Extracting 1.901 MB/3.138 MB\r",
      "\u001b[1B\u001b[1A\u001b[2K\r",
      "5345aa49ef1b: Extracting 1.933 MB/3.138 MB\r",
      "\u001b[1B\u001b[1A\u001b[2K\r",
      "5345aa49ef1b: Extracting 1.966 MB/3.138 MB\r",
      "\u001b[1B\u001b[1A\u001b[2K\r",
      "5345aa49ef1b: Extracting 1.999 MB/3.138 MB\r",
      "\u001b[1B\u001b[1A\u001b[2K\r",
      "5345aa49ef1b: Extracting 2.032 MB/3.138 MB\r",
      "\u001b[1B\u001b[1A\u001b[2K\r",
      "5345aa49ef1b: Extracting 2.064 MB/3.138 MB\r",
      "\u001b[1B\u001b[1A\u001b[2K\r",
      "5345aa49ef1b: Extracting 2.097 MB/3.138 MB\r",
      "\u001b[1B\u001b[1A\u001b[2K\r",
      "5345aa49ef1b: Extracting  2.13 MB/3.138 MB\r",
      "\u001b[1B\u001b[1A\u001b[2K\r",
      "5345aa49ef1b: Extracting 2.163 MB/3.138 MB\r",
      "\u001b[1B\u001b[1A\u001b[2K\r",
      "5345aa49ef1b: Extracting 2.195 MB/3.138 MB\r",
      "\u001b[1B\u001b[1A\u001b[2K\r",
      "5345aa49ef1b: Extracting 2.228 MB/3.138 MB\r",
      "\u001b[1B\u001b[1A\u001b[2K\r",
      "5345aa49ef1b: Extracting 2.261 MB/3.138 MB\r",
      "\u001b[1B\u001b[1A\u001b[2K\r",
      "5345aa49ef1b: Extracting 2.294 MB/3.138 MB\r",
      "\u001b[1B\u001b[1A\u001b[2K\r",
      "5345aa49ef1b: Extracting 2.327 MB/3.138 MB\r",
      "\u001b[1B\u001b[1A\u001b[2K\r",
      "5345aa49ef1b: Extracting 2.359 MB/3.138 MB\r",
      "\u001b[1B\u001b[1A\u001b[2K\r",
      "5345aa49ef1b: Extracting 2.392 MB/3.138 MB\r",
      "\u001b[1B\u001b[1A\u001b[2K\r",
      "5345aa49ef1b: Extracting 2.425 MB/3.138 MB\r",
      "\u001b[1B\u001b[1A\u001b[2K\r",
      "5345aa49ef1b: Extracting 2.458 MB/3.138 MB\r",
      "\u001b[1B\u001b[1A\u001b[2K\r",
      "5345aa49ef1b: Extracting  2.49 MB/3.138 MB\r",
      "\u001b[1B\u001b[1A\u001b[2K\r",
      "5345aa49ef1b: Extracting 2.523 MB/3.138 MB\r",
      "\u001b[1B\u001b[1A\u001b[2K\r",
      "5345aa49ef1b: Extracting 2.556 MB/3.138 MB\r",
      "\u001b[1B\u001b[1A\u001b[2K\r",
      "5345aa49ef1b: Extracting 2.589 MB/3.138 MB\r",
      "\u001b[1B\u001b[1A\u001b[2K\r",
      "5345aa49ef1b: Extracting 2.621 MB/3.138 MB\r",
      "\u001b[1B\u001b[1A\u001b[2K\r",
      "5345aa49ef1b: Extracting 2.654 MB/3.138 MB\r",
      "\u001b[1B\u001b[1A\u001b[2K\r",
      "5345aa49ef1b: Extracting 2.687 MB/3.138 MB\r",
      "\u001b[1B\u001b[1A\u001b[2K\r",
      "5345aa49ef1b: Extracting  2.72 MB/3.138 MB\r",
      "\u001b[1B\u001b[1A\u001b[2K\r",
      "5345aa49ef1b: Extracting 2.753 MB/3.138 MB\r",
      "\u001b[1B\u001b[1A\u001b[2K\r",
      "5345aa49ef1b: Extracting 2.785 MB/3.138 MB\r",
      "\u001b[1B\u001b[1A\u001b[2K\r",
      "5345aa49ef1b: Extracting 2.818 MB/3.138 MB\r",
      "\u001b[1B\u001b[1A\u001b[2K\r",
      "5345aa49ef1b: Extracting 2.851 MB/3.138 MB\r",
      "\u001b[1B\u001b[1A\u001b[2K\r",
      "5345aa49ef1b: Extracting 2.884 MB/3.138 MB\r",
      "\u001b[1B\u001b[1A\u001b[2K\r",
      "5345aa49ef1b: Extracting 2.916 MB/3.138 MB\r",
      "\u001b[1B\u001b[1A\u001b[2K\r",
      "5345aa49ef1b: Extracting 2.949 MB/3.138 MB\r",
      "\u001b[1B\u001b[1A\u001b[2K\r",
      "5345aa49ef1b: Extracting 2.982 MB/3.138 MB\r",
      "\u001b[1B\u001b[1A\u001b[2K\r",
      "5345aa49ef1b: Extracting 3.015 MB/3.138 MB\r",
      "\u001b[1B\u001b[1A\u001b[2K\r",
      "5345aa49ef1b: Extracting 3.047 MB/3.138 MB\r",
      "\u001b[1B\u001b[1A\u001b[2K\r",
      "5345aa49ef1b: Extracting  3.08 MB/3.138 MB\r",
      "\u001b[1B\u001b[1A\u001b[2K\r",
      "5345aa49ef1b: Extracting 3.113 MB/3.138 MB\r",
      "\u001b[1B\u001b[1A\u001b[2K\r",
      "5345aa49ef1b: Extracting 3.138 MB/3.138 MB\r",
      "\u001b[1B\u001b[1A\u001b[2K\r",
      "5345aa49ef1b: Pull complete \r",
      "\u001b[1B\u001b[1A\u001b[2K\r",
      "5345aa49ef1b: Pull complete \r",
      "\u001b[1B\u001b[7A\u001b[2K\r",
      "a3ed95caeb02: Extracting     32 B/32 B\r",
      "\u001b[7B\u001b[7A\u001b[2K\r",
      "a3ed95caeb02: Extracting     32 B/32 B\r",
      "\u001b[7B\u001b[7A\u001b[2K\r",
      "a3ed95caeb02: Pull complete \r",
      "\u001b[7B\u001b[7A\u001b[2K\r",
      "a3ed95caeb02: Pull complete \r",
      "\u001b[7BDigest: sha256:84d75f33b4ae12997a0a2d51481ed18525ee7b49a5660c3301a00dfb2db19a14\r\n",
      "Status: Downloaded newer image for python:2.7\r\n",
      " ---> 31093b2dabe2\r\n",
      "Step 2 : MAINTAINER \"Docker Build Lab\" <dockerlab@mjbright.net>\r\n",
      " ---> Running in fa6f37644a0d\r\n",
      " ---> baf5e793c7e5\r\n",
      "Removing intermediate container fa6f37644a0d\r\n",
      "Step 3 : WORKDIR /src\r\n",
      " ---> Running in b958687fa4dd\r\n",
      " ---> 27c199001060\r\n",
      "Removing intermediate container b958687fa4dd\r\n",
      "Step 4 : ADD requirements.txt /src/\r\n",
      " ---> 7ea28cc9002d\r\n",
      "Removing intermediate container 14db71be2517\r\n",
      "Step 5 : RUN pip install -r requirements.txt\r\n",
      " ---> Running in 85f835fbc058\r\n",
      "Collecting flask (from -r requirements.txt (line 1))\r\n",
      "  Downloading Flask-0.10.1.tar.gz (544kB)\r\n",
      "Collecting redis (from -r requirements.txt (line 2))\r\n",
      "  Downloading redis-2.10.5-py2.py3-none-any.whl (60kB)\r\n",
      "Collecting Werkzeug>=0.7 (from flask->-r requirements.txt (line 1))\r\n",
      "  Downloading Werkzeug-0.11.3-py2.py3-none-any.whl (305kB)\r\n",
      "Collecting Jinja2>=2.4 (from flask->-r requirements.txt (line 1))\r\n",
      "  Downloading Jinja2-2.8-py2.py3-none-any.whl (263kB)\r\n",
      "Collecting itsdangerous>=0.21 (from flask->-r requirements.txt (line 1))\r\n",
      "  Downloading itsdangerous-0.24.tar.gz (46kB)\r\n",
      "Collecting MarkupSafe (from Jinja2>=2.4->flask->-r requirements.txt (line 1))\r\n",
      "  Downloading MarkupSafe-0.23.tar.gz\r\n",
      "Building wheels for collected packages: flask, itsdangerous, MarkupSafe\r\n",
      "  Running setup.py bdist_wheel for flask\r\n",
      "  Stored in directory: /root/.cache/pip/wheels/d2/db/61/cb9b80526b8f3ba89248ec0a29d6da1bb6013681c930fca987\r\n",
      "  Running setup.py bdist_wheel for itsdangerous\r\n",
      "  Stored in directory: /root/.cache/pip/wheels/97/c0/b8/b37c320ff57e15f993ba0ac98013eee778920b4a7b3ebae3cf\r\n",
      "  Running setup.py bdist_wheel for MarkupSafe\r\n",
      "  Stored in directory: /root/.cache/pip/wheels/94/a7/79/f79a998b64c1281cb99fa9bbd33cfc9b8b5775f438218d17a7\r\n",
      "Successfully built flask itsdangerous MarkupSafe\r\n",
      "Installing collected packages: Werkzeug, MarkupSafe, Jinja2, itsdangerous, flask, redis\r\n",
      "Successfully installed Jinja2-2.8 MarkupSafe-0.23 Werkzeug-0.11.3 flask-0.10.1 itsdangerous-0.24 redis-2.10.5\r\n",
      "\u001b[91mYou are using pip version 7.1.2, however version 8.0.2 is available.\r\n",
      "You should consider upgrading via the 'pip install --upgrade pip' command.\r\n",
      "\u001b[0m ---> bb2f3c93b63a\r\n",
      "Removing intermediate container 85f835fbc058\r\n",
      "Step 6 : ADD . /src\r\n",
      " ---> 498444d5c1f9\r\n",
      "Removing intermediate container 9575ea2f7694\r\n",
      "Step 7 : CMD python flask_redis_app.py\r\n",
      " ---> Running in 4e4d093beef8\r\n",
      " ---> c261953c57b7\r\n",
      "Removing intermediate container 4e4d093beef8\r\n",
      "Successfully built c261953c57b7\r\n"
     ]
    }
   ],
   "source": [
    "docker build -t lab/python_flask .\n"
   ]
  },
  {
   "cell_type": "code",
   "execution_count": 135,
   "metadata": {
    "collapsed": false
   },
   "outputs": [
    {
     "name": "stdout",
     "output_type": "stream",
     "text": [
      "REPOSITORY          TAG                 IMAGE ID            CREATED              SIZE\r\n",
      "lab/python_flask    latest              c261953c57b7        About a minute ago   682.8 MB\r\n",
      "lab/basic           latest              30f6d0c187c3        4 hours ago          689.1 MB\r\n",
      "lab/toolset         latest              eb7cbf013c9a        4 hours ago          848.9 kB\r\n",
      "lab/go-hello        latest              d7e7f28bac89        4 hours ago          2.367 MB\r\n",
      "lab/go-web          latest              d7e7f28bac89        4 hours ago          2.367 MB\r\n",
      "lab/c_prog          latest              cc40573ce67a        4 hours ago          848 kB\r\n"
     ]
    }
   ],
   "source": [
    "docker images lab/*"
   ]
  },
  {
   "cell_type": "code",
   "execution_count": null,
   "metadata": {
    "collapsed": true
   },
   "outputs": [],
   "source": [
    "docker run lab/python_flask"
   ]
  },
  {
   "cell_type": "code",
   "execution_count": null,
   "metadata": {
    "collapsed": false
   },
   "outputs": [],
   "source": [
    "curl http://localhost:5000"
   ]
  },
  {
   "cell_type": "markdown",
   "metadata": {},
   "source": [
    "  <a name=\"Compose\" />\n",
    "#   Using Compose\n",
    "<a href=\"#TOP\">TOP</a>\n",
    "  \n",
    "#   Building complex systems with Compose\n",
    "<a href=\"#TOP\">TOP</a>"
   ]
  },
  {
   "cell_type": "code",
   "execution_count": 107,
   "metadata": {
    "collapsed": false
   },
   "outputs": [
    {
     "name": "stdout",
     "output_type": "stream",
     "text": [
      "\r\n",
      "version: 2\r\n",
      "services:\r\n",
      "  weba:\r\n",
      "    build: ../nodeJS\r\n",
      "    expose:\r\n",
      "      - 80\r\n",
      "\r\n",
      "  webb:\r\n",
      "    build: ../nodeJS\r\n",
      "    expose:\r\n",
      "      - 80\r\n",
      "\r\n",
      "  webc:\r\n",
      "    build: ../nodeJS\r\n",
      "    expose:\r\n",
      "      - 80\r\n",
      "\r\n",
      "  haproxy:\r\n",
      "    image: haproxy\r\n",
      "    volumes:\r\n",
      "     - ./haproxy:/haproxy-override\r\n",
      "    links:\r\n",
      "     - weba\r\n",
      "     - webb\r\n",
      "     - webc\r\n",
      "    ports:\r\n",
      "     - \"80:80\"\r\n",
      "     - \"70:70\"\r\n",
      "\r\n",
      "    expose:\r\n",
      "     - \"80\"\r\n",
      "     - \"70\"\r\n",
      "\r\n",
      "\r\n"
     ]
    }
   ],
   "source": [
    "cd ~/src/compose\n",
    "\n",
    "cat docker-compose.yml"
   ]
  },
  {
   "cell_type": "code",
   "execution_count": 115,
   "metadata": {
    "collapsed": false
   },
   "outputs": [
    {
     "name": "stdout",
     "output_type": "stream",
     "text": [
      "Define and run multi-container applications with Docker.\r\n",
      "\r\n",
      "Usage:\r\n",
      "  docker-compose [-f=<arg>...] [options] [COMMAND] [ARGS...]\r\n",
      "  docker-compose -h|--help\r\n",
      "\r\n",
      "Options:\r\n",
      "  -f, --file FILE           Specify an alternate compose file (default: docker-compose.yml)\r\n",
      "  -p, --project-name NAME   Specify an alternate project name (default: directory name)\r\n",
      "  --verbose                 Show more output\r\n",
      "  -v, --version             Print version and exit\r\n",
      "\r\n",
      "Commands:\r\n",
      "  build              Build or rebuild services\r\n",
      "  config             Validate and view the compose file\r\n",
      "  create             Create services\r\n",
      "  down               Stop and remove containers, networks, images, and volumes\r\n",
      "  events             Receive real time events from containers\r\n",
      "  help               Get help on a command\r\n",
      "  kill               Kill containers\r\n",
      "  logs               View output from containers\r\n",
      "  pause              Pause services\r\n",
      "  port               Print the public port for a port binding\r\n",
      "  ps                 List containers\r\n",
      "  pull               Pulls service images\r\n",
      "  restart            Restart services\r\n",
      "  rm                 Remove stopped containers\r\n",
      "  run                Run a one-off command\r\n",
      "  scale              Set number of containers for a service\r\n",
      "  start              Start services\r\n",
      "  stop               Stop services\r\n",
      "  unpause            Unpause services\r\n",
      "  up                 Create and start containers\r\n",
      "  version            Show the Docker-Compose version information\r\n"
     ]
    }
   ],
   "source": [
    "docker-compose"
   ]
  },
  {
   "cell_type": "code",
   "execution_count": 118,
   "metadata": {
    "collapsed": false
   },
   "outputs": [
    {
     "name": "stdout",
     "output_type": "stream",
     "text": []
    }
   ],
   "source": [
    "docker-compose stop"
   ]
  },
  {
   "cell_type": "code",
   "execution_count": 119,
   "metadata": {
    "collapsed": false
   },
   "outputs": [
    {
     "name": "stdout",
     "output_type": "stream",
     "text": [
      "Going to remove compose_haproxy_1, compose_weba_1, compose_webc_1, compose_webb_1\r\n",
      "Removing compose_haproxy_1 ... \r",
      "\r\n",
      "Removing compose_weba_1 ... \r",
      "\r\n",
      "Removing compose_webc_1 ... \r",
      "\r\n",
      "Removing compose_webb_1 ... \r",
      "\r\n",
      "\u001b[4A\u001b[2K\r",
      "Removing compose_haproxy_1 ... done\r",
      "\u001b[4B\u001b[3A\u001b[2K\r",
      "Removing compose_weba_1 ... done\r",
      "\u001b[3B\u001b[2A\u001b[2K\r",
      "Removing compose_webc_1 ... done\r",
      "\u001b[2B\u001b[1A\u001b[2K\r",
      "Removing compose_webb_1 ... done\r",
      "\u001b[1B"
     ]
    }
   ],
   "source": [
    "docker-compose rm -f"
   ]
  },
  {
   "cell_type": "code",
   "execution_count": 120,
   "metadata": {
    "collapsed": false
   },
   "outputs": [
    {
     "name": "stdout",
     "output_type": "stream",
     "text": [
      "Creating compose_webb_1\r\n",
      "Creating compose_webc_1\r\n",
      "Creating compose_weba_1\r\n",
      "Creating compose_haproxy_1\r\n",
      "\u001b[31mERROR\u001b[0m: failed to create endpoint compose_haproxy_1 on network compose_default: Bind for 0.0.0.0:80 failed: port is already allocated\r\n"
     ]
    }
   ],
   "source": [
    "docker-compose up -d"
   ]
  },
  {
   "cell_type": "markdown",
   "metadata": {},
   "source": [
    "```bash\n",
    "docker-compose logs\n",
    "Attaching to compose_haproxy_1, compose_weba_1, compose_webc_1, compose_webb_1\n",
    "haproxy_1 | [ALERT] 032/221525 (1) : Could not open configuration file /usr/local/etc/haproxy/haproxy.cfg : No such file or directory\n",
    "haproxy_1 | [ALERT] 032/221646 (1) : Could not open configuration file /usr/local/etc/haproxy/haproxy.cfg : No such file or directory\n",
    "weba_1    | Running on http://localhost\n",
    "webc_1    | Running on http://localhost\n",
    "webb_1    | Running on http://localhost\n",
    "```"
   ]
  },
  {
   "cell_type": "code",
   "execution_count": 121,
   "metadata": {
    "collapsed": false
   },
   "outputs": [
    {
     "name": "stdout",
     "output_type": "stream",
     "text": [
      "      Name                     Command                State     Ports  \r\n",
      "----------------------------------------------------------------------\r\n",
      "compose_haproxy_1   haproxy -f /usr/local/etc/ ...   Exit 128          \r\n",
      "compose_weba_1      node index.js                    Up         80/tcp \r\n",
      "compose_webb_1      node index.js                    Up         80/tcp \r\n",
      "compose_webc_1      node index.js                    Up         80/tcp \r\n"
     ]
    }
   ],
   "source": [
    "docker-compose ps"
   ]
  },
  {
   "cell_type": "code",
   "execution_count": 122,
   "metadata": {
    "collapsed": false
   },
   "outputs": [
    {
     "name": "stdout",
     "output_type": "stream",
     "text": [
      "Creating and starting 2 ... \r",
      "\r\n",
      "Creating and starting 3 ... \r",
      "\r\n",
      "Creating and starting 4 ... \r",
      "\r\n",
      "Creating and starting 5 ... \r",
      "\r\n",
      "\u001b[3A\u001b[2K\r",
      "Creating and starting 3 ... done\r",
      "\u001b[3B\u001b[1A\u001b[2K\r",
      "Creating and starting 5 ... done\r",
      "\u001b[1B\u001b[4A\u001b[2K\r",
      "Creating and starting 2 ... done\r",
      "\u001b[4B\u001b[2A\u001b[2K\r",
      "Creating and starting 4 ... done\r",
      "\u001b[2B"
     ]
    }
   ],
   "source": [
    "docker-compose scale weba=5"
   ]
  },
  {
   "cell_type": "code",
   "execution_count": 123,
   "metadata": {
    "collapsed": false
   },
   "outputs": [
    {
     "name": "stdout",
     "output_type": "stream",
     "text": [
      "      Name                     Command                State     Ports  \r\n",
      "----------------------------------------------------------------------\r\n",
      "compose_haproxy_1   haproxy -f /usr/local/etc/ ...   Exit 128          \r\n",
      "compose_weba_1      node index.js                    Up         80/tcp \r\n",
      "compose_weba_2      node index.js                    Up         80/tcp \r\n",
      "compose_weba_3      node index.js                    Up         80/tcp \r\n",
      "compose_weba_4      node index.js                    Up         80/tcp \r\n",
      "compose_weba_5      node index.js                    Up         80/tcp \r\n",
      "compose_webb_1      node index.js                    Up         80/tcp \r\n",
      "compose_webc_1      node index.js                    Up         80/tcp \r\n"
     ]
    }
   ],
   "source": [
    "docker-compose ps"
   ]
  },
  {
   "cell_type": "code",
   "execution_count": 124,
   "metadata": {
    "collapsed": false
   },
   "outputs": [
    {
     "name": "stdout",
     "output_type": "stream",
     "text": [
      "Recreating compose_webb_1\r\n",
      "Recreating compose_webc_1\r\n",
      "Recreating compose_weba_2\r\n",
      "\u001b[31mERROR\u001b[0m: \r\n",
      "Aborting.\r\n"
     ]
    }
   ],
   "source": [
    "docker-compose up --force-recreate -d"
   ]
  },
  {
   "cell_type": "code",
   "execution_count": null,
   "metadata": {
    "collapsed": true
   },
   "outputs": [],
   "source": [
    "# TODO:\n",
    "docker-compose events"
   ]
  },
  {
   "cell_type": "code",
   "execution_count": 125,
   "metadata": {
    "collapsed": false
   },
   "outputs": [
    {
     "name": "stdout",
     "output_type": "stream",
     "text": [
      "      Name                     Command                State     Ports  \r\n",
      "----------------------------------------------------------------------\r\n",
      "compose_haproxy_1   haproxy -f /usr/local/etc/ ...   Exit 128          \r\n",
      "compose_weba_1      node index.js                    Up         80/tcp \r\n",
      "compose_weba_2      node index.js                    Exit 137          \r\n",
      "compose_weba_3      node index.js                    Up         80/tcp \r\n",
      "compose_weba_4      node index.js                    Up         80/tcp \r\n",
      "compose_weba_5      node index.js                    Up         80/tcp \r\n",
      "compose_webb_1      node index.js                    Up         80/tcp \r\n",
      "compose_webc_1      node index.js                    Up         80/tcp \r\n"
     ]
    }
   ],
   "source": [
    "docker-compose ps"
   ]
  },
  {
   "cell_type": "code",
   "execution_count": null,
   "metadata": {
    "collapsed": true
   },
   "outputs": [],
   "source": [
    "#docker-compose logs"
   ]
  },
  {
   "cell_type": "code",
   "execution_count": null,
   "metadata": {
    "collapsed": true
   },
   "outputs": [],
   "source": [
    "# docker-compose up\n",
    "# docker-compose down\n",
    "# TODO: Add heterogeneous example ..."
   ]
  },
  {
   "cell_type": "code",
   "execution_count": null,
   "metadata": {
    "collapsed": true
   },
   "outputs": [],
   "source": []
  },
  {
   "cell_type": "markdown",
   "metadata": {
    "collapsed": false
   },
   "source": [
    "TODO: extend to heterogeneous cases ...\n"
   ]
  },
  {
   "cell_type": "markdown",
   "metadata": {},
   "source": [
    "# Rails Example with Compose\n",
    "<a href=\"#TOP\">TOP</a>\n",
    "\n",
    "This example heavily inspired from this article [Building Microservices with Docker and the Rails API gem](https://medium.com/connect-the-dots/building-microservices-with-docker-and-the-rails-api-gem-2a463862f5d)\n",
    "\n",
    "<font size=+1 color=\"#77f\">\n",
    "<b>The goal of this step is to have hands-on experience with Compose ...</b> \n",
    "<br/>\n",
    "It is recommended to use [yamllint](http://www.yamllint.com/) to validate your YAML file - because it's easy to make mistakes in YAML, and Compose is picky.\n",
    "</font>"
   ]
  },
  {
   "cell_type": "code",
   "execution_count": 36,
   "metadata": {
    "collapsed": false
   },
   "outputs": [
    {
     "name": "stdout",
     "output_type": "stream",
     "text": [
      "/root/src/railsapi\r\n"
     ]
    }
   ],
   "source": [
    "cd /root\n",
    "mkdir -p src/railsapi\n",
    "cd src/railsapi\n",
    "pwd\n",
    "touch Dockerfile docker-compose.yml Gemfile Gemfile.lock"
   ]
  },
  {
   "cell_type": "code",
   "execution_count": 37,
   "metadata": {
    "collapsed": false
   },
   "outputs": [
    {
     "name": "stdout",
     "output_type": "stream",
     "text": []
    }
   ],
   "source": [
    "cat > Dockerfile <<EOF\n",
    "\n",
    "FROM ruby:2.3.0\n",
    "\n",
    "RUN apt-get update -qq && apt-get install -y build-essential libmysqlclient-dev\n",
    "\n",
    "RUN mkdir /railsapi\n",
    "\n",
    "WORKDIR /railsapi\n",
    "\n",
    "ADD Gemfile /railsapi/Gemfile\n",
    "\n",
    "ADD Gemfile.lock /railsapi/Gemfile.lock\n",
    "\n",
    "RUN bundle install\n",
    "\n",
    "ADD . /railsapi\n",
    "\n",
    "EOF"
   ]
  },
  {
   "cell_type": "markdown",
   "metadata": {},
   "source": [
    "\n",
    "See [References](#References) section below for information on *Compose*\n",
    "\n"
   ]
  },
  {
   "cell_type": "code",
   "execution_count": 38,
   "metadata": {
    "collapsed": false
   },
   "outputs": [
    {
     "name": "stdout",
     "output_type": "stream",
     "text": []
    }
   ],
   "source": [
    "cat > docker-compose.yml <<EOF\n",
    "\n",
    "version: 2\n",
    "services:\n",
    "  db:\n",
    "   image: mysql:latest\n",
    "   ports:\n",
    "     - 3306:3306\n",
    "   environment:\n",
    "     MYSQL_ROOT_PASSWORD: mypassword\n",
    "   \n",
    "  web:\n",
    "    build: .\n",
    "    command: puma\n",
    "    ports:\n",
    "      - 9292:9292\n",
    "    links:\n",
    "      - db\n",
    "    volumes:\n",
    "      - .:/railsapi\n",
    "\n",
    "EOF"
   ]
  },
  {
   "cell_type": "code",
   "execution_count": 39,
   "metadata": {
    "collapsed": false
   },
   "outputs": [
    {
     "name": "stdout",
     "output_type": "stream",
     "text": [
      "db uses an image, skipping\r\n",
      "Building web\r\n",
      "Step 1 : FROM ruby:2.3.0\r\n",
      " ---> 70578fbdd1a4\r\n",
      "Step 2 : RUN apt-get update -qq && apt-get install -y build-essential libmysqlclient-dev\r\n",
      " ---> Using cache\r\n",
      " ---> 542437588210\r\n",
      "Step 3 : RUN mkdir /railsapi\r\n",
      " ---> Using cache\r\n",
      " ---> 458b06826730\r\n",
      "Step 4 : WORKDIR /railsapi\r\n",
      " ---> Using cache\r\n",
      " ---> 972ec34e499e\r\n",
      "Step 5 : ADD Gemfile /railsapi/Gemfile\r\n",
      " ---> Using cache\r\n",
      " ---> 60947231435f\r\n",
      "Step 6 : ADD Gemfile.lock /railsapi/Gemfile.lock\r\n",
      " ---> 53c629b24a97\r\n",
      "Removing intermediate container 1aac5f737465\r\n",
      "Step 7 : RUN bundle install\r\n",
      " ---> Running in c7e1111ea35d\r\n",
      "Fetching gem metadata from https://rubygems.org/...........\r\n",
      "Fetching version metadata from https://rubygems.org/...\r\n",
      "Fetching dependency metadata from https://rubygems.org/..\r\n",
      "Installing rake 10.5.0\r\n",
      "Installing i18n 0.7.0\r\n",
      "Using json 1.8.3\r\n",
      "Installing minitest 5.8.4\r\n",
      "Installing thread_safe 0.3.5\r\n",
      "Installing builder 3.2.2\r\n",
      "Installing erubis 2.7.0\r\n",
      "Installing mini_portile2 2.0.0\r\n",
      "Installing rack 1.6.4\r\n",
      "Installing mime-types 2.99\r\n",
      "Installing thor 0.19.1\r\n",
      "Installing arel 6.0.3\r\n",
      "Installing byebug 8.2.1 with native extensions\r\n",
      "Installing concurrent-ruby 1.0.0\r\n",
      "Installing mysql2 0.4.2 with native extensions\r\n",
      "Installing puma 2.16.0 with native extensions\r\n",
      "Using bundler 1.11.2\r\n",
      "Installing spring 1.6.2\r\n",
      "Installing tzinfo 1.2.2\r\n",
      "Installing nokogiri 1.6.7.2 with native extensions\r\n",
      "Installing rack-test 0.6.3\r\n",
      "Installing mail 2.6.3\r\n",
      "Installing sprockets 3.5.2\r\n",
      "Installing activesupport 4.2.5\r\n",
      "Installing loofah 2.0.3\r\n",
      "Installing rails-deprecated_sanitizer 1.0.3\r\n",
      "Installing globalid 0.3.6\r\n",
      "Installing activemodel 4.2.5\r\n",
      "Installing rails-html-sanitizer 1.0.3\r\n",
      "Installing rails-dom-testing 1.0.7\r\n",
      "Installing activejob 4.2.5\r\n",
      "Installing activerecord 4.2.5\r\n",
      "Installing actionview 4.2.5\r\n",
      "Installing actionpack 4.2.5\r\n",
      "Installing actionmailer 4.2.5\r\n",
      "Installing railties 4.2.5\r\n",
      "Installing sprockets-rails 3.0.1\r\n",
      "Installing active_model_serializers 0.10.0.rc4\r\n",
      "Installing rails-api 0.4.0\r\n",
      "Installing rails 4.2.5\r\n",
      "Bundle complete! 7 Gemfile dependencies, 40 gems now installed.\r\n",
      "Bundled gems are installed into /usr/local/bundle.\r\n",
      " ---> 2611f8731623\r\n",
      "Removing intermediate container c7e1111ea35d\r\n",
      "Step 8 : ADD . /railsapi\r\n",
      " ---> 7159710bbffe\r\n",
      "Removing intermediate container 7755d7569da1\r\n",
      "Successfully built 7159710bbffe\r\n"
     ]
    }
   ],
   "source": [
    "docker-compose build"
   ]
  },
  {
   "cell_type": "code",
   "execution_count": 40,
   "metadata": {
    "collapsed": false
   },
   "outputs": [
    {
     "name": "stdout",
     "output_type": "stream",
     "text": []
    }
   ],
   "source": [
    "cat > Gemfile <<EOF\n",
    "\n",
    "source 'https://rubygems.org'\n",
    "\n",
    "gem 'rails', '4.2.5'\n",
    "gem 'rails-api', '0.4.0'\n",
    "gem 'mysql2'\n",
    "gem 'puma'\n",
    "\n",
    "# Use ActiveModel has_secure_password\n",
    "# gem 'bcrypt', '~> 3.1.7'\n",
    "\n",
    "# Use Capistrano for deployment\n",
    "# gem 'capistrano-rails', group: :development\n",
    "\n",
    "# Use Rack CORS for handling Cross-Origin Resource Sharing (CORS), making cross-origin AJAX possible\n",
    "# gem 'rack-cors'\n",
    "\n",
    "# Use ActiveModelSerializers to serialize JSON responses\n",
    "gem 'active_model_serializers', '~> 0.10.0.rc3'\n",
    "\n",
    "group :development, :test do\n",
    "  # Call 'byebug' anywhere in the code to stop execution and get a debugger console\n",
    "  gem 'byebug'\n",
    "end\n",
    " \n",
    "group :development do # Spring speeds up development by keeping your application running in the background. Read more: https://github.com/rails/spring\n",
    "  gem 'spring'\n",
    "end\n",
    "\n",
    "EOF"
   ]
  },
  {
   "cell_type": "code",
   "execution_count": 41,
   "metadata": {
    "collapsed": false
   },
   "outputs": [
    {
     "name": "stdout",
     "output_type": "stream",
     "text": [
      "total 32\r\n",
      "-rw-r--r-- 1 root root  478 Jan 31 19:34 README.rdoc\r\n",
      "-rw-r--r-- 1 root root  249 Jan 31 19:34 Rakefile\r\n",
      "-rw-r--r-- 1 root root  474 Jan 31 19:34 .gitignore\r\n",
      "-rw-r--r-- 1 root root  153 Jan 31 19:34 config.ru\r\n",
      "drwxr-xr-x 2 root root  147 Jan 31 19:34 .\r\n",
      "drwxr-xr-x 4 root root   34 Jan 31 19:45 ..\r\n",
      "-rw-r--r-- 1 root root 2928 Jan 31 20:01 Gemfile.lock\r\n",
      "-rw-r--r-- 1 root root  248 Jan 31 20:01 Dockerfile\r\n",
      "-rw-r--r-- 1 root root  258 Jan 31 20:02 docker-compose.yml\r\n",
      "-rw-r--r-- 1 root root  779 Jan 31 20:10 Gemfile\r\n"
     ]
    }
   ],
   "source": [
    "ls -altr"
   ]
  },
  {
   "cell_type": "markdown",
   "metadata": {},
   "source": [
    "Now let's build our image"
   ]
  },
  {
   "cell_type": "code",
   "execution_count": 42,
   "metadata": {
    "collapsed": false
   },
   "outputs": [
    {
     "name": "stdout",
     "output_type": "stream",
     "text": [
      "db uses an image, skipping\r\n",
      "Building web\r\n",
      "Step 1 : FROM ruby:2.3.0\r\n",
      " ---> 70578fbdd1a4\r\n",
      "Step 2 : RUN apt-get update -qq && apt-get install -y build-essential libmysqlclient-dev\r\n",
      " ---> Using cache\r\n",
      " ---> 542437588210\r\n",
      "Step 3 : RUN mkdir /railsapi\r\n",
      " ---> Using cache\r\n",
      " ---> 458b06826730\r\n",
      "Step 4 : WORKDIR /railsapi\r\n",
      " ---> Using cache\r\n",
      " ---> 972ec34e499e\r\n",
      "Step 5 : ADD Gemfile /railsapi/Gemfile\r\n",
      " ---> Using cache\r\n",
      " ---> 60947231435f\r\n",
      "Step 6 : ADD Gemfile.lock /railsapi/Gemfile.lock\r\n",
      " ---> Using cache\r\n",
      " ---> 53c629b24a97\r\n",
      "Step 7 : RUN bundle install\r\n",
      " ---> Using cache\r\n",
      " ---> 2611f8731623\r\n",
      "Step 8 : ADD . /railsapi\r\n",
      " ---> Using cache\r\n",
      " ---> 7159710bbffe\r\n",
      "Successfully built 7159710bbffe\r\n"
     ]
    }
   ],
   "source": [
    "docker-compose build"
   ]
  },
  {
   "cell_type": "code",
   "execution_count": 43,
   "metadata": {
    "collapsed": false
   },
   "outputs": [
    {
     "name": "stdout",
     "output_type": "stream",
     "text": [
      "REPOSITORY          TAG                 IMAGE ID            CREATED             SIZE\r\n",
      "railsapi_web        latest              7159710bbffe        6 minutes ago       813.8 MB\r\n",
      "lab/basic           latest              5477a1cdda04        11 minutes ago      689.1 MB\r\n",
      "<none>              <none>              a192650246e9        11 minutes ago      689.1 MB\r\n",
      "<none>              <none>              a7d63cd9ba3c        12 minutes ago      689.1 MB\r\n",
      "<none>              <none>              8855922a993d        46 minutes ago      813.8 MB\r\n",
      "<none>              <none>              bef232158200        48 minutes ago      746.3 MB\r\n",
      "rails_web           latest              5152cec9abc7        53 minutes ago      813.8 MB\r\n",
      "<none>              <none>              349e9cce0641        About an hour ago   813.8 MB\r\n",
      "<none>              <none>              96b443625f76        About an hour ago   813.8 MB\r\n",
      "<none>              <none>              7d9bce362118        About an hour ago   813.8 MB\r\n",
      "<none>              <none>              524526aa2d95        20 hours ago        813.8 MB\r\n",
      "docker-dev          HEAD                1b3493335e9d        34 hours ago        1.868 GB\r\n",
      "docker-dev          master              5a5f54be5a20        44 hours ago        2.058 GB\r\n",
      "ruby                2.3.0               70578fbdd1a4        3 days ago          721.8 MB\r\n",
      "mysql               latest              a917fce37db8        4 days ago          360.2 MB\r\n",
      "python              latest              93049cc049a6        4 days ago          689.1 MB\r\n",
      "node                latest              0869e88f8617        10 days ago         643 MB\r\n",
      "ubuntu              trusty              3876b81b5a81        11 days ago         187.9 MB\r\n",
      "alpine              latest              3376496dc94c        13 days ago         4.79 MB\r\n",
      "swarm               latest              32d67c5a4211        7 weeks ago         17.15 MB\r\n",
      "hello-world         latest              690ed74de00f        3 months ago        960 B\r\n"
     ]
    }
   ],
   "source": [
    "docker images"
   ]
  },
  {
   "cell_type": "code",
   "execution_count": 44,
   "metadata": {
    "collapsed": false
   },
   "outputs": [
    {
     "name": "stdout",
     "output_type": "stream",
     "text": [
      "\u001b[1m\u001b[34m       exist\u001b[0m  \r\n",
      "\u001b[1m\u001b[34m   identical\u001b[0m  README.rdoc\r\n",
      "\u001b[1m\u001b[34m   identical\u001b[0m  Rakefile\r\n",
      "\u001b[1m\u001b[34m   identical\u001b[0m  config.ru\r\n",
      "\u001b[1m\u001b[34m   identical\u001b[0m  .gitignore\r\n",
      "\u001b[1m\u001b[31m    conflict\u001b[0m  Gemfile\r\n",
      "Overwrite /railsapi/Gemfile? (enter \"h\" for help) [Ynaqdh] \r\n"
     ]
    }
   ],
   "source": [
    "docker-compose run web rails-api new ."
   ]
  },
  {
   "cell_type": "code",
   "execution_count": 46,
   "metadata": {
    "collapsed": false
   },
   "outputs": [
    {
     "name": "stdout",
     "output_type": "stream",
     "text": []
    }
   ],
   "source": [
    "cat > database.yml <<EOF\n",
    "development:\n",
    " adapter: mysql2\n",
    " encoding: utf8\n",
    " reconnect: false\n",
    " database: inventory_manager_dev\n",
    " pool: 5\n",
    " username: root\n",
    " password: mypassword\n",
    " host: db\n",
    "test:\n",
    " adapter: mysql2\n",
    " encoding: utf8\n",
    " reconnect: false\n",
    " database: inventory_manager_test\n",
    " pool: 5\n",
    " username: root\n",
    " password: mypassword\n",
    " host: db\n",
    "EOF"
   ]
  },
  {
   "cell_type": "code",
   "execution_count": 48,
   "metadata": {
    "collapsed": false
   },
   "outputs": [
    {
     "name": "stdout",
     "output_type": "stream",
     "text": [
      "railsapi_db_1 is up-to-date\r\n",
      "Creating railsapi_web_1\r\n",
      "Attaching to railsapi_web_1\r\n",
      "\u001b[36mweb_1 | \u001b[0mPuma starting in single mode...\r\n",
      "\u001b[36mweb_1 | \u001b[0m* Version 2.16.0 (ruby 2.3.0-p0), codename: Midwinter Nights Trance\r\n",
      "\u001b[36mweb_1 | \u001b[0m* Min threads: 0, max threads: 16\r\n",
      "\u001b[36mweb_1 | \u001b[0m* Environment: development\r\n",
      "\u001b[36mweb_1 | \u001b[0mconfig.ru:3:in `require': cannot load such file -- /railsapi/config/environment (LoadError)\r\n",
      "\u001b[36mweb_1 | \u001b[0m\tfrom config.ru:3:in `block in <main>'\r\n",
      "\u001b[36mweb_1 | \u001b[0m\tfrom /usr/local/bundle/gems/rack-1.6.4/lib/rack/builder.rb:55:in `instance_eval'\r\n",
      "\u001b[36mweb_1 | \u001b[0m\tfrom /usr/local/bundle/gems/rack-1.6.4/lib/rack/builder.rb:55:in `initialize'\r\n",
      "\u001b[36mweb_1 | \u001b[0m\tfrom config.ru:in `new'\r\n",
      "\u001b[36mweb_1 | \u001b[0m\tfrom config.ru:in `<main>'\r\n",
      "\u001b[36mweb_1 | \u001b[0m\tfrom /usr/local/bundle/gems/rack-1.6.4/lib/rack/builder.rb:49:in `eval'\r\n",
      "\u001b[36mweb_1 | \u001b[0m\tfrom /usr/local/bundle/gems/rack-1.6.4/lib/rack/builder.rb:49:in `new_from_string'\r\n",
      "\u001b[36mweb_1 | \u001b[0m\tfrom /usr/local/bundle/gems/rack-1.6.4/lib/rack/builder.rb:40:in `parse_file'\r\n",
      "\u001b[36mweb_1 | \u001b[0m\tfrom /usr/local/bundle/gems/puma-2.16.0/lib/puma/configuration.rb:155:in `load_rackup'\r\n",
      "\u001b[36mweb_1 | \u001b[0m\tfrom /usr/local/bundle/gems/puma-2.16.0/lib/puma/configuration.rb:99:in `app'\r\n",
      "\u001b[36mweb_1 | \u001b[0m\tfrom /usr/local/bundle/gems/puma-2.16.0/lib/puma/runner.rb:114:in `load_and_bind'\r\n",
      "\u001b[36mweb_1 | \u001b[0m\tfrom /usr/local/bundle/gems/puma-2.16.0/lib/puma/single.rb:79:in `run'\r\n",
      "\u001b[36mweb_1 | \u001b[0m\tfrom /usr/local/bundle/gems/puma-2.16.0/lib/puma/cli.rb:214:in `run'\r\n",
      "\u001b[36mweb_1 | \u001b[0m\tfrom /usr/local/bundle/gems/puma-2.16.0/bin/puma:10:in `<top (required)>'\r\n",
      "\u001b[36mweb_1 | \u001b[0m\tfrom /usr/local/bundle/bin/puma:16:in `load'\r\n",
      "\u001b[36mweb_1 | \u001b[0m\tfrom /usr/local/bundle/bin/puma:16:in `<main>'\r\n",
      "\u001b[36mweb_1 | \u001b[0m! Unable to load application: LoadError: cannot load such file -- /railsapi/config/environment\r\n",
      "\u001b[36mrailsapi_web_1 exited with code 1\r\n",
      "\u001b[0m"
     ]
    }
   ],
   "source": [
    "docker-compose up web"
   ]
  },
  {
   "cell_type": "code",
   "execution_count": 49,
   "metadata": {
    "collapsed": false
   },
   "outputs": [
    {
     "name": "stdout",
     "output_type": "stream",
     "text": [
      "curl: (7) Failed to connect to localhost port 80: Connection refused\r\n"
     ]
    }
   ],
   "source": [
    "curl http://localhost:80"
   ]
  },
  {
   "cell_type": "markdown",
   "metadata": {},
   "source": [
    "<a name=\"building-docker\" />\n",
    "# Building Docker with Docker\n",
    "<a href=\"#TOP\">TOP</a>\n",
    "\n",
    "<a name=\"Building-Docker-with-Docker\" />\n",
    "# Building Docker with Docker\n",
    "<a href=\"#TOP\">TOP</a>\n",
    "\n",
    "A major advantage of Docker is to simplify build environments.\n",
    "\n",
    "Let's look at how we can build the Docker engine client/daemon binary without having to explicitly install a development environment.\n",
    "\n",
    "<font size=+1 color=\"#77f\">\n",
    "<b>The goal of this step is simply to show the ease with which we can build Docker, thanks to Docker itself.</b>   \n",
    "</font>\n",
    "\n",
    "We do not make particular use of the built image.\n",
    "\n",
    "The process involves the following steps, several of which have already been performed so as to prevent excessive network utilisation during the lab.  Nevertheless all steps are  described here so that you can see just how easy it is to build Docker from scratch:\n",
    "- Install make\n",
    "- Clone the Docker source code\n",
    "- Checkout the same code revision as our current Docker binary (client and daemon)\n",
    "- Build the code - which pulls the docker-dev image containing the required version of the Go compiler\n",
    "- Run the executable to demonstrate it is correct\n",
    "\n",
    "#### Installing make\n",
    "\n",
    "In your environment we have already installed the make package, but no compiler using yum:\n",
    "\n",
    "    yum install make\n",
    "\n",
    "#### Cloning the Docker source code\n",
    "\n",
    "We have already downloaded the Docker source code from github as follows:\n",
    "\n",
    "    mkdir -p /root/src/docker\n",
    "    cd /root/src/docker\n",
    "    git clone https://github.com/docker/docker .\n",
    "\n",
    "To build Docker we simply have to build using the\n",
    "\n",
    "    make build\n",
    "    \n",
    "command.\n",
    "\n",
    "#### Checkout the source code revision corresponding to our installed Docker Engine\n",
    "\n",
    "If we build the latest sources this may not be compatible with our installed Docker version.\n",
    "\n",
    "This is the case.  We have 1.10.0-rc2 installed, which has API version 22, but the current github source is 1.10.0-dev which has changed to API version 23.  So if we build this we find that we cannot use this client to communicate with the installed daemon.\n",
    "\n",
    "So let's checkout the code for 1.10.0-rc2.\n",
    "\n",
    "At the time of writing this is the latest release(candidate) of the Docker engine.\n",
    "We can obtain that version of the source code by referring to the releases page https://github.com/docker/docker/releases\n",
    "and selecting the SHA1 hash of build 1.10.0-rc2 \n",
    "\n",
    "    git checkout c1cdc6e\n",
    "\n",
    "\n",
    "\n",
    "#### Build the code - which pulls the docker-dev image containing the required version of the Go compiler\n",
    "\n",
    "We can build the code as follows:\n",
    "\n",
    "    make build\n",
    "    \n",
    "We have run 'make build' already, so the docker-dev image has already been downloaded (again to prevent excessive network traffic).  The docker-dev image includes the required go compiler and other build tools.\n",
    "\n",
    "Run 'make build' again and you will see a standard build process and finally where it places the compiled binary\n",
    "\n",
    "#### Run the executable to demonstrate it is correct\n",
    "\n",
    "In preparation for the lab we built from the latest source (not the c1cdc6e version we checked out).\n",
    "\n",
    "Run this build as follows to see that it is not compatible with the installed binary (/usr/bin/docker).\n",
    "We see that this binary has version 1.10.0-dev and API version 1.23 but that this cannot communicate with our installed binary which has API version 1.22."
   ]
  },
  {
   "cell_type": "code",
   "execution_count": null,
   "metadata": {
    "collapsed": false
   },
   "outputs": [],
   "source": [
    "cd /root/src/docker; ls -altr bundles/1.10.0-dev/binary/docker-1.10.0-dev; ./bundles/1.10.0-dev/binary/docker version"
   ]
  },
  {
   "cell_type": "markdown",
   "metadata": {},
   "source": [
    "But if we run our new build - as follows - created from revision c1cdc6e of the source code (corresponding to Docker version 1.10.0-rc2) we see that it has the correct version, with the same API version and can interrogate the server.\n"
   ]
  },
  {
   "cell_type": "code",
   "execution_count": null,
   "metadata": {
    "collapsed": false
   },
   "outputs": [],
   "source": [
    "cd /root/src/docker; ls -altr bundles/1.10.0-rc2/binary/docker-1.10.0-rc2; ./bundles/1.10.0-rc2/binary/docker version"
   ]
  },
  {
   "cell_type": "code",
   "execution_count": null,
   "metadata": {
    "collapsed": true
   },
   "outputs": [],
   "source": []
  },
  {
   "cell_type": "markdown",
   "metadata": {
    "collapsed": true
   },
   "source": [
    "# References\n",
    "[TOP](#TOP)\n",
    "\n",
    "- [Dockerfile Reference](https://docs.docker.com/engine/reference/builder/)\n",
    "\n",
    "- [Compose file documentation](https://docs.docker.com/compose/compose-file/)\n",
    "\n",
    "- [Compose file reference](https://github.com/docker/compose/blob/1.6.0-rc1/docs/compose-file.md)\n",
    "\n",
    "- [Visualizing Docker Containers and Images](http://merrigrove.blogspot.in/2015/10/visualizing-docker-containers-and-images.html)\n",
    "\n",
    "- [Awesome Docker](https://github.com/veggiemonk/awesome-docker)\n",
    "\n",
    "- [Docker Cheat Sheet]()\n",
    "\n",
    "- [Building Good Docker Images](http://jonathan.bergknoff.com/journal/building-good-docker-images)\n",
    "\n",
    "- [How to scale a Docker Container with Docker Compose](https://www.brianchristner.io/how-to-scale-a-docker-container-with-docker-compose/)\n",
    "\n",
    "- [Docker Compose Demo](https://github.com/vegasbrianc/docker-compose-demo)\n"
   ]
  },
  {
   "cell_type": "code",
   "execution_count": null,
   "metadata": {
    "collapsed": true
   },
   "outputs": [],
   "source": []
  }
 ],
 "metadata": {
  "kernelspec": {
   "display_name": "Bash",
   "language": "bash",
   "name": "bash"
  },
  "language_info": {
   "codemirror_mode": "shell",
   "file_extension": ".sh",
   "mimetype": "text/x-sh",
   "name": "bash"
  }
 },
 "nbformat": 4,
 "nbformat_minor": 0
}
