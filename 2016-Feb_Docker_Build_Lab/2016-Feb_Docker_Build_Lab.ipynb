{
 "cells": [
  {
   "cell_type": "markdown",
   "metadata": {},
   "source": [
    "# Lab Outline\n",
    "\n",
    "## Online\n",
    "\n",
    "#### This document\n",
    "<font color=\"#f22\" >\n",
    "You can find the most up-to-date version of this document online [here](https://github.com/mjbright/jupyter_notebooks/blob/master/2016-Feb_Docker_Build_Lab/2016-Feb_Docker_Build_Lab.md) or as\n",
    "<br/>\n",
    "- a [PDF file](https://raw.githubusercontent.com/mjbright/jupyter_notebooks/master/2016-Feb_Docker_Build_Lab/2016-Feb_Docker_Build_Lab.pdf) (http://bit.ly/1QF0XaH)  or as\n",
    "<br/>\n",
    "- a [Jupyter](http://www.jupyter.org) notebook at [2016-Feb_Docker_Build_Lab](https://github.com/mjbright/jupyter_notebooks/blob/master/2016-Feb_Docker_Build_Lab/).\n",
    "</font>\n",
    "\n",
    "This notebook is runnable in a Jupyter installation with the bash_kernel installed.\n",
    "\n",
    "Although that is not the subject of this lab, if you want to create your own environment in which to run this lab with Docker components already installed (and even Jupyter/bash_kernel), refer to the README.md [here](https://github.com/mjbright/jupyter_notebooks/blob/master/2016-Feb_Docker_Build_Lab/)\n",
    "\n",
    "<br/><br/><br/>\n",
    "<center><font size=-1 color=\"#77f\">\n",
    "    <i class=\"fa-linkedin fa-2x fa\"> [mjbright](https://www.linkedin.com/in/mjbright)</i>,&nbsp;&nbsp;&nbsp;&nbsp;&nbsp;&nbsp;&nbsp;&nbsp;\n",
    "    <i class=\"fa-github fa-2x fa\"> [mjbright](https://github.com/mjbright)</i>,&nbsp;&nbsp;&nbsp;&nbsp;&nbsp;&nbsp;&nbsp;&nbsp;\n",
    "    <i class=\"fa-twitter fa-2x fa\">[@mjbright](http://twitter.com/mjbright)</i>,\n",
    "</font></center>\n"
   ]
  },
  {
   "cell_type": "markdown",
   "metadata": {},
   "source": [
    "<a name=\"TOP\"></a>\n",
    "## Lab-Description\n",
    "[TOP](#TOP)\n",
    "\n",
    "\n",
    "We first need to recuperate the source code examples:\n",
    "\n",
    "<font color=\"#f22\">\n",
    "### Lab Start\n",
    "</font>\n",
    "Start this lab by first performing the below step:"
   ]
  },
  {
   "cell_type": "code",
   "execution_count": 1,
   "metadata": {
    "collapsed": false
   },
   "outputs": [
    {
     "name": "stdout",
     "output_type": "stream",
     "text": [
      "Cloning into 'src'...\r\n",
      "remote: Counting objects: 156, done.\u001b[K\r\n",
      "remote: Compressing objects:   0% (1/116)   \u001b[K\r",
      "remote: Compressing objects:   1% (2/116)   \u001b[K\r",
      "remote: Compressing objects:   2% (3/116)   \u001b[K\r",
      "remote: Compressing objects:   3% (4/116)   \u001b[K\r",
      "remote: Compressing objects:   4% (5/116)   \u001b[K\r",
      "remote: Compressing objects:   5% (6/116)   \u001b[K\r",
      "remote: Compressing objects:   6% (7/116)   \u001b[K\r",
      "remote: Compressing objects:   7% (9/116)   \u001b[K\r",
      "remote: Compressing objects:   8% (10/116)   \u001b[K\r",
      "remote: Compressing objects:   9% (11/116)   \u001b[K\r",
      "remote: Compressing objects:  10% (12/116)   \u001b[K\r",
      "remote: Compressing objects:  11% (13/116)   \u001b[K\r",
      "remote: Compressing objects:  12% (14/116)   \u001b[K\r",
      "remote: Compressing objects:  13% (16/116)   \u001b[K\r",
      "remote: Compressing objects:  14% (17/116)   \u001b[K\r",
      "remote: Compressing objects:  15% (18/116)   \u001b[K\r",
      "remote: Compressing objects:  16% (19/116)   \u001b[K\r",
      "remote: Compressing objects:  17% (20/116)   \u001b[K\r",
      "remote: Compressing objects:  18% (21/116)   \u001b[K\r",
      "remote: Compressing objects:  19% (23/116)   \u001b[K\r",
      "remote: Compressing objects:  20% (24/116)   \u001b[K\r",
      "remote: Compressing objects:  21% (25/116)   \u001b[K\r",
      "remote: Compressing objects:  22% (26/116)   \u001b[K\r",
      "remote: Compressing objects:  23% (27/116)   \u001b[K\r",
      "remote: Compressing objects:  24% (28/116)   \u001b[K\r",
      "remote: Compressing objects:  25% (29/116)   \u001b[K\r",
      "remote: Compressing objects:  26% (31/116)   \u001b[K\r",
      "remote: Compressing objects:  27% (32/116)   \u001b[K\r",
      "remote: Compressing objects:  28% (33/116)   \u001b[K\r",
      "remote: Compressing objects:  29% (34/116)   \u001b[K\r",
      "remote: Compressing objects:  30% (35/116)   \u001b[K\r",
      "remote: Compressing objects:  31% (36/116)   \u001b[K\r",
      "remote: Compressing objects:  32% (38/116)   \u001b[K\r",
      "remote: Compressing objects:  33% (39/116)   \u001b[K\r",
      "remote: Compressing objects:  34% (40/116)   \u001b[K\r",
      "remote: Compressing objects:  35% (41/116)   \u001b[K\r",
      "remote: Compressing objects:  36% (42/116)   \u001b[K\r",
      "remote: Compressing objects:  37% (43/116)   \u001b[K\r",
      "remote: Compressing objects:  38% (45/116)   \u001b[K\r",
      "remote: Compressing objects:  39% (46/116)   \u001b[K\r",
      "remote: Compressing objects:  40% (47/116)   \u001b[K\r",
      "remote: Compressing objects:  41% (48/116)   \u001b[K\r",
      "remote: Compressing objects:  42% (49/116)   \u001b[K\r",
      "remote: Compressing objects:  43% (50/116)   \u001b[K\r",
      "remote: Compressing objects:  44% (52/116)   \u001b[K\r",
      "remote: Compressing objects:  45% (53/116)   \u001b[K\r",
      "remote: Compressing objects:  46% (54/116)   \u001b[K\r",
      "remote: Compressing objects:  47% (55/116)   \u001b[K\r",
      "remote: Compressing objects:  48% (56/116)   \u001b[K\r",
      "remote: Compressing objects:  49% (57/116)   \u001b[K\r",
      "remote: Compressing objects:  50% (58/116)   \u001b[K\r",
      "remote: Compressing objects:  51% (60/116)   \u001b[K\r",
      "remote: Compressing objects:  52% (61/116)   \u001b[K\r",
      "remote: Compressing objects:  53% (62/116)   \u001b[K\r",
      "remote: Compressing objects:  54% (63/116)   \u001b[K\r",
      "remote: Compressing objects:  55% (64/116)   \u001b[K\r",
      "remote: Compressing objects:  56% (65/116)   \u001b[K\r",
      "remote: Compressing objects:  57% (67/116)   \u001b[K\r",
      "remote: Compressing objects:  58% (68/116)   \u001b[K\r",
      "remote: Compressing objects:  59% (69/116)   \u001b[K\r",
      "remote: Compressing objects:  60% (70/116)   \u001b[K\r",
      "remote: Compressing objects:  61% (71/116)   \u001b[K\r",
      "remote: Compressing objects:  62% (72/116)   \u001b[K\r",
      "remote: Compressing objects:  63% (74/116)   \u001b[K\r",
      "remote: Compressing objects:  64% (75/116)   \u001b[K\r",
      "remote: Compressing objects:  65% (76/116)   \u001b[K\r",
      "remote: Compressing objects:  66% (77/116)   \u001b[K\r",
      "remote: Compressing objects:  67% (78/116)   \u001b[K\r",
      "remote: Compressing objects:  68% (79/116)   \u001b[K\r",
      "remote: Compressing objects:  69% (81/116)   \u001b[K\r",
      "remote: Compressing objects:  70% (82/116)   \u001b[K\r",
      "remote: Compressing objects:  71% (83/116)   \u001b[K\r",
      "remote: Compressing objects:  72% (84/116)   \u001b[K\r",
      "remote: Compressing objects:  73% (85/116)   \u001b[K\r",
      "remote: Compressing objects:  74% (86/116)   \u001b[K\r",
      "remote: Compressing objects:  75% (87/116)   \u001b[K\r",
      "remote: Compressing objects:  76% (89/116)   \u001b[K\r",
      "remote: Compressing objects:  77% (90/116)   \u001b[K\r",
      "remote: Compressing objects:  78% (91/116)   \u001b[K\r",
      "remote: Compressing objects:  79% (92/116)   \u001b[K\r",
      "remote: Compressing objects:  80% (93/116)   \u001b[K\r",
      "remote: Compressing objects:  81% (94/116)   \u001b[K\r",
      "remote: Compressing objects:  82% (96/116)   \u001b[K\r",
      "remote: Compressing objects:  83% (97/116)   \u001b[K\r",
      "remote: Compressing objects:  84% (98/116)   \u001b[K\r",
      "remote: Compressing objects:  85% (99/116)   \u001b[K\r",
      "remote: Compressing objects:  86% (100/116)   \u001b[K\r",
      "remote: Compressing objects:  87% (101/116)   \u001b[K\r",
      "remote: Compressing objects:  88% (103/116)   \u001b[K\r",
      "remote: Compressing objects:  89% (104/116)   \u001b[K\r",
      "remote: Compressing objects:  90% (105/116)   \u001b[K\r",
      "remote: Compressing objects:  91% (106/116)   \u001b[K\r",
      "remote: Compressing objects:  92% (107/116)   \u001b[K\r",
      "remote: Compressing objects:  93% (108/116)   \u001b[K\r",
      "remote: Compressing objects:  94% (110/116)   \u001b[K\r",
      "remote: Compressing objects:  95% (111/116)   \u001b[K\r",
      "remote: Compressing objects:  96% (112/116)   \u001b[K\r",
      "remote: Compressing objects:  97% (113/116)   \u001b[K\r",
      "remote: Compressing objects:  98% (114/116)   \u001b[K\r",
      "remote: Compressing objects:  99% (115/116)   \u001b[K\r",
      "remote: Compressing objects: 100% (116/116)   \u001b[K\r",
      "remote: Compressing objects: 100% (116/116), done.\u001b[K\r\n",
      "Receiving objects:   0% (1/156)   \r",
      "Receiving objects:   1% (2/156)   \r",
      "Receiving objects:   2% (4/156)   \r",
      "Receiving objects:   3% (5/156)   \r",
      "Receiving objects:   4% (7/156)   \r",
      "Receiving objects:   5% (8/156)   \r",
      "Receiving objects:   6% (10/156)   \r",
      "Receiving objects:   7% (11/156)   \r",
      "Receiving objects:   8% (13/156)   \r",
      "Receiving objects:   9% (15/156)   \r",
      "Receiving objects:  10% (16/156)   \r",
      "Receiving objects:  11% (18/156)   \r",
      "Receiving objects:  12% (19/156)   \r",
      "Receiving objects:  13% (21/156)   \r",
      "Receiving objects:  14% (22/156)   \r",
      "Receiving objects:  15% (24/156)   \r",
      "Receiving objects:  16% (25/156)   \r",
      "Receiving objects:  17% (27/156)   \r",
      "Receiving objects:  18% (29/156)   \r",
      "Receiving objects:  19% (30/156)   \r",
      "Receiving objects:  20% (32/156)   \r",
      "Receiving objects:  21% (33/156)   \r",
      "Receiving objects:  22% (35/156)   \r",
      "Receiving objects:  23% (36/156)   \r",
      "Receiving objects:  24% (38/156)   \r",
      "Receiving objects:  25% (39/156)   \r",
      "Receiving objects:  26% (41/156)   \r",
      "Receiving objects:  27% (43/156)   \r",
      "Receiving objects:  28% (44/156)   \r",
      "Receiving objects:  29% (46/156)   \r",
      "Receiving objects:  30% (47/156)   \r",
      "Receiving objects:  31% (49/156)   \r",
      "Receiving objects:  32% (50/156)   \r",
      "Receiving objects:  33% (52/156)   \r",
      "remote: Total 156 (delta 64), reused 120 (delta 31), pack-reused 0\u001b[K\r\n",
      "Receiving objects:  34% (54/156)   \r",
      "Receiving objects:  35% (55/156)   \r",
      "Receiving objects:  36% (57/156)   \r",
      "Receiving objects:  37% (58/156)   \r",
      "Receiving objects:  38% (60/156)   \r",
      "Receiving objects:  39% (61/156)   \r",
      "Receiving objects:  40% (63/156)   \r",
      "Receiving objects:  41% (64/156)   \r",
      "Receiving objects:  42% (66/156)   \r",
      "Receiving objects:  43% (68/156)   \r",
      "Receiving objects:  44% (69/156)   \r",
      "Receiving objects:  45% (71/156)   \r",
      "Receiving objects:  46% (72/156)   \r",
      "Receiving objects:  47% (74/156)   \r",
      "Receiving objects:  48% (75/156)   \r",
      "Receiving objects:  49% (77/156)   \r",
      "Receiving objects:  50% (78/156)   \r",
      "Receiving objects:  51% (80/156)   \r",
      "Receiving objects:  52% (82/156)   \r",
      "Receiving objects:  53% (83/156)   \r",
      "Receiving objects:  54% (85/156)   \r",
      "Receiving objects:  55% (86/156)   \r",
      "Receiving objects:  56% (88/156)   \r",
      "Receiving objects:  57% (89/156)   \r",
      "Receiving objects:  58% (91/156)   \r",
      "Receiving objects:  59% (93/156)   \r",
      "Receiving objects:  60% (94/156)   \r",
      "Receiving objects:  61% (96/156)   \r",
      "Receiving objects:  62% (97/156)   \r",
      "Receiving objects:  63% (99/156)   \r",
      "Receiving objects:  64% (100/156)   \r",
      "Receiving objects:  65% (102/156)   \r",
      "Receiving objects:  66% (103/156)   \r",
      "Receiving objects:  67% (105/156)   \r",
      "Receiving objects:  68% (107/156)   \r",
      "Receiving objects:  69% (108/156)   \r",
      "Receiving objects:  70% (110/156)   \r",
      "Receiving objects:  71% (111/156)   \r",
      "Receiving objects:  72% (113/156)   \r",
      "Receiving objects:  73% (114/156)   \r",
      "Receiving objects:  74% (116/156)   \r",
      "Receiving objects:  75% (117/156)   \r",
      "Receiving objects:  76% (119/156)   \r",
      "Receiving objects:  77% (121/156)   \r",
      "Receiving objects:  78% (122/156)   \r",
      "Receiving objects:  79% (124/156)   \r",
      "Receiving objects:  80% (125/156)   \r",
      "Receiving objects:  81% (127/156)   \r",
      "Receiving objects:  82% (128/156)   \r",
      "Receiving objects:  83% (130/156)   \r",
      "Receiving objects:  84% (132/156)   \r",
      "Receiving objects:  85% (133/156)   \r",
      "Receiving objects:  86% (135/156)   \r",
      "Receiving objects:  87% (136/156)   \r",
      "Receiving objects:  88% (138/156)   \r",
      "Receiving objects:  89% (139/156)   \r",
      "Receiving objects:  90% (141/156)   \r",
      "Receiving objects:  91% (142/156)   \r",
      "Receiving objects:  92% (144/156)   \r",
      "Receiving objects:  93% (146/156)   \r",
      "Receiving objects:  94% (147/156)   \r",
      "Receiving objects:  95% (149/156)   \r",
      "Receiving objects:  96% (150/156)   \r",
      "Receiving objects:  97% (152/156)   \r",
      "Receiving objects:  98% (153/156)   \r",
      "Receiving objects:  99% (155/156)   \r",
      "Receiving objects: 100% (156/156)   \r",
      "Receiving objects: 100% (156/156), 15.60 KiB | 0 bytes/s, done.\r\n",
      "Resolving deltas:   0% (0/64)   \r",
      "Resolving deltas:  25% (16/64)   \r",
      "Resolving deltas:  31% (20/64)   \r",
      "Resolving deltas:  32% (21/64)   \r",
      "Resolving deltas:  34% (22/64)   \r",
      "Resolving deltas:  35% (23/64)   \r",
      "Resolving deltas:  51% (33/64)   \r",
      "Resolving deltas:  57% (37/64)   \r",
      "Resolving deltas:  60% (39/64)   \r",
      "Resolving deltas:  62% (40/64)   \r",
      "Resolving deltas:  64% (41/64)   \r",
      "Resolving deltas:  65% (42/64)   \r",
      "Resolving deltas:  67% (43/64)   \r",
      "Resolving deltas:  68% (44/64)   \r",
      "Resolving deltas:  70% (45/64)   \r",
      "Resolving deltas:  71% (46/64)   \r",
      "Resolving deltas:  73% (47/64)   \r",
      "Resolving deltas:  75% (48/64)   \r",
      "Resolving deltas:  95% (61/64)   \r",
      "Resolving deltas:  96% (62/64)   \r",
      "Resolving deltas:  98% (63/64)   \r",
      "Resolving deltas: 100% (64/64)   \r",
      "Resolving deltas: 100% (64/64), done.\r\n",
      "Checking connectivity... done.\r\n"
     ]
    }
   ],
   "source": [
    "## Lab Start:\n",
    "\n",
    "rm -rf ~/src\n",
    "\n",
    "cd\n",
    "git clone https://github.com/mjbright/docker-examples src\n",
    "\n",
    "./src/START_LAB.sh"
   ]
  },
  {
   "cell_type": "markdown",
   "metadata": {},
   "source": [
    "Then procede with the following sections:\n",
    "\n",
    "- [1. Introduction](#intro)\n",
    "- [2. Basic Docker Builds](#builds)\n",
    "- [3. Creating Small Images](#small-images)\n",
    "  - [Creating a small binary with C](#small-c)\n",
    "  - [Creating a small binary with Go](#small-go)\n",
    "  - [Creating a toolset Docker image containing several executables](#small-push)\n",
    "  \n",
    "- [4. Pushing our image to Docker Hub](#small-multi)\n",
    "  \n",
    "- [5. Dockerfile best practices](#build-best-practices)\n",
    "\n",
    "- [6. Using the official 'Language Stack' images](#lang-stacks)\n",
    "  - [Using a Language Stack (Node.js)](#medium-node)\n",
    "  - [Using a Language Stack (Python)](#medium-python)\n",
    "  \n",
    "- [7. Using Compose](#compose)\n",
    "  - [Building complex systems with Compose](#Compose)\n",
    "  - [Rails example with Compose](#Rails-Example-with-Compose)\n",
    "  \n",
    "- [8. Building Docker](#building-docker)\n",
    "  - [Building Docker with Docker](#Building-Docker-with-Docker)\n",
    "\n",
    "[References](#References)\n",
    "\n",
    "<hr/>\n",
    "  \n",
    "### Overall description of the lab steps\n",
    "\n",
    "**NOTE: All lab steps can be considered optional, attendees may perform them in order, or jump to the section of interest to them (to get to the more complicated steps)**\n"
   ]
  },
  {
   "cell_type": "markdown",
   "metadata": {},
   "source": [
    "<a name=\"1.intro\" />\n",
    "# Introduction\n",
    "## A refresh on Docker concepts\n",
    "\n",
    "You may want to skip this section if you have already run the introductory lab.\n",
    "\n",
    "Look at what docker version you are running.\n",
    "Note that the 'docker version' command reports the local client version as well as the server (docker engine) version."
   ]
  },
  {
   "cell_type": "code",
   "execution_count": 2,
   "metadata": {
    "collapsed": false
   },
   "outputs": [
    {
     "name": "stdout",
     "output_type": "stream",
     "text": [
      "Client:\r\n",
      " Version:      1.10.0\r\n",
      " API version:  1.22\r\n",
      " Go version:   go1.5.3\r\n",
      " Git commit:   590d5108\r\n",
      " Built:        Thu Feb  4 19:55:25 2016\r\n",
      " OS/Arch:      linux/amd64\r\n",
      "\r\n",
      "Server:\r\n",
      " Version:      1.10.0\r\n",
      " API version:  1.22\r\n",
      " Go version:   go1.5.3\r\n",
      " Git commit:   590d5108\r\n",
      " Built:        Thu Feb  4 19:55:25 2016\r\n",
      " OS/Arch:      linux/amd64\r\n"
     ]
    }
   ],
   "source": [
    "docker version"
   ]
  },
  {
   "cell_type": "markdown",
   "metadata": {},
   "source": [
    "### Images are image layers\n",
    "\n",
    "Remember that when we talk of a container image it is really a collection of image layers.\n",
    "\n",
    "The docker info command provides information about the docker engine, see below."
   ]
  },
  {
   "cell_type": "code",
   "execution_count": 4,
   "metadata": {
    "collapsed": false
   },
   "outputs": [
    {
     "name": "stdout",
     "output_type": "stream",
     "text": [
      "Containers: 1\r\n",
      " Running: 0\r\n",
      " Paused: 0\r\n",
      " Stopped: 1\r\n",
      "Images: 7\r\n",
      "Server Version: 1.10.0\r\n",
      "Storage Driver: aufs\r\n",
      " Root Dir: /var/lib/docker/aufs\r\n",
      " Backing Filesystem: extfs\r\n",
      " Dirs: 30\r\n",
      " Dirperm1 Supported: false\r\n",
      "Execution Driver: native-0.2\r\n",
      "Logging Driver: json-file\r\n",
      "Plugins: \r\n",
      " Volume: local\r\n",
      " Network: null host bridge\r\n",
      "Kernel Version: 3.13.0-77-generic\r\n",
      "Operating System: Ubuntu 14.04.3 LTS\r\n",
      "OSType: linux\r\n",
      "Architecture: x86_64\r\n",
      "CPUs: 1\r\n",
      "Total Memory: 1.955 GiB\r\n",
      "Name: vagrant-ubuntu-trusty-64\r\n",
      "ID: 3BDW:ZNNN:SJXZ:MAT3:WBKG:4RQT:PEZJ:7PDN:VG72:XGAL:CU6U:XWX4\r\n",
      "WARNING: No swap limit support\r\n"
     ]
    }
   ],
   "source": [
    "docker info"
   ]
  },
  {
   "cell_type": "markdown",
   "metadata": {},
   "source": [
    "But if we look at the number of containers and images, the number of images it is not the same as provided above.\n",
    "Why do you think that is?\n",
    "\n",
    "First let's list the number of running and number of stopped containers\n",
    "\n",
    "**NOTE: the value on your system will be different**"
   ]
  },
  {
   "cell_type": "code",
   "execution_count": 5,
   "metadata": {
    "collapsed": false
   },
   "outputs": [
    {
     "name": "stdout",
     "output_type": "stream",
     "text": [
      "CONTAINER ID        IMAGE               COMMAND             CREATED             STATUS              PORTS               NAMES\r\n",
      "\r\n",
      "Total number of running containers:\r\n",
      "0\r\n"
     ]
    }
   ],
   "source": [
    "# Show the running containers:\n",
    "docker ps\n",
    "\n",
    "# Count the number of running containers:\n",
    "echo\n",
    "echo \"Total number of running containers:\"\n",
    "docker ps | tail -n +2 | wc -l"
   ]
  },
  {
   "cell_type": "code",
   "execution_count": 6,
   "metadata": {
    "collapsed": false
   },
   "outputs": [
    {
     "name": "stdout",
     "output_type": "stream",
     "text": [
      "CONTAINER ID        IMAGE               COMMAND             CREATED             STATUS                       PORTS               NAMES\r\n",
      "b19891aa2715        lab/c_prog          \"/helloWorld\"       24 seconds ago      Exited (14) 23 seconds ago                       nauseous_mestorf\r\n",
      "\r\n",
      "Total number of containers (running or stopped):\r\n",
      "1\r\n"
     ]
    }
   ],
   "source": [
    "# Show all the containers (running or stopped):\n",
    "docker ps -a\n",
    "\n",
    "# Count all the containers (running or stopped):\n",
    "echo\n",
    "echo \"Total number of containers (running or stopped):\"\n",
    "docker ps -a | tail -n +2 | wc -l # Number of stopped and running containers ('tail -n +2' excludes the header line)"
   ]
  },
  {
   "cell_type": "markdown",
   "metadata": {},
   "source": [
    "We can see that the number of containers reported by docker info correctly reports the number of total containers, running or not\n",
    "\n",
    "But listing images gives a different value from the 'docker info' value"
   ]
  },
  {
   "cell_type": "code",
   "execution_count": 7,
   "metadata": {
    "collapsed": false
   },
   "outputs": [
    {
     "name": "stdout",
     "output_type": "stream",
     "text": [
      "REPOSITORY          TAG                 IMAGE ID            CREATED             SIZE\r\n",
      "lab/c_prog          latest              659400ddd8d4        31 seconds ago      877.2 kB\r\n",
      "swarm               latest              17cf22083736        3 days ago          18.11 MB\r\n",
      "node                latest              baa18fdeb577        12 days ago         643.1 MB\r\n",
      "swarm               1.1.0-rc2           81883ac55ffe        2 weeks ago         18.06 MB\r\n",
      "alpine              latest              14f89d0e6257        2 weeks ago         4.794 MB\r\n",
      "\r\n",
      "Total number of images:\r\n",
      "5\r\n"
     ]
    }
   ],
   "source": [
    "# Show the images:\n",
    "docker images\n",
    "\n",
    "# Count the images:\n",
    "echo\n",
    "echo \"Total number of images:\"\n",
    "docker images | tail -n +2 | wc -l"
   ]
  },
  {
   "cell_type": "markdown",
   "metadata": {},
   "source": [
    "That is because there are many intermediate image layers which are not normally listed.\n",
    "But we can list those layers using the '-a' option and now we see a number close to the value from 'docker info'.\n",
    "\n",
    "(We will see later how the 'docker history' command allows us to see how the layers were created)."
   ]
  },
  {
   "cell_type": "code",
   "execution_count": 8,
   "metadata": {
    "collapsed": false
   },
   "outputs": [
    {
     "name": "stdout",
     "output_type": "stream",
     "text": [
      "REPOSITORY          TAG                 IMAGE ID            CREATED             SIZE\r\n",
      "<none>              <none>              8e9605157ccf        42 seconds ago      0 B\r\n",
      "<none>              <none>              bde06bb6dcf5        42 seconds ago      877.2 kB\r\n",
      "lab/c_prog          latest              659400ddd8d4        42 seconds ago      877.2 kB\r\n",
      "swarm               latest              17cf22083736        3 days ago          18.11 MB\r\n",
      "node                latest              baa18fdeb577        12 days ago         643.1 MB\r\n",
      "swarm               1.1.0-rc2           81883ac55ffe        2 weeks ago         18.06 MB\r\n",
      "alpine              latest              14f89d0e6257        2 weeks ago         4.794 MB\r\n",
      "\r\n",
      "Total number of image layers:\r\n",
      "7\r\n"
     ]
    }
   ],
   "source": [
    "# Show all the image layers:\n",
    "docker images -a\n",
    "\n",
    "# Count all the image layers:\n",
    "echo\n",
    "echo \"Total number of image layers:\"\n",
    "\n",
    "docker images -a | tail -n +2 | wc -l  # The number of image layers+1 (inc. header line)"
   ]
  },
  {
   "cell_type": "markdown",
   "metadata": {},
   "source": [
    "Images can include 1 static binary file or more and can even include a whole distribution.\n",
    "Launching a container launches a single process within that container - which may in turn span other child processes.\n",
    "\n",
    "Let us look at an extremely small image to have an idea just how small an executable image can be.\n",
    "Docker provide an official 'hello-world' image which simply echoes some output to the console.\n",
    "\n",
    "Let's run that image to see and then investigate the image.\n",
    "First let's search for the image; we see that the first image is 'hello-world' which is an official build"
   ]
  },
  {
   "cell_type": "code",
   "execution_count": 9,
   "metadata": {
    "collapsed": false
   },
   "outputs": [
    {
     "name": "stdout",
     "output_type": "stream",
     "text": [
      "NAME                                     DESCRIPTION                                     STARS     OFFICIAL   AUTOMATED\r\n",
      "hello-world                              Hello World! (an example of minimal Docker...   48        [OK]       \r\n",
      "tutum/hello-world                        Image to test docker deployments. Has Apac...   19                   [OK]\r\n",
      "marcells/aspnet-hello-world              ASP.NET vNext - Hello World                     2                    [OK]\r\n",
      "bonomat/nodejs-hello-world               a simple nodejs hello world container           1                    [OK]\r\n",
      "carinamarina/hello-world-app             This is a sample Python web application, r...   1                    [OK]\r\n",
      "vegasbrianc/docker-hello-world                                                           1                    [OK]\r\n",
      "carinamarina/hello-world-web             A Python web app, running on port 5000, wh...   1                    [OK]\r\n",
      "wowgroup/hello-world                     Minimal web app for testing purposes            0                    [OK]\r\n",
      "dockercloud/hello-world                  Sample hello world application                  0                    [OK]\r\n",
      "crccheck/hello-world                     Hello World web server in under 2.5 MB          0                    [OK]\r\n",
      "bencampbell/hello-world                  First automated build.                          0                    [OK]\r\n",
      "nirmata/hello-world                                                                      0                    [OK]\r\n",
      "n8io/hello-world                         A simple hello world node.js app to test d...   0                    [OK]\r\n",
      "mikelh/hello-world                       simplified hello world as dummy start for ...   0                    [OK]\r\n",
      "poojathote/hello-world                   this is 3rd POC                                 0                    [OK]\r\n",
      "vamosporpartes/hello-world               Primeiro projeto para testar o link entre ...   0                    [OK]\r\n",
      "asakaguchi/docker-nodejs-hello-world     Hello World for Docker                          0                    [OK]\r\n",
      "cpro/http-hello-world                    Hello world                                     0                    [OK]\r\n",
      "ileontyev81/docker-hello-world           hello world test build                          0                    [OK]\r\n",
      "chaliceg/docker-hello-world              Hello world                                     0                    [OK]\r\n",
      "alexwelch/hello-world                                                                    0                    [OK]\r\n",
      "vasia/docker-hello-world                 rhrthrth                                        0                    [OK]\r\n",
      "asakaguchi/magellan-nodejs-hello-world   Hello World for MAGELLAN                        0                    [OK]\r\n",
      "wodge/docker-hello-world                 Hello World test for auto update to Docker...   0                    [OK]\r\n",
      "chalitac/hello-world                     Just Hello World                                0                    [OK]\r\n"
     ]
    }
   ],
   "source": [
    "docker search hello-world"
   ]
  },
  {
   "cell_type": "markdown",
   "metadata": {},
   "source": [
    "Let's now run that image"
   ]
  },
  {
   "cell_type": "code",
   "execution_count": 10,
   "metadata": {
    "collapsed": false
   },
   "outputs": [
    {
     "name": "stdout",
     "output_type": "stream",
     "text": [
      "Unable to find image 'hello-world:latest' locally\r\n",
      "latest: Pulling from library/hello-world\r\n",
      "\u001b[0B\r\n",
      "\u001b[0A\u001b[2K\r",
      "03f4658f8b78: Pulling fs layer \r",
      "\u001b[0B\r\n",
      "\u001b[0A\u001b[2K\r",
      "a3ed95caeb02: Pulling fs layer \r",
      "\u001b[0B\u001b[1A\u001b[2K\r",
      "a3ed95caeb02: Downloading     32 B/32 B\r",
      "\u001b[1B\u001b[1A\u001b[2K\r",
      "a3ed95caeb02: Verifying Checksum \r",
      "\u001b[1B\u001b[1A\u001b[2K\r",
      "a3ed95caeb02: Download complete \r",
      "\u001b[1B\u001b[2A\u001b[2K\r",
      "03f4658f8b78: Downloading    601 B/601 B\r",
      "\u001b[2B\u001b[2A\u001b[2K\r",
      "03f4658f8b78: Verifying Checksum \r",
      "\u001b[2B\u001b[2A\u001b[2K\r",
      "03f4658f8b78: Download complete \r",
      "\u001b[2B\u001b[2A\u001b[2K\r",
      "03f4658f8b78: Extracting    601 B/601 B\r",
      "\u001b[2B\u001b[2A\u001b[2K\r",
      "03f4658f8b78: Extracting    601 B/601 B\r",
      "\u001b[2B\u001b[2A\u001b[2K\r",
      "03f4658f8b78: Pull complete \r",
      "\u001b[2B\u001b[2A\u001b[2K\r",
      "03f4658f8b78: Pull complete \r",
      "\u001b[2B\u001b[1A\u001b[2K\r",
      "a3ed95caeb02: Extracting     32 B/32 B\r",
      "\u001b[1B\u001b[1A\u001b[2K\r",
      "a3ed95caeb02: Extracting     32 B/32 B\r",
      "\u001b[1B\u001b[1A\u001b[2K\r",
      "a3ed95caeb02: Pull complete \r",
      "\u001b[1B\u001b[1A\u001b[2K\r",
      "a3ed95caeb02: Pull complete \r",
      "\u001b[1BDigest: sha256:8be990ef2aeb16dbcb9271ddfe2610fa6658d13f6dfb8bc72074cc1ca36966a7\r\n",
      "Status: Downloaded newer image for hello-world:latest\r\n",
      "\r\n",
      "Hello from Docker.\r\n",
      "This message shows that your installation appears to be working correctly.\r\n",
      "\r\n",
      "To generate this message, Docker took the following steps:\r\n",
      " 1. The Docker client contacted the Docker daemon.\r\n",
      " 2. The Docker daemon pulled the \"hello-world\" image from the Docker Hub.\r\n",
      " 3. The Docker daemon created a new container from that image which runs the\r\n",
      "    executable that produces the output you are currently reading.\r\n",
      " 4. The Docker daemon streamed that output to the Docker client, which sent it\r\n",
      "    to your terminal.\r\n",
      "\r\n",
      "To try something more ambitious, you can run an Ubuntu container with:\r\n",
      " $ docker run -it ubuntu bash\r\n",
      "\r\n",
      "Share images, automate workflows, and more with a free Docker Hub account:\r\n",
      " https://hub.docker.com\r\n",
      "\r\n",
      "For more examples and ideas, visit:\r\n",
      " https://docs.docker.com/userguide/\r\n",
      "\r\n"
     ]
    }
   ],
   "source": [
    "docker run hello-world\n",
    "\n",
    "# Note how we see the pulling of the image if not already available locally:"
   ]
  },
  {
   "cell_type": "markdown",
   "metadata": {},
   "source": [
    "If it took a while to run, this was due to the time needed to download the image before running it - see above.\n",
    "\n",
    "Try the command a second time to see how it runs instantaneously as there is no need to download the image which already exists locally on the 'docker engine'."
   ]
  },
  {
   "cell_type": "code",
   "execution_count": 11,
   "metadata": {
    "collapsed": false
   },
   "outputs": [
    {
     "name": "stdout",
     "output_type": "stream",
     "text": [
      "\r\n",
      "Hello from Docker.\r\n",
      "This message shows that your installation appears to be working correctly.\r\n",
      "\r\n",
      "To generate this message, Docker took the following steps:\r\n",
      " 1. The Docker client contacted the Docker daemon.\r\n",
      " 2. The Docker daemon pulled the \"hello-world\" image from the Docker Hub.\r\n",
      " 3. The Docker daemon created a new container from that image which runs the\r\n",
      "    executable that produces the output you are currently reading.\r\n",
      " 4. The Docker daemon streamed that output to the Docker client, which sent it\r\n",
      "    to your terminal.\r\n",
      "\r\n",
      "To try something more ambitious, you can run an Ubuntu container with:\r\n",
      " $ docker run -it ubuntu bash\r\n",
      "\r\n",
      "Share images, automate workflows, and more with a free Docker Hub account:\r\n",
      " https://hub.docker.com\r\n",
      "\r\n",
      "For more examples and ideas, visit:\r\n",
      " https://docs.docker.com/userguide/\r\n",
      "\r\n"
     ]
    }
   ],
   "source": [
    "docker run hello-world\n",
    "\n",
    "# The second time there is no need to repull the image:"
   ]
  },
  {
   "cell_type": "markdown",
   "metadata": {},
   "source": [
    "Let us inspect the image.  We see that the file is only 960 bytes large, it must be machine code to print out the text.  So we see that an image can be really very small"
   ]
  },
  {
   "cell_type": "code",
   "execution_count": 12,
   "metadata": {
    "collapsed": false
   },
   "outputs": [
    {
     "name": "stdout",
     "output_type": "stream",
     "text": [
      "REPOSITORY          TAG                 IMAGE ID            CREATED             SIZE\r\n",
      "hello-world         latest              690ed74de00f        3 months ago        960 B\r\n"
     ]
    }
   ],
   "source": [
    "docker images hello-world"
   ]
  },
  {
   "cell_type": "markdown",
   "metadata": {},
   "source": [
    "We can also inspect the image with the history command to see how it was constructed.\n",
    "\n",
    "Note that history shows the image layers in reverse order, latest first.\n",
    "\n",
    "From the below command we can see that the image was created from only 2 image layers.\n",
    "\n",
    "The image was built simply by copying in a binary executable and then specifying the default command to invoke when the image is run."
   ]
  },
  {
   "cell_type": "code",
   "execution_count": 13,
   "metadata": {
    "collapsed": false
   },
   "outputs": [
    {
     "name": "stdout",
     "output_type": "stream",
     "text": [
      "IMAGE               CREATED             CREATED BY                                      SIZE                COMMENT\r\n",
      "690ed74de00f        3 months ago        /bin/sh -c #(nop) CMD [\"/hello\"]                0 B                 \r\n",
      "<missing>           3 months ago        /bin/sh -c #(nop) COPY file:1ad52e3eaf4327c8f   960 B               \r\n"
     ]
    }
   ],
   "source": [
    "docker history hello-world"
   ]
  },
  {
   "cell_type": "code",
   "execution_count": 14,
   "metadata": {
    "collapsed": false
   },
   "outputs": [
    {
     "name": "stdout",
     "output_type": "stream",
     "text": [
      "\r\n",
      "Total size (in bytes) of text in 'hello-world' image:\r\n",
      "801\r\n"
     ]
    }
   ],
   "source": [
    "echo\n",
    "echo \"Total size (in bytes) of text in 'hello-world' image:\"\n",
    "docker run hello-world | wc -c"
   ]
  },
  {
   "cell_type": "markdown",
   "metadata": {
    "collapsed": false
   },
   "source": [
    "So we see that 801 bytes of that executable is the actual text printed !\n",
    "So the real program size is roughly 160 bytes (of assembler no doubt)"
   ]
  },
  {
   "cell_type": "markdown",
   "metadata": {},
   "source": [
    "<a name=\"builds\" />\n",
    "## Basic Docker Builds\n",
    "[TOP](#TOP)"
   ]
  },
  {
   "cell_type": "markdown",
   "metadata": {},
   "source": [
    "#### Dockerfile\n",
    "\n",
    "Images are built from Dockerfiles which contain a series of commands used to build up a docker image.\n",
    "Note that each command in the Dockerfile results in a new image layer being created, no matter how trivial the command - even ENV \"commands\" create a new image layer.\n",
    "\n",
    "In the following lab we will see how images can be built systematically from a Dockerfile using the 'docker build' command.\n",
    "\n",
    "#### DockerHub\n",
    "\n",
    "When we pull an image we pull it from a Docker Registry.  The [DockerHub](https://hub.docker.com/) is a free to use Docker registry allowing to store your own image files (which are publicly available unless you pay for your account) and to pull other image files of other users or officially provided images.\n",
    "\n",
    "You can create images either by\n",
    "- building them from a Dockerfile (thus in a **repeatable** manner)\n",
    "- building them manually by modifying a running container and *'commit'*ing it's state\n",
    "\n",
    "The DockerHub contains images which may be\n",
    "- **Automated builds** (built from a git repository)\n",
    "  - Such builds are usually built from an open-source git repo and so are called **Trusted builds** because the source code is available.\n",
    "    *Note:* The github repo may contain binary files though\n",
    "- **Official builds** are builds which are builds provided by partners or by Docker themselves\n",
    "\n",
    "Other images may exist in the hub but their origin is unknown and so represent a security risk.\n",
    "\n",
    "It is possible to search the DockerHub, or another Docker Registry, using the 'docker search' command with appropriate options.  Other companies offer their own Docker Registry which may be freely accessible e.g. RedHat, internal to a company e.g. HPE IT, or available as part of a paid for service e.g. IBM or Amazon Web Services ECS.\n"
   ]
  },
  {
   "cell_type": "code",
   "execution_count": 20,
   "metadata": {
    "collapsed": false
   },
   "outputs": [
    {
     "name": "stdout",
     "output_type": "stream",
     "text": []
    }
   ],
   "source": [
    "cd ~/src/basic"
   ]
  },
  {
   "cell_type": "markdown",
   "metadata": {},
   "source": [
    "In the ~/test folder create a Dockerfile with the contents shown below (the o/p of the cat command).\n",
    "\n",
    "For this you may use vi if you are familiar, otherwise the 'nano' text editor is recommended.\n",
    "\n",
    "Use ctrl-W to write out the file and ctrl-X to quit the editor."
   ]
  },
  {
   "cell_type": "code",
   "execution_count": 25,
   "metadata": {
    "collapsed": false
   },
   "outputs": [
    {
     "name": "stdout",
     "output_type": "stream",
     "text": [
      "#\r\n",
      "# Dockerfile to demonstrate the simplest build\r\n",
      "#\r\n",
      "\r\n",
      "FROM python\r\n",
      "\r\n",
      "MAINTAINER \"Docker Build Lab\" <dockerlabs@mjbright.net>\r\n",
      "\r\n",
      "# NOTE: all RUN commands are executed at build time, look at the output of the \"docker build\"\r\n",
      "#       below and you will see the output of the following line when we build the first time\r\n",
      "#       (i.e. when caching is not used):\r\n",
      "\r\n",
      "RUN echo DATE: This build is being done at $(date)\r\n",
      "#RUN python ‐‐version\r\n",
      "\r\n",
      "CMD bash\r\n",
      "\r\n"
     ]
    }
   ],
   "source": [
    "cat Dockerfile"
   ]
  },
  {
   "cell_type": "code",
   "execution_count": 26,
   "metadata": {
    "collapsed": false
   },
   "outputs": [
    {
     "name": "stdout",
     "output_type": "stream",
     "text": [
      "-rw-rw-r-- 1 vagrant vagrant 439 Feb  8 15:31 Dockerfile\r\n"
     ]
    }
   ],
   "source": [
    "ls -altr Dockerfile"
   ]
  },
  {
   "cell_type": "markdown",
   "metadata": {},
   "source": [
    "We can now build a new image using this dockerfile using the below command where\n",
    "    \n",
    "- we specify the current directory as the context for the build (any ADD/COPY or Dockerfile files will be sourced from here) with\n",
    "    the **'.'** option\n",
    "- we specify the specific tag to use for the generated image as \"*lab/basic*\" with\n",
    "\n",
    "    **-t lab/basic**"
   ]
  },
  {
   "cell_type": "code",
   "execution_count": 27,
   "metadata": {
    "collapsed": false
   },
   "outputs": [
    {
     "name": "stdout",
     "output_type": "stream",
     "text": [
      "Sending build context to Docker daemon 2.048 kB\r",
      "\r",
      "\r\n",
      "Step 1 : FROM python\r\n",
      " ---> 93049cc049a6\r\n",
      "Step 2 : MAINTAINER \"Docker Build Lab\" <dockerlabs@mjbright.net>\r\n",
      " ---> Running in 1e836ce0bd8b\r\n",
      " ---> 265f1e4a525d\r\n",
      "Removing intermediate container 1e836ce0bd8b\r\n",
      "Step 3 : RUN echo DATE: This build is being done at $(date)\r\n",
      " ---> Running in e195f1a8d6fc\r\n",
      "DATE: This build is being done at Mon Feb 8 15:31:23 UTC 2016\r\n",
      " ---> 58100f46a8de\r\n",
      "Removing intermediate container e195f1a8d6fc\r\n",
      "Step 4 : CMD bash\r\n",
      " ---> Running in 6a24b4f9634c\r\n",
      " ---> c028a15ddd50\r\n",
      "Removing intermediate container 6a24b4f9634c\r\n",
      "Successfully built c028a15ddd50\r\n"
     ]
    }
   ],
   "source": [
    "docker build -t lab/basic . "
   ]
  },
  {
   "cell_type": "markdown",
   "metadata": {},
   "source": [
    "Note that during the build, the RUN commands are actually run.\n",
    "\n",
    "They are used to build up this new image.\n",
    "\n",
    "In this case we echo the 'Python' version string during the build process.\n",
    "\n",
    "You can see the available options to the build command by issuing\n",
    " 'docker build --help'"
   ]
  },
  {
   "cell_type": "code",
   "execution_count": 28,
   "metadata": {
    "collapsed": false
   },
   "outputs": [
    {
     "name": "stdout",
     "output_type": "stream",
     "text": [
      "\r\n",
      "Usage:\tdocker build [OPTIONS] PATH | URL | -\r\n",
      "\r\n",
      "Build an image from a Dockerfile\r\n",
      "\r\n",
      "  --build-arg=[]                  Set build-time variables\r\n",
      "  --cpu-shares                    CPU shares (relative weight)\r\n",
      "  --cgroup-parent                 Optional parent cgroup for the container\r\n",
      "  --cpu-period                    Limit the CPU CFS (Completely Fair Scheduler) period\r\n",
      "  --cpu-quota                     Limit the CPU CFS (Completely Fair Scheduler) quota\r\n",
      "  --cpuset-cpus                   CPUs in which to allow execution (0-3, 0,1)\r\n",
      "  --cpuset-mems                   MEMs in which to allow execution (0-3, 0,1)\r\n",
      "  --disable-content-trust=true    Skip image verification\r\n",
      "  -f, --file                      Name of the Dockerfile (Default is 'PATH/Dockerfile')\r\n",
      "  --force-rm                      Always remove intermediate containers\r\n",
      "  --help                          Print usage\r\n",
      "  --isolation                     Container isolation level\r\n",
      "  -m, --memory                    Memory limit\r\n",
      "  --memory-swap                   Swap limit equal to memory plus swap: '-1' to enable unlimited swap\r\n",
      "  --no-cache                      Do not use cache when building the image\r\n",
      "  --pull                          Always attempt to pull a newer version of the image\r\n",
      "  -q, --quiet                     Suppress the build output and print image ID on success\r\n",
      "  --rm=true                       Remove intermediate containers after a successful build\r\n",
      "  --shm-size                      Size of /dev/shm, default value is 64MB\r\n",
      "  -t, --tag=[]                    Name and optionally a tag in the 'name:tag' format\r\n",
      "  --ulimit=[]                     Ulimit options\r\n"
     ]
    }
   ],
   "source": [
    "docker build --help"
   ]
  },
  {
   "cell_type": "markdown",
   "metadata": {},
   "source": [
    "We can see all the images available using the\n",
    " 'docker images' command\n",
    " \n",
    "but if there are many, how do we see just our newly-created image?\n",
    "\n",
    "You can see the available options to the images command by issuing\n",
    " 'docker images --help'"
   ]
  },
  {
   "cell_type": "code",
   "execution_count": 29,
   "metadata": {
    "collapsed": false
   },
   "outputs": [
    {
     "name": "stdout",
     "output_type": "stream",
     "text": [
      "\r\n",
      "Usage:\tdocker images [OPTIONS] [REPOSITORY[:TAG]]\r\n",
      "\r\n",
      "List images\r\n",
      "\r\n",
      "  -a, --all          Show all images (default hides intermediate images)\r\n",
      "  --digests          Show digests\r\n",
      "  -f, --filter=[]    Filter output based on conditions provided\r\n",
      "  --format           Pretty-print images using a Go template\r\n",
      "  --help             Print usage\r\n",
      "  --no-trunc         Don't truncate output\r\n",
      "  -q, --quiet        Only show numeric IDs\r\n"
     ]
    }
   ],
   "source": [
    "docker images --help"
   ]
  },
  {
   "cell_type": "markdown",
   "metadata": {},
   "source": [
    "So you can see your newly built 'lab/basic' with the following command:"
   ]
  },
  {
   "cell_type": "code",
   "execution_count": 30,
   "metadata": {
    "collapsed": false
   },
   "outputs": [
    {
     "name": "stdout",
     "output_type": "stream",
     "text": [
      "REPOSITORY          TAG                 IMAGE ID            CREATED             SIZE\r\n",
      "lab/basic           latest              c028a15ddd50        18 seconds ago      689.1 MB\r\n"
     ]
    }
   ],
   "source": [
    "docker images lab/basic"
   ]
  },
  {
   "cell_type": "markdown",
   "metadata": {},
   "source": [
    "Note that if you rerun the build command, the build should run faster, you will notice how build steps recognize that this step has already been performed and so will use the image layer already available in the local cache."
   ]
  },
  {
   "cell_type": "markdown",
   "metadata": {},
   "source": [
    "Now let us see what happens if we modify our Dockerfile, by inserting a line, such as defining an environment variable.\n",
    "\n",
    "We will use the same Dockerfile, but this time we will insert an \"ENV\" line\n"
   ]
  },
  {
   "cell_type": "code",
   "execution_count": 31,
   "metadata": {
    "collapsed": false
   },
   "outputs": [
    {
     "name": "stdout",
     "output_type": "stream",
     "text": []
    }
   ],
   "source": [
    "cd ~/src/basic/"
   ]
  },
  {
   "cell_type": "markdown",
   "metadata": {},
   "source": [
    "Now edit the Dockerfile to have the contents as shown below (the o/p of the cat command)."
   ]
  },
  {
   "cell_type": "code",
   "execution_count": 32,
   "metadata": {
    "collapsed": false
   },
   "outputs": [
    {
     "name": "stdout",
     "output_type": "stream",
     "text": [
      "#\r\n",
      "# Dockerfile to demonstrate the simplest build\r\n",
      "#\r\n",
      "\r\n",
      "FROM python\r\n",
      "\r\n",
      "MAINTAINER \"Docker Build Lab\" <dockerlabs@mjbright.net>\r\n",
      "\r\n",
      "# NOTE: all RUN commands are executed at build time, look at the output of the \"docker build\"\r\n",
      "#       below and you will see the output of the following line when we build the first time\r\n",
      "#       (i.e. when caching is not used):\r\n",
      "\r\n",
      "RUN echo DATE: This build is being done at $(date)\r\n",
      "#RUN python ‐‐version\r\n",
      "\r\n",
      "ENV myVar=anythingReally\r\n",
      "\r\n",
      "CMD bash\r\n",
      "\r\n"
     ]
    }
   ],
   "source": [
    "cat Dockerfile"
   ]
  },
  {
   "cell_type": "markdown",
   "metadata": {},
   "source": [
    "This time when we build the image we will see that the addition of a line between the \"RUN\" line and the \"CMD\" line forces rebuild of subsequent image layers.\n",
    "\n",
    "**We see 'Using cache' for Step 2 and 3 only**"
   ]
  },
  {
   "cell_type": "code",
   "execution_count": 33,
   "metadata": {
    "collapsed": false
   },
   "outputs": [
    {
     "name": "stdout",
     "output_type": "stream",
     "text": [
      "Sending build context to Docker daemon 2.048 kB\r",
      "\r",
      "\r\n",
      "Step 1 : FROM python\r\n",
      " ---> 93049cc049a6\r\n",
      "Step 2 : MAINTAINER \"Docker Build Lab\" <dockerlabs@mjbright.net>\r\n",
      " ---> Using cache\r\n",
      " ---> 265f1e4a525d\r\n",
      "Step 3 : RUN echo DATE: This build is being done at $(date)\r\n",
      " ---> Using cache\r\n",
      " ---> 58100f46a8de\r\n",
      "Step 4 : ENV myVar anythingReally\r\n",
      " ---> Running in 86c9262af943\r\n",
      " ---> f493d0962635\r\n",
      "Removing intermediate container 86c9262af943\r\n",
      "Step 5 : CMD bash\r\n",
      " ---> Running in 42344c05af2a\r\n",
      " ---> 6566cf6ed29d\r\n",
      "Removing intermediate container 42344c05af2a\r\n",
      "Successfully built 6566cf6ed29d\r\n"
     ]
    }
   ],
   "source": [
    "docker build -t lab/basic . "
   ]
  },
  {
   "cell_type": "markdown",
   "metadata": {},
   "source": [
    "Similarly we can force to not use the cache with the --no-cache option.\n",
    "\n",
    "This could be useful if we suspect the caching is not working properly due to some external change."
   ]
  },
  {
   "cell_type": "code",
   "execution_count": 34,
   "metadata": {
    "collapsed": false
   },
   "outputs": [
    {
     "name": "stdout",
     "output_type": "stream",
     "text": [
      "Sending build context to Docker daemon 2.048 kB\r",
      "\r",
      "\r\n",
      "Step 1 : FROM python\r\n",
      " ---> 93049cc049a6\r\n",
      "Step 2 : MAINTAINER \"Docker Build Lab\" <dockerlabs@mjbright.net>\r\n",
      " ---> Running in 352ab6578552\r\n",
      " ---> c5efd78c5c14\r\n",
      "Removing intermediate container 352ab6578552\r\n",
      "Step 3 : RUN echo DATE: This build is being done at $(date)\r\n",
      " ---> Running in 2be6e59360a4\r\n",
      "DATE: This build is being done at Mon Feb 8 15:35:15 UTC 2016\r\n",
      " ---> 77f9a84551cc\r\n",
      "Removing intermediate container 2be6e59360a4\r\n",
      "Step 4 : ENV myVar anythingReally\r\n",
      " ---> Running in f56c83b6c061\r\n",
      " ---> e7e8c2a26251\r\n",
      "Removing intermediate container f56c83b6c061\r\n",
      "Step 5 : CMD bash\r\n",
      " ---> Running in afdea0bc90b9\r\n",
      " ---> e3d7946e9d93\r\n",
      "Removing intermediate container afdea0bc90b9\r\n",
      "Successfully built e3d7946e9d93\r\n"
     ]
    }
   ],
   "source": [
    "docker build --no-cache -t lab/basic . "
   ]
  },
  {
   "cell_type": "code",
   "execution_count": 35,
   "metadata": {
    "collapsed": false
   },
   "outputs": [
    {
     "name": "stdout",
     "output_type": "stream",
     "text": [
      "REPOSITORY          TAG                 IMAGE ID            CREATED             SIZE\r\n",
      "lab/basic           latest              e3d7946e9d93        12 seconds ago      689.1 MB\r\n"
     ]
    }
   ],
   "source": [
    "docker images lab/basic"
   ]
  },
  {
   "cell_type": "markdown",
   "metadata": {},
   "source": [
    "<a name=\"small-images\" />\n",
    "## Creating small images\n",
    "[TOP](#TOP)\n",
    "\n",
    "<a name=\"small-c\" />\n",
    "## Creating a small C Docker image\n",
    "[TOP](#TOP)\n",
    "\n",
    "In this example we show how we can create a Docker image from a statically-linked binary.\n",
    "\n",
    "<font size=+1 color=\"#77f\">\n",
    "<b>The goal of this step is to show that we do not need an Operating System image for a Docker container.</b>\n",
    "</font>\n",
    "\n",
    "All we need is a self-contained binary - i.e. statically linked binary.\n",
    "\n",
    "Of course a dynamically linked binary could also be used, but in this case it's more complicated as you would have to manually add all it's dependent libraries.  Let's let gcc to do that work for us!\n",
    "\n",
    "This section comprises 2 things\n",
    "- A Dockerfile to build our image from a static binary\n",
    "  Note that it starts with \"FROM scratch\".\n",
    "  Scratch is a special 'empty' image\n",
    "- helloFromDocker.c\n",
    "  "
   ]
  },
  {
   "cell_type": "markdown",
   "metadata": {},
   "source": [
    "So first let's build our static binary"
   ]
  },
  {
   "cell_type": "code",
   "execution_count": 36,
   "metadata": {
    "collapsed": false
   },
   "outputs": [
    {
     "name": "stdout",
     "output_type": "stream",
     "text": [
      "-rwxrwxr-x 1 vagrant vagrant 857K Feb  8 15:35 helloWorld\r\n"
     ]
    }
   ],
   "source": [
    "cd ~/src/createTinyC/\n",
    "\n",
    "# For RHEL/Fedora/Centos only:\n",
    "# First we must install *glibc-static*\n",
    "#yum install -y glibc-static\n",
    "\n",
    "gcc -static helloWorld.c -o helloWorld\n",
    "\n",
    "ls -alh helloWorld"
   ]
  },
  {
   "cell_type": "markdown",
   "metadata": {},
   "source": [
    "So we see that this created a binary file of approximately 857kby.\n",
    "\n",
    "Now let's build our Docker image containing this binary.\n",
    "\n",
    "You will need to recreate the Dockerfile as follows:"
   ]
  },
  {
   "cell_type": "code",
   "execution_count": 37,
   "metadata": {
    "collapsed": false
   },
   "outputs": [
    {
     "name": "stdout",
     "output_type": "stream",
     "text": [
      "\r\n",
      "FROM scratch\r\n",
      "MAINTAINER \"Docker Build Lab\" <dockerlabs@mjbright.net>\r\n",
      "\r\n",
      "ADD ./helloWorld /helloWorld\r\n",
      "CMD [\"/helloWorld\"]\r\n",
      "\r\n"
     ]
    }
   ],
   "source": [
    "cat Dockerfile"
   ]
  },
  {
   "cell_type": "code",
   "execution_count": 38,
   "metadata": {
    "collapsed": false
   },
   "outputs": [
    {
     "name": "stdout",
     "output_type": "stream",
     "text": [
      "Sending build context to Docker daemon 557.1 kB\r",
      "Sending build context to Docker daemon 882.2 kB\r",
      "\r",
      "\r\n",
      "Step 1 : FROM scratch\r\n",
      " ---> \r\n",
      "Step 2 : MAINTAINER \"Docker Build Lab\" <dockerlabs@mjbright.net>\r\n",
      " ---> Using cache\r\n",
      " ---> 8e9605157ccf\r\n",
      "Step 3 : ADD ./helloWorld /helloWorld\r\n",
      " ---> Using cache\r\n",
      " ---> bde06bb6dcf5\r\n",
      "Step 4 : CMD /helloWorld\r\n",
      " ---> Using cache\r\n",
      " ---> 659400ddd8d4\r\n",
      "Successfully built 659400ddd8d4\r\n"
     ]
    }
   ],
   "source": [
    "docker build -t lab/c_prog ."
   ]
  },
  {
   "cell_type": "markdown",
   "metadata": {},
   "source": [
    "If we now look at the generated Docker image (below) we see an image of about 877kby.\n",
    "\n",
    "So whilst this is larger than the 1kby hello-world image (no doubt written in assembler) it is still a very small Docker image which is only 20kbytes larger than the original binary file."
   ]
  },
  {
   "cell_type": "code",
   "execution_count": 39,
   "metadata": {
    "collapsed": false
   },
   "outputs": [
    {
     "name": "stdout",
     "output_type": "stream",
     "text": [
      "REPOSITORY          TAG                 IMAGE ID            CREATED             SIZE\r\n",
      "lab/c_prog          latest              659400ddd8d4        17 hours ago        877.2 kB\r\n"
     ]
    }
   ],
   "source": [
    "docker images lab/c_prog"
   ]
  },
  {
   "cell_type": "markdown",
   "metadata": {},
   "source": [
    "And now let's run that image"
   ]
  },
  {
   "cell_type": "code",
   "execution_count": 40,
   "metadata": {
    "collapsed": false
   },
   "outputs": [
    {
     "name": "stdout",
     "output_type": "stream",
     "text": [
      "Hello World!!\r\n"
     ]
    }
   ],
   "source": [
    "docker run lab/c_prog"
   ]
  },
  {
   "cell_type": "code",
   "execution_count": 41,
   "metadata": {
    "collapsed": false
   },
   "outputs": [
    {
     "name": "stdout",
     "output_type": "stream",
     "text": [
      "IMAGE               CREATED             CREATED BY                                      SIZE                COMMENT\r\n",
      "659400ddd8d4        17 hours ago        /bin/sh -c #(nop) CMD [\"/helloWorld\"]           0 B                 \r\n",
      "bde06bb6dcf5        17 hours ago        /bin/sh -c #(nop) ADD file:eb1f2e0a74291359d0   877.2 kB            \r\n",
      "8e9605157ccf        17 hours ago        /bin/sh -c #(nop) MAINTAINER \"Docker Build La   0 B                 \r\n"
     ]
    }
   ],
   "source": [
    "docker history lab/c_prog"
   ]
  },
  {
   "cell_type": "markdown",
   "metadata": {},
   "source": [
    "<a name=\"small-go\" />\n",
    "## Creating a small Go Docker image\n",
    "[TOP](#TOP)\n",
    "\n",
    "That's fine, but isn't Go taking over the world as a systems language?\n",
    "Docker, Kubernetes, LXD, Rocket, ... many new tools are being written in Go.\n",
    "\n",
    "Let's see how we can do the same exercise but building a Go statically-linked binary.\n",
    "\n",
    "<font size=+1 color=\"#77f\">\n",
    "<b>The goal of this step is as the previous step (building an image from a single statically-linked binary) but using Go, but also to demonstrate how we can use a Docker image containing a Go compiler, rather than explicitly installing a compiler.</b>\n",
    "</font>\n",
    "\n",
    "**NOTE:** We will do this **without** 'installing a Go compiler'\n",
    "\n",
    "\n",
    "\n",
    "  "
   ]
  },
  {
   "cell_type": "code",
   "execution_count": 42,
   "metadata": {
    "collapsed": false
   },
   "outputs": [
    {
     "name": "stdout",
     "output_type": "stream",
     "text": [
      "\r\n",
      "FROM scratch\r\n",
      "MAINTAINER \"Docker Build Lab\" <dockerlabs@mjbright.net>\r\n",
      "\r\n",
      "ADD ./hello /hello\r\n",
      "CMD [\"/hello\"]\r\n",
      "\r\n"
     ]
    }
   ],
   "source": [
    "cd ~/src/createTinyGo\n",
    "cat Dockerfile"
   ]
  },
  {
   "cell_type": "markdown",
   "metadata": {},
   "source": [
    "**NOW we invoke the golang container** to build our go source code.\n",
    "\n",
    "The following docker run\n",
    "- mounts the current directory ($PWD) as /go within the container\n",
    "- launches a container of the **golang** image which contains the go compiler\n",
    "- invokes the command \"go build -v hello\" on the container to build the sources for the \"hello.go\" code.\n",
    "\n",
    "The hello.go code is located under src/hello/hello.go.\n",
    "\n",
    "This is a Go convention.\n",
    "\n",
    "**NOTE:** The important thing to note here is that the compiler is within the image.  We did not need to install a native Go compiler, we used an image which contains the compiler and by mounting the current directory the container can read the source code and write the executable outside the container.  This is a nice pattern of providing a tool within a container.\n"
   ]
  },
  {
   "cell_type": "code",
   "execution_count": 43,
   "metadata": {
    "collapsed": false
   },
   "outputs": [
    {
     "name": "stdout",
     "output_type": "stream",
     "text": [
      "Unable to find image 'golang:latest' locally\r\n",
      "latest: Pulling from library/golang\r\n",
      "\u001b[0B\r\n",
      "\u001b[0A\u001b[2K\r",
      "03e1855d4f31: Already exists \r",
      "\u001b[0B\r\n",
      "\u001b[0A\u001b[2K\r",
      "a3ed95caeb02: Already exists \r",
      "\u001b[0B\r\n",
      "\u001b[0A\u001b[2K\r",
      "9269ba3950bb: Already exists \r",
      "\u001b[0B\r\n",
      "\u001b[0A\u001b[2K\r",
      "6ecee6444751: Already exists \r",
      "\u001b[0B\r\n",
      "\u001b[0A\u001b[2K\r",
      "2e4b04ba35ce: Pulling fs layer \r",
      "\u001b[0B\u001b[4A\u001b[2K\r",
      "a3ed95caeb02: Pulling fs layer \r",
      "\u001b[4B\r\n",
      "\u001b[0A\u001b[2K\r",
      "8ccc76a74787: Pulling fs layer \r",
      "\u001b[0B\r\n",
      "\u001b[0A\u001b[2K\r",
      "70fd525fbd3f: Pulling fs layer \r",
      "\u001b[0B\r\n",
      "\u001b[0A\u001b[2K\r",
      "61b488f1b063: Pulling fs layer \r",
      "\u001b[0B\u001b[2A\u001b[2K\r",
      "70fd525fbd3f: Waiting \r",
      "\u001b[2B\u001b[1A\u001b[2K\r",
      "61b488f1b063: Waiting \r",
      "\u001b[1B\u001b[7A\u001b[2K\r",
      "a3ed95caeb02: Downloading     32 B/32 B\r",
      "\u001b[7B\u001b[7A\u001b[2K\r",
      "a3ed95caeb02: Verifying Checksum \r",
      "\u001b[7B\u001b[7A\u001b[2K\r",
      "a3ed95caeb02: Download complete \r",
      "\u001b[7B\u001b[4A\u001b[2K\r",
      "2e4b04ba35ce: Downloading 539.8 kB/56.89 MB\r",
      "\u001b[4B\u001b[3A\u001b[2K\r",
      "8ccc76a74787: Downloading 539.8 kB/80.15 MB\r",
      "\u001b[3B\u001b[4A\u001b[2K\r",
      "2e4b04ba35ce: Downloading 1.066 MB/56.89 MB\r",
      "\u001b[4B\u001b[4A\u001b[2K\r",
      "2e4b04ba35ce: Downloading 1.606 MB/56.89 MB\r",
      "\u001b[4B\u001b[4A\u001b[2K\r",
      "2e4b04ba35ce: Downloading 2.147 MB/56.89 MB\r",
      "\u001b[4B\u001b[3A\u001b[2K\r",
      "8ccc76a74787: Downloading  1.08 MB/80.15 MB\r",
      "\u001b[3B\u001b[4A\u001b[2K\r",
      "2e4b04ba35ce: Downloading 2.688 MB/56.89 MB\r",
      "\u001b[4B\u001b[4A\u001b[2K\r",
      "2e4b04ba35ce: Downloading 3.228 MB/56.89 MB\r",
      "\u001b[4B\u001b[4A\u001b[2K\r",
      "2e4b04ba35ce: Downloading 3.769 MB/56.89 MB\r",
      "\u001b[4B\u001b[3A\u001b[2K\r",
      "8ccc76a74787: Downloading 1.621 MB/80.15 MB\r",
      "\u001b[3B\u001b[4A\u001b[2K\r",
      "2e4b04ba35ce: Downloading 4.308 MB/56.89 MB\r",
      "\u001b[4B\u001b[4A\u001b[2K\r",
      "2e4b04ba35ce: Downloading 4.848 MB/56.89 MB\r",
      "\u001b[4B\u001b[3A\u001b[2K\r",
      "8ccc76a74787: Downloading 2.162 MB/80.15 MB\r",
      "\u001b[3B\u001b[4A\u001b[2K\r",
      "2e4b04ba35ce: Downloading 5.389 MB/56.89 MB\r",
      "\u001b[4B\u001b[4A\u001b[2K\r",
      "2e4b04ba35ce: Downloading  5.93 MB/56.89 MB\r",
      "\u001b[4B\u001b[4A\u001b[2K\r",
      "2e4b04ba35ce: Downloading  6.47 MB/56.89 MB\r",
      "\u001b[4B\u001b[3A\u001b[2K\r",
      "8ccc76a74787: Downloading 2.702 MB/80.15 MB\r",
      "\u001b[3B\u001b[4A\u001b[2K\r",
      "2e4b04ba35ce: Downloading 7.011 MB/56.89 MB\r",
      "\u001b[4B\u001b[4A\u001b[2K\r",
      "2e4b04ba35ce: Downloading 7.552 MB/56.89 MB\r",
      "\u001b[4B\u001b[4A\u001b[2K\r",
      "2e4b04ba35ce: Downloading 8.092 MB/56.89 MB\r",
      "\u001b[4B\u001b[3A\u001b[2K\r",
      "8ccc76a74787: Downloading 3.243 MB/80.15 MB\r",
      "\u001b[3B\u001b[4A\u001b[2K\r",
      "2e4b04ba35ce: Downloading 8.633 MB/56.89 MB\r",
      "\u001b[4B\u001b[4A\u001b[2K\r",
      "2e4b04ba35ce: Downloading 9.174 MB/56.89 MB\r",
      "\u001b[4B\u001b[4A\u001b[2K\r",
      "2e4b04ba35ce: Downloading 9.714 MB/56.89 MB\r",
      "\u001b[4B\u001b[4A\u001b[2K\r",
      "2e4b04ba35ce: Downloading 10.26 MB/56.89 MB\r",
      "\u001b[4B\u001b[3A\u001b[2K\r",
      "8ccc76a74787: Downloading 3.784 MB/80.15 MB\r",
      "\u001b[3B\u001b[4A\u001b[2K\r",
      "2e4b04ba35ce: Downloading  10.8 MB/56.89 MB\r",
      "\u001b[4B\u001b[4A\u001b[2K\r",
      "2e4b04ba35ce: Downloading 11.34 MB/56.89 MB\r",
      "\u001b[4B\u001b[4A\u001b[2K\r",
      "2e4b04ba35ce: Downloading 11.88 MB/56.89 MB\r",
      "\u001b[4B\u001b[4A\u001b[2K\r",
      "2e4b04ba35ce: Downloading 12.42 MB/56.89 MB\r",
      "\u001b[4B\u001b[3A\u001b[2K\r",
      "8ccc76a74787: Downloading 4.324 MB/80.15 MB\r",
      "\u001b[3B\u001b[4A\u001b[2K\r",
      "2e4b04ba35ce: Downloading 12.96 MB/56.89 MB\r",
      "\u001b[4B\u001b[4A\u001b[2K\r",
      "2e4b04ba35ce: Downloading  13.5 MB/56.89 MB\r",
      "\u001b[4B\u001b[4A\u001b[2K\r",
      "2e4b04ba35ce: Downloading 14.04 MB/56.89 MB\r",
      "\u001b[4B\u001b[3A\u001b[2K\r",
      "8ccc76a74787: Downloading 4.865 MB/80.15 MB\r",
      "\u001b[3B\u001b[4A\u001b[2K\r",
      "2e4b04ba35ce: Downloading 14.58 MB/56.89 MB\r",
      "\u001b[4B\u001b[4A\u001b[2K\r",
      "2e4b04ba35ce: Downloading 15.12 MB/56.89 MB\r",
      "\u001b[4B\u001b[4A\u001b[2K\r",
      "2e4b04ba35ce: Downloading 15.66 MB/56.89 MB\r",
      "\u001b[4B\u001b[2A\u001b[2K\r",
      "70fd525fbd3f: Downloading    123 B/123 B\r",
      "\u001b[2B\u001b[2A\u001b[2K\r",
      "70fd525fbd3f: Verifying Checksum \r",
      "\u001b[2B\u001b[2A\u001b[2K\r",
      "70fd525fbd3f: Download complete \r",
      "\u001b[2B\u001b[3A\u001b[2K\r",
      "8ccc76a74787: Downloading 5.406 MB/80.15 MB\r",
      "\u001b[3B\u001b[4A\u001b[2K\r",
      "2e4b04ba35ce: Downloading  16.2 MB/56.89 MB\r",
      "\u001b[4B\u001b[4A\u001b[2K\r",
      "2e4b04ba35ce: Downloading 16.74 MB/56.89 MB\r",
      "\u001b[4B\u001b[4A\u001b[2K\r",
      "2e4b04ba35ce: Downloading 17.28 MB/56.89 MB\r",
      "\u001b[4B\u001b[3A\u001b[2K\r",
      "8ccc76a74787: Downloading 5.946 MB/80.15 MB\r",
      "\u001b[3B\u001b[4A\u001b[2K\r",
      "2e4b04ba35ce: Downloading 17.82 MB/56.89 MB\r",
      "\u001b[4B\u001b[4A\u001b[2K\r",
      "2e4b04ba35ce: Downloading 18.37 MB/56.89 MB\r",
      "\u001b[4B\u001b[3A\u001b[2K\r",
      "8ccc76a74787: Downloading 6.487 MB/80.15 MB\r",
      "\u001b[3B\u001b[4A\u001b[2K\r",
      "2e4b04ba35ce: Downloading 18.91 MB/56.89 MB\r",
      "\u001b[4B\u001b[4A\u001b[2K\r",
      "2e4b04ba35ce: Downloading 19.45 MB/56.89 MB\r",
      "\u001b[4B\u001b[4A\u001b[2K\r",
      "2e4b04ba35ce: Downloading 19.99 MB/56.89 MB\r",
      "\u001b[4B\u001b[3A\u001b[2K\r",
      "8ccc76a74787: Downloading 7.028 MB/80.15 MB\r",
      "\u001b[3B\u001b[4A\u001b[2K\r",
      "2e4b04ba35ce: Downloading 20.53 MB/56.89 MB\r",
      "\u001b[4B\u001b[4A\u001b[2K\r",
      "2e4b04ba35ce: Downloading 21.07 MB/56.89 MB\r",
      "\u001b[4B\u001b[3A\u001b[2K\r",
      "8ccc76a74787: Downloading 7.569 MB/80.15 MB\r",
      "\u001b[3B\u001b[4A\u001b[2K\r",
      "2e4b04ba35ce: Downloading 21.61 MB/56.89 MB\r",
      "\u001b[4B\u001b[4A\u001b[2K\r",
      "2e4b04ba35ce: Downloading 22.15 MB/56.89 MB\r",
      "\u001b[4B\u001b[3A\u001b[2K\r",
      "8ccc76a74787: Downloading 8.109 MB/80.15 MB\r",
      "\u001b[3B\u001b[4A\u001b[2K\r",
      "2e4b04ba35ce: Downloading 22.69 MB/56.89 MB\r",
      "\u001b[4B\u001b[4A\u001b[2K\r",
      "2e4b04ba35ce: Downloading 23.23 MB/56.89 MB\r",
      "\u001b[4B\u001b[3A\u001b[2K\r",
      "8ccc76a74787: Downloading  8.65 MB/80.15 MB\r",
      "\u001b[3B\u001b[4A\u001b[2K\r",
      "2e4b04ba35ce: Downloading 23.77 MB/56.89 MB\r",
      "\u001b[4B\u001b[4A\u001b[2K\r",
      "2e4b04ba35ce: Downloading 24.31 MB/56.89 MB\r",
      "\u001b[4B\u001b[3A\u001b[2K\r",
      "8ccc76a74787: Downloading 9.191 MB/80.15 MB\r",
      "\u001b[3B\u001b[1A\u001b[2K\r",
      "61b488f1b063: Downloading 1.353 kB/1.353 kB\r",
      "\u001b[1B\u001b[1A\u001b[2K\r",
      "61b488f1b063: Verifying Checksum \r",
      "\u001b[1B\u001b[1A\u001b[2K\r",
      "61b488f1b063: Download complete \r",
      "\u001b[1B\u001b[4A\u001b[2K\r",
      "2e4b04ba35ce: Downloading 24.85 MB/56.89 MB\r",
      "\u001b[4B\u001b[4A\u001b[2K\r",
      "2e4b04ba35ce: Downloading 25.39 MB/56.89 MB\r",
      "\u001b[4B\u001b[3A\u001b[2K\r",
      "8ccc76a74787: Downloading 9.731 MB/80.15 MB\r",
      "\u001b[3B\u001b[4A\u001b[2K\r",
      "2e4b04ba35ce: Downloading 25.93 MB/56.89 MB\r",
      "\u001b[4B\u001b[3A\u001b[2K\r",
      "8ccc76a74787: Downloading 10.27 MB/80.15 MB\r",
      "\u001b[3B\u001b[4A\u001b[2K\r",
      "2e4b04ba35ce: Downloading 26.47 MB/56.89 MB\r",
      "\u001b[4B\u001b[4A\u001b[2K\r",
      "2e4b04ba35ce: Downloading 27.02 MB/56.89 MB\r",
      "\u001b[4B\u001b[3A\u001b[2K\r",
      "8ccc76a74787: Downloading 10.81 MB/80.15 MB\r",
      "\u001b[3B\u001b[4A\u001b[2K\r",
      "2e4b04ba35ce: Downloading 27.56 MB/56.89 MB\r",
      "\u001b[4B\u001b[3A\u001b[2K\r",
      "8ccc76a74787: Downloading 11.35 MB/80.15 MB\r",
      "\u001b[3B\u001b[4A\u001b[2K\r",
      "2e4b04ba35ce: Downloading  28.1 MB/56.89 MB\r",
      "\u001b[4B\u001b[3A\u001b[2K\r",
      "8ccc76a74787: Downloading 11.89 MB/80.15 MB\r",
      "\u001b[3B\u001b[4A\u001b[2K\r",
      "2e4b04ba35ce: Downloading 28.64 MB/56.89 MB\r",
      "\u001b[4B\u001b[4A\u001b[2K\r",
      "2e4b04ba35ce: Downloading 29.18 MB/56.89 MB\r",
      "\u001b[4B\u001b[3A\u001b[2K\r",
      "8ccc76a74787: Downloading 12.43 MB/80.15 MB\r",
      "\u001b[3B\u001b[4A\u001b[2K\r",
      "2e4b04ba35ce: Downloading 29.72 MB/56.89 MB\r",
      "\u001b[4B\u001b[3A\u001b[2K\r",
      "8ccc76a74787: Downloading 12.98 MB/80.15 MB\r",
      "\u001b[3B\u001b[4A\u001b[2K\r",
      "2e4b04ba35ce: Downloading 30.26 MB/56.89 MB\r",
      "\u001b[4B\u001b[3A\u001b[2K\r",
      "8ccc76a74787: Downloading 13.52 MB/80.15 MB\r",
      "\u001b[3B\u001b[4A\u001b[2K\r",
      "2e4b04ba35ce: Downloading  30.8 MB/56.89 MB\r",
      "\u001b[4B\u001b[3A\u001b[2K\r",
      "8ccc76a74787: Downloading 14.06 MB/80.15 MB\r",
      "\u001b[3B\u001b[4A\u001b[2K\r",
      "2e4b04ba35ce: Downloading 31.34 MB/56.89 MB\r",
      "\u001b[4B\u001b[4A\u001b[2K\r",
      "2e4b04ba35ce: Downloading 31.88 MB/56.89 MB\r",
      "\u001b[4B\u001b[3A\u001b[2K\r",
      "8ccc76a74787: Downloading  14.6 MB/80.15 MB\r",
      "\u001b[3B\u001b[4A\u001b[2K\r",
      "2e4b04ba35ce: Downloading 32.42 MB/56.89 MB\r",
      "\u001b[4B\u001b[3A\u001b[2K\r",
      "8ccc76a74787: Downloading 15.14 MB/80.15 MB\r",
      "\u001b[3B\u001b[4A\u001b[2K\r",
      "2e4b04ba35ce: Downloading 32.96 MB/56.89 MB\r",
      "\u001b[4B\u001b[4A\u001b[2K\r",
      "2e4b04ba35ce: Downloading  33.5 MB/56.89 MB\r",
      "\u001b[4B\u001b[3A\u001b[2K\r",
      "8ccc76a74787: Downloading 15.68 MB/80.15 MB\r",
      "\u001b[3B\u001b[4A\u001b[2K\r",
      "2e4b04ba35ce: Downloading 34.04 MB/56.89 MB\r",
      "\u001b[4B\u001b[3A\u001b[2K\r",
      "8ccc76a74787: Downloading 16.22 MB/80.15 MB\r",
      "\u001b[3B\u001b[4A\u001b[2K\r",
      "2e4b04ba35ce: Downloading 34.58 MB/56.89 MB\r",
      "\u001b[4B\u001b[4A\u001b[2K\r",
      "2e4b04ba35ce: Downloading 35.13 MB/56.89 MB\r",
      "\u001b[4B\u001b[3A\u001b[2K\r",
      "8ccc76a74787: Downloading 16.76 MB/80.15 MB\r",
      "\u001b[3B\u001b[4A\u001b[2K\r",
      "2e4b04ba35ce: Downloading 35.67 MB/56.89 MB\r",
      "\u001b[4B\u001b[3A\u001b[2K\r",
      "8ccc76a74787: Downloading  17.3 MB/80.15 MB\r",
      "\u001b[3B\u001b[4A\u001b[2K\r",
      "2e4b04ba35ce: Downloading 36.21 MB/56.89 MB\r",
      "\u001b[4B\u001b[4A\u001b[2K\r",
      "2e4b04ba35ce: Downloading 36.75 MB/56.89 MB\r",
      "\u001b[4B\u001b[3A\u001b[2K\r",
      "8ccc76a74787: Downloading 17.84 MB/80.15 MB\r",
      "\u001b[3B\u001b[4A\u001b[2K\r",
      "2e4b04ba35ce: Downloading 37.29 MB/56.89 MB\r",
      "\u001b[4B\u001b[3A\u001b[2K\r",
      "8ccc76a74787: Downloading 18.38 MB/80.15 MB\r",
      "\u001b[3B\u001b[4A\u001b[2K\r",
      "2e4b04ba35ce: Downloading 37.83 MB/56.89 MB\r",
      "\u001b[4B\u001b[4A\u001b[2K\r",
      "2e4b04ba35ce: Downloading 38.37 MB/56.89 MB\r",
      "\u001b[4B\u001b[3A\u001b[2K\r",
      "8ccc76a74787: Downloading 18.92 MB/80.15 MB\r",
      "\u001b[3B\u001b[4A\u001b[2K\r",
      "2e4b04ba35ce: Downloading 38.91 MB/56.89 MB\r",
      "\u001b[4B\u001b[3A\u001b[2K\r",
      "8ccc76a74787: Downloading 19.46 MB/80.15 MB\r",
      "\u001b[3B\u001b[4A\u001b[2K\r",
      "2e4b04ba35ce: Downloading 39.44 MB/56.89 MB\r",
      "\u001b[4B\u001b[4A\u001b[2K\r",
      "2e4b04ba35ce: Downloading 39.98 MB/56.89 MB\r",
      "\u001b[4B\u001b[3A\u001b[2K\r",
      "8ccc76a74787: Downloading    20 MB/80.15 MB\r",
      "\u001b[3B\u001b[4A\u001b[2K\r",
      "2e4b04ba35ce: Downloading 40.52 MB/56.89 MB\r",
      "\u001b[4B\u001b[4A\u001b[2K\r",
      "2e4b04ba35ce: Downloading 41.06 MB/56.89 MB\r",
      "\u001b[4B\u001b[3A\u001b[2K\r",
      "8ccc76a74787: Downloading 20.54 MB/80.15 MB\r",
      "\u001b[3B\u001b[4A\u001b[2K\r",
      "2e4b04ba35ce: Downloading  41.6 MB/56.89 MB\r",
      "\u001b[4B\u001b[4A\u001b[2K\r",
      "2e4b04ba35ce: Downloading 42.14 MB/56.89 MB\r",
      "\u001b[4B\u001b[3A\u001b[2K\r",
      "8ccc76a74787: Downloading 21.09 MB/80.15 MB\r",
      "\u001b[3B\u001b[4A\u001b[2K\r",
      "2e4b04ba35ce: Downloading 42.68 MB/56.89 MB\r",
      "\u001b[4B\u001b[3A\u001b[2K\r",
      "8ccc76a74787: Downloading 21.63 MB/80.15 MB\r",
      "\u001b[3B\u001b[4A\u001b[2K\r",
      "2e4b04ba35ce: Downloading 43.22 MB/56.89 MB\r",
      "\u001b[4B\u001b[4A\u001b[2K\r",
      "2e4b04ba35ce: Downloading 43.76 MB/56.89 MB\r",
      "\u001b[4B\u001b[3A\u001b[2K\r",
      "8ccc76a74787: Downloading 22.17 MB/80.15 MB\r",
      "\u001b[3B\u001b[4A\u001b[2K\r",
      "2e4b04ba35ce: Downloading  44.3 MB/56.89 MB\r",
      "\u001b[4B\u001b[4A\u001b[2K\r",
      "2e4b04ba35ce: Downloading 44.84 MB/56.89 MB\r",
      "\u001b[4B\u001b[3A\u001b[2K\r",
      "8ccc76a74787: Downloading 22.71 MB/80.15 MB\r",
      "\u001b[3B\u001b[4A\u001b[2K\r",
      "2e4b04ba35ce: Downloading 45.38 MB/56.89 MB\r",
      "\u001b[4B\u001b[3A\u001b[2K\r",
      "8ccc76a74787: Downloading 23.25 MB/80.15 MB\r",
      "\u001b[3B\u001b[4A\u001b[2K\r",
      "2e4b04ba35ce: Downloading 45.92 MB/56.89 MB\r",
      "\u001b[4B\u001b[4A\u001b[2K\r",
      "2e4b04ba35ce: Downloading 46.46 MB/56.89 MB\r",
      "\u001b[4B\u001b[3A\u001b[2K\r",
      "8ccc76a74787: Downloading 23.79 MB/80.15 MB\r",
      "\u001b[3B\u001b[4A\u001b[2K\r",
      "2e4b04ba35ce: Downloading    47 MB/56.89 MB\r",
      "\u001b[4B\u001b[3A\u001b[2K\r",
      "8ccc76a74787: Downloading 24.33 MB/80.15 MB\r",
      "\u001b[3B\u001b[4A\u001b[2K\r",
      "2e4b04ba35ce: Downloading 47.55 MB/56.89 MB\r",
      "\u001b[4B\u001b[4A\u001b[2K\r",
      "2e4b04ba35ce: Downloading 48.09 MB/56.89 MB\r",
      "\u001b[4B\u001b[3A\u001b[2K\r",
      "8ccc76a74787: Downloading 24.87 MB/80.15 MB\r",
      "\u001b[3B\u001b[4A\u001b[2K\r",
      "2e4b04ba35ce: Downloading 48.63 MB/56.89 MB\r",
      "\u001b[4B\u001b[3A\u001b[2K\r",
      "8ccc76a74787: Downloading 25.41 MB/80.15 MB\r",
      "\u001b[3B\u001b[4A\u001b[2K\r",
      "2e4b04ba35ce: Downloading 49.17 MB/56.89 MB\r",
      "\u001b[4B\u001b[3A\u001b[2K\r",
      "8ccc76a74787: Downloading 25.95 MB/80.15 MB\r",
      "\u001b[3B\u001b[4A\u001b[2K\r",
      "2e4b04ba35ce: Downloading 49.71 MB/56.89 MB\r",
      "\u001b[4B\u001b[3A\u001b[2K\r",
      "8ccc76a74787: Downloading 26.49 MB/80.15 MB\r",
      "\u001b[3B\u001b[4A\u001b[2K\r",
      "2e4b04ba35ce: Downloading 50.25 MB/56.89 MB\r",
      "\u001b[4B\u001b[4A\u001b[2K\r",
      "2e4b04ba35ce: Downloading 50.79 MB/56.89 MB\r",
      "\u001b[4B\u001b[3A\u001b[2K\r",
      "8ccc76a74787: Downloading 27.03 MB/80.15 MB\r",
      "\u001b[3B\u001b[4A\u001b[2K\r",
      "2e4b04ba35ce: Downloading 51.33 MB/56.89 MB\r",
      "\u001b[4B\u001b[3A\u001b[2K\r",
      "8ccc76a74787: Downloading 27.57 MB/80.15 MB\r",
      "\u001b[3B\u001b[4A\u001b[2K\r",
      "2e4b04ba35ce: Downloading 51.87 MB/56.89 MB\r",
      "\u001b[4B\u001b[4A\u001b[2K\r",
      "2e4b04ba35ce: Downloading 52.41 MB/56.89 MB\r",
      "\u001b[4B\u001b[3A\u001b[2K\r",
      "8ccc76a74787: Downloading 28.11 MB/80.15 MB\r",
      "\u001b[3B\u001b[4A\u001b[2K\r",
      "2e4b04ba35ce: Downloading 52.95 MB/56.89 MB\r",
      "\u001b[4B\u001b[4A\u001b[2K\r",
      "2e4b04ba35ce: Downloading 53.49 MB/56.89 MB\r",
      "\u001b[4B\u001b[3A\u001b[2K\r",
      "8ccc76a74787: Downloading 28.65 MB/80.15 MB\r",
      "\u001b[3B\u001b[4A\u001b[2K\r",
      "2e4b04ba35ce: Downloading 54.03 MB/56.89 MB\r",
      "\u001b[4B\u001b[3A\u001b[2K\r",
      "8ccc76a74787: Downloading  29.2 MB/80.15 MB\r",
      "\u001b[3B\u001b[4A\u001b[2K\r",
      "2e4b04ba35ce: Downloading 54.57 MB/56.89 MB\r",
      "\u001b[4B\u001b[4A\u001b[2K\r",
      "2e4b04ba35ce: Downloading 55.11 MB/56.89 MB\r",
      "\u001b[4B\u001b[3A\u001b[2K\r",
      "8ccc76a74787: Downloading 29.74 MB/80.15 MB\r",
      "\u001b[3B\u001b[4A\u001b[2K\r",
      "2e4b04ba35ce: Downloading 55.66 MB/56.89 MB\r",
      "\u001b[4B\u001b[3A\u001b[2K\r",
      "8ccc76a74787: Downloading 30.28 MB/80.15 MB\r",
      "\u001b[3B\u001b[4A\u001b[2K\r",
      "2e4b04ba35ce: Downloading  56.2 MB/56.89 MB\r",
      "\u001b[4B\u001b[4A\u001b[2K\r",
      "2e4b04ba35ce: Downloading 56.74 MB/56.89 MB\r",
      "\u001b[4B\u001b[4A\u001b[2K\r",
      "2e4b04ba35ce: Verifying Checksum \r",
      "\u001b[4B\u001b[4A\u001b[2K\r",
      "2e4b04ba35ce: Download complete \r",
      "\u001b[4B\u001b[3A\u001b[2K\r",
      "8ccc76a74787: Downloading 30.82 MB/80.15 MB\r",
      "\u001b[3B\u001b[4A\u001b[2K\r",
      "2e4b04ba35ce: Extracting 557.1 kB/56.89 MB\r",
      "\u001b[4B\u001b[4A\u001b[2K\r",
      "2e4b04ba35ce: Extracting 1.114 MB/56.89 MB\r",
      "\u001b[4B\u001b[4A\u001b[2K\r",
      "2e4b04ba35ce: Extracting 1.671 MB/56.89 MB\r",
      "\u001b[4B\u001b[4A\u001b[2K\r",
      "2e4b04ba35ce: Extracting 2.228 MB/56.89 MB\r",
      "\u001b[4B\u001b[4A\u001b[2K\r",
      "2e4b04ba35ce: Extracting 2.785 MB/56.89 MB\r",
      "\u001b[4B\u001b[4A\u001b[2K\r",
      "2e4b04ba35ce: Extracting 3.342 MB/56.89 MB\r",
      "\u001b[4B\u001b[3A\u001b[2K\r",
      "8ccc76a74787: Downloading 31.36 MB/80.15 MB\r",
      "\u001b[3B\u001b[4A\u001b[2K\r",
      "2e4b04ba35ce: Extracting 3.899 MB/56.89 MB\r",
      "\u001b[4B\u001b[4A\u001b[2K\r",
      "2e4b04ba35ce: Extracting 4.456 MB/56.89 MB\r",
      "\u001b[4B\u001b[3A\u001b[2K\r",
      "8ccc76a74787: Downloading  31.9 MB/80.15 MB\r",
      "\u001b[3B\u001b[3A\u001b[2K\r",
      "8ccc76a74787: Downloading 32.44 MB/80.15 MB\r",
      "\u001b[3B\u001b[4A\u001b[2K\r",
      "2e4b04ba35ce: Extracting 5.014 MB/56.89 MB\r",
      "\u001b[4B\u001b[3A\u001b[2K\r",
      "8ccc76a74787: Downloading 32.98 MB/80.15 MB\r",
      "\u001b[3B\u001b[3A\u001b[2K\r",
      "8ccc76a74787: Downloading 33.52 MB/80.15 MB\r",
      "\u001b[3B\u001b[4A\u001b[2K\r",
      "2e4b04ba35ce: Extracting 5.571 MB/56.89 MB\r",
      "\u001b[4B\u001b[3A\u001b[2K\r",
      "8ccc76a74787: Downloading 34.06 MB/80.15 MB\r",
      "\u001b[3B\u001b[4A\u001b[2K\r",
      "2e4b04ba35ce: Extracting 6.128 MB/56.89 MB\r",
      "\u001b[4B\u001b[3A\u001b[2K\r",
      "8ccc76a74787: Downloading  34.6 MB/80.15 MB\r",
      "\u001b[3B\u001b[4A\u001b[2K\r",
      "2e4b04ba35ce: Extracting 6.685 MB/56.89 MB\r",
      "\u001b[4B\u001b[4A\u001b[2K\r",
      "2e4b04ba35ce: Extracting 7.242 MB/56.89 MB\r",
      "\u001b[4B\u001b[4A\u001b[2K\r",
      "2e4b04ba35ce: Extracting 7.799 MB/56.89 MB\r",
      "\u001b[4B\u001b[3A\u001b[2K\r",
      "8ccc76a74787: Downloading 35.14 MB/80.15 MB\r",
      "\u001b[3B\u001b[4A\u001b[2K\r",
      "2e4b04ba35ce: Extracting 8.356 MB/56.89 MB\r",
      "\u001b[4B\u001b[4A\u001b[2K\r",
      "2e4b04ba35ce: Extracting 8.913 MB/56.89 MB\r",
      "\u001b[4B\u001b[4A\u001b[2K\r",
      "2e4b04ba35ce: Extracting  9.47 MB/56.89 MB\r",
      "\u001b[4B\u001b[4A\u001b[2K\r",
      "2e4b04ba35ce: Extracting 10.03 MB/56.89 MB\r",
      "\u001b[4B\u001b[4A\u001b[2K\r",
      "2e4b04ba35ce: Extracting 10.58 MB/56.89 MB\r",
      "\u001b[4B\u001b[4A\u001b[2K\r",
      "2e4b04ba35ce: Extracting 11.14 MB/56.89 MB\r",
      "\u001b[4B\u001b[4A\u001b[2K\r",
      "2e4b04ba35ce: Extracting  11.7 MB/56.89 MB\r",
      "\u001b[4B\u001b[3A\u001b[2K\r",
      "8ccc76a74787: Downloading 35.68 MB/80.15 MB\r",
      "\u001b[3B\u001b[4A\u001b[2K\r",
      "2e4b04ba35ce: Extracting 12.26 MB/56.89 MB\r",
      "\u001b[4B\u001b[4A\u001b[2K\r",
      "2e4b04ba35ce: Extracting 12.81 MB/56.89 MB\r",
      "\u001b[4B\u001b[4A\u001b[2K\r",
      "2e4b04ba35ce: Extracting 13.37 MB/56.89 MB\r",
      "\u001b[4B\u001b[4A\u001b[2K\r",
      "2e4b04ba35ce: Extracting 13.93 MB/56.89 MB\r",
      "\u001b[4B\u001b[4A\u001b[2K\r",
      "2e4b04ba35ce: Extracting 14.48 MB/56.89 MB\r",
      "\u001b[4B\u001b[4A\u001b[2K\r",
      "2e4b04ba35ce: Extracting 15.04 MB/56.89 MB\r",
      "\u001b[4B\u001b[3A\u001b[2K\r",
      "8ccc76a74787: Downloading 36.22 MB/80.15 MB\r",
      "\u001b[3B\u001b[4A\u001b[2K\r",
      "2e4b04ba35ce: Extracting  15.6 MB/56.89 MB\r",
      "\u001b[4B\u001b[4A\u001b[2K\r",
      "2e4b04ba35ce: Extracting 16.15 MB/56.89 MB\r",
      "\u001b[4B\u001b[4A\u001b[2K\r",
      "2e4b04ba35ce: Extracting 16.71 MB/56.89 MB\r",
      "\u001b[4B\u001b[4A\u001b[2K\r",
      "2e4b04ba35ce: Extracting 17.27 MB/56.89 MB\r",
      "\u001b[4B\u001b[4A\u001b[2K\r",
      "2e4b04ba35ce: Extracting 17.83 MB/56.89 MB\r",
      "\u001b[4B\u001b[4A\u001b[2K\r",
      "2e4b04ba35ce: Extracting 18.38 MB/56.89 MB\r",
      "\u001b[4B\u001b[4A\u001b[2K\r",
      "2e4b04ba35ce: Extracting 18.94 MB/56.89 MB\r",
      "\u001b[4B\u001b[4A\u001b[2K\r",
      "2e4b04ba35ce: Extracting  19.5 MB/56.89 MB\r",
      "\u001b[4B\u001b[4A\u001b[2K\r",
      "2e4b04ba35ce: Extracting 20.05 MB/56.89 MB\r",
      "\u001b[4B\u001b[3A\u001b[2K\r",
      "8ccc76a74787: Downloading 36.76 MB/80.15 MB\r",
      "\u001b[3B\u001b[3A\u001b[2K\r",
      "8ccc76a74787: Downloading 37.31 MB/80.15 MB\r",
      "\u001b[3B\u001b[3A\u001b[2K\r",
      "8ccc76a74787: Downloading 37.85 MB/80.15 MB\r",
      "\u001b[3B\u001b[4A\u001b[2K\r",
      "2e4b04ba35ce: Extracting 20.61 MB/56.89 MB\r",
      "\u001b[4B\u001b[3A\u001b[2K\r",
      "8ccc76a74787: Downloading 38.39 MB/80.15 MB\r",
      "\u001b[3B\u001b[4A\u001b[2K\r",
      "2e4b04ba35ce: Extracting 21.17 MB/56.89 MB\r",
      "\u001b[4B\u001b[4A\u001b[2K\r",
      "2e4b04ba35ce: Extracting 21.73 MB/56.89 MB\r",
      "\u001b[4B\u001b[4A\u001b[2K\r",
      "2e4b04ba35ce: Extracting 22.28 MB/56.89 MB\r",
      "\u001b[4B\u001b[3A\u001b[2K\r",
      "8ccc76a74787: Downloading 38.93 MB/80.15 MB\r",
      "\u001b[3B\u001b[3A\u001b[2K\r",
      "8ccc76a74787: Downloading 39.47 MB/80.15 MB\r",
      "\u001b[3B\u001b[4A\u001b[2K\r",
      "2e4b04ba35ce: Extracting 22.84 MB/56.89 MB\r",
      "\u001b[4B\u001b[4A\u001b[2K\r",
      "2e4b04ba35ce: Extracting  23.4 MB/56.89 MB\r",
      "\u001b[4B\u001b[4A\u001b[2K\r",
      "2e4b04ba35ce: Extracting 23.95 MB/56.89 MB\r",
      "\u001b[4B\u001b[4A\u001b[2K\r",
      "2e4b04ba35ce: Extracting 24.51 MB/56.89 MB\r",
      "\u001b[4B\u001b[4A\u001b[2K\r",
      "2e4b04ba35ce: Extracting 25.07 MB/56.89 MB\r",
      "\u001b[4B\u001b[4A\u001b[2K\r",
      "2e4b04ba35ce: Extracting 25.62 MB/56.89 MB\r",
      "\u001b[4B\u001b[3A\u001b[2K\r",
      "8ccc76a74787: Downloading 40.01 MB/80.15 MB\r",
      "\u001b[3B\u001b[3A\u001b[2K\r",
      "8ccc76a74787: Downloading 40.55 MB/80.15 MB\r",
      "\u001b[3B\u001b[3A\u001b[2K\r",
      "8ccc76a74787: Downloading 41.09 MB/80.15 MB\r",
      "\u001b[3B\u001b[4A\u001b[2K\r",
      "2e4b04ba35ce: Extracting 26.18 MB/56.89 MB\r",
      "\u001b[4B\u001b[4A\u001b[2K\r",
      "2e4b04ba35ce: Extracting 26.74 MB/56.89 MB\r",
      "\u001b[4B\u001b[4A\u001b[2K\r",
      "2e4b04ba35ce: Extracting  27.3 MB/56.89 MB\r",
      "\u001b[4B\u001b[4A\u001b[2K\r",
      "2e4b04ba35ce: Extracting 27.85 MB/56.89 MB\r",
      "\u001b[4B\u001b[4A\u001b[2K\r",
      "2e4b04ba35ce: Extracting 28.41 MB/56.89 MB\r",
      "\u001b[4B\u001b[4A\u001b[2K\r",
      "2e4b04ba35ce: Extracting 28.97 MB/56.89 MB\r",
      "\u001b[4B\u001b[4A\u001b[2K\r",
      "2e4b04ba35ce: Extracting 29.52 MB/56.89 MB\r",
      "\u001b[4B\u001b[3A\u001b[2K\r",
      "8ccc76a74787: Downloading 41.63 MB/80.15 MB\r",
      "\u001b[3B\u001b[4A\u001b[2K\r",
      "2e4b04ba35ce: Extracting 30.08 MB/56.89 MB\r",
      "\u001b[4B\u001b[3A\u001b[2K\r",
      "8ccc76a74787: Downloading 42.17 MB/80.15 MB\r",
      "\u001b[3B\u001b[4A\u001b[2K\r",
      "2e4b04ba35ce: Extracting 30.64 MB/56.89 MB\r",
      "\u001b[4B\u001b[3A\u001b[2K\r",
      "8ccc76a74787: Downloading 42.71 MB/80.15 MB\r",
      "\u001b[3B\u001b[4A\u001b[2K\r",
      "2e4b04ba35ce: Extracting  31.2 MB/56.89 MB\r",
      "\u001b[4B\u001b[4A\u001b[2K\r",
      "2e4b04ba35ce: Extracting 31.75 MB/56.89 MB\r",
      "\u001b[4B\u001b[4A\u001b[2K\r",
      "2e4b04ba35ce: Extracting 32.31 MB/56.89 MB\r",
      "\u001b[4B\u001b[4A\u001b[2K\r",
      "2e4b04ba35ce: Extracting 32.87 MB/56.89 MB\r",
      "\u001b[4B\u001b[3A\u001b[2K\r",
      "8ccc76a74787: Downloading 43.25 MB/80.15 MB\r",
      "\u001b[3B\u001b[4A\u001b[2K\r",
      "2e4b04ba35ce: Extracting 33.42 MB/56.89 MB\r",
      "\u001b[4B\u001b[4A\u001b[2K\r",
      "2e4b04ba35ce: Extracting 33.98 MB/56.89 MB\r",
      "\u001b[4B\u001b[4A\u001b[2K\r",
      "2e4b04ba35ce: Extracting 34.54 MB/56.89 MB\r",
      "\u001b[4B\u001b[4A\u001b[2K\r",
      "2e4b04ba35ce: Extracting 35.09 MB/56.89 MB\r",
      "\u001b[4B\u001b[4A\u001b[2K\r",
      "2e4b04ba35ce: Extracting 35.65 MB/56.89 MB\r",
      "\u001b[4B\u001b[4A\u001b[2K\r",
      "2e4b04ba35ce: Extracting 36.21 MB/56.89 MB\r",
      "\u001b[4B\u001b[3A\u001b[2K\r",
      "8ccc76a74787: Downloading 43.79 MB/80.15 MB\r",
      "\u001b[3B\u001b[4A\u001b[2K\r",
      "2e4b04ba35ce: Extracting 36.77 MB/56.89 MB\r",
      "\u001b[4B\u001b[4A\u001b[2K\r",
      "2e4b04ba35ce: Extracting 37.32 MB/56.89 MB\r",
      "\u001b[4B\u001b[4A\u001b[2K\r",
      "2e4b04ba35ce: Extracting 37.88 MB/56.89 MB\r",
      "\u001b[4B\u001b[4A\u001b[2K\r",
      "2e4b04ba35ce: Extracting 38.44 MB/56.89 MB\r",
      "\u001b[4B\u001b[4A\u001b[2K\r",
      "2e4b04ba35ce: Extracting 38.99 MB/56.89 MB\r",
      "\u001b[4B\u001b[4A\u001b[2K\r",
      "2e4b04ba35ce: Extracting 39.55 MB/56.89 MB\r",
      "\u001b[4B\u001b[4A\u001b[2K\r",
      "2e4b04ba35ce: Extracting 40.11 MB/56.89 MB\r",
      "\u001b[4B\u001b[4A\u001b[2K\r",
      "2e4b04ba35ce: Extracting 40.67 MB/56.89 MB\r",
      "\u001b[4B\u001b[4A\u001b[2K\r",
      "2e4b04ba35ce: Extracting 41.22 MB/56.89 MB\r",
      "\u001b[4B\u001b[4A\u001b[2K\r",
      "2e4b04ba35ce: Extracting 41.78 MB/56.89 MB\r",
      "\u001b[4B\u001b[3A\u001b[2K\r",
      "8ccc76a74787: Downloading 44.33 MB/80.15 MB\r",
      "\u001b[3B\u001b[3A\u001b[2K\r",
      "8ccc76a74787: Downloading 44.87 MB/80.15 MB\r",
      "\u001b[3B\u001b[4A\u001b[2K\r",
      "2e4b04ba35ce: Extracting 42.34 MB/56.89 MB\r",
      "\u001b[4B\u001b[4A\u001b[2K\r",
      "2e4b04ba35ce: Extracting 42.89 MB/56.89 MB\r",
      "\u001b[4B\u001b[4A\u001b[2K\r",
      "2e4b04ba35ce: Extracting 43.45 MB/56.89 MB\r",
      "\u001b[4B\u001b[4A\u001b[2K\r",
      "2e4b04ba35ce: Extracting 44.01 MB/56.89 MB\r",
      "\u001b[4B\u001b[4A\u001b[2K\r",
      "2e4b04ba35ce: Extracting 44.56 MB/56.89 MB\r",
      "\u001b[4B\u001b[4A\u001b[2K\r",
      "2e4b04ba35ce: Extracting 45.12 MB/56.89 MB\r",
      "\u001b[4B\u001b[4A\u001b[2K\r",
      "2e4b04ba35ce: Extracting 45.68 MB/56.89 MB\r",
      "\u001b[4B\u001b[3A\u001b[2K\r",
      "8ccc76a74787: Downloading 45.42 MB/80.15 MB\r",
      "\u001b[3B\u001b[4A\u001b[2K\r",
      "2e4b04ba35ce: Extracting 46.24 MB/56.89 MB\r",
      "\u001b[4B\u001b[4A\u001b[2K\r",
      "2e4b04ba35ce: Extracting 46.79 MB/56.89 MB\r",
      "\u001b[4B\u001b[4A\u001b[2K\r",
      "2e4b04ba35ce: Extracting 47.35 MB/56.89 MB\r",
      "\u001b[4B\u001b[4A\u001b[2K\r",
      "2e4b04ba35ce: Extracting 47.91 MB/56.89 MB\r",
      "\u001b[4B\u001b[4A\u001b[2K\r",
      "2e4b04ba35ce: Extracting 48.46 MB/56.89 MB\r",
      "\u001b[4B\u001b[4A\u001b[2K\r",
      "2e4b04ba35ce: Extracting 49.02 MB/56.89 MB\r",
      "\u001b[4B\u001b[3A\u001b[2K\r",
      "8ccc76a74787: Downloading 45.96 MB/80.15 MB\r",
      "\u001b[3B\u001b[4A\u001b[2K\r",
      "2e4b04ba35ce: Extracting 49.58 MB/56.89 MB\r",
      "\u001b[4B\u001b[4A\u001b[2K\r",
      "2e4b04ba35ce: Extracting 50.14 MB/56.89 MB\r",
      "\u001b[4B\u001b[4A\u001b[2K\r",
      "2e4b04ba35ce: Extracting 50.69 MB/56.89 MB\r",
      "\u001b[4B\u001b[4A\u001b[2K\r",
      "2e4b04ba35ce: Extracting 51.25 MB/56.89 MB\r",
      "\u001b[4B\u001b[4A\u001b[2K\r",
      "2e4b04ba35ce: Extracting 51.81 MB/56.89 MB\r",
      "\u001b[4B\u001b[4A\u001b[2K\r",
      "2e4b04ba35ce: Extracting 52.36 MB/56.89 MB\r",
      "\u001b[4B\u001b[4A\u001b[2K\r",
      "2e4b04ba35ce: Extracting 52.92 MB/56.89 MB\r",
      "\u001b[4B\u001b[3A\u001b[2K\r",
      "8ccc76a74787: Downloading  46.5 MB/80.15 MB\r",
      "\u001b[3B\u001b[4A\u001b[2K\r",
      "2e4b04ba35ce: Extracting 53.48 MB/56.89 MB\r",
      "\u001b[4B\u001b[3A\u001b[2K\r",
      "8ccc76a74787: Downloading 47.04 MB/80.15 MB\r",
      "\u001b[3B\u001b[3A\u001b[2K\r",
      "8ccc76a74787: Downloading 47.58 MB/80.15 MB\r",
      "\u001b[3B\u001b[4A\u001b[2K\r",
      "2e4b04ba35ce: Extracting 54.03 MB/56.89 MB\r",
      "\u001b[4B\u001b[4A\u001b[2K\r",
      "2e4b04ba35ce: Extracting 54.59 MB/56.89 MB\r",
      "\u001b[4B\u001b[4A\u001b[2K\r",
      "2e4b04ba35ce: Extracting 55.15 MB/56.89 MB\r",
      "\u001b[4B\u001b[4A\u001b[2K\r",
      "2e4b04ba35ce: Extracting 55.71 MB/56.89 MB\r",
      "\u001b[4B\u001b[4A\u001b[2K\r",
      "2e4b04ba35ce: Extracting 56.26 MB/56.89 MB\r",
      "\u001b[4B\u001b[3A\u001b[2K\r",
      "8ccc76a74787: Downloading 48.12 MB/80.15 MB\r",
      "\u001b[3B\u001b[3A\u001b[2K\r",
      "8ccc76a74787: Downloading 48.66 MB/80.15 MB\r",
      "\u001b[3B\u001b[3A\u001b[2K\r",
      "8ccc76a74787: Downloading  49.2 MB/80.15 MB\r",
      "\u001b[3B\u001b[4A\u001b[2K\r",
      "2e4b04ba35ce: Extracting 56.82 MB/56.89 MB\r",
      "\u001b[4B\u001b[4A\u001b[2K\r",
      "2e4b04ba35ce: Extracting 56.89 MB/56.89 MB\r",
      "\u001b[4B\u001b[3A\u001b[2K\r",
      "8ccc76a74787: Downloading 49.74 MB/80.15 MB\r",
      "\u001b[3B\u001b[3A\u001b[2K\r",
      "8ccc76a74787: Downloading 50.28 MB/80.15 MB\r",
      "\u001b[3B\u001b[3A\u001b[2K\r",
      "8ccc76a74787: Downloading 50.82 MB/80.15 MB\r",
      "\u001b[3B\u001b[4A\u001b[2K\r",
      "2e4b04ba35ce: Pull complete \r",
      "\u001b[4B\u001b[4A\u001b[2K\r",
      "2e4b04ba35ce: Pull complete \r",
      "\u001b[4B\u001b[7A\u001b[2K\r",
      "a3ed95caeb02: Extracting     32 B/32 B\r",
      "\u001b[7B\u001b[7A\u001b[2K\r",
      "a3ed95caeb02: Extracting     32 B/32 B\r",
      "\u001b[7B\u001b[3A\u001b[2K\r",
      "8ccc76a74787: Downloading 51.36 MB/80.15 MB\r",
      "\u001b[3B\u001b[3A\u001b[2K\r",
      "8ccc76a74787: Downloading  51.9 MB/80.15 MB\r",
      "\u001b[3B\u001b[7A\u001b[2K\r",
      "a3ed95caeb02: Pull complete \r",
      "\u001b[7B\u001b[7A\u001b[2K\r",
      "a3ed95caeb02: Pull complete \r",
      "\u001b[7B\u001b[3A\u001b[2K\r",
      "8ccc76a74787: Downloading 52.44 MB/80.15 MB\r",
      "\u001b[3B\u001b[3A\u001b[2K\r",
      "8ccc76a74787: Downloading 52.98 MB/80.15 MB\r",
      "\u001b[3B\u001b[3A\u001b[2K\r",
      "8ccc76a74787: Downloading 53.53 MB/80.15 MB\r",
      "\u001b[3B\u001b[3A\u001b[2K\r",
      "8ccc76a74787: Downloading 54.07 MB/80.15 MB\r",
      "\u001b[3B\u001b[3A\u001b[2K\r",
      "8ccc76a74787: Downloading 54.61 MB/80.15 MB\r",
      "\u001b[3B\u001b[3A\u001b[2K\r",
      "8ccc76a74787: Downloading 55.15 MB/80.15 MB\r",
      "\u001b[3B\u001b[3A\u001b[2K\r",
      "8ccc76a74787: Downloading 55.69 MB/80.15 MB\r",
      "\u001b[3B\u001b[3A\u001b[2K\r",
      "8ccc76a74787: Downloading 56.23 MB/80.15 MB\r",
      "\u001b[3B\u001b[3A\u001b[2K\r",
      "8ccc76a74787: Downloading 56.77 MB/80.15 MB\r",
      "\u001b[3B\u001b[3A\u001b[2K\r",
      "8ccc76a74787: Downloading 57.31 MB/80.15 MB\r",
      "\u001b[3B\u001b[3A\u001b[2K\r",
      "8ccc76a74787: Downloading 57.85 MB/80.15 MB\r",
      "\u001b[3B\u001b[3A\u001b[2K\r",
      "8ccc76a74787: Downloading 58.39 MB/80.15 MB\r",
      "\u001b[3B\u001b[3A\u001b[2K\r",
      "8ccc76a74787: Downloading 58.93 MB/80.15 MB\r",
      "\u001b[3B\u001b[3A\u001b[2K\r",
      "8ccc76a74787: Downloading 59.47 MB/80.15 MB\r",
      "\u001b[3B\u001b[3A\u001b[2K\r",
      "8ccc76a74787: Downloading 60.01 MB/80.15 MB\r",
      "\u001b[3B\u001b[3A\u001b[2K\r",
      "8ccc76a74787: Downloading 60.55 MB/80.15 MB\r",
      "\u001b[3B\u001b[3A\u001b[2K\r",
      "8ccc76a74787: Downloading  61.1 MB/80.15 MB\r",
      "\u001b[3B\u001b[3A\u001b[2K\r",
      "8ccc76a74787: Downloading 61.64 MB/80.15 MB\r",
      "\u001b[3B\u001b[3A\u001b[2K\r",
      "8ccc76a74787: Downloading 62.18 MB/80.15 MB\r",
      "\u001b[3B\u001b[3A\u001b[2K\r",
      "8ccc76a74787: Downloading 62.72 MB/80.15 MB\r",
      "\u001b[3B\u001b[3A\u001b[2K\r",
      "8ccc76a74787: Downloading 63.26 MB/80.15 MB\r",
      "\u001b[3B\u001b[3A\u001b[2K\r",
      "8ccc76a74787: Downloading  63.8 MB/80.15 MB\r",
      "\u001b[3B\u001b[3A\u001b[2K\r",
      "8ccc76a74787: Downloading 64.34 MB/80.15 MB\r",
      "\u001b[3B\u001b[3A\u001b[2K\r",
      "8ccc76a74787: Downloading 64.88 MB/80.15 MB\r",
      "\u001b[3B\u001b[3A\u001b[2K\r",
      "8ccc76a74787: Downloading 65.42 MB/80.15 MB\r",
      "\u001b[3B\u001b[3A\u001b[2K\r",
      "8ccc76a74787: Downloading 65.96 MB/80.15 MB\r",
      "\u001b[3B\u001b[3A\u001b[2K\r",
      "8ccc76a74787: Downloading  66.5 MB/80.15 MB\r",
      "\u001b[3B\u001b[3A\u001b[2K\r",
      "8ccc76a74787: Downloading 67.04 MB/80.15 MB\r",
      "\u001b[3B\u001b[3A\u001b[2K\r",
      "8ccc76a74787: Downloading 67.58 MB/80.15 MB\r",
      "\u001b[3B\u001b[3A\u001b[2K\r",
      "8ccc76a74787: Downloading 68.12 MB/80.15 MB\r",
      "\u001b[3B\u001b[3A\u001b[2K\r",
      "8ccc76a74787: Downloading 68.66 MB/80.15 MB\r",
      "\u001b[3B\u001b[3A\u001b[2K\r",
      "8ccc76a74787: Downloading 69.21 MB/80.15 MB\r",
      "\u001b[3B\u001b[3A\u001b[2K\r",
      "8ccc76a74787: Downloading 69.75 MB/80.15 MB\r",
      "\u001b[3B\u001b[3A\u001b[2K\r",
      "8ccc76a74787: Downloading 70.29 MB/80.15 MB\r",
      "\u001b[3B\u001b[3A\u001b[2K\r",
      "8ccc76a74787: Downloading 70.83 MB/80.15 MB\r",
      "\u001b[3B\u001b[3A\u001b[2K\r",
      "8ccc76a74787: Downloading 71.37 MB/80.15 MB\r",
      "\u001b[3B\u001b[3A\u001b[2K\r",
      "8ccc76a74787: Downloading 71.91 MB/80.15 MB\r",
      "\u001b[3B\u001b[3A\u001b[2K\r",
      "8ccc76a74787: Downloading 72.45 MB/80.15 MB\r",
      "\u001b[3B\u001b[3A\u001b[2K\r",
      "8ccc76a74787: Downloading 72.99 MB/80.15 MB\r",
      "\u001b[3B\u001b[3A\u001b[2K\r",
      "8ccc76a74787: Downloading 73.53 MB/80.15 MB\r",
      "\u001b[3B\u001b[3A\u001b[2K\r",
      "8ccc76a74787: Downloading 74.07 MB/80.15 MB\r",
      "\u001b[3B\u001b[3A\u001b[2K\r",
      "8ccc76a74787: Downloading 74.61 MB/80.15 MB\r",
      "\u001b[3B\u001b[3A\u001b[2K\r",
      "8ccc76a74787: Downloading 75.15 MB/80.15 MB\r",
      "\u001b[3B\u001b[3A\u001b[2K\r",
      "8ccc76a74787: Downloading 75.69 MB/80.15 MB\r",
      "\u001b[3B\u001b[3A\u001b[2K\r",
      "8ccc76a74787: Downloading 76.23 MB/80.15 MB\r",
      "\u001b[3B\u001b[3A\u001b[2K\r",
      "8ccc76a74787: Downloading 76.77 MB/80.15 MB\r",
      "\u001b[3B\u001b[3A\u001b[2K\r",
      "8ccc76a74787: Downloading 77.32 MB/80.15 MB\r",
      "\u001b[3B\u001b[3A\u001b[2K\r",
      "8ccc76a74787: Downloading 77.86 MB/80.15 MB\r",
      "\u001b[3B\u001b[3A\u001b[2K\r",
      "8ccc76a74787: Downloading  78.4 MB/80.15 MB\r",
      "\u001b[3B\u001b[3A\u001b[2K\r",
      "8ccc76a74787: Downloading 78.94 MB/80.15 MB\r",
      "\u001b[3B\u001b[3A\u001b[2K\r",
      "8ccc76a74787: Downloading 79.48 MB/80.15 MB\r",
      "\u001b[3B\u001b[3A\u001b[2K\r",
      "8ccc76a74787: Downloading 80.02 MB/80.15 MB\r",
      "\u001b[3B\u001b[3A\u001b[2K\r",
      "8ccc76a74787: Verifying Checksum \r",
      "\u001b[3B\u001b[3A\u001b[2K\r",
      "8ccc76a74787: Download complete \r",
      "\u001b[3B\u001b[3A\u001b[2K\r",
      "8ccc76a74787: Extracting 557.1 kB/80.15 MB\r",
      "\u001b[3B\u001b[3A\u001b[2K\r",
      "8ccc76a74787: Extracting 1.114 MB/80.15 MB\r",
      "\u001b[3B\u001b[3A\u001b[2K\r",
      "8ccc76a74787: Extracting 1.671 MB/80.15 MB\r",
      "\u001b[3B\u001b[3A\u001b[2K\r",
      "8ccc76a74787: Extracting 2.228 MB/80.15 MB\r",
      "\u001b[3B\u001b[3A\u001b[2K\r",
      "8ccc76a74787: Extracting 2.785 MB/80.15 MB\r",
      "\u001b[3B\u001b[3A\u001b[2K\r",
      "8ccc76a74787: Extracting 3.342 MB/80.15 MB\r",
      "\u001b[3B\u001b[3A\u001b[2K\r",
      "8ccc76a74787: Extracting 3.899 MB/80.15 MB\r",
      "\u001b[3B\u001b[3A\u001b[2K\r",
      "8ccc76a74787: Extracting 4.456 MB/80.15 MB\r",
      "\u001b[3B\u001b[3A\u001b[2K\r",
      "8ccc76a74787: Extracting 5.014 MB/80.15 MB\r",
      "\u001b[3B\u001b[3A\u001b[2K\r",
      "8ccc76a74787: Extracting 5.571 MB/80.15 MB\r",
      "\u001b[3B\u001b[3A\u001b[2K\r",
      "8ccc76a74787: Extracting 6.128 MB/80.15 MB\r",
      "\u001b[3B\u001b[3A\u001b[2K\r",
      "8ccc76a74787: Extracting 6.685 MB/80.15 MB\r",
      "\u001b[3B\u001b[3A\u001b[2K\r",
      "8ccc76a74787: Extracting 7.242 MB/80.15 MB\r",
      "\u001b[3B\u001b[3A\u001b[2K\r",
      "8ccc76a74787: Extracting 7.799 MB/80.15 MB\r",
      "\u001b[3B\u001b[3A\u001b[2K\r",
      "8ccc76a74787: Extracting 8.356 MB/80.15 MB\r",
      "\u001b[3B\u001b[3A\u001b[2K\r",
      "8ccc76a74787: Extracting 8.913 MB/80.15 MB\r",
      "\u001b[3B\u001b[3A\u001b[2K\r",
      "8ccc76a74787: Extracting  9.47 MB/80.15 MB\r",
      "\u001b[3B\u001b[3A\u001b[2K\r",
      "8ccc76a74787: Extracting 10.03 MB/80.15 MB\r",
      "\u001b[3B\u001b[3A\u001b[2K\r",
      "8ccc76a74787: Extracting 10.58 MB/80.15 MB\r",
      "\u001b[3B\u001b[3A\u001b[2K\r",
      "8ccc76a74787: Extracting 11.14 MB/80.15 MB\r",
      "\u001b[3B\u001b[3A\u001b[2K\r",
      "8ccc76a74787: Extracting  11.7 MB/80.15 MB\r",
      "\u001b[3B\u001b[3A\u001b[2K\r",
      "8ccc76a74787: Extracting 12.26 MB/80.15 MB\r",
      "\u001b[3B\u001b[3A\u001b[2K\r",
      "8ccc76a74787: Extracting 12.81 MB/80.15 MB\r",
      "\u001b[3B\u001b[3A\u001b[2K\r",
      "8ccc76a74787: Extracting 13.37 MB/80.15 MB\r",
      "\u001b[3B\u001b[3A\u001b[2K\r",
      "8ccc76a74787: Extracting 13.93 MB/80.15 MB\r",
      "\u001b[3B\u001b[3A\u001b[2K\r",
      "8ccc76a74787: Extracting 14.48 MB/80.15 MB\r",
      "\u001b[3B\u001b[3A\u001b[2K\r",
      "8ccc76a74787: Extracting 15.04 MB/80.15 MB\r",
      "\u001b[3B\u001b[3A\u001b[2K\r",
      "8ccc76a74787: Extracting  15.6 MB/80.15 MB\r",
      "\u001b[3B\u001b[3A\u001b[2K\r",
      "8ccc76a74787: Extracting 16.15 MB/80.15 MB\r",
      "\u001b[3B\u001b[3A\u001b[2K\r",
      "8ccc76a74787: Extracting 16.71 MB/80.15 MB\r",
      "\u001b[3B\u001b[3A\u001b[2K\r",
      "8ccc76a74787: Extracting 17.27 MB/80.15 MB\r",
      "\u001b[3B\u001b[3A\u001b[2K\r",
      "8ccc76a74787: Extracting 17.83 MB/80.15 MB\r",
      "\u001b[3B\u001b[3A\u001b[2K\r",
      "8ccc76a74787: Extracting 18.38 MB/80.15 MB\r",
      "\u001b[3B\u001b[3A\u001b[2K\r",
      "8ccc76a74787: Extracting 18.94 MB/80.15 MB\r",
      "\u001b[3B\u001b[3A\u001b[2K\r",
      "8ccc76a74787: Extracting  19.5 MB/80.15 MB\r",
      "\u001b[3B\u001b[3A\u001b[2K\r",
      "8ccc76a74787: Extracting 20.05 MB/80.15 MB\r",
      "\u001b[3B\u001b[3A\u001b[2K\r",
      "8ccc76a74787: Extracting 20.61 MB/80.15 MB\r",
      "\u001b[3B\u001b[3A\u001b[2K\r",
      "8ccc76a74787: Extracting 21.17 MB/80.15 MB\r",
      "\u001b[3B\u001b[3A\u001b[2K\r",
      "8ccc76a74787: Extracting 21.73 MB/80.15 MB\r",
      "\u001b[3B\u001b[3A\u001b[2K\r",
      "8ccc76a74787: Extracting 22.28 MB/80.15 MB\r",
      "\u001b[3B\u001b[3A\u001b[2K\r",
      "8ccc76a74787: Extracting 22.84 MB/80.15 MB\r",
      "\u001b[3B\u001b[3A\u001b[2K\r",
      "8ccc76a74787: Extracting  23.4 MB/80.15 MB\r",
      "\u001b[3B\u001b[3A\u001b[2K\r",
      "8ccc76a74787: Extracting 23.95 MB/80.15 MB\r",
      "\u001b[3B\u001b[3A\u001b[2K\r",
      "8ccc76a74787: Extracting 24.51 MB/80.15 MB\r",
      "\u001b[3B\u001b[3A\u001b[2K\r",
      "8ccc76a74787: Extracting 25.07 MB/80.15 MB\r",
      "\u001b[3B\u001b[3A\u001b[2K\r",
      "8ccc76a74787: Extracting 25.62 MB/80.15 MB\r",
      "\u001b[3B\u001b[3A\u001b[2K\r",
      "8ccc76a74787: Extracting 26.18 MB/80.15 MB\r",
      "\u001b[3B\u001b[3A\u001b[2K\r",
      "8ccc76a74787: Extracting 26.74 MB/80.15 MB\r",
      "\u001b[3B\u001b[3A\u001b[2K\r",
      "8ccc76a74787: Extracting  27.3 MB/80.15 MB\r",
      "\u001b[3B\u001b[3A\u001b[2K\r",
      "8ccc76a74787: Extracting 27.85 MB/80.15 MB\r",
      "\u001b[3B\u001b[3A\u001b[2K\r",
      "8ccc76a74787: Extracting 28.41 MB/80.15 MB\r",
      "\u001b[3B\u001b[3A\u001b[2K\r",
      "8ccc76a74787: Extracting 28.97 MB/80.15 MB\r",
      "\u001b[3B\u001b[3A\u001b[2K\r",
      "8ccc76a74787: Extracting 29.52 MB/80.15 MB\r",
      "\u001b[3B\u001b[3A\u001b[2K\r",
      "8ccc76a74787: Extracting 30.08 MB/80.15 MB\r",
      "\u001b[3B\u001b[3A\u001b[2K\r",
      "8ccc76a74787: Extracting 30.64 MB/80.15 MB\r",
      "\u001b[3B\u001b[3A\u001b[2K\r",
      "8ccc76a74787: Extracting  31.2 MB/80.15 MB\r",
      "\u001b[3B\u001b[3A\u001b[2K\r",
      "8ccc76a74787: Extracting 31.75 MB/80.15 MB\r",
      "\u001b[3B\u001b[3A\u001b[2K\r",
      "8ccc76a74787: Extracting 32.31 MB/80.15 MB\r",
      "\u001b[3B\u001b[3A\u001b[2K\r",
      "8ccc76a74787: Extracting 32.87 MB/80.15 MB\r",
      "\u001b[3B\u001b[3A\u001b[2K\r",
      "8ccc76a74787: Extracting 33.42 MB/80.15 MB\r",
      "\u001b[3B\u001b[3A\u001b[2K\r",
      "8ccc76a74787: Extracting 33.98 MB/80.15 MB\r",
      "\u001b[3B\u001b[3A\u001b[2K\r",
      "8ccc76a74787: Extracting 34.54 MB/80.15 MB\r",
      "\u001b[3B\u001b[3A\u001b[2K\r",
      "8ccc76a74787: Extracting 35.09 MB/80.15 MB\r",
      "\u001b[3B\u001b[3A\u001b[2K\r",
      "8ccc76a74787: Extracting 35.65 MB/80.15 MB\r",
      "\u001b[3B\u001b[3A\u001b[2K\r",
      "8ccc76a74787: Extracting 36.21 MB/80.15 MB\r",
      "\u001b[3B\u001b[3A\u001b[2K\r",
      "8ccc76a74787: Extracting 36.77 MB/80.15 MB\r",
      "\u001b[3B\u001b[3A\u001b[2K\r",
      "8ccc76a74787: Extracting 37.32 MB/80.15 MB\r",
      "\u001b[3B\u001b[3A\u001b[2K\r",
      "8ccc76a74787: Extracting 37.88 MB/80.15 MB\r",
      "\u001b[3B\u001b[3A\u001b[2K\r",
      "8ccc76a74787: Extracting 38.44 MB/80.15 MB\r",
      "\u001b[3B\u001b[3A\u001b[2K\r",
      "8ccc76a74787: Extracting 38.99 MB/80.15 MB\r",
      "\u001b[3B\u001b[3A\u001b[2K\r",
      "8ccc76a74787: Extracting 39.55 MB/80.15 MB\r",
      "\u001b[3B\u001b[3A\u001b[2K\r",
      "8ccc76a74787: Extracting 40.11 MB/80.15 MB\r",
      "\u001b[3B\u001b[3A\u001b[2K\r",
      "8ccc76a74787: Extracting 40.67 MB/80.15 MB\r",
      "\u001b[3B\u001b[3A\u001b[2K\r",
      "8ccc76a74787: Extracting 41.22 MB/80.15 MB\r",
      "\u001b[3B\u001b[3A\u001b[2K\r",
      "8ccc76a74787: Extracting 41.78 MB/80.15 MB\r",
      "\u001b[3B\u001b[3A\u001b[2K\r",
      "8ccc76a74787: Extracting 42.34 MB/80.15 MB\r",
      "\u001b[3B\u001b[3A\u001b[2K\r",
      "8ccc76a74787: Extracting 42.89 MB/80.15 MB\r",
      "\u001b[3B\u001b[3A\u001b[2K\r",
      "8ccc76a74787: Extracting 43.45 MB/80.15 MB\r",
      "\u001b[3B\u001b[3A\u001b[2K\r",
      "8ccc76a74787: Extracting 44.01 MB/80.15 MB\r",
      "\u001b[3B\u001b[3A\u001b[2K\r",
      "8ccc76a74787: Extracting 44.56 MB/80.15 MB\r",
      "\u001b[3B\u001b[3A\u001b[2K\r",
      "8ccc76a74787: Extracting 45.12 MB/80.15 MB\r",
      "\u001b[3B\u001b[3A\u001b[2K\r",
      "8ccc76a74787: Extracting 45.68 MB/80.15 MB\r",
      "\u001b[3B\u001b[3A\u001b[2K\r",
      "8ccc76a74787: Extracting 46.24 MB/80.15 MB\r",
      "\u001b[3B\u001b[3A\u001b[2K\r",
      "8ccc76a74787: Extracting 46.79 MB/80.15 MB\r",
      "\u001b[3B\u001b[3A\u001b[2K\r",
      "8ccc76a74787: Extracting 47.35 MB/80.15 MB\r",
      "\u001b[3B\u001b[3A\u001b[2K\r",
      "8ccc76a74787: Extracting 47.91 MB/80.15 MB\r",
      "\u001b[3B\u001b[3A\u001b[2K\r",
      "8ccc76a74787: Extracting 48.46 MB/80.15 MB\r",
      "\u001b[3B\u001b[3A\u001b[2K\r",
      "8ccc76a74787: Extracting 49.02 MB/80.15 MB\r",
      "\u001b[3B\u001b[3A\u001b[2K\r",
      "8ccc76a74787: Extracting 49.58 MB/80.15 MB\r",
      "\u001b[3B\u001b[3A\u001b[2K\r",
      "8ccc76a74787: Extracting 50.14 MB/80.15 MB\r",
      "\u001b[3B\u001b[3A\u001b[2K\r",
      "8ccc76a74787: Extracting 50.69 MB/80.15 MB\r",
      "\u001b[3B\u001b[3A\u001b[2K\r",
      "8ccc76a74787: Extracting 51.25 MB/80.15 MB\r",
      "\u001b[3B\u001b[3A\u001b[2K\r",
      "8ccc76a74787: Extracting 51.81 MB/80.15 MB\r",
      "\u001b[3B\u001b[3A\u001b[2K\r",
      "8ccc76a74787: Extracting 52.36 MB/80.15 MB\r",
      "\u001b[3B\u001b[3A\u001b[2K\r",
      "8ccc76a74787: Extracting 52.92 MB/80.15 MB\r",
      "\u001b[3B\u001b[3A\u001b[2K\r",
      "8ccc76a74787: Extracting 53.48 MB/80.15 MB\r",
      "\u001b[3B\u001b[3A\u001b[2K\r",
      "8ccc76a74787: Extracting 54.03 MB/80.15 MB\r",
      "\u001b[3B\u001b[3A\u001b[2K\r",
      "8ccc76a74787: Extracting 54.59 MB/80.15 MB\r",
      "\u001b[3B\u001b[3A\u001b[2K\r",
      "8ccc76a74787: Extracting 55.15 MB/80.15 MB\r",
      "\u001b[3B\u001b[3A\u001b[2K\r",
      "8ccc76a74787: Extracting 55.71 MB/80.15 MB\r",
      "\u001b[3B\u001b[3A\u001b[2K\r",
      "8ccc76a74787: Extracting 56.26 MB/80.15 MB\r",
      "\u001b[3B\u001b[3A\u001b[2K\r",
      "8ccc76a74787: Extracting 56.82 MB/80.15 MB\r",
      "\u001b[3B\u001b[3A\u001b[2K\r",
      "8ccc76a74787: Extracting 57.38 MB/80.15 MB\r",
      "\u001b[3B\u001b[3A\u001b[2K\r",
      "8ccc76a74787: Extracting 57.93 MB/80.15 MB\r",
      "\u001b[3B\u001b[3A\u001b[2K\r",
      "8ccc76a74787: Extracting 58.49 MB/80.15 MB\r",
      "\u001b[3B\u001b[3A\u001b[2K\r",
      "8ccc76a74787: Extracting 59.05 MB/80.15 MB\r",
      "\u001b[3B\u001b[3A\u001b[2K\r",
      "8ccc76a74787: Extracting  59.6 MB/80.15 MB\r",
      "\u001b[3B\u001b[3A\u001b[2K\r",
      "8ccc76a74787: Extracting 60.16 MB/80.15 MB\r",
      "\u001b[3B\u001b[3A\u001b[2K\r",
      "8ccc76a74787: Extracting 60.72 MB/80.15 MB\r",
      "\u001b[3B\u001b[3A\u001b[2K\r",
      "8ccc76a74787: Extracting 61.28 MB/80.15 MB\r",
      "\u001b[3B\u001b[3A\u001b[2K\r",
      "8ccc76a74787: Extracting 61.83 MB/80.15 MB\r",
      "\u001b[3B\u001b[3A\u001b[2K\r",
      "8ccc76a74787: Extracting 62.39 MB/80.15 MB\r",
      "\u001b[3B\u001b[3A\u001b[2K\r",
      "8ccc76a74787: Extracting 62.95 MB/80.15 MB\r",
      "\u001b[3B\u001b[3A\u001b[2K\r",
      "8ccc76a74787: Extracting  63.5 MB/80.15 MB\r",
      "\u001b[3B\u001b[3A\u001b[2K\r",
      "8ccc76a74787: Extracting 64.06 MB/80.15 MB\r",
      "\u001b[3B\u001b[3A\u001b[2K\r",
      "8ccc76a74787: Extracting 64.62 MB/80.15 MB\r",
      "\u001b[3B\u001b[3A\u001b[2K\r",
      "8ccc76a74787: Extracting 65.18 MB/80.15 MB\r",
      "\u001b[3B\u001b[3A\u001b[2K\r",
      "8ccc76a74787: Extracting 65.73 MB/80.15 MB\r",
      "\u001b[3B\u001b[3A\u001b[2K\r",
      "8ccc76a74787: Extracting 66.29 MB/80.15 MB\r",
      "\u001b[3B\u001b[3A\u001b[2K\r",
      "8ccc76a74787: Extracting 66.85 MB/80.15 MB\r",
      "\u001b[3B\u001b[3A\u001b[2K\r",
      "8ccc76a74787: Extracting  67.4 MB/80.15 MB\r",
      "\u001b[3B\u001b[3A\u001b[2K\r",
      "8ccc76a74787: Extracting 67.96 MB/80.15 MB\r",
      "\u001b[3B\u001b[3A\u001b[2K\r",
      "8ccc76a74787: Extracting 68.52 MB/80.15 MB\r",
      "\u001b[3B\u001b[3A\u001b[2K\r",
      "8ccc76a74787: Extracting 69.07 MB/80.15 MB\r",
      "\u001b[3B\u001b[3A\u001b[2K\r",
      "8ccc76a74787: Extracting 69.63 MB/80.15 MB\r",
      "\u001b[3B\u001b[3A\u001b[2K\r",
      "8ccc76a74787: Extracting 70.19 MB/80.15 MB\r",
      "\u001b[3B\u001b[3A\u001b[2K\r",
      "8ccc76a74787: Extracting 70.75 MB/80.15 MB\r",
      "\u001b[3B\u001b[3A\u001b[2K\r",
      "8ccc76a74787: Extracting  71.3 MB/80.15 MB\r",
      "\u001b[3B\u001b[3A\u001b[2K\r",
      "8ccc76a74787: Extracting 71.86 MB/80.15 MB\r",
      "\u001b[3B\u001b[3A\u001b[2K\r",
      "8ccc76a74787: Extracting 72.42 MB/80.15 MB\r",
      "\u001b[3B\u001b[3A\u001b[2K\r",
      "8ccc76a74787: Extracting 72.97 MB/80.15 MB\r",
      "\u001b[3B\u001b[3A\u001b[2K\r",
      "8ccc76a74787: Extracting 73.53 MB/80.15 MB\r",
      "\u001b[3B\u001b[3A\u001b[2K\r",
      "8ccc76a74787: Extracting 74.09 MB/80.15 MB\r",
      "\u001b[3B\u001b[3A\u001b[2K\r",
      "8ccc76a74787: Extracting 74.65 MB/80.15 MB\r",
      "\u001b[3B\u001b[3A\u001b[2K\r",
      "8ccc76a74787: Extracting  75.2 MB/80.15 MB\r",
      "\u001b[3B\u001b[3A\u001b[2K\r",
      "8ccc76a74787: Extracting 75.76 MB/80.15 MB\r",
      "\u001b[3B\u001b[3A\u001b[2K\r",
      "8ccc76a74787: Extracting 76.32 MB/80.15 MB\r",
      "\u001b[3B\u001b[3A\u001b[2K\r",
      "8ccc76a74787: Extracting 76.87 MB/80.15 MB\r",
      "\u001b[3B\u001b[3A\u001b[2K\r",
      "8ccc76a74787: Extracting 77.43 MB/80.15 MB\r",
      "\u001b[3B\u001b[3A\u001b[2K\r",
      "8ccc76a74787: Extracting 77.99 MB/80.15 MB\r",
      "\u001b[3B\u001b[3A\u001b[2K\r",
      "8ccc76a74787: Extracting 78.54 MB/80.15 MB\r",
      "\u001b[3B\u001b[3A\u001b[2K\r",
      "8ccc76a74787: Extracting  79.1 MB/80.15 MB\r",
      "\u001b[3B\u001b[3A\u001b[2K\r",
      "8ccc76a74787: Extracting 79.66 MB/80.15 MB\r",
      "\u001b[3B\u001b[3A\u001b[2K\r",
      "8ccc76a74787: Extracting 80.15 MB/80.15 MB\r",
      "\u001b[3B\u001b[3A\u001b[2K\r",
      "8ccc76a74787: Pull complete \r",
      "\u001b[3B\u001b[3A\u001b[2K\r",
      "8ccc76a74787: Pull complete \r",
      "\u001b[3B\u001b[2A\u001b[2K\r",
      "70fd525fbd3f: Extracting    123 B/123 B\r",
      "\u001b[2B\u001b[2A\u001b[2K\r",
      "70fd525fbd3f: Extracting    123 B/123 B\r",
      "\u001b[2B\u001b[2A\u001b[2K\r",
      "70fd525fbd3f: Pull complete \r",
      "\u001b[2B\u001b[2A\u001b[2K\r",
      "70fd525fbd3f: Pull complete \r",
      "\u001b[2B\u001b[1A\u001b[2K\r",
      "61b488f1b063: Extracting 1.353 kB/1.353 kB\r",
      "\u001b[1B\u001b[1A\u001b[2K\r",
      "61b488f1b063: Extracting 1.353 kB/1.353 kB\r",
      "\u001b[1B\u001b[1A\u001b[2K\r",
      "61b488f1b063: Pull complete \r",
      "\u001b[1B\u001b[1A\u001b[2K\r",
      "61b488f1b063: Pull complete \r",
      "\u001b[1BDigest: sha256:2242a664699c7dd1aaf3c380107d20bff45cbbe39d92e848c4c83240adc4169f\r\n",
      "Status: Downloaded newer image for golang:latest\r\n",
      "-rwxr-xr-x 1 root root 2367272 Feb  8 15:37 hello\r\n"
     ]
    }
   ],
   "source": [
    "# Compile our Go-code using the Go compiler provided by the 'golang' container:\n",
    "docker run -it -v $PWD:/go golang go build hello\n",
    "\n",
    "# Now we have our small static binary compiled\n",
    "ls -l hello"
   ]
  },
  {
   "cell_type": "markdown",
   "metadata": {},
   "source": [
    "Now we can build our image including this static binary."
   ]
  },
  {
   "cell_type": "code",
   "execution_count": 44,
   "metadata": {
    "collapsed": false
   },
   "outputs": [
    {
     "name": "stdout",
     "output_type": "stream",
     "text": [
      "Sending build context to Docker daemon 557.1 kB\r",
      "Sending build context to Docker daemon 1.114 MB\r",
      "Sending build context to Docker daemon 1.671 MB\r",
      "Sending build context to Docker daemon 2.228 MB\r",
      "Sending build context to Docker daemon 2.377 MB\r",
      "\r",
      "\r\n",
      "Step 1 : FROM scratch\r\n",
      " ---> \r\n",
      "Step 2 : MAINTAINER \"Docker Build Lab\" <dockerlabs@mjbright.net>\r\n",
      " ---> Using cache\r\n",
      " ---> 8e9605157ccf\r\n",
      "Step 3 : ADD ./hello /hello\r\n",
      " ---> 0aac2ea7bdeb\r\n",
      "Removing intermediate container e2ace3cfae0c\r\n",
      "Step 4 : CMD /hello\r\n",
      " ---> Running in 345e7db6224d\r\n",
      " ---> 438d3567ae8a\r\n",
      "Removing intermediate container 345e7db6224d\r\n",
      "Successfully built 438d3567ae8a\r\n"
     ]
    }
   ],
   "source": [
    "docker build -t lab/go-hello ."
   ]
  },
  {
   "cell_type": "code",
   "execution_count": 45,
   "metadata": {
    "collapsed": false
   },
   "outputs": [
    {
     "name": "stdout",
     "output_type": "stream",
     "text": [
      "REPOSITORY          TAG                 IMAGE ID            CREATED             SIZE\r\n",
      "lab/go-hello        latest              438d3567ae8a        4 seconds ago       2.367 MB\r\n",
      "lab/basic           latest              e3d7946e9d93        2 minutes ago       689.1 MB\r\n",
      "lab/c_prog          latest              659400ddd8d4        17 hours ago        877.2 kB\r\n"
     ]
    }
   ],
   "source": [
    "docker images lab/*"
   ]
  },
  {
   "cell_type": "markdown",
   "metadata": {
    "collapsed": true
   },
   "source": [
    "<a name=\"small-multi\"/>\n",
    "## Creating a toolset Docker image containing several executables\n",
    "[TOP](#TOP)\n",
    "\n",
    "Now let's see how we can combine these static binaries into one image.\n",
    "\n",
    "Let's build a new image derived from the Docker provided 'hello-world' image\n",
    "\n",
    "<font size=+1 color=\"#77f\">\n",
    "<b>The goal of this step is to show how we can combine several executables in an image, opening up the possibility of creating a container of tools.</b>\n",
    "</font>\n",
    "\n",
    "We will do this without directly 'installing a Go compiler' but by using the official *'golang'* image which includes the Go compiler."
   ]
  },
  {
   "cell_type": "code",
   "execution_count": 46,
   "metadata": {
    "collapsed": false
   },
   "outputs": [
    {
     "name": "stdout",
     "output_type": "stream",
     "text": [
      "total 3192\r\n",
      "-rw-rw-r--  1 vagrant vagrant      68 Feb  7 21:27 helloWorld.c\r\n",
      "-rw-rw-r--  1 vagrant vagrant     181 Feb  7 21:32 Dockerfile\r\n",
      "-rwxrwxr-x  1 vagrant vagrant     333 Feb  7 21:32 createTinyDockerImage.sh\r\n",
      "drwxrwxr-x 11 vagrant vagrant    4096 Feb  8 15:02 ..\r\n",
      "-rwxrwxr-x  1 vagrant vagrant  877192 Feb  8 15:38 helloWorld\r\n",
      "drwxrwxr-x  2 vagrant vagrant    4096 Feb  8 15:38 .\r\n",
      "-rwxr-xr-x  1 vagrant vagrant 2367272 Feb  8 15:38 helloWorldGo\r\n"
     ]
    }
   ],
   "source": [
    "cd ~/src/toolset\n",
    "\n",
    "cp ../createTinyC/helloWorld   helloWorld\n",
    "cp ../createTinyGo/hello       helloWorldGo\n",
    "\n",
    "ls -altr"
   ]
  },
  {
   "cell_type": "markdown",
   "metadata": {},
   "source": [
    "Create the Dockerfile with the following contents"
   ]
  },
  {
   "cell_type": "code",
   "execution_count": 47,
   "metadata": {
    "collapsed": false
   },
   "outputs": [
    {
     "name": "stdout",
     "output_type": "stream",
     "text": [
      "\r\n",
      "FROM hello-world\r\n",
      "MAINTAINER \"Docker Build Lab\" <dockerlabs@mjbright.net>\r\n",
      "\r\n",
      "ADD ./helloWorld /helloWorld\r\n",
      "CMD [\"/helloWorld\"]\r\n",
      "\r\n",
      "ADD ./helloWorldGo /helloWorldGo\r\n",
      "CMD [\"/helloWorldGo\"]\r\n",
      "\r\n"
     ]
    }
   ],
   "source": [
    "cat Dockerfile"
   ]
  },
  {
   "cell_type": "markdown",
   "metadata": {},
   "source": [
    "Now build the toolset with these executables included:"
   ]
  },
  {
   "cell_type": "code",
   "execution_count": 48,
   "metadata": {
    "collapsed": false
   },
   "outputs": [
    {
     "name": "stdout",
     "output_type": "stream",
     "text": [
      "Sending build context to Docker daemon 557.1 kB\r",
      "Sending build context to Docker daemon 1.114 MB\r",
      "Sending build context to Docker daemon 1.671 MB\r",
      "Sending build context to Docker daemon 2.228 MB\r",
      "Sending build context to Docker daemon 2.785 MB\r",
      "Sending build context to Docker daemon  3.25 MB\r",
      "\r",
      "\r\n",
      "Step 1 : FROM hello-world\r\n",
      " ---> 690ed74de00f\r\n",
      "Step 2 : MAINTAINER \"Docker Build Lab\" <dockerlabs@mjbright.net>\r\n",
      " ---> Running in 2a30569f66fa\r\n",
      " ---> 2813581e3ac0\r\n",
      "Removing intermediate container 2a30569f66fa\r\n",
      "Step 3 : ADD ./helloWorld /helloWorld\r\n",
      " ---> e8d91e3e5713\r\n",
      "Removing intermediate container 0a36f6762299\r\n",
      "Step 4 : CMD /helloWorld\r\n",
      " ---> Running in 8eba1b0029d1\r\n",
      " ---> db82d13ae941\r\n",
      "Removing intermediate container 8eba1b0029d1\r\n",
      "Step 5 : ADD ./helloWorldGo /helloWorldGo\r\n",
      " ---> 1c25395172b0\r\n",
      "Removing intermediate container aa5e10abd507\r\n",
      "Step 6 : CMD /helloWorldGo\r\n",
      " ---> Running in 1ed9542b8551\r\n",
      " ---> 6b82de537bd1\r\n",
      "Removing intermediate container 1ed9542b8551\r\n",
      "Successfully built 6b82de537bd1\r\n"
     ]
    }
   ],
   "source": [
    "docker build -t lab/toolset ./"
   ]
  },
  {
   "cell_type": "markdown",
   "metadata": {},
   "source": [
    "If we look at the history of this image we can see the different executables and CMDs which have been added including the original hello-world image."
   ]
  },
  {
   "cell_type": "code",
   "execution_count": 49,
   "metadata": {
    "collapsed": false
   },
   "outputs": [
    {
     "name": "stdout",
     "output_type": "stream",
     "text": [
      "IMAGE               CREATED             CREATED BY                                      SIZE                COMMENT\r\n",
      "6b82de537bd1        5 seconds ago       /bin/sh -c #(nop) CMD [\"/helloWorldGo\"]         0 B                 \r\n",
      "1c25395172b0        5 seconds ago       /bin/sh -c #(nop) ADD file:e8275a9025432fdf2e   2.367 MB            \r\n",
      "db82d13ae941        6 seconds ago       /bin/sh -c #(nop) CMD [\"/helloWorld\"]           0 B                 \r\n",
      "e8d91e3e5713        6 seconds ago       /bin/sh -c #(nop) ADD file:eb1f2e0a74291359d0   877.2 kB            \r\n",
      "2813581e3ac0        6 seconds ago       /bin/sh -c #(nop) MAINTAINER \"Docker Build La   0 B                 \r\n",
      "690ed74de00f        3 months ago        /bin/sh -c #(nop) CMD [\"/hello\"]                0 B                 \r\n",
      "<missing>           3 months ago        /bin/sh -c #(nop) COPY file:1ad52e3eaf4327c8f   960 B               \r\n"
     ]
    }
   ],
   "source": [
    "docker history lab/toolset"
   ]
  },
  {
   "cell_type": "markdown",
   "metadata": {},
   "source": [
    "Now we are free to specify which command is to be run.\n",
    "\n",
    "If we don't specify the command, the last (first in the above history list) will be run (so /helloWorldGo in this case)"
   ]
  },
  {
   "cell_type": "code",
   "execution_count": 50,
   "metadata": {
    "collapsed": false
   },
   "outputs": [
    {
     "name": "stdout",
     "output_type": "stream",
     "text": [
      "Hello world from Go !!\r\n"
     ]
    }
   ],
   "source": [
    "docker run lab/toolset"
   ]
  },
  {
   "cell_type": "markdown",
   "metadata": {},
   "source": [
    "Or we can explicitly choose the executable to be run, such as the /hello executable of the original \"hello-world\" image"
   ]
  },
  {
   "cell_type": "code",
   "execution_count": 51,
   "metadata": {
    "collapsed": false
   },
   "outputs": [
    {
     "name": "stdout",
     "output_type": "stream",
     "text": [
      "\r\n",
      "Hello from Docker.\r\n",
      "This message shows that your installation appears to be working correctly.\r\n",
      "\r\n",
      "To generate this message, Docker took the following steps:\r\n",
      " 1. The Docker client contacted the Docker daemon.\r\n",
      " 2. The Docker daemon pulled the \"hello-world\" image from the Docker Hub.\r\n",
      " 3. The Docker daemon created a new container from that image which runs the\r\n",
      "    executable that produces the output you are currently reading.\r\n",
      " 4. The Docker daemon streamed that output to the Docker client, which sent it\r\n",
      "    to your terminal.\r\n",
      "\r\n",
      "To try something more ambitious, you can run an Ubuntu container with:\r\n",
      " $ docker run -it ubuntu bash\r\n",
      "\r\n",
      "Share images, automate workflows, and more with a free Docker Hub account:\r\n",
      " https://hub.docker.com\r\n",
      "\r\n",
      "For more examples and ideas, visit:\r\n",
      " https://docs.docker.com/userguide/\r\n",
      "\r\n"
     ]
    }
   ],
   "source": [
    "docker run lab/toolset /hello"
   ]
  },
  {
   "cell_type": "code",
   "execution_count": 52,
   "metadata": {
    "collapsed": false
   },
   "outputs": [
    {
     "name": "stdout",
     "output_type": "stream",
     "text": [
      "Hello World!!\r\n"
     ]
    }
   ],
   "source": [
    "docker run lab/toolset /helloWorld"
   ]
  },
  {
   "cell_type": "code",
   "execution_count": 53,
   "metadata": {
    "collapsed": false
   },
   "outputs": [
    {
     "name": "stdout",
     "output_type": "stream",
     "text": [
      "Hello world from Go !!\r\n"
     ]
    }
   ],
   "source": [
    "docker run lab/toolset /helloWorldGo"
   ]
  },
  {
   "cell_type": "markdown",
   "metadata": {
    "collapsed": false
   },
   "source": [
    "We have seen how we can combine several executables in an image, and we can imagine creating a toolset container in this way (with some more useful executable tools!)"
   ]
  },
  {
   "cell_type": "markdown",
   "metadata": {
    "collapsed": true
   },
   "source": [
    "<a name=\"small-push\"/>\n",
    "## Pushing our image to Docker Hub\n",
    "[TOP](#TOP)\n",
    "\n",
    "**Note:** If you have your own account on Docker Hub you may wish to use that for this exercise.\n",
    "\n",
    "**Otherwise** we will all be using the same account **'dockerlabs'** so you will need to specify a tag which\n",
    "distinguishes your images from your neighbours.\n",
    "\n",
    "\n",
    "<font size=+1 color=\"#77f\">\n",
    "<b>The goal of this step is to demonstrate how we may push an image which we have built to the Docker Hub.</b>\n",
    "</font>\n",
    "\n",
    "First we will retag our local image to be unique.\n",
    "If you are on <font size=+1 color=\"#d88\">podN</font>, then tag with <font size=+1 color=\"#d88\">userN</font>,\n",
    "\n",
    "e.g. if you are <font size=+1 color=\"#d88\">pod3</font>,\n",
    "\n",
    "<font size=+1 color=\"#d88\"><br/>&nbsp;&nbsp;&nbsp;&nbsp;\n",
    "docker tag lab/toolset dockerlabs/toolset:user3\n",
    "</font>\n",
    "\n",
    "Notice that we then have 2 toolset images with different tags.\n",
    "\n",
    "They are otherwise identical (but they could be different) and have the same \"IMAGE ID\"."
   ]
  },
  {
   "cell_type": "code",
   "execution_count": 54,
   "metadata": {
    "collapsed": false
   },
   "outputs": [
    {
     "name": "stdout",
     "output_type": "stream",
     "text": [
      "REPOSITORY           TAG                 IMAGE ID            CREATED             SIZE\r\n",
      "dockerlabs/toolset   userN               6b82de537bd1        36 minutes ago      3.245 MB\r\n",
      "lab/toolset          latest              6b82de537bd1        36 minutes ago      3.245 MB\r\n"
     ]
    }
   ],
   "source": [
    "docker tag lab/toolset:latest dockerlabs/toolset:userN\n",
    "docker images */toolset"
   ]
  },
  {
   "cell_type": "markdown",
   "metadata": {},
   "source": [
    "First we must login to the Docker Hub.\n",
    "\n",
    "Ask you instructor for the password to the dockerlabs account."
   ]
  },
  {
   "cell_type": "code",
   "execution_count": 56,
   "metadata": {
    "collapsed": false
   },
   "outputs": [
    {
     "name": "stdout",
     "output_type": "stream",
     "text": [
      "WARNING: login credentials saved in /home/vagrant/.docker/config.json\r\n",
      "Login Succeeded\r\n"
     ]
    }
   ],
   "source": [
    "docker login -u dockerlabs -p $PASSWORD -e dockerlabs@mjbright.net"
   ]
  },
  {
   "cell_type": "markdown",
   "metadata": {},
   "source": [
    "Now we may push our image to the public Docker Hub"
   ]
  },
  {
   "cell_type": "code",
   "execution_count": 57,
   "metadata": {
    "collapsed": false
   },
   "outputs": [
    {
     "name": "stdout",
     "output_type": "stream",
     "text": [
      "The push refers to a repository [docker.io/dockerlabs/toolset]\r\n",
      "\r\n",
      "\u001b[0A\u001b[2K\r",
      "c04609a4ced5: Preparing \r",
      "\u001b[0B\r\n",
      "\u001b[0A\u001b[2K\r",
      "9cd6282bb409: Preparing \r",
      "\u001b[0B\r\n",
      "\u001b[0A\u001b[2K\r",
      "5f70bf18a086: Preparing \r",
      "\u001b[0B\r\n",
      "\u001b[0A\u001b[2K\r",
      "b652ec3a27e7: Preparing \r",
      "\u001b[0B\u001b[4A\u001b[2K\r",
      "c04609a4ced5: Pushing 33.28 kB/2.367 MB\r",
      "\u001b[4B\u001b[4A\u001b[2K\r",
      "c04609a4ced5: Pushing 66.05 kB/2.367 MB\r",
      "\u001b[4B\u001b[4A\u001b[2K\r",
      "c04609a4ced5: Pushing 98.82 kB/2.367 MB\r",
      "\u001b[4B\u001b[4A\u001b[2K\r",
      "c04609a4ced5: Pushing 131.6 kB/2.367 MB\r",
      "\u001b[4B\u001b[3A\u001b[2K\r",
      "9cd6282bb409: Pushing 33.28 kB/877.2 kB\r",
      "\u001b[3B\u001b[3A\u001b[2K\r",
      "9cd6282bb409: Pushing 66.05 kB/877.2 kB\r",
      "\u001b[3B\u001b[3A\u001b[2K\r",
      "9cd6282bb409: Pushing 98.82 kB/877.2 kB\r",
      "\u001b[3B\u001b[2A\u001b[2K\r",
      "5f70bf18a086: Pushing 1.024 kB\r",
      "\u001b[2B\u001b[4A\u001b[2K\r",
      "c04609a4ced5: Pushing 164.4 kB/2.367 MB\r",
      "\u001b[4B\u001b[3A\u001b[2K\r",
      "9cd6282bb409: Pushing 131.6 kB/877.2 kB\r",
      "\u001b[3B\u001b[3A\u001b[2K\r",
      "9cd6282bb409: Pushing 164.4 kB/877.2 kB\r",
      "\u001b[3B\u001b[3A\u001b[2K\r",
      "9cd6282bb409: Pushing 197.1 kB/877.2 kB\r",
      "\u001b[3B\u001b[4A\u001b[2K\r",
      "c04609a4ced5: Pushing 197.1 kB/2.367 MB\r",
      "\u001b[4B\u001b[3A\u001b[2K\r",
      "9cd6282bb409: Pushing 229.9 kB/877.2 kB\r",
      "\u001b[3B\u001b[3A\u001b[2K\r",
      "9cd6282bb409: Pushing 262.7 kB/877.2 kB\r",
      "\u001b[3B\u001b[3A\u001b[2K\r",
      "9cd6282bb409: Pushing 328.2 kB/877.2 kB\r",
      "\u001b[3B\u001b[4A\u001b[2K\r",
      "c04609a4ced5: Pushing 229.9 kB/2.367 MB\r",
      "\u001b[4B\u001b[4A\u001b[2K\r",
      "c04609a4ced5: Pushing 262.7 kB/2.367 MB\r",
      "\u001b[4B\u001b[4A\u001b[2K\r",
      "c04609a4ced5: Pushing 295.4 kB/2.367 MB\r",
      "\u001b[4B\u001b[4A\u001b[2K\r",
      "c04609a4ced5: Pushing 328.2 kB/2.367 MB\r",
      "\u001b[4B\u001b[3A\u001b[2K\r",
      "9cd6282bb409: Pushing   361 kB/877.2 kB\r",
      "\u001b[3B\u001b[4A\u001b[2K\r",
      "c04609a4ced5: Pushing   361 kB/2.367 MB\r",
      "\u001b[4B\u001b[3A\u001b[2K\r",
      "9cd6282bb409: Pushing 393.7 kB/877.2 kB\r",
      "\u001b[3B\u001b[4A\u001b[2K\r",
      "c04609a4ced5: Pushing 393.7 kB/2.367 MB\r",
      "\u001b[4B\u001b[4A\u001b[2K\r",
      "c04609a4ced5: Pushing 426.5 kB/2.367 MB\r",
      "\u001b[4B\u001b[3A\u001b[2K\r",
      "9cd6282bb409: Pushing 426.5 kB/877.2 kB\r",
      "\u001b[3B\u001b[4A\u001b[2K\r",
      "c04609a4ced5: Pushing   492 kB/2.367 MB\r",
      "\u001b[4B\u001b[4A\u001b[2K\r",
      "c04609a4ced5: Pushing 557.6 kB/2.367 MB\r",
      "\u001b[4B\u001b[4A\u001b[2K\r",
      "c04609a4ced5: Pushing 590.3 kB/2.367 MB\r",
      "\u001b[4B\u001b[4A\u001b[2K\r",
      "c04609a4ced5: Pushing 623.1 kB/2.367 MB\r",
      "\u001b[4B\u001b[3A\u001b[2K\r",
      "9cd6282bb409: Pushing   492 kB/877.2 kB\r",
      "\u001b[3B\u001b[4A\u001b[2K\r",
      "c04609a4ced5: Pushing 655.9 kB/2.367 MB\r",
      "\u001b[4B\u001b[3A\u001b[2K\r",
      "9cd6282bb409: Pushing 590.3 kB/877.2 kB\r",
      "\u001b[3B\u001b[4A\u001b[2K\r",
      "c04609a4ced5: Pushing 754.2 kB/2.367 MB\r",
      "\u001b[4B\u001b[3A\u001b[2K\r",
      "9cd6282bb409: Pushing 688.6 kB/877.2 kB\r",
      "\u001b[3B\u001b[3A\u001b[2K\r",
      "9cd6282bb409: Pushing 721.4 kB/877.2 kB\r",
      "\u001b[3B\u001b[4A\u001b[2K\r",
      "c04609a4ced5: Pushing 852.5 kB/2.367 MB\r",
      "\u001b[4B\u001b[4A\u001b[2K\r",
      "c04609a4ced5: Pushing 885.2 kB/2.367 MB\r",
      "\u001b[4B\u001b[3A\u001b[2K\r",
      "9cd6282bb409: Pushing 754.2 kB/877.2 kB\r",
      "\u001b[3B\u001b[4A\u001b[2K\r",
      "c04609a4ced5: Pushing   918 kB/2.367 MB\r",
      "\u001b[4B\u001b[3A\u001b[2K\r",
      "9cd6282bb409: Pushing 786.9 kB/877.2 kB\r",
      "\u001b[3B\u001b[3A\u001b[2K\r",
      "9cd6282bb409: Pushing 819.7 kB/877.2 kB\r",
      "\u001b[3B\u001b[4A\u001b[2K\r",
      "c04609a4ced5: Pushing 1.016 MB/2.367 MB\r",
      "\u001b[4B\u001b[4A\u001b[2K\r",
      "c04609a4ced5: Pushing 1.049 MB/2.367 MB\r",
      "\u001b[4B\u001b[3A\u001b[2K\r",
      "9cd6282bb409: Pushing 877.7 kB\r",
      "\u001b[3B\u001b[4A\u001b[2K\r",
      "c04609a4ced5: Pushing 1.082 MB/2.367 MB\r",
      "\u001b[4B\u001b[3A\u001b[2K\r",
      "9cd6282bb409: Pushing 879.1 kB\r",
      "\u001b[3B\u001b[4A\u001b[2K\r",
      "c04609a4ced5: Pushing 1.115 MB/2.367 MB\r",
      "\u001b[4B\u001b[4A\u001b[2K\r",
      "c04609a4ced5: Pushing 1.147 MB/2.367 MB\r",
      "\u001b[4B\u001b[4A\u001b[2K\r",
      "c04609a4ced5: Pushing  1.18 MB/2.367 MB\r",
      "\u001b[4B\u001b[4A\u001b[2K\r",
      "c04609a4ced5: Pushing 1.213 MB/2.367 MB\r",
      "\u001b[4B\u001b[1A\u001b[2K\r",
      "b652ec3a27e7: Pushing    512 B/960 B\r",
      "\u001b[1B\u001b[4A\u001b[2K\r",
      "c04609a4ced5: Pushing 1.246 MB/2.367 MB\r",
      "\u001b[4B\u001b[4A\u001b[2K\r",
      "c04609a4ced5: Pushing 1.278 MB/2.367 MB\r",
      "\u001b[4B\u001b[4A\u001b[2K\r",
      "c04609a4ced5: Pushing 1.311 MB/2.367 MB\r",
      "\u001b[4B\u001b[1A\u001b[2K\r",
      "b652ec3a27e7: Pushing 1.472 kB\r",
      "\u001b[1B\u001b[1A\u001b[2K\r",
      "b652ec3a27e7: Pushing  2.56 kB\r",
      "\u001b[1B\u001b[4A\u001b[2K\r",
      "c04609a4ced5: Pushing 1.377 MB/2.367 MB\r",
      "\u001b[4B\u001b[1A\u001b[2K\r",
      "b652ec3a27e7: Pushing  2.56 kB\r",
      "\u001b[1B\u001b[4A\u001b[2K\r",
      "c04609a4ced5: Pushing 1.475 MB/2.367 MB\r",
      "\u001b[4B\u001b[4A\u001b[2K\r",
      "c04609a4ced5: Pushing 1.541 MB/2.367 MB\r",
      "\u001b[4B\u001b[4A\u001b[2K\r",
      "c04609a4ced5: Pushing 1.639 MB/2.367 MB\r",
      "\u001b[4B\u001b[4A\u001b[2K\r",
      "c04609a4ced5: Pushing 1.672 MB/2.367 MB\r",
      "\u001b[4B\u001b[4A\u001b[2K\r",
      "c04609a4ced5: Pushing 1.704 MB/2.367 MB\r",
      "\u001b[4B\u001b[4A\u001b[2K\r",
      "c04609a4ced5: Pushing  1.77 MB/2.367 MB\r",
      "\u001b[4B\u001b[4A\u001b[2K\r",
      "c04609a4ced5: Pushing 1.868 MB/2.367 MB\r",
      "\u001b[4B\u001b[4A\u001b[2K\r",
      "c04609a4ced5: Pushing 1.901 MB/2.367 MB\r",
      "\u001b[4B\u001b[4A\u001b[2K\r",
      "c04609a4ced5: Pushing 1.934 MB/2.367 MB\r",
      "\u001b[4B\u001b[4A\u001b[2K\r",
      "c04609a4ced5: Pushing 1.967 MB/2.367 MB\r",
      "\u001b[4B\u001b[4A\u001b[2K\r",
      "c04609a4ced5: Pushing 1.999 MB/2.367 MB\r",
      "\u001b[4B\u001b[4A\u001b[2K\r",
      "c04609a4ced5: Pushing 2.032 MB/2.367 MB\r",
      "\u001b[4B\u001b[4A\u001b[2K\r",
      "c04609a4ced5: Pushing  2.13 MB/2.367 MB\r",
      "\u001b[4B\u001b[4A\u001b[2K\r",
      "c04609a4ced5: Pushing 2.163 MB/2.367 MB\r",
      "\u001b[4B\u001b[4A\u001b[2K\r",
      "c04609a4ced5: Pushing 2.262 MB/2.367 MB\r",
      "\u001b[4B\u001b[4A\u001b[2K\r",
      "c04609a4ced5: Pushing  2.36 MB/2.367 MB\r",
      "\u001b[4B\u001b[4A\u001b[2K\r",
      "c04609a4ced5: Pushing 2.369 MB\r",
      "\u001b[4B\u001b[1A\u001b[2K\r",
      "b652ec3a27e7: Pushed \r",
      "\u001b[1B\u001b[1A\u001b[2K\r",
      "b652ec3a27e7: Pushed \r",
      "\u001b[1B\u001b[2A\u001b[2K\r",
      "5f70bf18a086: Pushed \r",
      "\u001b[2B\u001b[2A\u001b[2K\r",
      "5f70bf18a086: Pushed \r",
      "\u001b[2B\u001b[4A\u001b[2K\r",
      "c04609a4ced5: Pushed \r",
      "\u001b[4B\u001b[4A\u001b[2K\r",
      "c04609a4ced5: Pushed \r",
      "\u001b[4B\u001b[3A\u001b[2K\r",
      "9cd6282bb409: Pushed \r",
      "\u001b[3B\u001b[3A\u001b[2K\r",
      "9cd6282bb409: Pushed \r",
      "\u001b[3BuserN: digest: sha256:b77d291ac6e7b86640922f63048dd55f654cc1b2dc8019647cfbaed20b643cc8 size: 4619\r\n"
     ]
    }
   ],
   "source": [
    "docker push dockerlabs/toolset:userN"
   ]
  },
  {
   "cell_type": "markdown",
   "metadata": {},
   "source": [
    "**NOTE:** The docker search command is not very useful.\n",
    "\n",
    "and the below command doesn't show us the tags ... and so we don't know if the below image is tagged user1, user2, ..."
   ]
  },
  {
   "cell_type": "code",
   "execution_count": 58,
   "metadata": {
    "collapsed": false
   },
   "outputs": [
    {
     "name": "stdout",
     "output_type": "stream",
     "text": [
      "NAME                 DESCRIPTION   STARS     OFFICIAL   AUTOMATED\r\n",
      "dockerlabs/toolset                 0                    \r\n"
     ]
    }
   ],
   "source": [
    "docker search dockerlabs/"
   ]
  },
  {
   "cell_type": "markdown",
   "metadata": {},
   "source": [
    "### Logging on to DockerHub to see your tagged image there\n",
    "\n",
    "So for this step, log onto DockerHub\n",
    "    https://hub.docker.com/"
   ]
  },
  {
   "cell_type": "code",
   "execution_count": 59,
   "metadata": {
    "collapsed": false
   },
   "outputs": [
    {
     "name": "stdout",
     "output_type": "stream",
     "text": []
    },
    {
     "data": {
      "image/jpeg": "[encoded data removed]"
     },
     "metadata": {},
     "output_type": "display_data"
    }
   ],
   "source": [
    "# Ignore this line: it is just to display the image below\n",
    "\n",
    "curl -s 'http://image.slidesharecdn.com/dockerdemystifiedforsbjug-150918181554-lva1-app6892/95/docker-demystified-for-sb-jug-34-638.jpg' | display"
   ]
  },
  {
   "cell_type": "markdown",
   "metadata": {},
   "source": [
    "As dockerlabs (dockerlabs AT mjbright.net) with the appropriate password (ask your instructor)\n",
    "\n",
    "Once logged you should see the dockerlabs/toolset listed, otherwise you can search for it.\n",
    "\n",
    "Click on the [dockerlabs/toolset](https://hub.docker.com/r/dockerlabs/toolset/) link, then on the [Tags](https://hub.docker.com/r/dockerlabs/toolset/tags/) link and you should now see your tagged image there."
   ]
  },
  {
   "cell_type": "markdown",
   "metadata": {},
   "source": [
    "#### Remove any running *'dockerlabs/toolset'* containers on your system\n",
    "\n",
    "We do this step to make sure we can easily delete your local dockerlabs/toolset:userN image.\n",
    "\n",
    "These steps could be done by hand through use of 'docker ps' and 'docker ps -a' and picking containers ids corresponding to 'dockerlabs/toolset' containers to use with 'docker stop' and 'docker rm' commands.\n",
    "\n",
    "The below expressions do this automatically for us."
   ]
  },
  {
   "cell_type": "code",
   "execution_count": 60,
   "metadata": {
    "collapsed": false
   },
   "outputs": [
    {
     "name": "stdout",
     "output_type": "stream",
     "text": [
      "\r\n",
      "Currently running or stopped 'dockerlabs/toolset' containers\r\n",
      "CONTAINER ID        IMAGE               COMMAND             CREATED             STATUS              PORTS               NAMES\r\n",
      "\r\n",
      "Stopping any running 'dockerlabs/toolset' containers (so we can remove dockerlabs/ image)\r\n",
      "\r\n",
      "Removing any stopped 'dockerlabs/toolset' containers (so we can remove dockerlabs/ image)\r\n",
      "\r\n",
      "There should be no more 'dockerlabs/toolset' containers present:\r\n",
      "CONTAINER ID        IMAGE               COMMAND             CREATED             STATUS              PORTS               NAMES\r\n"
     ]
    }
   ],
   "source": [
    "IMAGE_NAME=dockerlabs/toolset\n",
    "\n",
    "echo; echo \"Currently running or stopped '$IMAGE_NAME' containers\"\n",
    "docker ps -a --filter=ancestor=$IMAGE_NAME\n",
    "\n",
    "echo; echo \"Stopping any running '$IMAGE_NAME' containers (so we can remove dockerlabs/ image)\"\n",
    "docker stop $(docker ps --filter=ancestor=$IMAGE_NAME) 2>/dev/null\n",
    "\n",
    "echo; echo \"Removing any stopped '$IMAGE_NAME' containers (so we can remove dockerlabs/ image)\"\n",
    "docker rm $(docker ps -a --filter=ancestor=$IMAGE_NAME) 2>/dev/null\n",
    "\n",
    "echo; echo \"There should be no more '$IMAGE_NAME' containers present:\"\n",
    "docker ps -a --filter=ancestor=$IMAGE_NAME"
   ]
  },
  {
   "cell_type": "code",
   "execution_count": 61,
   "metadata": {
    "collapsed": false
   },
   "outputs": [
    {
     "name": "stdout",
     "output_type": "stream",
     "text": [
      "REPOSITORY           TAG                 IMAGE ID            CREATED             SIZE\r\n",
      "dockerlabs/toolset   userN               6b82de537bd1        38 minutes ago      3.245 MB\r\n"
     ]
    }
   ],
   "source": [
    "docker images dockerlabs/*"
   ]
  },
  {
   "cell_type": "markdown",
   "metadata": {},
   "source": [
    "Note that the following rmi command 'Untags' the image.\n",
    "\n",
    "This is because it is the same - has the same image id - as our original 'lab/toolset' image.\n",
    "\n",
    "Removing the dockerlabs/toolset image does not remove the identical 'lab/toolset' image but removes the 'dockerlabs/toolset' tag."
   ]
  },
  {
   "cell_type": "code",
   "execution_count": 62,
   "metadata": {
    "collapsed": false
   },
   "outputs": [
    {
     "name": "stdout",
     "output_type": "stream",
     "text": [
      "Untagged: dockerlabs/toolset:userN\r\n"
     ]
    }
   ],
   "source": [
    "docker rmi dockerlabs/toolset:userN"
   ]
  },
  {
   "cell_type": "code",
   "execution_count": 63,
   "metadata": {
    "collapsed": false
   },
   "outputs": [
    {
     "name": "stdout",
     "output_type": "stream",
     "text": [
      "REPOSITORY          TAG                 IMAGE ID            CREATED             SIZE\r\n"
     ]
    }
   ],
   "source": [
    "docker images dockerlabs/*"
   ]
  },
  {
   "cell_type": "markdown",
   "metadata": {},
   "source": [
    "As we have removed ('untagged') the dockerlabs/toolset image, the following run command will download it from the Docker Hub"
   ]
  },
  {
   "cell_type": "code",
   "execution_count": 64,
   "metadata": {
    "collapsed": false
   },
   "outputs": [
    {
     "name": "stdout",
     "output_type": "stream",
     "text": [
      "Unable to find image 'dockerlabs/toolset:userN' locally\r\n",
      "userN: Pulling from dockerlabs/toolset\r\n",
      "\u001b[0B\r\n",
      "\u001b[0A\u001b[2K\r",
      "03f4658f8b78: Already exists \r",
      "\u001b[0B\r\n",
      "\u001b[0A\u001b[2K\r",
      "a3ed95caeb02: Already exists \r",
      "\u001b[0B\r\n",
      "\u001b[0A\u001b[2K\r",
      "157cafd668ce: Already exists \r",
      "\u001b[0B\r\n",
      "\u001b[0A\u001b[2K\r",
      "c4f546ef4a2c: Already exists \r",
      "\u001b[0BDigest: sha256:b77d291ac6e7b86640922f63048dd55f654cc1b2dc8019647cfbaed20b643cc8\r\n",
      "Status: Downloaded newer image for dockerlabs/toolset:userN\r\n",
      "Hello world from Go !!\r\n"
     ]
    }
   ],
   "source": [
    "docker run dockerlabs/toolset:userN"
   ]
  },
  {
   "cell_type": "code",
   "execution_count": 65,
   "metadata": {
    "collapsed": false
   },
   "outputs": [
    {
     "name": "stdout",
     "output_type": "stream",
     "text": [
      "REPOSITORY           TAG                 IMAGE ID            CREATED             SIZE\r\n",
      "dockerlabs/toolset   userN               d34fbee9ad6f        39 minutes ago      3.245 MB\r\n"
     ]
    }
   ],
   "source": [
    "docker images dockerlabs/*"
   ]
  },
  {
   "cell_type": "code",
   "execution_count": 66,
   "metadata": {
    "collapsed": false
   },
   "outputs": [
    {
     "name": "stdout",
     "output_type": "stream",
     "text": [
      "Hello World!!\r\n"
     ]
    }
   ],
   "source": [
    "docker run dockerlabs/toolset:userN /helloWorld"
   ]
  },
  {
   "cell_type": "code",
   "execution_count": 67,
   "metadata": {
    "collapsed": false
   },
   "outputs": [
    {
     "name": "stdout",
     "output_type": "stream",
     "text": [
      "\r\n",
      "Hello from Docker.\r\n",
      "This message shows that your installation appears to be working correctly.\r\n",
      "\r\n",
      "To generate this message, Docker took the following steps:\r\n",
      " 1. The Docker client contacted the Docker daemon.\r\n",
      " 2. The Docker daemon pulled the \"hello-world\" image from the Docker Hub.\r\n",
      " 3. The Docker daemon created a new container from that image which runs the\r\n",
      "    executable that produces the output you are currently reading.\r\n",
      " 4. The Docker daemon streamed that output to the Docker client, which sent it\r\n",
      "    to your terminal.\r\n",
      "\r\n",
      "To try something more ambitious, you can run an Ubuntu container with:\r\n",
      " $ docker run -it ubuntu bash\r\n",
      "\r\n",
      "Share images, automate workflows, and more with a free Docker Hub account:\r\n",
      " https://hub.docker.com\r\n",
      "\r\n",
      "For more examples and ideas, visit:\r\n",
      " https://docs.docker.com/userguide/\r\n",
      "\r\n"
     ]
    }
   ],
   "source": [
    "docker run dockerlabs/toolset:userN /hello"
   ]
  },
  {
   "cell_type": "markdown",
   "metadata": {},
   "source": [
    "<a name=\"build-best-practices\"/>\n",
    "## Dockerfile best practices\n",
    "[TOP](#TOP)\n",
    "\n",
    "<font size=+1 color=\"#77f\">\n",
    "<b>The goal of this step is to demonstrate certain Dockerfile optimizations.</b>\n",
    "</font>\n",
    "\n",
    "- group related commands together using '&&' to reduce image layers\n",
    "- if temporary files are to be removed\n"
   ]
  },
  {
   "cell_type": "code",
   "execution_count": 68,
   "metadata": {
    "collapsed": false
   },
   "outputs": [
    {
     "name": "stdout",
     "output_type": "stream",
     "text": [
      "\r\n",
      "FROM ubuntu\r\n",
      "\r\n",
      "MAINTAINER \"Docker Labs\" <dockerlabs@mjbright.net>\r\n",
      "\r\n",
      "#\r\n",
      "# Instead of perofmring the followinf commands individually which\r\n",
      "# involves creating a separate image layer for each RUN command:\r\n",
      "#   RUN apt-get update\r\n",
      "#   RUN apt-get -y -q upgrade\r\n",
      "#   RUN rm -rf /var/lib/apt/lists/*\r\n",
      "\r\n",
      "# Here we combine the update, upgrade and cleanup steps into one command\r\n",
      "# - This produces less image layers (better for disk space and performance)\r\n",
      "# - This keeps image smaller by removing temporary files in the same layer\r\n",
      "#     If we performed update/upgrade and then rm as a separate step there would\r\n",
      "#     be an intermediate layer including those files, making the overall image larger.\r\n",
      "#\r\n",
      "\r\n",
      "RUN apt-get update && apt-get -y -q upgrade && rm -rf /var/lib/apt/lists/*\r\n",
      "\r\n"
     ]
    }
   ],
   "source": [
    "cd ~/src/build-best-practices\n",
    "cat Dockerfile"
   ]
  },
  {
   "cell_type": "markdown",
   "metadata": {
    "collapsed": true
   },
   "source": [
    "TO be completed ... !!"
   ]
  },
  {
   "cell_type": "markdown",
   "metadata": {},
   "source": [
    "<a name=\"lang-stacks\" />\n",
    "## Using the official 'Language Stack' images\n",
    "[TOP](#TOP)\n",
    "\n",
    "<a name=\"medium-node\" />\n",
    "## Creating a Node.js application from the Node.js 'LanguageStack' Docker image\n",
    "[TOP](#TOP)\n",
    "\n",
    "Docker provide a set of *'Language Stacks'* which are medium sized images representing the necessary dependencies for a particular language.\n",
    "\n",
    "<font size=+1 color=\"#77f\">\n",
    "<b>The goal of this step is to demonstrate the use of Docker-provided *Language Stacks*.</b>\n",
    "</font>\n",
    "\n",
    "On the [Docker Hub](https://hub.docker.com/) we can find language stacks available for a variety of languages/environments, each with different release versions (Python 2.x and Python 3.x for example):\n",
    "- [Node.js (Javascript)](https://hub.docker.com/_/node/)\n",
    "- [Python](https://hub.docker.com/_/python/)\n",
    "- [Ruby](https://hub.docker.com/_/ruby/)\n",
    "\n",
    "You can browse the complete list of *'Official Images*' on the Docker Hub [here](https://hub.docker.com/explore/)\n",
    "\n",
    "Now let's look at an example of Node.js.\n",
    "To run a Node.js application this time we will need\n",
    "\n"
   ]
  },
  {
   "cell_type": "code",
   "execution_count": 69,
   "metadata": {
    "collapsed": false
   },
   "outputs": [
    {
     "name": "stdout",
     "output_type": "stream",
     "text": [
      "Using default tag: latest\r\n",
      "latest: Pulling from library/node\r\n",
      "\u001b[0B\r\n",
      "\u001b[0A\u001b[2K\r",
      "03e1855d4f31: Already exists \r",
      "\u001b[0B\r\n",
      "\u001b[0A\u001b[2K\r",
      "a3ed95caeb02: Already exists \r",
      "\u001b[0B\r\n",
      "\u001b[0A\u001b[2K\r",
      "9269ba3950bb: Already exists \r",
      "\u001b[0B\r\n",
      "\u001b[0A\u001b[2K\r",
      "6ecee6444751: Already exists \r",
      "\u001b[0B\r\n",
      "\u001b[0A\u001b[2K\r",
      "7a0c192d4d25: Already exists \r",
      "\u001b[0B\r\n",
      "\u001b[0A\u001b[2K\r",
      "9e9f27c61394: Already exists \r",
      "\u001b[0B\u001b[5A\u001b[2K\r",
      "a3ed95caeb02: Already exists \r",
      "\u001b[5B\u001b[5A\u001b[2K\r",
      "a3ed95caeb02: Already exists \r",
      "\u001b[5B\r\n",
      "\u001b[0A\u001b[2K\r",
      "bb0313a49384: Already exists \r",
      "\u001b[0B\u001b[6A\u001b[2K\r",
      "a3ed95caeb02: Already exists \r",
      "\u001b[6BDigest: sha256:1bdda7cdd0a8f9c44ac6f51c77de9f42ed3f62efdf557dba6bcca675084de1bd\r\n",
      "Status: Image is up to date for node:latest\r\n"
     ]
    }
   ],
   "source": [
    "docker pull node"
   ]
  },
  {
   "cell_type": "code",
   "execution_count": 70,
   "metadata": {
    "collapsed": false
   },
   "outputs": [
    {
     "name": "stdout",
     "output_type": "stream",
     "text": [
      "REPOSITORY          TAG                 IMAGE ID            CREATED             SIZE\r\n",
      "node                latest              baa18fdeb577        12 days ago         643.1 MB\r\n"
     ]
    }
   ],
   "source": [
    "docker images node"
   ]
  },
  {
   "cell_type": "code",
   "execution_count": 71,
   "metadata": {
    "collapsed": false
   },
   "outputs": [
    {
     "name": "stdout",
     "output_type": "stream",
     "text": [
      "IMAGE               CREATED             CREATED BY                                      SIZE                COMMENT\r\n",
      "baa18fdeb577        12 days ago         /bin/sh -c #(nop) CMD [\"node\"]                  0 B                 \r\n",
      "<missing>           12 days ago         /bin/sh -c curl -SLO \"https://nodejs.org/dist   36.39 MB            \r\n",
      "<missing>           12 days ago         /bin/sh -c #(nop) ENV NODE_VERSION=5.5.0        0 B                 \r\n",
      "<missing>           12 days ago         /bin/sh -c #(nop) ENV NPM_CONFIG_LOGLEVEL=inf   0 B                 \r\n",
      "<missing>           12 days ago         /bin/sh -c set -ex   && for key in     9554F0   51.75 kB            \r\n",
      "<missing>           13 days ago         /bin/sh -c apt-get update && apt-get install    314.7 MB            \r\n",
      "<missing>           13 days ago         /bin/sh -c apt-get update && apt-get install    122.6 MB            \r\n",
      "<missing>           13 days ago         /bin/sh -c apt-get update && apt-get install    44.3 MB             \r\n",
      "<missing>           13 days ago         /bin/sh -c #(nop) CMD [\"/bin/bash\"]             0 B                 \r\n",
      "<missing>           13 days ago         /bin/sh -c #(nop) ADD file:e5a3d20748c5d3dd5f   125.1 MB            \r\n"
     ]
    }
   ],
   "source": [
    "docker history node"
   ]
  },
  {
   "cell_type": "code",
   "execution_count": 72,
   "metadata": {
    "collapsed": false
   },
   "outputs": [
    {
     "name": "stdout",
     "output_type": "stream",
     "text": [
      "total 24\r\n",
      "drwxrwxr-x  2 vagrant vagrant 4096 Feb  7 21:27 src\r\n",
      "-rw-rw-r--  1 vagrant vagrant  116 Feb  7 21:27 README.md\r\n",
      "-rw-rw-r--  1 vagrant vagrant  315 Feb  7 21:32 Dockerfile\r\n",
      "-rwxrwxr-x  1 vagrant vagrant   78 Feb  7 21:32 build_run.sh\r\n",
      "drwxrwxr-x  3 vagrant vagrant 4096 Feb  7 21:32 .\r\n",
      "drwxrwxr-x 11 vagrant vagrant 4096 Feb  8 15:02 ..\r\n"
     ]
    }
   ],
   "source": [
    "cd ~/src/nodeJS/\n",
    "ls -altr"
   ]
  },
  {
   "cell_type": "markdown",
   "metadata": {},
   "source": [
    "Once again edit the Dockerfile to have the contents shown below:"
   ]
  },
  {
   "cell_type": "code",
   "execution_count": 73,
   "metadata": {
    "collapsed": false
   },
   "outputs": [
    {
     "name": "stdout",
     "output_type": "stream",
     "text": [
      "\r\n",
      "FROM node\r\n",
      "\r\n",
      "# make the src folder available in the docker image\r\n",
      "ADD src/ /src\r\n",
      "\r\n",
      "\r\n",
      "WORKDIR /src\r\n",
      "\r\n",
      "# install the dependencies from the package.json file\r\n",
      "RUN npm install\r\n",
      "\r\n",
      "# make port 80 available outside of the image\r\n",
      "EXPOSE 80\r\n",
      "\r\n",
      "# start node with the index.js file of our hello-world application\r\n",
      "CMD [\"node\", \"index.js\"]\r\n",
      "\r\n"
     ]
    }
   ],
   "source": [
    "cat Dockerfile"
   ]
  },
  {
   "cell_type": "markdown",
   "metadata": {},
   "source": [
    "Now let's build  the image"
   ]
  },
  {
   "cell_type": "code",
   "execution_count": 74,
   "metadata": {
    "collapsed": false
   },
   "outputs": [
    {
     "name": "stdout",
     "output_type": "stream",
     "text": [
      "Sending build context to Docker daemon 6.656 kB\r",
      "\r",
      "\r\n",
      "Step 1 : FROM node\r\n",
      " ---> baa18fdeb577\r\n",
      "Step 2 : ADD src/ /src\r\n",
      " ---> 185d94954037\r\n",
      "Removing intermediate container 9bb58bd74883\r\n",
      "Step 3 : WORKDIR /src\r\n",
      " ---> Running in ff9be9297185\r\n",
      " ---> b9d929ce3d90\r\n",
      "Removing intermediate container ff9be9297185\r\n",
      "Step 4 : RUN npm install\r\n",
      " ---> Running in 40468215f688\r\n",
      "\u001b[91mnpm\u001b[0m\u001b[91m info it worked if it ends with ok\r\n",
      "\u001b[0m\u001b[91mnpm info \u001b[0m\u001b[91musing npm@3.3.12\r\n",
      "npm \u001b[0m\u001b[91minfo using node@v5.5.0\r\n",
      "\u001b[0m\u001b[91mnpm info attempt registry request try #1 at 4:18:42 PM\r\n",
      "\u001b[0m\u001b[91mnpm\u001b[0m\u001b[91m http request GET https://registry.npmjs.org/express\r\n",
      "\u001b[0m\u001b[91mnpm http 200 https://registry.npmjs.org/express\r\n",
      "\u001b[0m\u001b[91mnpm info retry fetch attempt 1 at 4:18:50 PM\r\n",
      "npm info attempt registry request try #1 at 4:18:50 PM\r\n",
      "\u001b[0m\u001b[91mnpm http fetch GET https://registry.npmjs.org/express/-/express-4.12.0.tgz\r\n",
      "\u001b[0m\u001b[91mnpm http fetch 200 https://registry.npmjs.org/express/-/express-4.12.0.tgz\r\n",
      "\u001b[0m\u001b[91mnpm info attempt registry request try #1 at 4:18:51 PM\r\n",
      "\u001b[0m\u001b[91mnpm http request GET https://registry.npmjs.org/accepts\r\n",
      "\u001b[0m\u001b[91mnpm info attempt registry request try #1 at 4:18:51 PM\r\n",
      "npm \u001b[0m\u001b[91mhttp request GET https://registry.npmjs.org/content-disposition\r\n",
      "\u001b[0m\u001b[91mnpm info attempt registry request try #1 at 4:18:51 PM\r\n",
      "\u001b[0m\u001b[91mnpm http request GET https://registry.npmjs.org/content-type\r\n",
      "\u001b[0m\u001b[91mnpm info attempt registry request try #1 at 4:18:51 PM\r\n",
      "npm http request GET https://registry.npmjs.org/cookie-signature\r\n",
      "npm info attempt registry request try #1 at 4:18:51 PM\r\n",
      "\u001b[0m\u001b[91mnpm http request GET https://registry.npmjs.org/debug\r\n",
      "\u001b[0m\u001b[91mnpm info \u001b[0m\u001b[91mattempt\u001b[0m\u001b[91m registry request try #1 at 4:18:51 PM\r\n",
      "\u001b[0m\u001b[91mnpm http\u001b[0m\u001b[91m request GET https://registry.npmjs.org/depd\r\n",
      "\u001b[0m\u001b[91mnpm info attempt registry request try #1 at 4:18:51 PM\r\n",
      "\u001b[0m\u001b[91mnpm http request GET https://registry.npmjs.org/escape-html\r\n",
      "\u001b[0m\u001b[91mnpm info \u001b[0m\u001b[91mattempt registry request try #1 at 4:18:51 PM\r\n",
      "npm http request GET https://registry.npmjs.org/etag\r\n",
      "\u001b[0m\u001b[91mnpm info attempt registry request try #1 at 4:18:51 PM\r\n",
      "npm\u001b[0m\u001b[91m http request GET https://registry.npmjs.org/finalhandler\r\n",
      "npm info attempt registry request try #1 at 4:18:51 PM\r\n",
      "\u001b[0m\u001b[91mnpm \u001b[0m\u001b[91mhttp request GET https://registry.npmjs.org/fresh\r\n",
      "\u001b[0m\u001b[91mnpm info attempt registry request try #1 at 4:18:51 PM\r\n",
      "\u001b[0m\u001b[91mnpm http request GET https://registry.npmjs.org/methods\r\n",
      "\u001b[0m\u001b[91mnpm info attempt registry request try #1 at 4:18:51 PM\r\n",
      "npm http request\u001b[0m\u001b[91m GET https://registry.npmjs.org/on-finished\r\n",
      "npm info attempt registry request try #1 at 4:18:51 PM\r\n",
      "\u001b[0m\u001b[91mnpm http request GET https://registry.npmjs.org/parseurl\r\n",
      "npm \u001b[0m\u001b[91minfo attempt registry request try #1 at 4:18:51 PM\r\n",
      "npm http request GET https://registry.npmjs.org/path-to-regexp\r\n",
      "\u001b[0m\u001b[91mnpm info attempt registry request try #1 at 4:18:51 PM\r\n",
      "npm http request GET https://registry.npmjs.org/proxy-addr\r\n",
      "\u001b[0m\u001b[91mnpm info attempt\u001b[0m\u001b[91m registry request try #1 at 4:18:51 PM\r\n",
      "\u001b[0m\u001b[91mnpm http request GET https://registry.npmjs.org/qs\r\n",
      "npm info attempt registry request try #1 at 4:18:51 PM\r\n",
      "npm\u001b[0m\u001b[91m http request GET https://registry.npmjs.org/range-parser\r\n",
      "\u001b[0m\u001b[91mnpm info attempt registry request try #1 at 4:18:51 PM\r\n",
      "\u001b[0m\u001b[91mnpm http request GET https://registry.npmjs.org/send\r\n",
      "npm info attempt registry request try #1 at 4:18:51 PM\r\n",
      "npm http request GET https://registry.npmjs.org/serve-static\r\n",
      "npm info attempt registry request try #1 at 4:18:51 PM\r\n",
      "\u001b[0m\u001b[91mnpm http request GET https://registry.npmjs.org/type-is\r\n",
      "\u001b[0m\u001b[91mnpm info attempt registry request try #1 at 4:18:51 PM\r\n",
      "\u001b[0m\u001b[91mnpm http request GET https://registry.npmjs.org/vary\r\n",
      "\u001b[0m\u001b[91mnpm info attempt registry request try #1 at 4:18:51 PM\r\n",
      "npm http request GET https://registry.npmjs.org/cookie\r\n",
      "npm info\u001b[0m\u001b[91m attempt registry request try #1 at 4:18:51 PM\r\n",
      "npm http request GET https://registry.npmjs.org/merge-descriptors\r\n",
      "\u001b[0m\u001b[91mnpm info attempt registry request try #1 at 4:18:51 PM\r\n",
      "npm http request GET https://registry.npmjs.org/utils-merge\r\n",
      "\u001b[0m\u001b[91mnpm http 200 https://registry.npmjs.org/cookie-signature\r\n",
      "\u001b[0m\u001b[91mnpm\u001b[0m\u001b[91m http 200 https://registry.npmjs.org/content-disposition\r\n",
      "\u001b[0m\u001b[91mnpm \u001b[0m\u001b[91mhttp 200 https://registry.npmjs.org/content-type\r\n",
      "\u001b[0m\u001b[91mnpm http 200 https://registry.npmjs.org/escape-html\r\n",
      "\u001b[0m\u001b[91mnpm http 200 https://registry.npmjs.org/accepts\r\n",
      "\u001b[0m\u001b[91mnpm\u001b[0m\u001b[91m http 200\u001b[0m\u001b[91m https://registry.npmjs.org/debug\r\n",
      "\u001b[0m\u001b[91mnpm http 200 https://registry.npmjs.org/depd\r\n",
      "\u001b[0m\u001b[91mnpm\u001b[0m\u001b[91m http\u001b[0m\u001b[91m \u001b[0m\u001b[91m200 https://registry.npmjs.org/fresh\r\n",
      "\u001b[0m\u001b[91mnpm http 200 https://registry.npmjs.org/methods\r\n",
      "\u001b[0m\u001b[91mnpm http 200 https://registry.npmjs.org/finalhandler\r\n",
      "\u001b[0m\u001b[91mnpm http 200 https://registry.npmjs.org/etag\r\n",
      "\u001b[0m\u001b[91mnpm info retry fetch attempt 1 at 4:18:52 PM\r\n",
      "npm info attempt registry request try #1 at 4:18:52 PM\r\n",
      "npm http fetch GET https://registry.npmjs.org/cookie-signature/-/cookie-signature-1.0.6.tgz\r\n",
      "\u001b[0m\u001b[91mnpm info retry fetch attempt 1 at 4:18:52 PM\r\n",
      "npm info attempt registry request try #1 at 4:18:52 PM\r\n",
      "\u001b[0m\u001b[91mnpm http fetch GET https://registry.npmjs.org/content-disposition/-/content-disposition-0.5.0.tgz\r\n",
      "npm info retry fetch attempt 1 at 4:18:52 PM\r\n",
      "npm info attempt registry request try #1 at 4:18:52 PM\r\n",
      "npm http fetch GET https://registry.npmjs.org/content-type/-/content-type-1.0.1.tgz\r\n",
      "npm info retry fetch attempt 1 at 4:18:52 PM\r\n",
      "\u001b[0m\u001b[91mnpm\u001b[0m\u001b[91m info attempt registry request try #1 at 4:18:52 PM\r\n",
      "npm http fetch GET https://registry.npmjs.org/escape-html/-/escape-html-1.0.1.tgz\r\n",
      "\u001b[0m\u001b[91mnpm info retry fetch attempt 1 at 4:18:52 PM\r\n",
      "npm info attempt registry request try #1 at 4:18:52 PM\r\n",
      "npm http fetch GET https://registry.npmjs.org/accepts/-/accepts-1.2.13.tgz\r\n",
      "\u001b[0m\u001b[91mnpm info retry fetch attempt 1 at 4:18:52 PM\r\n",
      "npm info attempt registry request try #1 at 4:18:52 PM\r\n",
      "npm\u001b[0m\u001b[91m http fetch GET https://registry.npmjs.org/debug/-/debug-2.1.3.tgz\r\n",
      "\u001b[0m\u001b[91mnpm info retry fetch attempt 1 at 4:18:52 PM\r\n",
      "npm info attempt registry request try #1 at 4:18:52 PM\r\n",
      "npm http fetch GET https://registry.npmjs.org/depd/-/depd-1.0.1.tgz\r\n",
      "npm info retry fetch attempt 1 at 4:18:52 PM\r\n",
      "npm info attempt registry request try #1 at 4:18:52 PM\r\n",
      "npm http fetch GET https://registry.npmjs.org/fresh/-/fresh-0.2.4.tgz\r\n",
      "\u001b[0m\u001b[91mnpm info retry fetch attempt 1 at 4:18:52 PM\r\n",
      "npm info attempt registry request try #1 at 4:18:52 PM\r\n",
      "npm\u001b[0m\u001b[91m http fetch GET https://registry.npmjs.org/methods/-/methods-1.1.2.tgz\r\n",
      "\u001b[0m\u001b[91mnpm http 200 https://registry.npmjs.org/proxy-addr\r\n",
      "\u001b[0m\u001b[91mnpm http 200 https://registry.npmjs.org/on-finished\r\n",
      "\u001b[0m\u001b[91mnpm\u001b[0m\u001b[91m http 200 https://registry.npmjs.org/parseurl\r\n",
      "\u001b[0m\u001b[91mnpm http 200 https://registry.npmjs.org/range-parser\r\n",
      "\u001b[0m\u001b[91mnpm http 200 https://registry.npmjs.org/path-to-regexp\r\n",
      "\u001b[0m\u001b[91mnpm http 200 https://registry.npmjs.org/vary\r\n",
      "\u001b[0m\u001b[91mnpm http 200 https://registry.npmjs.org/qs\r\n",
      "\u001b[0m\u001b[91mnpm http 200 https://registry.npmjs.org/merge-descriptors\r\n",
      "\u001b[0m\u001b[91mnpm info retry fetch attempt 1 at 4:18:53 PM\r\n",
      "npm info attempt registry request try #1 at 4:18:53 PM\r\n",
      "npm \u001b[0m\u001b[91mhttp fetch GET https://registry.npmjs.org/finalhandler/-/finalhandler-0.3.3.tgz\r\n",
      "\u001b[0m\u001b[91mnpm info \u001b[0m\u001b[91mretry fetch attempt 1 at 4:18:53 PM\r\n",
      "npm info attempt registry request try #1 at 4:18:53 PM\r\n",
      "npm http fetch GET https://registry.npmjs.org/etag/-/etag-1.5.1.tgz\r\n",
      "\u001b[0m\u001b[91mnpm http 200 https://registry.npmjs.org/send\r\n",
      "\u001b[0m\u001b[91mnpm http 200 https://registry.npmjs.org/serve-static\r\n",
      "\u001b[0m\u001b[91mnpm http 200 https://registry.npmjs.org/cookie\r\n",
      "\u001b[0m\u001b[91mnpm http 200 https://registry.npmjs.org/utils-merge\r\n",
      "\u001b[0m\u001b[91mnpm info retry fetch attempt 1 at 4:18:53 PM\r\n",
      "npm info attempt registry request try #1 at 4:18:53 PM\r\n",
      "npm http\u001b[0m\u001b[91m fetch GET https://registry.npmjs.org/proxy-addr/-/proxy-addr-1.0.10.tgz\r\n",
      "npm info retry fetch attempt 1 at 4:18:53 PM\r\n",
      "npm info attempt registry request try #1 at 4:18:53 PM\r\n",
      "\u001b[0m\u001b[91mnpm http fetch GET https://registry.npmjs.org/on-finished/-/on-finished-2.2.1.tgz\r\n",
      "npm info retry fetch attempt 1 at 4:18:53 PM\r\n",
      "npm info attempt registry request try #1 at 4:18:53 PM\r\n",
      "npm\u001b[0m\u001b[91m http fetch GET https://registry.npmjs.org/parseurl/-/parseurl-1.3.1.tgz\r\n",
      "npm info retry fetch attempt 1 at 4:18:53 PM\r\n",
      "npm info attempt registry request try #1 at 4:18:53 PM\r\n",
      "npm http fetch GET https://registry.npmjs.org/range-parser/-/range-parser-1.0.3.tgz\r\n",
      "\u001b[0m\u001b[91mnpm info retry fetch attempt 1 at 4:18:53 PM\r\n",
      "npm info attempt registry request try #1 at 4:18:53 PM\r\n",
      "npm http fetch GET https://registry.npmjs.org/path-to-regexp/-/path-to-regexp-0.1.3.tgz\r\n",
      "npm info\u001b[0m\u001b[91m retry fetch attempt 1 at 4:18:53 PM\r\n",
      "npm info attempt registry request try #1 at 4:18:53 PM\r\n",
      "npm http fetch GET https://registry.npmjs.org/vary/-/vary-1.0.1.tgz\r\n",
      "\u001b[0m\u001b[91mnpm info retry fetch attempt 1 at 4:18:53 PM\r\n",
      "npm info attempt registry request try #1 at 4:18:53 PM\r\n",
      "\u001b[0m\u001b[91mnpm http fetch GET https://registry.npmjs.org/qs/-/qs-2.3.3.tgz\r\n",
      "\u001b[0m\u001b[91mnpm info\u001b[0m\u001b[91m retry fetch attempt 1 at 4:18:53 PM\r\n",
      "npm info attempt registry request try #1 at 4:18:53 PM\r\n",
      "npm http fetch GET https://registry.npmjs.org/merge-descriptors/-/merge-descriptors-0.0.2.tgz\r\n",
      "\u001b[0m\u001b[91mnpm http 200 https://registry.npmjs.org/type-is\r\n",
      "\u001b[0m\u001b[91mnpm http fetch 200 https://registry.npmjs.org/cookie-signature/-/cookie-signature-1.0.6.tgz\r\n",
      "\u001b[0m\u001b[91mnpm http fetch 200 https://registry.npmjs.org/content-disposition/-/content-disposition-0.5.0.tgz\r\n",
      "npm http fetch 200 https://registry.npmjs.org/content-type/-/content-type-1.0.1.tgz\r\n",
      "npm http fetch 200 https://registry.npmjs.org/escape-html/-/escape-html-1.0.1.tgz\r\n",
      "\u001b[0m\u001b[91mnpm http \u001b[0m\u001b[91mfetch 200 https://registry.npmjs.org/depd/-/depd-1.0.1.tgz\r\n",
      "\u001b[0m\u001b[91mnpm http fetch 200 https://registry.npmjs.org/debug/-/debug-2.1.3.tgz\r\n",
      "\u001b[0m\u001b[91mnpm http fetch 200 https://registry.npmjs.org/accepts/-/accepts-1.2.13.tgz\r\n",
      "\u001b[0m\u001b[91mnpm http fetch 200 https://registry.npmjs.org/fresh/-/fresh-0.2.4.tgz\r\n",
      "\u001b[0m\u001b[91mnpm http fetch 200 https://registry.npmjs.org/methods/-/methods-1.1.2.tgz\r\n",
      "\u001b[0m\u001b[91mnpm info retry fetch attempt 1 at 4:18:53 PM\r\n",
      "npm info attempt registry request try #1 at 4:18:53 PM\r\n",
      "npm http fetch GET https://registry.npmjs.org/send/-/send-0.12.1.tgz\r\n",
      "npm info retry fetch attempt 1 at 4:18:53 PM\r\n",
      "npm info attempt registry request try #1 at 4:18:53 PM\r\n",
      "npm http fetch\u001b[0m\u001b[91m GET https://registry.npmjs.org/serve-static/-/serve-static-1.9.3.tgz\r\n",
      "npm info retry\u001b[0m\u001b[91m fetch attempt 1 at 4:18:53 PM\r\n",
      "npm info attempt registry request try #1 at 4:18:53 PM\r\n",
      "npm http fetch GET https://registry.npmjs.org/cookie/-/cookie-0.1.2.tgz\r\n",
      "\u001b[0m\u001b[91mnpm info\u001b[0m\u001b[91m retry fetch attempt 1 at 4:18:53 PM\r\n",
      "npm info attempt registry request try #1 at 4:18:53 PM\r\n",
      "npm http fetch\u001b[0m\u001b[91m GET https://registry.npmjs.org/utils-merge/-/utils-merge-1.0.0.tgz\r\n",
      "\u001b[0m\u001b[91mnpm http fetch\u001b[0m\u001b[91m 200 https://registry.npmjs.org/finalhandler/-/finalhandler-0.3.3.tgz\r\n",
      "\u001b[0m\u001b[91mnpm http fetch 200 https://registry.npmjs.org/etag/-/etag-1.5.1.tgz\r\n",
      "\u001b[0m\u001b[91mnpm\u001b[0m\u001b[91m http fetch 200 https://registry.npmjs.org/proxy-addr/-/proxy-addr-1.0.10.tgz\r\n",
      "npm http fetch 200 https://registry.npmjs.org/on-finished/-/on-finished-2.2.1.tgz\r\n",
      "\u001b[0m\u001b[91mnpm http fetch 200 https://registry.npmjs.org/parseurl/-/parseurl-1.3.1.tgz\r\n",
      "\u001b[0m\u001b[91mnpm http fetch 200 https://registry.npmjs.org/range-parser/-/range-parser-1.0.3.tgz\r\n",
      "\u001b[0m\u001b[91mnpm\u001b[0m\u001b[91m info retry fetch attempt 1 at 4:18:53 PM\r\n",
      "\u001b[0m\u001b[91mnpm info attempt registry request try #1 at 4:18:53 PM\r\n",
      "npm http fetch GET https://registry.npmjs.org/type-is/-/type-is-1.6.11.tgz\r\n",
      "\u001b[0m\u001b[91mnpm http fetch 200 https://registry.npmjs.org/path-to-regexp/-/path-to-regexp-0.1.3.tgz\r\n",
      "\u001b[0m\u001b[91mnpm http fetch 200 https://registry.npmjs.org/vary/-/vary-1.0.1.tgz\r\n",
      "\u001b[0m\u001b[91mnpm http fetch 200 https://registry.npmjs.org/merge-descriptors/-/merge-descriptors-0.0.2.tgz\r\n",
      "\u001b[0m\u001b[91mnpm http fetch 200 https://registry.npmjs.org/qs/-/qs-2.3.3.tgz\r\n",
      "\u001b[0m\u001b[91mnpm http fetch 200 https://registry.npmjs.org/cookie/-/cookie-0.1.2.tgz\r\n",
      "\u001b[0m\u001b[91mnpm\u001b[0m\u001b[91m http fetch 200 https://registry.npmjs.org/serve-static/-/serve-static-1.9.3.tgz\r\n",
      "\u001b[0m\u001b[91mnpm http fetch 200 https://registry.npmjs.org/utils-merge/-/utils-merge-1.0.0.tgz\r\n",
      "\u001b[0m\u001b[91mnpm http fetch 200 https://registry.npmjs.org/send/-/send-0.12.1.tgz\r\n",
      "\u001b[0m\u001b[91mnpm\u001b[0m\u001b[91m http fetch 200 https://registry.npmjs.org/type-is/-/type-is-1.6.11.tgz\r\n",
      "\u001b[0m\u001b[91mnpm info attempt registry request try #1 at 4:18:54 PM\r\n",
      "npm http request GET https://registry.npmjs.org/mime-types\r\n",
      "\u001b[0m\u001b[91mnpm info attempt registry request try #1 at 4:18:54 PM\r\n",
      "npm http request GET https://registry.npmjs.org/negotiator\r\n",
      "\u001b[0m\u001b[91mnpm http 200 https://registry.npmjs.org/negotiator\r\n",
      "\u001b[0m\u001b[91mnpm info retry fetch attempt 1 at 4:18:55 PM\r\n",
      "npm info attempt registry request try #1 at 4:18:55 PM\r\n",
      "npm http fetch GET https://registry.npmjs.org/negotiator/-/negotiator-0.5.3.tgz\r\n",
      "\u001b[0m\u001b[91mnpm http 200 https://registry.npmjs.org/mime-types\r\n",
      "\u001b[0m\u001b[91mnpm info retry fetch attempt 1 at 4:18:55 PM\r\n",
      "npm info attempt registry request try #1 at 4:18:55 PM\r\n",
      "npm http fetch GET https://registry.npmjs.org/mime-types/-/mime-types-2.1.9.tgz\r\n",
      "\u001b[0m\u001b[91mnpm http fetch 200 https://registry.npmjs.org/negotiator/-/negotiator-0.5.3.tgz\r\n",
      "\u001b[0m\u001b[91mnpm http \u001b[0m\u001b[91mfetch 200 https://registry.npmjs.org/mime-types/-/mime-types-2.1.9.tgz\r\n",
      "\u001b[0m\u001b[91mnpm info attempt registry request try #1 at 4:18:55 PM\r\n",
      "npm http request GET https://registry.npmjs.org/mime-db\r\n",
      "\u001b[0m\u001b[91mnpm\u001b[0m\u001b[91m http 200 https://registry.npmjs.org/mime-db\r\n",
      "\u001b[0m\u001b[91mnpm\u001b[0m\u001b[91m \u001b[0m\u001b[91minfo retry fetch attempt 1 at 4:18:56 PM\r\n",
      "npm \u001b[0m\u001b[91minfo attempt registry request try #1 at 4:18:56 PM\r\n",
      "npm \u001b[0m\u001b[91mhttp fetch GET https://registry.npmjs.org/mime-db/-/mime-db-1.21.0.tgz\r\n",
      "\u001b[0m\u001b[91mnpm http \u001b[0m\u001b[91mfetch 200 https://registry.npmjs.org/mime-db/-/mime-db-1.21.0.tgz\r\n",
      "\u001b[0m\u001b[91mnpm info attempt registry request try #1 at 4:18:57 PM\r\n",
      "npm http request GET https://registry.npmjs.org/ms\r\n",
      "\u001b[0m\u001b[91mnpm http 200 https://registry.npmjs.org/ms\r\n",
      "\u001b[0m\u001b[91mnpm info retry fetch attempt 1 at 4:18:58 PM\r\n",
      "npm info attempt registry request try #1 at 4:18:58 PM\r\n",
      "npm http fetch GET https://registry.npmjs.org/ms/-/ms-0.7.0.tgz\r\n",
      "\u001b[0m\u001b[91mnpm http fetch 200 https://registry.npmjs.org/ms/-/ms-0.7.0.tgz\r\n",
      "\u001b[0m\u001b[91mnpm info attempt\u001b[0m\u001b[91m registry request try #1 at 4:18:58 PM\r\n",
      "npm http request GET https://registry.npmjs.org/crc\r\n",
      "\u001b[0m\u001b[91mnpm http 200 https://registry.npmjs.org/crc\r\n",
      "\u001b[0m\u001b[91mnpm info retry fetch attempt 1 at 4:18:59 PM\r\n",
      "npm info attempt registry request try #1 at 4:18:59 PM\r\n",
      "npm http fetch GET https://registry.npmjs.org/crc/-/crc-3.2.1.tgz\r\n",
      "\u001b[0m\u001b[91mnpm http fetch 200 https://registry.npmjs.org/crc/-/crc-3.2.1.tgz\r\n",
      "\u001b[0m\u001b[91mnpm info attempt registry request try #1 at 4:18:59 PM\r\n",
      "npm http request GET https://registry.npmjs.org/ee-first\r\n",
      "\u001b[0m\u001b[91mnpm http 200 https://registry.npmjs.org/ee-first\r\n",
      "\u001b[0m\u001b[91mnpm info retry fetch attempt 1 at 4:19:00 PM\r\n",
      "npm info attempt registry request try #1 at 4:19:00 PM\r\n",
      "npm http \u001b[0m\u001b[91mfetch GET https://registry.npmjs.org/ee-first/-/ee-first-1.1.0.tgz\r\n",
      "\u001b[0m\u001b[91mnpm http fetch 200 https://registry.npmjs.org/ee-first/-/ee-first-1.1.0.tgz\r\n",
      "\u001b[0m\u001b[91mnpm info attempt registry request try #1 at 4:19:01 PM\r\n",
      "npm http request GET https://registry.npmjs.org/forwarded\r\n",
      "\u001b[0m\u001b[91mnpm info attempt registry request try #1 at 4:19:01 PM\r\n",
      "npm http\u001b[0m\u001b[91m request GET https://registry.npmjs.org/ipaddr.js\r\n",
      "\u001b[0m\u001b[91mnpm http 200 https://registry.npmjs.org/forwarded\r\n",
      "\u001b[0m\u001b[91mnpm\u001b[0m\u001b[91m info retry fetch attempt 1 at 4:19:01 PM\r\n",
      "\u001b[0m\u001b[91mnpm info attempt registry request try #1 at 4:19:01 PM\r\n",
      "npm http fetch GET https://registry.npmjs.org/forwarded/-/forwarded-0.1.0.tgz\r\n",
      "\u001b[0m\u001b[91mnpm http 200 https://registry.npmjs.org/ipaddr.js\r\n",
      "\u001b[0m\u001b[91mnpm info retry fetch attempt 1 at 4:19:01 PM\r\n",
      "\u001b[0m\u001b[91mnpm info attempt\u001b[0m\u001b[91m registry request try #1 at 4:19:01 PM\r\n",
      "\u001b[0m\u001b[91mnpm http fetch GET https://registry.npmjs.org/ipaddr.js/-/ipaddr.js-1.0.5.tgz\r\n",
      "\u001b[0m\u001b[91mnpm http fetch 200 https://registry.npmjs.org/forwarded/-/forwarded-0.1.0.tgz\r\n",
      "\u001b[0m\u001b[91mnpm http fetch 200 https://registry.npmjs.org/ipaddr.js/-/ipaddr.js-1.0.5.tgz\r\n",
      "\u001b[0m\u001b[91mnpm info attempt registry request try #1 at 4:19:02 PM\r\n",
      "npm http request GET https://registry.npmjs.org/destroy\r\n",
      "\u001b[0m\u001b[91mnpm info attempt registry request try #1 at 4:19:02 PM\r\n",
      "npm http request GET https://registry.npmjs.org/mime\r\n",
      "\u001b[0m\u001b[91mnpm http 200 https://registry.npmjs.org/destroy\r\n",
      "\u001b[0m\u001b[91mnpm info retry fetch attempt 1 at 4:19:02 PM\r\n",
      "npm info attempt registry request try #1 at 4:19:02 PM\r\n",
      "npm http fetch GET https://registry.npmjs.org/destroy/-/destroy-1.0.3.tgz\r\n",
      "\u001b[0m\u001b[91mnpm http 200 https://registry.npmjs.org/mime\r\n",
      "\u001b[0m\u001b[91mnpm info retry fetch attempt 1 at 4:19:03 PM\r\n",
      "npm info attempt\u001b[0m\u001b[91m registry request try #1 at 4:19:03 PM\r\n",
      "\u001b[0m\u001b[91mnpm http fetch GET https://registry.npmjs.org/mime/-/mime-1.3.4.tgz\r\n",
      "\u001b[0m\u001b[91mnpm http fetch 200 https://registry.npmjs.org/destroy/-/destroy-1.0.3.tgz\r\n",
      "\u001b[0m\u001b[91mnpm http fetch 200 https://registry.npmjs.org/mime/-/mime-1.3.4.tgz\r\n",
      "\u001b[0m\u001b[91mnpm info attempt registry request try #1 at 4:19:03 PM\r\n",
      "npm http request GET https://registry.npmjs.org/send\r\n",
      "\u001b[0m\u001b[91mnpm http 304 https://registry.npmjs.org/send\r\n",
      "\u001b[0m\u001b[91mnpm info retry fetch attempt 1 at 4:19:04 PM\r\n",
      "npm\u001b[0m\u001b[91m info attempt registry request try #1 at 4:19:04 PM\r\n",
      "npm http fetch GET https://registry.npmjs.org/send/-/send-0.12.3.tgz\r\n",
      "\u001b[0m\u001b[91mnpm http fetch 200 https://registry.npmjs.org/send/-/send-0.12.3.tgz\r\n",
      "\u001b[0m\u001b[91mnpm info attempt registry request try #1 at 4:19:04 PM\r\n",
      "npm http request GET https://registry.npmjs.org/debug\r\n",
      "\u001b[0m\u001b[91mnpm info attempt registry request try #1 at 4:19:04 PM\r\n",
      "npm http request GET https://registry.npmjs.org/etag\r\n",
      "\u001b[0m\u001b[91mnpm info retry fetch attempt 1 at 4:19:04 PM\r\n",
      "npm \u001b[0m\u001b[91minfo attempt registry request try #1 at 4:19:04 PM\r\n",
      "npm\u001b[0m\u001b[91m http fetch GET https://registry.npmjs.org/ms/-/ms-0.7.1.tgz\r\n",
      "\u001b[0m\u001b[91mnpm http 304 https://registry.npmjs.org/debug\r\n",
      "\u001b[0m\u001b[91mnpm http 304 https://registry.npmjs.org/etag\r\n",
      "\u001b[0m\u001b[91mnpm http fetch 200 https://registry.npmjs.org/ms/-/ms-0.7.1.tgz\r\n",
      "\u001b[0m\u001b[91mnpm info retry fetch attempt 1 at 4:19:05 PM\r\n",
      "npm info attempt registry request try #1 at 4:19:05 PM\r\n",
      "\u001b[0m\u001b[91mnpm http fetch GET https://registry.npmjs.org/debug/-/debug-2.2.0.tgz\r\n",
      "\u001b[0m\u001b[91mnpm info retry fetch attempt 1 at 4:19:05 PM\r\n",
      "npm info attempt registry request try #1 at 4:19:05 PM\r\n",
      "npm http fetch GET https://registry.npmjs.org/etag/-/etag-1.6.0.tgz\r\n",
      "\u001b[0m\u001b[91mnpm http fetch 200 https://registry.npmjs.org/etag/-/etag-1.6.0.tgz\r\n",
      "\u001b[0m\u001b[91mnpm http fetch 200 https://registry.npmjs.org/debug/-/debug-2.2.0.tgz\r\n",
      "\u001b[0m\u001b[91mnpm info attempt registry request try #1 at 4:19:05 PM\r\n",
      "npm http request GET https://registry.npmjs.org/media-typer\r\n",
      "\u001b[0m\u001b[91mnpm http 200 https://registry.npmjs.org/media-typer\r\n",
      "\u001b[0m\u001b[91mnpm info retry fetch attempt 1 at 4:19:06 PM\r\n",
      "npm info attempt registry request try #1 at 4:19:06 PM\r\n",
      "npm http fetch GET https://registry.npmjs.org/media-typer/-/media-typer-0.3.0.tgz\r\n",
      "\u001b[0m\u001b[91mnpm http fetch 200 https://registry.npmjs.org/media-typer/-/media-typer-0.3.0.tgz\r\n",
      "\u001b[0m\u001b[91mnpm\u001b[0m\u001b[91m info lifecycle content-disposition@0.5.0~preinstall: content-disposition@0.5.0\r\n",
      "\u001b[0m\u001b[91mnpm info lifecycle content-type@1.0.1~preinstall: content-type@1.0.1\r\n",
      "npm info lifecycle cookie@0.1.2~preinstall: cookie@0.1.2\r\n",
      "npm info lifecycle cookie-signature@1.0.6~preinstall: cookie-signature@1.0.6\r\n",
      "npm info lifecycle crc@3.2.1~preinstall: crc@3.2.1\r\n",
      "\u001b[0m\u001b[91mnpm info lifecycle depd@1.0.1~preinstall: depd@1.0.1\r\n",
      "npm info lifecycle destroy@1.0.3~preinstall: destroy@1.0.3\r\n",
      "npm info lifecycle ee-first@1.1.0~preinstall: ee-first@1.1.0\r\n",
      "\u001b[0m\u001b[91mnpm info lifecycle escape-html@1.0.1~preinstall: escape-html@1.0.1\r\n",
      "npm info lifecycle etag@1.5.1~preinstall: etag@1.5.1\r\n",
      "npm info lifecycle forwarded@0.1.0~preinstall: forwarded@0.1.0\r\n",
      "npm info lifecycle fresh@0.2.4~preinstall: fresh@0.2.4\r\n",
      "npm info\u001b[0m\u001b[91m lifecycle ipaddr.js@1.0.5~preinstall: ipaddr.js@1.0.5\r\n",
      "npm info lifecycle media-typer@0.3.0~preinstall: media-typer@0.3.0\r\n",
      "npm info lifecycle merge-descriptors@0.0.2~preinstall: merge-descriptors@0.0.2\r\n",
      "npm info lifecycle methods@1.1.2~preinstall: methods@1.1.2\r\n",
      "\u001b[0m\u001b[91mnpm info lifecycle mime@1.3.4~preinstall: mime@1.3.4\r\n",
      "npm info lifecycle mime-db@1.21.0~preinstall: mime-db@1.21.0\r\n",
      "npm info lifecycle mime-types@2.1.9~preinstall: mime-types@2.1.9\r\n",
      "\u001b[0m\u001b[91mnpm info lifecycle ms@0.7.0~preinstall: ms@0.7.0\r\n",
      "npm info lifecycle debug@2.1.3~preinstall: debug@2.1.3\r\n",
      "\u001b[0m\u001b[91mnpm info lifecycle\u001b[0m\u001b[91m negotiator@0.5.3~preinstall: negotiator@0.5.3\r\n",
      "\u001b[0m\u001b[91mnpm info lifecycle accepts@1.2.13~preinstall: accepts@1.2.13\r\n",
      "npm \u001b[0m\u001b[91minfo lifecycle on-finished@2.2.1~preinstall: on-finished@2.2.1\r\n",
      "npm info lifecycle finalhandler@0.3.3~preinstall: finalhandler@0.3.3\r\n",
      "npm info lifecycle parseurl@1.3.1~preinstall: parseurl@1.3.1\r\n",
      "\u001b[0m\u001b[91mnpm info lifecycle path-to-regexp@0.1.3~preinstall: path-to-regexp@0.1.3\r\n",
      "npm info lifecycle proxy-addr@1.0.10~preinstall: proxy-addr@1.0.10\r\n",
      "npm info lifecycle qs@2.3.3~preinstall: qs@2.3.3\r\n",
      "\u001b[0m\u001b[91mnpm info lifecycle range-parser@1.0.3~preinstall: range-parser@1.0.3\r\n",
      "npm info lifecycle send@0.12.1~preinstall: send@0.12.1\r\n",
      "\u001b[0m\u001b[91mnpm info lifecycle etag@1.6.0~preinstall: etag@1.6.0\r\n",
      "npm info lifecycle ms@0.7.1~preinstall: ms@0.7.1\r\n",
      "\u001b[0m\u001b[91mnpm info lifecycle debug@2.2.0~preinstall: debug@2.2.0\r\n",
      "\u001b[0m\u001b[91mnpm info lifecycle send@0.12.3~preinstall: send@0.12.3\r\n",
      "npm info\u001b[0m\u001b[91m lifecycle type-is@1.6.11~preinstall: type-is@1.6.11\r\n",
      "npm info lifecycle utils-merge@1.0.0~preinstall: utils-merge@1.0.0\r\n",
      "\u001b[0m\u001b[91mnpm info lifecycle serve-static@1.9.3~preinstall: serve-static@1.9.3\r\n",
      "npm info lifecycle vary@1.0.1~preinstall: vary@1.0.1\r\n",
      "\u001b[0m\u001b[91mnpm info lifecycle express@4.12.0~preinstall: express@4.12.0\r\n",
      "\u001b[0m\u001b[91mnpm info linkStuff content-disposition@0.5.0\r\n",
      "\u001b[0m\u001b[91mnpm info linkStuff content-type@1.0.1\r\n",
      "\u001b[0m\u001b[91mnpm info linkStuff cookie@0.1.2\r\n",
      "\u001b[0m\u001b[91mnpm info linkStuff cookie-signature@1.0.6\r\n",
      "\u001b[0m\u001b[91mnpm info linkStuff crc@3.2.1\r\n",
      "\u001b[0m\u001b[91mnpm info linkStuff depd@1.0.1\r\n",
      "npm\u001b[0m\u001b[91m info linkStuff destroy@1.0.3\r\n",
      "\u001b[0m\u001b[91mnpm info linkStuff ee-first@1.1.0\r\n",
      "\u001b[0m\u001b[91mnpm info linkStuff escape-html@1.0.1\r\n",
      "\u001b[0m\u001b[91mnpm info linkStuff etag@1.5.1\r\n",
      "\u001b[0m\u001b[91mnpm info linkStuff forwarded@0.1.0\r\n",
      "\u001b[0m\u001b[91mnpm info linkStuff fresh@0.2.4\r\n",
      "\u001b[0m\u001b[91mnpm\u001b[0m\u001b[91m info linkStuff ipaddr.js@1.0.5\r\n",
      "\u001b[0m\u001b[91mnpm info linkStuff media-typer@0.3.0\r\n",
      "\u001b[0m\u001b[91mnpm info linkStuff merge-descriptors@0.0.2\r\n",
      "\u001b[0m\u001b[91mnpm info linkStuff methods@1.1.2\r\n",
      "\u001b[0m\u001b[91mnpm info linkStuff mime@1.3.4\r\n",
      "\u001b[0m\u001b[91mnpm info linkStuff mime-db@1.21.0\r\n",
      "\u001b[0m\u001b[91mnpm info linkStuff mime-types@2.1.9\r\n",
      "\u001b[0m\u001b[91mnpm info linkStuff ms@0.7.0\r\n",
      "\u001b[0m\u001b[91mnpm info linkStuff debug@2.1.3\r\n",
      "\u001b[0m\u001b[91mnpm info linkStuff negotiator@0.5.3\r\n",
      "\u001b[0m\u001b[91mnpm info linkStuff accepts@1.2.13\r\n",
      "\u001b[0m\u001b[91mnpm info linkStuff on-finished@2.2.1\r\n",
      "\u001b[0m\u001b[91mnpm info linkStuff finalhandler@0.3.3\r\n",
      "\u001b[0m\u001b[91mnpm info\u001b[0m\u001b[91m linkStuff parseurl@1.3.1\r\n",
      "\u001b[0m\u001b[91mnpm info linkStuff path-to-regexp@0.1.3\r\n",
      "\u001b[0m\u001b[91mnpm\u001b[0m\u001b[91m info linkStuff proxy-addr@1.0.10\r\n",
      "\u001b[0m\u001b[91mnpm info linkStuff qs@2.3.3\r\n",
      "\u001b[0m\u001b[91mnpm info linkStuff range-parser@1.0.3\r\n",
      "\u001b[0m\u001b[91mnpm\u001b[0m\u001b[91m info linkStuff send@0.12.1\r\n",
      "\u001b[0m\u001b[91mnpm info linkStuff etag@1.6.0\r\n",
      "\u001b[0m\u001b[91mnpm\u001b[0m\u001b[91m info linkStuff ms@0.7.1\r\n",
      "\u001b[0m\u001b[91mnpm info linkStuff debug@2.2.0\r\n",
      "\u001b[0m\u001b[91mnpm info linkStuff send@0.12.3\r\n",
      "\u001b[0m\u001b[91mnpm info linkStuff type-is@1.6.11\r\n",
      "\u001b[0m\u001b[91mnpm info linkStuff utils-merge@1.0.0\r\n",
      "\u001b[0m\u001b[91mnpm info linkStuff serve-static@1.9.3\r\n",
      "\u001b[0m\u001b[91mnpm info linkStuff vary@1.0.1\r\n",
      "\u001b[0m\u001b[91mnpm info linkStuff express@4.12.0\r\n",
      "\u001b[0m\u001b[91mnpm info lifecycle content-disposition@0.5.0~install: content-disposition@0.5.0\r\n",
      "\u001b[0m\u001b[91mnpm info lifecycle content-type@1.0.1~install: content-type@1.0.1\r\n",
      "\u001b[0m\u001b[91mnpm info lifecycle cookie@0.1.2~install: cookie@0.1.2\r\n",
      "\u001b[0m\u001b[91mnpm info lifecycle cookie-signature@1.0.6~install: cookie-signature@1.0.6\r\n",
      "\u001b[0m\u001b[91mnpm info \u001b[0m\u001b[91mlifecycle crc@3.2.1~install: crc@3.2.1\r\n",
      "\u001b[0m\u001b[91mnpm info lifecycle depd@1.0.1~install: depd@1.0.1\r\n",
      "\u001b[0m\u001b[91mnpm info lifecycle destroy@1.0.3~install: destroy@1.0.3\r\n",
      "\u001b[0m\u001b[91mnpm info lifecycle ee-first@1.1.0~install: ee-first@1.1.0\r\n",
      "\u001b[0m\u001b[91mnpm\u001b[0m\u001b[91m info lifecycle escape-html@1.0.1~install: escape-html@1.0.1\r\n",
      "\u001b[0m\u001b[91mnpm info lifecycle etag@1.5.1~install: etag@1.5.1\r\n",
      "\u001b[0m\u001b[91mnpm info lifecycle forwarded@0.1.0~install: forwarded@0.1.0\r\n",
      "\u001b[0m\u001b[91mnpm info lifecycle fresh@0.2.4~install: fresh@0.2.4\r\n",
      "\u001b[0m\u001b[91mnpm info lifecycle ipaddr.js@1.0.5~install: ipaddr.js@1.0.5\r\n",
      "\u001b[0m\u001b[91mnpm info lifecycle media-typer@0.3.0~install: media-typer@0.3.0\r\n",
      "\u001b[0m\u001b[91mnpm info lifecycle merge-descriptors@0.0.2~install: merge-descriptors@0.0.2\r\n",
      "\u001b[0m\u001b[91mnpm info lifecycle methods@1.1.2~install: methods@1.1.2\r\n",
      "\u001b[0m\u001b[91mnpm info lifecycle mime@1.3.4~install: mime@1.3.4\r\n",
      "npm info lifecycle mime-db@1.21.0~install: mime-db@1.21.0\r\n",
      "\u001b[0m\u001b[91mnpm\u001b[0m\u001b[91m info lifecycle mime-types@2.1.9~install: mime-types@2.1.9\r\n",
      "\u001b[0m\u001b[91mnpm info lifecycle ms@0.7.0~install: ms@0.7.0\r\n",
      "\u001b[0m\u001b[91mnpm info lifecycle debug@2.1.3~install: debug@2.1.3\r\n",
      "\u001b[0m\u001b[91mnpm info lifecycle negotiator@0.5.3~install: negotiator@0.5.3\r\n",
      "\u001b[0m\u001b[91mnpm info lifecycle accepts@1.2.13~install: accepts@1.2.13\r\n",
      "\u001b[0m\u001b[91mnpm info lifecycle on-finished@2.2.1~install: on-finished@2.2.1\r\n",
      "\u001b[0m\u001b[91mnpm info lifecycle finalhandler@0.3.3~install: finalhandler@0.3.3\r\n",
      "\u001b[0m\u001b[91mnpm info lifecycle parseurl@1.3.1~install: parseurl@1.3.1\r\n",
      "\u001b[0m\u001b[91mnpm info lifecycle path-to-regexp@0.1.3~install: path-to-regexp@0.1.3\r\n",
      "\u001b[0m\u001b[91mnpm info lifecycle proxy-addr@1.0.10~install: proxy-addr@1.0.10\r\n",
      "\u001b[0m\u001b[91mnpm info lifecycle qs@2.3.3~install: qs@2.3.3\r\n",
      "\u001b[0m\u001b[91mnpm info lifecycle range-parser@1.0.3~install: range-parser@1.0.3\r\n",
      "\u001b[0m\u001b[91mnpm info lifecycle send@0.12.1~install: send@0.12.1\r\n",
      "\u001b[0m\u001b[91mnpm info lifecycle etag@1.6.0~install: etag@1.6.0\r\n",
      "npm info lifecycle ms@0.7.1~install: ms@0.7.1\r\n",
      "\u001b[0m\u001b[91mnpm info lifecycle debug@2.2.0~install: debug@2.2.0\r\n",
      "\u001b[0m\u001b[91mnpm info lifecycle send@0.12.3~install: send@0.12.3\r\n",
      "\u001b[0m\u001b[91mnpm info lifecycle type-is@1.6.11~install: type-is@1.6.11\r\n",
      "\u001b[0m\u001b[91mnpm info lifecycle utils-merge@1.0.0~install: utils-merge@1.0.0\r\n",
      "\u001b[0m\u001b[91mnpm info lifecycle serve-static@1.9.3~install: serve-static@1.9.3\r\n",
      "\u001b[0m\u001b[91mnpm info lifecycle vary@1.0.1~install: vary@1.0.1\r\n",
      "\u001b[0m\u001b[91mnpm info lifecycle express@4.12.0~install: express@4.12.0\r\n",
      "\u001b[0m\u001b[91mnpm info lifecycle content-disposition@0.5.0~postinstall: content-disposition@0.5.0\r\n",
      "\u001b[0m\u001b[91mnpm info lifecycle content-type@1.0.1~postinstall: content-type@1.0.1\r\n",
      "\u001b[0m\u001b[91mnpm info lifecycle cookie@0.1.2~postinstall: cookie@0.1.2\r\n",
      "\u001b[0m\u001b[91mnpm info lifecycle cookie-signature@1.0.6~postinstall: cookie-signature@1.0.6\r\n",
      "\u001b[0m\u001b[91mnpm info lifecycle crc@3.2.1~postinstall: crc@3.2.1\r\n",
      "\u001b[0m\u001b[91mnpm info lifecycle depd@1.0.1~postinstall: depd@1.0.1\r\n",
      "\u001b[0m\u001b[91mnpm info lifecycle destroy@1.0.3~postinstall: destroy@1.0.3\r\n",
      "\u001b[0m\u001b[91mnpm info lifecycle ee-first@1.1.0~postinstall: ee-first@1.1.0\r\n",
      "\u001b[0m\u001b[91mnpm info lifecycle escape-html@1.0.1~postinstall: escape-html@1.0.1\r\n",
      "\u001b[0m\u001b[91mnpm info lifecycle etag@1.5.1~postinstall: etag@1.5.1\r\n",
      "\u001b[0m\u001b[91mnpm info lifecycle forwarded@0.1.0~postinstall: forwarded@0.1.0\r\n",
      "\u001b[0m\u001b[91mnpm info lifecycle fresh@0.2.4~postinstall: fresh@0.2.4\r\n",
      "\u001b[0m\u001b[91mnpm info lifecycle ipaddr.js@1.0.5~postinstall: ipaddr.js@1.0.5\r\n",
      "\u001b[0m\u001b[91mnpm info lifecycle media-typer@0.3.0~postinstall: media-typer@0.3.0\r\n",
      "\u001b[0m\u001b[91mnpm info lifecycle merge-descriptors@0.0.2~postinstall: merge-descriptors@0.0.2\r\n",
      "\u001b[0m\u001b[91mnpm info lifecycle methods@1.1.2~postinstall: methods@1.1.2\r\n",
      "\u001b[0m\u001b[91mnpm info lifecycle mime@1.3.4~postinstall: mime@1.3.4\r\n",
      "\u001b[0m\u001b[91mnpm info lifecycle mime-db@1.21.0~postinstall: mime-db@1.21.0\r\n",
      "\u001b[0m\u001b[91mnpm info lifecycle mime-types@2.1.9~postinstall: mime-types@2.1.9\r\n",
      "\u001b[0m\u001b[91mnpm \u001b[0m\u001b[91minfo lifecycle ms@0.7.0~postinstall: ms@0.7.0\r\n",
      "\u001b[0m\u001b[91mnpm info lifecycle debug@2.1.3~postinstall: debug@2.1.3\r\n",
      "\u001b[0m\u001b[91mnpm info lifecycle negotiator@0.5.3~postinstall: negotiator@0.5.3\r\n",
      "\u001b[0m\u001b[91mnpm info lifecycle accepts@1.2.13~postinstall: accepts@1.2.13\r\n",
      "\u001b[0m\u001b[91mnpm info \u001b[0m\u001b[91mlifecycle on-finished@2.2.1~postinstall: on-finished@2.2.1\r\n",
      "\u001b[0m\u001b[91mnpm\u001b[0m\u001b[91m info lifecycle finalhandler@0.3.3~postinstall: finalhandler@0.3.3\r\n",
      "\u001b[0m\u001b[91mnpm info lifecycle parseurl@1.3.1~postinstall: parseurl@1.3.1\r\n",
      "\u001b[0m\u001b[91mnpm info lifecycle path-to-regexp@0.1.3~postinstall: path-to-regexp@0.1.3\r\n",
      "\u001b[0m\u001b[91mnpm info lifecycle proxy-addr@1.0.10~postinstall: proxy-addr@1.0.10\r\n",
      "\u001b[0m\u001b[91mnpm info lifecycle\u001b[0m\u001b[91m qs@2.3.3~postinstall: qs@2.3.3\r\n",
      "\u001b[0m\u001b[91mnpm info lifecycle range-parser@1.0.3~postinstall: range-parser@1.0.3\r\n",
      "\u001b[0m\u001b[91mnpm info lifecycle\u001b[0m\u001b[91m send@0.12.1~postinstall: send@0.12.1\r\n",
      "\u001b[0m\u001b[91mnpm info lifecycle etag@1.6.0~postinstall: etag@1.6.0\r\n",
      "\u001b[0m\u001b[91mnpm info lifecycle ms@0.7.1~postinstall: ms@0.7.1\r\n",
      "\u001b[0m\u001b[91mnpm info lifecycle debug@2.2.0~postinstall: debug@2.2.0\r\n",
      "\u001b[0m\u001b[91mnpm info lifecycle send@0.12.3~postinstall: send@0.12.3\r\n",
      "\u001b[0m\u001b[91mnpm info lifecycle type-is@1.6.11~postinstall: type-is@1.6.11\r\n",
      "\u001b[0m\u001b[91mnpm info lifecycle utils-merge@1.0.0~postinstall: utils-merge@1.0.0\r\n",
      "\u001b[0m\u001b[91mnpm info lifecycle serve-static@1.9.3~postinstall: serve-static@1.9.3\r\n",
      "\u001b[0m\u001b[91mnpm info lifecycle vary@1.0.1~postinstall: vary@1.0.1\r\n",
      "\u001b[0m\u001b[91mnpm info lifecycle express@4.12.0~postinstall: express@4.12.0\r\n",
      "\u001b[0m\u001b[91mnpm info lifecycle node-hello-world@0.0.1~preinstall: node-hello-world@0.0.1\r\n",
      "\u001b[0m\u001b[91mnpm info linkStuff node-hello-world@0.0.1\r\n",
      "\u001b[0m\u001b[91mnpm info lifecycle node-hello-world@0.0.1~install: node-hello-world@0.0.1\r\n",
      "\u001b[0m\u001b[91mnpm info lifecycle node-hello-world@0.0.1~postinstall: node-hello-world@0.0.1\r\n",
      "\u001b[0m\u001b[91mnpm\u001b[0m\u001b[91m info lifecycle node-hello-world@0.0.1~prepublish: node-hello-world@0.0.1\r\n",
      "\u001b[0mnode-hello-world@0.0.1 /src\r\n",
      "`-- express@4.12.0 \r\n",
      "  +-- accepts@1.2.13 \r\n",
      "  | +-- mime-types@2.1.9 \r\n",
      "  | | `-- mime-db@1.21.0 \r\n",
      "  | `-- negotiator@0.5.3 \r\n",
      "  +-- content-disposition@0.5.0 \r\n",
      "  +-- content-type@1.0.1 \r\n",
      "  +-- cookie@0.1.2 \r\n",
      "  +-- cookie-signature@1.0.6 \r\n",
      "  +-- debug@2.1.3 \r\n",
      "  | `-- ms@0.7.0 \r\n",
      "  +-- depd@1.0.1 \r\n",
      "  +-- escape-html@1.0.1 \r\n",
      "  +-- etag@1.5.1 \r\n",
      "  | `-- crc@3.2.1 \r\n",
      "  +-- finalhandler@0.3.3 \r\n",
      "  +-- fresh@0.2.4 \r\n",
      "  +-- merge-descriptors@0.0.2 \r\n",
      "  +-- methods@1.1.2 \r\n",
      "  +-- on-finished@2.2.1 \r\n",
      "  | `-- ee-first@1.1.0 \r\n",
      "  +-- parseurl@1.3.1 \r\n",
      "  +-- path-to-regexp@0.1.3 \r\n",
      "  +-- proxy-addr@1.0.10 \r\n",
      "  | +-- forwarded@0.1.0 \r\n",
      "  | `-- ipaddr.js@1.0.5 \r\n",
      "  +-- qs@2.3.3 \r\n",
      "  +-- range-parser@1.0.3 \r\n",
      "  +-- send@0.12.1 \r\n",
      "  | +-- destroy@1.0.3 \r\n",
      "  | `-- mime@1.3.4 \r\n",
      "  +-- serve-static@1.9.3 \r\n",
      "  | `-- send@0.12.3 \r\n",
      "  |   +-- debug@2.2.0 \r\n",
      "  |   +-- etag@1.6.0 \r\n",
      "  |   `-- ms@0.7.1 \r\n",
      "  +-- type-is@1.6.11 \r\n",
      "  | `-- media-typer@0.3.0 \r\n",
      "  +-- utils-merge@1.0.0 \r\n",
      "  `-- vary@1.0.1 \r\n",
      "\r\n",
      "\u001b[91mnpm info ok \r\n",
      "\u001b[0m ---> 89c2b25799db\r\n",
      "Removing intermediate container 40468215f688\r\n",
      "Step 5 : EXPOSE 80\r\n",
      " ---> Running in ed50b02167b5\r\n",
      " ---> 9efe222e5c89\r\n",
      "Removing intermediate container ed50b02167b5\r\n",
      "Step 6 : CMD node index.js\r\n",
      " ---> Running in 4bb290eaadcb\r\n",
      " ---> d0f03e9d6247\r\n",
      "Removing intermediate container 4bb290eaadcb\r\n",
      "Successfully built d0f03e9d6247\r\n"
     ]
    }
   ],
   "source": [
    "docker build -t node-hello ."
   ]
  },
  {
   "cell_type": "markdown",
   "metadata": {},
   "source": [
    "and run the image in the background, exposing port 80"
   ]
  },
  {
   "cell_type": "code",
   "execution_count": 75,
   "metadata": {
    "collapsed": false
   },
   "outputs": [
    {
     "name": "stdout",
     "output_type": "stream",
     "text": [
      "c43f44797eddb266ffa9d9d69fa91e12927284f8ec0af209193865ca3a43b434\r\n"
     ]
    }
   ],
   "source": [
    "docker run -p 80:80 --name web -d node-hello"
   ]
  },
  {
   "cell_type": "markdown",
   "metadata": {},
   "source": [
    "Now let's use curl to access this container (default port for curl is 80)"
   ]
  },
  {
   "cell_type": "code",
   "execution_count": 76,
   "metadata": {
    "collapsed": false
   },
   "outputs": [
    {
     "name": "stdout",
     "output_type": "stream",
     "text": [
      "<html><body>Hello from Node.js container c43f44797edd</body></html>"
     ]
    }
   ],
   "source": [
    "curl http://localhost"
   ]
  },
  {
   "cell_type": "markdown",
   "metadata": {},
   "source": [
    "<a name=\"medium-python\"/>\n",
    "## Creating a Python application from the Python 'LanguageStack' Docker image\n",
    "[TOP](#TOP)\n",
    "\n",
    "<font size=+1 color=\"#77f\">\n",
    "<b>The goal of this step is to demonstrate the use of the Python *Language Stack*.</b>\n",
    "</font>\n",
    "\n",
    "Now let's look at a Python example.\n",
    "To run a Node.js application this time we will need\n"
   ]
  },
  {
   "cell_type": "markdown",
   "metadata": {
    "collapsed": true
   },
   "source": [
    "Let's pull and examine the official 'Docker Language Stack' image of Python\n",
    "\n",
    "Note how the earliest image layers (at the bottom of the list) have the same image ids\n",
    "as the earliest image layers of the Node;js image.\n",
    "\n",
    "So we can see that they were both created from the same base."
   ]
  },
  {
   "cell_type": "code",
   "execution_count": 77,
   "metadata": {
    "collapsed": false
   },
   "outputs": [
    {
     "name": "stdout",
     "output_type": "stream",
     "text": [
      "Using default tag: latest\r\n",
      "latest: Pulling from library/python\r\n",
      "\u001b[0B\r\n",
      "\u001b[0A\u001b[2K\r",
      "03e1855d4f31: Already exists \r",
      "\u001b[0B\r\n",
      "\u001b[0A\u001b[2K\r",
      "a3ed95caeb02: Already exists \r",
      "\u001b[0B\r\n",
      "\u001b[0A\u001b[2K\r",
      "9269ba3950bb: Already exists \r",
      "\u001b[0B\r\n",
      "\u001b[0A\u001b[2K\r",
      "6ecee6444751: Already exists \r",
      "\u001b[0B\r\n",
      "\u001b[0A\u001b[2K\r",
      "7a0c192d4d25: Already exists \r",
      "\u001b[0B\r\n",
      "\u001b[0A\u001b[2K\r",
      "5d45fb7887b4: Already exists \r",
      "\u001b[0B\u001b[5A\u001b[2K\r",
      "a3ed95caeb02: Already exists \r",
      "\u001b[5B\u001b[5A\u001b[2K\r",
      "a3ed95caeb02: Already exists \r",
      "\u001b[5B\u001b[5A\u001b[2K\r",
      "a3ed95caeb02: Already exists \r",
      "\u001b[5B\u001b[5A\u001b[2K\r",
      "a3ed95caeb02: Already exists \r",
      "\u001b[5B\r\n",
      "\u001b[0A\u001b[2K\r",
      "66777d6149f5: Already exists \r",
      "\u001b[0B\r\n",
      "\u001b[0A\u001b[2K\r",
      "999da6930e9c: Already exists \r",
      "\u001b[0B\u001b[7A\u001b[2K\r",
      "a3ed95caeb02: Already exists \r",
      "\u001b[7BDigest: sha256:4651b83dd903ce78b1c455794f63d4108d9469a6c7fe97cd07d08a77b7e72435\r\n",
      "Status: Image is up to date for python:latest\r\n"
     ]
    }
   ],
   "source": [
    "docker pull python"
   ]
  },
  {
   "cell_type": "code",
   "execution_count": 78,
   "metadata": {
    "collapsed": false
   },
   "outputs": [
    {
     "name": "stdout",
     "output_type": "stream",
     "text": [
      "REPOSITORY          TAG                 IMAGE ID            CREATED             SIZE\r\n",
      "python              latest              93049cc049a6        12 days ago         689.1 MB\r\n"
     ]
    }
   ],
   "source": [
    "docker images python"
   ]
  },
  {
   "cell_type": "code",
   "execution_count": 79,
   "metadata": {
    "collapsed": false
   },
   "outputs": [
    {
     "name": "stdout",
     "output_type": "stream",
     "text": [
      "IMAGE               CREATED             CREATED BY                                      SIZE                COMMENT\r\n",
      "93049cc049a6        12 days ago         /bin/sh -c #(nop) CMD [\"python3\"]               0 B                 \r\n",
      "<missing>           12 days ago         /bin/sh -c cd /usr/local/bin  && ln -s easy_i   48 B                \r\n",
      "<missing>           12 days ago         /bin/sh -c set -ex  && gpg --keyserver ha.poo   81.53 MB            \r\n",
      "<missing>           12 days ago         /bin/sh -c #(nop) ENV PYTHON_PIP_VERSION=7.1.   0 B                 \r\n",
      "<missing>           12 days ago         /bin/sh -c #(nop) ENV PYTHON_VERSION=3.5.1      0 B                 \r\n",
      "<missing>           12 days ago         /bin/sh -c #(nop) ENV GPG_KEY=97FC712E4C024BB   0 B                 \r\n",
      "<missing>           12 days ago         /bin/sh -c #(nop) ENV LANG=C.UTF-8              0 B                 \r\n",
      "<missing>           12 days ago         /bin/sh -c apt-get purge -y python.*            978.7 kB            \r\n",
      "<missing>           13 days ago         /bin/sh -c apt-get update && apt-get install    314.7 MB            \r\n",
      "<missing>           13 days ago         /bin/sh -c apt-get update && apt-get install    122.6 MB            \r\n",
      "<missing>           13 days ago         /bin/sh -c apt-get update && apt-get install    44.3 MB             \r\n",
      "<missing>           13 days ago         /bin/sh -c #(nop) CMD [\"/bin/bash\"]             0 B                 \r\n",
      "<missing>           13 days ago         /bin/sh -c #(nop) ADD file:e5a3d20748c5d3dd5f   125.1 MB            \r\n"
     ]
    }
   ],
   "source": [
    "docker history python"
   ]
  },
  {
   "cell_type": "markdown",
   "metadata": {},
   "source": [
    "The following command will run the 'python' docker image, invoking the command 'python --version' to show us which default python version is available."
   ]
  },
  {
   "cell_type": "code",
   "execution_count": 80,
   "metadata": {
    "collapsed": false
   },
   "outputs": [
    {
     "name": "stdout",
     "output_type": "stream",
     "text": [
      "Python 3.5.1\r\n"
     ]
    }
   ],
   "source": [
    "docker run python python --version"
   ]
  },
  {
   "cell_type": "markdown",
   "metadata": {},
   "source": [
    "Now let's look at extending this to a small 2-tier application with Flask web server as front-end and Redis as a backend database (counter) to count access to a web page.\n",
    "\n",
    "To run this application create a Dockerfile with the following contents in the 'python_flask' directory"
   ]
  },
  {
   "cell_type": "code",
   "execution_count": 81,
   "metadata": {
    "collapsed": false
   },
   "outputs": [
    {
     "name": "stdout",
     "output_type": "stream",
     "text": [
      "FROM python:2.7\r\n",
      "\r\n",
      "MAINTAINER \"Docker Build Lab\" <dockerlabs@mjbright.net>\r\n",
      "\r\n",
      "WORKDIR /src\r\n",
      "\r\n",
      "ADD requirements.txt /src/\r\n",
      "\r\n",
      "RUN pip install -r requirements.txt\r\n",
      "\r\n",
      "ADD . /src\r\n",
      "\r\n",
      "CMD python flask_redis_app.py\r\n",
      "\r\n"
     ]
    }
   ],
   "source": [
    "cd ~/src/python_flask\n",
    "cat Dockerfile"
   ]
  },
  {
   "cell_type": "code",
   "execution_count": 82,
   "metadata": {
    "collapsed": false
   },
   "outputs": [
    {
     "name": "stdout",
     "output_type": "stream",
     "text": [
      "Sending build context to Docker daemon 4.096 kB\r",
      "\r",
      "\r\n",
      "Step 1 : FROM python:2.7\r\n",
      "2.7: Pulling from library/python\r\n",
      "\u001b[0B\r\n",
      "\u001b[0A\u001b[2K\r",
      "03e1855d4f31: Already exists \r",
      "\u001b[0B\r\n",
      "\u001b[0A\u001b[2K\r",
      "a3ed95caeb02: Already exists \r",
      "\u001b[0B\r\n",
      "\u001b[0A\u001b[2K\r",
      "9269ba3950bb: Already exists \r",
      "\u001b[0B\r\n",
      "\u001b[0A\u001b[2K\r",
      "6ecee6444751: Already exists \r",
      "\u001b[0B\r\n",
      "\u001b[0A\u001b[2K\r",
      "7a0c192d4d25: Already exists \r",
      "\u001b[0B\r\n",
      "\u001b[0A\u001b[2K\r",
      "5d45fb7887b4: Already exists \r",
      "\u001b[0B\u001b[5A\u001b[2K\r",
      "a3ed95caeb02: Already exists \r",
      "\u001b[5B\u001b[5A\u001b[2K\r",
      "a3ed95caeb02: Already exists \r",
      "\u001b[5B\u001b[5A\u001b[2K\r",
      "a3ed95caeb02: Already exists \r",
      "\u001b[5B\u001b[5A\u001b[2K\r",
      "a3ed95caeb02: Already exists \r",
      "\u001b[5B\r\n",
      "\u001b[0A\u001b[2K\r",
      "7d4cc27b64c3: Pulling fs layer \r",
      "\u001b[0B\r\n",
      "\u001b[0A\u001b[2K\r",
      "5345aa49ef1b: Pulling fs layer \r",
      "\u001b[0B\u001b[7A\u001b[2K\r",
      "a3ed95caeb02: Pulling fs layer \r",
      "\u001b[7B\u001b[7A\u001b[2K\r",
      "a3ed95caeb02: Downloading     32 B/32 B\r",
      "\u001b[7B\u001b[7A\u001b[2K\r",
      "a3ed95caeb02: Verifying Checksum \r",
      "\u001b[7B\u001b[7A\u001b[2K\r",
      "a3ed95caeb02: Download complete \r",
      "\u001b[7B\u001b[1A\u001b[2K\r",
      "5345aa49ef1b: Downloading 32.26 kB/3.138 MB\r",
      "\u001b[1B\u001b[1A\u001b[2K\r",
      "5345aa49ef1b: Downloading 64.48 kB/3.138 MB\r",
      "\u001b[1B\u001b[1A\u001b[2K\r",
      "5345aa49ef1b: Downloading 97.25 kB/3.138 MB\r",
      "\u001b[1B\u001b[1A\u001b[2K\r",
      "5345aa49ef1b: Downloading 138.2 kB/3.138 MB\r",
      "\u001b[1B\u001b[1A\u001b[2K\r",
      "5345aa49ef1b: Downloading   171 kB/3.138 MB\r",
      "\u001b[1B\u001b[1A\u001b[2K\r",
      "5345aa49ef1b: Downloading 203.7 kB/3.138 MB\r",
      "\u001b[1B\u001b[2A\u001b[2K\r",
      "7d4cc27b64c3: Downloading 199.6 kB/19.79 MB\r",
      "\u001b[2B\u001b[1A\u001b[2K\r",
      "5345aa49ef1b: Downloading 236.5 kB/3.138 MB\r",
      "\u001b[1B\u001b[1A\u001b[2K\r",
      "5345aa49ef1b: Downloading 269.3 kB/3.138 MB\r",
      "\u001b[1B\u001b[1A\u001b[2K\r",
      "5345aa49ef1b: Downloading   302 kB/3.138 MB\r",
      "\u001b[1B\u001b[1A\u001b[2K\r",
      "5345aa49ef1b: Downloading 334.8 kB/3.138 MB\r",
      "\u001b[1B\u001b[1A\u001b[2K\r",
      "5345aa49ef1b: Downloading 367.6 kB/3.138 MB\r",
      "\u001b[1B\u001b[1A\u001b[2K\r",
      "5345aa49ef1b: Downloading 400.3 kB/3.138 MB\r",
      "\u001b[1B\u001b[1A\u001b[2K\r",
      "5345aa49ef1b: Downloading 433.1 kB/3.138 MB\r",
      "\u001b[1B\u001b[2A\u001b[2K\r",
      "7d4cc27b64c3: Downloading 408.5 kB/19.79 MB\r",
      "\u001b[2B\u001b[1A\u001b[2K\r",
      "5345aa49ef1b: Downloading 474.1 kB/3.138 MB\r",
      "\u001b[1B\u001b[1A\u001b[2K\r",
      "5345aa49ef1b: Downloading 510.9 kB/3.138 MB\r",
      "\u001b[1B\u001b[1A\u001b[2K\r",
      "5345aa49ef1b: Downloading 547.8 kB/3.138 MB\r",
      "\u001b[1B\u001b[1A\u001b[2K\r",
      "5345aa49ef1b: Downloading 588.8 kB/3.138 MB\r",
      "\u001b[1B\u001b[1A\u001b[2K\r",
      "5345aa49ef1b: Downloading 621.5 kB/3.138 MB\r",
      "\u001b[1B\u001b[1A\u001b[2K\r",
      "5345aa49ef1b: Downloading 654.3 kB/3.138 MB\r",
      "\u001b[1B\u001b[2A\u001b[2K\r",
      "7d4cc27b64c3: Downloading 613.3 kB/19.79 MB\r",
      "\u001b[2B\u001b[1A\u001b[2K\r",
      "5345aa49ef1b: Downloading 695.3 kB/3.138 MB\r",
      "\u001b[1B\u001b[1A\u001b[2K\r",
      "5345aa49ef1b: Downloading 736.2 kB/3.138 MB\r",
      "\u001b[1B\u001b[1A\u001b[2K\r",
      "5345aa49ef1b: Downloading 773.1 kB/3.138 MB\r",
      "\u001b[1B\u001b[1A\u001b[2K\r",
      "5345aa49ef1b: Downloading 805.9 kB/3.138 MB\r",
      "\u001b[1B\u001b[1A\u001b[2K\r",
      "5345aa49ef1b: Downloading 846.8 kB/3.138 MB\r",
      "\u001b[1B\u001b[1A\u001b[2K\r",
      "5345aa49ef1b: Downloading 883.7 kB/3.138 MB\r",
      "\u001b[1B\u001b[1A\u001b[2K\r",
      "5345aa49ef1b: Downloading 916.4 kB/3.138 MB\r",
      "\u001b[1B\u001b[1A\u001b[2K\r",
      "5345aa49ef1b: Downloading 953.3 kB/3.138 MB\r",
      "\u001b[1B\u001b[2A\u001b[2K\r",
      "7d4cc27b64c3: Downloading   814 kB/19.79 MB\r",
      "\u001b[2B\u001b[1A\u001b[2K\r",
      "5345aa49ef1b: Downloading 986.1 kB/3.138 MB\r",
      "\u001b[1B\u001b[1A\u001b[2K\r",
      "5345aa49ef1b: Downloading 1.019 MB/3.138 MB\r",
      "\u001b[1B\u001b[1A\u001b[2K\r",
      "5345aa49ef1b: Downloading 1.056 MB/3.138 MB\r",
      "\u001b[1B\u001b[1A\u001b[2K\r",
      "5345aa49ef1b: Downloading 1.088 MB/3.138 MB\r",
      "\u001b[1B\u001b[1A\u001b[2K\r",
      "5345aa49ef1b: Downloading 1.121 MB/3.138 MB\r",
      "\u001b[1B\u001b[2A\u001b[2K\r",
      "7d4cc27b64c3: Downloading 1.015 MB/19.79 MB\r",
      "\u001b[2B\u001b[1A\u001b[2K\r",
      "5345aa49ef1b: Downloading 1.154 MB/3.138 MB\r",
      "\u001b[1B\u001b[1A\u001b[2K\r",
      "5345aa49ef1b: Downloading 1.187 MB/3.138 MB\r",
      "\u001b[1B\u001b[1A\u001b[2K\r",
      "5345aa49ef1b: Downloading  1.22 MB/3.138 MB\r",
      "\u001b[1B\u001b[1A\u001b[2K\r",
      "5345aa49ef1b: Downloading 1.252 MB/3.138 MB\r",
      "\u001b[1B\u001b[1A\u001b[2K\r",
      "5345aa49ef1b: Downloading 1.285 MB/3.138 MB\r",
      "\u001b[1B\u001b[1A\u001b[2K\r",
      "5345aa49ef1b: Downloading 1.318 MB/3.138 MB\r",
      "\u001b[1B\u001b[1A\u001b[2K\r",
      "5345aa49ef1b: Downloading 1.351 MB/3.138 MB\r",
      "\u001b[1B\u001b[1A\u001b[2K\r",
      "5345aa49ef1b: Downloading 1.383 MB/3.138 MB\r",
      "\u001b[1B\u001b[2A\u001b[2K\r",
      "7d4cc27b64c3: Downloading 1.228 MB/19.79 MB\r",
      "\u001b[2B\u001b[1A\u001b[2K\r",
      "5345aa49ef1b: Downloading 1.424 MB/3.138 MB\r",
      "\u001b[1B\u001b[1A\u001b[2K\r",
      "5345aa49ef1b: Downloading 1.461 MB/3.138 MB\r",
      "\u001b[1B\u001b[1A\u001b[2K\r",
      "5345aa49ef1b: Downloading 1.506 MB/3.138 MB\r",
      "\u001b[1B\u001b[1A\u001b[2K\r",
      "5345aa49ef1b: Downloading 1.539 MB/3.138 MB\r",
      "\u001b[1B\u001b[1A\u001b[2K\r",
      "5345aa49ef1b: Downloading 1.572 MB/3.138 MB\r",
      "\u001b[1B\u001b[1A\u001b[2K\r",
      "5345aa49ef1b: Downloading 1.605 MB/3.138 MB\r",
      "\u001b[1B\u001b[2A\u001b[2K\r",
      "7d4cc27b64c3: Downloading 1.433 MB/19.79 MB\r",
      "\u001b[2B\u001b[1A\u001b[2K\r",
      "5345aa49ef1b: Downloading 1.637 MB/3.138 MB\r",
      "\u001b[1B\u001b[1A\u001b[2K\r",
      "5345aa49ef1b: Downloading  1.67 MB/3.138 MB\r",
      "\u001b[1B\u001b[1A\u001b[2K\r",
      "5345aa49ef1b: Downloading 1.703 MB/3.138 MB\r",
      "\u001b[1B\u001b[1A\u001b[2K\r",
      "5345aa49ef1b: Downloading  1.74 MB/3.138 MB\r",
      "\u001b[1B\u001b[1A\u001b[2K\r",
      "5345aa49ef1b: Downloading 1.777 MB/3.138 MB\r",
      "\u001b[1B\u001b[1A\u001b[2K\r",
      "5345aa49ef1b: Downloading 1.809 MB/3.138 MB\r",
      "\u001b[1B\u001b[1A\u001b[2K\r",
      "5345aa49ef1b: Downloading  1.85 MB/3.138 MB\r",
      "\u001b[1B\u001b[2A\u001b[2K\r",
      "7d4cc27b64c3: Downloading 1.641 MB/19.79 MB\r",
      "\u001b[2B\u001b[1A\u001b[2K\r",
      "5345aa49ef1b: Downloading 1.891 MB/3.138 MB\r",
      "\u001b[1B\u001b[1A\u001b[2K\r",
      "5345aa49ef1b: Downloading 1.924 MB/3.138 MB\r",
      "\u001b[1B\u001b[1A\u001b[2K\r",
      "5345aa49ef1b: Downloading 1.957 MB/3.138 MB\r",
      "\u001b[1B\u001b[1A\u001b[2K\r",
      "5345aa49ef1b: Downloading  1.99 MB/3.138 MB\r",
      "\u001b[1B\u001b[1A\u001b[2K\r",
      "5345aa49ef1b: Downloading 2.022 MB/3.138 MB\r",
      "\u001b[1B\u001b[1A\u001b[2K\r",
      "5345aa49ef1b: Downloading 2.055 MB/3.138 MB\r",
      "\u001b[1B\u001b[2A\u001b[2K\r",
      "7d4cc27b64c3: Downloading 1.842 MB/19.79 MB\r",
      "\u001b[2B\u001b[1A\u001b[2K\r",
      "5345aa49ef1b: Downloading 2.088 MB/3.138 MB\r",
      "\u001b[1B\u001b[1A\u001b[2K\r",
      "5345aa49ef1b: Downloading 2.121 MB/3.138 MB\r",
      "\u001b[1B\u001b[1A\u001b[2K\r",
      "5345aa49ef1b: Downloading 2.153 MB/3.138 MB\r",
      "\u001b[1B\u001b[1A\u001b[2K\r",
      "5345aa49ef1b: Downloading 2.194 MB/3.138 MB\r",
      "\u001b[1B\u001b[1A\u001b[2K\r",
      "5345aa49ef1b: Downloading 2.231 MB/3.138 MB\r",
      "\u001b[1B\u001b[2A\u001b[2K\r",
      "7d4cc27b64c3: Downloading 2.047 MB/19.79 MB\r",
      "\u001b[2B\u001b[1A\u001b[2K\r",
      "5345aa49ef1b: Downloading 2.276 MB/3.138 MB\r",
      "\u001b[1B\u001b[1A\u001b[2K\r",
      "5345aa49ef1b: Downloading 2.309 MB/3.138 MB\r",
      "\u001b[1B\u001b[1A\u001b[2K\r",
      "5345aa49ef1b: Downloading 2.342 MB/3.138 MB\r",
      "\u001b[1B\u001b[1A\u001b[2K\r",
      "5345aa49ef1b: Downloading 2.375 MB/3.138 MB\r",
      "\u001b[1B\u001b[1A\u001b[2K\r",
      "5345aa49ef1b: Downloading 2.407 MB/3.138 MB\r",
      "\u001b[1B\u001b[1A\u001b[2K\r",
      "5345aa49ef1b: Downloading  2.44 MB/3.138 MB\r",
      "\u001b[1B\u001b[2A\u001b[2K\r",
      "7d4cc27b64c3: Downloading 2.256 MB/19.79 MB\r",
      "\u001b[2B\u001b[1A\u001b[2K\r",
      "5345aa49ef1b: Downloading 2.473 MB/3.138 MB\r",
      "\u001b[1B\u001b[1A\u001b[2K\r",
      "5345aa49ef1b: Downloading 2.506 MB/3.138 MB\r",
      "\u001b[1B\u001b[1A\u001b[2K\r",
      "5345aa49ef1b: Downloading 2.538 MB/3.138 MB\r",
      "\u001b[1B\u001b[1A\u001b[2K\r",
      "5345aa49ef1b: Downloading 2.579 MB/3.138 MB\r",
      "\u001b[1B\u001b[1A\u001b[2K\r",
      "5345aa49ef1b: Downloading 2.616 MB/3.138 MB\r",
      "\u001b[1B\u001b[1A\u001b[2K\r",
      "5345aa49ef1b: Downloading 2.661 MB/3.138 MB\r",
      "\u001b[1B\u001b[1A\u001b[2K\r",
      "5345aa49ef1b: Downloading 2.694 MB/3.138 MB\r",
      "\u001b[1B\u001b[1A\u001b[2K\r",
      "5345aa49ef1b: Downloading 2.727 MB/3.138 MB\r",
      "\u001b[1B\u001b[2A\u001b[2K\r",
      "7d4cc27b64c3: Downloading 2.469 MB/19.79 MB\r",
      "\u001b[2B\u001b[1A\u001b[2K\r",
      "5345aa49ef1b: Downloading  2.76 MB/3.138 MB\r",
      "\u001b[1B\u001b[1A\u001b[2K\r",
      "5345aa49ef1b: Downloading 2.792 MB/3.138 MB\r",
      "\u001b[1B\u001b[1A\u001b[2K\r",
      "5345aa49ef1b: Downloading 2.825 MB/3.138 MB\r",
      "\u001b[1B\u001b[1A\u001b[2K\r",
      "5345aa49ef1b: Downloading 2.858 MB/3.138 MB\r",
      "\u001b[1B\u001b[1A\u001b[2K\r",
      "5345aa49ef1b: Downloading 2.891 MB/3.138 MB\r",
      "\u001b[1B\u001b[2A\u001b[2K\r",
      "7d4cc27b64c3: Downloading  2.67 MB/19.79 MB\r",
      "\u001b[2B\u001b[1A\u001b[2K\r",
      "5345aa49ef1b: Downloading 2.928 MB/3.138 MB\r",
      "\u001b[1B\u001b[1A\u001b[2K\r",
      "5345aa49ef1b: Downloading 2.964 MB/3.138 MB\r",
      "\u001b[1B\u001b[1A\u001b[2K\r",
      "5345aa49ef1b: Downloading 2.997 MB/3.138 MB\r",
      "\u001b[1B\u001b[1A\u001b[2K\r",
      "5345aa49ef1b: Downloading  3.03 MB/3.138 MB\r",
      "\u001b[1B\u001b[1A\u001b[2K\r",
      "5345aa49ef1b: Downloading 3.063 MB/3.138 MB\r",
      "\u001b[1B\u001b[1A\u001b[2K\r",
      "5345aa49ef1b: Downloading 3.096 MB/3.138 MB\r",
      "\u001b[1B\u001b[1A\u001b[2K\r",
      "5345aa49ef1b: Downloading 3.128 MB/3.138 MB\r",
      "\u001b[1B\u001b[1A\u001b[2K\r",
      "5345aa49ef1b: Verifying Checksum \r",
      "\u001b[1B\u001b[1A\u001b[2K\r",
      "5345aa49ef1b: Download complete \r",
      "\u001b[1B\u001b[2A\u001b[2K\r",
      "7d4cc27b64c3: Downloading 2.883 MB/19.79 MB\r",
      "\u001b[2B\u001b[2A\u001b[2K\r",
      "7d4cc27b64c3: Downloading 3.091 MB/19.79 MB\r",
      "\u001b[2B\u001b[2A\u001b[2K\r",
      "7d4cc27b64c3: Downloading 3.292 MB/19.79 MB\r",
      "\u001b[2B\u001b[2A\u001b[2K\r",
      "7d4cc27b64c3: Downloading 3.505 MB/19.79 MB\r",
      "\u001b[2B\u001b[2A\u001b[2K\r",
      "7d4cc27b64c3: Downloading 3.718 MB/19.79 MB\r",
      "\u001b[2B\u001b[2A\u001b[2K\r",
      "7d4cc27b64c3: Downloading 3.923 MB/19.79 MB\r",
      "\u001b[2B\u001b[2A\u001b[2K\r",
      "7d4cc27b64c3: Downloading 4.136 MB/19.79 MB\r",
      "\u001b[2B\u001b[2A\u001b[2K\r",
      "7d4cc27b64c3: Downloading 4.349 MB/19.79 MB\r",
      "\u001b[2B\u001b[2A\u001b[2K\r",
      "7d4cc27b64c3: Downloading 4.558 MB/19.79 MB\r",
      "\u001b[2B\u001b[2A\u001b[2K\r",
      "7d4cc27b64c3: Downloading 4.767 MB/19.79 MB\r",
      "\u001b[2B\u001b[2A\u001b[2K\r",
      "7d4cc27b64c3: Downloading 4.971 MB/19.79 MB\r",
      "\u001b[2B\u001b[2A\u001b[2K\r",
      "7d4cc27b64c3: Downloading 5.184 MB/19.79 MB\r",
      "\u001b[2B\u001b[2A\u001b[2K\r",
      "7d4cc27b64c3: Downloading 5.385 MB/19.79 MB\r",
      "\u001b[2B\u001b[2A\u001b[2K\r",
      "7d4cc27b64c3: Downloading 5.598 MB/19.79 MB\r",
      "\u001b[2B\u001b[2A\u001b[2K\r",
      "7d4cc27b64c3: Downloading 5.811 MB/19.79 MB\r",
      "\u001b[2B\u001b[2A\u001b[2K\r",
      "7d4cc27b64c3: Downloading 6.016 MB/19.79 MB\r",
      "\u001b[2B\u001b[2A\u001b[2K\r",
      "7d4cc27b64c3: Downloading 6.229 MB/19.79 MB\r",
      "\u001b[2B\u001b[2A\u001b[2K\r",
      "7d4cc27b64c3: Downloading 6.438 MB/19.79 MB\r",
      "\u001b[2B\u001b[2A\u001b[2K\r",
      "7d4cc27b64c3: Downloading 6.639 MB/19.79 MB\r",
      "\u001b[2B\u001b[2A\u001b[2K\r",
      "7d4cc27b64c3: Downloading 6.852 MB/19.79 MB\r",
      "\u001b[2B\u001b[2A\u001b[2K\r",
      "7d4cc27b64c3: Downloading  7.06 MB/19.79 MB\r",
      "\u001b[2B\u001b[2A\u001b[2K\r",
      "7d4cc27b64c3: Downloading 7.261 MB/19.79 MB\r",
      "\u001b[2B\u001b[2A\u001b[2K\r",
      "7d4cc27b64c3: Downloading 7.474 MB/19.79 MB\r",
      "\u001b[2B\u001b[2A\u001b[2K\r",
      "7d4cc27b64c3: Downloading 7.683 MB/19.79 MB\r",
      "\u001b[2B\u001b[2A\u001b[2K\r",
      "7d4cc27b64c3: Downloading 7.884 MB/19.79 MB\r",
      "\u001b[2B\u001b[2A\u001b[2K\r",
      "7d4cc27b64c3: Downloading 8.084 MB/19.79 MB\r",
      "\u001b[2B\u001b[2A\u001b[2K\r",
      "7d4cc27b64c3: Downloading 8.297 MB/19.79 MB\r",
      "\u001b[2B\u001b[2A\u001b[2K\r",
      "7d4cc27b64c3: Downloading 8.502 MB/19.79 MB\r",
      "\u001b[2B\u001b[2A\u001b[2K\r",
      "7d4cc27b64c3: Downloading 8.711 MB/19.79 MB\r",
      "\u001b[2B\u001b[2A\u001b[2K\r",
      "7d4cc27b64c3: Downloading 8.916 MB/19.79 MB\r",
      "\u001b[2B\u001b[2A\u001b[2K\r",
      "7d4cc27b64c3: Downloading 9.125 MB/19.79 MB\r",
      "\u001b[2B\u001b[2A\u001b[2K\r",
      "7d4cc27b64c3: Downloading 9.334 MB/19.79 MB\r",
      "\u001b[2B\u001b[2A\u001b[2K\r",
      "7d4cc27b64c3: Downloading 9.547 MB/19.79 MB\r",
      "\u001b[2B\u001b[2A\u001b[2K\r",
      "7d4cc27b64c3: Downloading 9.747 MB/19.79 MB\r",
      "\u001b[2B\u001b[2A\u001b[2K\r",
      "7d4cc27b64c3: Downloading 9.952 MB/19.79 MB\r",
      "\u001b[2B\u001b[2A\u001b[2K\r",
      "7d4cc27b64c3: Downloading 10.15 MB/19.79 MB\r",
      "\u001b[2B\u001b[2A\u001b[2K\r",
      "7d4cc27b64c3: Downloading 10.35 MB/19.79 MB\r",
      "\u001b[2B\u001b[2A\u001b[2K\r",
      "7d4cc27b64c3: Downloading 10.56 MB/19.79 MB\r",
      "\u001b[2B\u001b[2A\u001b[2K\r",
      "7d4cc27b64c3: Downloading 10.76 MB/19.79 MB\r",
      "\u001b[2B\u001b[2A\u001b[2K\r",
      "7d4cc27b64c3: Downloading 10.97 MB/19.79 MB\r",
      "\u001b[2B\u001b[2A\u001b[2K\r",
      "7d4cc27b64c3: Downloading 11.18 MB/19.79 MB\r",
      "\u001b[2B\u001b[2A\u001b[2K\r",
      "7d4cc27b64c3: Downloading 11.39 MB/19.79 MB\r",
      "\u001b[2B\u001b[2A\u001b[2K\r",
      "7d4cc27b64c3: Downloading  11.6 MB/19.79 MB\r",
      "\u001b[2B\u001b[2A\u001b[2K\r",
      "7d4cc27b64c3: Downloading 11.81 MB/19.79 MB\r",
      "\u001b[2B\u001b[2A\u001b[2K\r",
      "7d4cc27b64c3: Downloading 12.02 MB/19.79 MB\r",
      "\u001b[2B\u001b[2A\u001b[2K\r",
      "7d4cc27b64c3: Downloading 12.23 MB/19.79 MB\r",
      "\u001b[2B\u001b[2A\u001b[2K\r",
      "7d4cc27b64c3: Downloading 12.43 MB/19.79 MB\r",
      "\u001b[2B\u001b[2A\u001b[2K\r",
      "7d4cc27b64c3: Downloading 12.64 MB/19.79 MB\r",
      "\u001b[2B\u001b[2A\u001b[2K\r",
      "7d4cc27b64c3: Downloading 12.84 MB/19.79 MB\r",
      "\u001b[2B\u001b[2A\u001b[2K\r",
      "7d4cc27b64c3: Downloading 13.05 MB/19.79 MB\r",
      "\u001b[2B\u001b[2A\u001b[2K\r",
      "7d4cc27b64c3: Downloading 13.26 MB/19.79 MB\r",
      "\u001b[2B\u001b[2A\u001b[2K\r",
      "7d4cc27b64c3: Downloading 13.46 MB/19.79 MB\r",
      "\u001b[2B\u001b[2A\u001b[2K\r",
      "7d4cc27b64c3: Downloading 13.68 MB/19.79 MB\r",
      "\u001b[2B\u001b[2A\u001b[2K\r",
      "7d4cc27b64c3: Downloading 13.89 MB/19.79 MB\r",
      "\u001b[2B\u001b[2A\u001b[2K\r",
      "7d4cc27b64c3: Downloading 14.09 MB/19.79 MB\r",
      "\u001b[2B\u001b[2A\u001b[2K\r",
      "7d4cc27b64c3: Downloading 14.31 MB/19.79 MB\r",
      "\u001b[2B\u001b[2A\u001b[2K\r",
      "7d4cc27b64c3: Downloading 14.52 MB/19.79 MB\r",
      "\u001b[2B\u001b[2A\u001b[2K\r",
      "7d4cc27b64c3: Downloading 14.72 MB/19.79 MB\r",
      "\u001b[2B\u001b[2A\u001b[2K\r",
      "7d4cc27b64c3: Downloading 14.93 MB/19.79 MB\r",
      "\u001b[2B\u001b[2A\u001b[2K\r",
      "7d4cc27b64c3: Downloading 15.14 MB/19.79 MB\r",
      "\u001b[2B\u001b[2A\u001b[2K\r",
      "7d4cc27b64c3: Downloading 15.35 MB/19.79 MB\r",
      "\u001b[2B\u001b[2A\u001b[2K\r",
      "7d4cc27b64c3: Downloading 15.56 MB/19.79 MB\r",
      "\u001b[2B\u001b[2A\u001b[2K\r",
      "7d4cc27b64c3: Downloading 15.76 MB/19.79 MB\r",
      "\u001b[2B\u001b[2A\u001b[2K\r",
      "7d4cc27b64c3: Downloading 15.98 MB/19.79 MB\r",
      "\u001b[2B\u001b[2A\u001b[2K\r",
      "7d4cc27b64c3: Downloading 16.18 MB/19.79 MB\r",
      "\u001b[2B\u001b[2A\u001b[2K\r",
      "7d4cc27b64c3: Downloading 16.38 MB/19.79 MB\r",
      "\u001b[2B\u001b[2A\u001b[2K\r",
      "7d4cc27b64c3: Downloading 16.59 MB/19.79 MB\r",
      "\u001b[2B\u001b[2A\u001b[2K\r",
      "7d4cc27b64c3: Downloading  16.8 MB/19.79 MB\r",
      "\u001b[2B\u001b[2A\u001b[2K\r",
      "7d4cc27b64c3: Downloading 17.01 MB/19.79 MB\r",
      "\u001b[2B\u001b[2A\u001b[2K\r",
      "7d4cc27b64c3: Downloading 17.22 MB/19.79 MB\r",
      "\u001b[2B\u001b[2A\u001b[2K\r",
      "7d4cc27b64c3: Downloading 17.43 MB/19.79 MB\r",
      "\u001b[2B\u001b[2A\u001b[2K\r",
      "7d4cc27b64c3: Downloading 17.64 MB/19.79 MB\r",
      "\u001b[2B\u001b[2A\u001b[2K\r",
      "7d4cc27b64c3: Downloading 17.85 MB/19.79 MB\r",
      "\u001b[2B\u001b[2A\u001b[2K\r",
      "7d4cc27b64c3: Downloading 18.05 MB/19.79 MB\r",
      "\u001b[2B\u001b[2A\u001b[2K\r",
      "7d4cc27b64c3: Downloading 18.27 MB/19.79 MB\r",
      "\u001b[2B\u001b[2A\u001b[2K\r",
      "7d4cc27b64c3: Downloading 18.47 MB/19.79 MB\r",
      "\u001b[2B\u001b[2A\u001b[2K\r",
      "7d4cc27b64c3: Downloading 18.67 MB/19.79 MB\r",
      "\u001b[2B\u001b[2A\u001b[2K\r",
      "7d4cc27b64c3: Downloading 18.87 MB/19.79 MB\r",
      "\u001b[2B\u001b[2A\u001b[2K\r",
      "7d4cc27b64c3: Downloading 19.07 MB/19.79 MB\r",
      "\u001b[2B\u001b[2A\u001b[2K\r",
      "7d4cc27b64c3: Downloading 19.28 MB/19.79 MB\r",
      "\u001b[2B\u001b[2A\u001b[2K\r",
      "7d4cc27b64c3: Downloading  19.5 MB/19.79 MB\r",
      "\u001b[2B\u001b[2A\u001b[2K\r",
      "7d4cc27b64c3: Downloading  19.7 MB/19.79 MB\r",
      "\u001b[2B\u001b[2A\u001b[2K\r",
      "7d4cc27b64c3: Verifying Checksum \r",
      "\u001b[2B\u001b[2A\u001b[2K\r",
      "7d4cc27b64c3: Download complete \r",
      "\u001b[2B\u001b[2A\u001b[2K\r",
      "7d4cc27b64c3: Extracting 229.4 kB/19.79 MB\r",
      "\u001b[2B\u001b[2A\u001b[2K\r",
      "7d4cc27b64c3: Extracting 458.8 kB/19.79 MB\r",
      "\u001b[2B\u001b[2A\u001b[2K\r",
      "7d4cc27b64c3: Extracting 688.1 kB/19.79 MB\r",
      "\u001b[2B\u001b[2A\u001b[2K\r",
      "7d4cc27b64c3: Extracting 917.5 kB/19.79 MB\r",
      "\u001b[2B\u001b[2A\u001b[2K\r",
      "7d4cc27b64c3: Extracting 1.147 MB/19.79 MB\r",
      "\u001b[2B\u001b[2A\u001b[2K\r",
      "7d4cc27b64c3: Extracting 1.376 MB/19.79 MB\r",
      "\u001b[2B\u001b[2A\u001b[2K\r",
      "7d4cc27b64c3: Extracting 1.606 MB/19.79 MB\r",
      "\u001b[2B\u001b[2A\u001b[2K\r",
      "7d4cc27b64c3: Extracting 1.835 MB/19.79 MB\r",
      "\u001b[2B\u001b[2A\u001b[2K\r",
      "7d4cc27b64c3: Extracting 2.064 MB/19.79 MB\r",
      "\u001b[2B\u001b[2A\u001b[2K\r",
      "7d4cc27b64c3: Extracting 2.294 MB/19.79 MB\r",
      "\u001b[2B\u001b[2A\u001b[2K\r",
      "7d4cc27b64c3: Extracting 2.523 MB/19.79 MB\r",
      "\u001b[2B\u001b[2A\u001b[2K\r",
      "7d4cc27b64c3: Extracting 2.753 MB/19.79 MB\r",
      "\u001b[2B\u001b[2A\u001b[2K\r",
      "7d4cc27b64c3: Extracting 2.982 MB/19.79 MB\r",
      "\u001b[2B\u001b[2A\u001b[2K\r",
      "7d4cc27b64c3: Extracting 3.211 MB/19.79 MB\r",
      "\u001b[2B\u001b[2A\u001b[2K\r",
      "7d4cc27b64c3: Extracting 3.441 MB/19.79 MB\r",
      "\u001b[2B\u001b[2A\u001b[2K\r",
      "7d4cc27b64c3: Extracting  3.67 MB/19.79 MB\r",
      "\u001b[2B\u001b[2A\u001b[2K\r",
      "7d4cc27b64c3: Extracting 3.899 MB/19.79 MB\r",
      "\u001b[2B\u001b[2A\u001b[2K\r",
      "7d4cc27b64c3: Extracting 4.129 MB/19.79 MB\r",
      "\u001b[2B\u001b[2A\u001b[2K\r",
      "7d4cc27b64c3: Extracting 4.358 MB/19.79 MB\r",
      "\u001b[2B\u001b[2A\u001b[2K\r",
      "7d4cc27b64c3: Extracting 4.588 MB/19.79 MB\r",
      "\u001b[2B\u001b[2A\u001b[2K\r",
      "7d4cc27b64c3: Extracting 4.817 MB/19.79 MB\r",
      "\u001b[2B\u001b[2A\u001b[2K\r",
      "7d4cc27b64c3: Extracting 5.046 MB/19.79 MB\r",
      "\u001b[2B\u001b[2A\u001b[2K\r",
      "7d4cc27b64c3: Extracting 5.276 MB/19.79 MB\r",
      "\u001b[2B\u001b[2A\u001b[2K\r",
      "7d4cc27b64c3: Extracting 5.505 MB/19.79 MB\r",
      "\u001b[2B\u001b[2A\u001b[2K\r",
      "7d4cc27b64c3: Extracting 5.734 MB/19.79 MB\r",
      "\u001b[2B\u001b[2A\u001b[2K\r",
      "7d4cc27b64c3: Extracting 5.964 MB/19.79 MB\r",
      "\u001b[2B\u001b[2A\u001b[2K\r",
      "7d4cc27b64c3: Extracting 6.193 MB/19.79 MB\r",
      "\u001b[2B\u001b[2A\u001b[2K\r",
      "7d4cc27b64c3: Extracting 6.423 MB/19.79 MB\r",
      "\u001b[2B\u001b[2A\u001b[2K\r",
      "7d4cc27b64c3: Extracting 6.652 MB/19.79 MB\r",
      "\u001b[2B\u001b[2A\u001b[2K\r",
      "7d4cc27b64c3: Extracting 6.881 MB/19.79 MB\r",
      "\u001b[2B\u001b[2A\u001b[2K\r",
      "7d4cc27b64c3: Extracting 7.111 MB/19.79 MB\r",
      "\u001b[2B\u001b[2A\u001b[2K\r",
      "7d4cc27b64c3: Extracting  7.34 MB/19.79 MB\r",
      "\u001b[2B\u001b[2A\u001b[2K\r",
      "7d4cc27b64c3: Extracting 7.569 MB/19.79 MB\r",
      "\u001b[2B\u001b[2A\u001b[2K\r",
      "7d4cc27b64c3: Extracting 7.799 MB/19.79 MB\r",
      "\u001b[2B\u001b[2A\u001b[2K\r",
      "7d4cc27b64c3: Extracting 8.028 MB/19.79 MB\r",
      "\u001b[2B\u001b[2A\u001b[2K\r",
      "7d4cc27b64c3: Extracting 8.258 MB/19.79 MB\r",
      "\u001b[2B\u001b[2A\u001b[2K\r",
      "7d4cc27b64c3: Extracting 8.487 MB/19.79 MB\r",
      "\u001b[2B\u001b[2A\u001b[2K\r",
      "7d4cc27b64c3: Extracting 8.716 MB/19.79 MB\r",
      "\u001b[2B\u001b[2A\u001b[2K\r",
      "7d4cc27b64c3: Extracting 8.946 MB/19.79 MB\r",
      "\u001b[2B\u001b[2A\u001b[2K\r",
      "7d4cc27b64c3: Extracting 9.175 MB/19.79 MB\r",
      "\u001b[2B\u001b[2A\u001b[2K\r",
      "7d4cc27b64c3: Extracting 9.404 MB/19.79 MB\r",
      "\u001b[2B\u001b[2A\u001b[2K\r",
      "7d4cc27b64c3: Extracting 9.634 MB/19.79 MB\r",
      "\u001b[2B\u001b[2A\u001b[2K\r",
      "7d4cc27b64c3: Extracting 9.863 MB/19.79 MB\r",
      "\u001b[2B\u001b[2A\u001b[2K\r",
      "7d4cc27b64c3: Extracting 10.09 MB/19.79 MB\r",
      "\u001b[2B\u001b[2A\u001b[2K\r",
      "7d4cc27b64c3: Extracting 10.32 MB/19.79 MB\r",
      "\u001b[2B\u001b[2A\u001b[2K\r",
      "7d4cc27b64c3: Extracting 10.55 MB/19.79 MB\r",
      "\u001b[2B\u001b[2A\u001b[2K\r",
      "7d4cc27b64c3: Extracting 10.78 MB/19.79 MB\r",
      "\u001b[2B\u001b[2A\u001b[2K\r",
      "7d4cc27b64c3: Extracting 11.01 MB/19.79 MB\r",
      "\u001b[2B\u001b[2A\u001b[2K\r",
      "7d4cc27b64c3: Extracting 11.24 MB/19.79 MB\r",
      "\u001b[2B\u001b[2A\u001b[2K\r",
      "7d4cc27b64c3: Extracting 11.47 MB/19.79 MB\r",
      "\u001b[2B\u001b[2A\u001b[2K\r",
      "7d4cc27b64c3: Extracting  11.7 MB/19.79 MB\r",
      "\u001b[2B\u001b[2A\u001b[2K\r",
      "7d4cc27b64c3: Extracting 11.93 MB/19.79 MB\r",
      "\u001b[2B\u001b[2A\u001b[2K\r",
      "7d4cc27b64c3: Extracting 12.16 MB/19.79 MB\r",
      "\u001b[2B\u001b[2A\u001b[2K\r",
      "7d4cc27b64c3: Extracting 12.39 MB/19.79 MB\r",
      "\u001b[2B\u001b[2A\u001b[2K\r",
      "7d4cc27b64c3: Extracting 12.62 MB/19.79 MB\r",
      "\u001b[2B\u001b[2A\u001b[2K\r",
      "7d4cc27b64c3: Extracting 12.85 MB/19.79 MB\r",
      "\u001b[2B\u001b[2A\u001b[2K\r",
      "7d4cc27b64c3: Extracting 13.07 MB/19.79 MB\r",
      "\u001b[2B\u001b[2A\u001b[2K\r",
      "7d4cc27b64c3: Extracting  13.3 MB/19.79 MB\r",
      "\u001b[2B\u001b[2A\u001b[2K\r",
      "7d4cc27b64c3: Extracting 13.53 MB/19.79 MB\r",
      "\u001b[2B\u001b[2A\u001b[2K\r",
      "7d4cc27b64c3: Extracting 13.76 MB/19.79 MB\r",
      "\u001b[2B\u001b[2A\u001b[2K\r",
      "7d4cc27b64c3: Extracting 13.99 MB/19.79 MB\r",
      "\u001b[2B\u001b[2A\u001b[2K\r",
      "7d4cc27b64c3: Extracting 14.22 MB/19.79 MB\r",
      "\u001b[2B\u001b[2A\u001b[2K\r",
      "7d4cc27b64c3: Extracting 14.45 MB/19.79 MB\r",
      "\u001b[2B\u001b[2A\u001b[2K\r",
      "7d4cc27b64c3: Extracting 14.68 MB/19.79 MB\r",
      "\u001b[2B\u001b[2A\u001b[2K\r",
      "7d4cc27b64c3: Extracting 14.91 MB/19.79 MB\r",
      "\u001b[2B\u001b[2A\u001b[2K\r",
      "7d4cc27b64c3: Extracting 15.14 MB/19.79 MB\r",
      "\u001b[2B\u001b[2A\u001b[2K\r",
      "7d4cc27b64c3: Extracting 15.37 MB/19.79 MB\r",
      "\u001b[2B\u001b[2A\u001b[2K\r",
      "7d4cc27b64c3: Extracting  15.6 MB/19.79 MB\r",
      "\u001b[2B\u001b[2A\u001b[2K\r",
      "7d4cc27b64c3: Extracting 15.83 MB/19.79 MB\r",
      "\u001b[2B\u001b[2A\u001b[2K\r",
      "7d4cc27b64c3: Extracting 16.06 MB/19.79 MB\r",
      "\u001b[2B\u001b[2A\u001b[2K\r",
      "7d4cc27b64c3: Extracting 16.29 MB/19.79 MB\r",
      "\u001b[2B\u001b[2A\u001b[2K\r",
      "7d4cc27b64c3: Extracting 16.52 MB/19.79 MB\r",
      "\u001b[2B\u001b[2A\u001b[2K\r",
      "7d4cc27b64c3: Extracting 16.74 MB/19.79 MB\r",
      "\u001b[2B\u001b[2A\u001b[2K\r",
      "7d4cc27b64c3: Extracting 16.97 MB/19.79 MB\r",
      "\u001b[2B\u001b[2A\u001b[2K\r",
      "7d4cc27b64c3: Extracting  17.2 MB/19.79 MB\r",
      "\u001b[2B\u001b[2A\u001b[2K\r",
      "7d4cc27b64c3: Extracting 17.43 MB/19.79 MB\r",
      "\u001b[2B\u001b[2A\u001b[2K\r",
      "7d4cc27b64c3: Extracting 17.66 MB/19.79 MB\r",
      "\u001b[2B\u001b[2A\u001b[2K\r",
      "7d4cc27b64c3: Extracting 17.89 MB/19.79 MB\r",
      "\u001b[2B\u001b[2A\u001b[2K\r",
      "7d4cc27b64c3: Extracting 18.12 MB/19.79 MB\r",
      "\u001b[2B\u001b[2A\u001b[2K\r",
      "7d4cc27b64c3: Extracting 18.35 MB/19.79 MB\r",
      "\u001b[2B\u001b[2A\u001b[2K\r",
      "7d4cc27b64c3: Extracting 18.58 MB/19.79 MB\r",
      "\u001b[2B\u001b[2A\u001b[2K\r",
      "7d4cc27b64c3: Extracting 18.81 MB/19.79 MB\r",
      "\u001b[2B\u001b[2A\u001b[2K\r",
      "7d4cc27b64c3: Extracting 19.04 MB/19.79 MB\r",
      "\u001b[2B\u001b[2A\u001b[2K\r",
      "7d4cc27b64c3: Extracting 19.27 MB/19.79 MB\r",
      "\u001b[2B\u001b[2A\u001b[2K\r",
      "7d4cc27b64c3: Extracting  19.5 MB/19.79 MB\r",
      "\u001b[2B\u001b[2A\u001b[2K\r",
      "7d4cc27b64c3: Extracting 19.73 MB/19.79 MB\r",
      "\u001b[2B\u001b[2A\u001b[2K\r",
      "7d4cc27b64c3: Extracting 19.79 MB/19.79 MB\r",
      "\u001b[2B\u001b[2A\u001b[2K\r",
      "7d4cc27b64c3: Pull complete \r",
      "\u001b[2B\u001b[2A\u001b[2K\r",
      "7d4cc27b64c3: Pull complete \r",
      "\u001b[2B\u001b[1A\u001b[2K\r",
      "5345aa49ef1b: Extracting 32.77 kB/3.138 MB\r",
      "\u001b[1B\u001b[1A\u001b[2K\r",
      "5345aa49ef1b: Extracting 65.54 kB/3.138 MB\r",
      "\u001b[1B\u001b[1A\u001b[2K\r",
      "5345aa49ef1b: Extracting  98.3 kB/3.138 MB\r",
      "\u001b[1B\u001b[1A\u001b[2K\r",
      "5345aa49ef1b: Extracting 131.1 kB/3.138 MB\r",
      "\u001b[1B\u001b[1A\u001b[2K\r",
      "5345aa49ef1b: Extracting 163.8 kB/3.138 MB\r",
      "\u001b[1B\u001b[1A\u001b[2K\r",
      "5345aa49ef1b: Extracting 196.6 kB/3.138 MB\r",
      "\u001b[1B\u001b[1A\u001b[2K\r",
      "5345aa49ef1b: Extracting 229.4 kB/3.138 MB\r",
      "\u001b[1B\u001b[1A\u001b[2K\r",
      "5345aa49ef1b: Extracting 262.1 kB/3.138 MB\r",
      "\u001b[1B\u001b[1A\u001b[2K\r",
      "5345aa49ef1b: Extracting 294.9 kB/3.138 MB\r",
      "\u001b[1B\u001b[1A\u001b[2K\r",
      "5345aa49ef1b: Extracting 327.7 kB/3.138 MB\r",
      "\u001b[1B\u001b[1A\u001b[2K\r",
      "5345aa49ef1b: Extracting 360.4 kB/3.138 MB\r",
      "\u001b[1B\u001b[1A\u001b[2K\r",
      "5345aa49ef1b: Extracting 393.2 kB/3.138 MB\r",
      "\u001b[1B\u001b[1A\u001b[2K\r",
      "5345aa49ef1b: Extracting   426 kB/3.138 MB\r",
      "\u001b[1B\u001b[1A\u001b[2K\r",
      "5345aa49ef1b: Extracting 458.8 kB/3.138 MB\r",
      "\u001b[1B\u001b[1A\u001b[2K\r",
      "5345aa49ef1b: Extracting 491.5 kB/3.138 MB\r",
      "\u001b[1B\u001b[1A\u001b[2K\r",
      "5345aa49ef1b: Extracting 524.3 kB/3.138 MB\r",
      "\u001b[1B\u001b[1A\u001b[2K\r",
      "5345aa49ef1b: Extracting 557.1 kB/3.138 MB\r",
      "\u001b[1B\u001b[1A\u001b[2K\r",
      "5345aa49ef1b: Extracting 589.8 kB/3.138 MB\r",
      "\u001b[1B\u001b[1A\u001b[2K\r",
      "5345aa49ef1b: Extracting 622.6 kB/3.138 MB\r",
      "\u001b[1B\u001b[1A\u001b[2K\r",
      "5345aa49ef1b: Extracting 655.4 kB/3.138 MB\r",
      "\u001b[1B\u001b[1A\u001b[2K\r",
      "5345aa49ef1b: Extracting 688.1 kB/3.138 MB\r",
      "\u001b[1B\u001b[1A\u001b[2K\r",
      "5345aa49ef1b: Extracting 720.9 kB/3.138 MB\r",
      "\u001b[1B\u001b[1A\u001b[2K\r",
      "5345aa49ef1b: Extracting 753.7 kB/3.138 MB\r",
      "\u001b[1B\u001b[1A\u001b[2K\r",
      "5345aa49ef1b: Extracting 786.4 kB/3.138 MB\r",
      "\u001b[1B\u001b[1A\u001b[2K\r",
      "5345aa49ef1b: Extracting 819.2 kB/3.138 MB\r",
      "\u001b[1B\u001b[1A\u001b[2K\r",
      "5345aa49ef1b: Extracting   852 kB/3.138 MB\r",
      "\u001b[1B\u001b[1A\u001b[2K\r",
      "5345aa49ef1b: Extracting 884.7 kB/3.138 MB\r",
      "\u001b[1B\u001b[1A\u001b[2K\r",
      "5345aa49ef1b: Extracting 917.5 kB/3.138 MB\r",
      "\u001b[1B\u001b[1A\u001b[2K\r",
      "5345aa49ef1b: Extracting 950.3 kB/3.138 MB\r",
      "\u001b[1B\u001b[1A\u001b[2K\r",
      "5345aa49ef1b: Extracting   983 kB/3.138 MB\r",
      "\u001b[1B\u001b[1A\u001b[2K\r",
      "5345aa49ef1b: Extracting 1.016 MB/3.138 MB\r",
      "\u001b[1B\u001b[1A\u001b[2K\r",
      "5345aa49ef1b: Extracting 1.081 MB/3.138 MB\r",
      "\u001b[1B\u001b[1A\u001b[2K\r",
      "5345aa49ef1b: Extracting 1.147 MB/3.138 MB\r",
      "\u001b[1B\u001b[1A\u001b[2K\r",
      "5345aa49ef1b: Extracting 1.212 MB/3.138 MB\r",
      "\u001b[1B\u001b[1A\u001b[2K\r",
      "5345aa49ef1b: Extracting 1.278 MB/3.138 MB\r",
      "\u001b[1B\u001b[1A\u001b[2K\r",
      "5345aa49ef1b: Extracting 1.343 MB/3.138 MB\r",
      "\u001b[1B\u001b[1A\u001b[2K\r",
      "5345aa49ef1b: Extracting 1.409 MB/3.138 MB\r",
      "\u001b[1B\u001b[1A\u001b[2K\r",
      "5345aa49ef1b: Extracting 1.475 MB/3.138 MB\r",
      "\u001b[1B\u001b[1A\u001b[2K\r",
      "5345aa49ef1b: Extracting  1.54 MB/3.138 MB\r",
      "\u001b[1B\u001b[1A\u001b[2K\r",
      "5345aa49ef1b: Extracting 1.606 MB/3.138 MB\r",
      "\u001b[1B\u001b[1A\u001b[2K\r",
      "5345aa49ef1b: Extracting 1.671 MB/3.138 MB\r",
      "\u001b[1B\u001b[1A\u001b[2K\r",
      "5345aa49ef1b: Extracting 1.737 MB/3.138 MB\r",
      "\u001b[1B\u001b[1A\u001b[2K\r",
      "5345aa49ef1b: Extracting 1.802 MB/3.138 MB\r",
      "\u001b[1B\u001b[1A\u001b[2K\r",
      "5345aa49ef1b: Extracting 1.868 MB/3.138 MB\r",
      "\u001b[1B\u001b[1A\u001b[2K\r",
      "5345aa49ef1b: Extracting 1.933 MB/3.138 MB\r",
      "\u001b[1B\u001b[1A\u001b[2K\r",
      "5345aa49ef1b: Extracting 1.999 MB/3.138 MB\r",
      "\u001b[1B\u001b[1A\u001b[2K\r",
      "5345aa49ef1b: Extracting 2.064 MB/3.138 MB\r",
      "\u001b[1B\u001b[1A\u001b[2K\r",
      "5345aa49ef1b: Extracting  2.13 MB/3.138 MB\r",
      "\u001b[1B\u001b[1A\u001b[2K\r",
      "5345aa49ef1b: Extracting 2.195 MB/3.138 MB\r",
      "\u001b[1B\u001b[1A\u001b[2K\r",
      "5345aa49ef1b: Extracting 2.261 MB/3.138 MB\r",
      "\u001b[1B\u001b[1A\u001b[2K\r",
      "5345aa49ef1b: Extracting 2.327 MB/3.138 MB\r",
      "\u001b[1B\u001b[1A\u001b[2K\r",
      "5345aa49ef1b: Extracting 2.392 MB/3.138 MB\r",
      "\u001b[1B\u001b[1A\u001b[2K\r",
      "5345aa49ef1b: Extracting 2.458 MB/3.138 MB\r",
      "\u001b[1B\u001b[1A\u001b[2K\r",
      "5345aa49ef1b: Extracting 2.523 MB/3.138 MB\r",
      "\u001b[1B\u001b[1A\u001b[2K\r",
      "5345aa49ef1b: Extracting 2.589 MB/3.138 MB\r",
      "\u001b[1B\u001b[1A\u001b[2K\r",
      "5345aa49ef1b: Extracting 2.654 MB/3.138 MB\r",
      "\u001b[1B\u001b[1A\u001b[2K\r",
      "5345aa49ef1b: Extracting  2.72 MB/3.138 MB\r",
      "\u001b[1B\u001b[1A\u001b[2K\r",
      "5345aa49ef1b: Extracting 2.785 MB/3.138 MB\r",
      "\u001b[1B\u001b[1A\u001b[2K\r",
      "5345aa49ef1b: Extracting 2.851 MB/3.138 MB\r",
      "\u001b[1B\u001b[1A\u001b[2K\r",
      "5345aa49ef1b: Extracting 2.916 MB/3.138 MB\r",
      "\u001b[1B\u001b[1A\u001b[2K\r",
      "5345aa49ef1b: Extracting 2.982 MB/3.138 MB\r",
      "\u001b[1B\u001b[1A\u001b[2K\r",
      "5345aa49ef1b: Extracting 3.047 MB/3.138 MB\r",
      "\u001b[1B\u001b[1A\u001b[2K\r",
      "5345aa49ef1b: Extracting  3.08 MB/3.138 MB\r",
      "\u001b[1B\u001b[1A\u001b[2K\r",
      "5345aa49ef1b: Extracting 3.113 MB/3.138 MB\r",
      "\u001b[1B\u001b[1A\u001b[2K\r",
      "5345aa49ef1b: Extracting 3.138 MB/3.138 MB\r",
      "\u001b[1B\u001b[1A\u001b[2K\r",
      "5345aa49ef1b: Pull complete \r",
      "\u001b[1B\u001b[1A\u001b[2K\r",
      "5345aa49ef1b: Pull complete \r",
      "\u001b[1B\u001b[7A\u001b[2K\r",
      "a3ed95caeb02: Extracting     32 B/32 B\r",
      "\u001b[7B\u001b[7A\u001b[2K\r",
      "a3ed95caeb02: Extracting     32 B/32 B\r",
      "\u001b[7B\u001b[7A\u001b[2K\r",
      "a3ed95caeb02: Pull complete \r",
      "\u001b[7B\u001b[7A\u001b[2K\r",
      "a3ed95caeb02: Pull complete \r",
      "\u001b[7BDigest: sha256:84d75f33b4ae12997a0a2d51481ed18525ee7b49a5660c3301a00dfb2db19a14\r\n",
      "Status: Downloaded newer image for python:2.7\r\n",
      " ---> 31093b2dabe2\r\n",
      "Step 2 : MAINTAINER \"Docker Build Lab\" <dockerlabs@mjbright.net>\r\n",
      " ---> Running in 404474a045cb\r\n",
      " ---> 7aa58734ef0a\r\n",
      "Removing intermediate container 404474a045cb\r\n",
      "Step 3 : WORKDIR /src\r\n",
      " ---> Running in 1709c7d0613f\r\n",
      " ---> 50364340ba7d\r\n",
      "Removing intermediate container 1709c7d0613f\r\n",
      "Step 4 : ADD requirements.txt /src/\r\n",
      " ---> 2a48226d80a9\r\n",
      "Removing intermediate container 86e962852b66\r\n",
      "Step 5 : RUN pip install -r requirements.txt\r\n",
      " ---> Running in b6136d317c71\r\n",
      "Collecting flask (from -r requirements.txt (line 1))\r\n",
      "  Downloading Flask-0.10.1.tar.gz (544kB)\r\n",
      "Collecting redis (from -r requirements.txt (line 2))\r\n",
      "  Downloading redis-2.10.5-py2.py3-none-any.whl (60kB)\r\n",
      "Collecting Werkzeug>=0.7 (from flask->-r requirements.txt (line 1))\r\n",
      "  Downloading Werkzeug-0.11.3-py2.py3-none-any.whl (305kB)\r\n",
      "Collecting Jinja2>=2.4 (from flask->-r requirements.txt (line 1))\r\n",
      "  Downloading Jinja2-2.8-py2.py3-none-any.whl (263kB)\r\n",
      "Collecting itsdangerous>=0.21 (from flask->-r requirements.txt (line 1))\r\n",
      "  Downloading itsdangerous-0.24.tar.gz (46kB)\r\n",
      "Collecting MarkupSafe (from Jinja2>=2.4->flask->-r requirements.txt (line 1))\r\n",
      "  Downloading MarkupSafe-0.23.tar.gz\r\n",
      "Building wheels for collected packages: flask, itsdangerous, MarkupSafe\r\n",
      "  Running setup.py bdist_wheel for flask\r\n",
      "  Stored in directory: /root/.cache/pip/wheels/d2/db/61/cb9b80526b8f3ba89248ec0a29d6da1bb6013681c930fca987\r\n",
      "  Running setup.py bdist_wheel for itsdangerous\r\n",
      "  Stored in directory: /root/.cache/pip/wheels/97/c0/b8/b37c320ff57e15f993ba0ac98013eee778920b4a7b3ebae3cf\r\n",
      "  Running setup.py bdist_wheel for MarkupSafe\r\n",
      "  Stored in directory: /root/.cache/pip/wheels/94/a7/79/f79a998b64c1281cb99fa9bbd33cfc9b8b5775f438218d17a7\r\n",
      "Successfully built flask itsdangerous MarkupSafe\r\n",
      "Installing collected packages: Werkzeug, MarkupSafe, Jinja2, itsdangerous, flask, redis\r\n",
      "Successfully installed Jinja2-2.8 MarkupSafe-0.23 Werkzeug-0.11.3 flask-0.10.1 itsdangerous-0.24 redis-2.10.5\r\n",
      "\u001b[91mYou are using pip version 7.1.2, however version 8.0.2 is available.\r\n",
      "You should consider upgrading via the 'pip install --upgrade pip' command.\r\n",
      "\u001b[0m ---> 7cf562861598\r\n",
      "Removing intermediate container b6136d317c71\r\n",
      "Step 6 : ADD . /src\r\n",
      " ---> a4044ed2f4ea\r\n",
      "Removing intermediate container 4d4b3bce93c5\r\n",
      "Step 7 : CMD python flask_redis_app.py\r\n",
      " ---> Running in 0d95fa7b3fa6\r\n",
      " ---> 64113b113a8a\r\n",
      "Removing intermediate container 0d95fa7b3fa6\r\n",
      "Successfully built 64113b113a8a\r\n"
     ]
    }
   ],
   "source": [
    "docker build -t lab/python_flask .\n"
   ]
  },
  {
   "cell_type": "code",
   "execution_count": 83,
   "metadata": {
    "collapsed": false
   },
   "outputs": [
    {
     "name": "stdout",
     "output_type": "stream",
     "text": [
      "REPOSITORY          TAG                 IMAGE ID            CREATED             SIZE\r\n",
      "lab/python_flask    latest              64113b113a8a        17 seconds ago      682.9 MB\r\n",
      "lab/toolset         latest              6b82de537bd1        44 minutes ago      3.245 MB\r\n",
      "lab/go-hello        latest              438d3567ae8a        45 minutes ago      2.367 MB\r\n",
      "lab/basic           latest              e3d7946e9d93        48 minutes ago      689.1 MB\r\n",
      "lab/c_prog          latest              659400ddd8d4        18 hours ago        877.2 kB\r\n"
     ]
    }
   ],
   "source": [
    "docker images lab/*"
   ]
  },
  {
   "cell_type": "markdown",
   "metadata": {},
   "source": [
    "Now let's run this container in the background"
   ]
  },
  {
   "cell_type": "markdown",
   "metadata": {},
   "source": [
    "First we must launch our redis DB as a background container, it will be used to count the number of page accesses.\n",
    "\n",
    "For this we launch a container instance of the 'redis' image, as a background process (-d) and we also give the instance the name 'redis' also. This will allow our 'flask' container to link to this image"
   ]
  },
  {
   "cell_type": "code",
   "execution_count": 85,
   "metadata": {
    "collapsed": false
   },
   "outputs": [
    {
     "name": "stdout",
     "output_type": "stream",
     "text": [
      "b00a2d863d93bd50ea13bba2046bd6325097f05195b8d3799239a93bd5694817\r\n"
     ]
    }
   ],
   "source": [
    "docker run -d --name redis redis"
   ]
  },
  {
   "cell_type": "markdown",
   "metadata": {},
   "source": [
    "Now we launch our 'flask' image which will be our web server.\n",
    "\n",
    "We also launch that container in the background.  Note that we link to the 'redis' container.  This allows the 'flask' container to connect to the redis database to get and increment the counter value"
   ]
  },
  {
   "cell_type": "code",
   "execution_count": 86,
   "metadata": {
    "collapsed": false
   },
   "outputs": [
    {
     "name": "stdout",
     "output_type": "stream",
     "text": [
      "f2b3fffe66eff7279d9e4d47cd15bb7e2ae6033552d5c335e6627cc8b017c44c\r\n"
     ]
    }
   ],
   "source": [
    "docker run -d --link redis:db -p 5000:5000 lab/python_flask"
   ]
  },
  {
   "cell_type": "markdown",
   "metadata": {},
   "source": [
    "Now as we make successive curl (or web browser) requests to our 'flask' web server we see that page access counter gets incremented"
   ]
  },
  {
   "cell_type": "code",
   "execution_count": 87,
   "metadata": {
    "collapsed": false
   },
   "outputs": [
    {
     "name": "stdout",
     "output_type": "stream",
     "text": [
      "\r\n",
      "Hello World!\r\n",
      "This page has been visited 1 times.\r\n",
      "On host f2b3fffe66ef\r\n",
      "\r\n"
     ]
    }
   ],
   "source": [
    "curl http://localhost:5000"
   ]
  },
  {
   "cell_type": "code",
   "execution_count": 88,
   "metadata": {
    "collapsed": false
   },
   "outputs": [
    {
     "name": "stdout",
     "output_type": "stream",
     "text": [
      "\r\n",
      "Hello World!\r\n",
      "This page has been visited 2 times.\r\n",
      "On host f2b3fffe66ef\r\n",
      "\r\n"
     ]
    }
   ],
   "source": [
    "curl http://localhost:5000"
   ]
  },
  {
   "cell_type": "code",
   "execution_count": 89,
   "metadata": {
    "collapsed": false
   },
   "outputs": [
    {
     "name": "stdout",
     "output_type": "stream",
     "text": [
      "\r\n",
      "Hello World!\r\n",
      "This page has been visited 3 times.\r\n",
      "On host f2b3fffe66ef\r\n",
      "\r\n"
     ]
    }
   ],
   "source": [
    "curl http://localhost:5000"
   ]
  },
  {
   "cell_type": "code",
   "execution_count": 90,
   "metadata": {
    "collapsed": false
   },
   "outputs": [
    {
     "name": "stdout",
     "output_type": "stream",
     "text": [
      "\r\n",
      "Hello World!\r\n",
      "This page has been visited 4 times.\r\n",
      "On host f2b3fffe66ef\r\n",
      "\r\n"
     ]
    }
   ],
   "source": [
    "curl http://localhost:5000"
   ]
  },
  {
   "cell_type": "markdown",
   "metadata": {},
   "source": [
    "  <a name=\"Compose\" />\n",
    "#   Using Compose\n",
    "<a href=\"#TOP\">TOP</a>\n",
    "  \n",
    "#   Building complex systems with Compose\n",
    "<a href=\"#TOP\">TOP</a>"
   ]
  },
  {
   "cell_type": "code",
   "execution_count": 91,
   "metadata": {
    "collapsed": false
   },
   "outputs": [
    {
     "name": "stdout",
     "output_type": "stream",
     "text": []
    }
   ],
   "source": [
    "cd ~/src/compose"
   ]
  },
  {
   "cell_type": "markdown",
   "metadata": {},
   "source": [
    "Create a docker-compose.yml specification file with the following contents.\n",
    "\n",
    "This is a 2-tier architecture with "
   ]
  },
  {
   "cell_type": "code",
   "execution_count": 94,
   "metadata": {
    "collapsed": false
   },
   "outputs": [
    {
     "name": "stdout",
     "output_type": "stream",
     "text": [
      "\r\n",
      "version: 2\r\n",
      "services:\r\n",
      "  weba:\r\n",
      "    build: ../nodeJS\r\n",
      "    expose:\r\n",
      "      - 80\r\n",
      "\r\n",
      "  webb:\r\n",
      "    build: ../nodeJS\r\n",
      "    expose:\r\n",
      "      - 80\r\n",
      "\r\n",
      "  webc:\r\n",
      "    build: ../nodeJS\r\n",
      "    expose:\r\n",
      "      - 80\r\n",
      "\r\n",
      "  haproxy:\r\n",
      "    image: haproxy\r\n",
      "    volumes:\r\n",
      "     - ./haproxy:/usr/local/etc/haproxy/\r\n",
      "    links:\r\n",
      "     - weba\r\n",
      "     - webb\r\n",
      "     - webc\r\n",
      "    ports:\r\n",
      "     - \"80:80\"\r\n",
      "     - \"70:70\"\r\n",
      "    expose:\r\n",
      "     - \"80\"\r\n",
      "     - \"70\"\r\n",
      "\r\n",
      "\r\n"
     ]
    }
   ],
   "source": [
    "cat docker-compose.yml"
   ]
  },
  {
   "cell_type": "markdown",
   "metadata": {},
   "source": [
    "Let's look at the docker-compose options"
   ]
  },
  {
   "cell_type": "code",
   "execution_count": 95,
   "metadata": {
    "collapsed": false
   },
   "outputs": [
    {
     "name": "stdout",
     "output_type": "stream",
     "text": [
      "Define and run multi-container applications with Docker.\r\n",
      "\r\n",
      "Usage:\r\n",
      "  docker-compose [-f=<arg>...] [options] [COMMAND] [ARGS...]\r\n",
      "  docker-compose -h|--help\r\n",
      "\r\n",
      "Options:\r\n",
      "  -f, --file FILE           Specify an alternate compose file (default: docker-compose.yml)\r\n",
      "  -p, --project-name NAME   Specify an alternate project name (default: directory name)\r\n",
      "  --verbose                 Show more output\r\n",
      "  -v, --version             Print version and exit\r\n",
      "\r\n",
      "Commands:\r\n",
      "  build              Build or rebuild services\r\n",
      "  config             Validate and view the compose file\r\n",
      "  create             Create services\r\n",
      "  down               Stop and remove containers, networks, images, and volumes\r\n",
      "  events             Receive real time events from containers\r\n",
      "  help               Get help on a command\r\n",
      "  kill               Kill containers\r\n",
      "  logs               View output from containers\r\n",
      "  pause              Pause services\r\n",
      "  port               Print the public port for a port binding\r\n",
      "  ps                 List containers\r\n",
      "  pull               Pulls service images\r\n",
      "  restart            Restart services\r\n",
      "  rm                 Remove stopped containers\r\n",
      "  run                Run a one-off command\r\n",
      "  scale              Set number of containers for a service\r\n",
      "  start              Start services\r\n",
      "  stop               Stop services\r\n",
      "  unpause            Unpause services\r\n",
      "  up                 Create and start containers\r\n",
      "  version            Show the Docker-Compose version information\r\n"
     ]
    }
   ],
   "source": [
    "docker-compose"
   ]
  },
  {
   "cell_type": "markdown",
   "metadata": {},
   "source": [
    "Let's first do some cleanup of any existing containers invoked by compose"
   ]
  },
  {
   "cell_type": "code",
   "execution_count": 99,
   "metadata": {
    "collapsed": false
   },
   "outputs": [
    {
     "name": "stdout",
     "output_type": "stream",
     "text": []
    }
   ],
   "source": [
    "docker-compose stop"
   ]
  },
  {
   "cell_type": "code",
   "execution_count": 102,
   "metadata": {
    "collapsed": false
   },
   "outputs": [
    {
     "name": "stdout",
     "output_type": "stream",
     "text": [
      "No stopped containers\r\n"
     ]
    }
   ],
   "source": [
    "docker-compose rm -f"
   ]
  },
  {
   "cell_type": "markdown",
   "metadata": {},
   "source": [
    "Remove any other containers which might be listening on port 80 - here we stop and remove all containers to be sure"
   ]
  },
  {
   "cell_type": "code",
   "execution_count": 101,
   "metadata": {
    "collapsed": false
   },
   "outputs": [
    {
     "name": "stdout",
     "output_type": "stream",
     "text": [
      "f2b3fffe66ef\r\n",
      "b00a2d863d93\r\n",
      "c43f44797edd\r\n",
      "f2b3fffe66ef\r\n",
      "b00a2d863d93\r\n",
      "c43f44797edd\r\n"
     ]
    }
   ],
   "source": [
    "docker stop $(docker ps -q)\n",
    "docker rm $(docker ps -aq)"
   ]
  },
  {
   "cell_type": "markdown",
   "metadata": {},
   "source": [
    "Now we will startup our system.\n",
    "\n",
    "&nbsp;&nbsp;&nbsp;&nbsp;&nbsp;&nbsp;&nbsp;docker-compose up\n",
    "\n",
    "will startup the containers specified in docker-compose.yml (first building any images where 'build:' is specified)\n",
    "\n",
    "Launching in the foreground will produce the following output:\n",
    "\n",
    "```\n",
    "Creating compose_webc_1\n",
    "Building weba\n",
    "Step 1 : FROM node\n",
    " ---> baa18fdeb577\n",
    "Step 2 : ADD src/ /src\n",
    " ---> Using cache\n",
    " ---> 6d6e1fb506d4\n",
    "Step 3 : WORKDIR /src\n",
    " ---> Using cache\n",
    " ---> f293e728d28f\n",
    "Step 4 : RUN npm install\n",
    " ---> Using cache\n",
    " ---> 16107856389c\n",
    "Step 5 : EXPOSE 80\n",
    " ---> Using cache\n",
    " ---> eed510133b6b\n",
    "Step 6 : CMD node index.js\n",
    " ---> Using cache\n",
    " ---> 2e6df94ecab1\n",
    "Successfully built 2e6df94ecab1\n",
    "Creating compose_weba_1\n",
    "Creating compose_haproxy_1\n",
    "Attaching to compose_webb_1, compose_webc_1, compose_weba_1, compose_haproxy_1\n",
    "webb_1    | Running on http://localhost\n",
    "webc_1    | Running on http://localhost\n",
    "weba_1    | Running on http://localhost\n",
    "haproxy_1 | [WARNING] 038/165945 (1) : Server aj_backends/weba is UP, reason: Layer7 check passed, code: 200, info: \"HTTP status check returned code <3C>200<3E>\", check duration: 6ms. 3 active and 0 backup servers online. 0 sessions requeued, 0 total in queue.\n",
    "```\n",
    "\n",
    "where we see that the necessary images were built and then started.\n",
    "We also see startup of the haproxy container and it's checks that it can contact the web servers.\n",
    "\n",
    "Let's start the containers in the background"
   ]
  },
  {
   "cell_type": "code",
   "execution_count": 103,
   "metadata": {
    "collapsed": false
   },
   "outputs": [
    {
     "name": "stdout",
     "output_type": "stream",
     "text": [
      "Creating compose_webb_1\r\n",
      "Creating compose_webc_1\r\n",
      "Creating compose_weba_1\r\n",
      "Creating compose_haproxy_1\r\n"
     ]
    }
   ],
   "source": [
    "docker-compose up -d"
   ]
  },
  {
   "cell_type": "markdown",
   "metadata": {},
   "source": [
    "Now we can see that appropriate images have been built and we can also use 'docker-compose ps' to see the running elements of our system"
   ]
  },
  {
   "cell_type": "code",
   "execution_count": 104,
   "metadata": {
    "collapsed": false
   },
   "outputs": [
    {
     "name": "stdout",
     "output_type": "stream",
     "text": [
      "REPOSITORY          TAG                 IMAGE ID            CREATED             SIZE\r\n",
      "compose_weba        latest              2e6df94ecab1        4 minutes ago       645.8 MB\r\n",
      "compose_webb        latest              2e6df94ecab1        4 minutes ago       645.8 MB\r\n",
      "compose_webc        latest              2e6df94ecab1        4 minutes ago       645.8 MB\r\n"
     ]
    }
   ],
   "source": [
    "docker images compose*"
   ]
  },
  {
   "cell_type": "code",
   "execution_count": 105,
   "metadata": {
    "collapsed": false
   },
   "outputs": [
    {
     "name": "stdout",
     "output_type": "stream",
     "text": [
      "      Name             Command             State              Ports       \r\n",
      "-------------------------------------------------------------------------\r\n",
      "compose_haproxy_   haproxy -f         Up                 0.0.0.0:70->70/t \r\n",
      "1                  /usr/local/etc/                       cp, 0.0.0.0:80-> \r\n",
      "                   ...                                   80/tcp           \r\n",
      "compose_weba_1     node index.js      Up                 80/tcp           \r\n",
      "compose_webb_1     node index.js      Up                 80/tcp           \r\n",
      "compose_webc_1     node index.js      Up                 80/tcp           \r\n"
     ]
    }
   ],
   "source": [
    "docker-compose ps"
   ]
  },
  {
   "cell_type": "markdown",
   "metadata": {},
   "source": [
    "Now we can use curl connecting to localhost:80 (on which the haproxy container is listening) and we will see how haproxy is doing roundrobin scheduling to each of our web containers"
   ]
  },
  {
   "cell_type": "code",
   "execution_count": 106,
   "metadata": {
    "collapsed": false
   },
   "outputs": [
    {
     "name": "stdout",
     "output_type": "stream",
     "text": [
      "<html><body>Hello from Node.js container 8727c713bfd4</body></html>"
     ]
    }
   ],
   "source": [
    "curl localhost:80"
   ]
  },
  {
   "cell_type": "code",
   "execution_count": 107,
   "metadata": {
    "collapsed": false
   },
   "outputs": [
    {
     "name": "stdout",
     "output_type": "stream",
     "text": [
      "<html><body>Hello from Node.js container 594f34c12cb5</body></html>"
     ]
    }
   ],
   "source": [
    "curl localhost:80"
   ]
  },
  {
   "cell_type": "code",
   "execution_count": 108,
   "metadata": {
    "collapsed": false
   },
   "outputs": [
    {
     "name": "stdout",
     "output_type": "stream",
     "text": [
      "<html><body>Hello from Node.js container 3ebf9e175082</body></html>"
     ]
    }
   ],
   "source": [
    "curl localhost:80"
   ]
  },
  {
   "cell_type": "markdown",
   "metadata": {},
   "source": [
    "Note how the container id changes each time.\n",
    "\n",
    "Now we can try scaling one of our services as shown below:"
   ]
  },
  {
   "cell_type": "code",
   "execution_count": 109,
   "metadata": {
    "collapsed": false
   },
   "outputs": [
    {
     "name": "stdout",
     "output_type": "stream",
     "text": [
      "Creating and starting 2 ... \r",
      "\r\n",
      "Creating and starting 3 ... \r",
      "\r\n",
      "Creating and starting 4 ... \r",
      "\r\n",
      "Creating and starting 5 ... \r",
      "\r\n",
      "\u001b[3A\u001b[2K\r",
      "Creating and starting 3 ... done\r",
      "\u001b[3B\u001b[4A\u001b[2K\r",
      "Creating and starting 2 ... done\r",
      "\u001b[4B\u001b[2A\u001b[2K\r",
      "Creating and starting 4 ... done\r",
      "\u001b[2B\u001b[1A\u001b[2K\r",
      "Creating and starting 5 ... done\r",
      "\u001b[1B"
     ]
    }
   ],
   "source": [
    "docker-compose scale weba=5"
   ]
  },
  {
   "cell_type": "markdown",
   "metadata": {},
   "source": [
    "With 'docker-compose ps' we see that we now have scaled to 5 'weba' servers:"
   ]
  },
  {
   "cell_type": "code",
   "execution_count": 110,
   "metadata": {
    "collapsed": false
   },
   "outputs": [
    {
     "name": "stdout",
     "output_type": "stream",
     "text": [
      "      Name             Command             State              Ports       \r\n",
      "-------------------------------------------------------------------------\r\n",
      "compose_haproxy_   haproxy -f         Up                 0.0.0.0:70->70/t \r\n",
      "1                  /usr/local/etc/                       cp, 0.0.0.0:80-> \r\n",
      "                   ...                                   80/tcp           \r\n",
      "compose_weba_1     node index.js      Up                 80/tcp           \r\n",
      "compose_weba_2     node index.js      Up                 80/tcp           \r\n",
      "compose_weba_3     node index.js      Up                 80/tcp           \r\n",
      "compose_weba_4     node index.js      Up                 80/tcp           \r\n",
      "compose_weba_5     node index.js      Up                 80/tcp           \r\n",
      "compose_webb_1     node index.js      Up                 80/tcp           \r\n",
      "compose_webc_1     node index.js      Up                 80/tcp           \r\n"
     ]
    }
   ],
   "source": [
    "docker-compose ps"
   ]
  },
  {
   "cell_type": "code",
   "execution_count": 111,
   "metadata": {
    "collapsed": false
   },
   "outputs": [
    {
     "name": "stdout",
     "output_type": "stream",
     "text": [
      "<html><body>Hello from Node.js container 8727c713bfd4</body></html><html><body>Hello from Node.js container 594f34c12cb5</body></html><html><body>Hello from Node.js container 3ebf9e175082</body></html><html><body>Hello from Node.js container 8727c713bfd4</body></html><html><body>Hello from Node.js container 594f34c12cb5</body></html><html><body>Hello from Node.js container 3ebf9e175082</body></html>"
     ]
    }
   ],
   "source": [
    "curl localhost:80\n",
    "curl localhost:80\n",
    "curl localhost:80\n",
    "curl localhost:80\n",
    "curl localhost:80\n",
    "curl localhost:80"
   ]
  },
  {
   "cell_type": "markdown",
   "metadata": {},
   "source": [
    "Now let's stop our current system"
   ]
  },
  {
   "cell_type": "code",
   "execution_count": 113,
   "metadata": {
    "collapsed": false
   },
   "outputs": [
    {
     "name": "stdout",
     "output_type": "stream",
     "text": [
      "No stopped containers\r\n",
      "Name   Command   State   Ports \r\n",
      "------------------------------\r\n"
     ]
    }
   ],
   "source": [
    "docker-compose stop\n",
    "docker-compose rm -f\n",
    "docker-compose ps"
   ]
  },
  {
   "cell_type": "markdown",
   "metadata": {},
   "source": [
    "<a name=\"building-docker\" />\n",
    "# Building Docker\n",
    "<a href=\"#TOP\">TOP</a>\n",
    "\n",
    "<a name=\"Building-Docker-with-Docker\" />\n",
    "# Building Docker with Docker\n",
    "<a href=\"#TOP\">TOP</a>\n",
    "\n",
    "A major advantage of Docker is to simplify build environments.\n",
    "\n",
    "Let's look at how we can build the Docker engine client/daemon binary without having to explicitly install a development environment.\n",
    "\n",
    "<font size=+1 color=\"#77f\">\n",
    "<b>The goal of this step is simply to show the ease with which we can build Docker, thanks to Docker itself.</b>   \n",
    "</font>\n",
    "\n",
    "We do not make particular use of the built image.\n",
    "\n",
    "The process involves the following steps, several of which have already been performed so as to prevent excessive network utilisation during the lab.  Nevertheless all steps are  described here so that you can see just how easy it is to build Docker from scratch:\n",
    "- Install make\n",
    "- Clone the Docker source code\n",
    "- Checkout the same code revision as our current Docker binary (client and daemon)\n",
    "- Build the code - which pulls the docker-dev image containing the required version of the Go compiler\n",
    "- Run the executable to demonstrate it is correct\n",
    "\n",
    "#### Installing make\n",
    "\n",
    "In your environment we have already installed the make package, but no compiler using yum:\n",
    "\n",
    "    yum install make\n",
    "\n",
    "#### Cloning the Docker source code\n",
    "\n",
    "We have already downloaded the Docker source code from github as follows:\n",
    "\n",
    "    mkdir -p /root/src/docker\n",
    "    cd /root/src/docker\n",
    "    git clone https://github.com/docker/docker .\n",
    "\n",
    "To build Docker we simply have to build using the\n",
    "\n",
    "    make build\n",
    "    \n",
    "command.\n",
    "\n",
    "#### Checkout the source code revision corresponding to our installed Docker Engine\n",
    "\n",
    "If we build the latest sources this may not be compatible with our installed Docker version.\n",
    "\n",
    "This is the case.  We have 1.10.0-rc2 installed, which has API version 22, but the current github source is 1.10.0-dev which has changed to API version 23.  So if we build this we find that we cannot use this client to communicate with the installed daemon.\n",
    "\n",
    "So let's checkout the code for 1.10.0-rc2.\n",
    "\n",
    "At the time of writing this is the latest release(candidate) of the Docker engine.\n",
    "We can obtain that version of the source code by referring to the releases page https://github.com/docker/docker/releases\n",
    "and selecting the SHA1 hash of build 1.10.0-rc2 \n",
    "\n",
    "    git checkout c1cdc6e\n",
    "\n",
    "\n",
    "\n",
    "#### Build the code - which pulls the docker-dev image containing the required version of the Go compiler\n",
    "\n",
    "We can build the code as follows:\n",
    "\n",
    "    make build\n",
    "    \n",
    "We have run 'make build' already, so the docker-dev image has already been downloaded (again to prevent excessive network traffic).  The docker-dev image includes the required go compiler and other build tools.\n",
    "\n",
    "Run 'make build' again and you will see a standard build process and finally where it places the compiled binary\n",
    "\n",
    "#### Run the executable to demonstrate it is correct\n",
    "\n",
    "In preparation for the lab we built from the latest source (not the c1cdc6e version we checked out).\n",
    "\n",
    "Run this build as follows to see that it is not compatible with the installed binary (/usr/bin/docker).\n",
    "We see that this binary has version 1.10.0-dev and API version 1.23 but that this cannot communicate with our installed binary which has API version 1.22."
   ]
  },
  {
   "cell_type": "code",
   "execution_count": null,
   "metadata": {
    "collapsed": false
   },
   "outputs": [],
   "source": [
    "cd /root/src/docker; ls -altr bundles/1.10.0-dev/binary/docker-1.10.0-dev; ./bundles/1.10.0-dev/binary/docker version"
   ]
  },
  {
   "cell_type": "markdown",
   "metadata": {},
   "source": [
    "But if we run our new build - as follows - created from revision c1cdc6e of the source code (corresponding to Docker version 1.10.0-rc2) we see that it has the correct version, with the same API version and can interrogate the server.\n"
   ]
  },
  {
   "cell_type": "code",
   "execution_count": null,
   "metadata": {
    "collapsed": false
   },
   "outputs": [],
   "source": [
    "cd /root/src/docker; ls -altr bundles/1.10.0-rc2/binary/docker-1.10.0-rc2; ./bundles/1.10.0-rc2/binary/docker version"
   ]
  },
  {
   "cell_type": "code",
   "execution_count": null,
   "metadata": {
    "collapsed": true
   },
   "outputs": [],
   "source": []
  },
  {
   "cell_type": "markdown",
   "metadata": {
    "collapsed": true
   },
   "source": [
    "# References\n",
    "[TOP](#TOP)\n",
    "\n",
    "- [Dockerfile Reference](https://docs.docker.com/engine/reference/builder/)\n",
    "\n",
    "- [Compose file documentation](https://docs.docker.com/compose/compose-file/)\n",
    "\n",
    "- [Compose file reference](https://github.com/docker/compose/blob/1.6.0-rc1/docs/compose-file.md)\n",
    "\n",
    "- [Visualizing Docker Containers and Images](http://merrigrove.blogspot.in/2015/10/visualizing-docker-containers-and-images.html)\n",
    "\n",
    "- [Awesome Docker](https://github.com/veggiemonk/awesome-docker)\n",
    "\n",
    "- [Docker Cheat Sheet]()\n",
    "\n",
    "- [Building Good Docker Images](http://jonathan.bergknoff.com/journal/building-good-docker-images)\n",
    "\n",
    "- [How to scale a Docker Container with Docker Compose](https://www.brianchristner.io/how-to-scale-a-docker-container-with-docker-compose/)\n",
    "\n",
    "- [Docker Compose Demo](https://github.com/vegasbrianc/docker-compose-demo)\n"
   ]
  },
  {
   "cell_type": "code",
   "execution_count": null,
   "metadata": {
    "collapsed": true
   },
   "outputs": [],
   "source": []
  }
 ],
 "metadata": {
  "kernelspec": {
   "display_name": "Bash",
   "language": "bash",
   "name": "bash"
  },
  "language_info": {
   "codemirror_mode": "shell",
   "file_extension": ".sh",
   "mimetype": "text/x-sh",
   "name": "bash"
  }
 },
 "nbformat": 4,
 "nbformat_minor": 0
}
