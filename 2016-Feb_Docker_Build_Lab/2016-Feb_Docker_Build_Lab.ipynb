{
 "cells": [
  {
   "cell_type": "markdown",
   "metadata": {},
   "source": [
    "# Lab Outline\n",
    "\n",
    "## Online\n",
    "\n",
    "#### This document\n",
    "You can find this document online as\n",
    "- a [PDF file](https://raw.githubusercontent.com/mjbright/jupyter_notebooks/master/2016-Feb_Docker_Build_Lab/2016-Feb_Docker_Build_Lab.pdf) (http://bit.ly/1QF0XaH)  or as\n",
    "- a [Jupyter](http://www.jupyter.org) notebook at [2016-Feb_Docker_Build_Lab](https://github.com/mjbright/jupyter_notebooks/blob/master/2016-Feb_Docker_Build_Lab/).\n",
    "\n",
    "This notebook is runnable in a Jupyter installation with the bash_kernel installed.\n",
    "\n",
    "Although that is not the subject of this lab, if you want to create your own environment in which to run this lab with Docker components already installed (and even Jupyter/bash_kernel), refer to the README.md [here](https://github.com/mjbright/jupyter_notebooks/blob/master/2016-Feb_Docker_Build_Lab/)\n",
    "\n",
    "<br/><br/><br/>\n",
    "<center><font size=-1 color=\"#77f\">\n",
    "    <i class=\"fa-github fa-2x fa\"> On Github: [mjbright](https://github.com/mjbright)</i>,&nbsp;&nbsp;\n",
    "    <i class=\"fa-twitter fa-2x fa\"> On Twitter: [@mjbright](http://twitter.com/mjbright)</i>,&nbsp;&nbsp;\n",
    "    <i class=\"fa-user fa-2x fa\"> Blog: [mjbright.github.io](http://mjbright.github.io)</i><br/>\n",
    "    <i class=\"fa-envelope fa-2x fa\"> mjbrightfr AT gmail</i>\n",
    "</font></center>\n"
   ]
  },
  {
   "cell_type": "markdown",
   "metadata": {},
   "source": [
    "<a name=\"TOP\"></a>\n",
    "## Lab-Description\n",
    "[TOP](#TOP)\n",
    "\n",
    "\n",
    "We first need to recuperate the source code examples:\n",
    "\n",
    "<font color=#f22>\n",
    "### Lab Start\n",
    "</font>\n",
    "Start this lab by first performing the below step:"
   ]
  },
  {
   "cell_type": "code",
   "execution_count": null,
   "metadata": {
    "collapsed": true
   },
   "outputs": [],
   "source": [
    "## Lab Start:\n",
    "\n",
    "rm -rf ~/src\n",
    "\n",
    "git clone https://github.com/mjbright/docker-examples src\n",
    "\n",
    "./src/START_LAB.sh"
   ]
  },
  {
   "cell_type": "markdown",
   "metadata": {},
   "source": [
    "Then procede with the following sections:\n",
    "\n",
    "- [1. Introduction](#intro)\n",
    "- [2. Basic Docker Builds](#builds)\n",
    "- [3. Creating Small Images](#small-images)\n",
    "  - [Creating a small binary with C](#small-c)\n",
    "  - [Creating a small binary with Go](#small-go)\n",
    "  - [Creating a toolset Docker image containing several executeables](#small-push)\n",
    "  \n",
    "- [4. Pushing our image to Docker Hub](#small-multi)\n",
    "  \n",
    "- [5. Dockerfile best practices](#build-best-practices)\n",
    "\n",
    "- [6. Using the official 'Language Stack' images](#lang-stacks)\n",
    "  - [Using a Language Stack (Node.js)](#medium-node)\n",
    "  - [Using a Language Stack (Python)](#medium-python)\n",
    "  \n",
    "- [7. Using Compose](#compose)\n",
    "  - [Building complex systems with Compose](#Compose)\n",
    "  - [Rails example with Compose](#Rails-Example-with-Compose)\n",
    "  \n",
    "- [8. Building Docker](#building-docker)\n",
    "  - [Building Docker with Docker](#Building-Docker-with-Docker)\n",
    "\n",
    "[References](#References)\n",
    "\n",
    "<hr/>\n",
    "  \n",
    "### Overall description of the lab steps\n",
    "\n",
    "**NOTE: All lab steps can be considered optional, attendees may perform them in order, or jump to the section of interest to them (to get to the more complicated steps)**\n"
   ]
  },
  {
   "cell_type": "markdown",
   "metadata": {},
   "source": [
    "<a name=\"1.intro\" />\n",
    "# Introduction\n",
    "## A refresh on Docker concepts\n",
    "\n",
    "You may want to skip this section if you have already run the introductory lab.\n",
    "\n",
    "Look at what docker version you are running.\n",
    "Note that the 'docker version' command reports the local client version as well as the server (docker engine) version."
   ]
  },
  {
   "cell_type": "code",
   "execution_count": 1,
   "metadata": {
    "collapsed": false
   },
   "outputs": [
    {
     "name": "stdout",
     "output_type": "stream",
     "text": [
      "Client:\r\n",
      " Version:      1.10.0-rc2\r\n",
      " API version:  1.22\r\n",
      " Go version:   go1.5.3\r\n",
      " Git commit:   c1cdc6e\r\n",
      " Built:        Wed Jan 27 21:06:37 2016\r\n",
      " OS/Arch:      linux/amd64\r\n",
      "\r\n",
      "Server:\r\n",
      " Version:      1.10.0-rc2\r\n",
      " API version:  1.22\r\n",
      " Go version:   go1.5.3\r\n",
      " Git commit:   c1cdc6e\r\n",
      " Built:        Wed Jan 27 21:06:37 2016\r\n",
      " OS/Arch:      linux/amd64\r\n"
     ]
    }
   ],
   "source": [
    "docker version"
   ]
  },
  {
   "cell_type": "markdown",
   "metadata": {},
   "source": [
    "### Images are image layers\n",
    "\n",
    "Remember that when we talk of a container image it is really a collection of image layers.\n",
    "\n",
    "The docker info command provides information about the docker engine, see below."
   ]
  },
  {
   "cell_type": "code",
   "execution_count": 2,
   "metadata": {
    "collapsed": false
   },
   "outputs": [
    {
     "name": "stdout",
     "output_type": "stream",
     "text": [
      "Containers: 7\r\n",
      " Running: 0\r\n",
      " Paused: 0\r\n",
      " Stopped: 7\r\n",
      "Images: 100\r\n",
      "Server Version: 1.10.0-rc2\r\n",
      "Storage Driver: devicemapper\r\n",
      " Pool Name: docker-253:1-74951993-pool\r\n",
      " Pool Blocksize: 65.54 kB\r\n",
      " Base Device Size: 10.74 GB\r\n",
      " Backing Filesystem: ext4\r\n",
      " Data file: /dev/loop0\r\n",
      " Metadata file: /dev/loop1\r\n",
      " Data Space Used: 5.237 GB\r\n",
      " Data Space Total: 107.4 GB\r\n",
      " Data Space Available: 31.46 GB\r\n",
      " Metadata Space Used: 7.438 MB\r\n",
      " Metadata Space Total: 2.147 GB\r\n",
      " Metadata Space Available: 2.14 GB\r\n",
      " Udev Sync Supported: false\r\n",
      " Deferred Removal Enabled: false\r\n",
      " Deferred Deletion Enabled: false\r\n",
      " Deferred Deleted Device Count: 0\r\n",
      " Data loop file: /var/lib/docker/devicemapper/devicemapper/data\r\n",
      " WARNING: Usage of loopback devices is strongly discouraged for production use. Either use `--storage-opt dm.thinpooldev` or use `--storage-opt dm.no_warn_on_loop_devices=true` to suppress this warning.\r\n",
      " Metadata loop file: /var/lib/docker/devicemapper/devicemapper/metadata\r\n",
      " Library Version: 1.02.82 (2013-10-04)\r\n",
      "Execution Driver: native-0.2\r\n",
      "Logging Driver: json-file\r\n",
      "Plugins: \r\n",
      " Volume: local\r\n",
      " Network: bridge null host\r\n",
      "Kernel Version: 3.10.0-229.4.2.el7.x86_64\r\n",
      "Operating System: Red Hat Enterprise Linux\r\n",
      "OSType: linux\r\n",
      "Architecture: x86_64\r\n",
      "CPUs: 4\r\n",
      "Total Memory: 7.796 GiB\r\n",
      "Name: containerlab39.oracle.epc.ext.hpe.com\r\n",
      "ID: TCV5:XWTB:YYLQ:46DI:5P5H:TVKP:FAAF:YPDE:JAZR:IG3O:4Y5H:OHWA\r\n"
     ]
    }
   ],
   "source": [
    "docker info"
   ]
  },
  {
   "cell_type": "markdown",
   "metadata": {},
   "source": [
    "But if we look at the number of containers and images, the number of images it is not the same as provided above.\n",
    "Why do you think that is?\n",
    "\n",
    "First let's list the number of running and number of stopped containers\n",
    "\n",
    "**NOTE: the value on your system will be different**"
   ]
  },
  {
   "cell_type": "code",
   "execution_count": 3,
   "metadata": {
    "collapsed": false
   },
   "outputs": [
    {
     "name": "stdout",
     "output_type": "stream",
     "text": [
      "0\r\n"
     ]
    }
   ],
   "source": [
    "docker ps | tail -n +2 | wc -l # Number of running containers ('tail -n +2' excludes the header line)"
   ]
  },
  {
   "cell_type": "code",
   "execution_count": 4,
   "metadata": {
    "collapsed": false
   },
   "outputs": [
    {
     "name": "stdout",
     "output_type": "stream",
     "text": [
      "7\r\n"
     ]
    }
   ],
   "source": [
    "docker ps -a | tail -n +2 | wc -l # Number of stopped/running containers ('tail -n +2' excludes the header line)"
   ]
  },
  {
   "cell_type": "markdown",
   "metadata": {},
   "source": [
    "We can see that the number of containers reported by docker info correctly reports the number of total containers, running or not\n",
    "\n",
    "But listing images gives a different value from the 'docker info' value"
   ]
  },
  {
   "cell_type": "code",
   "execution_count": 5,
   "metadata": {
    "collapsed": false
   },
   "outputs": [
    {
     "name": "stdout",
     "output_type": "stream",
     "text": [
      "12\r\n"
     ]
    }
   ],
   "source": [
    "docker images | tail -n +2 | wc -l"
   ]
  },
  {
   "cell_type": "markdown",
   "metadata": {},
   "source": [
    "That is because there are many intermediate image layers which are not normally listed.\n",
    "But we can list those layers using the '-a' option and now we see a number close to the value from 'docker info'.\n",
    "\n",
    "(We will see later how the 'docker history' command allows us to see how the layers were created)."
   ]
  },
  {
   "cell_type": "code",
   "execution_count": 6,
   "metadata": {
    "collapsed": false
   },
   "outputs": [
    {
     "name": "stdout",
     "output_type": "stream",
     "text": [
      "101\r\n"
     ]
    }
   ],
   "source": [
    "docker images -a | tail -n +2 | wc -l  # The number of image layers+1 (inc. header line)"
   ]
  },
  {
   "cell_type": "markdown",
   "metadata": {},
   "source": [
    "Images can include 1 static binary file or more and can even include a whole distribution.\n",
    "Launching a container launches a single process within that container - which may in turn span other child processes.\n",
    "\n",
    "Let us look at an extremely small image to have an idea just how small an execitable image can be.\n",
    "Docker provide an official 'hello-world' image which simply echoes some output to the console.\n",
    "\n",
    "Let's run that image to see and then investigate the image.\n",
    "First let's search for the image; we see that the first image is 'hello-world' which is an official build"
   ]
  },
  {
   "cell_type": "code",
   "execution_count": 7,
   "metadata": {
    "collapsed": false
   },
   "outputs": [
    {
     "name": "stdout",
     "output_type": "stream",
     "text": [
      "NAME                                     DESCRIPTION                                     STARS     OFFICIAL   AUTOMATED\r\n",
      "hello-world                              Hello World! (an example of minimal Docker...   47        [OK]       \r\n",
      "tutum/hello-world                        Image to test docker deployments. Has Apac...   19                   [OK]\r\n",
      "marcells/aspnet-hello-world              ASP.NET vNext - Hello World                     2                    [OK]\r\n",
      "sbasyal/java-hello-world                                                                 1                    [OK]\r\n",
      "carinamarina/hello-world-app             This is a sample Python web application, r...   1                    [OK]\r\n",
      "vegasbrianc/docker-hello-world                                                           1                    [OK]\r\n",
      "carinamarina/hello-world-web             A Python web app, running on port 5000, wh...   1                    [OK]\r\n",
      "wodge/docker-hello-world                 Hello World test for auto update to Docker...   0                    [OK]\r\n",
      "bencampbell/hello-world                  First automated build.                          0                    [OK]\r\n",
      "crccheck/hello-world                     Hello World web server in under 2.5 MB          0                    [OK]\r\n",
      "mikelh/hello-world                       simplified hello world as dummy start for ...   0                    [OK]\r\n",
      "poojathote/hello-world                   this is 3rd POC                                 0                    [OK]\r\n",
      "n8io/hello-world                         A simple hello world node.js app to test d...   0                    [OK]\r\n",
      "asakaguchi/docker-nodejs-hello-world     Hello World for Docker                          0                    [OK]\r\n",
      "ileontyev81/docker-hello-world           hello world test build                          0                    [OK]\r\n",
      "kevto/play2-docker-hello-world           Hello World application in Play2 to test D...   0                    [OK]\r\n",
      "alexwelch/hello-world                                                                    0                    [OK]\r\n",
      "vasia/docker-hello-world                 rhrthrth                                        0                    [OK]\r\n",
      "samxzxy/docker-hello-world               Automated build test docker-hello-world         0                    [OK]\r\n",
      "asakaguchi/magellan-nodejs-hello-world   Hello World for MAGELLAN                        0                    [OK]\r\n",
      "nirmata/hello-world                                                                      0                    [OK]\r\n",
      "cpro/http-hello-world                    Hello world                                     0                    [OK]\r\n",
      "rcarun/hello-world                                                                       0                    [OK]\r\n",
      "chalitac/hello-world                     Just Hello World                                0                    [OK]\r\n",
      "wowgroup/hello-world                     Minimal web app for testing purposes            0                    [OK]\r\n"
     ]
    }
   ],
   "source": [
    "docker search hello-world"
   ]
  },
  {
   "cell_type": "markdown",
   "metadata": {},
   "source": [
    "Let's now run that image"
   ]
  },
  {
   "cell_type": "code",
   "execution_count": 8,
   "metadata": {
    "collapsed": false
   },
   "outputs": [
    {
     "name": "stdout",
     "output_type": "stream",
     "text": [
      "Unable to find image 'hello-world:latest' locally\r\n",
      "latest: Pulling from library/hello-world\r\n",
      "\u001b[0B\r\n",
      "\u001b[0A\u001b[2K\r",
      "03f4658f8b78: Pulling fs layer \r",
      "\u001b[0B\r\n",
      "\u001b[0A\u001b[2K\r",
      "a3ed95caeb02: Pulling fs layer \r",
      "\u001b[0B\u001b[1A\u001b[2K\r",
      "a3ed95caeb02: Downloading     32 B/32 B\r",
      "\u001b[1B\u001b[1A\u001b[2K\r",
      "a3ed95caeb02: Verifying Checksum \r",
      "\u001b[1B\u001b[1A\u001b[2K\r",
      "a3ed95caeb02: Download complete \r",
      "\u001b[1B\u001b[2A\u001b[2K\r",
      "03f4658f8b78: Downloading    601 B/601 B\r",
      "\u001b[2B\u001b[2A\u001b[2K\r",
      "03f4658f8b78: Download complete \r",
      "\u001b[2B\u001b[2A\u001b[2K\r",
      "03f4658f8b78: Extracting    601 B/601 B\r",
      "\u001b[2B\u001b[2A\u001b[2K\r",
      "03f4658f8b78: Extracting    601 B/601 B\r",
      "\u001b[2B\u001b[2A\u001b[2K\r",
      "03f4658f8b78: Pull complete \r",
      "\u001b[2B\u001b[2A\u001b[2K\r",
      "03f4658f8b78: Pull complete \r",
      "\u001b[2B\u001b[1A\u001b[2K\r",
      "a3ed95caeb02: Extracting     32 B/32 B\r",
      "\u001b[1B\u001b[1A\u001b[2K\r",
      "a3ed95caeb02: Extracting     32 B/32 B\r",
      "\u001b[1B\u001b[1A\u001b[2K\r",
      "a3ed95caeb02: Pull complete \r",
      "\u001b[1B\u001b[1A\u001b[2K\r",
      "a3ed95caeb02: Pull complete \r",
      "\u001b[1BDigest: sha256:8be990ef2aeb16dbcb9271ddfe2610fa6658d13f6dfb8bc72074cc1ca36966a7\r\n",
      "Status: Downloaded newer image for hello-world:latest\r\n",
      "\r\n",
      "Hello from Docker.\r\n",
      "This message shows that your installation appears to be working correctly.\r\n",
      "\r\n",
      "To generate this message, Docker took the following steps:\r\n",
      " 1. The Docker client contacted the Docker daemon.\r\n",
      " 2. The Docker daemon pulled the \"hello-world\" image from the Docker Hub.\r\n",
      " 3. The Docker daemon created a new container from that image which runs the\r\n",
      "    executable that produces the output you are currently reading.\r\n",
      " 4. The Docker daemon streamed that output to the Docker client, which sent it\r\n",
      "    to your terminal.\r\n",
      "\r\n",
      "To try something more ambitious, you can run an Ubuntu container with:\r\n",
      " $ docker run -it ubuntu bash\r\n",
      "\r\n",
      "Share images, automate workflows, and more with a free Docker Hub account:\r\n",
      " https://hub.docker.com\r\n",
      "\r\n",
      "For more examples and ideas, visit:\r\n",
      " https://docs.docker.com/userguide/\r\n",
      "\r\n"
     ]
    }
   ],
   "source": [
    "docker run hello-world\n",
    "\n",
    "# Note how we see the pulling of the image if not already available locally:"
   ]
  },
  {
   "cell_type": "markdown",
   "metadata": {},
   "source": [
    "If it took a while to run, this was due to the time needed to download the image before running it - see above.\n",
    "\n",
    "Try the command a second time to see how it runs instantaneously as there is no need to download the image which already exists locally on the 'docker engine'."
   ]
  },
  {
   "cell_type": "code",
   "execution_count": 9,
   "metadata": {
    "collapsed": false
   },
   "outputs": [
    {
     "name": "stdout",
     "output_type": "stream",
     "text": [
      "\r\n",
      "Hello from Docker.\r\n",
      "This message shows that your installation appears to be working correctly.\r\n",
      "\r\n",
      "To generate this message, Docker took the following steps:\r\n",
      " 1. The Docker client contacted the Docker daemon.\r\n",
      " 2. The Docker daemon pulled the \"hello-world\" image from the Docker Hub.\r\n",
      " 3. The Docker daemon created a new container from that image which runs the\r\n",
      "    executable that produces the output you are currently reading.\r\n",
      " 4. The Docker daemon streamed that output to the Docker client, which sent it\r\n",
      "    to your terminal.\r\n",
      "\r\n",
      "To try something more ambitious, you can run an Ubuntu container with:\r\n",
      " $ docker run -it ubuntu bash\r\n",
      "\r\n",
      "Share images, automate workflows, and more with a free Docker Hub account:\r\n",
      " https://hub.docker.com\r\n",
      "\r\n",
      "For more examples and ideas, visit:\r\n",
      " https://docs.docker.com/userguide/\r\n",
      "\r\n"
     ]
    }
   ],
   "source": [
    "docker run hello-world\n",
    "\n",
    "# The second time there is no need to repull the image:"
   ]
  },
  {
   "cell_type": "markdown",
   "metadata": {},
   "source": [
    "Let us inspect the image.  We see that the file is only 960 bytes large, it must be machine code to print out the text.  So we see that an image can be really very small"
   ]
  },
  {
   "cell_type": "code",
   "execution_count": 10,
   "metadata": {
    "collapsed": false
   },
   "outputs": [
    {
     "name": "stdout",
     "output_type": "stream",
     "text": [
      "REPOSITORY          TAG                 IMAGE ID            CREATED             SIZE\r\n",
      "hello-world         latest              690ed74de00f        3 months ago        960 B\r\n"
     ]
    }
   ],
   "source": [
    "docker images hello-world"
   ]
  },
  {
   "cell_type": "markdown",
   "metadata": {},
   "source": [
    "We can also inspect the image with the history command to see how it was constructed.\n",
    "\n",
    "Note that history shows the image layers in reverse order, latest first.\n",
    "\n",
    "From the below command we can see that the image was created from only 2 image layers.\n",
    "\n",
    "The image was built simply by copying in a binary executable and then specifying the default command to invoke when the image is run."
   ]
  },
  {
   "cell_type": "code",
   "execution_count": 11,
   "metadata": {
    "collapsed": false
   },
   "outputs": [
    {
     "name": "stdout",
     "output_type": "stream",
     "text": [
      "IMAGE               CREATED             CREATED BY                                      SIZE                COMMENT\r\n",
      "690ed74de00f        3 months ago        /bin/sh -c #(nop) CMD [\"/hello\"]                0 B                 \r\n",
      "<missing>           3 months ago        /bin/sh -c #(nop) COPY file:1ad52e3eaf4327c8f   960 B               \r\n"
     ]
    }
   ],
   "source": [
    "docker history hello-world"
   ]
  },
  {
   "cell_type": "markdown",
   "metadata": {},
   "source": [
    "<a name=\"builds\" />\n",
    "## Basic Docker Builds\n",
    "[TOP](#TOP)"
   ]
  },
  {
   "cell_type": "markdown",
   "metadata": {},
   "source": []
  },
  {
   "cell_type": "markdown",
   "metadata": {},
   "source": []
  },
  {
   "cell_type": "markdown",
   "metadata": {},
   "source": [
    "<a name=\"small-images\" />\n",
    "## Creating small images\n",
    "[TOP](#TOP)\n",
    "\n",
    "<a name=\"small-c\" />\n",
    "## Creating a small C Docker image\n",
    "[TOP](#TOP)\n",
    "\n",
    "In this example we show how we can create a Docker image from a statically-linked binary.\n",
    "\n",
    "<font size=+1 color=\"#77f\">\n",
    "<b>The goal of this step is to show that we do not need an Operating System image for a Docker container.</b>\n",
    "</font>\n",
    "\n",
    "All we need is a self-contained binary - i.e. statically linked binary.\n",
    "\n",
    "Of course a dynamically linked binary could also be used, but in this case it's more complicated as you would have to manually add all it's dependent libraries.  Let's let gcc to do that work for us!\n",
    "\n",
    "This section comprises 2 things\n",
    "- A Dockerfile to build our image from a static binary\n",
    "  Note that it starts with \"FROM scratch\".\n",
    "  Scratch is a special 'empty' image\n",
    "- helloFromDocker.c\n",
    "  "
   ]
  },
  {
   "cell_type": "code",
   "execution_count": 12,
   "metadata": {
    "collapsed": false
   },
   "outputs": [
    {
     "name": "stdout",
     "output_type": "stream",
     "text": [
      "\r\n",
      "FROM scratch\r\n",
      "MAINTAINER \"Docker Build Lab\" <dockerlab@mjbright.net>\r\n",
      "\r\n",
      "ADD ./helloWorld.exe /helloWorld.exe\r\n",
      "CMD [\"/helloWorld.exe\"]\r\n",
      "\r\n"
     ]
    }
   ],
   "source": [
    "cd ~/src/createTinyC/\n",
    "cat Dockerfile"
   ]
  },
  {
   "cell_type": "markdown",
   "metadata": {},
   "source": [
    "So first let's build our static binary\n",
    "\n"
   ]
  },
  {
   "cell_type": "code",
   "execution_count": 14,
   "metadata": {
    "collapsed": false
   },
   "outputs": [
    {
     "name": "stdout",
     "output_type": "stream",
     "text": [
      "Loaded plugins: langpacks, product-id, subscription-manager\r\n",
      "This system is not registered to Red Hat Subscription Management. You can use subscription-manager to register.\r\n",
      "Resolving Dependencies\r\n",
      "--> Running transaction check\r\n",
      "---> Package glibc-static.x86_64 0:2.17-78.el7 will be installed\r\n",
      "--> Finished Dependency Resolution\r\n",
      "\r\n",
      "Dependencies Resolved\r\n",
      "\r\n",
      "================================================================================\r\n",
      " Package            Arch         Version             Repository            Size\r\n",
      "================================================================================\r\n",
      "Installing:\r\n",
      " glibc-static       x86_64       2.17-78.el7         rhel7-optional       1.5 M\r\n",
      "\r\n",
      "Transaction Summary\r\n",
      "================================================================================\r\n",
      "Install  1 Package\r\n",
      "\r\n",
      "Total download size: 1.5 M\r\n",
      "Installed size: 7.5 M\r\n",
      "Downloading packages:\r\n",
      "\r",
      "glibc-static-2.17-78.el7.x86_64.rpm                        | 1.5 MB   00:00     \r\n",
      "Running transaction check\r\n",
      "Running transaction test\r\n",
      "Transaction test succeeded\r\n",
      "Running transaction\r\n",
      "\r",
      "  Installing : glibc-static-2.17-78.el7.x86 [                             ] 1/1\r",
      "  Installing : glibc-static-2.17-78.el7.x86 [#                            ] 1/1\r",
      "  Installing : glibc-static-2.17-78.el7.x86 [##                           ] 1/1\r",
      "  Installing : glibc-static-2.17-78.el7.x86 [###                          ] 1/1\r",
      "  Installing : glibc-static-2.17-78.el7.x86 [####                         ] 1/1\r",
      "  Installing : glibc-static-2.17-78.el7.x86 [#####                        ] 1/1\r",
      "  Installing : glibc-static-2.17-78.el7.x86 [######                       ] 1/1\r",
      "  Installing : glibc-static-2.17-78.el7.x86 [#######                      ] 1/1\r",
      "  Installing : glibc-static-2.17-78.el7.x86 [########                     ] 1/1\r",
      "  Installing : glibc-static-2.17-78.el7.x86 [#########                    ] 1/1\r",
      "  Installing : glibc-static-2.17-78.el7.x86 [##########                   ] 1/1\r",
      "  Installing : glibc-static-2.17-78.el7.x86 [###########                  ] 1/1\r",
      "  Installing : glibc-static-2.17-78.el7.x86 [############                 ] 1/1\r",
      "  Installing : glibc-static-2.17-78.el7.x86 [#############                ] 1/1\r",
      "  Installing : glibc-static-2.17-78.el7.x86 [##############               ] 1/1\r",
      "  Installing : glibc-static-2.17-78.el7.x86 [###############              ] 1/1\r",
      "  Installing : glibc-static-2.17-78.el7.x86 [################             ] 1/1\r",
      "  Installing : glibc-static-2.17-78.el7.x86 [#################            ] 1/1\r",
      "  Installing : glibc-static-2.17-78.el7.x86 [##################           ] 1/1\r",
      "  Installing : glibc-static-2.17-78.el7.x86 [###################          ] 1/1\r",
      "  Installing : glibc-static-2.17-78.el7.x86 [####################         ] 1/1\r",
      "  Installing : glibc-static-2.17-78.el7.x86 [#####################        ] 1/1\r",
      "  Installing : glibc-static-2.17-78.el7.x86 [######################       ] 1/1\r",
      "  Installing : glibc-static-2.17-78.el7.x86 [#######################      ] 1/1\r",
      "  Installing : glibc-static-2.17-78.el7.x86 [########################     ] 1/1\r",
      "  Installing : glibc-static-2.17-78.el7.x86 [#########################    ] 1/1\r",
      "  Installing : glibc-static-2.17-78.el7.x86 [##########################   ] 1/1\r",
      "  Installing : glibc-static-2.17-78.el7.x86 [###########################  ] 1/1\r",
      "  Installing : glibc-static-2.17-78.el7.x86 [############################ ] 1/1\r",
      "  Installing : glibc-static-2.17-78.el7.x86_64                              1/1 \r\n",
      "\r",
      "  Verifying  : glibc-static-2.17-78.el7.x86_64                              1/1 \r\n",
      "\r\n",
      "Installed:\r\n",
      "  glibc-static.x86_64 0:2.17-78.el7                                             \r\n",
      "\r\n",
      "Complete!\r\n",
      "-rwxr-xr-x 1 root root 829K Feb  3 10:41 helloWorld.exe\r\n"
     ]
    }
   ],
   "source": [
    "# For RHEL/Fedora/Centos only:\n",
    "# First we must install *glibc-static*\n",
    "yum install -y glibc-static\n",
    "\n",
    "gcc -static helloWorld.c -o helloWorld.exe\n",
    "\n",
    "ls -alh helloWorld.exe"
   ]
  },
  {
   "cell_type": "markdown",
   "metadata": {},
   "source": [
    "So we see that this created a binary file of approximately 857kby.\n",
    "\n",
    "Now let's build our Docker image containing this binary"
   ]
  },
  {
   "cell_type": "code",
   "execution_count": 15,
   "metadata": {
    "collapsed": false
   },
   "outputs": [
    {
     "name": "stdout",
     "output_type": "stream",
     "text": [
      "Sending build context to Docker daemon 557.1 kB\r",
      "Sending build context to Docker daemon   853 kB\r",
      "\r",
      "\r\n",
      "Step 1 : FROM scratch\r\n",
      " ---> \r\n",
      "Step 2 : MAINTAINER \"Docker Build Lab\" <dockerlab@mjbright.net>\r\n",
      " ---> Running in 3652e032cdea\r\n",
      " ---> 12b5b8d1cb7b\r\n",
      "Removing intermediate container 3652e032cdea\r\n",
      "Step 3 : ADD ./helloWorld.exe /helloWorld.exe\r\n",
      " ---> 898d33bcf4f2\r\n",
      "Removing intermediate container b0f2f7108aed\r\n",
      "Step 4 : CMD /helloWorld.exe\r\n",
      " ---> Running in ed0d8dc720f7\r\n",
      " ---> cc40573ce67a\r\n",
      "Removing intermediate container ed0d8dc720f7\r\n",
      "Successfully built cc40573ce67a\r\n"
     ]
    }
   ],
   "source": [
    "docker build -t lab/c_prog ."
   ]
  },
  {
   "cell_type": "markdown",
   "metadata": {},
   "source": [
    "If we now look at the generated Docker image (below) we see an image of about 877kby.\n",
    "\n",
    "So whilst this is larger than the 1kby hello-world image (no doubt written in assembler) it is still a very small Docker image which is only 20kbytes larger than the original binary file."
   ]
  },
  {
   "cell_type": "code",
   "execution_count": 16,
   "metadata": {
    "collapsed": false
   },
   "outputs": [
    {
     "name": "stdout",
     "output_type": "stream",
     "text": [
      "REPOSITORY          TAG                 IMAGE ID            CREATED             SIZE\r\n",
      "lab/c_prog          latest              cc40573ce67a        6 seconds ago       848 kB\r\n"
     ]
    }
   ],
   "source": [
    "docker images lab/c_prog"
   ]
  },
  {
   "cell_type": "markdown",
   "metadata": {},
   "source": [
    "And now let's run that image"
   ]
  },
  {
   "cell_type": "code",
   "execution_count": 17,
   "metadata": {
    "collapsed": false
   },
   "outputs": [
    {
     "name": "stdout",
     "output_type": "stream",
     "text": [
      "Hello World!!\r\n"
     ]
    }
   ],
   "source": [
    "docker run lab/c_prog"
   ]
  },
  {
   "cell_type": "code",
   "execution_count": 18,
   "metadata": {
    "collapsed": false
   },
   "outputs": [
    {
     "name": "stdout",
     "output_type": "stream",
     "text": [
      "IMAGE               CREATED             CREATED BY                                      SIZE                COMMENT\r\n",
      "cc40573ce67a        13 seconds ago      /bin/sh -c #(nop) CMD [\"/helloWorld.exe\"]       0 B                 \r\n",
      "898d33bcf4f2        14 seconds ago      /bin/sh -c #(nop) ADD file:39f3f1a38fced947e7   848 kB              \r\n",
      "12b5b8d1cb7b        16 seconds ago      /bin/sh -c #(nop) MAINTAINER \"Docker Build La   0 B                 \r\n"
     ]
    }
   ],
   "source": [
    "docker history lab/c_prog"
   ]
  },
  {
   "cell_type": "markdown",
   "metadata": {},
   "source": [
    "<a name=\"small-go\" />\n",
    "## Creating a small Go Docker image\n",
    "[TOP](#TOP)\n",
    "\n",
    "That's fine, but isn't Go taking over the world as a systems language?\n",
    "Docker, Kubernetes, LXD, Rocket, ... many new tools are being written in Go.\n",
    "\n",
    "Let's see how we can do the same exercise but building a Go statically-linked binary.\n",
    "\n",
    "<font size=+1 color=\"#77f\">\n",
    "<b>The goal of this step is as the previous step (building an image from a single statically-linked binary) but using Go, but also to demonstrate how we can use a Docker image containing a Go compiler, rather than explicitly installing a compiler.</b>\n",
    "</font>\n",
    "\n",
    "We will do this without directly 'installing a Go compiler'\n",
    "\n",
    "\n",
    "\n",
    "  "
   ]
  },
  {
   "cell_type": "code",
   "execution_count": 19,
   "metadata": {
    "collapsed": false
   },
   "outputs": [
    {
     "name": "stdout",
     "output_type": "stream",
     "text": [
      "total 8\r\n",
      "drwxr-xr-x 3 root root  48 Feb  3 09:41 .\r\n",
      "drwxr-xr-x 9 root root 138 Feb  3 09:41 ..\r\n",
      "-rw-r--r-- 1 root root 155 Feb  3 09:41 build.sh\r\n",
      "-rw-r--r-- 1 root root 105 Feb  3 09:41 Dockerfile\r\n",
      "drwxr-xr-x 4 root root  34 Feb  3 09:41 src\r\n"
     ]
    }
   ],
   "source": [
    "cd ~/src/createTinyGo\n",
    "ls -al"
   ]
  },
  {
   "cell_type": "code",
   "execution_count": 20,
   "metadata": {
    "collapsed": false
   },
   "outputs": [
    {
     "name": "stdout",
     "output_type": "stream",
     "text": [
      "Unable to find image 'golang:latest' locally\r\n",
      "latest: Pulling from library/golang\r\n",
      "\u001b[0B\r\n",
      "\u001b[0A\u001b[2K\r",
      "03e1855d4f31: Already exists \r",
      "\u001b[0B\r\n",
      "\u001b[0A\u001b[2K\r",
      "a3ed95caeb02: Already exists \r",
      "\u001b[0B\r\n",
      "\u001b[0A\u001b[2K\r",
      "9269ba3950bb: Already exists \r",
      "\u001b[0B\r\n",
      "\u001b[0A\u001b[2K\r",
      "6ecee6444751: Already exists \r",
      "\u001b[0B\r\n",
      "\u001b[0A\u001b[2K\r",
      "2e4b04ba35ce: Pulling fs layer \r",
      "\u001b[0B\u001b[4A\u001b[2K\r",
      "a3ed95caeb02: Pulling fs layer \r",
      "\u001b[4B\r\n",
      "\u001b[0A\u001b[2K\r",
      "8ccc76a74787: Pulling fs layer \r",
      "\u001b[0B\r\n",
      "\u001b[0A\u001b[2K\r",
      "70fd525fbd3f: Pulling fs layer \r",
      "\u001b[0B\r\n",
      "\u001b[0A\u001b[2K\r",
      "61b488f1b063: Pulling fs layer \r",
      "\u001b[0B\u001b[2A\u001b[2K\r",
      "70fd525fbd3f: Waiting \r",
      "\u001b[2B\u001b[1A\u001b[2K\r",
      "61b488f1b063: Waiting \r",
      "\u001b[1B\u001b[3A\u001b[2K\r",
      "8ccc76a74787: Waiting \r",
      "\u001b[3B\u001b[7A\u001b[2K\r",
      "a3ed95caeb02: Downloading     32 B/32 B\r",
      "\u001b[7B\u001b[7A\u001b[2K\r",
      "a3ed95caeb02: Verifying Checksum \r",
      "\u001b[7B\u001b[7A\u001b[2K\r",
      "a3ed95caeb02: Download complete \r",
      "\u001b[7B\u001b[2A\u001b[2K\r",
      "70fd525fbd3f: Downloading    123 B/123 B\r",
      "\u001b[2B\u001b[2A\u001b[2K\r",
      "70fd525fbd3f: Verifying Checksum \r",
      "\u001b[2B\u001b[2A\u001b[2K\r",
      "70fd525fbd3f: Download complete \r",
      "\u001b[2B\u001b[3A\u001b[2K\r",
      "8ccc76a74787: Downloading 539.8 kB/80.15 MB\r",
      "\u001b[3B\u001b[4A\u001b[2K\r",
      "2e4b04ba35ce: Downloading 539.8 kB/56.89 MB\r",
      "\u001b[4B\u001b[3A\u001b[2K\r",
      "8ccc76a74787: Downloading  1.08 MB/80.15 MB\r",
      "\u001b[3B\u001b[4A\u001b[2K\r",
      "2e4b04ba35ce: Downloading  1.08 MB/56.89 MB\r",
      "\u001b[4B\u001b[4A\u001b[2K\r",
      "2e4b04ba35ce: Downloading 1.621 MB/56.89 MB\r",
      "\u001b[4B\u001b[3A\u001b[2K\r",
      "8ccc76a74787: Downloading 1.621 MB/80.15 MB\r",
      "\u001b[3B\u001b[4A\u001b[2K\r",
      "2e4b04ba35ce: Downloading 2.162 MB/56.89 MB\r",
      "\u001b[4B\u001b[3A\u001b[2K\r",
      "8ccc76a74787: Downloading 2.162 MB/80.15 MB\r",
      "\u001b[3B\u001b[4A\u001b[2K\r",
      "2e4b04ba35ce: Downloading 2.702 MB/56.89 MB\r",
      "\u001b[4B\u001b[4A\u001b[2K\r",
      "2e4b04ba35ce: Downloading 3.243 MB/56.89 MB\r",
      "\u001b[4B\u001b[3A\u001b[2K\r",
      "8ccc76a74787: Downloading 2.702 MB/80.15 MB\r",
      "\u001b[3B\u001b[4A\u001b[2K\r",
      "2e4b04ba35ce: Downloading 3.784 MB/56.89 MB\r",
      "\u001b[4B\u001b[4A\u001b[2K\r",
      "2e4b04ba35ce: Downloading 4.324 MB/56.89 MB\r",
      "\u001b[4B\u001b[4A\u001b[2K\r",
      "2e4b04ba35ce: Downloading 4.865 MB/56.89 MB\r",
      "\u001b[4B\u001b[3A\u001b[2K\r",
      "8ccc76a74787: Downloading 3.243 MB/80.15 MB\r",
      "\u001b[3B\u001b[4A\u001b[2K\r",
      "2e4b04ba35ce: Downloading 5.406 MB/56.89 MB\r",
      "\u001b[4B\u001b[1A\u001b[2K\r",
      "61b488f1b063: Downloading 1.353 kB/1.353 kB\r",
      "\u001b[1B\u001b[1A\u001b[2K\r",
      "61b488f1b063: Verifying Checksum \r",
      "\u001b[1B\u001b[1A\u001b[2K\r",
      "61b488f1b063: Download complete \r",
      "\u001b[1B\u001b[4A\u001b[2K\r",
      "2e4b04ba35ce: Downloading 5.946 MB/56.89 MB\r",
      "\u001b[4B\u001b[4A\u001b[2K\r",
      "2e4b04ba35ce: Downloading 6.487 MB/56.89 MB\r",
      "\u001b[4B\u001b[3A\u001b[2K\r",
      "8ccc76a74787: Downloading 3.784 MB/80.15 MB\r",
      "\u001b[3B\u001b[4A\u001b[2K\r",
      "2e4b04ba35ce: Downloading 7.028 MB/56.89 MB\r",
      "\u001b[4B\u001b[4A\u001b[2K\r",
      "2e4b04ba35ce: Downloading 7.568 MB/56.89 MB\r",
      "\u001b[4B\u001b[4A\u001b[2K\r",
      "2e4b04ba35ce: Downloading 8.109 MB/56.89 MB\r",
      "\u001b[4B\u001b[3A\u001b[2K\r",
      "8ccc76a74787: Downloading 4.324 MB/80.15 MB\r",
      "\u001b[3B\u001b[4A\u001b[2K\r",
      "2e4b04ba35ce: Downloading  8.65 MB/56.89 MB\r",
      "\u001b[4B\u001b[4A\u001b[2K\r",
      "2e4b04ba35ce: Downloading 9.191 MB/56.89 MB\r",
      "\u001b[4B\u001b[4A\u001b[2K\r",
      "2e4b04ba35ce: Downloading 9.731 MB/56.89 MB\r",
      "\u001b[4B\u001b[3A\u001b[2K\r",
      "8ccc76a74787: Downloading 4.865 MB/80.15 MB\r",
      "\u001b[3B\u001b[4A\u001b[2K\r",
      "2e4b04ba35ce: Downloading 10.27 MB/56.89 MB\r",
      "\u001b[4B\u001b[4A\u001b[2K\r",
      "2e4b04ba35ce: Downloading 10.81 MB/56.89 MB\r",
      "\u001b[4B\u001b[4A\u001b[2K\r",
      "2e4b04ba35ce: Downloading 11.35 MB/56.89 MB\r",
      "\u001b[4B\u001b[3A\u001b[2K\r",
      "8ccc76a74787: Downloading 5.406 MB/80.15 MB\r",
      "\u001b[3B\u001b[3A\u001b[2K\r",
      "8ccc76a74787: Downloading 5.946 MB/80.15 MB\r",
      "\u001b[3B\u001b[4A\u001b[2K\r",
      "2e4b04ba35ce: Downloading 11.89 MB/56.89 MB\r",
      "\u001b[4B\u001b[4A\u001b[2K\r",
      "2e4b04ba35ce: Downloading 12.43 MB/56.89 MB\r",
      "\u001b[4B\u001b[4A\u001b[2K\r",
      "2e4b04ba35ce: Downloading 12.98 MB/56.89 MB\r",
      "\u001b[4B\u001b[3A\u001b[2K\r",
      "8ccc76a74787: Downloading 6.487 MB/80.15 MB\r",
      "\u001b[3B\u001b[4A\u001b[2K\r",
      "2e4b04ba35ce: Downloading 13.52 MB/56.89 MB\r",
      "\u001b[4B\u001b[4A\u001b[2K\r",
      "2e4b04ba35ce: Downloading 14.06 MB/56.89 MB\r",
      "\u001b[4B\u001b[3A\u001b[2K\r",
      "8ccc76a74787: Downloading 7.028 MB/80.15 MB\r",
      "\u001b[3B\u001b[4A\u001b[2K\r",
      "2e4b04ba35ce: Downloading  14.6 MB/56.89 MB\r",
      "\u001b[4B\u001b[4A\u001b[2K\r",
      "2e4b04ba35ce: Downloading 15.14 MB/56.89 MB\r",
      "\u001b[4B\u001b[4A\u001b[2K\r",
      "2e4b04ba35ce: Downloading 15.68 MB/56.89 MB\r",
      "\u001b[4B\u001b[3A\u001b[2K\r",
      "8ccc76a74787: Downloading 7.569 MB/80.15 MB\r",
      "\u001b[3B\u001b[4A\u001b[2K\r",
      "2e4b04ba35ce: Downloading 16.22 MB/56.89 MB\r",
      "\u001b[4B\u001b[4A\u001b[2K\r",
      "2e4b04ba35ce: Downloading 16.76 MB/56.89 MB\r",
      "\u001b[4B\u001b[3A\u001b[2K\r",
      "8ccc76a74787: Downloading 8.109 MB/80.15 MB\r",
      "\u001b[3B\u001b[4A\u001b[2K\r",
      "2e4b04ba35ce: Downloading  17.3 MB/56.89 MB\r",
      "\u001b[4B\u001b[3A\u001b[2K\r",
      "8ccc76a74787: Downloading  8.65 MB/80.15 MB\r",
      "\u001b[3B\u001b[4A\u001b[2K\r",
      "2e4b04ba35ce: Downloading 17.84 MB/56.89 MB\r",
      "\u001b[4B\u001b[4A\u001b[2K\r",
      "2e4b04ba35ce: Downloading 18.38 MB/56.89 MB\r",
      "\u001b[4B\u001b[4A\u001b[2K\r",
      "2e4b04ba35ce: Downloading 18.92 MB/56.89 MB\r",
      "\u001b[4B\u001b[3A\u001b[2K\r",
      "8ccc76a74787: Downloading 9.191 MB/80.15 MB\r",
      "\u001b[3B\u001b[4A\u001b[2K\r",
      "2e4b04ba35ce: Downloading 19.46 MB/56.89 MB\r",
      "\u001b[4B\u001b[4A\u001b[2K\r",
      "2e4b04ba35ce: Downloading    20 MB/56.89 MB\r",
      "\u001b[4B\u001b[4A\u001b[2K\r",
      "2e4b04ba35ce: Downloading 20.54 MB/56.89 MB\r",
      "\u001b[4B\u001b[3A\u001b[2K\r",
      "8ccc76a74787: Downloading 9.731 MB/80.15 MB\r",
      "\u001b[3B\u001b[3A\u001b[2K\r",
      "8ccc76a74787: Downloading 10.27 MB/80.15 MB\r",
      "\u001b[3B\u001b[4A\u001b[2K\r",
      "2e4b04ba35ce: Downloading 21.09 MB/56.89 MB\r",
      "\u001b[4B\u001b[4A\u001b[2K\r",
      "2e4b04ba35ce: Downloading 21.63 MB/56.89 MB\r",
      "\u001b[4B\u001b[4A\u001b[2K\r",
      "2e4b04ba35ce: Downloading 22.17 MB/56.89 MB\r",
      "\u001b[4B\u001b[3A\u001b[2K\r",
      "8ccc76a74787: Downloading 10.81 MB/80.15 MB\r",
      "\u001b[3B\u001b[4A\u001b[2K\r",
      "2e4b04ba35ce: Downloading 22.71 MB/56.89 MB\r",
      "\u001b[4B\u001b[3A\u001b[2K\r",
      "8ccc76a74787: Downloading 11.35 MB/80.15 MB\r",
      "\u001b[3B\u001b[4A\u001b[2K\r",
      "2e4b04ba35ce: Downloading 23.25 MB/56.89 MB\r",
      "\u001b[4B\u001b[4A\u001b[2K\r",
      "2e4b04ba35ce: Downloading 23.79 MB/56.89 MB\r",
      "\u001b[4B\u001b[3A\u001b[2K\r",
      "8ccc76a74787: Downloading 11.89 MB/80.15 MB\r",
      "\u001b[3B\u001b[4A\u001b[2K\r",
      "2e4b04ba35ce: Downloading 24.33 MB/56.89 MB\r",
      "\u001b[4B\u001b[4A\u001b[2K\r",
      "2e4b04ba35ce: Downloading 24.87 MB/56.89 MB\r",
      "\u001b[4B\u001b[4A\u001b[2K\r",
      "2e4b04ba35ce: Downloading 25.41 MB/56.89 MB\r",
      "\u001b[4B\u001b[3A\u001b[2K\r",
      "8ccc76a74787: Downloading 12.43 MB/80.15 MB\r",
      "\u001b[3B\u001b[3A\u001b[2K\r",
      "8ccc76a74787: Downloading 12.98 MB/80.15 MB\r",
      "\u001b[3B\u001b[4A\u001b[2K\r",
      "2e4b04ba35ce: Downloading 25.95 MB/56.89 MB\r",
      "\u001b[4B\u001b[4A\u001b[2K\r",
      "2e4b04ba35ce: Downloading 26.49 MB/56.89 MB\r",
      "\u001b[4B\u001b[3A\u001b[2K\r",
      "8ccc76a74787: Downloading 13.52 MB/80.15 MB\r",
      "\u001b[3B\u001b[4A\u001b[2K\r",
      "2e4b04ba35ce: Downloading 27.03 MB/56.89 MB\r",
      "\u001b[4B\u001b[3A\u001b[2K\r",
      "8ccc76a74787: Downloading 14.06 MB/80.15 MB\r",
      "\u001b[3B\u001b[4A\u001b[2K\r",
      "2e4b04ba35ce: Downloading 27.57 MB/56.89 MB\r",
      "\u001b[4B\u001b[4A\u001b[2K\r",
      "2e4b04ba35ce: Downloading 28.11 MB/56.89 MB\r",
      "\u001b[4B\u001b[3A\u001b[2K\r",
      "8ccc76a74787: Downloading  14.6 MB/80.15 MB\r",
      "\u001b[3B\u001b[4A\u001b[2K\r",
      "2e4b04ba35ce: Downloading 28.65 MB/56.89 MB\r",
      "\u001b[4B\u001b[3A\u001b[2K\r",
      "8ccc76a74787: Downloading 15.14 MB/80.15 MB\r",
      "\u001b[3B\u001b[4A\u001b[2K\r",
      "2e4b04ba35ce: Downloading  29.2 MB/56.89 MB\r",
      "\u001b[4B\u001b[4A\u001b[2K\r",
      "2e4b04ba35ce: Downloading 29.74 MB/56.89 MB\r",
      "\u001b[4B\u001b[3A\u001b[2K\r",
      "8ccc76a74787: Downloading 15.68 MB/80.15 MB\r",
      "\u001b[3B\u001b[4A\u001b[2K\r",
      "2e4b04ba35ce: Downloading 30.28 MB/56.89 MB\r",
      "\u001b[4B\u001b[3A\u001b[2K\r",
      "8ccc76a74787: Downloading 16.22 MB/80.15 MB\r",
      "\u001b[3B\u001b[4A\u001b[2K\r",
      "2e4b04ba35ce: Downloading 30.82 MB/56.89 MB\r",
      "\u001b[4B\u001b[4A\u001b[2K\r",
      "2e4b04ba35ce: Downloading 31.36 MB/56.89 MB\r",
      "\u001b[4B\u001b[3A\u001b[2K\r",
      "8ccc76a74787: Downloading 16.76 MB/80.15 MB\r",
      "\u001b[3B\u001b[3A\u001b[2K\r",
      "8ccc76a74787: Downloading  17.3 MB/80.15 MB\r",
      "\u001b[3B\u001b[4A\u001b[2K\r",
      "2e4b04ba35ce: Downloading  31.9 MB/56.89 MB\r",
      "\u001b[4B\u001b[4A\u001b[2K\r",
      "2e4b04ba35ce: Downloading 32.44 MB/56.89 MB\r",
      "\u001b[4B\u001b[4A\u001b[2K\r",
      "2e4b04ba35ce: Downloading 32.98 MB/56.89 MB\r",
      "\u001b[4B\u001b[3A\u001b[2K\r",
      "8ccc76a74787: Downloading 17.84 MB/80.15 MB\r",
      "\u001b[3B\u001b[3A\u001b[2K\r",
      "8ccc76a74787: Downloading 18.38 MB/80.15 MB\r",
      "\u001b[3B\u001b[4A\u001b[2K\r",
      "2e4b04ba35ce: Downloading 33.51 MB/56.89 MB\r",
      "\u001b[4B\u001b[4A\u001b[2K\r",
      "2e4b04ba35ce: Downloading 34.05 MB/56.89 MB\r",
      "\u001b[4B\u001b[3A\u001b[2K\r",
      "8ccc76a74787: Downloading 18.92 MB/80.15 MB\r",
      "\u001b[3B\u001b[4A\u001b[2K\r",
      "2e4b04ba35ce: Downloading 34.59 MB/56.89 MB\r",
      "\u001b[4B\u001b[3A\u001b[2K\r",
      "8ccc76a74787: Downloading 19.46 MB/80.15 MB\r",
      "\u001b[3B\u001b[4A\u001b[2K\r",
      "2e4b04ba35ce: Downloading 35.13 MB/56.89 MB\r",
      "\u001b[4B\u001b[3A\u001b[2K\r",
      "8ccc76a74787: Downloading    20 MB/80.15 MB\r",
      "\u001b[3B\u001b[4A\u001b[2K\r",
      "2e4b04ba35ce: Downloading 35.67 MB/56.89 MB\r",
      "\u001b[4B\u001b[4A\u001b[2K\r",
      "2e4b04ba35ce: Downloading 36.21 MB/56.89 MB\r",
      "\u001b[4B\u001b[3A\u001b[2K\r",
      "8ccc76a74787: Downloading 20.54 MB/80.15 MB\r",
      "\u001b[3B\u001b[3A\u001b[2K\r",
      "8ccc76a74787: Downloading 21.09 MB/80.15 MB\r",
      "\u001b[3B\u001b[4A\u001b[2K\r",
      "2e4b04ba35ce: Downloading 36.76 MB/56.89 MB\r",
      "\u001b[4B\u001b[4A\u001b[2K\r",
      "2e4b04ba35ce: Downloading  37.3 MB/56.89 MB\r",
      "\u001b[4B\u001b[4A\u001b[2K\r",
      "2e4b04ba35ce: Downloading 37.84 MB/56.89 MB\r",
      "\u001b[4B\u001b[3A\u001b[2K\r",
      "8ccc76a74787: Downloading 21.63 MB/80.15 MB\r",
      "\u001b[3B\u001b[3A\u001b[2K\r",
      "8ccc76a74787: Downloading 22.17 MB/80.15 MB\r",
      "\u001b[3B\u001b[4A\u001b[2K\r",
      "2e4b04ba35ce: Downloading 38.38 MB/56.89 MB\r",
      "\u001b[4B\u001b[3A\u001b[2K\r",
      "8ccc76a74787: Downloading 22.71 MB/80.15 MB\r",
      "\u001b[3B\u001b[4A\u001b[2K\r",
      "2e4b04ba35ce: Downloading 38.92 MB/56.89 MB\r",
      "\u001b[4B\u001b[4A\u001b[2K\r",
      "2e4b04ba35ce: Downloading 39.46 MB/56.89 MB\r",
      "\u001b[4B\u001b[3A\u001b[2K\r",
      "8ccc76a74787: Downloading 23.25 MB/80.15 MB\r",
      "\u001b[3B\u001b[3A\u001b[2K\r",
      "8ccc76a74787: Downloading 23.79 MB/80.15 MB\r",
      "\u001b[3B\u001b[4A\u001b[2K\r",
      "2e4b04ba35ce: Downloading    40 MB/56.89 MB\r",
      "\u001b[4B\u001b[3A\u001b[2K\r",
      "8ccc76a74787: Downloading 24.33 MB/80.15 MB\r",
      "\u001b[3B\u001b[4A\u001b[2K\r",
      "2e4b04ba35ce: Downloading 40.54 MB/56.89 MB\r",
      "\u001b[4B\u001b[4A\u001b[2K\r",
      "2e4b04ba35ce: Downloading 41.08 MB/56.89 MB\r",
      "\u001b[4B\u001b[3A\u001b[2K\r",
      "8ccc76a74787: Downloading 24.87 MB/80.15 MB\r",
      "\u001b[3B\u001b[3A\u001b[2K\r",
      "8ccc76a74787: Downloading 25.41 MB/80.15 MB\r",
      "\u001b[3B\u001b[4A\u001b[2K\r",
      "2e4b04ba35ce: Downloading 41.62 MB/56.89 MB\r",
      "\u001b[4B\u001b[3A\u001b[2K\r",
      "8ccc76a74787: Downloading 25.95 MB/80.15 MB\r",
      "\u001b[3B\u001b[4A\u001b[2K\r",
      "2e4b04ba35ce: Downloading 42.16 MB/56.89 MB\r",
      "\u001b[4B\u001b[4A\u001b[2K\r",
      "2e4b04ba35ce: Downloading  42.7 MB/56.89 MB\r",
      "\u001b[4B\u001b[3A\u001b[2K\r",
      "8ccc76a74787: Downloading 26.49 MB/80.15 MB\r",
      "\u001b[3B\u001b[3A\u001b[2K\r",
      "8ccc76a74787: Downloading 27.03 MB/80.15 MB\r",
      "\u001b[3B\u001b[4A\u001b[2K\r",
      "2e4b04ba35ce: Downloading 43.24 MB/56.89 MB\r",
      "\u001b[4B\u001b[3A\u001b[2K\r",
      "8ccc76a74787: Downloading 27.57 MB/80.15 MB\r",
      "\u001b[3B\u001b[4A\u001b[2K\r",
      "2e4b04ba35ce: Downloading 43.78 MB/56.89 MB\r",
      "\u001b[4B\u001b[4A\u001b[2K\r",
      "2e4b04ba35ce: Downloading 44.32 MB/56.89 MB\r",
      "\u001b[4B\u001b[3A\u001b[2K\r",
      "8ccc76a74787: Downloading 28.11 MB/80.15 MB\r",
      "\u001b[3B\u001b[3A\u001b[2K\r",
      "8ccc76a74787: Downloading 28.65 MB/80.15 MB\r",
      "\u001b[3B\u001b[4A\u001b[2K\r",
      "2e4b04ba35ce: Downloading 44.87 MB/56.89 MB\r",
      "\u001b[4B\u001b[4A\u001b[2K\r",
      "2e4b04ba35ce: Downloading 45.41 MB/56.89 MB\r",
      "\u001b[4B\u001b[3A\u001b[2K\r",
      "8ccc76a74787: Downloading  29.2 MB/80.15 MB\r",
      "\u001b[3B\u001b[4A\u001b[2K\r",
      "2e4b04ba35ce: Downloading 45.95 MB/56.89 MB\r",
      "\u001b[4B\u001b[3A\u001b[2K\r",
      "8ccc76a74787: Downloading 29.74 MB/80.15 MB\r",
      "\u001b[3B\u001b[4A\u001b[2K\r",
      "2e4b04ba35ce: Downloading 46.49 MB/56.89 MB\r",
      "\u001b[4B\u001b[3A\u001b[2K\r",
      "8ccc76a74787: Downloading 30.28 MB/80.15 MB\r",
      "\u001b[3B\u001b[4A\u001b[2K\r",
      "2e4b04ba35ce: Downloading 47.03 MB/56.89 MB\r",
      "\u001b[4B\u001b[4A\u001b[2K\r",
      "2e4b04ba35ce: Downloading 47.57 MB/56.89 MB\r",
      "\u001b[4B\u001b[3A\u001b[2K\r",
      "8ccc76a74787: Downloading 30.82 MB/80.15 MB\r",
      "\u001b[3B\u001b[3A\u001b[2K\r",
      "8ccc76a74787: Downloading 31.36 MB/80.15 MB\r",
      "\u001b[3B\u001b[4A\u001b[2K\r",
      "2e4b04ba35ce: Downloading 48.11 MB/56.89 MB\r",
      "\u001b[4B\u001b[3A\u001b[2K\r",
      "8ccc76a74787: Downloading  31.9 MB/80.15 MB\r",
      "\u001b[3B\u001b[4A\u001b[2K\r",
      "2e4b04ba35ce: Downloading 48.65 MB/56.89 MB\r",
      "\u001b[4B\u001b[4A\u001b[2K\r",
      "2e4b04ba35ce: Downloading 49.19 MB/56.89 MB\r",
      "\u001b[4B\u001b[3A\u001b[2K\r",
      "8ccc76a74787: Downloading 32.44 MB/80.15 MB\r",
      "\u001b[3B\u001b[3A\u001b[2K\r",
      "8ccc76a74787: Downloading 32.98 MB/80.15 MB\r",
      "\u001b[3B\u001b[4A\u001b[2K\r",
      "2e4b04ba35ce: Downloading 49.73 MB/56.89 MB\r",
      "\u001b[4B\u001b[3A\u001b[2K\r",
      "8ccc76a74787: Downloading 33.52 MB/80.15 MB\r",
      "\u001b[3B\u001b[4A\u001b[2K\r",
      "2e4b04ba35ce: Downloading 50.27 MB/56.89 MB\r",
      "\u001b[4B\u001b[4A\u001b[2K\r",
      "2e4b04ba35ce: Downloading 50.81 MB/56.89 MB\r",
      "\u001b[4B\u001b[3A\u001b[2K\r",
      "8ccc76a74787: Downloading 34.06 MB/80.15 MB\r",
      "\u001b[3B\u001b[3A\u001b[2K\r",
      "8ccc76a74787: Downloading  34.6 MB/80.15 MB\r",
      "\u001b[3B\u001b[4A\u001b[2K\r",
      "2e4b04ba35ce: Downloading 51.35 MB/56.89 MB\r",
      "\u001b[4B\u001b[3A\u001b[2K\r",
      "8ccc76a74787: Downloading 35.14 MB/80.15 MB\r",
      "\u001b[3B\u001b[4A\u001b[2K\r",
      "2e4b04ba35ce: Downloading 51.89 MB/56.89 MB\r",
      "\u001b[4B\u001b[4A\u001b[2K\r",
      "2e4b04ba35ce: Downloading 52.43 MB/56.89 MB\r",
      "\u001b[4B\u001b[3A\u001b[2K\r",
      "8ccc76a74787: Downloading 35.68 MB/80.15 MB\r",
      "\u001b[3B\u001b[3A\u001b[2K\r",
      "8ccc76a74787: Downloading 36.22 MB/80.15 MB\r",
      "\u001b[3B\u001b[4A\u001b[2K\r",
      "2e4b04ba35ce: Downloading 52.98 MB/56.89 MB\r",
      "\u001b[4B\u001b[3A\u001b[2K\r",
      "8ccc76a74787: Downloading 36.76 MB/80.15 MB\r",
      "\u001b[3B\u001b[4A\u001b[2K\r",
      "2e4b04ba35ce: Downloading 53.52 MB/56.89 MB\r",
      "\u001b[4B\u001b[4A\u001b[2K\r",
      "2e4b04ba35ce: Downloading 54.06 MB/56.89 MB\r",
      "\u001b[4B\u001b[3A\u001b[2K\r",
      "8ccc76a74787: Downloading 37.31 MB/80.15 MB\r",
      "\u001b[3B\u001b[4A\u001b[2K\r",
      "2e4b04ba35ce: Downloading  54.6 MB/56.89 MB\r",
      "\u001b[4B\u001b[3A\u001b[2K\r",
      "8ccc76a74787: Downloading 37.85 MB/80.15 MB\r",
      "\u001b[3B\u001b[3A\u001b[2K\r",
      "8ccc76a74787: Downloading 38.39 MB/80.15 MB\r",
      "\u001b[3B\u001b[4A\u001b[2K\r",
      "2e4b04ba35ce: Downloading 55.14 MB/56.89 MB\r",
      "\u001b[4B\u001b[4A\u001b[2K\r",
      "2e4b04ba35ce: Downloading 55.68 MB/56.89 MB\r",
      "\u001b[4B\u001b[3A\u001b[2K\r",
      "8ccc76a74787: Downloading 38.93 MB/80.15 MB\r",
      "\u001b[3B\u001b[4A\u001b[2K\r",
      "2e4b04ba35ce: Downloading 56.22 MB/56.89 MB\r",
      "\u001b[4B\u001b[3A\u001b[2K\r",
      "8ccc76a74787: Downloading 39.47 MB/80.15 MB\r",
      "\u001b[3B\u001b[3A\u001b[2K\r",
      "8ccc76a74787: Downloading 40.01 MB/80.15 MB\r",
      "\u001b[3B\u001b[4A\u001b[2K\r",
      "2e4b04ba35ce: Downloading 56.76 MB/56.89 MB\r",
      "\u001b[4B\u001b[4A\u001b[2K\r",
      "2e4b04ba35ce: Verifying Checksum \r",
      "\u001b[4B\u001b[4A\u001b[2K\r",
      "2e4b04ba35ce: Download complete \r",
      "\u001b[4B\u001b[3A\u001b[2K\r",
      "8ccc76a74787: Downloading 40.55 MB/80.15 MB\r",
      "\u001b[3B\u001b[3A\u001b[2K\r",
      "8ccc76a74787: Downloading 41.09 MB/80.15 MB\r",
      "\u001b[3B\u001b[3A\u001b[2K\r",
      "8ccc76a74787: Downloading 41.63 MB/80.15 MB\r",
      "\u001b[3B\u001b[3A\u001b[2K\r",
      "8ccc76a74787: Downloading 42.17 MB/80.15 MB\r",
      "\u001b[3B\u001b[3A\u001b[2K\r",
      "8ccc76a74787: Downloading 42.71 MB/80.15 MB\r",
      "\u001b[3B\u001b[4A\u001b[2K\r",
      "2e4b04ba35ce: Extracting 557.1 kB/56.89 MB\r",
      "\u001b[4B\u001b[3A\u001b[2K\r",
      "8ccc76a74787: Downloading 43.25 MB/80.15 MB\r",
      "\u001b[3B\u001b[4A\u001b[2K\r",
      "2e4b04ba35ce: Extracting 1.114 MB/56.89 MB\r",
      "\u001b[4B\u001b[4A\u001b[2K\r",
      "2e4b04ba35ce: Extracting 1.671 MB/56.89 MB\r",
      "\u001b[4B\u001b[3A\u001b[2K\r",
      "8ccc76a74787: Downloading 43.79 MB/80.15 MB\r",
      "\u001b[3B\u001b[4A\u001b[2K\r",
      "2e4b04ba35ce: Extracting 2.228 MB/56.89 MB\r",
      "\u001b[4B\u001b[3A\u001b[2K\r",
      "8ccc76a74787: Downloading 44.33 MB/80.15 MB\r",
      "\u001b[3B\u001b[4A\u001b[2K\r",
      "2e4b04ba35ce: Extracting 2.785 MB/56.89 MB\r",
      "\u001b[4B\u001b[3A\u001b[2K\r",
      "8ccc76a74787: Downloading 44.87 MB/80.15 MB\r",
      "\u001b[3B\u001b[4A\u001b[2K\r",
      "2e4b04ba35ce: Extracting 3.342 MB/56.89 MB\r",
      "\u001b[4B\u001b[3A\u001b[2K\r",
      "8ccc76a74787: Downloading 45.42 MB/80.15 MB\r",
      "\u001b[3B\u001b[4A\u001b[2K\r",
      "2e4b04ba35ce: Extracting 3.899 MB/56.89 MB\r",
      "\u001b[4B\u001b[3A\u001b[2K\r",
      "8ccc76a74787: Downloading 45.96 MB/80.15 MB\r",
      "\u001b[3B\u001b[4A\u001b[2K\r",
      "2e4b04ba35ce: Extracting 4.456 MB/56.89 MB\r",
      "\u001b[4B\u001b[3A\u001b[2K\r",
      "8ccc76a74787: Downloading  46.5 MB/80.15 MB\r",
      "\u001b[3B\u001b[3A\u001b[2K\r",
      "8ccc76a74787: Downloading 47.04 MB/80.15 MB\r",
      "\u001b[3B\u001b[4A\u001b[2K\r",
      "2e4b04ba35ce: Extracting 5.014 MB/56.89 MB\r",
      "\u001b[4B\u001b[3A\u001b[2K\r",
      "8ccc76a74787: Downloading 47.58 MB/80.15 MB\r",
      "\u001b[3B\u001b[3A\u001b[2K\r",
      "8ccc76a74787: Downloading 48.12 MB/80.15 MB\r",
      "\u001b[3B\u001b[4A\u001b[2K\r",
      "2e4b04ba35ce: Extracting 5.571 MB/56.89 MB\r",
      "\u001b[4B\u001b[3A\u001b[2K\r",
      "8ccc76a74787: Downloading 48.66 MB/80.15 MB\r",
      "\u001b[3B\u001b[3A\u001b[2K\r",
      "8ccc76a74787: Downloading  49.2 MB/80.15 MB\r",
      "\u001b[3B\u001b[4A\u001b[2K\r",
      "2e4b04ba35ce: Extracting 6.128 MB/56.89 MB\r",
      "\u001b[4B\u001b[3A\u001b[2K\r",
      "8ccc76a74787: Downloading 49.74 MB/80.15 MB\r",
      "\u001b[3B\u001b[3A\u001b[2K\r",
      "8ccc76a74787: Downloading 50.28 MB/80.15 MB\r",
      "\u001b[3B\u001b[4A\u001b[2K\r",
      "2e4b04ba35ce: Extracting 6.685 MB/56.89 MB\r",
      "\u001b[4B\u001b[3A\u001b[2K\r",
      "8ccc76a74787: Downloading 50.82 MB/80.15 MB\r",
      "\u001b[3B\u001b[3A\u001b[2K\r",
      "8ccc76a74787: Downloading 51.36 MB/80.15 MB\r",
      "\u001b[3B\u001b[4A\u001b[2K\r",
      "2e4b04ba35ce: Extracting 7.242 MB/56.89 MB\r",
      "\u001b[4B\u001b[4A\u001b[2K\r",
      "2e4b04ba35ce: Extracting 7.799 MB/56.89 MB\r",
      "\u001b[4B\u001b[3A\u001b[2K\r",
      "8ccc76a74787: Downloading  51.9 MB/80.15 MB\r",
      "\u001b[3B\u001b[4A\u001b[2K\r",
      "2e4b04ba35ce: Extracting 8.356 MB/56.89 MB\r",
      "\u001b[4B\u001b[3A\u001b[2K\r",
      "8ccc76a74787: Downloading 52.44 MB/80.15 MB\r",
      "\u001b[3B\u001b[4A\u001b[2K\r",
      "2e4b04ba35ce: Extracting 8.913 MB/56.89 MB\r",
      "\u001b[4B\u001b[4A\u001b[2K\r",
      "2e4b04ba35ce: Extracting  9.47 MB/56.89 MB\r",
      "\u001b[4B\u001b[3A\u001b[2K\r",
      "8ccc76a74787: Downloading 52.98 MB/80.15 MB\r",
      "\u001b[3B\u001b[4A\u001b[2K\r",
      "2e4b04ba35ce: Extracting 10.03 MB/56.89 MB\r",
      "\u001b[4B\u001b[3A\u001b[2K\r",
      "8ccc76a74787: Downloading 53.53 MB/80.15 MB\r",
      "\u001b[3B\u001b[4A\u001b[2K\r",
      "2e4b04ba35ce: Extracting 10.58 MB/56.89 MB\r",
      "\u001b[4B\u001b[3A\u001b[2K\r",
      "8ccc76a74787: Downloading 54.07 MB/80.15 MB\r",
      "\u001b[3B\u001b[4A\u001b[2K\r",
      "2e4b04ba35ce: Extracting 11.14 MB/56.89 MB\r",
      "\u001b[4B\u001b[4A\u001b[2K\r",
      "2e4b04ba35ce: Extracting  11.7 MB/56.89 MB\r",
      "\u001b[4B\u001b[3A\u001b[2K\r",
      "8ccc76a74787: Downloading 54.61 MB/80.15 MB\r",
      "\u001b[3B\u001b[4A\u001b[2K\r",
      "2e4b04ba35ce: Extracting 12.26 MB/56.89 MB\r",
      "\u001b[4B\u001b[3A\u001b[2K\r",
      "8ccc76a74787: Downloading 55.15 MB/80.15 MB\r",
      "\u001b[3B\u001b[4A\u001b[2K\r",
      "2e4b04ba35ce: Extracting 12.81 MB/56.89 MB\r",
      "\u001b[4B\u001b[3A\u001b[2K\r",
      "8ccc76a74787: Downloading 55.69 MB/80.15 MB\r",
      "\u001b[3B\u001b[4A\u001b[2K\r",
      "2e4b04ba35ce: Extracting 13.37 MB/56.89 MB\r",
      "\u001b[4B\u001b[3A\u001b[2K\r",
      "8ccc76a74787: Downloading 56.23 MB/80.15 MB\r",
      "\u001b[3B\u001b[4A\u001b[2K\r",
      "2e4b04ba35ce: Extracting 13.93 MB/56.89 MB\r",
      "\u001b[4B\u001b[3A\u001b[2K\r",
      "8ccc76a74787: Downloading 56.77 MB/80.15 MB\r",
      "\u001b[3B\u001b[4A\u001b[2K\r",
      "2e4b04ba35ce: Extracting 14.48 MB/56.89 MB\r",
      "\u001b[4B\u001b[4A\u001b[2K\r",
      "2e4b04ba35ce: Extracting 15.04 MB/56.89 MB\r",
      "\u001b[4B\u001b[3A\u001b[2K\r",
      "8ccc76a74787: Downloading 57.31 MB/80.15 MB\r",
      "\u001b[3B\u001b[4A\u001b[2K\r",
      "2e4b04ba35ce: Extracting  15.6 MB/56.89 MB\r",
      "\u001b[4B\u001b[3A\u001b[2K\r",
      "8ccc76a74787: Downloading 57.85 MB/80.15 MB\r",
      "\u001b[3B\u001b[4A\u001b[2K\r",
      "2e4b04ba35ce: Extracting 16.15 MB/56.89 MB\r",
      "\u001b[4B\u001b[3A\u001b[2K\r",
      "8ccc76a74787: Downloading 58.39 MB/80.15 MB\r",
      "\u001b[3B\u001b[4A\u001b[2K\r",
      "2e4b04ba35ce: Extracting 16.71 MB/56.89 MB\r",
      "\u001b[4B\u001b[4A\u001b[2K\r",
      "2e4b04ba35ce: Extracting 17.27 MB/56.89 MB\r",
      "\u001b[4B\u001b[3A\u001b[2K\r",
      "8ccc76a74787: Downloading 58.93 MB/80.15 MB\r",
      "\u001b[3B\u001b[4A\u001b[2K\r",
      "2e4b04ba35ce: Extracting 17.83 MB/56.89 MB\r",
      "\u001b[4B\u001b[3A\u001b[2K\r",
      "8ccc76a74787: Downloading 59.47 MB/80.15 MB\r",
      "\u001b[3B\u001b[4A\u001b[2K\r",
      "2e4b04ba35ce: Extracting 18.38 MB/56.89 MB\r",
      "\u001b[4B\u001b[3A\u001b[2K\r",
      "8ccc76a74787: Downloading 60.01 MB/80.15 MB\r",
      "\u001b[3B\u001b[4A\u001b[2K\r",
      "2e4b04ba35ce: Extracting 18.94 MB/56.89 MB\r",
      "\u001b[4B\u001b[3A\u001b[2K\r",
      "8ccc76a74787: Downloading 60.55 MB/80.15 MB\r",
      "\u001b[3B\u001b[4A\u001b[2K\r",
      "2e4b04ba35ce: Extracting  19.5 MB/56.89 MB\r",
      "\u001b[4B\u001b[3A\u001b[2K\r",
      "8ccc76a74787: Downloading  61.1 MB/80.15 MB\r",
      "\u001b[3B\u001b[4A\u001b[2K\r",
      "2e4b04ba35ce: Extracting 20.05 MB/56.89 MB\r",
      "\u001b[4B\u001b[3A\u001b[2K\r",
      "8ccc76a74787: Downloading 61.64 MB/80.15 MB\r",
      "\u001b[3B\u001b[4A\u001b[2K\r",
      "2e4b04ba35ce: Extracting 20.61 MB/56.89 MB\r",
      "\u001b[4B\u001b[3A\u001b[2K\r",
      "8ccc76a74787: Downloading 62.18 MB/80.15 MB\r",
      "\u001b[3B\u001b[4A\u001b[2K\r",
      "2e4b04ba35ce: Extracting 21.17 MB/56.89 MB\r",
      "\u001b[4B\u001b[4A\u001b[2K\r",
      "2e4b04ba35ce: Extracting 21.73 MB/56.89 MB\r",
      "\u001b[4B\u001b[4A\u001b[2K\r",
      "2e4b04ba35ce: Extracting 22.28 MB/56.89 MB\r",
      "\u001b[4B\u001b[4A\u001b[2K\r",
      "2e4b04ba35ce: Extracting 22.84 MB/56.89 MB\r",
      "\u001b[4B\u001b[3A\u001b[2K\r",
      "8ccc76a74787: Downloading 62.72 MB/80.15 MB\r",
      "\u001b[3B\u001b[4A\u001b[2K\r",
      "2e4b04ba35ce: Extracting  23.4 MB/56.89 MB\r",
      "\u001b[4B\u001b[3A\u001b[2K\r",
      "8ccc76a74787: Downloading 63.26 MB/80.15 MB\r",
      "\u001b[3B\u001b[3A\u001b[2K\r",
      "8ccc76a74787: Downloading  63.8 MB/80.15 MB\r",
      "\u001b[3B\u001b[4A\u001b[2K\r",
      "2e4b04ba35ce: Extracting 23.95 MB/56.89 MB\r",
      "\u001b[4B\u001b[3A\u001b[2K\r",
      "8ccc76a74787: Downloading 64.34 MB/80.15 MB\r",
      "\u001b[3B\u001b[4A\u001b[2K\r",
      "2e4b04ba35ce: Extracting 24.51 MB/56.89 MB\r",
      "\u001b[4B\u001b[3A\u001b[2K\r",
      "8ccc76a74787: Downloading 64.88 MB/80.15 MB\r",
      "\u001b[3B\u001b[4A\u001b[2K\r",
      "2e4b04ba35ce: Extracting 25.07 MB/56.89 MB\r",
      "\u001b[4B\u001b[4A\u001b[2K\r",
      "2e4b04ba35ce: Extracting 25.62 MB/56.89 MB\r",
      "\u001b[4B\u001b[3A\u001b[2K\r",
      "8ccc76a74787: Downloading 65.42 MB/80.15 MB\r",
      "\u001b[3B\u001b[4A\u001b[2K\r",
      "2e4b04ba35ce: Extracting 26.18 MB/56.89 MB\r",
      "\u001b[4B\u001b[3A\u001b[2K\r",
      "8ccc76a74787: Downloading 65.96 MB/80.15 MB\r",
      "\u001b[3B\u001b[4A\u001b[2K\r",
      "2e4b04ba35ce: Extracting 26.74 MB/56.89 MB\r",
      "\u001b[4B\u001b[3A\u001b[2K\r",
      "8ccc76a74787: Downloading  66.5 MB/80.15 MB\r",
      "\u001b[3B\u001b[4A\u001b[2K\r",
      "2e4b04ba35ce: Extracting  27.3 MB/56.89 MB\r",
      "\u001b[4B\u001b[4A\u001b[2K\r",
      "2e4b04ba35ce: Extracting 27.85 MB/56.89 MB\r",
      "\u001b[4B\u001b[3A\u001b[2K\r",
      "8ccc76a74787: Downloading 67.04 MB/80.15 MB\r",
      "\u001b[3B\u001b[4A\u001b[2K\r",
      "2e4b04ba35ce: Extracting 28.41 MB/56.89 MB\r",
      "\u001b[4B\u001b[3A\u001b[2K\r",
      "8ccc76a74787: Downloading 67.58 MB/80.15 MB\r",
      "\u001b[3B\u001b[4A\u001b[2K\r",
      "2e4b04ba35ce: Extracting 28.97 MB/56.89 MB\r",
      "\u001b[4B\u001b[3A\u001b[2K\r",
      "8ccc76a74787: Downloading 68.12 MB/80.15 MB\r",
      "\u001b[3B\u001b[4A\u001b[2K\r",
      "2e4b04ba35ce: Extracting 29.52 MB/56.89 MB\r",
      "\u001b[4B\u001b[4A\u001b[2K\r",
      "2e4b04ba35ce: Extracting 30.08 MB/56.89 MB\r",
      "\u001b[4B\u001b[3A\u001b[2K\r",
      "8ccc76a74787: Downloading 68.66 MB/80.15 MB\r",
      "\u001b[3B\u001b[3A\u001b[2K\r",
      "8ccc76a74787: Downloading 69.21 MB/80.15 MB\r",
      "\u001b[3B\u001b[4A\u001b[2K\r",
      "2e4b04ba35ce: Extracting 30.64 MB/56.89 MB\r",
      "\u001b[4B\u001b[3A\u001b[2K\r",
      "8ccc76a74787: Downloading 69.75 MB/80.15 MB\r",
      "\u001b[3B\u001b[4A\u001b[2K\r",
      "2e4b04ba35ce: Extracting  31.2 MB/56.89 MB\r",
      "\u001b[4B\u001b[3A\u001b[2K\r",
      "8ccc76a74787: Downloading 70.29 MB/80.15 MB\r",
      "\u001b[3B\u001b[4A\u001b[2K\r",
      "2e4b04ba35ce: Extracting 31.75 MB/56.89 MB\r",
      "\u001b[4B\u001b[3A\u001b[2K\r",
      "8ccc76a74787: Downloading 70.83 MB/80.15 MB\r",
      "\u001b[3B\u001b[4A\u001b[2K\r",
      "2e4b04ba35ce: Extracting 32.31 MB/56.89 MB\r",
      "\u001b[4B\u001b[3A\u001b[2K\r",
      "8ccc76a74787: Downloading 71.37 MB/80.15 MB\r",
      "\u001b[3B\u001b[4A\u001b[2K\r",
      "2e4b04ba35ce: Extracting 32.87 MB/56.89 MB\r",
      "\u001b[4B\u001b[3A\u001b[2K\r",
      "8ccc76a74787: Downloading 71.91 MB/80.15 MB\r",
      "\u001b[3B\u001b[4A\u001b[2K\r",
      "2e4b04ba35ce: Extracting 33.42 MB/56.89 MB\r",
      "\u001b[4B\u001b[4A\u001b[2K\r",
      "2e4b04ba35ce: Extracting 33.98 MB/56.89 MB\r",
      "\u001b[4B\u001b[3A\u001b[2K\r",
      "8ccc76a74787: Downloading 72.45 MB/80.15 MB\r",
      "\u001b[3B\u001b[4A\u001b[2K\r",
      "2e4b04ba35ce: Extracting 34.54 MB/56.89 MB\r",
      "\u001b[4B\u001b[3A\u001b[2K\r",
      "8ccc76a74787: Downloading 72.99 MB/80.15 MB\r",
      "\u001b[3B\u001b[4A\u001b[2K\r",
      "2e4b04ba35ce: Extracting 35.09 MB/56.89 MB\r",
      "\u001b[4B\u001b[3A\u001b[2K\r",
      "8ccc76a74787: Downloading 73.53 MB/80.15 MB\r",
      "\u001b[3B\u001b[4A\u001b[2K\r",
      "2e4b04ba35ce: Extracting 35.65 MB/56.89 MB\r",
      "\u001b[4B\u001b[3A\u001b[2K\r",
      "8ccc76a74787: Downloading 74.07 MB/80.15 MB\r",
      "\u001b[3B\u001b[4A\u001b[2K\r",
      "2e4b04ba35ce: Extracting 36.21 MB/56.89 MB\r",
      "\u001b[4B\u001b[4A\u001b[2K\r",
      "2e4b04ba35ce: Extracting 36.77 MB/56.89 MB\r",
      "\u001b[4B\u001b[4A\u001b[2K\r",
      "2e4b04ba35ce: Extracting 37.32 MB/56.89 MB\r",
      "\u001b[4B\u001b[4A\u001b[2K\r",
      "2e4b04ba35ce: Extracting 37.88 MB/56.89 MB\r",
      "\u001b[4B\u001b[4A\u001b[2K\r",
      "2e4b04ba35ce: Extracting 38.44 MB/56.89 MB\r",
      "\u001b[4B\u001b[3A\u001b[2K\r",
      "8ccc76a74787: Downloading 74.61 MB/80.15 MB\r",
      "\u001b[3B\u001b[4A\u001b[2K\r",
      "2e4b04ba35ce: Extracting 38.99 MB/56.89 MB\r",
      "\u001b[4B\u001b[4A\u001b[2K\r",
      "2e4b04ba35ce: Extracting 39.55 MB/56.89 MB\r",
      "\u001b[4B\u001b[4A\u001b[2K\r",
      "2e4b04ba35ce: Extracting 40.11 MB/56.89 MB\r",
      "\u001b[4B\u001b[4A\u001b[2K\r",
      "2e4b04ba35ce: Extracting 40.67 MB/56.89 MB\r",
      "\u001b[4B\u001b[4A\u001b[2K\r",
      "2e4b04ba35ce: Extracting 41.22 MB/56.89 MB\r",
      "\u001b[4B\u001b[4A\u001b[2K\r",
      "2e4b04ba35ce: Extracting 41.78 MB/56.89 MB\r",
      "\u001b[4B\u001b[4A\u001b[2K\r",
      "2e4b04ba35ce: Extracting 42.34 MB/56.89 MB\r",
      "\u001b[4B\u001b[3A\u001b[2K\r",
      "8ccc76a74787: Downloading 75.15 MB/80.15 MB\r",
      "\u001b[3B\u001b[4A\u001b[2K\r",
      "2e4b04ba35ce: Extracting 42.89 MB/56.89 MB\r",
      "\u001b[4B\u001b[4A\u001b[2K\r",
      "2e4b04ba35ce: Extracting 43.45 MB/56.89 MB\r",
      "\u001b[4B\u001b[4A\u001b[2K\r",
      "2e4b04ba35ce: Extracting 44.01 MB/56.89 MB\r",
      "\u001b[4B\u001b[4A\u001b[2K\r",
      "2e4b04ba35ce: Extracting 44.56 MB/56.89 MB\r",
      "\u001b[4B\u001b[4A\u001b[2K\r",
      "2e4b04ba35ce: Extracting 45.12 MB/56.89 MB\r",
      "\u001b[4B\u001b[4A\u001b[2K\r",
      "2e4b04ba35ce: Extracting 45.68 MB/56.89 MB\r",
      "\u001b[4B\u001b[4A\u001b[2K\r",
      "2e4b04ba35ce: Extracting 46.24 MB/56.89 MB\r",
      "\u001b[4B\u001b[4A\u001b[2K\r",
      "2e4b04ba35ce: Extracting 46.79 MB/56.89 MB\r",
      "\u001b[4B\u001b[3A\u001b[2K\r",
      "8ccc76a74787: Downloading 75.69 MB/80.15 MB\r",
      "\u001b[3B\u001b[4A\u001b[2K\r",
      "2e4b04ba35ce: Extracting 47.35 MB/56.89 MB\r",
      "\u001b[4B\u001b[4A\u001b[2K\r",
      "2e4b04ba35ce: Extracting 47.91 MB/56.89 MB\r",
      "\u001b[4B\u001b[4A\u001b[2K\r",
      "2e4b04ba35ce: Extracting 48.46 MB/56.89 MB\r",
      "\u001b[4B\u001b[4A\u001b[2K\r",
      "2e4b04ba35ce: Extracting 49.02 MB/56.89 MB\r",
      "\u001b[4B\u001b[4A\u001b[2K\r",
      "2e4b04ba35ce: Extracting 49.58 MB/56.89 MB\r",
      "\u001b[4B\u001b[4A\u001b[2K\r",
      "2e4b04ba35ce: Extracting 50.14 MB/56.89 MB\r",
      "\u001b[4B\u001b[4A\u001b[2K\r",
      "2e4b04ba35ce: Extracting 50.69 MB/56.89 MB\r",
      "\u001b[4B\u001b[3A\u001b[2K\r",
      "8ccc76a74787: Downloading 76.23 MB/80.15 MB\r",
      "\u001b[3B\u001b[4A\u001b[2K\r",
      "2e4b04ba35ce: Extracting 51.25 MB/56.89 MB\r",
      "\u001b[4B\u001b[4A\u001b[2K\r",
      "2e4b04ba35ce: Extracting 51.81 MB/56.89 MB\r",
      "\u001b[4B\u001b[4A\u001b[2K\r",
      "2e4b04ba35ce: Extracting 52.36 MB/56.89 MB\r",
      "\u001b[4B\u001b[4A\u001b[2K\r",
      "2e4b04ba35ce: Extracting 52.92 MB/56.89 MB\r",
      "\u001b[4B\u001b[3A\u001b[2K\r",
      "8ccc76a74787: Downloading 76.77 MB/80.15 MB\r",
      "\u001b[3B\u001b[4A\u001b[2K\r",
      "2e4b04ba35ce: Extracting 53.48 MB/56.89 MB\r",
      "\u001b[4B\u001b[4A\u001b[2K\r",
      "2e4b04ba35ce: Extracting 54.03 MB/56.89 MB\r",
      "\u001b[4B\u001b[3A\u001b[2K\r",
      "8ccc76a74787: Downloading 77.32 MB/80.15 MB\r",
      "\u001b[3B\u001b[4A\u001b[2K\r",
      "2e4b04ba35ce: Extracting 54.59 MB/56.89 MB\r",
      "\u001b[4B\u001b[3A\u001b[2K\r",
      "8ccc76a74787: Downloading 77.86 MB/80.15 MB\r",
      "\u001b[3B\u001b[4A\u001b[2K\r",
      "2e4b04ba35ce: Extracting 55.15 MB/56.89 MB\r",
      "\u001b[4B\u001b[3A\u001b[2K\r",
      "8ccc76a74787: Downloading  78.4 MB/80.15 MB\r",
      "\u001b[3B\u001b[4A\u001b[2K\r",
      "2e4b04ba35ce: Extracting 55.71 MB/56.89 MB\r",
      "\u001b[4B\u001b[3A\u001b[2K\r",
      "8ccc76a74787: Downloading 78.94 MB/80.15 MB\r",
      "\u001b[3B\u001b[4A\u001b[2K\r",
      "2e4b04ba35ce: Extracting 56.26 MB/56.89 MB\r",
      "\u001b[4B\u001b[3A\u001b[2K\r",
      "8ccc76a74787: Downloading 79.48 MB/80.15 MB\r",
      "\u001b[3B\u001b[4A\u001b[2K\r",
      "2e4b04ba35ce: Extracting 56.82 MB/56.89 MB\r",
      "\u001b[4B\u001b[3A\u001b[2K\r",
      "8ccc76a74787: Downloading 80.02 MB/80.15 MB\r",
      "\u001b[3B\u001b[4A\u001b[2K\r",
      "2e4b04ba35ce: Extracting 56.89 MB/56.89 MB\r",
      "\u001b[4B\u001b[3A\u001b[2K\r",
      "8ccc76a74787: Verifying Checksum \r",
      "\u001b[3B\u001b[3A\u001b[2K\r",
      "8ccc76a74787: Download complete \r",
      "\u001b[3B\u001b[4A\u001b[2K\r",
      "2e4b04ba35ce: Pull complete \r",
      "\u001b[4B\u001b[4A\u001b[2K\r",
      "2e4b04ba35ce: Pull complete \r",
      "\u001b[4B\u001b[7A\u001b[2K\r",
      "a3ed95caeb02: Extracting     32 B/32 B\r",
      "\u001b[7B\u001b[7A\u001b[2K\r",
      "a3ed95caeb02: Extracting     32 B/32 B\r",
      "\u001b[7B\u001b[7A\u001b[2K\r",
      "a3ed95caeb02: Pull complete \r",
      "\u001b[7B\u001b[7A\u001b[2K\r",
      "a3ed95caeb02: Pull complete \r",
      "\u001b[7B\u001b[3A\u001b[2K\r",
      "8ccc76a74787: Extracting 557.1 kB/80.15 MB\r",
      "\u001b[3B\u001b[3A\u001b[2K\r",
      "8ccc76a74787: Extracting 1.114 MB/80.15 MB\r",
      "\u001b[3B\u001b[3A\u001b[2K\r",
      "8ccc76a74787: Extracting 1.671 MB/80.15 MB\r",
      "\u001b[3B\u001b[3A\u001b[2K\r",
      "8ccc76a74787: Extracting 2.228 MB/80.15 MB\r",
      "\u001b[3B\u001b[3A\u001b[2K\r",
      "8ccc76a74787: Extracting 2.785 MB/80.15 MB\r",
      "\u001b[3B\u001b[3A\u001b[2K\r",
      "8ccc76a74787: Extracting 3.342 MB/80.15 MB\r",
      "\u001b[3B\u001b[3A\u001b[2K\r",
      "8ccc76a74787: Extracting 3.899 MB/80.15 MB\r",
      "\u001b[3B\u001b[3A\u001b[2K\r",
      "8ccc76a74787: Extracting 4.456 MB/80.15 MB\r",
      "\u001b[3B\u001b[3A\u001b[2K\r",
      "8ccc76a74787: Extracting 5.014 MB/80.15 MB\r",
      "\u001b[3B\u001b[3A\u001b[2K\r",
      "8ccc76a74787: Extracting 5.571 MB/80.15 MB\r",
      "\u001b[3B\u001b[3A\u001b[2K\r",
      "8ccc76a74787: Extracting 6.128 MB/80.15 MB\r",
      "\u001b[3B\u001b[3A\u001b[2K\r",
      "8ccc76a74787: Extracting 6.685 MB/80.15 MB\r",
      "\u001b[3B\u001b[3A\u001b[2K\r",
      "8ccc76a74787: Extracting 7.242 MB/80.15 MB\r",
      "\u001b[3B\u001b[3A\u001b[2K\r",
      "8ccc76a74787: Extracting 7.799 MB/80.15 MB\r",
      "\u001b[3B\u001b[3A\u001b[2K\r",
      "8ccc76a74787: Extracting 8.356 MB/80.15 MB\r",
      "\u001b[3B\u001b[3A\u001b[2K\r",
      "8ccc76a74787: Extracting 8.913 MB/80.15 MB\r",
      "\u001b[3B\u001b[3A\u001b[2K\r",
      "8ccc76a74787: Extracting  9.47 MB/80.15 MB\r",
      "\u001b[3B\u001b[3A\u001b[2K\r",
      "8ccc76a74787: Extracting 10.03 MB/80.15 MB\r",
      "\u001b[3B\u001b[3A\u001b[2K\r",
      "8ccc76a74787: Extracting 10.58 MB/80.15 MB\r",
      "\u001b[3B\u001b[3A\u001b[2K\r",
      "8ccc76a74787: Extracting 11.14 MB/80.15 MB\r",
      "\u001b[3B\u001b[3A\u001b[2K\r",
      "8ccc76a74787: Extracting  11.7 MB/80.15 MB\r",
      "\u001b[3B\u001b[3A\u001b[2K\r",
      "8ccc76a74787: Extracting 12.26 MB/80.15 MB\r",
      "\u001b[3B\u001b[3A\u001b[2K\r",
      "8ccc76a74787: Extracting 12.81 MB/80.15 MB\r",
      "\u001b[3B\u001b[3A\u001b[2K\r",
      "8ccc76a74787: Extracting 13.37 MB/80.15 MB\r",
      "\u001b[3B\u001b[3A\u001b[2K\r",
      "8ccc76a74787: Extracting 13.93 MB/80.15 MB\r",
      "\u001b[3B\u001b[3A\u001b[2K\r",
      "8ccc76a74787: Extracting 14.48 MB/80.15 MB\r",
      "\u001b[3B\u001b[3A\u001b[2K\r",
      "8ccc76a74787: Extracting 15.04 MB/80.15 MB\r",
      "\u001b[3B\u001b[3A\u001b[2K\r",
      "8ccc76a74787: Extracting  15.6 MB/80.15 MB\r",
      "\u001b[3B\u001b[3A\u001b[2K\r",
      "8ccc76a74787: Extracting 16.15 MB/80.15 MB\r",
      "\u001b[3B\u001b[3A\u001b[2K\r",
      "8ccc76a74787: Extracting 16.71 MB/80.15 MB\r",
      "\u001b[3B\u001b[3A\u001b[2K\r",
      "8ccc76a74787: Extracting 17.27 MB/80.15 MB\r",
      "\u001b[3B\u001b[3A\u001b[2K\r",
      "8ccc76a74787: Extracting 17.83 MB/80.15 MB\r",
      "\u001b[3B\u001b[3A\u001b[2K\r",
      "8ccc76a74787: Extracting 18.38 MB/80.15 MB\r",
      "\u001b[3B\u001b[3A\u001b[2K\r",
      "8ccc76a74787: Extracting 18.94 MB/80.15 MB\r",
      "\u001b[3B\u001b[3A\u001b[2K\r",
      "8ccc76a74787: Extracting  19.5 MB/80.15 MB\r",
      "\u001b[3B\u001b[3A\u001b[2K\r",
      "8ccc76a74787: Extracting 20.05 MB/80.15 MB\r",
      "\u001b[3B\u001b[3A\u001b[2K\r",
      "8ccc76a74787: Extracting 20.61 MB/80.15 MB\r",
      "\u001b[3B\u001b[3A\u001b[2K\r",
      "8ccc76a74787: Extracting 21.17 MB/80.15 MB\r",
      "\u001b[3B\u001b[3A\u001b[2K\r",
      "8ccc76a74787: Extracting 21.73 MB/80.15 MB\r",
      "\u001b[3B\u001b[3A\u001b[2K\r",
      "8ccc76a74787: Extracting 22.28 MB/80.15 MB\r",
      "\u001b[3B\u001b[3A\u001b[2K\r",
      "8ccc76a74787: Extracting 22.84 MB/80.15 MB\r",
      "\u001b[3B\u001b[3A\u001b[2K\r",
      "8ccc76a74787: Extracting  23.4 MB/80.15 MB\r",
      "\u001b[3B\u001b[3A\u001b[2K\r",
      "8ccc76a74787: Extracting 23.95 MB/80.15 MB\r",
      "\u001b[3B\u001b[3A\u001b[2K\r",
      "8ccc76a74787: Extracting 24.51 MB/80.15 MB\r",
      "\u001b[3B\u001b[3A\u001b[2K\r",
      "8ccc76a74787: Extracting 25.07 MB/80.15 MB\r",
      "\u001b[3B\u001b[3A\u001b[2K\r",
      "8ccc76a74787: Extracting 25.62 MB/80.15 MB\r",
      "\u001b[3B\u001b[3A\u001b[2K\r",
      "8ccc76a74787: Extracting 26.18 MB/80.15 MB\r",
      "\u001b[3B\u001b[3A\u001b[2K\r",
      "8ccc76a74787: Extracting 26.74 MB/80.15 MB\r",
      "\u001b[3B\u001b[3A\u001b[2K\r",
      "8ccc76a74787: Extracting  27.3 MB/80.15 MB\r",
      "\u001b[3B\u001b[3A\u001b[2K\r",
      "8ccc76a74787: Extracting 27.85 MB/80.15 MB\r",
      "\u001b[3B\u001b[3A\u001b[2K\r",
      "8ccc76a74787: Extracting 28.41 MB/80.15 MB\r",
      "\u001b[3B\u001b[3A\u001b[2K\r",
      "8ccc76a74787: Extracting 28.97 MB/80.15 MB\r",
      "\u001b[3B\u001b[3A\u001b[2K\r",
      "8ccc76a74787: Extracting 29.52 MB/80.15 MB\r",
      "\u001b[3B\u001b[3A\u001b[2K\r",
      "8ccc76a74787: Extracting 30.08 MB/80.15 MB\r",
      "\u001b[3B\u001b[3A\u001b[2K\r",
      "8ccc76a74787: Extracting 30.64 MB/80.15 MB\r",
      "\u001b[3B\u001b[3A\u001b[2K\r",
      "8ccc76a74787: Extracting  31.2 MB/80.15 MB\r",
      "\u001b[3B\u001b[3A\u001b[2K\r",
      "8ccc76a74787: Extracting 31.75 MB/80.15 MB\r",
      "\u001b[3B\u001b[3A\u001b[2K\r",
      "8ccc76a74787: Extracting 32.31 MB/80.15 MB\r",
      "\u001b[3B\u001b[3A\u001b[2K\r",
      "8ccc76a74787: Extracting 32.87 MB/80.15 MB\r",
      "\u001b[3B\u001b[3A\u001b[2K\r",
      "8ccc76a74787: Extracting 33.42 MB/80.15 MB\r",
      "\u001b[3B\u001b[3A\u001b[2K\r",
      "8ccc76a74787: Extracting 33.98 MB/80.15 MB\r",
      "\u001b[3B\u001b[3A\u001b[2K\r",
      "8ccc76a74787: Extracting 34.54 MB/80.15 MB\r",
      "\u001b[3B\u001b[3A\u001b[2K\r",
      "8ccc76a74787: Extracting 35.09 MB/80.15 MB\r",
      "\u001b[3B\u001b[3A\u001b[2K\r",
      "8ccc76a74787: Extracting 35.65 MB/80.15 MB\r",
      "\u001b[3B\u001b[3A\u001b[2K\r",
      "8ccc76a74787: Extracting 36.21 MB/80.15 MB\r",
      "\u001b[3B\u001b[3A\u001b[2K\r",
      "8ccc76a74787: Extracting 36.77 MB/80.15 MB\r",
      "\u001b[3B\u001b[3A\u001b[2K\r",
      "8ccc76a74787: Extracting 37.32 MB/80.15 MB\r",
      "\u001b[3B\u001b[3A\u001b[2K\r",
      "8ccc76a74787: Extracting 37.88 MB/80.15 MB\r",
      "\u001b[3B\u001b[3A\u001b[2K\r",
      "8ccc76a74787: Extracting 38.44 MB/80.15 MB\r",
      "\u001b[3B\u001b[3A\u001b[2K\r",
      "8ccc76a74787: Extracting 38.99 MB/80.15 MB\r",
      "\u001b[3B\u001b[3A\u001b[2K\r",
      "8ccc76a74787: Extracting 39.55 MB/80.15 MB\r",
      "\u001b[3B\u001b[3A\u001b[2K\r",
      "8ccc76a74787: Extracting 40.11 MB/80.15 MB\r",
      "\u001b[3B\u001b[3A\u001b[2K\r",
      "8ccc76a74787: Extracting 40.67 MB/80.15 MB\r",
      "\u001b[3B\u001b[3A\u001b[2K\r",
      "8ccc76a74787: Extracting 41.22 MB/80.15 MB\r",
      "\u001b[3B\u001b[3A\u001b[2K\r",
      "8ccc76a74787: Extracting 41.78 MB/80.15 MB\r",
      "\u001b[3B\u001b[3A\u001b[2K\r",
      "8ccc76a74787: Extracting 42.34 MB/80.15 MB\r",
      "\u001b[3B\u001b[3A\u001b[2K\r",
      "8ccc76a74787: Extracting 42.89 MB/80.15 MB\r",
      "\u001b[3B\u001b[3A\u001b[2K\r",
      "8ccc76a74787: Extracting 43.45 MB/80.15 MB\r",
      "\u001b[3B\u001b[3A\u001b[2K\r",
      "8ccc76a74787: Extracting 44.01 MB/80.15 MB\r",
      "\u001b[3B\u001b[3A\u001b[2K\r",
      "8ccc76a74787: Extracting 44.56 MB/80.15 MB\r",
      "\u001b[3B\u001b[3A\u001b[2K\r",
      "8ccc76a74787: Extracting 45.12 MB/80.15 MB\r",
      "\u001b[3B\u001b[3A\u001b[2K\r",
      "8ccc76a74787: Extracting 45.68 MB/80.15 MB\r",
      "\u001b[3B\u001b[3A\u001b[2K\r",
      "8ccc76a74787: Extracting 46.24 MB/80.15 MB\r",
      "\u001b[3B\u001b[3A\u001b[2K\r",
      "8ccc76a74787: Extracting 46.79 MB/80.15 MB\r",
      "\u001b[3B\u001b[3A\u001b[2K\r",
      "8ccc76a74787: Extracting 47.35 MB/80.15 MB\r",
      "\u001b[3B\u001b[3A\u001b[2K\r",
      "8ccc76a74787: Extracting 47.91 MB/80.15 MB\r",
      "\u001b[3B\u001b[3A\u001b[2K\r",
      "8ccc76a74787: Extracting 48.46 MB/80.15 MB\r",
      "\u001b[3B\u001b[3A\u001b[2K\r",
      "8ccc76a74787: Extracting 49.02 MB/80.15 MB\r",
      "\u001b[3B\u001b[3A\u001b[2K\r",
      "8ccc76a74787: Extracting 49.58 MB/80.15 MB\r",
      "\u001b[3B\u001b[3A\u001b[2K\r",
      "8ccc76a74787: Extracting 50.14 MB/80.15 MB\r",
      "\u001b[3B\u001b[3A\u001b[2K\r",
      "8ccc76a74787: Extracting 50.69 MB/80.15 MB\r",
      "\u001b[3B\u001b[3A\u001b[2K\r",
      "8ccc76a74787: Extracting 51.25 MB/80.15 MB\r",
      "\u001b[3B\u001b[3A\u001b[2K\r",
      "8ccc76a74787: Extracting 51.81 MB/80.15 MB\r",
      "\u001b[3B\u001b[3A\u001b[2K\r",
      "8ccc76a74787: Extracting 52.36 MB/80.15 MB\r",
      "\u001b[3B\u001b[3A\u001b[2K\r",
      "8ccc76a74787: Extracting 52.92 MB/80.15 MB\r",
      "\u001b[3B\u001b[3A\u001b[2K\r",
      "8ccc76a74787: Extracting 53.48 MB/80.15 MB\r",
      "\u001b[3B\u001b[3A\u001b[2K\r",
      "8ccc76a74787: Extracting 54.03 MB/80.15 MB\r",
      "\u001b[3B\u001b[3A\u001b[2K\r",
      "8ccc76a74787: Extracting 54.59 MB/80.15 MB\r",
      "\u001b[3B\u001b[3A\u001b[2K\r",
      "8ccc76a74787: Extracting 55.15 MB/80.15 MB\r",
      "\u001b[3B\u001b[3A\u001b[2K\r",
      "8ccc76a74787: Extracting 55.71 MB/80.15 MB\r",
      "\u001b[3B\u001b[3A\u001b[2K\r",
      "8ccc76a74787: Extracting 56.26 MB/80.15 MB\r",
      "\u001b[3B\u001b[3A\u001b[2K\r",
      "8ccc76a74787: Extracting 56.82 MB/80.15 MB\r",
      "\u001b[3B\u001b[3A\u001b[2K\r",
      "8ccc76a74787: Extracting 57.38 MB/80.15 MB\r",
      "\u001b[3B\u001b[3A\u001b[2K\r",
      "8ccc76a74787: Extracting 57.93 MB/80.15 MB\r",
      "\u001b[3B\u001b[3A\u001b[2K\r",
      "8ccc76a74787: Extracting 58.49 MB/80.15 MB\r",
      "\u001b[3B\u001b[3A\u001b[2K\r",
      "8ccc76a74787: Extracting 59.05 MB/80.15 MB\r",
      "\u001b[3B\u001b[3A\u001b[2K\r",
      "8ccc76a74787: Extracting  59.6 MB/80.15 MB\r",
      "\u001b[3B\u001b[3A\u001b[2K\r",
      "8ccc76a74787: Extracting 60.16 MB/80.15 MB\r",
      "\u001b[3B\u001b[3A\u001b[2K\r",
      "8ccc76a74787: Extracting 60.72 MB/80.15 MB\r",
      "\u001b[3B\u001b[3A\u001b[2K\r",
      "8ccc76a74787: Extracting 61.28 MB/80.15 MB\r",
      "\u001b[3B\u001b[3A\u001b[2K\r",
      "8ccc76a74787: Extracting 61.83 MB/80.15 MB\r",
      "\u001b[3B\u001b[3A\u001b[2K\r",
      "8ccc76a74787: Extracting 62.39 MB/80.15 MB\r",
      "\u001b[3B\u001b[3A\u001b[2K\r",
      "8ccc76a74787: Extracting 62.95 MB/80.15 MB\r",
      "\u001b[3B\u001b[3A\u001b[2K\r",
      "8ccc76a74787: Extracting  63.5 MB/80.15 MB\r",
      "\u001b[3B\u001b[3A\u001b[2K\r",
      "8ccc76a74787: Extracting 64.06 MB/80.15 MB\r",
      "\u001b[3B\u001b[3A\u001b[2K\r",
      "8ccc76a74787: Extracting 64.62 MB/80.15 MB\r",
      "\u001b[3B\u001b[3A\u001b[2K\r",
      "8ccc76a74787: Extracting 65.18 MB/80.15 MB\r",
      "\u001b[3B\u001b[3A\u001b[2K\r",
      "8ccc76a74787: Extracting 65.73 MB/80.15 MB\r",
      "\u001b[3B\u001b[3A\u001b[2K\r",
      "8ccc76a74787: Extracting 66.29 MB/80.15 MB\r",
      "\u001b[3B\u001b[3A\u001b[2K\r",
      "8ccc76a74787: Extracting 66.85 MB/80.15 MB\r",
      "\u001b[3B\u001b[3A\u001b[2K\r",
      "8ccc76a74787: Extracting  67.4 MB/80.15 MB\r",
      "\u001b[3B\u001b[3A\u001b[2K\r",
      "8ccc76a74787: Extracting 67.96 MB/80.15 MB\r",
      "\u001b[3B\u001b[3A\u001b[2K\r",
      "8ccc76a74787: Extracting 68.52 MB/80.15 MB\r",
      "\u001b[3B\u001b[3A\u001b[2K\r",
      "8ccc76a74787: Extracting 69.07 MB/80.15 MB\r",
      "\u001b[3B\u001b[3A\u001b[2K\r",
      "8ccc76a74787: Extracting 69.63 MB/80.15 MB\r",
      "\u001b[3B\u001b[3A\u001b[2K\r",
      "8ccc76a74787: Extracting 70.19 MB/80.15 MB\r",
      "\u001b[3B\u001b[3A\u001b[2K\r",
      "8ccc76a74787: Extracting 70.75 MB/80.15 MB\r",
      "\u001b[3B\u001b[3A\u001b[2K\r",
      "8ccc76a74787: Extracting  71.3 MB/80.15 MB\r",
      "\u001b[3B\u001b[3A\u001b[2K\r",
      "8ccc76a74787: Extracting 71.86 MB/80.15 MB\r",
      "\u001b[3B\u001b[3A\u001b[2K\r",
      "8ccc76a74787: Extracting 72.42 MB/80.15 MB\r",
      "\u001b[3B\u001b[3A\u001b[2K\r",
      "8ccc76a74787: Extracting 72.97 MB/80.15 MB\r",
      "\u001b[3B\u001b[3A\u001b[2K\r",
      "8ccc76a74787: Extracting 73.53 MB/80.15 MB\r",
      "\u001b[3B\u001b[3A\u001b[2K\r",
      "8ccc76a74787: Extracting 74.09 MB/80.15 MB\r",
      "\u001b[3B\u001b[3A\u001b[2K\r",
      "8ccc76a74787: Extracting 74.65 MB/80.15 MB\r",
      "\u001b[3B\u001b[3A\u001b[2K\r",
      "8ccc76a74787: Extracting  75.2 MB/80.15 MB\r",
      "\u001b[3B\u001b[3A\u001b[2K\r",
      "8ccc76a74787: Extracting 75.76 MB/80.15 MB\r",
      "\u001b[3B\u001b[3A\u001b[2K\r",
      "8ccc76a74787: Extracting 76.32 MB/80.15 MB\r",
      "\u001b[3B\u001b[3A\u001b[2K\r",
      "8ccc76a74787: Extracting 76.87 MB/80.15 MB\r",
      "\u001b[3B\u001b[3A\u001b[2K\r",
      "8ccc76a74787: Extracting 77.43 MB/80.15 MB\r",
      "\u001b[3B\u001b[3A\u001b[2K\r",
      "8ccc76a74787: Extracting 77.99 MB/80.15 MB\r",
      "\u001b[3B\u001b[3A\u001b[2K\r",
      "8ccc76a74787: Extracting 78.54 MB/80.15 MB\r",
      "\u001b[3B\u001b[3A\u001b[2K\r",
      "8ccc76a74787: Extracting  79.1 MB/80.15 MB\r",
      "\u001b[3B\u001b[3A\u001b[2K\r",
      "8ccc76a74787: Extracting 79.66 MB/80.15 MB\r",
      "\u001b[3B\u001b[3A\u001b[2K\r",
      "8ccc76a74787: Extracting 80.15 MB/80.15 MB\r",
      "\u001b[3B\u001b[3A\u001b[2K\r",
      "8ccc76a74787: Pull complete \r",
      "\u001b[3B\u001b[3A\u001b[2K\r",
      "8ccc76a74787: Pull complete \r",
      "\u001b[3B\u001b[2A\u001b[2K\r",
      "70fd525fbd3f: Extracting    123 B/123 B\r",
      "\u001b[2B\u001b[2A\u001b[2K\r",
      "70fd525fbd3f: Extracting    123 B/123 B\r",
      "\u001b[2B\u001b[2A\u001b[2K\r",
      "70fd525fbd3f: Pull complete \r",
      "\u001b[2B\u001b[2A\u001b[2K\r",
      "70fd525fbd3f: Pull complete \r",
      "\u001b[2B\u001b[1A\u001b[2K\r",
      "61b488f1b063: Extracting 1.353 kB/1.353 kB\r",
      "\u001b[1B\u001b[1A\u001b[2K\r",
      "61b488f1b063: Extracting 1.353 kB/1.353 kB\r",
      "\u001b[1B\u001b[1A\u001b[2K\r",
      "61b488f1b063: Pull complete \r",
      "\u001b[1B\u001b[1A\u001b[2K\r",
      "61b488f1b063: Pull complete \r",
      "\u001b[1BDigest: sha256:2242a664699c7dd1aaf3c380107d20bff45cbbe39d92e848c4c83240adc4169f\r\n",
      "Status: Downloaded newer image for golang:latest\r\n",
      "hello\r",
      "\r\n",
      "total 2.3M\r\n",
      "-rw-r--r-- 1 root root  105 Feb  3 09:41 Dockerfile\r\n",
      "-rw-r--r-- 1 root root  155 Feb  3 09:41 build.sh\r\n",
      "drwxr-xr-x 4 root root   34 Feb  3 09:41 src\r\n",
      "drwxr-xr-x 9 root root  138 Feb  3 09:41 ..\r\n",
      "drwxr-xr-x 3 root root   60 Feb  3 10:43 .\r\n",
      "-rwxr-xr-x 1 root root 2.3M Feb  3 10:43 hello\r\n"
     ]
    }
   ],
   "source": [
    "docker run -it -v $PWD:/go golang go build -v hello\n",
    "ls -altrh"
   ]
  },
  {
   "cell_type": "code",
   "execution_count": 21,
   "metadata": {
    "collapsed": false
   },
   "outputs": [
    {
     "name": "stdout",
     "output_type": "stream",
     "text": [
      "\r\n",
      "FROM scratch\r\n",
      "MAINTAINER \"Docker Build Lab\" <dockerlab@mjbright.net>\r\n",
      "\r\n",
      "ADD ./hello /hello\r\n",
      "CMD [\"/hello\"]\r\n",
      "\r\n"
     ]
    }
   ],
   "source": [
    "cat Dockerfile"
   ]
  },
  {
   "cell_type": "code",
   "execution_count": 22,
   "metadata": {
    "collapsed": false
   },
   "outputs": [
    {
     "name": "stdout",
     "output_type": "stream",
     "text": [
      "Sending build context to Docker daemon 557.1 kB\r",
      "Sending build context to Docker daemon 1.114 MB\r",
      "Sending build context to Docker daemon 1.671 MB\r",
      "Sending build context to Docker daemon 2.228 MB\r",
      "Sending build context to Docker daemon 2.375 MB\r",
      "\r",
      "\r\n",
      "Step 1 : FROM scratch\r\n",
      " ---> \r\n",
      "Step 2 : MAINTAINER \"Docker Build Lab\" <dockerlab@mjbright.net>\r\n",
      " ---> Using cache\r\n",
      " ---> 12b5b8d1cb7b\r\n",
      "Step 3 : ADD ./hello /hello\r\n",
      " ---> 364dc4014222\r\n",
      "Removing intermediate container 5286eb2053bd\r\n",
      "Step 4 : CMD /hello\r\n",
      " ---> Running in 0bd901f7d529\r\n",
      " ---> d7e7f28bac89\r\n",
      "Removing intermediate container 0bd901f7d529\r\n",
      "Successfully built d7e7f28bac89\r\n"
     ]
    }
   ],
   "source": [
    "docker build -t lab/go-hello ."
   ]
  },
  {
   "cell_type": "code",
   "execution_count": 23,
   "metadata": {
    "collapsed": false
   },
   "outputs": [
    {
     "name": "stdout",
     "output_type": "stream",
     "text": [
      "REPOSITORY          TAG                 IMAGE ID            CREATED             SIZE\r\n",
      "lab/go-hello        latest              d7e7f28bac89        3 seconds ago       2.367 MB\r\n",
      "lab/c_prog          latest              cc40573ce67a        2 minutes ago       848 kB\r\n"
     ]
    }
   ],
   "source": [
    "docker images lab/*"
   ]
  },
  {
   "cell_type": "markdown",
   "metadata": {
    "collapsed": true
   },
   "source": [
    "<a name=\"small-multi\"/>\n",
    "## Creating a toolset Docker image containing several executeables\n",
    "[TOP](#TOP)\n",
    "\n",
    "Now let's see how we can combine these static binaries into one image.\n",
    "\n",
    "Let's build a new image derived from the Docker provided 'hello-world' image\n",
    "\n",
    "<font size=+1 color=\"#77f\">\n",
    "<b>The goal of this step is to show how we can combine several executables in an image, opening up the possibility of creating a container of tools.</b>\n",
    "</font>\n",
    "\n",
    "We will do this without directly 'installing a Go compiler' but by using the official *'golang'* image which includes the Go compiler."
   ]
  },
  {
   "cell_type": "code",
   "execution_count": 26,
   "metadata": {
    "collapsed": false
   },
   "outputs": [
    {
     "name": "stdout",
     "output_type": "stream",
     "text": [
      "-rwxr-xr-x 1 root root 847958 Feb  3 10:46 helloWorld.exe\r\n"
     ]
    }
   ],
   "source": [
    "cd ~/src/toolset\n",
    "gcc -static helloWorld.c -o helloWorld.exe\n",
    "ls -al helloWorld.exe"
   ]
  },
  {
   "cell_type": "code",
   "execution_count": 27,
   "metadata": {
    "collapsed": false
   },
   "outputs": [
    {
     "name": "stdout",
     "output_type": "stream",
     "text": [
      "\r\n",
      "FROM hello-world\r\n",
      "MAINTAINER \"Docker Build Lab\" <dockerlab@mjbright.net>\r\n",
      "\r\n",
      "ADD ./helloWorld.exe /helloWorld.exe\r\n",
      "CMD [\"/helloWorld.exe\"]\r\n",
      "\r\n"
     ]
    }
   ],
   "source": [
    "cat Dockerfile"
   ]
  },
  {
   "cell_type": "code",
   "execution_count": 28,
   "metadata": {
    "collapsed": false
   },
   "outputs": [
    {
     "name": "stdout",
     "output_type": "stream",
     "text": [
      "Sending build context to Docker daemon 557.1 kB\r",
      "Sending build context to Docker daemon   853 kB\r",
      "\r",
      "\r\n",
      "Step 1 : FROM hello-world\r\n",
      " ---> 690ed74de00f\r\n",
      "Step 2 : MAINTAINER \"Docker Build Lab\" <dockerlab@mjbright.net>\r\n",
      " ---> Using cache\r\n",
      " ---> d3ae0436967f\r\n",
      "Step 3 : ADD ./helloWorld.exe /helloWorld.exe\r\n",
      " ---> Using cache\r\n",
      " ---> 11b93713b00f\r\n",
      "Step 4 : CMD /helloWorld.exe\r\n",
      " ---> Using cache\r\n",
      " ---> eb7cbf013c9a\r\n",
      "Successfully built eb7cbf013c9a\r\n"
     ]
    }
   ],
   "source": [
    "docker build -t lab/toolset ./"
   ]
  },
  {
   "cell_type": "code",
   "execution_count": 29,
   "metadata": {
    "collapsed": false
   },
   "outputs": [
    {
     "name": "stdout",
     "output_type": "stream",
     "text": [
      "IMAGE               CREATED              CREATED BY                                      SIZE                COMMENT\r\n",
      "eb7cbf013c9a        About a minute ago   /bin/sh -c #(nop) CMD [\"/helloWorld.exe\"]       0 B                 \r\n",
      "11b93713b00f        About a minute ago   /bin/sh -c #(nop) ADD file:39f3f1a38fced947e7   848 kB              \r\n",
      "d3ae0436967f        About a minute ago   /bin/sh -c #(nop) MAINTAINER \"Docker Build La   0 B                 \r\n",
      "690ed74de00f        3 months ago         /bin/sh -c #(nop) CMD [\"/hello\"]                0 B                 \r\n",
      "<missing>           3 months ago         /bin/sh -c #(nop) COPY file:1ad52e3eaf4327c8f   960 B               \r\n"
     ]
    }
   ],
   "source": [
    "docker history lab/toolset"
   ]
  },
  {
   "cell_type": "markdown",
   "metadata": {},
   "source": [
    "Now we are free to specify which command is to be run"
   ]
  },
  {
   "cell_type": "code",
   "execution_count": 30,
   "metadata": {
    "collapsed": false
   },
   "outputs": [
    {
     "name": "stdout",
     "output_type": "stream",
     "text": [
      "Hello World!!\r\n"
     ]
    }
   ],
   "source": [
    "docker run lab/toolset"
   ]
  },
  {
   "cell_type": "code",
   "execution_count": 31,
   "metadata": {
    "collapsed": false
   },
   "outputs": [
    {
     "name": "stdout",
     "output_type": "stream",
     "text": [
      "\r\n",
      "Hello from Docker.\r\n",
      "This message shows that your installation appears to be working correctly.\r\n",
      "\r\n",
      "To generate this message, Docker took the following steps:\r\n",
      " 1. The Docker client contacted the Docker daemon.\r\n",
      " 2. The Docker daemon pulled the \"hello-world\" image from the Docker Hub.\r\n",
      " 3. The Docker daemon created a new container from that image which runs the\r\n",
      "    executable that produces the output you are currently reading.\r\n",
      " 4. The Docker daemon streamed that output to the Docker client, which sent it\r\n",
      "    to your terminal.\r\n",
      "\r\n",
      "To try something more ambitious, you can run an Ubuntu container with:\r\n",
      " $ docker run -it ubuntu bash\r\n",
      "\r\n",
      "Share images, automate workflows, and more with a free Docker Hub account:\r\n",
      " https://hub.docker.com\r\n",
      "\r\n",
      "For more examples and ideas, visit:\r\n",
      " https://docs.docker.com/userguide/\r\n",
      "\r\n"
     ]
    }
   ],
   "source": [
    "docker run lab/toolset /hello"
   ]
  },
  {
   "cell_type": "code",
   "execution_count": 32,
   "metadata": {
    "collapsed": false
   },
   "outputs": [
    {
     "name": "stdout",
     "output_type": "stream",
     "text": [
      "Hello World!!\r\n"
     ]
    }
   ],
   "source": [
    "docker run lab/toolset /helloWorld.exe"
   ]
  },
  {
   "cell_type": "markdown",
   "metadata": {
    "collapsed": true
   },
   "source": [
    "<a name=\"small-push\"/>\n",
    "## Pushing our image to Docker Hub\n",
    "[TOP](#TOP)\n",
    "\n",
    "**Note:** If you have your own account on Docker Hub you may wish to use that for this exercise.\n",
    "\n",
    "**Otherwise** we will all be using the same account **'dockerlabs'** so you will need to specify a tag which\n",
    "distinguishes your images from your neighbours.\n",
    "\n",
    "\n",
    "<font size=+1 color=\"#77f\">\n",
    "<b>The goal of this step is to demonstrate how we may push an image which we have built to the Docker Hub.</b>\n",
    "</font>\n",
    "\n",
    "First we will retag our local image to be unique.\n",
    "If you are on <font size=+1 color=\"#d88\">podN</font>, then tag with <font size=+1 color=\"#d88\">userN</font>,\n",
    "\n",
    "e.g. if you are <font size=+1 color=\"#d88\">pod3</font>,\n",
    "\n",
    "<font size=+1 color=\"#d88\"><br/>&nbsp;&nbsp;&nbsp;&nbsp;\n",
    "docker tag lab/toolset dockerlabs/toolset:user3\n",
    "</font>\n",
    "\n",
    "Notice that we then have 2 toolset images with different tags.\n",
    "\n",
    "They are otherwise identical (but they could be different) and have the same \"IMAGE ID\"."
   ]
  },
  {
   "cell_type": "code",
   "execution_count": 33,
   "metadata": {
    "collapsed": false
   },
   "outputs": [
    {
     "name": "stdout",
     "output_type": "stream",
     "text": [
      "REPOSITORY           TAG                 IMAGE ID            CREATED             SIZE\r\n",
      "dockerlabs/toolset   userN               eb7cbf013c9a        5 minutes ago       848.9 kB\r\n",
      "lab/toolset          latest              eb7cbf013c9a        5 minutes ago       848.9 kB\r\n"
     ]
    }
   ],
   "source": [
    "docker tag lab/toolset:latest dockerlabs/toolset:userN\n",
    "docker images */toolset"
   ]
  },
  {
   "cell_type": "markdown",
   "metadata": {},
   "source": [
    "First we must login to the Docker Hub"
   ]
  },
  {
   "cell_type": "code",
   "execution_count": 34,
   "metadata": {
    "collapsed": false
   },
   "outputs": [
    {
     "name": "stdout",
     "output_type": "stream",
     "text": [
      "WARNING: login credentials saved in /root/.docker/config.json\r\n",
      "Login Succeeded\r\n"
     ]
    }
   ],
   "source": [
    "docker login -u dockerlabs -p dockerlabs -e dockerlabs@mjbright.net"
   ]
  },
  {
   "cell_type": "markdown",
   "metadata": {},
   "source": [
    "Now we may push our image to the public Docker Hub"
   ]
  },
  {
   "cell_type": "code",
   "execution_count": 35,
   "metadata": {
    "collapsed": false
   },
   "outputs": [
    {
     "name": "stdout",
     "output_type": "stream",
     "text": [
      "The push refers to a repository [docker.io/dockerlabs/toolset]\r\n",
      "\r\n",
      "\u001b[0A\u001b[2K\r",
      "72482fe59c12: Preparing \r",
      "\u001b[0B\r\n",
      "\u001b[0A\u001b[2K\r",
      "5f70bf18a086: Preparing \r",
      "\u001b[0B\r\n",
      "\u001b[0A\u001b[2K\r",
      "b652ec3a27e7: Preparing \r",
      "\u001b[0B\u001b[3A\u001b[2K\r",
      "72482fe59c12: Pushing 66.05 kB/848 kB\r",
      "\u001b[3B\u001b[3A\u001b[2K\r",
      "72482fe59c12: Pushing 98.82 kB/848 kB\r",
      "\u001b[3B\u001b[3A\u001b[2K\r",
      "72482fe59c12: Pushing 131.6 kB/848 kB\r",
      "\u001b[3B\u001b[3A\u001b[2K\r",
      "72482fe59c12: Pushing 164.4 kB/848 kB\r",
      "\u001b[3B\u001b[3A\u001b[2K\r",
      "72482fe59c12: Pushing 197.1 kB/848 kB\r",
      "\u001b[3B\u001b[3A\u001b[2K\r",
      "72482fe59c12: Pushing 229.9 kB/848 kB\r",
      "\u001b[3B\u001b[3A\u001b[2K\r",
      "72482fe59c12: Pushing 262.7 kB/848 kB\r",
      "\u001b[3B\u001b[3A\u001b[2K\r",
      "72482fe59c12: Pushing 295.4 kB/848 kB\r",
      "\u001b[3B\u001b[3A\u001b[2K\r",
      "72482fe59c12: Pushing 328.2 kB/848 kB\r",
      "\u001b[3B\u001b[3A\u001b[2K\r",
      "72482fe59c12: Pushing   361 kB/848 kB\r",
      "\u001b[3B\u001b[3A\u001b[2K\r",
      "72482fe59c12: Pushing 393.7 kB/848 kB\r",
      "\u001b[3B\u001b[3A\u001b[2K\r",
      "72482fe59c12: Pushing 426.5 kB/848 kB\r",
      "\u001b[3B\u001b[3A\u001b[2K\r",
      "72482fe59c12: Pushing 459.3 kB/848 kB\r",
      "\u001b[3B\u001b[3A\u001b[2K\r",
      "72482fe59c12: Pushing   492 kB/848 kB\r",
      "\u001b[3B\u001b[3A\u001b[2K\r",
      "72482fe59c12: Pushing 524.8 kB/848 kB\r",
      "\u001b[3B\u001b[3A\u001b[2K\r",
      "72482fe59c12: Pushing 557.6 kB/848 kB\r",
      "\u001b[3B\u001b[3A\u001b[2K\r",
      "72482fe59c12: Pushing 590.3 kB/848 kB\r",
      "\u001b[3B\u001b[3A\u001b[2K\r",
      "72482fe59c12: Pushing 623.1 kB/848 kB\r",
      "\u001b[3B\u001b[3A\u001b[2K\r",
      "72482fe59c12: Pushing 655.9 kB/848 kB\r",
      "\u001b[3B\u001b[3A\u001b[2K\r",
      "72482fe59c12: Pushing 688.6 kB/848 kB\r",
      "\u001b[3B\u001b[3A\u001b[2K\r",
      "72482fe59c12: Pushing 721.4 kB/848 kB\r",
      "\u001b[3B\u001b[3A\u001b[2K\r",
      "72482fe59c12: Pushing 754.2 kB/848 kB\r",
      "\u001b[3B\u001b[3A\u001b[2K\r",
      "72482fe59c12: Pushing 786.9 kB/848 kB\r",
      "\u001b[3B\u001b[3A\u001b[2K\r",
      "72482fe59c12: Pushing 819.7 kB/848 kB\r",
      "\u001b[3B\u001b[3A\u001b[2K\r",
      "72482fe59c12: Pushing 848.5 kB\r",
      "\u001b[3B\u001b[3A\u001b[2K\r",
      "72482fe59c12: Pushing 849.9 kB\r",
      "\u001b[3B\u001b[1A\u001b[2K\r",
      "b652ec3a27e7: Layer already exists \r",
      "\u001b[1B\u001b[1A\u001b[2K\r",
      "b652ec3a27e7: Layer already exists \r",
      "\u001b[1B\u001b[2A\u001b[2K\r",
      "5f70bf18a086: Layer already exists \r",
      "\u001b[2B\u001b[2A\u001b[2K\r",
      "5f70bf18a086: Layer already exists \r",
      "\u001b[2B\u001b[3A\u001b[2K\r",
      "72482fe59c12: Pushed \r",
      "\u001b[3B\u001b[3A\u001b[2K\r",
      "72482fe59c12: Pushed \r",
      "\u001b[3BuserN: digest: sha256:8a2e3f3fae154e60e95adbbe95d4e67ada66c64adfbdbde4f5e56e8a56ac8a41 size: 3658\r\n"
     ]
    }
   ],
   "source": [
    "docker push dockerlabs/toolset:userN"
   ]
  },
  {
   "cell_type": "code",
   "execution_count": 50,
   "metadata": {
    "collapsed": false
   },
   "outputs": [
    {
     "name": "stdout",
     "output_type": "stream",
     "text": [
      "NAME                 DESCRIPTION   STARS     OFFICIAL   AUTOMATED\r\n",
      "dockerlabs/toolset                 0                    \r\n"
     ]
    }
   ],
   "source": [
    "docker search dockerlabs/"
   ]
  },
  {
   "cell_type": "code",
   "execution_count": 58,
   "metadata": {
    "collapsed": false
   },
   "outputs": [
    {
     "name": "stdout",
     "output_type": "stream",
     "text": [
      "Stopping any running containers (so we can remove dockerlabs/ image):\r\n",
      "Removing any stopped containers (so we can remove dockerlabs/ image):\r\n",
      "Should be no more containers running or stopped:\r\n"
     ]
    }
   ],
   "source": [
    "echo \"Stopping any running containers (so we can remove dockerlabs/ image):\"\n",
    "docker stop $(docker ps -q) 2>/dev/null\n",
    "\n",
    "echo \"Removing any stopped containers (so we can remove dockerlabs/ image):\"\n",
    "docker rm $(docker ps -qa) 2>/dev/null\n",
    "\n",
    "echo \"Should be no more containers running or stopped:\"\n",
    "docker ps -qa"
   ]
  },
  {
   "cell_type": "code",
   "execution_count": 59,
   "metadata": {
    "collapsed": false
   },
   "outputs": [
    {
     "name": "stdout",
     "output_type": "stream",
     "text": [
      "REPOSITORY           TAG                 IMAGE ID            CREATED             SIZE\r\n",
      "dockerlabs/toolset   userN               a4d24d8a628e        14 minutes ago      848.9 kB\r\n"
     ]
    }
   ],
   "source": [
    "docker images dockerlabs/*"
   ]
  },
  {
   "cell_type": "code",
   "execution_count": 61,
   "metadata": {
    "collapsed": false
   },
   "outputs": [
    {
     "name": "stdout",
     "output_type": "stream",
     "text": [
      "Untagged: dockerlabs/toolset:userN\r\n",
      "Deleted: sha256:a4d24d8a628e1a1438211e7138a274282de3787cce46fd9ed5cc89700144b8aa\r\n"
     ]
    }
   ],
   "source": [
    "docker rmi dockerlabs/toolset:userN"
   ]
  },
  {
   "cell_type": "code",
   "execution_count": 62,
   "metadata": {
    "collapsed": false
   },
   "outputs": [
    {
     "name": "stdout",
     "output_type": "stream",
     "text": [
      "REPOSITORY          TAG                 IMAGE ID            CREATED             SIZE\r\n"
     ]
    }
   ],
   "source": [
    "docker images dockerlabs/*"
   ]
  },
  {
   "cell_type": "code",
   "execution_count": 63,
   "metadata": {
    "collapsed": false
   },
   "outputs": [
    {
     "name": "stdout",
     "output_type": "stream",
     "text": [
      "Unable to find image 'dockerlabs/toolset:userN' locally\r\n",
      "userN: Pulling from dockerlabs/toolset\r\n",
      "\u001b[0B\r\n",
      "\u001b[0A\u001b[2K\r",
      "03f4658f8b78: Already exists \r",
      "\u001b[0B\r\n",
      "\u001b[0A\u001b[2K\r",
      "a3ed95caeb02: Already exists \r",
      "\u001b[0B\r\n",
      "\u001b[0A\u001b[2K\r",
      "81516d127a39: Already exists \r",
      "\u001b[0BDigest: sha256:8a2e3f3fae154e60e95adbbe95d4e67ada66c64adfbdbde4f5e56e8a56ac8a41\r\n",
      "Status: Downloaded newer image for dockerlabs/toolset:userN\r\n",
      "Hello World!!\r\n"
     ]
    }
   ],
   "source": [
    "docker run dockerlabs/toolset:userN"
   ]
  },
  {
   "cell_type": "code",
   "execution_count": 69,
   "metadata": {
    "collapsed": false
   },
   "outputs": [
    {
     "name": "stdout",
     "output_type": "stream",
     "text": [
      "REPOSITORY           TAG                 IMAGE ID            CREATED             SIZE\r\n",
      "dockerlabs/toolset   userN               a4d24d8a628e        15 minutes ago      848.9 kB\r\n"
     ]
    }
   ],
   "source": [
    "docker images dockerlabs/*"
   ]
  },
  {
   "cell_type": "code",
   "execution_count": 70,
   "metadata": {
    "collapsed": false
   },
   "outputs": [
    {
     "name": "stdout",
     "output_type": "stream",
     "text": [
      "Hello World!!\r\n"
     ]
    }
   ],
   "source": [
    "docker run dockerlabs/toolset:userN /helloWorld.exe"
   ]
  },
  {
   "cell_type": "code",
   "execution_count": 71,
   "metadata": {
    "collapsed": false
   },
   "outputs": [
    {
     "name": "stdout",
     "output_type": "stream",
     "text": [
      "\r\n",
      "Hello from Docker.\r\n",
      "This message shows that your installation appears to be working correctly.\r\n",
      "\r\n",
      "To generate this message, Docker took the following steps:\r\n",
      " 1. The Docker client contacted the Docker daemon.\r\n",
      " 2. The Docker daemon pulled the \"hello-world\" image from the Docker Hub.\r\n",
      " 3. The Docker daemon created a new container from that image which runs the\r\n",
      "    executable that produces the output you are currently reading.\r\n",
      " 4. The Docker daemon streamed that output to the Docker client, which sent it\r\n",
      "    to your terminal.\r\n",
      "\r\n",
      "To try something more ambitious, you can run an Ubuntu container with:\r\n",
      " $ docker run -it ubuntu bash\r\n",
      "\r\n",
      "Share images, automate workflows, and more with a free Docker Hub account:\r\n",
      " https://hub.docker.com\r\n",
      "\r\n",
      "For more examples and ideas, visit:\r\n",
      " https://docs.docker.com/userguide/\r\n",
      "\r\n"
     ]
    }
   ],
   "source": [
    "docker run dockerlabs/toolset:userN /hello"
   ]
  },
  {
   "cell_type": "markdown",
   "metadata": {},
   "source": [
    "<a name=\"build-best-practices\"/>\n",
    "## Dockerfile best practices\n",
    "[TOP](#TOP)\n",
    "\n",
    "<font size=+1 color=\"#77f\">\n",
    "<b>The goal of this step is to demonstrate certain Dockerfile optimizations.</b>\n",
    "</font>\n",
    "\n",
    "- group related commands together using '&&' to reduce image layers\n",
    "- if temporary files are to be removed\n"
   ]
  },
  {
   "cell_type": "code",
   "execution_count": 72,
   "metadata": {
    "collapsed": false
   },
   "outputs": [
    {
     "name": "stdout",
     "output_type": "stream",
     "text": [
      "\r\n",
      "FROM ubuntu\r\n",
      "\r\n",
      "MAINTAINER \"Docker Labs\" <dockerlabs@mjbright.net>\r\n",
      "\r\n",
      "#\r\n",
      "# Instead of perofmring the followinf commands individually which\r\n",
      "# involves creating a separate image layer for each RUN command:\r\n",
      "#   RUN apt-get update\r\n",
      "#   RUN apt-get -y -q upgrade\r\n",
      "#   RUN rm -rf /var/lib/apt/lists/*\r\n",
      "\r\n",
      "# Here we combine the update, upgrade and cleanup steps into one command\r\n",
      "# - This produces less image layers (better for disk space and performance)\r\n",
      "# - This keeps image smaller by removing temporary files in the same layer\r\n",
      "#     If we performed update/upgrade and then rm as a separate step there would\r\n",
      "#     be an intermediate layer including those files, making the overall image larger.\r\n",
      "#\r\n",
      "\r\n",
      "RUN apt-get update && apt-get -y -q upgrade && rm -rf /var/lib/apt/lists/*\r\n",
      "\r\n"
     ]
    }
   ],
   "source": [
    "cd ~/src/build-best-practices\n",
    "cat Dockerfile"
   ]
  },
  {
   "cell_type": "code",
   "execution_count": null,
   "metadata": {
    "collapsed": true
   },
   "outputs": [],
   "source": []
  },
  {
   "cell_type": "code",
   "execution_count": null,
   "metadata": {
    "collapsed": true
   },
   "outputs": [],
   "source": []
  },
  {
   "cell_type": "markdown",
   "metadata": {},
   "source": [
    "<a name=\"lang-stacks\" />\n",
    "## Using the official 'Language Stack' images\n",
    "[TOP](#TOP)\n",
    "\n",
    "<a name=\"medium-node\" />\n",
    "## Creating a Node.js application from the Node.js 'LanguageStack' Docker image\n",
    "[TOP](#TOP)\n",
    "\n",
    "Docker provide a set of *'Language Stacks'* which are medium sized images representing the necessary dependencies for a particular language.\n",
    "\n",
    "<font size=+1 color=\"#77f\">\n",
    "<b>The goal of this step is to demonstrate the use of Docker-provided *Language Stacks*.</b>\n",
    "</font>\n",
    "\n",
    "On the [Docker Hub](https://hub.docker.com/) we can find language stacks available for a variety of languages/environments, each with different release versions (Python 2.x and Python 3.x for example):\n",
    "- [Node.js (Javascript)](https://hub.docker.com/_/node/)\n",
    "- [Python](https://hub.docker.com/_/python/)\n",
    "- [Ruby](https://hub.docker.com/_/ruby/)\n",
    "\n",
    "You can browse the complete list of *'Official Images*' on the Docker Hub [here](https://hub.docker.com/explore/)\n",
    "\n",
    "Now let's look at an example of Node.js.\n",
    "To run a Node.js application this time we will need\n",
    "\n"
   ]
  },
  {
   "cell_type": "code",
   "execution_count": 73,
   "metadata": {
    "collapsed": false
   },
   "outputs": [
    {
     "name": "stdout",
     "output_type": "stream",
     "text": [
      "Using default tag: latest\r\n",
      "latest: Pulling from library/node\r\n",
      "\u001b[0B\r\n",
      "\u001b[0A\u001b[2K\r",
      "03e1855d4f31: Already exists \r",
      "\u001b[0B\r\n",
      "\u001b[0A\u001b[2K\r",
      "a3ed95caeb02: Already exists \r",
      "\u001b[0B\r\n",
      "\u001b[0A\u001b[2K\r",
      "9269ba3950bb: Already exists \r",
      "\u001b[0B\r\n",
      "\u001b[0A\u001b[2K\r",
      "6ecee6444751: Already exists \r",
      "\u001b[0B\r\n",
      "\u001b[0A\u001b[2K\r",
      "7a0c192d4d25: Already exists \r",
      "\u001b[0B\r\n",
      "\u001b[0A\u001b[2K\r",
      "9e9f27c61394: Already exists \r",
      "\u001b[0B\u001b[5A\u001b[2K\r",
      "a3ed95caeb02: Already exists \r",
      "\u001b[5B\u001b[5A\u001b[2K\r",
      "a3ed95caeb02: Already exists \r",
      "\u001b[5B\r\n",
      "\u001b[0A\u001b[2K\r",
      "bb0313a49384: Already exists \r",
      "\u001b[0B\u001b[6A\u001b[2K\r",
      "a3ed95caeb02: Already exists \r",
      "\u001b[6BDigest: sha256:1bdda7cdd0a8f9c44ac6f51c77de9f42ed3f62efdf557dba6bcca675084de1bd\r\n",
      "Status: Image is up to date for node:latest\r\n",
      "\r\n",
      "real\t0m6.998s\r\n",
      "user\t0m0.034s\r\n",
      "sys\t0m0.009s\r\n"
     ]
    }
   ],
   "source": [
    "time docker pull node"
   ]
  },
  {
   "cell_type": "code",
   "execution_count": 74,
   "metadata": {
    "collapsed": false
   },
   "outputs": [
    {
     "name": "stdout",
     "output_type": "stream",
     "text": [
      "REPOSITORY          TAG                 IMAGE ID            CREATED             SIZE\r\n",
      "node                latest              baa18fdeb577        7 days ago          643 MB\r\n"
     ]
    }
   ],
   "source": [
    "docker images node"
   ]
  },
  {
   "cell_type": "code",
   "execution_count": 75,
   "metadata": {
    "collapsed": false
   },
   "outputs": [
    {
     "name": "stdout",
     "output_type": "stream",
     "text": [
      "IMAGE               CREATED             CREATED BY                                      SIZE                COMMENT\r\n",
      "baa18fdeb577        7 days ago          /bin/sh -c #(nop) CMD [\"node\"]                  0 B                 \r\n",
      "<missing>           7 days ago          /bin/sh -c curl -SLO \"https://nodejs.org/dist   36.39 MB            \r\n",
      "<missing>           7 days ago          /bin/sh -c #(nop) ENV NODE_VERSION=5.5.0        0 B                 \r\n",
      "<missing>           7 days ago          /bin/sh -c #(nop) ENV NPM_CONFIG_LOGLEVEL=inf   0 B                 \r\n",
      "<missing>           7 days ago          /bin/sh -c set -ex   && for key in     9554F0   51.75 kB            \r\n",
      "<missing>           8 days ago          /bin/sh -c apt-get update && apt-get install    314.6 MB            \r\n",
      "<missing>           8 days ago          /bin/sh -c apt-get update && apt-get install    122.6 MB            \r\n",
      "<missing>           8 days ago          /bin/sh -c apt-get update && apt-get install    44.28 MB            \r\n",
      "<missing>           8 days ago          /bin/sh -c #(nop) CMD [\"/bin/bash\"]             0 B                 \r\n",
      "<missing>           8 days ago          /bin/sh -c #(nop) ADD file:e5a3d20748c5d3dd5f   125.1 MB            \r\n"
     ]
    }
   ],
   "source": [
    "docker history node"
   ]
  },
  {
   "cell_type": "code",
   "execution_count": 76,
   "metadata": {
    "collapsed": false
   },
   "outputs": [
    {
     "name": "stdout",
     "output_type": "stream",
     "text": [
      "total 12\r\n",
      "drwxr-xr-x 2 root root  40 Feb  3 09:41 src\r\n",
      "-rw-r--r-- 1 root root 116 Feb  3 09:41 README.md\r\n",
      "-rw-r--r-- 1 root root 389 Feb  3 09:41 Dockerfile\r\n",
      "-rw-r--r-- 1 root root  78 Feb  3 09:41 build_run.sh\r\n",
      "drwxr-xr-x 9 root root 138 Feb  3 09:41 ..\r\n",
      "drwxr-xr-x 3 root root  68 Feb  3 09:41 .\r\n"
     ]
    }
   ],
   "source": [
    "cd ~/src/nodeJS/\n",
    "ls -altr"
   ]
  },
  {
   "cell_type": "code",
   "execution_count": 77,
   "metadata": {
    "collapsed": false
   },
   "outputs": [
    {
     "name": "stdout",
     "output_type": "stream",
     "text": [
      "\r\n",
      "# use our prepared Raspberry Pi compatible Docker base image with Node.js\r\n",
      "FROM node\r\n",
      "\r\n",
      "# make the src folder available in the docker image\r\n",
      "ADD src/ /src\r\n",
      "\r\n",
      "\r\n",
      "WORKDIR /src\r\n",
      "\r\n",
      "# install the dependencies from the package.json file\r\n",
      "RUN npm install\r\n",
      "\r\n",
      "# make port 80 available outside of the image\r\n",
      "EXPOSE 80\r\n",
      "\r\n",
      "# start node with the index.js file of our hello-world application\r\n",
      "CMD [\"node\", \"index.js\"]\r\n",
      "\r\n"
     ]
    }
   ],
   "source": [
    "cat Dockerfile"
   ]
  },
  {
   "cell_type": "code",
   "execution_count": 79,
   "metadata": {
    "collapsed": false
   },
   "outputs": [
    {
     "name": "stdout",
     "output_type": "stream",
     "text": [
      "Sending build context to Docker daemon 6.656 kB\r",
      "\r",
      "\r\n",
      "Step 1 : FROM node\r\n",
      " ---> baa18fdeb577\r\n",
      "Step 2 : ADD src/ /src\r\n",
      " ---> Using cache\r\n",
      " ---> ba5c0d52c61b\r\n",
      "Step 3 : WORKDIR /src\r\n",
      " ---> Using cache\r\n",
      " ---> 243412a35ad4\r\n",
      "Step 4 : RUN npm install\r\n",
      " ---> Using cache\r\n",
      " ---> 74bda417ede7\r\n",
      "Step 5 : EXPOSE 80\r\n",
      " ---> Using cache\r\n",
      " ---> 44a4c1951ddf\r\n",
      "Step 6 : CMD node index.js\r\n",
      " ---> Using cache\r\n",
      " ---> 98669ac8c83f\r\n",
      "Successfully built 98669ac8c83f\r\n"
     ]
    }
   ],
   "source": [
    "docker build -t node-hello ."
   ]
  },
  {
   "cell_type": "code",
   "execution_count": 80,
   "metadata": {
    "collapsed": false
   },
   "outputs": [
    {
     "name": "stdout",
     "output_type": "stream",
     "text": [
      "ee8819187fd94524e6477398bde6bb0dadf5cd75af8e3a51004fd8990c89b631\r\n"
     ]
    }
   ],
   "source": [
    "docker run -p 80:80 --name web -d node-hello"
   ]
  },
  {
   "cell_type": "code",
   "execution_count": 81,
   "metadata": {
    "collapsed": false
   },
   "outputs": [
    {
     "name": "stdout",
     "output_type": "stream",
     "text": [
      "<html><body>Hello from Node.js container ee8819187fd9</body></html>"
     ]
    }
   ],
   "source": [
    "curl http://localhost"
   ]
  },
  {
   "cell_type": "markdown",
   "metadata": {},
   "source": [
    "<a name=\"medium-python\"/>\n",
    "## Creating a Python application from the Python 'LanguageStack' Docker image\n",
    "[TOP](#TOP)\n",
    "\n",
    "<font size=+1 color=\"#77f\">\n",
    "<b>The goal of this step is to demonstrate the use of the Python *Language Stack*.</b>\n",
    "</font>\n",
    "\n",
    "Now let's look at a Python example.\n",
    "To run a Node.js application this time we will need\n"
   ]
  },
  {
   "cell_type": "markdown",
   "metadata": {
    "collapsed": true
   },
   "source": [
    "Let's pull and examine the official 'Docker Language Stack' image of Python\n",
    "\n",
    "Note how the earliest image layers (at the bottom of the list) have the same image ids\n",
    "as the earliest image layers of the Node;js image.\n",
    "\n",
    "So we can see that they were both created from the same base."
   ]
  },
  {
   "cell_type": "code",
   "execution_count": 82,
   "metadata": {
    "collapsed": false
   },
   "outputs": [
    {
     "name": "stdout",
     "output_type": "stream",
     "text": [
      "Using default tag: latest\r\n",
      "latest: Pulling from library/python\r\n",
      "\u001b[0B\r\n",
      "\u001b[0A\u001b[2K\r",
      "03e1855d4f31: Already exists \r",
      "\u001b[0B\r\n",
      "\u001b[0A\u001b[2K\r",
      "a3ed95caeb02: Already exists \r",
      "\u001b[0B\r\n",
      "\u001b[0A\u001b[2K\r",
      "9269ba3950bb: Already exists \r",
      "\u001b[0B\r\n",
      "\u001b[0A\u001b[2K\r",
      "6ecee6444751: Already exists \r",
      "\u001b[0B\r\n",
      "\u001b[0A\u001b[2K\r",
      "7a0c192d4d25: Already exists \r",
      "\u001b[0B\r\n",
      "\u001b[0A\u001b[2K\r",
      "5d45fb7887b4: Already exists \r",
      "\u001b[0B\u001b[5A\u001b[2K\r",
      "a3ed95caeb02: Already exists \r",
      "\u001b[5B\u001b[5A\u001b[2K\r",
      "a3ed95caeb02: Already exists \r",
      "\u001b[5B\u001b[5A\u001b[2K\r",
      "a3ed95caeb02: Already exists \r",
      "\u001b[5B\u001b[5A\u001b[2K\r",
      "a3ed95caeb02: Already exists \r",
      "\u001b[5B\r\n",
      "\u001b[0A\u001b[2K\r",
      "66777d6149f5: Already exists \r",
      "\u001b[0B\r\n",
      "\u001b[0A\u001b[2K\r",
      "999da6930e9c: Already exists \r",
      "\u001b[0B\u001b[7A\u001b[2K\r",
      "a3ed95caeb02: Already exists \r",
      "\u001b[7BDigest: sha256:4651b83dd903ce78b1c455794f63d4108d9469a6c7fe97cd07d08a77b7e72435\r\n",
      "Status: Image is up to date for python:latest\r\n",
      "\r\n",
      "real\t0m2.497s\r\n",
      "user\t0m0.030s\r\n",
      "sys\t0m0.011s\r\n"
     ]
    }
   ],
   "source": [
    "time docker pull python"
   ]
  },
  {
   "cell_type": "code",
   "execution_count": 83,
   "metadata": {
    "collapsed": false
   },
   "outputs": [
    {
     "name": "stdout",
     "output_type": "stream",
     "text": [
      "REPOSITORY          TAG                 IMAGE ID            CREATED             SIZE\r\n",
      "python              latest              93049cc049a6        7 days ago          689.1 MB\r\n"
     ]
    }
   ],
   "source": [
    "docker images python"
   ]
  },
  {
   "cell_type": "code",
   "execution_count": 85,
   "metadata": {
    "collapsed": false
   },
   "outputs": [
    {
     "name": "stdout",
     "output_type": "stream",
     "text": [
      "IMAGE               CREATED             CREATED BY                                      SIZE                COMMENT\r\n",
      "93049cc049a6        7 days ago          /bin/sh -c #(nop) CMD [\"python3\"]               0 B                 \r\n",
      "<missing>           7 days ago          /bin/sh -c cd /usr/local/bin  && ln -s easy_i   0 B                 \r\n",
      "<missing>           7 days ago          /bin/sh -c set -ex  && gpg --keyserver ha.poo   81.53 MB            \r\n",
      "<missing>           7 days ago          /bin/sh -c #(nop) ENV PYTHON_PIP_VERSION=7.1.   0 B                 \r\n",
      "<missing>           7 days ago          /bin/sh -c #(nop) ENV PYTHON_VERSION=3.5.1      0 B                 \r\n",
      "<missing>           7 days ago          /bin/sh -c #(nop) ENV GPG_KEY=97FC712E4C024BB   0 B                 \r\n",
      "<missing>           7 days ago          /bin/sh -c #(nop) ENV LANG=C.UTF-8              0 B                 \r\n",
      "<missing>           7 days ago          /bin/sh -c apt-get purge -y python.*            978.7 kB            \r\n",
      "<missing>           8 days ago          /bin/sh -c apt-get update && apt-get install    314.6 MB            \r\n",
      "<missing>           8 days ago          /bin/sh -c apt-get update && apt-get install    122.6 MB            \r\n",
      "<missing>           8 days ago          /bin/sh -c apt-get update && apt-get install    44.28 MB            \r\n",
      "<missing>           8 days ago          /bin/sh -c #(nop) CMD [\"/bin/bash\"]             0 B                 \r\n",
      "<missing>           8 days ago          /bin/sh -c #(nop) ADD file:e5a3d20748c5d3dd5f   125.1 MB            \r\n"
     ]
    }
   ],
   "source": [
    "docker history python"
   ]
  },
  {
   "cell_type": "code",
   "execution_count": 88,
   "metadata": {
    "collapsed": false
   },
   "outputs": [
    {
     "name": "stdout",
     "output_type": "stream",
     "text": [
      "Python 3.5.1\r\n"
     ]
    }
   ],
   "source": [
    "docker run python python --version"
   ]
  },
  {
   "cell_type": "markdown",
   "metadata": {},
   "source": [
    "# TODO pip requirements.txt for flask ...\n"
   ]
  },
  {
   "cell_type": "markdown",
   "metadata": {},
   "source": [
    "#### Dockerfile\n",
    "\n",
    "Images are built from Dockerfiles which contain a series of commands used to build up a docker image.\n",
    "Note that each command in the Dockerfile results in a new image layer being created, no matter how trivial the command - even ENV \"commands\" create a nw image layer.\n",
    "\n",
    "In the following lab we will see how images can be built systematically from a Dockerfile using the 'docker build' command.\n",
    "\n",
    "#### DockerHub\n",
    "\n",
    "When we pull an image we pull it from a Docker Registry.  The [DockerHub](https://hub.docker.com/) is a free to use Docker registry allowing to store your own image files (which are publicly available unless you pay for your account) and to pull other image files of other users or officially provided images.\n",
    "\n",
    "You can create images either by\n",
    "- building them from a Dockerfile (thus in a **repeatable** manner)\n",
    "- building them manually by modifying a running container and *'commit'*ing it's state\n",
    "\n",
    "The DockerHub contains images which may be\n",
    "- **Automated builds** (built from a git repository)\n",
    "  - Such builds are usually built from an open-source git repo and so are called **Trusted huilds** because the source code is available.\n",
    "    *Note:* The github repo may contain binary files though\n",
    "- **Official builds** are builds which are builds provided by partners or by Docker themselves\n",
    "\n",
    "Other images may exist in the hub but their origin is unknown and so represent a security risk.\n",
    "\n",
    "It is possible to search the DockerHub, or another Docker Registry, using the 'docker search' command with appropriate options.  Other companies offer their own Docker Registry which may be freely accessible e.g. RedHat, internal to a company e.g. HPE IT, or available as part of a paid for service e.g. IBM or Amawon Web Services ECR.\n"
   ]
  },
  {
   "cell_type": "markdown",
   "metadata": {},
   "source": [
    "# Lab-p2\n",
    "## Docker Builds\n",
    "\n",
    "## Simple Docker Build\n",
    "\n",
    "Let's start by creating a minimal Dockerfile which builds on the Python image we downloaded earlier"
   ]
  },
  {
   "cell_type": "code",
   "execution_count": 90,
   "metadata": {
    "collapsed": false
   },
   "outputs": [
    {
     "name": "stdout",
     "output_type": "stream",
     "text": []
    }
   ],
   "source": [
    "mkdir -p ~/test\n",
    "cd    ~/test\n",
    "\n",
    "cat > Dockerfile.basic <<EOF\n",
    "#\n",
    "# Dockerfile to demonstrate the simplest build\n",
    "#\n",
    "FROM python\n",
    "\n",
    "MAINTAINER \"xxx\"\n",
    "\n",
    "RUN python --version\n",
    "\n",
    "CMD bash\n",
    "\n",
    "EOF"
   ]
  },
  {
   "cell_type": "markdown",
   "metadata": {},
   "source": [
    "    - First see what images are present\n",
    "    - Build a simple image based on ... medium size\n",
    "    - Observe build process\n",
    "    - Modify Dockerfile\n",
    "    - Rebuild - observe caching\n",
    "    - Move order in Dockerfile\n",
    "    - Rebuild\n",
    "    - Rebuild with no caching\n",
    "    - Perform Docker image\n",
    "    - Perform docker image -a\n",
    "    - Perform docker history"
   ]
  },
  {
   "cell_type": "code",
   "execution_count": 91,
   "metadata": {
    "collapsed": false
   },
   "outputs": [
    {
     "name": "stdout",
     "output_type": "stream",
     "text": [
      "-rw-r--r-- 1 root root 114 Feb  3 11:05 Dockerfile.basic\r\n"
     ]
    }
   ],
   "source": [
    "ls -altr Dockerfile.basic"
   ]
  },
  {
   "cell_type": "markdown",
   "metadata": {},
   "source": [
    "We can now build a new image using this dockerfile using the below command where\n",
    "- we explicitly select the Dockerfile.basic which we just created\n",
    "- we specify the current directory as the context for the build (any ADD/COPY or Dockerfile files will be sourced from here)\n",
    "- we specify the specific tag to se for the generated image as \"*lab/basic*\""
   ]
  },
  {
   "cell_type": "code",
   "execution_count": 92,
   "metadata": {
    "collapsed": false
   },
   "outputs": [
    {
     "name": "stdout",
     "output_type": "stream",
     "text": [
      "Sending build context to Docker daemon 2.048 kB\r",
      "\r",
      "\r\n",
      "Step 1 : FROM python\r\n",
      " ---> 93049cc049a6\r\n",
      "Step 2 : MAINTAINER \"xxx\"\r\n",
      " ---> Running in c3bb63d26256\r\n",
      " ---> ec5d65810b38\r\n",
      "Removing intermediate container c3bb63d26256\r\n",
      "Step 3 : RUN python --version\r\n",
      " ---> Running in 6e5a0212be80\r\n",
      "Python 3.5.1\r\n",
      " ---> b1c14eb86e52\r\n",
      "Removing intermediate container 6e5a0212be80\r\n",
      "Step 4 : CMD bash\r\n",
      " ---> Running in d1680cde5e20\r\n",
      " ---> 1b368d84ada6\r\n",
      "Removing intermediate container d1680cde5e20\r\n",
      "Successfully built 1b368d84ada6\r\n"
     ]
    }
   ],
   "source": [
    "docker build -f Dockerfile.basic -t lab/basic . "
   ]
  },
  {
   "cell_type": "markdown",
   "metadata": {},
   "source": [
    "Note that during the build, the RUN commands are actually run.\n",
    "\n",
    "They are used to build up this new image.\n",
    "\n",
    "In this case we echo the 'Python' version string during the build process.\n",
    "\n",
    "You can see the available options to the build command by issuing\n",
    " 'docker build --help'"
   ]
  },
  {
   "cell_type": "code",
   "execution_count": 93,
   "metadata": {
    "collapsed": false
   },
   "outputs": [
    {
     "name": "stdout",
     "output_type": "stream",
     "text": [
      "\r\n",
      "Usage:\tdocker build [OPTIONS] PATH | URL | -\r\n",
      "\r\n",
      "Build an image from a Dockerfile\r\n",
      "\r\n",
      "  --build-arg=[]                  Set build-time variables\r\n",
      "  --cpu-shares                    CPU shares (relative weight)\r\n",
      "  --cgroup-parent                 Optional parent cgroup for the container\r\n",
      "  --cpu-period                    Limit the CPU CFS (Completely Fair Scheduler) period\r\n",
      "  --cpu-quota                     Limit the CPU CFS (Completely Fair Scheduler) quota\r\n",
      "  --cpuset-cpus                   CPUs in which to allow execution (0-3, 0,1)\r\n",
      "  --cpuset-mems                   MEMs in which to allow execution (0-3, 0,1)\r\n",
      "  --disable-content-trust=true    Skip image verification\r\n",
      "  -f, --file                      Name of the Dockerfile (Default is 'PATH/Dockerfile')\r\n",
      "  --force-rm                      Always remove intermediate containers\r\n",
      "  --help                          Print usage\r\n",
      "  --isolation                     Container isolation level\r\n",
      "  -m, --memory                    Memory limit\r\n",
      "  --memory-swap                   Swap limit equal to memory plus swap: '-1' to enable unlimited swap\r\n",
      "  --no-cache                      Do not use cache when building the image\r\n",
      "  --pull                          Always attempt to pull a newer version of the image\r\n",
      "  -q, --quiet                     Suppress the build output and print image ID on success\r\n",
      "  --rm=true                       Remove intermediate containers after a successful build\r\n",
      "  --shm-size                      Size of /dev/shm, default value is 64MB\r\n",
      "  -t, --tag=[]                    Name and optionally a tag in the 'name:tag' format\r\n",
      "  --ulimit=[]                     Ulimit options\r\n"
     ]
    }
   ],
   "source": [
    "docker build --help"
   ]
  },
  {
   "cell_type": "markdown",
   "metadata": {},
   "source": [
    "We can see all the images available using the\n",
    " 'docker images' command\n",
    " \n",
    "but if there are many, how do we see just our newly-created image?\n",
    "\n",
    "You can see the available options to the images command by issuing\n",
    " 'docker images --help'"
   ]
  },
  {
   "cell_type": "code",
   "execution_count": 94,
   "metadata": {
    "collapsed": false
   },
   "outputs": [
    {
     "name": "stdout",
     "output_type": "stream",
     "text": [
      "\r\n",
      "Usage:\tdocker images [OPTIONS] [REPOSITORY[:TAG]]\r\n",
      "\r\n",
      "List images\r\n",
      "\r\n",
      "  -a, --all          Show all images (default hides intermediate images)\r\n",
      "  --digests          Show digests\r\n",
      "  -f, --filter=[]    Filter output based on conditions provided\r\n",
      "  --format           Pretty-print images using a Go template\r\n",
      "  --help             Print usage\r\n",
      "  --no-trunc         Don't truncate output\r\n",
      "  -q, --quiet        Only show numeric IDs\r\n"
     ]
    }
   ],
   "source": [
    "docker images --help"
   ]
  },
  {
   "cell_type": "markdown",
   "metadata": {},
   "source": [
    "So you can see your newly built 'lab/basic' with the following command:"
   ]
  },
  {
   "cell_type": "code",
   "execution_count": 95,
   "metadata": {
    "collapsed": false
   },
   "outputs": [
    {
     "name": "stdout",
     "output_type": "stream",
     "text": [
      "REPOSITORY          TAG                 IMAGE ID            CREATED             SIZE\r\n",
      "lab/basic           latest              1b368d84ada6        16 seconds ago      689.1 MB\r\n"
     ]
    }
   ],
   "source": [
    "docker images lab/basic"
   ]
  },
  {
   "cell_type": "markdown",
   "metadata": {},
   "source": [
    "Note that if you rerun the build command, the build should run faster, you will notice how build steps recognize that this step has already been performed and so will use the image layer already available in the local cache."
   ]
  },
  {
   "cell_type": "markdown",
   "metadata": {},
   "source": [
    "Now let us see what happens if we modify our Dockerfile, by inserting a line, such as defining an environment variable.\n",
    "\n",
    "We will use the same Dockerfile, but this time we will insert an \"ENV\" line\n"
   ]
  },
  {
   "cell_type": "code",
   "execution_count": 96,
   "metadata": {
    "collapsed": false
   },
   "outputs": [
    {
     "name": "stdout",
     "output_type": "stream",
     "text": []
    }
   ],
   "source": [
    "cd ~/test/\n",
    "\n",
    "cat > Dockerfile.basic <<EOF\n",
    "#\n",
    "# Dockerfile to demonstrate the simplest build (with ENV line added)\n",
    "#\n",
    "FROM python\n",
    "\n",
    "MAINTAINER \"DockerLabs\" <dockerlabs@mjbright.net>\n",
    "\n",
    "RUN python --version\n",
    "\n",
    "ENV myvar \"this will force rebuilding from here on\"\n",
    "\n",
    "CMD bash\n",
    "\n",
    "EOF"
   ]
  },
  {
   "cell_type": "markdown",
   "metadata": {},
   "source": [
    "This time when we build the image we will see that the addition of a line between the \"RUN\" line and the \"CMD\" line forces rebuild of subsequent image layers.\n",
    "\n",
    "**We see 'Using cache' for Step 2 and 3 only**"
   ]
  },
  {
   "cell_type": "code",
   "execution_count": 97,
   "metadata": {
    "collapsed": false
   },
   "outputs": [
    {
     "name": "stdout",
     "output_type": "stream",
     "text": [
      "Sending build context to Docker daemon 2.048 kB\r",
      "\r",
      "\r\n",
      "Step 1 : FROM python\r\n",
      " ---> 93049cc049a6\r\n",
      "Step 2 : MAINTAINER \"DockerLabs\" <dockerlabs@mjbright.net>\r\n",
      " ---> Running in bb0602e5596f\r\n",
      " ---> 6da65a9722fe\r\n",
      "Removing intermediate container bb0602e5596f\r\n",
      "Step 3 : RUN python --version\r\n",
      " ---> Running in 4412f017c0ac\r\n",
      "Python 3.5.1\r\n",
      " ---> 83da98265e4a\r\n",
      "Removing intermediate container 4412f017c0ac\r\n",
      "Step 4 : ENV myvar \"this will force rebuilding from here on\"\r\n",
      " ---> Running in 6d8793770bcf\r\n",
      " ---> 48697677765b\r\n",
      "Removing intermediate container 6d8793770bcf\r\n",
      "Step 5 : CMD bash\r\n",
      " ---> Running in a44b13f88b1e\r\n",
      " ---> 112fa211f559\r\n",
      "Removing intermediate container a44b13f88b1e\r\n",
      "Successfully built 112fa211f559\r\n"
     ]
    }
   ],
   "source": [
    "docker build -f Dockerfile.basic -t lab/basic . "
   ]
  },
  {
   "cell_type": "markdown",
   "metadata": {},
   "source": [
    "Similarly we can force to not use the cache with the --no-cache option.\n",
    "\n",
    "This could be useful if we suspect the caching is not working properly due to some external change."
   ]
  },
  {
   "cell_type": "code",
   "execution_count": 98,
   "metadata": {
    "collapsed": false
   },
   "outputs": [
    {
     "name": "stdout",
     "output_type": "stream",
     "text": [
      "Sending build context to Docker daemon 2.048 kB\r",
      "\r",
      "\r\n",
      "Step 1 : FROM python\r\n",
      " ---> 93049cc049a6\r\n",
      "Step 2 : MAINTAINER \"DockerLabs\" <dockerlabs@mjbright.net>\r\n",
      " ---> Running in eb5340cef464\r\n",
      " ---> 0af64debb142\r\n",
      "Removing intermediate container eb5340cef464\r\n",
      "Step 3 : RUN python --version\r\n",
      " ---> Running in 4cfe378cf35d\r\n",
      "Python 3.5.1\r\n",
      " ---> 111f9016cc75\r\n",
      "Removing intermediate container 4cfe378cf35d\r\n",
      "Step 4 : ENV myvar \"this will force rebuilding from here on\"\r\n",
      " ---> Running in c9ef42b46cc9\r\n",
      " ---> 6f525f258a30\r\n",
      "Removing intermediate container c9ef42b46cc9\r\n",
      "Step 5 : CMD bash\r\n",
      " ---> Running in 8a45f8805f28\r\n",
      " ---> 30f6d0c187c3\r\n",
      "Removing intermediate container 8a45f8805f28\r\n",
      "Successfully built 30f6d0c187c3\r\n"
     ]
    }
   ],
   "source": [
    "docker build --no-cache=true -f Dockerfile.basic -t lab/basic . "
   ]
  },
  {
   "cell_type": "code",
   "execution_count": 99,
   "metadata": {
    "collapsed": false
   },
   "outputs": [
    {
     "name": "stdout",
     "output_type": "stream",
     "text": [
      "REPOSITORY          TAG                 IMAGE ID            CREATED             SIZE\r\n",
      "lab/basic           latest              30f6d0c187c3        6 seconds ago       689.1 MB\r\n"
     ]
    }
   ],
   "source": [
    "docker images lab/basic"
   ]
  },
  {
   "cell_type": "markdown",
   "metadata": {},
   "source": [
    "  \n",
    "## More complex Docker Builds\n",
    "    - extending a Dockerfile (\"inheritance\")\n",
    "\n",
    "  - Building from different base images\n",
    "    - e.g. from Alpine\n",
    "\n",
    "  - Build from Language Stack\n",
    "    - e.g. build a node application from Node language stack\n",
    "    - e.g. build a Go   application from Go   language stack\n",
    "\n",
    "  - Availability of diverse (official/trusted) images\n",
    "    - Do some MongoDB or something ...\n",
    "    - simple web server, multi-tier??\n",
    "\n",
    "- #### Docker Small Builds\n",
    "  - Build a small image\n",
    "    Miniature web server?\n",
    "\n",
    "  - Build a small Go image (using a Go container to build)\n",
    "    - Show how image is small\n",
    "    - underline how we didn't need to install a compiler natively\n",
    "    - Build an incremental image based on this\n",
    "\n",
    "  - Perform a cross-compilation for Raspberry Pi (need a large image pre-loaded)\n",
    "    - Perform file on a.out to show architecture\n",
    "    - not yet a way of seeing architecture of image (either locally or on DockerHub)\n",
    "    - pull/run an ARM docker image (smallest Hypriot)"
   ]
  },
  {
   "cell_type": "code",
   "execution_count": null,
   "metadata": {
    "collapsed": true
   },
   "outputs": [],
   "source": []
  },
  {
   "cell_type": "markdown",
   "metadata": {},
   "source": [
    "# Docker Automated Builds\n",
    "  - Create an account on DockerHub if necessary\n",
    "    - **OR** reuse\n",
    "      - Your own account\n",
    "      - or reuse lab account **hpe_tss_lab**\n",
    "    - Push a **small** image to DockerHub\n",
    "      - if using lab account - name your image as **userN** where N is your pod number\n",
    "    - Pull the image\n",
    "    - Look at GMail account ?? (optional - confusing, conflicting ... in separate browser)\n",
    "\n",
    "  - Create an automated build on DockerHub\n",
    "    - Create a github account if necessary\n",
    "      - **OR** reuse\n",
    "        - Your own account\n",
    "        - or reuse lab account **hpe_tss_lab**\n",
    "    - Create a repo\n",
    "      - if using lab account - name your repo as **userN** where N is your pod number\n",
    "    - Checkout repo\n",
    "    - Create a Dockerfile, complete it\n",
    "    - commit/push repo\n",
    "    - On DockerHub create automated build\n",
    "    - Perform initial build\n",
    "    - See \"build log\"\n",
    "    - Modify Dockerfile\n",
    "    - commit/push repo\n",
    "    - See \"build log\""
   ]
  },
  {
   "cell_type": "code",
   "execution_count": null,
   "metadata": {
    "collapsed": true
   },
   "outputs": [],
   "source": []
  },
  {
   "cell_type": "markdown",
   "metadata": {},
   "source": [
    "# Docker-compose example: TODO\n",
    "\n",
    "Extend it with different backends\n",
    "- Node\n",
    "- Python server\n",
    "- ??"
   ]
  },
  {
   "cell_type": "markdown",
   "metadata": {},
   "source": [
    "# Example\n",
    "<a href=\"#TOP\">TOP</a>\n",
    "\n",
    "This example heavily inspired from this article [microservice with rails and Docker](http://blog.giantswarm.io/getting-started-with-microservices-using-ruby-on-rails-and-docker/) ... but not complete, too cloudy ...\n",
    "\n",
    "<font size=+1 color=\"#77f\">\n",
    "<b>The goal of this step is ...</b>   \n",
    "</font>"
   ]
  },
  {
   "cell_type": "code",
   "execution_count": 101,
   "metadata": {
    "collapsed": false
   },
   "outputs": [
    {
     "name": "stdout",
     "output_type": "stream",
     "text": []
    }
   ],
   "source": [
    "mkdir -p ~/test/nginx\n",
    "\n",
    "cd ~/test/nginx\n",
    "\n",
    "cat > Dockerfile <<EOF\n",
    "FROM nginx\n",
    "\n",
    "RUN rm -rf /usr/share/nginx/html\n",
    "COPY public /usr/share/nginx/html\n",
    "COPY config/deploy/nginx.conf /etc/nginx/conf.d/default.conf\n",
    "EOF"
   ]
  },
  {
   "cell_type": "markdown",
   "metadata": {},
   "source": [
    "A Dockerfile always starts with the FROM instruction. It tells Docker, which image is the base to be used. Additionally, we will just COPY the public folder and the configuration into the image. As I said before containers should be treated as immutable and due to this, we need to create a new image whenever we change the assets. The nginx config itself is pretty straight forward:"
   ]
  },
  {
   "cell_type": "code",
   "execution_count": 102,
   "metadata": {
    "collapsed": false
   },
   "outputs": [
    {
     "name": "stdout",
     "output_type": "stream",
     "text": []
    }
   ],
   "source": [
    "cat > 03_nginx_config.conf <<EOF\n",
    "server {\n",
    "    listen       80;\n",
    "    server_name  localhost;\n",
    "\n",
    "    location / {\n",
    "        root      /usr/share/nginx/html;\n",
    "        index     index.html index.htm;\n",
    "        try_files $uri/index.html $uri.html $uri @upstream;\n",
    "    }\n",
    "\n",
    "    location @upstream {\n",
    "        proxy_pass http://rails-app:8080;\n",
    "    }\n",
    "}\n",
    "EOF"
   ]
  },
  {
   "cell_type": "code",
   "execution_count": 103,
   "metadata": {
    "collapsed": false
   },
   "outputs": [
    {
     "name": "stdout",
     "output_type": "stream",
     "text": []
    }
   ],
   "source": [
    "cat > Dockerfile.rails <<EOF\n",
    "FROM ruby:2.1.5\n",
    "\n",
    "# throw errors if Gemfile has been modified since Gemfile.lock\n",
    "RUN bundle config --global frozen 1\n",
    "\n",
    "RUN mkdir -p /usr/src/app\n",
    "WORKDIR /usr/src/app\n",
    "\n",
    "COPY Gemfile /usr/src/app/\n",
    "COPY Gemfile.lock /usr/src/app/\n",
    "\n",
    "RUN bundle install --deployment\n",
    "\n",
    "COPY . /usr/src/app/\n",
    "\n",
    "ENV RAILS_ENV production\n",
    "\n",
    "EXPOSE 8080\n",
    "\n",
    "CMD [\"/usr/src/app/bin/rails\", \"server\", \"-p\", \"8080\"]\n",
    "EOF"
   ]
  },
  {
   "cell_type": "code",
   "execution_count": 104,
   "metadata": {
    "collapsed": false
   },
   "outputs": [
    {
     "name": "stdout",
     "output_type": "stream",
     "text": []
    }
   ],
   "source": [
    "cat > rake_tasks.rb <<EOF\n",
    "namespace :docker do\n",
    "  task :build => ['docker:build:web', 'docker:build:app', 'docker:build:worker', 'assets:clobber']\n",
    "\n",
    "  namespace :build do\n",
    "    task :web => ['assets:precompile', 'assets:clean'] do\n",
    "      sh 'ln -snf Dockerfile.web Dockerfile'\n",
    "      sh 'sudo docker build -t \"registry.giantswarm.io/yoshida/gh-recommender-web\" .'\n",
    "      sh 'rm -f Dockerfile'\n",
    "    end\n",
    "    \n",
    "    task :app => ['assets:precompile', 'assets:clean'] do\n",
    "      sh 'ln -snf Dockerfile.app Dockerfile'\n",
    "      sh 'sudo docker build -t \"registry.giantswarm.io/yoshida/gh-recommender-app\" .'\n",
    "      sh 'rm -f Dockerfile'\n",
    "    end\n",
    "\n",
    "    task :worker do\n",
    "      sh 'ln -snf Dockerfile.worker Dockerfile'\n",
    "      sh 'sudo docker build -t \"registry.giantswarm.io/yoshida/gh-recommender-worker\" .'\n",
    "      sh 'rm -f Dockerfile'\n",
    "    end\n",
    "  end\n",
    "end\n",
    "EOF"
   ]
  },
  {
   "cell_type": "code",
   "execution_count": 106,
   "metadata": {
    "collapsed": false
   },
   "outputs": [
    {
     "name": "stdout",
     "output_type": "stream",
     "text": [
      "total 16\r\n",
      "drwxr-xr-x 3 root root  41 Feb  3 11:08 ..\r\n",
      "-rw-r--r-- 1 root root 140 Feb  3 11:08 Dockerfile\r\n",
      "-rw-r--r-- 1 root root 287 Feb  3 11:09 03_nginx_config.conf\r\n",
      "-rw-r--r-- 1 root root 374 Feb  3 11:09 Dockerfile.rails\r\n",
      "drwxr-xr-x 2 root root  93 Feb  3 11:09 .\r\n",
      "-rw-r--r-- 1 root root 802 Feb  3 11:09 rake_tasks.rb\r\n"
     ]
    }
   ],
   "source": [
    "ls -altr ~/test/nginx"
   ]
  },
  {
   "cell_type": "markdown",
   "metadata": {},
   "source": [
    "One thing needs to be mentioned though: Where does this rails-app hostname come from? Docker will provide information about linked (we will explain later what that is) containers in two ways: A bunch of environment variables and entries in the /etc/hosts file. In this case we’re gonna use the entry from the /etc/hosts."
   ]
  },
  {
   "cell_type": "markdown",
   "metadata": {},
   "source": [
    "  <a name=\"Compose\" />\n",
    "#   Using Compose\n",
    "<a href=\"#TOP\">TOP</a>\n",
    "  \n",
    "#   Building complex systems with Compose\n",
    "<a href=\"#TOP\">TOP</a>"
   ]
  },
  {
   "cell_type": "code",
   "execution_count": 107,
   "metadata": {
    "collapsed": false
   },
   "outputs": [
    {
     "name": "stdout",
     "output_type": "stream",
     "text": [
      "\r\n",
      "version: 2\r\n",
      "services:\r\n",
      "  weba:\r\n",
      "    build: ../nodeJS\r\n",
      "    expose:\r\n",
      "      - 80\r\n",
      "\r\n",
      "  webb:\r\n",
      "    build: ../nodeJS\r\n",
      "    expose:\r\n",
      "      - 80\r\n",
      "\r\n",
      "  webc:\r\n",
      "    build: ../nodeJS\r\n",
      "    expose:\r\n",
      "      - 80\r\n",
      "\r\n",
      "  haproxy:\r\n",
      "    image: haproxy\r\n",
      "    volumes:\r\n",
      "     - ./haproxy:/haproxy-override\r\n",
      "    links:\r\n",
      "     - weba\r\n",
      "     - webb\r\n",
      "     - webc\r\n",
      "    ports:\r\n",
      "     - \"80:80\"\r\n",
      "     - \"70:70\"\r\n",
      "\r\n",
      "    expose:\r\n",
      "     - \"80\"\r\n",
      "     - \"70\"\r\n",
      "\r\n",
      "\r\n"
     ]
    }
   ],
   "source": [
    "cd ~/src/compose\n",
    "\n",
    "cat docker-compose.yml"
   ]
  },
  {
   "cell_type": "code",
   "execution_count": 115,
   "metadata": {
    "collapsed": false
   },
   "outputs": [
    {
     "name": "stdout",
     "output_type": "stream",
     "text": [
      "Define and run multi-container applications with Docker.\r\n",
      "\r\n",
      "Usage:\r\n",
      "  docker-compose [-f=<arg>...] [options] [COMMAND] [ARGS...]\r\n",
      "  docker-compose -h|--help\r\n",
      "\r\n",
      "Options:\r\n",
      "  -f, --file FILE           Specify an alternate compose file (default: docker-compose.yml)\r\n",
      "  -p, --project-name NAME   Specify an alternate project name (default: directory name)\r\n",
      "  --verbose                 Show more output\r\n",
      "  -v, --version             Print version and exit\r\n",
      "\r\n",
      "Commands:\r\n",
      "  build              Build or rebuild services\r\n",
      "  config             Validate and view the compose file\r\n",
      "  create             Create services\r\n",
      "  down               Stop and remove containers, networks, images, and volumes\r\n",
      "  events             Receive real time events from containers\r\n",
      "  help               Get help on a command\r\n",
      "  kill               Kill containers\r\n",
      "  logs               View output from containers\r\n",
      "  pause              Pause services\r\n",
      "  port               Print the public port for a port binding\r\n",
      "  ps                 List containers\r\n",
      "  pull               Pulls service images\r\n",
      "  restart            Restart services\r\n",
      "  rm                 Remove stopped containers\r\n",
      "  run                Run a one-off command\r\n",
      "  scale              Set number of containers for a service\r\n",
      "  start              Start services\r\n",
      "  stop               Stop services\r\n",
      "  unpause            Unpause services\r\n",
      "  up                 Create and start containers\r\n",
      "  version            Show the Docker-Compose version information\r\n"
     ]
    }
   ],
   "source": [
    "docker-compose"
   ]
  },
  {
   "cell_type": "code",
   "execution_count": 118,
   "metadata": {
    "collapsed": false
   },
   "outputs": [
    {
     "name": "stdout",
     "output_type": "stream",
     "text": []
    }
   ],
   "source": [
    "docker-compose stop"
   ]
  },
  {
   "cell_type": "code",
   "execution_count": 119,
   "metadata": {
    "collapsed": false
   },
   "outputs": [
    {
     "name": "stdout",
     "output_type": "stream",
     "text": [
      "Going to remove compose_haproxy_1, compose_weba_1, compose_webc_1, compose_webb_1\r\n",
      "Removing compose_haproxy_1 ... \r",
      "\r\n",
      "Removing compose_weba_1 ... \r",
      "\r\n",
      "Removing compose_webc_1 ... \r",
      "\r\n",
      "Removing compose_webb_1 ... \r",
      "\r\n",
      "\u001b[4A\u001b[2K\r",
      "Removing compose_haproxy_1 ... done\r",
      "\u001b[4B\u001b[3A\u001b[2K\r",
      "Removing compose_weba_1 ... done\r",
      "\u001b[3B\u001b[2A\u001b[2K\r",
      "Removing compose_webc_1 ... done\r",
      "\u001b[2B\u001b[1A\u001b[2K\r",
      "Removing compose_webb_1 ... done\r",
      "\u001b[1B"
     ]
    }
   ],
   "source": [
    "docker-compose rm -f"
   ]
  },
  {
   "cell_type": "code",
   "execution_count": 120,
   "metadata": {
    "collapsed": false
   },
   "outputs": [
    {
     "name": "stdout",
     "output_type": "stream",
     "text": [
      "Creating compose_webb_1\r\n",
      "Creating compose_webc_1\r\n",
      "Creating compose_weba_1\r\n",
      "Creating compose_haproxy_1\r\n",
      "\u001b[31mERROR\u001b[0m: failed to create endpoint compose_haproxy_1 on network compose_default: Bind for 0.0.0.0:80 failed: port is already allocated\r\n"
     ]
    }
   ],
   "source": [
    "docker-compose up -d"
   ]
  },
  {
   "cell_type": "markdown",
   "metadata": {},
   "source": [
    "```bash\n",
    "docker-compose logs\n",
    "Attaching to compose_haproxy_1, compose_weba_1, compose_webc_1, compose_webb_1\n",
    "haproxy_1 | [ALERT] 032/221525 (1) : Could not open configuration file /usr/local/etc/haproxy/haproxy.cfg : No such file or directory\n",
    "haproxy_1 | [ALERT] 032/221646 (1) : Could not open configuration file /usr/local/etc/haproxy/haproxy.cfg : No such file or directory\n",
    "weba_1    | Running on http://localhost\n",
    "webc_1    | Running on http://localhost\n",
    "webb_1    | Running on http://localhost\n",
    "```"
   ]
  },
  {
   "cell_type": "code",
   "execution_count": 121,
   "metadata": {
    "collapsed": false
   },
   "outputs": [
    {
     "name": "stdout",
     "output_type": "stream",
     "text": [
      "      Name                     Command                State     Ports  \r\n",
      "----------------------------------------------------------------------\r\n",
      "compose_haproxy_1   haproxy -f /usr/local/etc/ ...   Exit 128          \r\n",
      "compose_weba_1      node index.js                    Up         80/tcp \r\n",
      "compose_webb_1      node index.js                    Up         80/tcp \r\n",
      "compose_webc_1      node index.js                    Up         80/tcp \r\n"
     ]
    }
   ],
   "source": [
    "docker-compose ps"
   ]
  },
  {
   "cell_type": "code",
   "execution_count": 122,
   "metadata": {
    "collapsed": false
   },
   "outputs": [
    {
     "name": "stdout",
     "output_type": "stream",
     "text": [
      "Creating and starting 2 ... \r",
      "\r\n",
      "Creating and starting 3 ... \r",
      "\r\n",
      "Creating and starting 4 ... \r",
      "\r\n",
      "Creating and starting 5 ... \r",
      "\r\n",
      "\u001b[3A\u001b[2K\r",
      "Creating and starting 3 ... done\r",
      "\u001b[3B\u001b[1A\u001b[2K\r",
      "Creating and starting 5 ... done\r",
      "\u001b[1B\u001b[4A\u001b[2K\r",
      "Creating and starting 2 ... done\r",
      "\u001b[4B\u001b[2A\u001b[2K\r",
      "Creating and starting 4 ... done\r",
      "\u001b[2B"
     ]
    }
   ],
   "source": [
    "docker-compose scale weba=5"
   ]
  },
  {
   "cell_type": "code",
   "execution_count": 123,
   "metadata": {
    "collapsed": false
   },
   "outputs": [
    {
     "name": "stdout",
     "output_type": "stream",
     "text": [
      "      Name                     Command                State     Ports  \r\n",
      "----------------------------------------------------------------------\r\n",
      "compose_haproxy_1   haproxy -f /usr/local/etc/ ...   Exit 128          \r\n",
      "compose_weba_1      node index.js                    Up         80/tcp \r\n",
      "compose_weba_2      node index.js                    Up         80/tcp \r\n",
      "compose_weba_3      node index.js                    Up         80/tcp \r\n",
      "compose_weba_4      node index.js                    Up         80/tcp \r\n",
      "compose_weba_5      node index.js                    Up         80/tcp \r\n",
      "compose_webb_1      node index.js                    Up         80/tcp \r\n",
      "compose_webc_1      node index.js                    Up         80/tcp \r\n"
     ]
    }
   ],
   "source": [
    "docker-compose ps"
   ]
  },
  {
   "cell_type": "code",
   "execution_count": 124,
   "metadata": {
    "collapsed": false
   },
   "outputs": [
    {
     "name": "stdout",
     "output_type": "stream",
     "text": [
      "Recreating compose_webb_1\r\n",
      "Recreating compose_webc_1\r\n",
      "Recreating compose_weba_2\r\n",
      "\u001b[31mERROR\u001b[0m: \r\n",
      "Aborting.\r\n"
     ]
    }
   ],
   "source": [
    "docker-compose up --force-recreate -d"
   ]
  },
  {
   "cell_type": "code",
   "execution_count": null,
   "metadata": {
    "collapsed": true
   },
   "outputs": [],
   "source": [
    "# TODO:\n",
    "docker-compose events"
   ]
  },
  {
   "cell_type": "code",
   "execution_count": 125,
   "metadata": {
    "collapsed": false
   },
   "outputs": [
    {
     "name": "stdout",
     "output_type": "stream",
     "text": [
      "      Name                     Command                State     Ports  \r\n",
      "----------------------------------------------------------------------\r\n",
      "compose_haproxy_1   haproxy -f /usr/local/etc/ ...   Exit 128          \r\n",
      "compose_weba_1      node index.js                    Up         80/tcp \r\n",
      "compose_weba_2      node index.js                    Exit 137          \r\n",
      "compose_weba_3      node index.js                    Up         80/tcp \r\n",
      "compose_weba_4      node index.js                    Up         80/tcp \r\n",
      "compose_weba_5      node index.js                    Up         80/tcp \r\n",
      "compose_webb_1      node index.js                    Up         80/tcp \r\n",
      "compose_webc_1      node index.js                    Up         80/tcp \r\n"
     ]
    }
   ],
   "source": [
    "docker-compose ps"
   ]
  },
  {
   "cell_type": "code",
   "execution_count": null,
   "metadata": {
    "collapsed": true
   },
   "outputs": [],
   "source": [
    "#docker-compose logs"
   ]
  },
  {
   "cell_type": "code",
   "execution_count": null,
   "metadata": {
    "collapsed": true
   },
   "outputs": [],
   "source": [
    "# docker-compose up\n",
    "# docker-compose down\n",
    "# TODO: Add heterogeneous example ..."
   ]
  },
  {
   "cell_type": "code",
   "execution_count": null,
   "metadata": {
    "collapsed": true
   },
   "outputs": [],
   "source": []
  },
  {
   "cell_type": "code",
   "execution_count": 84,
   "metadata": {
    "collapsed": false
   },
   "outputs": [
    {
     "name": "stdout",
     "output_type": "stream",
     "text": []
    }
   ],
   "source": []
  },
  {
   "cell_type": "markdown",
   "metadata": {},
   "source": [
    "# Rails Example with Compose\n",
    "<a href=\"#TOP\">TOP</a>\n",
    "\n",
    "This example heavily inspired from this article [Building Microservices with Docker and the Rails API gem](https://medium.com/connect-the-dots/building-microservices-with-docker-and-the-rails-api-gem-2a463862f5d)\n",
    "\n",
    "<font size=+1 color=\"#77f\">\n",
    "<b>The goal of this step is to have hands-on experience with Compose ...</b> \n",
    "<br/>\n",
    "It is recommended to use [yamllint](http://www.yamllint.com/) to validate your YAML file - because it's easy to make mistakes in YAML, and Compose is picky.\n",
    "</font>"
   ]
  },
  {
   "cell_type": "code",
   "execution_count": 36,
   "metadata": {
    "collapsed": false
   },
   "outputs": [
    {
     "name": "stdout",
     "output_type": "stream",
     "text": [
      "/root/src/railsapi\r\n"
     ]
    }
   ],
   "source": [
    "cd /root\n",
    "mkdir -p src/railsapi\n",
    "cd src/railsapi\n",
    "pwd\n",
    "touch Dockerfile docker-compose.yml Gemfile Gemfile.lock"
   ]
  },
  {
   "cell_type": "code",
   "execution_count": 37,
   "metadata": {
    "collapsed": false
   },
   "outputs": [
    {
     "name": "stdout",
     "output_type": "stream",
     "text": []
    }
   ],
   "source": [
    "cat > Dockerfile <<EOF\n",
    "\n",
    "FROM ruby:2.3.0\n",
    "\n",
    "RUN apt-get update -qq && apt-get install -y build-essential libmysqlclient-dev\n",
    "\n",
    "RUN mkdir /railsapi\n",
    "\n",
    "WORKDIR /railsapi\n",
    "\n",
    "ADD Gemfile /railsapi/Gemfile\n",
    "\n",
    "ADD Gemfile.lock /railsapi/Gemfile.lock\n",
    "\n",
    "RUN bundle install\n",
    "\n",
    "ADD . /railsapi\n",
    "\n",
    "EOF"
   ]
  },
  {
   "cell_type": "markdown",
   "metadata": {},
   "source": [
    "\n",
    "See [References](#References) section below for information on *Compose*\n",
    "\n"
   ]
  },
  {
   "cell_type": "code",
   "execution_count": 38,
   "metadata": {
    "collapsed": false
   },
   "outputs": [
    {
     "name": "stdout",
     "output_type": "stream",
     "text": []
    }
   ],
   "source": [
    "cat > docker-compose.yml <<EOF\n",
    "\n",
    "version: 2\n",
    "services:\n",
    "  db:\n",
    "   image: mysql:latest\n",
    "   ports:\n",
    "     - 3306:3306\n",
    "   environment:\n",
    "     MYSQL_ROOT_PASSWORD: mypassword\n",
    "   \n",
    "  web:\n",
    "    build: .\n",
    "    command: puma\n",
    "    ports:\n",
    "      - 9292:9292\n",
    "    links:\n",
    "      - db\n",
    "    volumes:\n",
    "      - .:/railsapi\n",
    "\n",
    "EOF"
   ]
  },
  {
   "cell_type": "code",
   "execution_count": 39,
   "metadata": {
    "collapsed": false
   },
   "outputs": [
    {
     "name": "stdout",
     "output_type": "stream",
     "text": [
      "db uses an image, skipping\r\n",
      "Building web\r\n",
      "Step 1 : FROM ruby:2.3.0\r\n",
      " ---> 70578fbdd1a4\r\n",
      "Step 2 : RUN apt-get update -qq && apt-get install -y build-essential libmysqlclient-dev\r\n",
      " ---> Using cache\r\n",
      " ---> 542437588210\r\n",
      "Step 3 : RUN mkdir /railsapi\r\n",
      " ---> Using cache\r\n",
      " ---> 458b06826730\r\n",
      "Step 4 : WORKDIR /railsapi\r\n",
      " ---> Using cache\r\n",
      " ---> 972ec34e499e\r\n",
      "Step 5 : ADD Gemfile /railsapi/Gemfile\r\n",
      " ---> Using cache\r\n",
      " ---> 60947231435f\r\n",
      "Step 6 : ADD Gemfile.lock /railsapi/Gemfile.lock\r\n",
      " ---> 53c629b24a97\r\n",
      "Removing intermediate container 1aac5f737465\r\n",
      "Step 7 : RUN bundle install\r\n",
      " ---> Running in c7e1111ea35d\r\n",
      "Fetching gem metadata from https://rubygems.org/...........\r\n",
      "Fetching version metadata from https://rubygems.org/...\r\n",
      "Fetching dependency metadata from https://rubygems.org/..\r\n",
      "Installing rake 10.5.0\r\n",
      "Installing i18n 0.7.0\r\n",
      "Using json 1.8.3\r\n",
      "Installing minitest 5.8.4\r\n",
      "Installing thread_safe 0.3.5\r\n",
      "Installing builder 3.2.2\r\n",
      "Installing erubis 2.7.0\r\n",
      "Installing mini_portile2 2.0.0\r\n",
      "Installing rack 1.6.4\r\n",
      "Installing mime-types 2.99\r\n",
      "Installing thor 0.19.1\r\n",
      "Installing arel 6.0.3\r\n",
      "Installing byebug 8.2.1 with native extensions\r\n",
      "Installing concurrent-ruby 1.0.0\r\n",
      "Installing mysql2 0.4.2 with native extensions\r\n",
      "Installing puma 2.16.0 with native extensions\r\n",
      "Using bundler 1.11.2\r\n",
      "Installing spring 1.6.2\r\n",
      "Installing tzinfo 1.2.2\r\n",
      "Installing nokogiri 1.6.7.2 with native extensions\r\n",
      "Installing rack-test 0.6.3\r\n",
      "Installing mail 2.6.3\r\n",
      "Installing sprockets 3.5.2\r\n",
      "Installing activesupport 4.2.5\r\n",
      "Installing loofah 2.0.3\r\n",
      "Installing rails-deprecated_sanitizer 1.0.3\r\n",
      "Installing globalid 0.3.6\r\n",
      "Installing activemodel 4.2.5\r\n",
      "Installing rails-html-sanitizer 1.0.3\r\n",
      "Installing rails-dom-testing 1.0.7\r\n",
      "Installing activejob 4.2.5\r\n",
      "Installing activerecord 4.2.5\r\n",
      "Installing actionview 4.2.5\r\n",
      "Installing actionpack 4.2.5\r\n",
      "Installing actionmailer 4.2.5\r\n",
      "Installing railties 4.2.5\r\n",
      "Installing sprockets-rails 3.0.1\r\n",
      "Installing active_model_serializers 0.10.0.rc4\r\n",
      "Installing rails-api 0.4.0\r\n",
      "Installing rails 4.2.5\r\n",
      "Bundle complete! 7 Gemfile dependencies, 40 gems now installed.\r\n",
      "Bundled gems are installed into /usr/local/bundle.\r\n",
      " ---> 2611f8731623\r\n",
      "Removing intermediate container c7e1111ea35d\r\n",
      "Step 8 : ADD . /railsapi\r\n",
      " ---> 7159710bbffe\r\n",
      "Removing intermediate container 7755d7569da1\r\n",
      "Successfully built 7159710bbffe\r\n"
     ]
    }
   ],
   "source": [
    "docker-compose build"
   ]
  },
  {
   "cell_type": "code",
   "execution_count": 40,
   "metadata": {
    "collapsed": false
   },
   "outputs": [
    {
     "name": "stdout",
     "output_type": "stream",
     "text": []
    }
   ],
   "source": [
    "cat > Gemfile <<EOF\n",
    "\n",
    "source 'https://rubygems.org'\n",
    "\n",
    "gem 'rails', '4.2.5'\n",
    "gem 'rails-api', '0.4.0'\n",
    "gem 'mysql2'\n",
    "gem 'puma'\n",
    "\n",
    "# Use ActiveModel has_secure_password\n",
    "# gem 'bcrypt', '~> 3.1.7'\n",
    "\n",
    "# Use Capistrano for deployment\n",
    "# gem 'capistrano-rails', group: :development\n",
    "\n",
    "# Use Rack CORS for handling Cross-Origin Resource Sharing (CORS), making cross-origin AJAX possible\n",
    "# gem 'rack-cors'\n",
    "\n",
    "# Use ActiveModelSerializers to serialize JSON responses\n",
    "gem 'active_model_serializers', '~> 0.10.0.rc3'\n",
    "\n",
    "group :development, :test do\n",
    "  # Call 'byebug' anywhere in the code to stop execution and get a debugger console\n",
    "  gem 'byebug'\n",
    "end\n",
    " \n",
    "group :development do # Spring speeds up development by keeping your application running in the background. Read more: https://github.com/rails/spring\n",
    "  gem 'spring'\n",
    "end\n",
    "\n",
    "EOF"
   ]
  },
  {
   "cell_type": "code",
   "execution_count": 41,
   "metadata": {
    "collapsed": false
   },
   "outputs": [
    {
     "name": "stdout",
     "output_type": "stream",
     "text": [
      "total 32\r\n",
      "-rw-r--r-- 1 root root  478 Jan 31 19:34 README.rdoc\r\n",
      "-rw-r--r-- 1 root root  249 Jan 31 19:34 Rakefile\r\n",
      "-rw-r--r-- 1 root root  474 Jan 31 19:34 .gitignore\r\n",
      "-rw-r--r-- 1 root root  153 Jan 31 19:34 config.ru\r\n",
      "drwxr-xr-x 2 root root  147 Jan 31 19:34 .\r\n",
      "drwxr-xr-x 4 root root   34 Jan 31 19:45 ..\r\n",
      "-rw-r--r-- 1 root root 2928 Jan 31 20:01 Gemfile.lock\r\n",
      "-rw-r--r-- 1 root root  248 Jan 31 20:01 Dockerfile\r\n",
      "-rw-r--r-- 1 root root  258 Jan 31 20:02 docker-compose.yml\r\n",
      "-rw-r--r-- 1 root root  779 Jan 31 20:10 Gemfile\r\n"
     ]
    }
   ],
   "source": [
    "ls -altr"
   ]
  },
  {
   "cell_type": "markdown",
   "metadata": {},
   "source": [
    "Now let's build our image"
   ]
  },
  {
   "cell_type": "code",
   "execution_count": 42,
   "metadata": {
    "collapsed": false
   },
   "outputs": [
    {
     "name": "stdout",
     "output_type": "stream",
     "text": [
      "db uses an image, skipping\r\n",
      "Building web\r\n",
      "Step 1 : FROM ruby:2.3.0\r\n",
      " ---> 70578fbdd1a4\r\n",
      "Step 2 : RUN apt-get update -qq && apt-get install -y build-essential libmysqlclient-dev\r\n",
      " ---> Using cache\r\n",
      " ---> 542437588210\r\n",
      "Step 3 : RUN mkdir /railsapi\r\n",
      " ---> Using cache\r\n",
      " ---> 458b06826730\r\n",
      "Step 4 : WORKDIR /railsapi\r\n",
      " ---> Using cache\r\n",
      " ---> 972ec34e499e\r\n",
      "Step 5 : ADD Gemfile /railsapi/Gemfile\r\n",
      " ---> Using cache\r\n",
      " ---> 60947231435f\r\n",
      "Step 6 : ADD Gemfile.lock /railsapi/Gemfile.lock\r\n",
      " ---> Using cache\r\n",
      " ---> 53c629b24a97\r\n",
      "Step 7 : RUN bundle install\r\n",
      " ---> Using cache\r\n",
      " ---> 2611f8731623\r\n",
      "Step 8 : ADD . /railsapi\r\n",
      " ---> Using cache\r\n",
      " ---> 7159710bbffe\r\n",
      "Successfully built 7159710bbffe\r\n"
     ]
    }
   ],
   "source": [
    "docker-compose build"
   ]
  },
  {
   "cell_type": "code",
   "execution_count": 43,
   "metadata": {
    "collapsed": false
   },
   "outputs": [
    {
     "name": "stdout",
     "output_type": "stream",
     "text": [
      "REPOSITORY          TAG                 IMAGE ID            CREATED             SIZE\r\n",
      "railsapi_web        latest              7159710bbffe        6 minutes ago       813.8 MB\r\n",
      "lab/basic           latest              5477a1cdda04        11 minutes ago      689.1 MB\r\n",
      "<none>              <none>              a192650246e9        11 minutes ago      689.1 MB\r\n",
      "<none>              <none>              a7d63cd9ba3c        12 minutes ago      689.1 MB\r\n",
      "<none>              <none>              8855922a993d        46 minutes ago      813.8 MB\r\n",
      "<none>              <none>              bef232158200        48 minutes ago      746.3 MB\r\n",
      "rails_web           latest              5152cec9abc7        53 minutes ago      813.8 MB\r\n",
      "<none>              <none>              349e9cce0641        About an hour ago   813.8 MB\r\n",
      "<none>              <none>              96b443625f76        About an hour ago   813.8 MB\r\n",
      "<none>              <none>              7d9bce362118        About an hour ago   813.8 MB\r\n",
      "<none>              <none>              524526aa2d95        20 hours ago        813.8 MB\r\n",
      "docker-dev          HEAD                1b3493335e9d        34 hours ago        1.868 GB\r\n",
      "docker-dev          master              5a5f54be5a20        44 hours ago        2.058 GB\r\n",
      "ruby                2.3.0               70578fbdd1a4        3 days ago          721.8 MB\r\n",
      "mysql               latest              a917fce37db8        4 days ago          360.2 MB\r\n",
      "python              latest              93049cc049a6        4 days ago          689.1 MB\r\n",
      "node                latest              0869e88f8617        10 days ago         643 MB\r\n",
      "ubuntu              trusty              3876b81b5a81        11 days ago         187.9 MB\r\n",
      "alpine              latest              3376496dc94c        13 days ago         4.79 MB\r\n",
      "swarm               latest              32d67c5a4211        7 weeks ago         17.15 MB\r\n",
      "hello-world         latest              690ed74de00f        3 months ago        960 B\r\n"
     ]
    }
   ],
   "source": [
    "docker images"
   ]
  },
  {
   "cell_type": "code",
   "execution_count": 44,
   "metadata": {
    "collapsed": false
   },
   "outputs": [
    {
     "name": "stdout",
     "output_type": "stream",
     "text": [
      "\u001b[1m\u001b[34m       exist\u001b[0m  \r\n",
      "\u001b[1m\u001b[34m   identical\u001b[0m  README.rdoc\r\n",
      "\u001b[1m\u001b[34m   identical\u001b[0m  Rakefile\r\n",
      "\u001b[1m\u001b[34m   identical\u001b[0m  config.ru\r\n",
      "\u001b[1m\u001b[34m   identical\u001b[0m  .gitignore\r\n",
      "\u001b[1m\u001b[31m    conflict\u001b[0m  Gemfile\r\n",
      "Overwrite /railsapi/Gemfile? (enter \"h\" for help) [Ynaqdh] \r\n"
     ]
    }
   ],
   "source": [
    "docker-compose run web rails-api new ."
   ]
  },
  {
   "cell_type": "code",
   "execution_count": 46,
   "metadata": {
    "collapsed": false
   },
   "outputs": [
    {
     "name": "stdout",
     "output_type": "stream",
     "text": []
    }
   ],
   "source": [
    "cat > database.yml <<EOF\n",
    "development:\n",
    " adapter: mysql2\n",
    " encoding: utf8\n",
    " reconnect: false\n",
    " database: inventory_manager_dev\n",
    " pool: 5\n",
    " username: root\n",
    " password: mypassword\n",
    " host: db\n",
    "test:\n",
    " adapter: mysql2\n",
    " encoding: utf8\n",
    " reconnect: false\n",
    " database: inventory_manager_test\n",
    " pool: 5\n",
    " username: root\n",
    " password: mypassword\n",
    " host: db\n",
    "EOF"
   ]
  },
  {
   "cell_type": "code",
   "execution_count": 48,
   "metadata": {
    "collapsed": false
   },
   "outputs": [
    {
     "name": "stdout",
     "output_type": "stream",
     "text": [
      "railsapi_db_1 is up-to-date\r\n",
      "Creating railsapi_web_1\r\n",
      "Attaching to railsapi_web_1\r\n",
      "\u001b[36mweb_1 | \u001b[0mPuma starting in single mode...\r\n",
      "\u001b[36mweb_1 | \u001b[0m* Version 2.16.0 (ruby 2.3.0-p0), codename: Midwinter Nights Trance\r\n",
      "\u001b[36mweb_1 | \u001b[0m* Min threads: 0, max threads: 16\r\n",
      "\u001b[36mweb_1 | \u001b[0m* Environment: development\r\n",
      "\u001b[36mweb_1 | \u001b[0mconfig.ru:3:in `require': cannot load such file -- /railsapi/config/environment (LoadError)\r\n",
      "\u001b[36mweb_1 | \u001b[0m\tfrom config.ru:3:in `block in <main>'\r\n",
      "\u001b[36mweb_1 | \u001b[0m\tfrom /usr/local/bundle/gems/rack-1.6.4/lib/rack/builder.rb:55:in `instance_eval'\r\n",
      "\u001b[36mweb_1 | \u001b[0m\tfrom /usr/local/bundle/gems/rack-1.6.4/lib/rack/builder.rb:55:in `initialize'\r\n",
      "\u001b[36mweb_1 | \u001b[0m\tfrom config.ru:in `new'\r\n",
      "\u001b[36mweb_1 | \u001b[0m\tfrom config.ru:in `<main>'\r\n",
      "\u001b[36mweb_1 | \u001b[0m\tfrom /usr/local/bundle/gems/rack-1.6.4/lib/rack/builder.rb:49:in `eval'\r\n",
      "\u001b[36mweb_1 | \u001b[0m\tfrom /usr/local/bundle/gems/rack-1.6.4/lib/rack/builder.rb:49:in `new_from_string'\r\n",
      "\u001b[36mweb_1 | \u001b[0m\tfrom /usr/local/bundle/gems/rack-1.6.4/lib/rack/builder.rb:40:in `parse_file'\r\n",
      "\u001b[36mweb_1 | \u001b[0m\tfrom /usr/local/bundle/gems/puma-2.16.0/lib/puma/configuration.rb:155:in `load_rackup'\r\n",
      "\u001b[36mweb_1 | \u001b[0m\tfrom /usr/local/bundle/gems/puma-2.16.0/lib/puma/configuration.rb:99:in `app'\r\n",
      "\u001b[36mweb_1 | \u001b[0m\tfrom /usr/local/bundle/gems/puma-2.16.0/lib/puma/runner.rb:114:in `load_and_bind'\r\n",
      "\u001b[36mweb_1 | \u001b[0m\tfrom /usr/local/bundle/gems/puma-2.16.0/lib/puma/single.rb:79:in `run'\r\n",
      "\u001b[36mweb_1 | \u001b[0m\tfrom /usr/local/bundle/gems/puma-2.16.0/lib/puma/cli.rb:214:in `run'\r\n",
      "\u001b[36mweb_1 | \u001b[0m\tfrom /usr/local/bundle/gems/puma-2.16.0/bin/puma:10:in `<top (required)>'\r\n",
      "\u001b[36mweb_1 | \u001b[0m\tfrom /usr/local/bundle/bin/puma:16:in `load'\r\n",
      "\u001b[36mweb_1 | \u001b[0m\tfrom /usr/local/bundle/bin/puma:16:in `<main>'\r\n",
      "\u001b[36mweb_1 | \u001b[0m! Unable to load application: LoadError: cannot load such file -- /railsapi/config/environment\r\n",
      "\u001b[36mrailsapi_web_1 exited with code 1\r\n",
      "\u001b[0m"
     ]
    }
   ],
   "source": [
    "docker-compose up web"
   ]
  },
  {
   "cell_type": "code",
   "execution_count": 49,
   "metadata": {
    "collapsed": false
   },
   "outputs": [
    {
     "name": "stdout",
     "output_type": "stream",
     "text": [
      "curl: (7) Failed to connect to localhost port 80: Connection refused\r\n"
     ]
    }
   ],
   "source": [
    "curl http://localhost:80"
   ]
  },
  {
   "cell_type": "markdown",
   "metadata": {},
   "source": [
    "<a name=\"building-docker\" />\n",
    "# Building Docker with Docker\n",
    "<a href=\"#TOP\">TOP</a>\n",
    "\n",
    "<a name=\"Building-Docker-with-Docker\" />\n",
    "# Building Docker with Docker\n",
    "<a href=\"#TOP\">TOP</a>\n",
    "\n",
    "A major advantage of Docker is to simplify build environments.\n",
    "\n",
    "Let's look at how we can build the Docker engine client/daemon binary without having to explicitly install a development environment.\n",
    "\n",
    "<font size=+1 color=\"#77f\">\n",
    "<b>The goal of this step is simply to show the ease with which we can build Docker, thanks to Docker itself.</b>   \n",
    "</font>\n",
    "\n",
    "We do not make particular use of the built image.\n",
    "\n",
    "The process involves the following steps, several of which have already been performed so as to prevent excessive network utilisation during the lab.  Nevertheless all steps are  described here so that you can see just how easy it is to build Docker from scratch:\n",
    "- Install make\n",
    "- Clone the Docker source code\n",
    "- Checkout the same code revision as our current Docker binary (client and daemon)\n",
    "- Build the code - which pulls the docker-dev image containing the required version of the Go compiler\n",
    "- Run the executeable to demonstrate it is correct\n",
    "\n",
    "#### Installing make\n",
    "\n",
    "In your environment we have already installed the make package, but no compiler using yum:\n",
    "\n",
    "    yum install make\n",
    "\n",
    "#### Cloning the Docker source code\n",
    "\n",
    "We have already downloaded the Docker source code from github as follows:\n",
    "\n",
    "    mkdir -p /root/src/docker\n",
    "    cd /root/src/docker\n",
    "    git clone https://github.com/docker/docker .\n",
    "\n",
    "To build Docker we simply have to build using the\n",
    "\n",
    "    make build\n",
    "    \n",
    "command.\n",
    "\n",
    "#### Checkout the source code revision corresponding to our installed Docker Engine\n",
    "\n",
    "If we build the latest sources this may not be compatible with our installed Docker version.\n",
    "\n",
    "This is the case.  We have 1.10.0-rc2 installed, which has API version 22, but the current github source is 1.10.0-dev which has changed to API version 23.  So if we build this we find that we cannot use this client to communicate with the installed daemon.\n",
    "\n",
    "So let's checkout the code for 1.10.0-rc2.\n",
    "\n",
    "At the time of writing this is the latest release(candidate) of the Docker engine.\n",
    "We can obtain that version of the source code by referring to the releases page https://github.com/docker/docker/releases\n",
    "and selecting the SHA1 hash of build 1.10.0-rc2 \n",
    "\n",
    "    git checkout c1cdc6e\n",
    "\n",
    "\n",
    "\n",
    "#### Build the code - which pulls the docker-dev image containing the required version of the Go compiler\n",
    "\n",
    "We can build the code as follows:\n",
    "\n",
    "    make build\n",
    "    \n",
    "We have run 'make build' already, so the docker-dev image has already been downloaded (again to prevent excessive network traffic).  The docker-dev image includes the required go compiler and other build tools.\n",
    "\n",
    "Run 'make build' again and you will see a standard build process and finally where it places the compiled binary\n",
    "\n",
    "#### Run the executeable to demonstrate it is correct\n",
    "\n",
    "In preparation for the lab we built from the latest source (not the c1cdc6e version we checked out).\n",
    "\n",
    "Run this build as follows to see that it is not compatible with the installed binary (/usr/bin/docker).\n",
    "We see that this binary has version 1.10.0-dev and API version 1.23 but that this cannot communicate with our installed binary which has API version 1.22."
   ]
  },
  {
   "cell_type": "code",
   "execution_count": null,
   "metadata": {
    "collapsed": false
   },
   "outputs": [],
   "source": [
    "cd /root/src/docker; ls -altr bundles/1.10.0-dev/binary/docker-1.10.0-dev; ./bundles/1.10.0-dev/binary/docker version"
   ]
  },
  {
   "cell_type": "markdown",
   "metadata": {},
   "source": [
    "But if we run our new build - as follows - created from revision c1cdc6e of the source code (corresponding to Docker version 1.10.0-rc2) we see that it has the correct version, with the same API version and can interrogate the server.\n"
   ]
  },
  {
   "cell_type": "code",
   "execution_count": null,
   "metadata": {
    "collapsed": false
   },
   "outputs": [],
   "source": [
    "cd /root/src/docker; ls -altr bundles/1.10.0-rc2/binary/docker-1.10.0-rc2; ./bundles/1.10.0-rc2/binary/docker version"
   ]
  },
  {
   "cell_type": "code",
   "execution_count": null,
   "metadata": {
    "collapsed": true
   },
   "outputs": [],
   "source": []
  },
  {
   "cell_type": "markdown",
   "metadata": {
    "collapsed": true
   },
   "source": [
    "# References\n",
    "[TOP](#TOP)\n",
    "\n",
    "- [Dockerfile Reference](https://docs.docker.com/engine/reference/builder/)\n",
    "\n",
    "- [Compose file documentation](https://docs.docker.com/compose/compose-file/)\n",
    "\n",
    "- [Compose file reference](https://github.com/docker/compose/blob/1.6.0-rc1/docs/compose-file.md)\n",
    "\n",
    "- [Visualizing Docker Containers and Images](http://merrigrove.blogspot.in/2015/10/visualizing-docker-containers-and-images.html)\n",
    "\n",
    "- [Awesome Docker](https://github.com/veggiemonk/awesome-docker)\n",
    "\n",
    "- [Docker Cheat Sheet]()\n",
    "\n",
    "- [Building Good Docker Images](http://jonathan.bergknoff.com/journal/building-good-docker-images)\n",
    "\n",
    "- [How to scale a Docker Container with Docker Compose](https://www.brianchristner.io/how-to-scale-a-docker-container-with-docker-compose/)\n",
    "\n",
    "- [Docker Compose Demo](https://github.com/vegasbrianc/docker-compose-demo)\n"
   ]
  },
  {
   "cell_type": "code",
   "execution_count": null,
   "metadata": {
    "collapsed": true
   },
   "outputs": [],
   "source": []
  }
 ],
 "metadata": {
  "kernelspec": {
   "display_name": "Bash",
   "language": "bash",
   "name": "bash"
  },
  "language_info": {
   "codemirror_mode": "shell",
   "file_extension": ".sh",
   "mimetype": "text/x-sh",
   "name": "bash"
  }
 },
 "nbformat": 4,
 "nbformat_minor": 0
}
