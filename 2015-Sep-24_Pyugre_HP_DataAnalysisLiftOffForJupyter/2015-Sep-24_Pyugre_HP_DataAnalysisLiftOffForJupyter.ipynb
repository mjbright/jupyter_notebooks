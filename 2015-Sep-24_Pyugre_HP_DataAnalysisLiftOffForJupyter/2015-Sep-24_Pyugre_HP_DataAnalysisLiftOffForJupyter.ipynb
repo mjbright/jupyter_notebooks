{
 "cells": [
  {
   "cell_type": "markdown",
   "metadata": {
    "hideCode": true,
    "hidePrompt": false,
    "slideshow": {
     "slide_type": "slide"
    }
   },
   "source": [
    "<center> <h1>Data Analysis ... lift-off for Jupyter</h1>\n",
    "<h3>Grenoble, Python User Group</h3>\n",
    "<br/>\n",
    "\n",
    "<h6>24th Sept. 2015, <a href=\"http://www.meetup.com/Groupe-dutilisateurs-Python-Grenoble/events/219119604/\"> Meetup </a> </h6> <h6>Michael Bright.</h6>\n",
    "<br/>\n",
    "<font size=-1>\n",
    "<i class=\"fa-github fa-2x fa\"> [mjbright](https://github.com/mjbright)</i>&nbsp;&nbsp;\n",
    "<i class=\"fa-twitter fa-2x fa\"> [@mjbright](http://twitter.com/mjbright)</i>&nbsp;&nbsp;\n",
    "<i class=\"fa-envelope fa-2x fa\"> mjbrightfr AT gmail</i>&nbsp;&nbsp;\n",
    "<i class=\"fa-user fa-2x fa\"> [mjbright.github.io](http://mjbright.github.io)</i>\n",
    "</font></center>\n"
   ]
  },
  {
   "cell_type": "markdown",
   "metadata": {
    "slideshow": {
     "slide_type": "slide"
    }
   },
   "source": [
    "### Outline\n",
    "- Intro: Admin(Mix-IT, next meetings), RoundTable"
   ]
  },
  {
   "cell_type": "markdown",
   "metadata": {
    "slideshow": {
     "slide_type": "fragment"
    }
   },
   "source": [
    "- IPython/Jupyter Overview - History\n",
    "  - IPython\n",
    "  - Notebooks\n",
    "  - Jupyter    "
   ]
  },
  {
   "cell_type": "markdown",
   "metadata": {
    "slideshow": {
     "slide_type": "fragment"
    }
   },
   "source": [
    "  - Eco-system\n",
    "    - Publishing, Hosted solutions\n",
    "    - Future projects"
   ]
  },
  {
   "cell_type": "markdown",
   "metadata": {
    "slideshow": {
     "slide_type": "fragment"
    }
   },
   "source": [
    "- Demos (of course !!)"
   ]
  },
  {
   "cell_type": "markdown",
   "metadata": {
    "slideshow": {
     "slide_type": "slide"
    }
   },
   "source": [
    "## IPython/Jupyter - History\n",
    "\n",
    "* \"Just an afternoon hack\"(Nov 2001) by Fernando Perez whilst writing his thesis\n",
    "\n",
    "Initially 259 lines - a REPL with basic plotting capabilities.\n",
    "\n",
    "Intended to facilitate the lifecycle of a Scientific Analysis\n",
    "* Individual Exploratory Analysis\n",
    "* Collbaorative work\n",
    "* Production runs (on HPC or Cloud)\n",
    "* Publication of **reproducible results**\n",
    "* Education\n",
    "* Repeat\n"
   ]
  },
  {
   "cell_type": "markdown",
   "metadata": {
    "slideshow": {
     "slide_type": "subslide"
    }
   },
   "source": [
    "## IPython/Jupyter  - History\n",
    "<table border=\"0\"><tr><td>\n",
    "<a href=\"http://ipython.org/\"><img src=\"http://www.i-programmer.info/images/stories/News/2013/Aug/A/ipython.jpg\" border=0 height=100 width=100/>ipython.org</a></td><td>\n",
    "<a href=\"http://jupyter.org/\"><img src=\"https://encrypted-tbn3.gstatic.com/images?q=tbn:ANd9GcSnQKaJ94EsgiFwt6RrjGxvYV_LbJKAW0KZkpM9TUuk4F28wLTbWQ\" border=0 height=100 width=100/>jupyter.org</a></td><td>\n",
    "<a href=\"http://www.splung.com/cosmology/images/galileonotebook.gif\"><img src=\"images/Gallileo_Jupiter_Moons_Notebook.png\" border=0 height=100 width=350/>Gallileos' public notebooks</a></td></tr></table>\n",
    "- [IPython 1.0](http://ipython.org/ipython-doc/stable/whatsnew/version1.0.html) (Jul 2012?) The kernel/notebook\n",
    "- [IPython 2.0](http://ipython.org/ipython-doc/stable/whatsnew/version2.0.html) (Apr 2014) Widgets ...\n",
    "- [IPython 3.0](http://ipython.org/ipython-doc/stable/whatsnew/version3.html) (Feb 2015) Improved lang support\n",
    "- IPython 4.0 (Aug 2015) Just the kernel ... [Jupyter 1.0](https://www.reddit.com/r/Python/comments/3go982/ipython_4_and_jupyter_are_out/)\n",
    "Refer to\n",
    "- [wikipedia IPython](https://en.wikipedia.org/wiki/IPython)\n",
    "- [old roadmap](https://github.com/ipython/ipython/wiki/Roadmap:-IPython)"
   ]
  },
  {
   "cell_type": "markdown",
   "metadata": {
    "slideshow": {
     "slide_type": "slide"
    }
   },
   "source": [
    "## IPython/Jupyter - History\n",
    "###### Architecture\n",
    "- 2010/11 **0.11** Messaging protocol for multiple FEs\n",
    "- 2011 Dec **0.12** - Notebooks added\n",
    "- 2014 Nov **2.3** - Notebooks connect to a kernel\n",
    "- Up to **3.0** a monolithic architecture\n",
    "<img src=\"images/IPython_Architecture1.png\" width=600/>"
   ]
  },
  {
   "cell_type": "markdown",
   "metadata": {
    "slideshow": {
     "slide_type": "slide"
    }
   },
   "source": [
    "## IPython/Jupyter - History\n",
    "### Guided tour\n",
    "\n",
    "- The [notebook](http://localhost:8888/)\n",
    "  - Files, Running, Clusters[, Assignments]\n",
    "  - Basic notebook features\n",
    "  - [Kernels](https://github.com/ipython/ipython/wiki/IPython-kernels-for-other-languages)\n",
    "  - Edit\n",
    "  - Terminal\n",
    "  \n",
    "- An [IPython notebook](http://localhost:8888/notebooks/PRESENTATIONS/docker-demo-images-notebooks/Welcome%20to%20Python.ipynb) with pure Python,\n",
    "- An [R notebook] [LATER]"
   ]
  },
  {
   "cell_type": "markdown",
   "metadata": {
    "collapsed": true,
    "slideshow": {
     "slide_type": "subslide"
    }
   },
   "source": [
    "## IPython/Jupyter - History\n",
    "### Guided tour - [Kernels](https://github.com/ipython/ipython/wiki/IPython-kernels-for-other-languages)\n",
    "<pre>IJulia\n",
    "IHaskell\n",
    "IFSharp\n",
    "IRuby\n",
    "IGo\n",
    "IScala\n",
    "IMathics\n",
    "IAldor\n",
    "Calico Project - kernels implemented in Mono, including Java, IronPython, Boo, Logo, BASIC, and many others\n",
    "LuaJIT/Torch\n",
    "Lua Kernel\n",
    "Simple example kernel\n",
    "IErlang\n",
    "IElixir\n",
    "IOCaml\n",
    "IForth\n",
    "IPerl\n",
    "IPerl6\n",
    "IPHP\n",
    "IOctave\n",
    "IScilab\n",
    "IMatlab\n",
    "Bash\n",
    "Clojure Kernel\n",
    "Hy Kernel\n",
    "Redis Kernel\n",
    "jove, a kernel for io.js\n",
    "IJavascript\n",
    "Calysto Scheme\n",
    "Calysto Processing\n",
    "idl_kernel IDL seem to have a built-in kernel starting with version 8.5\n",
    "Mochi Kernel\n",
    "Lua (used in Splash)\n",
    "Spark Kernel\n",
    "Skulpt Python Kernel\n",
    "MetaKernel Bash\n",
    "MetaKernel Python\n",
    "Brython Kernel\n",
    "IVisual VPython Kernel\n",
    "Brainfuck Kernel (IBrainfuck)\n",
    "KDB+/Q Kernel (IKdbQ)\n",
    "ICryptol\n",
    "C++ (cling)\n",
    "Xonsh\n",
    "Prolog\n",
    "cl-jupyter (Common Lisp) Kernel\n",
    "Maxima-Jupyter\n",
    "Calysto LC3 - Assembly Language for the Little Computer 3\n",
    "Java 9 Kernel\n",
    "</pre>"
   ]
  },
  {
   "cell_type": "markdown",
   "metadata": {
    "slideshow": {
     "slide_type": "slide"
    }
   },
   "source": [
    "## IPython/Jupyter - History\n",
    "### Guided tour - What If?\n",
    "\n",
    "What if - this presentation markdown was created in Jupyter? ..."
   ]
  },
  {
   "cell_type": "markdown",
   "metadata": {
    "slideshow": {
     "slide_type": "fragment"
    }
   },
   "source": [
    "... well it was"
   ]
  },
  {
   "cell_type": "markdown",
   "metadata": {
    "slideshow": {
     "slide_type": "subslide"
    }
   },
   "source": [
    "What if - my **spooling** is wrong? ..."
   ]
  },
  {
   "cell_type": "markdown",
   "metadata": {
    "slideshow": {
     "slide_type": "fragment"
    }
   },
   "source": [
    "... well it was"
   ]
  },
  {
   "cell_type": "markdown",
   "metadata": {
    "slideshow": {
     "slide_type": "slide"
    }
   },
   "source": [
    "## IPython/Jupyter - History\n",
    "### Guided tour - What If it was code?\n",
    "\n",
    "What if - we could execute the Python code below"
   ]
  },
  {
   "cell_type": "code",
   "execution_count": 109,
   "metadata": {
    "collapsed": false,
    "slideshow": {
     "slide_type": "fragment"
    }
   },
   "outputs": [
    {
     "name": "stdout",
     "output_type": "stream",
     "text": [
      "Wouldn't it be cool if this was live code ? ...\n",
      "\n",
      "Well it is !!\n",
      "printed on 2015-09-24 19:09:09.902612\n"
     ]
    }
   ],
   "source": [
    "import datetime\n",
    "\n",
    "print(\"Wouldn't it be cool if this was live code ? ...\")\n",
    "print()\n",
    "print(\"Well it is !!\")\n",
    "print(\"printed on \" + str(datetime.datetime.now()))"
   ]
  },
  {
   "cell_type": "markdown",
   "metadata": {
    "slideshow": {
     "slide_type": "subslide"
    }
   },
   "source": [
    "## IPython/Jupyter - History\n",
    "### Guided tour - What If it was code?\n"
   ]
  },
  {
   "cell_type": "code",
   "execution_count": 110,
   "metadata": {
    "collapsed": false,
    "slideshow": {
     "slide_type": "subslide"
    }
   },
   "outputs": [
    {
     "name": "stderr",
     "output_type": "stream",
     "text": [
      "C:\\Progs\\Anaconda3\\lib\\site-packages\\IPython\\parallel.py:13: ShimWarning: The `IPython.parallel` package has been deprecated. You should import from ipyparallel instead.\n",
      "  \"You should import from ipyparallel instead.\", ShimWarning)\n"
     ]
    }
   ],
   "source": [
    "#In qtconsole, try:\n",
    "#      %run recarr_simple.py\n",
    "#\n",
    "# Try also any other Python or magics\n",
    "#\n",
    "# Example courtesy of: https://github.com/jdh2358/py4science\n",
    "# See also: http://jupyter.org/qtconsole/stable/\n",
    "%qtconsole"
   ]
  },
  {
   "cell_type": "markdown",
   "metadata": {
    "slideshow": {
     "slide_type": "subslide"
    }
   },
   "source": [
    "## IPython/Jupyter - History\n",
    "### Guided tour - Magics\n",
    "What magics are available to the IPython kernel?"
   ]
  },
  {
   "cell_type": "code",
   "execution_count": 1,
   "metadata": {
    "collapsed": false,
    "slideshow": {
     "slide_type": "fragment"
    }
   },
   "outputs": [
    {
     "data": {
      "application/json": {
       "cell": {
        "!": "OSMagics",
        "HTML": "Other",
        "SVG": "Other",
        "bash": "Other",
        "capture": "ExecutionMagics",
        "cmd": "Other",
        "debug": "ExecutionMagics",
        "file": "Other",
        "html": "DisplayMagics",
        "javascript": "DisplayMagics",
        "latex": "DisplayMagics",
        "perl": "Other",
        "prun": "ExecutionMagics",
        "pypy": "Other",
        "python": "Other",
        "python2": "Other",
        "python3": "Other",
        "ruby": "Other",
        "script": "ScriptMagics",
        "sh": "Other",
        "svg": "DisplayMagics",
        "sx": "OSMagics",
        "system": "OSMagics",
        "time": "ExecutionMagics",
        "timeit": "ExecutionMagics",
        "writefile": "OSMagics"
       },
       "line": {
        "alias": "OSMagics",
        "alias_magic": "BasicMagics",
        "autocall": "AutoMagics",
        "automagic": "AutoMagics",
        "autosave": "KernelMagics",
        "bookmark": "OSMagics",
        "cd": "OSMagics",
        "clear": "KernelMagics",
        "cls": "KernelMagics",
        "colors": "BasicMagics",
        "config": "ConfigMagics",
        "connect_info": "KernelMagics",
        "copy": "Other",
        "ddir": "Other",
        "debug": "ExecutionMagics",
        "dhist": "OSMagics",
        "dirs": "OSMagics",
        "doctest_mode": "BasicMagics",
        "echo": "Other",
        "ed": "Other",
        "edit": "KernelMagics",
        "env": "OSMagics",
        "gui": "BasicMagics",
        "hist": "Other",
        "history": "HistoryMagics",
        "install_default_config": "DeprecatedMagics",
        "install_ext": "ExtensionMagics",
        "install_profiles": "DeprecatedMagics",
        "killbgscripts": "ScriptMagics",
        "ldir": "Other",
        "less": "KernelMagics",
        "load": "CodeMagics",
        "load_ext": "ExtensionMagics",
        "loadpy": "CodeMagics",
        "logoff": "LoggingMagics",
        "logon": "LoggingMagics",
        "logstart": "LoggingMagics",
        "logstate": "LoggingMagics",
        "logstop": "LoggingMagics",
        "ls": "Other",
        "lsmagic": "BasicMagics",
        "macro": "ExecutionMagics",
        "magic": "BasicMagics",
        "matplotlib": "PylabMagics",
        "mkdir": "Other",
        "more": "KernelMagics",
        "notebook": "BasicMagics",
        "page": "BasicMagics",
        "pastebin": "CodeMagics",
        "pdb": "ExecutionMagics",
        "pdef": "NamespaceMagics",
        "pdoc": "NamespaceMagics",
        "pfile": "NamespaceMagics",
        "pinfo": "NamespaceMagics",
        "pinfo2": "NamespaceMagics",
        "popd": "OSMagics",
        "pprint": "BasicMagics",
        "precision": "BasicMagics",
        "profile": "BasicMagics",
        "prun": "ExecutionMagics",
        "psearch": "NamespaceMagics",
        "psource": "NamespaceMagics",
        "pushd": "OSMagics",
        "pwd": "OSMagics",
        "pycat": "OSMagics",
        "pylab": "PylabMagics",
        "qtconsole": "KernelMagics",
        "quickref": "BasicMagics",
        "recall": "HistoryMagics",
        "rehashx": "OSMagics",
        "reload_ext": "ExtensionMagics",
        "ren": "Other",
        "rep": "Other",
        "rerun": "HistoryMagics",
        "reset": "NamespaceMagics",
        "reset_selective": "NamespaceMagics",
        "rmdir": "Other",
        "run": "ExecutionMagics",
        "save": "CodeMagics",
        "sc": "OSMagics",
        "set_env": "OSMagics",
        "store": "StoreMagics",
        "sx": "OSMagics",
        "system": "OSMagics",
        "tb": "ExecutionMagics",
        "time": "ExecutionMagics",
        "timeit": "ExecutionMagics",
        "unalias": "OSMagics",
        "unload_ext": "ExtensionMagics",
        "who": "NamespaceMagics",
        "who_ls": "NamespaceMagics",
        "whos": "NamespaceMagics",
        "xdel": "NamespaceMagics",
        "xmode": "BasicMagics"
       }
      },
      "text/plain": [
       "Available line magics:\n",
       "%alias  %alias_magic  %autocall  %automagic  %autosave  %bookmark  %cd  %clear  %cls  %colors  %config  %connect_info  %copy  %ddir  %debug  %dhist  %dirs  %doctest_mode  %echo  %ed  %edit  %env  %gui  %hist  %history  %install_default_config  %install_ext  %install_profiles  %killbgscripts  %ldir  %less  %load  %load_ext  %loadpy  %logoff  %logon  %logstart  %logstate  %logstop  %ls  %lsmagic  %macro  %magic  %matplotlib  %mkdir  %more  %notebook  %page  %pastebin  %pdb  %pdef  %pdoc  %pfile  %pinfo  %pinfo2  %popd  %pprint  %precision  %profile  %prun  %psearch  %psource  %pushd  %pwd  %pycat  %pylab  %qtconsole  %quickref  %recall  %rehashx  %reload_ext  %ren  %rep  %rerun  %reset  %reset_selective  %rmdir  %run  %save  %sc  %set_env  %store  %sx  %system  %tb  %time  %timeit  %unalias  %unload_ext  %who  %who_ls  %whos  %xdel  %xmode\n",
       "\n",
       "Available cell magics:\n",
       "%%!  %%HTML  %%SVG  %%bash  %%capture  %%cmd  %%debug  %%file  %%html  %%javascript  %%latex  %%perl  %%prun  %%pypy  %%python  %%python2  %%python3  %%ruby  %%script  %%sh  %%svg  %%sx  %%system  %%time  %%timeit  %%writefile\n",
       "\n",
       "Automagic is ON, % prefix IS NOT needed for line magics."
      ]
     },
     "execution_count": 1,
     "metadata": {},
     "output_type": "execute_result"
    }
   ],
   "source": [
    "%lsmag<TAB>?"
   ]
  },
  {
   "cell_type": "markdown",
   "metadata": {
    "slideshow": {
     "slide_type": "subslide"
    }
   },
   "source": [
    "## IPython/Jupyter - History\n",
    "### Guided tour - Magics-2\n",
    "\n",
    "Let's play (how about a bit of bash ... as I haven't mentioned docker much yet ...)"
   ]
  },
  {
   "cell_type": "code",
   "execution_count": 121,
   "metadata": {
    "collapsed": false,
    "slideshow": {
     "slide_type": "slide"
    }
   },
   "outputs": [
    {
     "name": "stdout",
     "output_type": "stream",
     "text": [
      "CONTAINER ID        IMAGE                           COMMAND                CREATED             STATUS              PORTS                    NAMES\n",
      "14ed2202b15b        jupyter/demo                    \"/bin/sh -c 'ipython   28 hours ago        Up 28 hours         0.0.0.0:8878->8888/tcp   drunk_kowalevski    \n",
      "d7317112911a        mjbright/jupyter_all-notebook   \"start-notebook.sh\"    28 hours ago        Up 28 hours         0.0.0.0:8888->8888/tcp   kickass_euclid      \n",
      "-------------\n",
      "Client version: 1.7.0\n",
      "Client API version: 1.19\n",
      "Go version (client): go1.4.2\n",
      "Git commit (client): 0baf609\n",
      "OS/Arch (client): windows/amd64\n",
      "Server version: 1.7.1\n",
      "Server API version: 1.19\n",
      "Go version (server): go1.4.2\n",
      "Git commit (server): 786b29d\n",
      "OS/Arch (server): linux/amd64\n"
     ]
    }
   ],
   "source": [
    "%%bash\n",
    "DOCKER_HOST=127.0.0.1:2400 /d/z/bin/DOCKER/win64/docker.1.7.exe ps\n",
    "echo \"-------------\"\n",
    "DOCKER_HOST=127.0.0.1:2400 /d/z/bin/DOCKER/win64/docker.1.7.exe version\n",
    "#%lsmagic   "
   ]
  },
  {
   "cell_type": "markdown",
   "metadata": {
    "slideshow": {
     "slide_type": "slide"
    }
   },
   "source": [
    "### Markdown - Embedded code"
   ]
  },
  {
   "cell_type": "markdown",
   "metadata": {
    "slideshow": {
     "slide_type": "fragment"
    }
   },
   "source": [
    "# You can embed code meant for illustration:\n",
    "```python\n",
    "def f(x):\n",
    "    \"\"\"a docstring\"\"\"\n",
    "    return x**2\n",
    "```\n",
    "\n",
    "or other languages: (change this to Perl)\n",
    "```perl\n",
    "if (i=0; i<n; i++) {\n",
    "  printf(\"hello %d\\n\", i);\n",
    "  $x += 4;\n",
    "}\n",
    "```"
   ]
  },
  {
   "cell_type": "markdown",
   "metadata": {
    "slideshow": {
     "slide_type": "subslide"
    }
   },
   "source": [
    "# Syntax highlighting is available for:\n",
    "\n",
    "<pre>\n",
    "apl           django   go            jinja2      ntriples    q       smalltalk    tom\n",
    "asterisk      dtd      groovy        julia       octave      r       smarty       turtle\n",
    "clike         dylan    haml          less        pascal      rpm     smartymixed  vb\n",
    "clojure       ecl      haskell       livescript  pegjs       rst     solr         vbscript\n",
    "cobol         eiffel   haxe          lua         perl        ruby    sparql       velocity\n",
    "coffeescript  erlang   htmlembedded  markdown    php         rust    sql          verilog\n",
    "commonlisp    fortran  htmlmixed                 pig         sass    stex         xml\n",
    "css           gas      http          mirc        properties  scheme  tcl          xquery\n",
    "d             gfm      jade          mllike      puppet      shell   tiddlywiki   yaml\n",
    "diff          gherkin  javascript    nginx       python      sieve   tiki         z80\n",
    "</pre>"
   ]
  },
  {
   "cell_type": "markdown",
   "metadata": {
    "slideshow": {
     "slide_type": "slide"
    }
   },
   "source": [
    "## IPython/Jupyter - History\n",
    "### It's the protocol stupid !!\n",
    "The Jupyter Project was announced at SciPy in July 2014.\n",
    "This is lLargely a repackaging of the formerly monolithic IPython code, so\n",
    "- IPython is just one of many kernels\n",
    "- Jupyter is the notebook front-end (one of many?)\n",
    "<img src=\"images/IPython_Architecture2.png\" width=600/>"
   ]
  },
  {
   "cell_type": "markdown",
   "metadata": {
    "slideshow": {
     "slide_type": "subslide"
    }
   },
   "source": [
    "### Time for some *real* Jupyter examples - R Kernel\n",
    "- [R notebook](http://localhost:8888/notebooks/PRESENTATIONS/docker-demo-images-notebooks/Welcome%20R%20%20-%20demo.ipynb)\n",
    "- [Coursera MOOC - Exploratory Data Analysis](http://localhost:8888/notebooks/MOOCs/MOOC_Coursera_DataScience_4_ExploratoryDataAnalysis.ipynb)\n",
    "- [Edx MOOC - Scalable Machine Learning]\n"
   ]
  },
  {
   "cell_type": "markdown",
   "metadata": {
    "slideshow": {
     "slide_type": "slide"
    }
   },
   "source": [
    "# Back to the IPython kernel\n"
   ]
  },
  {
   "cell_type": "markdown",
   "metadata": {
    "slideshow": {
     "slide_type": "fragment"
    }
   },
   "source": [
    "### Markup - HTML Tables\n",
    "\n",
    "First Header  | Second Header\n",
    "------------- | ------------\n",
    "Content Cell  | Content Cell\n",
    "Content Cell  | Content Cell"
   ]
  },
  {
   "cell_type": "markdown",
   "metadata": {
    "slideshow": {
     "slide_type": "fragment"
    }
   },
   "source": [
    "Left-Align  | Center-Align | Right-Align\n",
    ":------------ |:---------------:| -----:\n",
    "col 3 is      | some wordy text | $1600\n",
    "col 2 is      | centered       |   $12\n",
    "zebra stripes | are neat        |    $1"
   ]
  },
  {
   "cell_type": "markdown",
   "metadata": {
    "slideshow": {
     "slide_type": "subslide"
    }
   },
   "source": [
    "# Themed syntax-highlighting - extension\n",
    "- https://github.com/merqurio/jupyter_themes"
   ]
  },
  {
   "cell_type": "markdown",
   "metadata": {
    "slideshow": {
     "slide_type": "slide"
    }
   },
   "source": [
    "### Markdown - including images\n",
    "\n",
    "![It doesn't matter what you write here](http://upload.wikimedia.org/wikipedia/commons/thumb/b/b7/South_African_Giraffe,_head.jpg/877px-South_African_Giraffe,_head.jpg \"Picture of a Giraffe\")\n"
   ]
  },
  {
   "cell_type": "markdown",
   "metadata": {
    "slideshow": {
     "slide_type": "subslide"
    }
   },
   "source": [
    "### Markdown - referring to images\n",
    "![][giraffe]\n",
    "![][giraffe]\n",
    "\n",
    "[giraffe]:http://upload.wikimedia.org/wikipedia/commons/thumb/b/b7/South_African_Giraffe,_head.jpg/877px-South_African_Giraffe,_head.jpg \"Picture of a Giraffe\""
   ]
  },
  {
   "cell_type": "markdown",
   "metadata": {
    "slideshow": {
     "slide_type": "subslide"
    }
   },
   "source": [
    "# Small\n",
    "But if you want a small giraffe, you'll still have to do\n",
    "```html\n",
    "<a href=\"url\"><img src=\"http://upload.wikimedia.org/wikipedia/commons/thumb/b/b7/South_African_Giraffe,_head.jpg/877px-South_African_Giraffe,_head.jpg\" align=\"left\" height=\"192\" width=\"192\" ></a>\n",
    "```\n",
    "<a href=\"url\"><img src=\"http://upload.wikimedia.org/wikipedia/commons/thumb/b/b7/South_African_Giraffe,_head.jpg/877px-South_African_Giraffe,_head.jpg\" align=\"left\" height=\"192\" width=\"192\" ></a>"
   ]
  },
  {
   "cell_type": "markdown",
   "metadata": {
    "slideshow": {
     "slide_type": "slide"
    }
   },
   "source": [
    "### Markdown - LaTeX via MathJax.js\n",
    "The following in markdown <pre> $e^x=\\sum_{i=0}^\\infty \\frac{1}{i!}x^i$ </pre> renders inline **$e^x=\\sum_{i=0}^\\infty \\frac{1}{i!}x^i$**,   whereas this <pre> $$F(k) = \\int_{-\\infty}^{\\infty} f(x) e^{2\\pi i k} dx$$ </pre> renders **$$F(k) = \\int_{-\\infty}^{\\infty} f(x) e^{2\\pi i k} dx$$**\n",
    "\n",
    "See [Martin Keefe's MathJax1 reference](http://martinkeefe.com/math/mathjax1)\n",
    "\n",
    "<!-- Other: $2x+3y=z$,  $e^{i\\pi} + 1 = 0$,   $e^x=\\sum_{i=0}^\\infty \\frac{1}{i!}x^i$ -->\n"
   ]
  },
  {
   "cell_type": "markdown",
   "metadata": {
    "slideshow": {
     "slide_type": "subslide"
    }
   },
   "source": [
    "### Symbolic processing via Sympy\n",
    "###### examples courtesy of:\n",
    "https://github.com/jupyter/ngcm-tutorial/blob/master/Day-1/IPython%20Kernel/SymPy.ipynb"
   ]
  },
  {
   "cell_type": "code",
   "execution_count": 122,
   "metadata": {
    "collapsed": true,
    "slideshow": {
     "slide_type": "fragment"
    }
   },
   "outputs": [],
   "source": [
    "from IPython.display import display\n",
    "\n",
    "from sympy.interactive import printing\n",
    "printing.init_printing(use_latex='mathjax')\n",
    "\n",
    "from __future__ import division\n",
    "import sympy as sym\n",
    "from sympy import *\n",
    "x, y, z = symbols(\"x y z\")\n",
    "k, m, n = symbols(\"k m n\", integer=True)\n",
    "f, g, h = map(Function, 'fgh')"
   ]
  },
  {
   "cell_type": "code",
   "execution_count": 123,
   "metadata": {
    "collapsed": false,
    "slideshow": {
     "slide_type": "subslide"
    }
   },
   "outputs": [
    {
     "data": {
      "text/plain": [
       "3*pi/2 + exp(I*x)/(x**2 + y)"
      ]
     },
     "execution_count": 123,
     "metadata": {},
     "output_type": "execute_result"
    }
   ],
   "source": [
    "Rational(3,2)*pi + exp(I*x) / (x**2 + y)"
   ]
  },
  {
   "cell_type": "code",
   "execution_count": null,
   "metadata": {
    "collapsed": true,
    "slideshow": {
     "slide_type": "fragment"
    }
   },
   "outputs": [],
   "source": [
    "exp(I*x).subs(x,pi).evalf()"
   ]
  },
  {
   "cell_type": "code",
   "execution_count": 124,
   "metadata": {
    "collapsed": true,
    "slideshow": {
     "slide_type": "subslide"
    }
   },
   "outputs": [],
   "source": [
    "e = x + 2*y"
   ]
  },
  {
   "cell_type": "code",
   "execution_count": 125,
   "metadata": {
    "collapsed": false,
    "slideshow": {
     "slide_type": "fragment"
    }
   },
   "outputs": [
    {
     "data": {
      "text/plain": [
       "\"Add(Symbol('x'), Mul(Integer(2), Symbol('y')))\""
      ]
     },
     "execution_count": 125,
     "metadata": {},
     "output_type": "execute_result"
    }
   ],
   "source": [
    "srepr(e)"
   ]
  },
  {
   "cell_type": "code",
   "execution_count": null,
   "metadata": {
    "collapsed": true,
    "slideshow": {
     "slide_type": "skip"
    }
   },
   "outputs": [],
   "source": [
    "exp(pi * sqrt(163)).evalf(50)"
   ]
  },
  {
   "cell_type": "markdown",
   "metadata": {
    "slideshow": {
     "slide_type": "subslide"
    }
   },
   "source": [
    "### Sympy - Algebra: expand eqns"
   ]
  },
  {
   "cell_type": "code",
   "execution_count": 126,
   "metadata": {
    "collapsed": false,
    "slideshow": {
     "slide_type": "fragment"
    }
   },
   "outputs": [
    {
     "data": {
      "text/plain": [
       "(x + 1)*(x + y)**2"
      ]
     },
     "execution_count": 126,
     "metadata": {},
     "output_type": "execute_result"
    }
   ],
   "source": [
    "eq = ((x+y)**2 * (x+1))\n",
    "eq"
   ]
  },
  {
   "cell_type": "code",
   "execution_count": 127,
   "metadata": {
    "collapsed": false,
    "slideshow": {
     "slide_type": "fragment"
    }
   },
   "outputs": [
    {
     "data": {
      "text/plain": [
       "x**3 + 2*x**2*y + x**2 + x*y**2 + 2*x*y + y**2"
      ]
     },
     "execution_count": 127,
     "metadata": {},
     "output_type": "execute_result"
    }
   ],
   "source": [
    "expand(eq)"
   ]
  },
  {
   "cell_type": "markdown",
   "metadata": {
    "slideshow": {
     "slide_type": "subslide"
    }
   },
   "source": [
    "### Sympy - simplify eqns"
   ]
  },
  {
   "cell_type": "code",
   "execution_count": 129,
   "metadata": {
    "collapsed": false,
    "slideshow": {
     "slide_type": "fragment"
    }
   },
   "outputs": [
    {
     "data": {
      "text/plain": [
       "(x*sin(x) - 1)/x + 1/x"
      ]
     },
     "execution_count": 129,
     "metadata": {},
     "output_type": "execute_result"
    }
   ],
   "source": [
    "a = 1/x + (x*sin(x) - 1)/x\n",
    "a"
   ]
  },
  {
   "cell_type": "code",
   "execution_count": 130,
   "metadata": {
    "collapsed": false,
    "slideshow": {
     "slide_type": "fragment"
    }
   },
   "outputs": [
    {
     "data": {
      "text/plain": [
       "sin(x)"
      ]
     },
     "execution_count": 130,
     "metadata": {},
     "output_type": "execute_result"
    }
   ],
   "source": [
    "simplify(a)"
   ]
  },
  {
   "cell_type": "markdown",
   "metadata": {},
   "source": [
    "### Sympy - solve eqns"
   ]
  },
  {
   "cell_type": "code",
   "execution_count": 131,
   "metadata": {
    "collapsed": false,
    "slideshow": {
     "slide_type": "subslide"
    }
   },
   "outputs": [
    {
     "data": {
      "text/plain": [
       "x**3 + 2*x**2 + 4*x + 8 == 0"
      ]
     },
     "execution_count": 131,
     "metadata": {},
     "output_type": "execute_result"
    }
   ],
   "source": [
    "eq = Eq(x**3 + 2*x**2 + 4*x + 8, 0)\n",
    "eq"
   ]
  },
  {
   "cell_type": "code",
   "execution_count": 132,
   "metadata": {
    "collapsed": false,
    "slideshow": {
     "slide_type": "subslide"
    }
   },
   "outputs": [
    {
     "data": {
      "text/plain": [
       "[-2, -2*I, 2*I]"
      ]
     },
     "execution_count": 132,
     "metadata": {},
     "output_type": "execute_result"
    }
   ],
   "source": [
    "solve(eq, x)"
   ]
  },
  {
   "cell_type": "code",
   "execution_count": null,
   "metadata": {
    "collapsed": false,
    "slideshow": {
     "slide_type": "skip"
    }
   },
   "outputs": [],
   "source": [
    "a, b = symbols('a b')\n",
    "Sum(6*n**2 + 2**n, (n, a, b))"
   ]
  },
  {
   "cell_type": "markdown",
   "metadata": {
    "slideshow": {
     "slide_type": "subslide"
    }
   },
   "source": [
    "### Sympy - Calculus"
   ]
  },
  {
   "cell_type": "code",
   "execution_count": 133,
   "metadata": {
    "collapsed": false,
    "slideshow": {
     "slide_type": "subslide"
    }
   },
   "outputs": [
    {
     "data": {
      "text/plain": [
       "-1/6"
      ]
     },
     "execution_count": 133,
     "metadata": {},
     "output_type": "execute_result"
    }
   ],
   "source": [
    "# Let's find the limit as x -> infinity\n",
    "limit((sin(x)-x)/x**3, x, 0)"
   ]
  },
  {
   "cell_type": "code",
   "execution_count": 134,
   "metadata": {
    "collapsed": false,
    "slideshow": {
     "slide_type": "subslide"
    }
   },
   "outputs": [
    {
     "data": {
      "text/plain": [
       "1 + x**2/2 + 5*x**4/24 + O(x**6)"
      ]
     },
     "execution_count": 134,
     "metadata": {},
     "output_type": "execute_result"
    }
   ],
   "source": [
    "# Let's see the series up to the x**6\n",
    "(1/cos(x)).series(x, 0, 6)"
   ]
  },
  {
   "cell_type": "code",
   "execution_count": 135,
   "metadata": {
    "collapsed": false,
    "slideshow": {
     "slide_type": "subslide"
    }
   },
   "outputs": [
    {
     "data": {
      "text/plain": [
       "-4*x*sin(x**2)*cos(x**2)/(x + 1) - cos(x**2)**2/(x + 1)**2"
      ]
     },
     "execution_count": 135,
     "metadata": {},
     "output_type": "execute_result"
    }
   ],
   "source": [
    "# Differentiate\n",
    "diff(cos(x**2)**2 / (1+x), x)"
   ]
  },
  {
   "cell_type": "code",
   "execution_count": 136,
   "metadata": {
    "collapsed": false,
    "slideshow": {
     "slide_type": "subslide"
    }
   },
   "outputs": [
    {
     "data": {
      "text/plain": [
       "-2 + pi**2/4"
      ]
     },
     "execution_count": 136,
     "metadata": {},
     "output_type": "execute_result"
    }
   ],
   "source": [
    "# Integrate\n",
    "integrate(x**2 * cos(x), (x, 0, pi/2))"
   ]
  },
  {
   "cell_type": "code",
   "execution_count": 137,
   "metadata": {
    "collapsed": false,
    "slideshow": {
     "slide_type": "subslide"
    }
   },
   "outputs": [
    {
     "data": {
      "text/plain": [
       "9*f(x) + Derivative(f(x), x, x) == 1"
      ]
     },
     "metadata": {},
     "output_type": "display_data"
    },
    {
     "data": {
      "text/plain": [
       "f(x) == C1*sin(3*x) + C2*cos(3*x) + 1/9"
      ]
     },
     "execution_count": 137,
     "metadata": {},
     "output_type": "execute_result"
    }
   ],
   "source": [
    "eqn = Eq(Derivative(f(x),x,x) + 9*f(x), 1)\n",
    "display(eqn)\n",
    "dsolve(eqn, f(x))"
   ]
  },
  {
   "cell_type": "markdown",
   "metadata": {
    "slideshow": {
     "slide_type": "subslide"
    }
   },
   "source": [
    "### Sympy - Illustrating the Taylor Series"
   ]
  },
  {
   "cell_type": "code",
   "execution_count": 138,
   "metadata": {
    "collapsed": true,
    "slideshow": {
     "slide_type": "fragment"
    }
   },
   "outputs": [],
   "source": [
    "%matplotlib inline\n",
    "import numpy as np\n",
    "import matplotlib.pyplot as plt\n",
    "\n",
    "# You can change the default figure size to be a bit larger if you want,\n",
    "# uncomment the next line for that:\n",
    "#plt.rc('figure', figsize=(10, 6))"
   ]
  },
  {
   "cell_type": "code",
   "execution_count": 139,
   "metadata": {
    "collapsed": true,
    "slideshow": {
     "slide_type": "subslide"
    }
   },
   "outputs": [],
   "source": [
    "def plot_taylor_approximations(func, x0=None, orders=(2, 4), xrange=(0,1), yrange=None, npts=200):\n",
    "    \"\"\"Plot the Taylor series approximations to a function at various orders.\n",
    "\n",
    "    Parameters\n",
    "    ----------\n",
    "    func : a sympy function\n",
    "    x0 : float\n",
    "      Origin of the Taylor series expansion.  If not given, x0=xrange[0].\n",
    "    orders : list\n",
    "      List of integers with the orders of Taylor series to show.  Default is (2, 4).\n",
    "    xrange : 2-tuple or array.\n",
    "      Either an (xmin, xmax) tuple indicating the x range for the plot (default is (0, 1)),\n",
    "      or the actual array of values to use.\n",
    "    yrange : 2-tuple\n",
    "      (ymin, ymax) tuple indicating the y range for the plot.  If not given,\n",
    "      the full range of values will be automatically used. \n",
    "    npts : int\n",
    "      Number of points to sample the x range with.  Default is 200.\n",
    "    \"\"\"\n",
    "    if not callable(func):\n",
    "        raise ValueError('func must be callable')\n",
    "    if isinstance(xrange, (list, tuple)):\n",
    "        x = np.linspace(float(xrange[0]), float(xrange[1]), npts)\n",
    "    else:\n",
    "        x = xrange\n",
    "    if x0 is None: x0 = x[0]\n",
    "    xs = sym.Symbol('x')\n",
    "    # Make a numpy-callable form of the original function for plotting\n",
    "    fx = func(xs)\n",
    "    f = sym.lambdify(xs, fx, modules=['numpy'])\n",
    "    # We could use latex(fx) instead of str(), but matploblib gets confused\n",
    "    # with some of the (valid) latex constructs sympy emits.  So we play it safe.\n",
    "    plt.plot(x, f(x), label=str(fx), lw=2)\n",
    "    # Build the Taylor approximations, plotting as we go\n",
    "    apps = {}\n",
    "    for order in orders:\n",
    "        app = fx.series(xs, x0, n=order).removeO()\n",
    "        apps[order] = app\n",
    "        # Must be careful here: if the approximation is a constant, we can't\n",
    "        # blindly use lambdify as it won't do the right thing.  In that case, \n",
    "        # evaluate the number as a float and fill the y array with that value.\n",
    "        if isinstance(app, sym.numbers.Number):\n",
    "            y = np.zeros_like(x)\n",
    "            y.fill(app.evalf())\n",
    "        else:\n",
    "            fa = sym.lambdify(xs, app, modules=['numpy'])\n",
    "            y = fa(x)\n",
    "        tex = sym.latex(app).replace('$', '')\n",
    "        plt.plot(x, y, label=r'$n=%s:\\, %s$' % (order, tex) )\n",
    "        \n",
    "    # Plot refinements\n",
    "    if yrange is not None:\n",
    "        plt.ylim(*yrange)\n",
    "    plt.grid()\n",
    "    plt.legend(loc='best').get_frame().set_alpha(0.8)"
   ]
  },
  {
   "cell_type": "markdown",
   "metadata": {
    "slideshow": {
     "slide_type": "subslide"
    }
   },
   "source": [
    "With this function defined we can now use it to solve any expression"
   ]
  },
  {
   "cell_type": "code",
   "execution_count": 140,
   "metadata": {
    "collapsed": false,
    "slideshow": {
     "slide_type": "fragment"
    }
   },
   "outputs": [
    {
     "data": {
      "image/png": "[encoded data removed]",
      "text/plain": [
       "<matplotlib.figure.Figure at 0x9c04cc0>"
      ]
     },
     "metadata": {},
     "output_type": "display_data"
    }
   ],
   "source": [
    "plot_taylor_approximations(sin, 0, [2, 4, 6], (0, 2*pi), (-2,2))"
   ]
  },
  {
   "cell_type": "code",
   "execution_count": 141,
   "metadata": {
    "collapsed": false,
    "slideshow": {
     "slide_type": "subslide"
    }
   },
   "outputs": [
    {
     "data": {
      "image/png": "[encoded data removed]",
      "text/plain": [
       "<matplotlib.figure.Figure at 0x5f07b00>"
      ]
     },
     "metadata": {},
     "output_type": "display_data"
    }
   ],
   "source": [
    "plot_taylor_approximations(cos, 0, [2, 4, 6], (0, 2*pi), (-2,2)) "
   ]
  },
  {
   "cell_type": "code",
   "execution_count": 142,
   "metadata": {
    "collapsed": false,
    "slideshow": {
     "slide_type": "subslide"
    }
   },
   "outputs": [],
   "source": [
    "# This shows easily how a Taylor series is useless beyond its convergence radius, illustrated by a simple function that has singularities on the real axis:"
   ]
  },
  {
   "cell_type": "code",
   "execution_count": 143,
   "metadata": {
    "collapsed": false,
    "slideshow": {
     "slide_type": "fragment"
    }
   },
   "outputs": [
    {
     "data": {
      "image/png": "[encoded data removed]",
      "text/plain": [
       "<matplotlib.figure.Figure at 0x5eddd30>"
      ]
     },
     "metadata": {},
     "output_type": "display_data"
    }
   ],
   "source": [
    "# For an expression made from elementary functions, we must first make it into\n",
    "# a callable function, the simplest way is to use the Python lambda construct.\n",
    "plot_taylor_approximations(lambda x: 1/cos(x), 0, [2,4,6], (0, 2*pi), (-5,5))"
   ]
  },
  {
   "cell_type": "markdown",
   "metadata": {
    "collapsed": false,
    "slideshow": {
     "slide_type": "slide"
    }
   },
   "source": [
    "### Plotting"
   ]
  },
  {
   "cell_type": "code",
   "execution_count": 144,
   "metadata": {
    "collapsed": false,
    "slideshow": {
     "slide_type": "fragment"
    }
   },
   "outputs": [
    {
     "data": {
      "image/png": "[encoded data removed]",
      "text/plain": [
       "<matplotlib.figure.Figure at 0x5e5b5c0>"
      ]
     },
     "metadata": {},
     "output_type": "display_data"
    }
   ],
   "source": [
    "%matplotlib inline\n",
    "\n",
    "import numpy as np\n",
    "import matplotlib.pyplot as plt\n",
    "\n",
    "x = np.linspace(0, 2*np.pi, 300)\n",
    "y = np.sin(x**2)\n",
    "plt.plot(x, y)\n",
    "plt.title(\"A little chirp\")\n",
    "fig = plt.gcf()"
   ]
  },
  {
   "cell_type": "markdown",
   "metadata": {
    "slideshow": {
     "slide_type": "subslide"
    }
   },
   "source": [
    "### Plotting with interaction"
   ]
  },
  {
   "cell_type": "code",
   "execution_count": 145,
   "metadata": {
    "collapsed": false,
    "slideshow": {
     "slide_type": "fragment"
    }
   },
   "outputs": [
    {
     "data": {
      "text/plain": [
       "None"
      ]
     },
     "metadata": {},
     "output_type": "display_data"
    },
    {
     "data": {
      "image/png": "[encoded data removed]",
      "text/plain": [
       "<matplotlib.figure.Figure at 0xb510b00>"
      ]
     },
     "metadata": {},
     "output_type": "display_data"
    }
   ],
   "source": [
    "%matplotlib inline\n",
    "import numpy as np; import matplotlib.pyplot as plt; from __future__ import print_function; from IPython.html.widgets import interact, interactive, fixed; from IPython.html import widgets\n",
    "def myplot(max1, max2):\n",
    "    x = np.linspace(0, 2*np.pi, max2); y = np.sin(max1 * x)\n",
    "    plt.plot(x, y); plt.title(\"A little chirp\")\n",
    "    fig = plt.gcf()\n",
    "interact(myplot, max1=300, max2=300);"
   ]
  },
  {
   "cell_type": "markdown",
   "metadata": {
    "slideshow": {
     "slide_type": "subslide"
    }
   },
   "source": [
    "IPython/Jupyter - History\n",
    "Guided tour - What If it was code?\n",
    "What if - we could execute the JavaScript below?"
   ]
  },
  {
   "cell_type": "code",
   "execution_count": 146,
   "metadata": {
    "collapsed": false,
    "slideshow": {
     "slide_type": "fragment"
    }
   },
   "outputs": [
    {
     "data": {
      "application/javascript": [
       "\n",
       "console.log('hi there - from Jupyter (well IPython actually)!');\n",
       "alert('hi there - the possibilities are endless - respect your DOM!!');"
      ],
      "text/plain": [
       "<IPython.core.display.Javascript object>"
      ]
     },
     "metadata": {},
     "output_type": "display_data"
    }
   ],
   "source": [
    "%%javascript\n",
    "\n",
    "console.log('hi there - from Jupyter (well IPython actually)!');\n",
    "alert('hi there - the possibilities are endless - respect your DOM!!');"
   ]
  },
  {
   "cell_type": "code",
   "execution_count": 148,
   "metadata": {
    "collapsed": false,
    "slideshow": {
     "slide_type": "subslide"
    }
   },
   "outputs": [
    {
     "data": {
      "image/svg+xml": [
       "<svg xmlns=\"http://www.w3.org/2000/svg\" xmlns:xlink=\"http://www.w3.org/1999/xlink\">\n",
       "\n",
       "    <rect height=\"110\" style=\"stroke:#ff00ff; fill: #00ffff\" width=\"110\" x=\"10\" y=\"10\">\n",
       "        <animateTransform attributeName=\"transform\" begin=\"0s\" dur=\"20s\" from=\"0 60 60\" repeatCount=\"indefinite\" to=\"360 60 60\" type=\"rotate\"/>\n",
       "    </rect>\n",
       "</svg>"
      ],
      "text/plain": [
       "<IPython.core.display.SVG object>"
      ]
     },
     "metadata": {},
     "output_type": "display_data"
    }
   ],
   "source": [
    "%%svg     <!-- svg from http://tutorials.jenkov.com/svg/svg-animation.html -->\n",
    "\n",
    "<svg xmlns=\"http://www.w3.org/2000/svg\"\n",
    "    xmlns:xlink=\"http://www.w3.org/1999/xlink\">\n",
    "\n",
    "    <rect x=\"10\" y=\"10\" height=\"110\" width=\"110\"\n",
    "         style=\"stroke:#ff00ff; fill: #00ffff\">\n",
    "        <animateTransform\n",
    "            attributeName=\"transform\"\n",
    "            begin=\"0s\"\n",
    "            dur=\"20s\"\n",
    "            type=\"rotate\"\n",
    "            from=\"0 60 60\"\n",
    "            to=\"360 60 60\"\n",
    "            repeatCount=\"indefinite\"\n",
    "        />\n",
    "    </rect>\n",
    "</svg>"
   ]
  },
  {
   "cell_type": "code",
   "execution_count": null,
   "metadata": {
    "collapsed": false,
    "slideshow": {
     "slide_type": "slide"
    }
   },
   "outputs": [],
   "source": [
    "from IPython.display import HTML\n",
    "\n",
    "s = \"\"\"<table>\n",
    "<tr>\n",
    "<th>Header 1</th>\n",
    "<th>Header 2</th>\n",
    "</tr>\n",
    "<tr>\n",
    "<td>row 1, cell 1</td>\n",
    "<td>row 1, cell 2</td>\n",
    "</tr>\n",
    "<tr>\n",
    "<td>row 2, cell 1</td>\n",
    "<td>row 2, cell 2</td>\n",
    "</tr>\n",
    "</table>\"\"\"\n",
    "\n",
    "h = HTML(s)\n",
    "display(h)"
   ]
  },
  {
   "cell_type": "code",
   "execution_count": null,
   "metadata": {
    "collapsed": false,
    "slideshow": {
     "slide_type": "slide"
    }
   },
   "outputs": [],
   "source": [
    "from IPython.display import YouTubeVideo\n",
    "YouTubeVideo(\"rl5DaFbLc60\")\n",
    "# But that's a bit small\n",
    "#YouTubeVideo?\n",
    "#YouTubeVideo(\"rl5DaFbLc60\", width=1200, height=800)"
   ]
  },
  {
   "cell_type": "code",
   "execution_count": null,
   "metadata": {
    "collapsed": false,
    "slideshow": {
     "slide_type": "subslide"
    }
   },
   "outputs": [],
   "source": [
    "from IPython.display import IFrame\n",
    "IFrame('http://mybinder.org', 800, 600)"
   ]
  },
  {
   "cell_type": "markdown",
   "metadata": {
    "slideshow": {
     "slide_type": "slide"
    }
   },
   "source": [
    "## D3 Demo"
   ]
  },
  {
   "cell_type": "code",
   "execution_count": 4,
   "metadata": {
    "collapsed": false,
    "slideshow": {
     "slide_type": "fragment"
    }
   },
   "outputs": [
    {
     "name": "stdout",
     "output_type": "stream",
     "text": [
      "Overwriting f1.template\n"
     ]
    }
   ],
   "source": [
    "%%writefile f1.template\n",
    "<!DOCTYPE html>\n",
    "<!--\n",
    "      ************************************************************************\n",
    "      *** HTML template to be embedded  in o/p cell for D3 demo **************\n",
    "      ************************************************************************    \n",
    "-->\n",
    "<html>\n",
    "    <meta http-equiv=\"Content-Type\" content=\"text/html;charset=utf-8\"/>\n",
    "    <script type=\"text/javascript\" src=\"http://mbostock.github.io/d3/talk/20111018/d3/d3.js\"></script>\n",
    "    <script type=\"text/javascript\" src=\"http://mbostock.github.io/d3/talk/20111018/d3/d3.geom.js\"></script>\n",
    "    <script type=\"text/javascript\" src=\"http://mbostock.github.io/d3/talk/20111018/d3/d3.layout.js\"></script>\n",
    "    <style type=\"text/css\">\n",
    "\n",
    "circle {\n",
    "  stroke: #000;\n",
    "  stroke-opacity: .5;\n",
    "}\n",
    "\n",
    "    </style>\n",
    "  <body>\n",
    "    <div id=\"body\">\n",
    "    <script type=\"text/javascript\">\n",
    "\n",
    "var w = {width},\n",
    "    h = {height};\n",
    "\n",
    "var nodes = d3.range({ball_count}).map(function() { return {radius: Math.random() * {rad_fac} + {rad_min}}; }),\n",
    "    color = d3.scale.category10();\n",
    "\n",
    "var force = d3.layout.force()\n",
    "    .gravity(0.1)\n",
    "    .charge(function(d, i) { return i ? 0 : -2000; })\n",
    "    .nodes(nodes)\n",
    "    .size([w, h]);\n",
    "\n",
    "var root = nodes[0];\n",
    "root.radius = 0;\n",
    "root.fixed = true;\n",
    "\n",
    "force.start();\n",
    "\n",
    "var svg = d3.select(\"#body\").append(\"svg:svg\")\n",
    "    .attr(\"width\", w)\n",
    "    .attr(\"height\", h);\n",
    "\n",
    "svg.selectAll(\"circle\")\n",
    "    .data(nodes.slice(1))\n",
    "  .enter().append(\"svg:circle\")\n",
    "    .attr(\"r\", function(d) { return d.radius - 2; })\n",
    "    .style(\"fill\", function(d, i) { return color(i % {color_count}); });\n",
    "\n",
    "force.on(\"tick\", function(e) {\n",
    "  var q = d3.geom.quadtree(nodes),\n",
    "      i = 0,\n",
    "      n = nodes.length;\n",
    "\n",
    "  while (++i < n) {\n",
    "    q.visit(collide(nodes[i]));\n",
    "  }\n",
    "\n",
    "  svg.selectAll(\"circle\")\n",
    "      .attr(\"cx\", function(d) { return d.x; })\n",
    "      .attr(\"cy\", function(d) { return d.y; });\n",
    "});\n",
    "\n",
    "svg.on(\"mousemove\", function() {\n",
    "  var p1 = d3.svg.mouse(this);\n",
    "  root.px = p1[0];\n",
    "  root.py = p1[1];\n",
    "  force.resume();\n",
    "});\n",
    "\n",
    "function collide(node) {\n",
    "  var r = node.radius + 16,\n",
    "      nx1 = node.x - r,\n",
    "      nx2 = node.x + r,\n",
    "      ny1 = node.y - r,\n",
    "      ny2 = node.y + r;\n",
    "  return function(quad, x1, y1, x2, y2) {\n",
    "    if (quad.point && (quad.point !== node)) {\n",
    "      var x = node.x - quad.point.x,\n",
    "          y = node.y - quad.point.y,\n",
    "          l = Math.sqrt(x * x + y * y),\n",
    "          r = node.radius + quad.point.radius;\n",
    "      if (l < r) {\n",
    "        l = (l - r) / l * .5;\n",
    "        node.x -= x *= l;\n",
    "        node.y -= y *= l;\n",
    "        quad.point.x += x;\n",
    "        quad.point.y += y;\n",
    "      }\n",
    "    }\n",
    "    return x1 > nx2\n",
    "        || x2 < nx1\n",
    "        || y1 > ny2\n",
    "        || y2 < ny1;\n",
    "  };\n",
    "}\n",
    "\n",
    "    </script>\n",
    "  </body>\n",
    "</html>"
   ]
  },
  {
   "cell_type": "code",
   "execution_count": 5,
   "metadata": {
    "collapsed": true,
    "slideshow": {
     "slide_type": "subslide"
    }
   },
   "outputs": [],
   "source": [
    "from IPython.display import display\n",
    "from IPython.display import HTML\n",
    "import IPython.core.display as di # Example: di.display_html('<h3>%s:</h3>' % str, raw=True)\n",
    "\n",
    "# This code is to embed the above html template\n",
    "\n",
    "from IPython.display import IFrame\n",
    "import re\n",
    "\n",
    "def replace_all(txt,d):\n",
    "    rep = dict((re.escape('{'+k+'}'), str(v)) for k, v in d.items())\n",
    "    pattern = re.compile(\"|\".join(rep.keys()))\n",
    "    return pattern.sub(lambda m: rep[re.escape(m.group(0))], txt)    \n",
    "\n",
    "count=0\n",
    "def serve_html(s,w,h):\n",
    "    import os\n",
    "    global count\n",
    "    count+=1\n",
    "    fn= '__tmp'+str(os.getpid())+'_'+str(count)+'.html'\n",
    "    with open(fn,'w') as f:\n",
    "        f.write(s)\n",
    "    return IFrame('files/'+fn,w,h)\n",
    "\n",
    "def f1(w=500,h=400,ball_count=150,rad_min=2,rad_fac=11,color_count=3):\n",
    "    d={\n",
    "       'width'      :w,\n",
    "       'height'     :h,\n",
    "       'ball_count' :ball_count,\n",
    "       'rad_min'    :rad_min,\n",
    "       'rad_fac'    :rad_fac,\n",
    "       'color_count':color_count\n",
    "       }\n",
    "    with open('f1.template','r') as f:\n",
    "        s=f.read()\n",
    "    s= replace_all(s,d)        \n",
    "    return serve_html(s,w+30,h+30)"
   ]
  },
  {
   "cell_type": "code",
   "execution_count": 6,
   "metadata": {
    "collapsed": false,
    "slideshow": {
     "slide_type": "subslide"
    }
   },
   "outputs": [
    {
     "data": {
      "text/html": [
       "<script>jQuery(function() {if (jQuery(\"body.notebook_app\").length == 0) { jQuery(\".input_area\").toggle(); jQuery(\".prompt\").toggle();}});</script>"
      ]
     },
     "metadata": {},
     "output_type": "display_data"
    },
    {
     "data": {
      "text/html": [
       "<button onclick=\"jQuery('.input_area').toggle(); jQuery('.prompt').toggle();\">Toggle code</button>"
      ]
     },
     "metadata": {},
     "output_type": "display_data"
    },
    {
     "data": {
      "text/html": [
       "\n",
       "        <iframe\n",
       "            width=\"830\"\n",
       "            height=\"430\"\n",
       "            src=\"files/__tmp49900_1.html\"\n",
       "            frameborder=\"0\"\n",
       "            allowfullscreen\n",
       "        ></iframe>\n",
       "        "
      ],
      "text/plain": [
       "<IPython.lib.display.IFrame at 0x5c3e2e8>"
      ]
     },
     "execution_count": 6,
     "metadata": {},
     "output_type": "execute_result"
    }
   ],
   "source": [
    "from IPython.display import display\n",
    "from IPython.display import HTML\n",
    "import IPython.core.display as di # Example: di.display_html('<h3>%s:</h3>' % str, raw=True)\n",
    "\n",
    "# This line will hide code by default when the notebook is exported as HTML\n",
    "di.display_html('<script>jQuery(function() {if (jQuery(\"body.notebook_app\").length == 0) { jQuery(\".input_area\").toggle(); jQuery(\".prompt\").toggle();}});</script>', raw=True)\n",
    "  \n",
    "# This line will add a button to toggle visibility of code blocks, for use with the HTML export version\n",
    "di.display_html('''<button onclick=\"jQuery('.input_area').toggle(); jQuery('.prompt').toggle();\">Toggle code</button>''', raw=True)\n",
    "\n",
    "# The demo code ....\n",
    "f1(ball_count=100, color_count=17, rad_fac=10, rad_min=3, w=800)"
   ]
  },
  {
   "cell_type": "markdown",
   "metadata": {
    "slideshow": {
     "slide_type": "slide"
    }
   },
   "source": [
    "# IPython/Jupyter\n",
    "\n",
    "## what they are, how they’re used?\n",
    "* Growing eco-system\n",
    "* Data Scientists\n",
    "* Presentations\n",
    "* Blogging\n",
    "* Publishing\n",
    "* Education\n",
    "\n"
   ]
  },
  {
   "cell_type": "markdown",
   "metadata": {
    "slideshow": {
     "slide_type": "subslide"
    }
   },
   "source": [
    "# Ecosystem\n",
    "\n",
    "Openness enabling ecosystem (and even competition?)\n",
    "<br/>Sponsors\n",
    "\n",
    "* Colab/Google -> JupyterDrive\n",
    "* Rackspace: Hosting nbviewer\n",
    "* Microsoft: Azure Hosting / VStudio Tools\n",
    "* github: Rendering\n",
    "* Authorea\n",
    "* Quantopian\n",
    "* O'Reilly\n",
    "* IBM\n",
    "  - Contributing\n",
    "  - BlueMix"
   ]
  },
  {
   "cell_type": "markdown",
   "metadata": {
    "slideshow": {
     "slide_type": "subslide"
    }
   },
   "source": [
    "### Competition\n",
    "* Apache Zeppelin (incubating) - Scala is default language, but polyglot\n",
    "* Lots of commercial products - you tell me\n",
    "  * Mathlab (+/-)\n",
    "  * Sage\n",
    "  * ...\n",
    "  "
   ]
  },
  {
   "cell_type": "markdown",
   "metadata": {
    "slideshow": {
     "slide_type": "subslide"
    }
   },
   "source": [
    "### Contributing\n",
    "\n",
    "* repos ..\n",
    "    * core projects\n",
    "        * Low hanging fruit [search on github](https://github.com/search?utf8=%E2%9C%93&q=is%3Aopen+is%3Aissue+is%3Asprint-friendly+user%3Aipython+user%3Ajupyer+user%3Aphosphorjs+user%3Anteract)\n",
    "    * [Extensions](https://github.com/ipython-contrib/IPython-notebook-extensions)\n",
    "    * kernels\n",
    "* notebooks ..\n",
    "* blogging ..\n",
    "* testing ...\n",
    "* evangelising\n",
    "    * pyconfr\n",
    "    * mixit\n",
    "    * ...\n",
    "    "
   ]
  },
  {
   "cell_type": "markdown",
   "metadata": {
    "slideshow": {
     "slide_type": "subslide"
    }
   },
   "source": [
    "## References\n",
    "* Jupyter.org\n",
    "* TryJupyter.org\n",
    "* github.com/IPython, github.com/Jupyter\n",
    "* Jupyter Blog\n",
    "* Read the docs\n",
    "* Kernels\n",
    "* Google Groups\n",
    "* Tutorials:\n",
    "    * ipython-in-depth (youtube) (github)\n",
    "    * ...\n",
    "    * ...\n",
    "* Apache Zeppelin (competitor)  (youtube) (github)"
   ]
  },
  {
   "cell_type": "markdown",
   "metadata": {
    "slideshow": {
     "slide_type": "subslide"
    }
   },
   "source": [
    "### IPython/Jupyter - usage - Stocks Analysis (Quantopian)\n",
    "\n",
    "[quantopian](https://www.quantopian.com/research/survey)\n",
    "\n"
   ]
  },
  {
   "cell_type": "markdown",
   "metadata": {
    "slideshow": {
     "slide_type": "slide"
    }
   },
   "source": [
    "### IPython/Jupyter - usage - Nature Publication"
   ]
  },
  {
   "cell_type": "code",
   "execution_count": 151,
   "metadata": {
    "collapsed": false,
    "slideshow": {
     "slide_type": "fragment"
    }
   },
   "outputs": [
    {
     "data": {
      "text/html": [
       "\n",
       "        <iframe\n",
       "            width=\"800\"\n",
       "            height=\"600\"\n",
       "            src=\"http://www.nature.com/news/interactive-notebooks-sharing-the-code-1.16261\"\n",
       "            frameborder=\"0\"\n",
       "            allowfullscreen\n",
       "        ></iframe>\n",
       "        "
      ],
      "text/plain": [
       "<IPython.lib.display.IFrame at 0xb534b70>"
      ]
     },
     "execution_count": 151,
     "metadata": {},
     "output_type": "execute_result"
    }
   ],
   "source": [
    "from IPython.display import IFrame\n",
    "IFrame('http://www.nature.com/news/interactive-notebooks-sharing-the-code-1.16261', 800, 600)"
   ]
  },
  {
   "cell_type": "markdown",
   "metadata": {
    "slideshow": {
     "slide_type": "slide"
    }
   },
   "source": [
    "### IPython/Jupyter - usage - Galleries of Notebooks\n"
   ]
  },
  {
   "cell_type": "markdown",
   "metadata": {
    "collapsed": false,
    "slideshow": {
     "slide_type": "fragment"
    }
   },
   "source": [
    "[IPython Gallery](https://github.com/ipython/ipython/wiki/A-gallery-of-interesting-IPython-Notebooks) - rendered by github\n",
    "<br/>\n",
    "[nbviewer.ipython.org](http://nbviewer.ipython.org/)\n",
    "<br/>\n",
    "[try.jupyter.org](https://try.jupyter.org/)\n",
    "\n",
    "<!-- from IPython.display import IFrame\n",
    "IFrame('https://github.com/ipython/ipython/wiki/A-gallery-of-interesting-IPython-Notebooks', 800, 600)-->"
   ]
  },
  {
   "cell_type": "markdown",
   "metadata": {
    "slideshow": {
     "slide_type": "slide"
    }
   },
   "source": [
    "### MOOCs using IPython / Jupyter\n",
    "\n",
    "\n",
    "MOOC | Site  | \n",
    "---- | --- | ----------\n",
    "Python, les Fondamentaux | FUN | <img src=\"images/MOOCs/MOOC_FUN_Python_images_course_small.jpg\" width=100/>\n",
    "High Perf. Computing | Coursera  | <img src=\"images/MOOCs/MOOC_Coursera_HighPerformanceComputingIma.jpg\" width=100/>\n",
    "Intro to Apache Spark | Edx  | <img src=\"images/MOOCs/MOOC_Edx_CS100.1x_Banner.jpg\" width=100/>\n",
    "Scalable Machine Learning | Edx  | <img src=\"images/MOOCs/MOOC_Edx_CS190.1x_Banner.jpg\" width=100/>\n",
    "Algorithms for DNA Sequencing | Coursera | <img src=\"images/MOOCs/MOOC_genomics_algorithms.jpg\" width=100/>\n",
    "Numerical MOOC | OpenEdx.GWU | <img src=\"images/MOOCs/MOOC_OpenEdx_numericalmooc-logo-v2.png\" width=100/>\n",
    "Exploratory Data Analysis | Coursera(*) | <img src=\"images/MOOCs/MOOC_mychoice_Coursera_ExploratoryDataAnalysis.jpg\" width=100/>\n",
    "\n",
    "<!-- https://www.coursera.org/course/scicomp\n",
    "https://courses.edx.org/courses/BerkeleyX/CS100.1x/1T2015/info\n",
    "https://courses.edx.org/courses/BerkeleyX/CS190.1x/1T2015/info\n",
    "https://www.coursera.org/course/ads1\n",
    "http://openedx.seas.gwu.edu/courses/GW/MAE6286/2014_fall/info\n",
    "https://www.coursera.org/course/exdata\n",
    "https://www.france-universite-numerique-mooc.fr/courses/inria/41001S02/session02/info -->\n"
   ]
  },
  {
   "cell_type": "markdown",
   "metadata": {
    "slideshow": {
     "slide_type": "subslide"
    }
   },
   "source": [
    "### Books about IPython / Jupyter\n",
    "\n",
    "Title  | \n",
    "------------- | -------------\n",
    "<a href=\"https://www.gitbook.com/book/carreau/jupyter-book/details\">The Jupyter GitBook</a>  | <img src=\"images/Books/gitbook_jupyter-book.jpg\" width=100/>\n",
    "<a href=\"http://cyrille.rossant.net/books/\">Cyrille Rossant</a> Learning IPython for Interactive Computing & Data Visualization  | <img src=\"images/Books/PPub_Rossant_minibook.jpg\" width=100/>\n",
    "<a href=\"http://cyrille.rossant.net/books/\">Cyrille Rossant</a>  IPython Interactive Computing & Visualization Cookbook  | <img src=\"images/Books/PPub_Rossant_cookbook.jpg\" width=100/>\n",
    "\n",
    "\n",
    "\n",
    "\n",
    "\n",
    "\n",
    "\n",
    "\n",
    "\n"
   ]
  },
  {
   "cell_type": "markdown",
   "metadata": {
    "slideshow": {
     "slide_type": "subslide"
    }
   },
   "source": [
    "#### Books Integrating IPython - Springer\n",
    "Published an electronic book based on IPython notebook"
   ]
  },
  {
   "cell_type": "code",
   "execution_count": 152,
   "metadata": {
    "collapsed": false,
    "slideshow": {
     "slide_type": "fragment"
    }
   },
   "outputs": [
    {
     "data": {
      "text/html": [
       "\n",
       "        <iframe\n",
       "            width=\"800\"\n",
       "            height=\"600\"\n",
       "            src=\"http://www.springer.com/us/book/9783319013411\"\n",
       "            frameborder=\"0\"\n",
       "            allowfullscreen\n",
       "        ></iframe>\n",
       "        "
      ],
      "text/plain": [
       "<IPython.lib.display.IFrame at 0xb534940>"
      ]
     },
     "execution_count": 152,
     "metadata": {},
     "output_type": "execute_result"
    }
   ],
   "source": [
    "from IPython.display import IFrame\n",
    "IFrame('http://www.springer.com/us/book/9783319013411', 800, 600) "
   ]
  },
  {
   "cell_type": "markdown",
   "metadata": {
    "slideshow": {
     "slide_type": "subslide"
    }
   },
   "source": [
    "#### Books - Created using IPython\n",
    "OReilly - Mining the Social Web\n"
   ]
  },
  {
   "cell_type": "code",
   "execution_count": null,
   "metadata": {
    "collapsed": true,
    "slideshow": {
     "slide_type": "fragment"
    }
   },
   "outputs": [],
   "source": [
    "from IPython.display import IFrame\n",
    "IFrame('http://shop.oreilly.com/product/0636920030195.do', 800, 600)"
   ]
  },
  {
   "cell_type": "markdown",
   "metadata": {
    "slideshow": {
     "slide_type": "slide"
    }
   },
   "source": [
    "# Interaction"
   ]
  },
  {
   "cell_type": "code",
   "execution_count": 7,
   "metadata": {
    "collapsed": false,
    "slideshow": {
     "slide_type": "subslide"
    }
   },
   "outputs": [
    {
     "name": "stdout",
     "output_type": "stream",
     "text": [
      "10\n"
     ]
    },
    {
     "data": {
      "text/plain": [
       "None"
      ]
     },
     "metadata": {},
     "output_type": "display_data"
    }
   ],
   "source": [
    "from __future__ import print_function\n",
    "from IPython.html.widgets import interact, interactive, fixed\n",
    "from IPython.html import widgets\n",
    "\n",
    "def f(x):\n",
    "    print(x)\n",
    "    \n",
    "interact(f, x=10);"
   ]
  },
  {
   "cell_type": "code",
   "execution_count": 8,
   "metadata": {
    "collapsed": false,
    "slideshow": {
     "slide_type": "subslide"
    }
   },
   "outputs": [
    {
     "name": "stdout",
     "output_type": "stream",
     "text": [
      "True\n"
     ]
    },
    {
     "data": {
      "text/plain": [
       "None"
      ]
     },
     "metadata": {},
     "output_type": "display_data"
    }
   ],
   "source": [
    "interact(f, x=True); "
   ]
  },
  {
   "cell_type": "code",
   "execution_count": 9,
   "metadata": {
    "collapsed": false,
    "slideshow": {
     "slide_type": "fragment"
    }
   },
   "outputs": [
    {
     "name": "stdout",
     "output_type": "stream",
     "text": [
      "Hi there!\n"
     ]
    },
    {
     "data": {
      "text/plain": [
       "None"
      ]
     },
     "metadata": {},
     "output_type": "display_data"
    }
   ],
   "source": [
    "interact(f, x='Hi there!');"
   ]
  },
  {
   "cell_type": "code",
   "execution_count": 10,
   "metadata": {
    "collapsed": false,
    "slideshow": {
     "slide_type": "fragment"
    }
   },
   "outputs": [
    {
     "name": "stdout",
     "output_type": "stream",
     "text": [
      "True 1.0\n"
     ]
    },
    {
     "data": {
      "text/plain": [
       "None"
      ]
     },
     "metadata": {},
     "output_type": "display_data"
    }
   ],
   "source": [
    "@interact(x=True, y=1.0)\n",
    "def g(x, y):\n",
    "    print(x, y)"
   ]
  },
  {
   "cell_type": "code",
   "execution_count": 11,
   "metadata": {
    "collapsed": false,
    "slideshow": {
     "slide_type": "subslide"
    }
   },
   "outputs": [
    {
     "name": "stdout",
     "output_type": "stream",
     "text": [
      "5 20\n"
     ]
    },
    {
     "data": {
      "text/plain": [
       "None"
      ]
     },
     "metadata": {},
     "output_type": "display_data"
    }
   ],
   "source": [
    "def h(p, q):\n",
    "    print(p, q)\n",
    "    \n",
    "interact(h, p=5, q=fixed(20)); "
   ]
  },
  {
   "cell_type": "code",
   "execution_count": 12,
   "metadata": {
    "collapsed": false,
    "slideshow": {
     "slide_type": "fragment"
    }
   },
   "outputs": [
    {
     "name": "stdout",
     "output_type": "stream",
     "text": [
      "10\n"
     ]
    },
    {
     "data": {
      "text/plain": [
       "None"
      ]
     },
     "metadata": {},
     "output_type": "display_data"
    }
   ],
   "source": [
    "interact(f, x=widgets.IntSlider(min=-10,max=30,step=4,value=10));"
   ]
  },
  {
   "cell_type": "code",
   "execution_count": 13,
   "metadata": {
    "collapsed": false,
    "slideshow": {
     "slide_type": "subslide"
    }
   },
   "outputs": [
    {
     "name": "stdout",
     "output_type": "stream",
     "text": [
      "5.5\n"
     ]
    },
    {
     "data": {
      "text/plain": [
       "None"
      ]
     },
     "metadata": {},
     "output_type": "display_data"
    }
   ],
   "source": [
    "@interact(x=(0.0,20.0,0.5))\n",
    "def h(x=5.5):\n",
    "    print(x)"
   ]
  },
  {
   "cell_type": "code",
   "execution_count": 14,
   "metadata": {
    "collapsed": false,
    "slideshow": {
     "slide_type": "fragment"
    }
   },
   "outputs": [
    {
     "name": "stdout",
     "output_type": "stream",
     "text": [
      "apples\n"
     ]
    },
    {
     "data": {
      "text/plain": [
       "None"
      ]
     },
     "metadata": {},
     "output_type": "display_data"
    }
   ],
   "source": [
    "interact(f, x=('apples','oranges'));"
   ]
  },
  {
   "cell_type": "code",
   "execution_count": 15,
   "metadata": {
    "collapsed": false,
    "slideshow": {
     "slide_type": "fragment"
    }
   },
   "outputs": [
    {
     "name": "stdout",
     "output_type": "stream",
     "text": [
      "20\n"
     ]
    },
    {
     "data": {
      "text/plain": [
       "None"
      ]
     },
     "metadata": {},
     "output_type": "display_data"
    }
   ],
   "source": [
    "interact(f, x={'one': 10, 'two': 20});"
   ]
  },
  {
   "cell_type": "markdown",
   "metadata": {
    "slideshow": {
     "slide_type": "slide"
    }
   },
   "source": [
    "### We can display images\n",
    "### But what about the Code of Conduct? "
   ]
  },
  {
   "cell_type": "code",
   "execution_count": null,
   "metadata": {
    "collapsed": false,
    "slideshow": {
     "slide_type": "skip"
    }
   },
   "outputs": [],
   "source": [
    "from IPython.display import HTML\n",
    "\n",
    "s='''<h3>We can display images</h3>\n",
    "<h3> - But what about the Code of Conduct? </h3>'''\n",
    "\n",
    "display(HTML(s))"
   ]
  },
  {
   "cell_type": "code",
   "execution_count": 157,
   "metadata": {
    "collapsed": false,
    "slideshow": {
     "slide_type": "fragment"
    }
   },
   "outputs": [
    {
     "data": {
      "image/jpeg": "[encoded data removed]",
      "text/plain": [
       "<IPython.core.display.Image object>"
      ]
     },
     "execution_count": 157,
     "metadata": {
      "image/jpeg": {
       "height": 200,
       "width": 200
      }
     },
     "output_type": "execute_result"
    }
   ],
   "source": [
    "from IPython.display import Image\n",
    "Image(filename=\"../images/Ours_a_poil.jpg\", height=200, width=200)"
   ]
  }
 ],
 "metadata": {
  "celltoolbar": "Slideshow",
  "kernelspec": {
   "display_name": "Python 3",
   "language": "python",
   "name": "python3"
  },
  "language_info": {
   "codemirror_mode": {
    "name": "ipython",
    "version": 3
   },
   "file_extension": ".py",
   "mimetype": "text/x-python",
   "name": "python",
   "nbconvert_exporter": "python",
   "pygments_lexer": "ipython3",
   "version": "3.4.3"
  }
 },
 "nbformat": 4,
 "nbformat_minor": 0
}
