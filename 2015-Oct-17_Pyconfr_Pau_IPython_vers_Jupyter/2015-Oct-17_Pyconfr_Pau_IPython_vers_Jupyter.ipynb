{
 "cells": [
  {
   "cell_type": "code",
   "execution_count": 8,
   "metadata": {
    "collapsed": false,
    "slideshow": {
     "slide_type": "skip"
    }
   },
   "outputs": [
    {
     "name": "stdout",
     "output_type": "stream",
     "text": [
      "Last update: 2015-10-16 18:41:30.386505\n"
     ]
    }
   ],
   "source": [
    "import datetime\n",
    "\n",
    "print(\"Last update: \" + str(datetime.datetime.now())) "
   ]
  },
  {
   "cell_type": "markdown",
   "metadata": {
    "hideCode": true,
    "hidePrompt": false,
    "slideshow": {
     "slide_type": "slide"
    }
   },
   "source": [
    "<center> <h1>IPython ... vers Jupyter</h1>\n",
    "<br/>\n",
    "<h6>17 Oct. 2015, <a href=\"http://www.pycon.fr/2015/\"> Pyconfr - Pau </a> </h6> <h6>Michael Bright.</h6>\n",
    "<br/>\n",
    "<img src=\"images/DEMO_OpenStack_API_D3.png\" width=500 />\n",
    "<br/>\n",
    "<font size=+1>\n",
    "<i class=\"fa-github fa-2x fa\"> [mjbright](https://github.com/mjbright)</i>&nbsp;&nbsp;\n",
    "<i class=\"fa-twitter fa-2x fa\"> [@mjbright](http://twitter.com/mjbright)</i>&nbsp;&nbsp;\n",
    "<i class=\"fa-envelope fa-2x fa\"> mjbrightfr AT gmail</i>&nbsp;&nbsp;\n",
    "<i class=\"fa-user fa-2x fa\"> [mjbright.github.io](http://mjbright.github.io)</i>\n",
    "</font>\n",
    "</center>"
   ]
  },
  {
   "cell_type": "markdown",
   "metadata": {
    "slideshow": {
     "slide_type": "slide"
    }
   },
   "source": [
    "<center>\n",
    "<h1> Outline </h1>\n",
    "</center>\n",
    "\n",
    "- What are Jupyter & IPython ?\n",
    "  - IPython beginnings\n",
    "      - The console and notebook\n",
    "      - The messaging protocol and kernels\n",
    "  - Jupyter Project"
   ]
  },
  {
   "cell_type": "markdown",
   "metadata": {
    "slideshow": {
     "slide_type": "fragment"
    }
   },
   "source": [
    "- Jupyter Notebook demo"
   ]
  },
  {
   "cell_type": "markdown",
   "metadata": {
    "slideshow": {
     "slide_type": "fragment"
    }
   },
   "source": [
    "  - Ecosystem\n",
    "    - What is Jupyter being used for ?\n",
    "    - Kernels / Extensions\n",
    "    - Related Projects"
   ]
  },
  {
   "cell_type": "markdown",
   "metadata": {
    "hideCode": true,
    "hidePrompt": false,
    "slideshow": {
     "slide_type": "slide"
    }
   },
   "source": [
    "<center>\n",
    "<h1> What are Jupyter & IPython ? </h1>\n",
    "<br/>\n",
    "<br/>\n",
    "<a href=\"http://ipython.org/\"><img src=\"http://www.i-programmer.info/images/stories/News/2013/Aug/A/ipython.jpg\" border=0 height=300 width=300/></a>\n",
    "</center>"
   ]
  },
  {
   "cell_type": "markdown",
   "metadata": {
    "slideshow": {
     "slide_type": "subslide"
    }
   },
   "source": [
    "<center> <h1> IPython - the Console </h1> </center>\n",
    "\n",
    "\"*an afternoon hack*\" (Nov 2001) by Fernando Perez, to facilitate *Scientific Exploration*:\n",
    "* Individual Exploratory Analysis\n",
    "* Collaborative work\n",
    "* Publication of **reproducible results**\n",
    "* Education\n",
    "<br/>\n",
    "<center>\n",
    "<img src=\"images/IPythonConsole.png\" width=600 />IPython - console-based **REPL** (Read-Eval-Print-Loop)\n",
    "</center>"
   ]
  },
  {
   "cell_type": "markdown",
   "metadata": {
    "slideshow": {
     "slide_type": "subslide"
    }
   },
   "source": [
    "<center> <h1> The messaging protocol </h1>  \n",
    "<img src=\"images/IPython_Architecture1.png\" width=600 />\n",
    "Created in 2010, inspired by the need to support multi-processing\n",
    "<br/><br/>\n",
    "it enabled multiple front-ends for the IPython kernel\n",
    "</center>"
   ]
  },
  {
   "cell_type": "markdown",
   "metadata": {
    "slideshow": {
     "slide_type": "subslide"
    }
   },
   "source": [
    "<center> <h1> ... the protocol enables different kernels </h1>  \n",
    "<img src=\"images/IPython_Architecture2.png\" width=600/>\n",
    "<br/>\n",
    "**Note**: these are persistent kernels - \n",
    "unlike IPython **cell magics**.\n",
    "<br/>\n",
    "<br/>\n",
    "A notebook runs under one kernel\n",
    "</center>"
   ]
  },
  {
   "cell_type": "markdown",
   "metadata": {
    "slideshow": {
     "slide_type": "subslide"
    }
   },
   "source": [
    "<center> <h1> IPython - the QtConsole </h1> \n",
    "<br/><br/>\n",
    "![QtConsole](images/ExampleConsole.png)\n",
    "</center>"
   ]
  },
  {
   "cell_type": "markdown",
   "metadata": {
    "hideCode": true,
    "hidePrompt": false,
    "slideshow": {
     "slide_type": "subslide"
    }
   },
   "source": [
    "<center><h1>The Jupyter Notebook</h1></center>\n",
    "- A web application to create and share documents containing live code, equations, visualizations and explanatory text as a **(reproducible) narrative**.\n",
    "- Used across a vast number of application domains\n",
    "<img class=\"img-responsive\" src=\"images/NotebookRichOutput.png\" width=1000 />\n",
    "\n",
    "<!--\n",
    "![Notebook](images/JupyterNotebook.png) \n",
    "The Jupyter Notebook is a web application that allows you to create and share documents that contain live code, equations, visualizations and explanatory text.\n",
    "<br/>Uses include: data cleaning and transformation, numerical simulation, statistical modeling, machine learning and much more.\n",
    "<img class=\"img-responsive\" src=\"http://jupyter.org/assets/jupyterpreview.png\" width=600 />\n",
    "-->\n"
   ]
  },
  {
   "cell_type": "markdown",
   "metadata": {
    "slideshow": {
     "slide_type": "subslide"
    }
   },
   "source": [
    "<center><h1>The notebook file format (.ipynb)</h1><h6>uses JSON (JavaScript Object Notation)</h6></center>\n",
    "\n",
    "```json\n",
    "{ \"metadata\": { \"kernelspec\": {\n",
    "       \"language\": \"bash\", \"name\": \"bash\" }, },\n",
    "  \"cells\": [\n",
    "    {\n",
    "     \"cell_type\": \"code\",\n",
    "     \"source\": [ \"ls -alt /tmp/\" ],\n",
    "     \"outputs\": [ {\n",
    "       \"name\": \"stdout\",\n",
    "       \"text\": [\n",
    "          \"total 72\\r\\n\",\n",
    "          \"-rw-------  1 root root 32768 Aug 13 19:50 348\\r\\n\",\n",
    "          \"drwxrwxrwt 11 root root  4096 Aug 13 19:48 ..\\r\\n\",\n",
    "          \"drwxr-xr-x  2 root root  4096 Aug 12 14:52 .\\r\\n\",\n",
    "          \"-rw-------  1 root root 32768 Aug 12 14:52 449\\r\\n\"\n",
    "     ]\n",
    "    }\n",
    "   ]\n",
    "  }\n",
    "```"
   ]
  },
  {
   "cell_type": "markdown",
   "metadata": {
    "slideshow": {
     "slide_type": "subslide"
    }
   },
   "source": [
    "<center><h1>The Jupyter Project</h1></center>\n",
    "<br/><br/>The Jupyter Project was announced at SciPy in July 2014.\n",
    "<br/><br/>\n",
    "The **Big Split** was finalized in 2015 with the release of **Jupyter 1.0** and **IPython 4.0**.\n",
    "<table border=\"0\"><tr><td>\n",
    "<a href=\"http://jupyter.org/\"><img src=\"https://encrypted-tbn3.gstatic.com/images?q=tbn:ANd9GcSnQKaJ94EsgiFwt6RrjGxvYV_LbJKAW0KZkpM9TUuk4F28wLTbWQ\" border=0 height=100 width=200/>jupyter.org</a></td><td>\n",
    "<a href=\"http://www.splung.com/cosmology/images/galileonotebook.gif\"><img src=\"images/Gallileo_Jupiter_Moons_Notebook.png\" border=0 height=100 width=400/>Gallileos' public notebooks</a></td></tr></table><br/><br/>\n",
    "A repackaging / renaming of the formerly monolithic IPython code:\n",
    "- IPython - one of many kernels\n",
    "- Jupyter - notebook front-end\n",
    "- Facilitates use of web technologies in the notebook"
   ]
  },
  {
   "cell_type": "markdown",
   "metadata": {
    "hideCode": true,
    "hidePrompt": false,
    "slideshow": {
     "slide_type": "slide"
    }
   },
   "source": [
    "<center>\n",
    "    <h1>Jupyter Demo ! </h1>\n",
    "<br/><br/>\n",
    "    <a href=\"/tree/Presentations/2015-Oct-17_Pyconfr_Pau_IPython_vers_Jupyter/NOTEBOOKS\"> <img src=\"images/TintinEtMilou_LetsGoForATour.jpg\" width=600 /> </a>\n",
    "</center>"
   ]
  },
  {
   "cell_type": "markdown",
   "metadata": {
    "slideshow": {
     "slide_type": "notes"
    }
   },
   "source": [
    "# What is Jupyter (& IPython) ?\n",
    "#### Let's take a tour (at last!)\n",
    "\n",
    "The Jupyter [notebook interface](http://localhost:8870/tree) consists of\n",
    "- a Dashboard (File explorer, Running, Clusters)\n",
    "- a File editor\n",
    "- a Terminal\n",
    "- The notebook itself running the selected kernel, comprised of\n",
    "  - input cells: code or markdown\n",
    " ** ability to mix code, markdown and rich media allows to create a narrative **\n",
    "  - output cells: can include plots, graphics\n",
    "\n",
    "Notebooks are stored in the JSON-based .ipynb file format"
   ]
  },
  {
   "cell_type": "markdown",
   "metadata": {
    "hideCode": true,
    "hidePrompt": false,
    "slideshow": {
     "slide_type": "slide"
    }
   },
   "source": [
    "<center>\n",
    "    <h1> Installing Jupyter </h1>\n",
    "</center>\n",
    "<br/>\n",
    "For a native installation\n",
    "- Recommended: install Jupyter using the Anaconda distribution [Continuum Analytics]\n",
    "<br/>\n",
    "This provides the IPython kernel only.\n",
    "<br/>\n",
    "- or pip install jupyter\n",
    "<br/>\n",
    "<br/>\n",
    "You can then customize your config and install\n",
    "  - Kernels for other languages/environments, e.g. Anaconda's R-Essentials package\n",
    "  - Extension widgets\n",
    "  - Notebooks !!\n",
    "\n",
    "Or\n",
    "- Alternatively, several docker images are available on DockerHub (e.g. [jupyter/demo](https://hub.docker.com/r/jupyter/demo/))\n",
    "- or you can try out [try.jupyter.org](https://try.jupyter.org/)"
   ]
  },
  {
   "cell_type": "markdown",
   "metadata": {
    "hideCode": true,
    "hidePrompt": false,
    "slideshow": {
     "slide_type": "slide"
    }
   },
   "source": [
    "<center>\n",
    "    <h1> Kernels & Extensions </h1>\n",
    "</center>\n"
   ]
  },
  {
   "cell_type": "markdown",
   "metadata": {
    "slideshow": {
     "slide_type": "subslide"
    }
   },
   "source": [
    "<center><h1>Currently ~ 51 Kernels</h1>\n",
    "[[Kernels Page]](https://github.com/ipython/ipython/wiki/IPython-kernels-for-other-languages)<br/><br/>\n",
    "A Kernel represents an execution profile - typically a language<br/><br/>\n",
    "but could be combined with other capabilities such as Python + Apache Spark \n",
    "</center>\n",
    "\n",
    "||\n",
    "---- | ---\n",
    "IJulia | IHaskell | IFSharp | IRuby | IGo\n",
    "IScala | IMathics | IAldor | Calico Pro | LuaJIT/Tor\n",
    "Lua | Simple exa | IErlang | IElixir | IOCaml\n",
    "IForth | IPerl | IPerl6 | IPHP | IOctave\n",
    "IScilab | IMatlab | Bash | Clojure | Hy\n",
    "Redis | jove, a ke | IJavascrip | Calysto Sc | Calysto Pr\n",
    "idl_kernel | Mochi | Lua (used  | Spark | Skulpt Pyt\n",
    "MetaKernel | MetaKernel | Brython | IVisual VP | Brainfuck\n",
    "KDB+/Q Ker | ICryptol | C++ (cling | Xonsh | Prolog\n",
    "cl-jupyter | Maxima-Jup | Calysto LC | Java 9 |\n"
   ]
  },
  {
   "cell_type": "markdown",
   "metadata": {
    "slideshow": {
     "slide_type": "subslide"
    }
   },
   "source": [
    "<center><h1>Extension Widgets</h1>\n",
    "#### Notebook Extensions [[Extensions page]](https://carreau.gitbooks.io/jupyter-book/content/notebook-extensions.html)\n",
    "</center>\n",
    "Many customizations and extensions available,<br/><br/>some of my favourites:\n",
    "- [**RISE**](https://github.com/damianavila/RISE) - **these slides are running under Jupyter**\n",
    "- [nbgrader](https://nbgrader.readthedocs.org/en/stable/) - creation/grading of classroom assignments\n",
    "- [plotchecker](https://github.com/jhamrick/plotchecker) - grading of plots\n",
    "- metakernels\n",
    "- [hide_code](https://pypi.python.org/pypi/hide_code) - hide code cells\n",
    "- [clicker](https://athena.brynmawr.edu/jupyter/hub/dblank/public//Activity%20Magic.ipynb) - anonymous polls\n",
    "\n",
    "Generally installable via pip or from github repo"
   ]
  },
  {
   "cell_type": "markdown",
   "metadata": {
    "hideCode": true,
    "hidePrompt": false,
    "slideshow": {
     "slide_type": "slide"
    }
   },
   "source": [
    "<center>\n",
    "    <h1> The Ecosystem & Future Projects </h1>\n",
    "</center>"
   ]
  },
  {
   "cell_type": "markdown",
   "metadata": {
    "slideshow": {
     "slide_type": "subslide"
    }
   },
   "source": [
    "<center><h1>What is Jupyter being used for ?</h1></center>\n",
    "<br/>\n",
    "Professionals (science, data, financials,...)\n",
    "  - exploratory analyses, collaboration, publishing\n",
    "\n",
    "Publishers\n",
    "  - books, blogs, reports, theses\n",
    "  - executable books, articles\n",
    "    - e.g. [**Thebe** (O'Reilly)](https://www.oreilly.com/learning/introducing-pandas-objects) simplified notebook interfce\n",
    "    - Nature, Scientific American Magazines\n",
    "\n",
    "Educators\n",
    "  - tutorials, assignments, presentations, documenting\n",
    "  - MOOCs - online education:\n",
    "    - notebook-based (**Edx/Apache Spark**)\n",
    "    - jupyter-integrated (**F.U.N.**)\n",
    "  - in classrooms using JupyterHub\n",
    "</font>"
   ]
  },
  {
   "cell_type": "markdown",
   "metadata": {
    "slideshow": {
     "slide_type": "subslide"
    }
   },
   "source": [
    "<center><h1> MOOCs, e.g. F.U.N. </h1></center>\n",
    "<br/><a href=\"https://www.france-universite-numerique-mooc.fr/courses/inria/41001S02/session02/courseware/5ec24fe4d294490795d69befc8e19870/8ff1435df3c846fdb0cb42adfd11c3ab/\">\n",
    "<img src=\"images/MOOC_FUN_Jupyter_Integrated.png\" width=1400 />\n",
    "</a>"
   ]
  },
  {
   "cell_type": "markdown",
   "metadata": {
    "slideshow": {
     "slide_type": "subslide"
    }
   },
   "source": [
    "<center><h1>Jupyter Ecosystem</h1><br/>\n",
    "The \"*Big Split*\" facilitates innovation around the platform<br/><br/>\n",
    "</center>\n",
    "\n",
    "There are many ongoing projects\n",
    "- static notebook viewers:\n",
    "  - [*IPython Gallery*]() &nbsp;**-->** &nbsp;[nbviewer](http://nbviewer.org), &nbsp;[github](https://github.com)\n",
    "- dynamic notebook viewers:\n",
    "  - [tryjupyter.org](http://tryjupyter.org),&nbsp; JupyterHub,&nbsp; [Bindr](http://bindr.org),&nbsp; [Quantopian](http://quantopian.org)\n",
    "- alternative front-ends:\n",
    "  - Sidecar,&nbsp; Rodeo IDE,&nbsp; [Hydrogen (ATOM)](https://atom.io/packages/hydrogen),&nbsp; [EIN (emacs)](http://millejoh.github.io/emacs-ipython-notebook/)\n",
    "- tools\n",
    "  - nbconvert  (convert between .ipynb and other formats: PDF, html, ...)\n",
    "- kernels & extensions\n",
    "</center>"
   ]
  },
  {
   "cell_type": "markdown",
   "metadata": {
    "slideshow": {
     "slide_type": "skip"
    }
   },
   "source": [
    "# Jupyter projects - static notebook rendering\n",
    "**[IPython Gallery](https://github.com/ipython/ipython/wiki/A-gallery-of-interesting-IPython-Notebooks)**\n",
    "Has a list of interesting notebooks ... rendered on **nbviewer** or **github** ...\n",
    "\n",
    "**[nbviewer](http://nbviewer.org)** -You can upload your notebooks to nbviewer which renders them statically (the output cells you already created).\n",
    "Users can download the original notebook.\n",
    "\n",
    "**[github - (example)](https://github.com/rasbt/algorithms_in_ipython_notebooks) ** also renders notebooks statically"
   ]
  },
  {
   "cell_type": "markdown",
   "metadata": {
    "slideshow": {
     "slide_type": "skip"
    }
   },
   "source": [
    "# Jupyter projects - dynamic notebook rendering\n",
    "\n",
    "- Try Jupyter: [try.jupyter.org](https://try.jupyter.org/)\n",
    "\n",
    "- JupyterHub: multi-user environment for education\n",
    "\n",
    "- Bindr\n",
    "\n",
    "- [**Thebe** (O'Reilly)](https://www.oreilly.com/learning/introducing-pandas-objects)\n",
    "OReilly publishing - simplified notebook widget\n",
    "\n",
    "- Watakari (Continuum Analytics)\n",
    "\n",
    "- Stocks Analysis (Quantopian)\n",
    "[quantopian](https://www.quantopian.com/research/survey)\n",
    "\n",
    "- Escherpad"
   ]
  },
  {
   "cell_type": "markdown",
   "metadata": {
    "slideshow": {
     "slide_type": "slide"
    }
   },
   "source": [
    "<center><h1>Jupyter Core Projects</h1></center>\n",
    "<br/><br/><font size=+3>Basic UI enhancements: e.g. shortcuts, cell marking</font>\n",
    "<br/><br/><font size=+3>Notebook tests\n",
    "- unit testing\n",
    "- regression testing\n",
    "- dependency testing\n",
    "</font><font size=+3>\n",
    "\n",
    "Currently [incubating sub-projects](https://github.com/jupyter-incubator) (IBM, MSFT involvement)\n",
    "</font>\n",
    "  - [Content Management](https://github.com/jupyter-incubator/contentmanagement)\n",
    "    - Search, include, modularity, ToC  [ex](http://jupyter.cloudet.xyz/user/BWjC4e69eYwv/notebooks/index.ipynb)\n",
    "  - [Dashboards](https://github.com/jupyter-incubator/dashboards)\n",
    "    - Different notebook layouts, bundling as web apps [ex](http://jupyter.cloudet.xyz/user/BWjC4e69eYwv/notebooks/index.ipynb)\n",
    "  - [SparkMagic](https://github.com/jupyter-incubator/sparkmagic)\n",
    "    - Connecting to external Spark Engines\n",
    "  - [Declarative Widgets](https://github.com/jupyter-incubator/declarativewidgets)\n",
    "    - Widgets with less code [ex](http://jupyter.cloudet.xyz/user/BWjC4e69eYwv/notebooks/index.ipynb)\n",
    "  - [Kernel Gateway](https://github.com/jupyter-incubator/kernel_gateway)\n",
    "    - Enable more deployment scenarios at scale\n",
    "</font>"
   ]
  },
  {
   "cell_type": "markdown",
   "metadata": {
    "slideshow": {
     "slide_type": "slide"
    }
   },
   "source": [
    "<center><h1>IPython / Jupyter Books</h1></center>\n",
    "\n",
    "|  | \n",
    "------------- | -------------\n",
    "<a href=\"https://www.gitbook.com/book/carreau/jupyter-book/details\"><h3>The Jupyter GitBook</h3></a> <h6>Extension writing</h6> | <img src=\"images/Books/gitbook_jupyter-book.jpg\" width=180 />\n",
    "<a href=\"http://cyrille.rossant.net/books/\"><h3>Learning IPython for Interactive Computing & Data Visualization </h3> </a> Cyrille Rossant <h6> Introductory usage</h6> | <img src=\"images/Books/PPub_Rossant_minibook.jpg\" width=180 />\n",
    "<a href=\"http://cyrille.rossant.net/books/\"><h3> IPython Interactive Computing & Visualization Cookbook  </h3></a> Cyrille Rossant<h6>Advanced usage </h6>  | <img src=\"images/Books/PPub_Rossant_cookbook.jpg\" width=180 />"
   ]
  },
  {
   "cell_type": "markdown",
   "metadata": {
    "hideCode": true,
    "hidePrompt": false,
    "slideshow": {
     "slide_type": "slide"
    }
   },
   "source": [
    "<center>\n",
    "<br/><br/>\n",
    "<h3> <font color=\"#88f\"> Jupyter is a fast-moving Open Source project<br/>\n",
    "widely used for Data Analysis<br/>\n",
    "with a vibrant ecosystem ... </font></h3>\n",
    "<br/><br/><br/>\n",
    "    <h1> Questions ?</h1>\n",
    "<br/><br/><br/>\n",
    "    ![The End](images/END_sillywalk.jpg)\n",
    "    <br/>\n",
    "<font size=+1>\n",
    "<i class=\"fa-github fa-2x fa\"> [mjbright](https://github.com/mjbright)</i>&nbsp;&nbsp;\n",
    "<i class=\"fa-twitter fa-2x fa\"> [@mjbright](http://twitter.com/mjbright)</i>&nbsp;&nbsp;\n",
    "<i class=\"fa-envelope fa-2x fa\"> mjbrightfr AT gmail</i>&nbsp;&nbsp;\n",
    "<i class=\"fa-user fa-2x fa\"> [mjbright.github.io](http://mjbright.github.io)</i>\n",
    "</font>\n",
    "</center>\n"
   ]
  },
  {
   "cell_type": "markdown",
   "metadata": {
    "collapsed": true,
    "slideshow": {
     "slide_type": "fragment"
    }
   },
   "source": [
    "#  "
   ]
  },
  {
   "cell_type": "markdown",
   "metadata": {
    "slideshow": {
     "slide_type": "fragment"
    }
   },
   "source": [
    "#  "
   ]
  },
  {
   "cell_type": "markdown",
   "metadata": {
    "slideshow": {
     "slide_type": "fragment"
    }
   },
   "source": [
    "#  "
   ]
  }
 ],
 "metadata": {
  "celltoolbar": "Slideshow",
  "kernelspec": {
   "display_name": "Python 3",
   "language": "python",
   "name": "python3"
  },
  "language_info": {
   "codemirror_mode": {
    "name": "ipython",
    "version": 3
   },
   "file_extension": ".py",
   "mimetype": "text/x-python",
   "name": "python",
   "nbconvert_exporter": "python",
   "pygments_lexer": "ipython3",
   "version": "3.4.3"
  }
 },
 "nbformat": 4,
 "nbformat_minor": 0
}
